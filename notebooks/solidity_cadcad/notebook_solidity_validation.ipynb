{
 "cells": [
  {
   "cell_type": "markdown",
   "metadata": {},
   "source": [
    "### Notes:\n",
    "\n",
    "* python script stores result of the simulation in a predetermined location\n",
    "* jupyter notebook shows visualizations of the results from solidity implementation and cadCAD model and error metrics"
   ]
  },
  {
   "cell_type": "code",
   "execution_count": null,
   "metadata": {},
   "outputs": [],
   "source": [
    "from pathlib import Path\n",
    "import os\n",
    "\n",
    "path = Path().resolve()\n",
    "root_path = str(path).split('notebooks')[0]\n",
    "os.chdir(root_path)"
   ]
  },
  {
   "cell_type": "code",
   "execution_count": 1,
   "metadata": {},
   "outputs": [],
   "source": [
    "import pandas as pd\n",
    "import numpy as np\n",
    "%matplotlib inline\n",
    "import pandas as pd\n",
    "import datetime as dt\n",
    "from enum import Enum\n",
    "import csv\n",
    "\n",
    "import sys\n",
    "sys.path.append('./models')"
   ]
  },
  {
   "cell_type": "code",
   "execution_count": 2,
   "metadata": {},
   "outputs": [],
   "source": [
    "# market_price_df = pd.read_csv('./tests/data/regression_market_prices.csv')\n",
    "# market_price_df = pd.read_csv('./tests/data/market_prices.csv')\n",
    "# market_prices = market_price_df['market_price'].apply(lambda x: float(x)).to_list()\n",
    "\n",
    "import csv\n",
    "with open('./tests/data/historic_market_prices.csv', newline='') as f:\n",
    "    reader = csv.reader(f)\n",
    "    market_prices = list(reader)[0]\n",
    "    market_prices = [float(price) for price in market_prices]\n",
    "\n",
    "# with open('./tests/data/historic_market_prices.csv', 'w') as market_prices_csv:\n",
    "#     wr = csv.writer(market_prices_csv, delimiter=',')\n",
    "#     wr.writerow(market_prices)"
   ]
  },
  {
   "cell_type": "code",
   "execution_count": 3,
   "metadata": {},
   "outputs": [],
   "source": [
    "#python stores a file containing Kp, Ki and a time series of market prices \n",
    "#(an array of tuples, or two arrays, containing a timestamp and the price, \n",
    "#or the time elapsed and the price change - we can go with whatever is easier to implement on the JS side)\n",
    "\n",
    "#instead of file name being hardcoded, we could have it stored in an environment \n",
    "#variable that both python and JS read from\n",
    "Kp = 5e-7\n",
    "Ki = 3600\n",
    "    \n",
    "length = len(market_prices)\n",
    "delta_t = [3600] * length\n",
    "SIMULATION_TIMESTEPS = length - 1\n",
    "\n",
    "save_dir = \"../truffle/test/saved_sims/pi_second/raw/custom-config-sim.txt\"\n",
    "\n",
    "config_file = {\n",
    "  \"Kp\": str(int(Kp*1e18)),\n",
    "  \"Ki\": str(int(Ki*1e18)),\n",
    "  \"noise_barrier\": \"1000000000000000000\",\n",
    "  \"per_second_leak\": \"1000000000000000000000000000\",\n",
    "  \"oracle_initial_price\": \"2000000000000000000\",\n",
    "  \"initial_redemption_price\": \"2000000000000000000000000000\",\n",
    "  \"delta_t\": [str(i) for i in delta_t],\n",
    "  \"market_prices\": [str(int(i*1e18)) for i in market_prices],\n",
    "  \"save_dir\": save_dir\n",
    "}\n",
    "\n",
    "import json\n",
    "with open('./cross-model/truffle/test/config/pi_second_raw.json', 'w') as fp:\n",
    "    json.dump(config_file, fp)\n",
    "    \n",
    "config_file = {\n",
    "  \"kp\": Kp,\n",
    "  \"ki\": lambda control_period=3600: Ki/control_period,\n",
    "  \"delta_t\": delta_t,\n",
    "  \"market_prices\": market_prices,\n",
    "}"
   ]
  },
  {
   "cell_type": "code",
   "execution_count": 4,
   "metadata": {},
   "outputs": [
    {
     "data": {
      "text/plain": [
       "[2.03520968321892,\n",
       " 2.00675297061406,\n",
       " 2.02594470965992,\n",
       " 2.05147525236802,\n",
       " 1.94445601467646]"
      ]
     },
     "execution_count": 4,
     "metadata": {},
     "output_type": "execute_result"
    }
   ],
   "source": [
    "market_prices[0:5]"
   ]
  },
  {
   "cell_type": "code",
   "execution_count": 5,
   "metadata": {},
   "outputs": [
    {
     "name": "stdout",
     "output_type": "stream",
     "text": [
      "\n",
      "> geb-rrfm-truffle-sims@1.0.0 install-deps /home/stefan/Work/reflexer/cross-model/truffle\n",
      "> npm install\n",
      "\n",
      "\u001b[K\u001b[?25h\u001b[37;40mnpm\u001b[0m \u001b[0m\u001b[30;43mWARN\u001b[0m\u001b[35m\u001b[0m geb-rrfm-truffle-sims@1.0.0 No repository field.ffle-sims@1.\u001b[0m\u001b[K\n",
      "\u001b[0m\u001b[37;40mnpm\u001b[0m \u001b[0m\u001b[30;43mWARN\u001b[0m\u001b[35m\u001b[0m geb-rrfm-truffle-sims@1.0.0 license should be a valid SPDX license expression\n",
      "\u001b[0m\n",
      "\u001b[K\u001b[?25haudited 359 packages in 2.052s/ prepare:truffle: \u001b[30;43mWARN\u001b[0m geb-rrfm-truffle-sims@1.0.0 licens\u001b[0m\u001b[K[0m\u001b[K\n",
      "\n",
      "28 packages are looking for funding\n",
      "  run `npm fund` for details\n",
      "\n",
      "found 1 \u001b[1mlow\u001b[0m severity vulnerability\n",
      "  run `npm audit fix` to fix them, or `npm audit` for details\n",
      "\u001b[K\u001b[?25h7m         \u001b[27m\u001b[90m.........\u001b[0m] | prepare:truffle: \u001b[32;40mtiming\u001b[0m \u001b[35maudit body\u001b[0m Completed in 2ms\u001b[0m\u001b[K\n",
      "> geb-rrfm-truffle-sims@1.0.0 pi-raw-second-imported-config /home/stefan/Work/reflexer/cross-model/truffle\n",
      "> truffle test test/pi_raw_second_imported_config.js\n",
      "\n",
      "\n",
      "Compiling your contracts...\n",
      "===========================\n",
      "> Compiling ./cross-model/truffle/contracts/Migrations.sol\n",
      "> Compiling ./cross-model/truffle/contracts/calculator/math/SafeMath.sol\n",
      "> Compiling ./cross-model/truffle/contracts/calculator/math/SignedSafeMath.sol\n",
      "> Compiling ./cross-model/truffle/contracts/calculator/per-second/raw/PIRawPerSecondValidator.sol\n",
      "> Compiling ./cross-model/truffle/contracts/calculator/per-second/scaled/PIScaledPerSecondValidator.sol\n",
      "> Compiling ./cross-model/truffle/contracts/mock/AGUpdater.sol\n",
      "> Compiling ./cross-model/truffle/contracts/mock/MockOracleRelayer.sol\n",
      "> Compiling ./cross-model/truffle/contracts/mock/MockTreasury.sol\n",
      "> Compiling ./cross-model/truffle/contracts/mock/SeedProposerUpdater.sol\n",
      "> Compiling ./cross-model/truffle/contracts/oracle/MockFeed.sol\n",
      "> Compiling ./cross-model/truffle/contracts/setter/RateSetter.sol\n",
      "> Compiling ./cross-model/truffle/contracts/setter/RateSetterMath.sol\n",
      "> Compiling ./cross-model/truffle/contracts/token/Address.sol\n",
      "> Compiling ./cross-model/truffle/contracts/token/Context.sol\n",
      "> Compiling ./cross-model/truffle/contracts/token/ERC20.sol\n",
      "> Compiling ./cross-model/truffle/contracts/token/IERC20.sol\n",
      "> Compiling ./cross-model/truffle/contracts/token/OriginalSafeMath.sol\n",
      "> Compilation warnings encountered:\n",
      "\n",
      "    /home/stefan/Work/reflexer/cross-model/truffle/contracts/calculator/per-second/raw/PIRawPerSecondValidator.sol:290:45: Warning: Unused local variable.\n",
      "        (int256 virtualDeviationCumulative, int256 nextTimeAdjustedDeviation) =\n",
      "                                            ^------------------------------^\n",
      ",/home/stefan/Work/reflexer/cross-model/truffle/contracts/calculator/per-second/scaled/PIScaledPerSecondValidator.sol:292:45: Warning: Unused local variable.\n",
      "        (int256 virtualDeviationCumulative, int256 nextTimeAdjustedDeviation) =\n",
      "                                            ^------------------------------^\n",
      ",/home/stefan/Work/reflexer/cross-model/truffle/contracts/mock/MockTreasury.sol:107:24: Warning: Unused function parameter. Remove or comment out the variable name to silence this warning.\n",
      "    function pullFunds(address dstAccount, address token, uint wad) external {\n",
      "                       ^----------------^\n",
      ",/home/stefan/Work/reflexer/cross-model/truffle/contracts/mock/MockTreasury.sol:107:44: Warning: Unused function parameter. Remove or comment out the variable name to silence this warning.\n",
      "    function pullFunds(address dstAccount, address token, uint wad) external {\n",
      "                                           ^-----------^\n",
      ",/home/stefan/Work/reflexer/cross-model/truffle/contracts/mock/MockTreasury.sol:107:59: Warning: Unused function parameter. Remove or comment out the variable name to silence this warning.\n",
      "    function pullFunds(address dstAccount, address token, uint wad) external {\n",
      "                                                          ^------^\n",
      ",/home/stefan/Work/reflexer/cross-model/truffle/contracts/mock/MockTreasury.sol:107:5: Warning: Function state mutability can be restricted to pure\n",
      "    function pullFunds(address dstAccount, address token, uint wad) external {\n",
      "    ^ (Relevant source part starts here and spans across multiple lines).\n",
      "\n",
      "> Artifacts written to /tmp/test--25034-ZtYGhvTLohj7\n",
      "> Compiled successfully using:\n",
      "   - solc: 0.6.7+commit.b8d736ae.Emscripten.clang\n",
      "\n",
      "\n",
      "> Duplicate contract names found for Setter.\n",
      "> This can cause errors and unknown behavior. Please rename one of your contracts.\n",
      "\n",
      "\u001b[0m\u001b[0m\n",
      "\u001b[0m  Contract: PIRawPerSecondCalculator Imported Config\u001b[0m\n",
      "  \u001b[32m  ✓\u001b[0m\u001b[90m should check that the deployment was successful\u001b[0m\u001b[33m (47ms)\u001b[0m\n",
      "  \u001b[32m  ✓\u001b[0m\u001b[90m simulate the raw per-second PI controller using the custom JSON config\u001b[0m\u001b[31m (238327ms)\u001b[0m\n",
      "\n",
      "\n",
      "\u001b[92m \u001b[0m\u001b[32m 2 passing\u001b[0m\u001b[90m (4m)\u001b[0m\n",
      "\n"
     ]
    }
   ],
   "source": [
    "# Compile, test, and deploy contracts to Ganache\n",
    "# !npm run pi-raw-second-imported-config --prefix './cross-model/truffle'\n",
    "\n",
    "import os\n",
    "os.chdir('./cross-model/truffle')\n",
    "!npm run install-deps\n",
    "!npm run pi-raw-second-imported-config\n",
    "import os\n",
    "os.chdir('../../')"
   ]
  },
  {
   "cell_type": "markdown",
   "metadata": {},
   "source": [
    "[redemptionRate](https://github.com/reflexer-labs/geb-rrfm-truffle-sims/blob/master/contracts/mock/MockOracleRelayer.sol#L14) = $1+d_t$ (units: per second)  \n",
    "$p_{t+\\Delta{t}} = p_{t} (1+d_t)^{\\Delta{t}}$ where $\\Delta{t}$ is measured in seconds  \n",
    "Meaning:\n",
    "* $d_t > 0$ implies $redemptionRate > 1$  \n",
    "* $d_t < 0$ implies $redemptionRate < 1$  \n",
    "\n",
    "\n",
    "In the results dataset this is the PerSecondRedemptionRate column"
   ]
  },
  {
   "cell_type": "code",
   "execution_count": 6,
   "metadata": {},
   "outputs": [],
   "source": [
    "from models.system_model_v1.model.state_variables import state_variables\n",
    "\n",
    "def pre_process_initial_conditions(genesis_dict):\n",
    "    base_genesis_states = genesis_dict.copy()\n",
    "    for k in base_genesis_states.keys():\n",
    "        if k in config_file:\n",
    "            try:\n",
    "                base_genesis_states[k] = config_file[k][0]\n",
    "            except:\n",
    "                base_genesis_states[k] = config_file[k]\n",
    "    return base_genesis_states\n",
    "\n",
    "test_specific_initial_conditions = pre_process_initial_conditions(state_variables)"
   ]
  },
  {
   "cell_type": "code",
   "execution_count": 7,
   "metadata": {},
   "outputs": [],
   "source": [
    "from models.system_model_v1.model.parts.sys_params import params\n",
    "\n",
    "def pre_process_params_dict(params_dict):\n",
    "    base_params_dict = params_dict.copy()\n",
    "    for k in config_file.keys():\n",
    "        if type(config_file[k]) == list:\n",
    "            base_params_dict[k] = [config_file[k]]\n",
    "        else:\n",
    "            try:\n",
    "                base_params_dict[k] = [config_file[k]]\n",
    "            except OverflowError:\n",
    "                print(config_file[k])\n",
    "                raise\n",
    "    return base_params_dict\n",
    "\n",
    "test_specific_params = pre_process_params_dict(params)"
   ]
  },
  {
   "cell_type": "code",
   "execution_count": 8,
   "metadata": {},
   "outputs": [],
   "source": [
    "# T = 0\n",
    "# for k in config_file.keys():\n",
    "#     if type(config_file[k]) == list:\n",
    "#         T = len(config_file[k])-1\n",
    "#         break"
   ]
  },
  {
   "cell_type": "code",
   "execution_count": 9,
   "metadata": {},
   "outputs": [],
   "source": [
    "def test_specific_resolve_time_passed(params, substep, state_history, state):\n",
    "    index = state['timestep']+1\n",
    "    value = params['delta_t'][index]\n",
    "    return {'seconds_passed': value}\n",
    "\n",
    "def test_specific_update_market_price(params, substep, state_history, state, policy_input):\n",
    "    key = 'market_price'  \n",
    "    index = state['timestep']\n",
    "    value = params['market_prices'][index]\n",
    "    return key, value\n",
    "\n",
    "\n",
    "from models.system_model_v1.model.parts.markets import resolve_time_passed, update_market_price\n",
    "from models.system_model_v1.model.partial_state_update_blocks import partial_state_update_blocks\n",
    "\n",
    "for psub in partial_state_update_blocks:\n",
    "    for psub_part in psub.values():\n",
    "        if type(psub_part)==dict:\n",
    "            for k,v in psub_part.items():\n",
    "                if v == resolve_time_passed:\n",
    "                    psub_part[k] = test_specific_resolve_time_passed\n",
    "                if v == update_market_price:\n",
    "                    psub_part[k] = test_specific_update_market_price"
   ]
  },
  {
   "cell_type": "code",
   "execution_count": 10,
   "metadata": {},
   "outputs": [
    {
     "name": "stdout",
     "output_type": "stream",
     "text": [
      "\n",
      "                  ___________    ____\n",
      "  ________ __ ___/ / ____/   |  / __ \\\n",
      " / ___/ __` / __  / /   / /| | / / / /\n",
      "/ /__/ /_/ / /_/ / /___/ ___ |/ /_/ /\n",
      "\\___/\\__,_/\\__,_/\\____/_/  |_/_____/\n",
      "by cadCAD\n",
      "\n",
      "Execution Mode: local_proc\n",
      "Configuration Count: 1\n",
      "Dimensions of the first simulation: (Timesteps, Params, Runs, Vars) = (651, 24, 1, 15)\n",
      "Execution Method: local_simulations\n",
      "SimIDs   : [0]\n",
      "SubsetIDs: [0]\n",
      "Ns       : [0]\n",
      "ExpIDs   : [0]\n",
      "Execution Mode: single_threaded\n"
     ]
    },
    {
     "ename": "OverflowError",
     "evalue": "(34, 'Numerical result out of range')",
     "output_type": "error",
     "traceback": [
      "\u001b[0;31m---------------------------------------------------------------------------\u001b[0m",
      "\u001b[0;31mOverflowError\u001b[0m                             Traceback (most recent call last)",
      "\u001b[0;32m<ipython-input-10-d1c3e48833e8>\u001b[0m in \u001b[0;36m<module>\u001b[0;34m\u001b[0m\n\u001b[1;32m     24\u001b[0m \u001b[0mlocal_mode_ctx\u001b[0m \u001b[0;34m=\u001b[0m \u001b[0mExecutionContext\u001b[0m\u001b[0;34m(\u001b[0m\u001b[0mexec_mode\u001b[0m\u001b[0;34m.\u001b[0m\u001b[0mlocal_mode\u001b[0m\u001b[0;34m)\u001b[0m\u001b[0;34m\u001b[0m\u001b[0;34m\u001b[0m\u001b[0m\n\u001b[1;32m     25\u001b[0m \u001b[0mexecutor\u001b[0m \u001b[0;34m=\u001b[0m \u001b[0mExecutor\u001b[0m\u001b[0;34m(\u001b[0m\u001b[0mlocal_mode_ctx\u001b[0m\u001b[0;34m,\u001b[0m \u001b[0mconfigs\u001b[0m\u001b[0;34m)\u001b[0m \u001b[0;31m# Pass the configuration object inside an array\u001b[0m\u001b[0;34m\u001b[0m\u001b[0;34m\u001b[0m\u001b[0m\n\u001b[0;32m---> 26\u001b[0;31m \u001b[0mraw_result\u001b[0m\u001b[0;34m,\u001b[0m \u001b[0mtensor\u001b[0m\u001b[0;34m,\u001b[0m \u001b[0msessions\u001b[0m \u001b[0;34m=\u001b[0m \u001b[0mexecutor\u001b[0m\u001b[0;34m.\u001b[0m\u001b[0mexecute\u001b[0m\u001b[0;34m(\u001b[0m\u001b[0;34m)\u001b[0m \u001b[0;31m# The `execute()` method returns a tuple; its first elements contains the raw results\u001b[0m\u001b[0;34m\u001b[0m\u001b[0;34m\u001b[0m\u001b[0m\n\u001b[0m",
      "\u001b[0;32m~/Work/reflexer/venv/lib/python3.8/site-packages/cadCAD/engine/__init__.py\u001b[0m in \u001b[0;36mexecute\u001b[0;34m(self)\u001b[0m\n\u001b[1;32m    149\u001b[0m \u001b[0;34m\u001b[0m\u001b[0m\n\u001b[1;32m    150\u001b[0m             \u001b[0mprint\u001b[0m\u001b[0;34m(\u001b[0m\u001b[0;34m\"Execution Method: \"\u001b[0m \u001b[0;34m+\u001b[0m \u001b[0mself\u001b[0m\u001b[0;34m.\u001b[0m\u001b[0mexec_method\u001b[0m\u001b[0;34m.\u001b[0m\u001b[0m__name__\u001b[0m\u001b[0;34m)\u001b[0m\u001b[0;34m\u001b[0m\u001b[0;34m\u001b[0m\u001b[0m\n\u001b[0;32m--> 151\u001b[0;31m             simulations_results = self.exec_method(\n\u001b[0m\u001b[1;32m    152\u001b[0m                 \u001b[0msim_executors\u001b[0m\u001b[0;34m,\u001b[0m \u001b[0mvar_dict_list\u001b[0m\u001b[0;34m,\u001b[0m \u001b[0mstates_lists\u001b[0m\u001b[0;34m,\u001b[0m \u001b[0mconfigs_structs\u001b[0m\u001b[0;34m,\u001b[0m \u001b[0menv_processes_list\u001b[0m\u001b[0;34m,\u001b[0m \u001b[0mTs\u001b[0m\u001b[0;34m,\u001b[0m \u001b[0mSimIDs\u001b[0m\u001b[0;34m,\u001b[0m \u001b[0mRunIDs\u001b[0m\u001b[0;34m,\u001b[0m\u001b[0;34m\u001b[0m\u001b[0;34m\u001b[0m\u001b[0m\n\u001b[1;32m    153\u001b[0m                 \u001b[0mExpIDs\u001b[0m\u001b[0;34m,\u001b[0m \u001b[0mSubsetIDs\u001b[0m\u001b[0;34m,\u001b[0m \u001b[0mSubsetWindows\u001b[0m\u001b[0;34m,\u001b[0m \u001b[0moriginal_N\u001b[0m\u001b[0;34m\u001b[0m\u001b[0;34m\u001b[0m\u001b[0m\n",
      "\u001b[0;32m~/Work/reflexer/venv/lib/python3.8/site-packages/cadCAD/engine/execution.py\u001b[0m in \u001b[0;36mlocal_simulations\u001b[0;34m(simulation_execs, var_dict_list, states_lists, configs_structs, env_processes_list, Ts, SimIDs, Ns, ExpIDs, SubsetIDs, SubsetWindows, configured_n)\u001b[0m\n\u001b[1;32m    133\u001b[0m         \u001b[0;32mif\u001b[0m \u001b[0mconfig_amt\u001b[0m \u001b[0;34m==\u001b[0m \u001b[0;36m1\u001b[0m\u001b[0;34m:\u001b[0m \u001b[0;31m# and configured_n != 1\u001b[0m\u001b[0;34m\u001b[0m\u001b[0;34m\u001b[0m\u001b[0m\n\u001b[1;32m    134\u001b[0m             \u001b[0m_params\u001b[0m \u001b[0;34m=\u001b[0m \u001b[0mvar_dict_list\u001b[0m\u001b[0;34m[\u001b[0m\u001b[0;36m0\u001b[0m\u001b[0;34m]\u001b[0m\u001b[0;34m\u001b[0m\u001b[0;34m\u001b[0m\u001b[0m\n\u001b[0;32m--> 135\u001b[0;31m             return single_proc_exec(\n\u001b[0m\u001b[1;32m    136\u001b[0m                 \u001b[0msimulation_execs\u001b[0m\u001b[0;34m,\u001b[0m \u001b[0m_params\u001b[0m\u001b[0;34m,\u001b[0m \u001b[0mstates_lists\u001b[0m\u001b[0;34m,\u001b[0m \u001b[0mconfigs_structs\u001b[0m\u001b[0;34m,\u001b[0m \u001b[0menv_processes_list\u001b[0m\u001b[0;34m,\u001b[0m\u001b[0;34m\u001b[0m\u001b[0;34m\u001b[0m\u001b[0m\n\u001b[1;32m    137\u001b[0m                 \u001b[0mTs\u001b[0m\u001b[0;34m,\u001b[0m \u001b[0mSimIDs\u001b[0m\u001b[0;34m,\u001b[0m \u001b[0mNs\u001b[0m\u001b[0;34m,\u001b[0m \u001b[0mExpIDs\u001b[0m\u001b[0;34m,\u001b[0m \u001b[0mSubsetIDs\u001b[0m\u001b[0;34m,\u001b[0m \u001b[0mSubsetWindows\u001b[0m\u001b[0;34m,\u001b[0m \u001b[0mconfigured_n\u001b[0m\u001b[0;34m\u001b[0m\u001b[0;34m\u001b[0m\u001b[0m\n",
      "\u001b[0;32m~/Work/reflexer/venv/lib/python3.8/site-packages/cadCAD/engine/execution.py\u001b[0m in \u001b[0;36msingle_proc_exec\u001b[0;34m(simulation_execs, var_dict_list, states_lists, configs_structs, env_processes_list, Ts, SimIDs, Ns, ExpIDs, SubsetIDs, SubsetWindows, configured_n)\u001b[0m\n\u001b[1;32m     34\u001b[0m         \u001b[0mmap\u001b[0m\u001b[0;34m(\u001b[0m\u001b[0;32mlambda\u001b[0m \u001b[0mx\u001b[0m\u001b[0;34m:\u001b[0m \u001b[0mx\u001b[0m\u001b[0;34m.\u001b[0m\u001b[0mpop\u001b[0m\u001b[0;34m(\u001b[0m\u001b[0;34m)\u001b[0m\u001b[0;34m,\u001b[0m \u001b[0mparams\u001b[0m\u001b[0;34m)\u001b[0m\u001b[0;34m\u001b[0m\u001b[0;34m\u001b[0m\u001b[0m\n\u001b[1;32m     35\u001b[0m     )\n\u001b[0;32m---> 36\u001b[0;31m     result = simulation_exec(\n\u001b[0m\u001b[1;32m     37\u001b[0m         \u001b[0mvar_dict_list\u001b[0m\u001b[0;34m,\u001b[0m \u001b[0mstates_list\u001b[0m\u001b[0;34m,\u001b[0m \u001b[0mconfig\u001b[0m\u001b[0;34m,\u001b[0m \u001b[0menv_processes\u001b[0m\u001b[0;34m,\u001b[0m \u001b[0mT\u001b[0m\u001b[0;34m,\u001b[0m \u001b[0msim_id\u001b[0m\u001b[0;34m,\u001b[0m \u001b[0mN\u001b[0m\u001b[0;34m,\u001b[0m \u001b[0msubset_id\u001b[0m\u001b[0;34m,\u001b[0m \u001b[0msubset_window\u001b[0m\u001b[0;34m,\u001b[0m \u001b[0mconfigured_n\u001b[0m\u001b[0;34m\u001b[0m\u001b[0;34m\u001b[0m\u001b[0m\n\u001b[1;32m     38\u001b[0m     )\n",
      "\u001b[0;32m~/Work/reflexer/venv/lib/python3.8/site-packages/cadCAD/engine/simulation.py\u001b[0m in \u001b[0;36msimulation\u001b[0;34m(self, sweep_dict, states_list, configs, env_processes, time_seq, simulation_id, run, subset_id, subset_window, configured_N, additional_objs)\u001b[0m\n\u001b[1;32m    248\u001b[0m \u001b[0;34m\u001b[0m\u001b[0m\n\u001b[1;32m    249\u001b[0m         pipe_run = flatten(\n\u001b[0;32m--> 250\u001b[0;31m             \u001b[0;34m[\u001b[0m\u001b[0mexecute_run\u001b[0m\u001b[0;34m(\u001b[0m\u001b[0msweep_dict\u001b[0m\u001b[0;34m,\u001b[0m \u001b[0mstates_list\u001b[0m\u001b[0;34m,\u001b[0m \u001b[0mconfigs\u001b[0m\u001b[0;34m,\u001b[0m \u001b[0menv_processes\u001b[0m\u001b[0;34m,\u001b[0m \u001b[0mtime_seq\u001b[0m\u001b[0;34m,\u001b[0m \u001b[0mrun\u001b[0m\u001b[0;34m)\u001b[0m\u001b[0;34m]\u001b[0m\u001b[0;34m\u001b[0m\u001b[0;34m\u001b[0m\u001b[0m\n\u001b[0m\u001b[1;32m    251\u001b[0m         )\n\u001b[1;32m    252\u001b[0m \u001b[0;34m\u001b[0m\u001b[0m\n",
      "\u001b[0;32m~/Work/reflexer/venv/lib/python3.8/site-packages/cadCAD/engine/simulation.py\u001b[0m in \u001b[0;36mexecute_run\u001b[0;34m(sweep_dict, states_list, configs, env_processes, time_seq, _run)\u001b[0m\n\u001b[1;32m    240\u001b[0m             )\n\u001b[1;32m    241\u001b[0m \u001b[0;34m\u001b[0m\u001b[0m\n\u001b[0;32m--> 242\u001b[0;31m             first_timestep_per_run: List[Dict[str, Any]] = self.run_pipeline(\n\u001b[0m\u001b[1;32m    243\u001b[0m                 \u001b[0msweep_dict\u001b[0m\u001b[0;34m,\u001b[0m \u001b[0mstates_list_copy\u001b[0m\u001b[0;34m,\u001b[0m \u001b[0mconfigs\u001b[0m\u001b[0;34m,\u001b[0m \u001b[0menv_processes\u001b[0m\u001b[0;34m,\u001b[0m \u001b[0mtime_seq\u001b[0m\u001b[0;34m,\u001b[0m \u001b[0mrun\u001b[0m\u001b[0;34m,\u001b[0m \u001b[0madditional_objs\u001b[0m\u001b[0;34m\u001b[0m\u001b[0;34m\u001b[0m\u001b[0m\n\u001b[1;32m    244\u001b[0m             )\n",
      "\u001b[0;32m~/Work/reflexer/venv/lib/python3.8/site-packages/cadCAD/engine/simulation.py\u001b[0m in \u001b[0;36mrun_pipeline\u001b[0;34m(self, sweep_dict, states_list, configs, env_processes, time_seq, run, additional_objs)\u001b[0m\n\u001b[1;32m    197\u001b[0m \u001b[0;34m\u001b[0m\u001b[0m\n\u001b[1;32m    198\u001b[0m         \u001b[0;32mfor\u001b[0m \u001b[0mtime_step\u001b[0m \u001b[0;32min\u001b[0m \u001b[0mtime_seq\u001b[0m\u001b[0;34m:\u001b[0m\u001b[0;34m\u001b[0m\u001b[0;34m\u001b[0m\u001b[0m\n\u001b[0;32m--> 199\u001b[0;31m             pipe_run: List[Dict[str, Any]] = self.state_update_pipeline(\n\u001b[0m\u001b[1;32m    200\u001b[0m                 \u001b[0msweep_dict\u001b[0m\u001b[0;34m,\u001b[0m \u001b[0msimulation_list\u001b[0m\u001b[0;34m,\u001b[0m \u001b[0mconfigs\u001b[0m\u001b[0;34m,\u001b[0m \u001b[0menv_processes\u001b[0m\u001b[0;34m,\u001b[0m \u001b[0mtime_step\u001b[0m\u001b[0;34m,\u001b[0m \u001b[0mrun\u001b[0m\u001b[0;34m,\u001b[0m \u001b[0madditional_objs\u001b[0m\u001b[0;34m\u001b[0m\u001b[0;34m\u001b[0m\u001b[0m\n\u001b[1;32m    201\u001b[0m             )\n",
      "\u001b[0;32m~/Work/reflexer/venv/lib/python3.8/site-packages/cadCAD/engine/simulation.py\u001b[0m in \u001b[0;36mstate_update_pipeline\u001b[0;34m(self, sweep_dict, simulation_list, configs, env_processes, time_step, run, additional_objs)\u001b[0m\n\u001b[1;32m    172\u001b[0m         \u001b[0msub_step\u001b[0m \u001b[0;34m+=\u001b[0m \u001b[0;36m1\u001b[0m\u001b[0;34m\u001b[0m\u001b[0;34m\u001b[0m\u001b[0m\n\u001b[1;32m    173\u001b[0m         \u001b[0;32mfor\u001b[0m \u001b[0;34m[\u001b[0m\u001b[0ms_conf\u001b[0m\u001b[0;34m,\u001b[0m \u001b[0mp_conf\u001b[0m\u001b[0;34m]\u001b[0m \u001b[0;32min\u001b[0m \u001b[0mconfigs\u001b[0m\u001b[0;34m:\u001b[0m\u001b[0;34m\u001b[0m\u001b[0;34m\u001b[0m\u001b[0m\n\u001b[0;32m--> 174\u001b[0;31m             states_list: List[Dict[str, Any]] = self.partial_state_update(\n\u001b[0m\u001b[1;32m    175\u001b[0m                 \u001b[0msweep_dict\u001b[0m\u001b[0;34m,\u001b[0m \u001b[0msub_step\u001b[0m\u001b[0;34m,\u001b[0m \u001b[0mstates_list\u001b[0m\u001b[0;34m,\u001b[0m \u001b[0msimulation_list\u001b[0m\u001b[0;34m,\u001b[0m \u001b[0ms_conf\u001b[0m\u001b[0;34m,\u001b[0m \u001b[0mp_conf\u001b[0m\u001b[0;34m,\u001b[0m \u001b[0menv_processes\u001b[0m\u001b[0;34m,\u001b[0m \u001b[0mtime_step\u001b[0m\u001b[0;34m,\u001b[0m \u001b[0mrun\u001b[0m\u001b[0;34m,\u001b[0m\u001b[0;34m\u001b[0m\u001b[0;34m\u001b[0m\u001b[0m\n\u001b[1;32m    176\u001b[0m                 \u001b[0madditional_objs\u001b[0m\u001b[0;34m\u001b[0m\u001b[0;34m\u001b[0m\u001b[0m\n",
      "\u001b[0;32m~/Work/reflexer/venv/lib/python3.8/site-packages/cadCAD/engine/simulation.py\u001b[0m in \u001b[0;36mpartial_state_update\u001b[0;34m(self, sweep_dict, sub_step, sL, sH, state_funcs, policy_funcs, env_processes, time_step, run, additional_objs)\u001b[0m\n\u001b[1;32m    138\u001b[0m             \u001b[0;32mreturn\u001b[0m \u001b[0mdestination\u001b[0m\u001b[0;34m\u001b[0m\u001b[0;34m\u001b[0m\u001b[0m\n\u001b[1;32m    139\u001b[0m \u001b[0;34m\u001b[0m\u001b[0m\n\u001b[0;32m--> 140\u001b[0;31m         \u001b[0mlast_in_copy\u001b[0m\u001b[0;34m:\u001b[0m \u001b[0mDict\u001b[0m\u001b[0;34m[\u001b[0m\u001b[0mstr\u001b[0m\u001b[0;34m,\u001b[0m \u001b[0mAny\u001b[0m\u001b[0;34m]\u001b[0m \u001b[0;34m=\u001b[0m \u001b[0mtransfer_missing_fields\u001b[0m\u001b[0;34m(\u001b[0m\u001b[0mlast_in_obj\u001b[0m\u001b[0;34m,\u001b[0m \u001b[0mdict\u001b[0m\u001b[0;34m(\u001b[0m\u001b[0mgenerate_record\u001b[0m\u001b[0;34m(\u001b[0m\u001b[0mstate_funcs\u001b[0m\u001b[0;34m)\u001b[0m\u001b[0;34m)\u001b[0m\u001b[0;34m)\u001b[0m\u001b[0;34m\u001b[0m\u001b[0;34m\u001b[0m\u001b[0m\n\u001b[0m\u001b[1;32m    141\u001b[0m         \u001b[0mlast_in_copy\u001b[0m\u001b[0;34m:\u001b[0m \u001b[0mDict\u001b[0m\u001b[0;34m[\u001b[0m\u001b[0mstr\u001b[0m\u001b[0;34m,\u001b[0m \u001b[0mAny\u001b[0m\u001b[0;34m]\u001b[0m \u001b[0;34m=\u001b[0m \u001b[0mself\u001b[0m\u001b[0;34m.\u001b[0m\u001b[0mapply_env_proc\u001b[0m\u001b[0;34m(\u001b[0m\u001b[0msweep_dict\u001b[0m\u001b[0;34m,\u001b[0m \u001b[0menv_processes\u001b[0m\u001b[0;34m,\u001b[0m \u001b[0mlast_in_copy\u001b[0m\u001b[0;34m)\u001b[0m\u001b[0;34m\u001b[0m\u001b[0;34m\u001b[0m\u001b[0m\n\u001b[1;32m    142\u001b[0m         \u001b[0mlast_in_copy\u001b[0m\u001b[0;34m[\u001b[0m\u001b[0;34m'substep'\u001b[0m\u001b[0;34m]\u001b[0m\u001b[0;34m,\u001b[0m \u001b[0mlast_in_copy\u001b[0m\u001b[0;34m[\u001b[0m\u001b[0;34m'timestep'\u001b[0m\u001b[0;34m]\u001b[0m\u001b[0;34m,\u001b[0m \u001b[0mlast_in_copy\u001b[0m\u001b[0;34m[\u001b[0m\u001b[0;34m'run'\u001b[0m\u001b[0;34m]\u001b[0m \u001b[0;34m=\u001b[0m \u001b[0msub_step\u001b[0m\u001b[0;34m,\u001b[0m \u001b[0mtime_step\u001b[0m\u001b[0;34m,\u001b[0m \u001b[0mrun\u001b[0m\u001b[0;34m\u001b[0m\u001b[0;34m\u001b[0m\u001b[0m\n",
      "\u001b[0;32m~/Work/reflexer/venv/lib/python3.8/site-packages/cadCAD/engine/simulation.py\u001b[0m in \u001b[0;36mgenerate_record\u001b[0;34m(state_funcs)\u001b[0m\n\u001b[1;32m    129\u001b[0m                     \u001b[0;32mreturn\u001b[0m \u001b[0mself\u001b[0m\u001b[0;34m.\u001b[0m\u001b[0mstate_update_exception\u001b[0m\u001b[0;34m(\u001b[0m\u001b[0mf\u001b[0m\u001b[0;34m(\u001b[0m\u001b[0msweep_dict\u001b[0m\u001b[0;34m,\u001b[0m \u001b[0msub_step\u001b[0m\u001b[0;34m,\u001b[0m \u001b[0msH\u001b[0m\u001b[0;34m,\u001b[0m \u001b[0mlast_in_obj\u001b[0m\u001b[0;34m,\u001b[0m \u001b[0m_input\u001b[0m\u001b[0;34m,\u001b[0m \u001b[0madditional_objs\u001b[0m\u001b[0;34m)\u001b[0m\u001b[0;34m)\u001b[0m\u001b[0;34m\u001b[0m\u001b[0;34m\u001b[0m\u001b[0m\n\u001b[1;32m    130\u001b[0m             \u001b[0;32mfor\u001b[0m \u001b[0mf\u001b[0m \u001b[0;32min\u001b[0m \u001b[0mstate_funcs\u001b[0m\u001b[0;34m:\u001b[0m\u001b[0;34m\u001b[0m\u001b[0;34m\u001b[0m\u001b[0m\n\u001b[0;32m--> 131\u001b[0;31m                 \u001b[0;32myield\u001b[0m \u001b[0mstate_scope_tuner\u001b[0m\u001b[0;34m(\u001b[0m\u001b[0mf\u001b[0m\u001b[0;34m)\u001b[0m\u001b[0;34m\u001b[0m\u001b[0;34m\u001b[0m\u001b[0m\n\u001b[0m\u001b[1;32m    132\u001b[0m \u001b[0;34m\u001b[0m\u001b[0m\n\u001b[1;32m    133\u001b[0m         \u001b[0;32mdef\u001b[0m \u001b[0mtransfer_missing_fields\u001b[0m\u001b[0;34m(\u001b[0m\u001b[0msource\u001b[0m\u001b[0;34m,\u001b[0m \u001b[0mdestination\u001b[0m\u001b[0;34m)\u001b[0m\u001b[0;34m:\u001b[0m\u001b[0;34m\u001b[0m\u001b[0;34m\u001b[0m\u001b[0m\n",
      "\u001b[0;32m~/Work/reflexer/venv/lib/python3.8/site-packages/cadCAD/engine/simulation.py\u001b[0m in \u001b[0;36mstate_scope_tuner\u001b[0;34m(f)\u001b[0m\n\u001b[1;32m    125\u001b[0m                 \u001b[0mlenf\u001b[0m \u001b[0;34m=\u001b[0m \u001b[0mf\u001b[0m\u001b[0;34m.\u001b[0m\u001b[0m__code__\u001b[0m\u001b[0;34m.\u001b[0m\u001b[0mco_argcount\u001b[0m\u001b[0;34m\u001b[0m\u001b[0;34m\u001b[0m\u001b[0m\n\u001b[1;32m    126\u001b[0m                 \u001b[0;32mif\u001b[0m \u001b[0mlenf\u001b[0m \u001b[0;34m==\u001b[0m \u001b[0;36m5\u001b[0m\u001b[0;34m:\u001b[0m\u001b[0;34m\u001b[0m\u001b[0;34m\u001b[0m\u001b[0m\n\u001b[0;32m--> 127\u001b[0;31m                     \u001b[0;32mreturn\u001b[0m \u001b[0mself\u001b[0m\u001b[0;34m.\u001b[0m\u001b[0mstate_update_exception\u001b[0m\u001b[0;34m(\u001b[0m\u001b[0mf\u001b[0m\u001b[0;34m(\u001b[0m\u001b[0msweep_dict\u001b[0m\u001b[0;34m,\u001b[0m \u001b[0msub_step\u001b[0m\u001b[0;34m,\u001b[0m \u001b[0msH\u001b[0m\u001b[0;34m,\u001b[0m \u001b[0mlast_in_obj\u001b[0m\u001b[0;34m,\u001b[0m \u001b[0m_input\u001b[0m\u001b[0;34m)\u001b[0m\u001b[0;34m)\u001b[0m\u001b[0;34m\u001b[0m\u001b[0;34m\u001b[0m\u001b[0m\n\u001b[0m\u001b[1;32m    128\u001b[0m                 \u001b[0;32melif\u001b[0m \u001b[0mlenf\u001b[0m \u001b[0;34m==\u001b[0m \u001b[0;36m6\u001b[0m\u001b[0;34m:\u001b[0m\u001b[0;34m\u001b[0m\u001b[0;34m\u001b[0m\u001b[0m\n\u001b[1;32m    129\u001b[0m                     \u001b[0;32mreturn\u001b[0m \u001b[0mself\u001b[0m\u001b[0;34m.\u001b[0m\u001b[0mstate_update_exception\u001b[0m\u001b[0;34m(\u001b[0m\u001b[0mf\u001b[0m\u001b[0;34m(\u001b[0m\u001b[0msweep_dict\u001b[0m\u001b[0;34m,\u001b[0m \u001b[0msub_step\u001b[0m\u001b[0;34m,\u001b[0m \u001b[0msH\u001b[0m\u001b[0;34m,\u001b[0m \u001b[0mlast_in_obj\u001b[0m\u001b[0;34m,\u001b[0m \u001b[0m_input\u001b[0m\u001b[0;34m,\u001b[0m \u001b[0madditional_objs\u001b[0m\u001b[0;34m)\u001b[0m\u001b[0;34m)\u001b[0m\u001b[0;34m\u001b[0m\u001b[0;34m\u001b[0m\u001b[0m\n",
      "\u001b[0;32m~/Work/reflexer/models/system_model/model/parts/controllers.py\u001b[0m in \u001b[0;36mupdate_target_price\u001b[0;34m(params, substep, state_history, state, policy_input)\u001b[0m\n\u001b[1;32m     24\u001b[0m     \u001b[0mtarget_price\u001b[0m \u001b[0;34m=\u001b[0m \u001b[0mstate\u001b[0m\u001b[0;34m[\u001b[0m\u001b[0;34m'target_price'\u001b[0m\u001b[0;34m]\u001b[0m\u001b[0;34m\u001b[0m\u001b[0;34m\u001b[0m\u001b[0m\n\u001b[1;32m     25\u001b[0m     \u001b[0;32mtry\u001b[0m\u001b[0;34m:\u001b[0m\u001b[0;34m\u001b[0m\u001b[0;34m\u001b[0m\u001b[0m\n\u001b[0;32m---> 26\u001b[0;31m         \u001b[0mtarget_price\u001b[0m \u001b[0;34m=\u001b[0m \u001b[0mstate\u001b[0m\u001b[0;34m[\u001b[0m\u001b[0;34m'target_price'\u001b[0m\u001b[0;34m]\u001b[0m \u001b[0;34m*\u001b[0m \u001b[0;34m(\u001b[0m\u001b[0;36m1\u001b[0m \u001b[0;34m+\u001b[0m \u001b[0mstate\u001b[0m\u001b[0;34m[\u001b[0m\u001b[0;34m'target_rate'\u001b[0m\u001b[0;34m]\u001b[0m\u001b[0;34m)\u001b[0m\u001b[0;34m**\u001b[0m\u001b[0mstate\u001b[0m\u001b[0;34m[\u001b[0m\u001b[0;34m'timedelta'\u001b[0m\u001b[0;34m]\u001b[0m\u001b[0;34m\u001b[0m\u001b[0;34m\u001b[0m\u001b[0m\n\u001b[0m\u001b[1;32m     27\u001b[0m     \u001b[0;32mexcept\u001b[0m \u001b[0mOverflowError\u001b[0m\u001b[0;34m:\u001b[0m\u001b[0;34m\u001b[0m\u001b[0;34m\u001b[0m\u001b[0m\n\u001b[1;32m     28\u001b[0m         \u001b[0;31m# print(f'Controller target price OverflowError: target price {target_price}; target rate {state[\"target_rate\"]}')\u001b[0m\u001b[0;34m\u001b[0m\u001b[0;34m\u001b[0m\u001b[0;34m\u001b[0m\u001b[0m\n",
      "\u001b[0;31mOverflowError\u001b[0m: (34, 'Numerical result out of range')"
     ]
    }
   ],
   "source": [
    "from cadCAD.configuration.utils import config_sim\n",
    "from cadCAD.configuration import Experiment\n",
    "from cadCAD import configs\n",
    "\n",
    "del configs[:]\n",
    "\n",
    "exp = Experiment()\n",
    "\n",
    "sim_config_dict = {\n",
    "    'T': range(SIMULATION_TIMESTEPS),\n",
    "    'N': 1,\n",
    "    'M': test_specific_params\n",
    "}\n",
    "c = config_sim(sim_config_dict)\n",
    "\n",
    "exp.append_configs(\n",
    "    initial_state=test_specific_initial_conditions, #dict containing variable names and initial values\n",
    "    partial_state_update_blocks=partial_state_update_blocks, #dict containing state update functions\n",
    "    sim_configs=c #preprocessed dictionaries containing simulation parameters\n",
    ")\n",
    "\n",
    "from cadCAD.engine import ExecutionMode, ExecutionContext, Executor\n",
    "exec_mode = ExecutionMode()\n",
    "local_mode_ctx = ExecutionContext(exec_mode.local_mode)\n",
    "executor = Executor(local_mode_ctx, configs) # Pass the configuration object inside an array\n",
    "raw_result, tensor, sessions = executor.execute() # The `execute()` method returns a tuple; its first elements contains the raw results"
   ]
  },
  {
   "cell_type": "code",
   "execution_count": null,
   "metadata": {},
   "outputs": [],
   "source": [
    "full = pd.DataFrame(raw_result)"
   ]
  },
  {
   "cell_type": "code",
   "execution_count": null,
   "metadata": {},
   "outputs": [],
   "source": [
    "max_substep = max(full.substep)\n",
    "df = full.copy()\n",
    "df = df[(df.substep==max_substep) | (df.substep==0)]"
   ]
  },
  {
   "cell_type": "code",
   "execution_count": null,
   "metadata": {},
   "outputs": [],
   "source": [
    "save_dir = \"./cross-model/truffle/test/saved_sims/pi_second/raw/custom-config-sim.txt\"\n",
    "data = pd.read_csv(save_dir, sep=\" \", header=None, skiprows=1)\n",
    "data.columns = [x.replace(' ','') for x in pd.read_csv(save_dir, sep=\"|\", nrows=1).columns]\n",
    "\n",
    "for c in data.columns:\n",
    "    data[c]=data[c].apply(float)\n",
    "#define normalizing constants\n",
    "WAD = 10**18\n",
    "RAY = 10**27\n",
    "RAD = 10**45\n",
    "#normalize data to \"USD\" dimension\n",
    "data['MarketPrice(USD)'] = data['MarketPrice(WAD)']/WAD\n",
    "data['RedemptionPrice(USD)'] = data['RedemptionPrice(RAY)']/RAY\n",
    "data['PerSecondRedemptionRate(float)'] = data['PerSecondRedemptionRate(RAY)']/RAY - 1\n",
    "data['time'] = data['DelaySinceLastUpdate'].cumsum()\n",
    "data['timestamp'] = state_variables['timestamp'] + data['time'].apply(lambda x: dt.timedelta(seconds=x))"
   ]
  },
  {
   "cell_type": "code",
   "execution_count": null,
   "metadata": {},
   "outputs": [],
   "source": [
    "df"
   ]
  },
  {
   "cell_type": "code",
   "execution_count": null,
   "metadata": {},
   "outputs": [],
   "source": [
    "data"
   ]
  },
  {
   "cell_type": "code",
   "execution_count": null,
   "metadata": {},
   "outputs": [],
   "source": [
    "combined = df.merge(data, how='inner', on=['timestamp'])\n",
    "combined = combined.iloc[25:]\n",
    "combined"
   ]
  },
  {
   "cell_type": "code",
   "execution_count": null,
   "metadata": {},
   "outputs": [],
   "source": [
    "import matplotlib.pyplot as plt\n",
    "\n",
    "fig, axs = plt.subplots(2, 2, figsize=(15,10))\n",
    "\n",
    "i = 0\n",
    "axs.flat[i].plot(combined['timestamp'], combined['market_price'], label='Market')\n",
    "axs.flat[i].plot(combined['timestamp'], combined['target_price'], label='Target')\n",
    "axs.flat[i].set_ylabel('Python')\n",
    "axs.flat[i].set_title('Market and Target Price')\n",
    "axs.flat[i].legend()\n",
    "\n",
    "i += 1 \n",
    "axs.flat[i].plot(combined['timestamp'], combined['target_rate'])\n",
    "axs.flat[i].set_title('Per Second Redemption Rate')\n",
    "\n",
    "i += 1 \n",
    "axs.flat[i].plot(combined['timestamp'], combined['MarketPrice(USD)'], label='Market')\n",
    "axs.flat[i].plot(combined['timestamp'], combined['RedemptionPrice(USD)'], label='Target')\n",
    "axs.flat[i].legend()\n",
    "axs.flat[i].set_ylabel('Solidity')\n",
    "\n",
    "i += 1 \n",
    "axs.flat[i].plot(combined['timestamp'], combined['PerSecondRedemptionRate(float)'])\n",
    "\n",
    "fig.tight_layout()\n",
    "plt.show()\n",
    "fig.savefig('plots/solidity-cadcad/solidity-cadcad-market.png')"
   ]
  },
  {
   "cell_type": "code",
   "execution_count": null,
   "metadata": {},
   "outputs": [],
   "source": [
    "combined['market_price_error'] = combined['market_price'] - combined['MarketPrice(USD)']\n",
    "combined['market_price_error'].plot(legend=True)\n",
    "combined['market_price_cumulative_error'] = combined['market_price_error'].cumsum()\n",
    "combined['market_price_cumulative_error'].plot(legend=True)"
   ]
  },
  {
   "cell_type": "code",
   "execution_count": null,
   "metadata": {},
   "outputs": [],
   "source": [
    "combined['target_price_error'] = combined['target_price'] - combined['RedemptionPrice(USD)']\n",
    "combined['target_price_error'].plot(legend=True)\n",
    "combined['target_price_cumulative_error'] = combined['target_price_error'].cumsum()\n",
    "combined['target_price_cumulative_error'].plot(legend=True)\n",
    "plt.savefig('plots/solidity-cadcad/solidity-cadcad-error.png')"
   ]
  },
  {
   "cell_type": "code",
   "execution_count": null,
   "metadata": {},
   "outputs": [],
   "source": [
    "print(f'''\n",
    "Max error: {combined['target_price_error'].max()}\n",
    "Std. error: {combined['target_price_error'].std()}\n",
    "Mean error: {combined['target_price_error'].mean()}\n",
    "Abs. mean error: {combined['target_price_error'].abs().mean()}\n",
    "''')"
   ]
  },
  {
   "cell_type": "code",
   "execution_count": null,
   "metadata": {},
   "outputs": [],
   "source": [
    "combined['target_price_cumulative_error'].describe()"
   ]
  }
 ],
 "metadata": {
  "kernelspec": {
   "display_name": "Python (Reflexer)",
   "language": "python",
   "name": "python-reflexer"
  },
  "language_info": {
   "codemirror_mode": {
    "name": "ipython",
    "version": 3
   },
   "file_extension": ".py",
   "mimetype": "text/x-python",
   "name": "python",
   "nbconvert_exporter": "python",
   "pygments_lexer": "ipython3",
   "version": "3.8.5"
  }
 },
 "nbformat": 4,
 "nbformat_minor": 4
}