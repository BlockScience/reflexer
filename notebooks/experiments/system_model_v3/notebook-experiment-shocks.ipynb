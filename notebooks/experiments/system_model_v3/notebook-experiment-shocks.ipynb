{
 "cells": [
  {
   "cell_type": "markdown",
   "metadata": {},
   "source": [
    "# Experiment Analysis: Controller parameter stability search\n",
    "Perform shocks of ETH price to test controller parameter stability, without stochastic processes.\n",
    "\n",
    "* See `experiments/system_model_v3/experiment_shocks.py`"
   ]
  },
  {
   "cell_type": "markdown",
   "metadata": {},
   "source": [
    "# Setup and Dependencies"
   ]
  },
  {
   "cell_type": "code",
   "execution_count": 1,
   "metadata": {},
   "outputs": [
    {
     "name": "stdout",
     "output_type": "stream",
     "text": [
      "Name: cadCAD\n",
      "Version: 0.4.23\n",
      "Summary: cadCAD: a differential games based simulation software package for research, validation, and         Computer Aided Design of economic systems\n",
      "Home-page: https://github.com/cadCAD-org/cadCAD\n",
      "Author: Joshua E. Jodesty\n",
      "Author-email: joshua@block.science\n",
      "License: LICENSE.txt\n",
      "Location: /Users/georgekellerman/github/reflexer.bacl/venv/lib/python3.8/site-packages\n",
      "Requires: pandas, fn, pathos, funcy\n",
      "Required-by: cadCAD-machine-search\n",
      "Note: you may need to restart the kernel to use updated packages.\n",
      "Name: radcad\n",
      "Version: 0.5.6\n",
      "Summary: A cadCAD implementation, for dynamical systems modelling & simulation\n",
      "Home-page: None\n",
      "Author: Benjamin Scholtz\n",
      "Author-email: ben@bitsofether.com\n",
      "License: None\n",
      "Location: /Users/georgekellerman/github/reflexer.bacl/venv/lib/python3.8/site-packages\n",
      "Requires: boto3, ray, pandas, pathos, tables\n",
      "Required-by: \n",
      "Note: you may need to restart the kernel to use updated packages.\n"
     ]
    }
   ],
   "source": [
    "# Set project root folder, to enable importing project files from subdirectories\n",
    "from pathlib import Path\n",
    "import os\n",
    "\n",
    "path = Path().resolve()\n",
    "root_path = str(path).split('notebooks')[0]\n",
    "os.chdir(root_path)\n",
    "\n",
    "# Force reload of project modules, sometimes necessary for Jupyter kernel\n",
    "%load_ext autoreload\n",
    "%autoreload 2\n",
    "\n",
    "# Display framework versions for easy debugging\n",
    "%pip show cadCAD\n",
    "%pip show radcad"
   ]
  },
  {
   "cell_type": "code",
   "execution_count": 2,
   "metadata": {},
   "outputs": [],
   "source": [
    "# Import all shared dependencies and setup\n",
    "from shared import *\n",
    "\n",
    "import plotly.express as px\n",
    "import plotly.graph_objects as go\n",
    "from plotly.subplots import make_subplots\n",
    "import plotly.io as pio\n",
    "pio.renderers.default = \"png\"\n",
    "png_renderer = pio.renderers[\"png\"]\n",
    "png_renderer.width = 1000\n",
    "png_renderer.height = 600\n",
    "from pprint import pprint"
   ]
  },
  {
   "cell_type": "code",
   "execution_count": 3,
   "metadata": {},
   "outputs": [],
   "source": [
    "# Update dataframe display settings\n",
    "pd.set_option('display.max_columns', 100)\n",
    "pd.set_option('display.max_rows', 50)"
   ]
  },
  {
   "cell_type": "code",
   "execution_count": null,
   "metadata": {},
   "outputs": [],
   "source": []
  },
  {
   "cell_type": "markdown",
   "metadata": {},
   "source": [
    "# Load Results"
   ]
  },
  {
   "cell_type": "markdown",
   "metadata": {},
   "source": [
    "Using the experiment logs, select the experiment of interest from the specific HDF5 store file (these datasets are very large, and won't be committed to repo):"
   ]
  },
  {
   "cell_type": "code",
   "execution_count": 4,
   "metadata": {},
   "outputs": [],
   "source": [
    "experiment_results = 'experiments/system_model_v3/experiment_controller_sweep/experiment_results.hdf5'"
   ]
  },
  {
   "cell_type": "code",
   "execution_count": 5,
   "metadata": {},
   "outputs": [],
   "source": [
    "experiment_results_keys = []\n",
    "with pd.HDFStore(experiment_results) as store:\n",
    "    experiment_results_keys = list(filter(lambda x: \"results\" in x, store.keys()))\n",
    "    exceptions_keys = list(filter(lambda x: \"exceptions\" in x, store.keys()))"
   ]
  },
  {
   "cell_type": "code",
   "execution_count": 6,
   "metadata": {},
   "outputs": [
    {
     "data": {
      "text/plain": [
       "['/processed_results_2021-03-29T22:19:22.699859',\n",
       " '/processed_results_2021-03-29T22:53:14.585998',\n",
       " '/processed_results_2021-03-29T23:03:25.746529',\n",
       " '/results_2021-03-29T22:19:22.699859',\n",
       " '/results_2021-03-29T22:53:14.585998',\n",
       " '/results_2021-03-29T23:03:25.746529',\n",
       " '/results_2021-03-29T23:05:47.088901']"
      ]
     },
     "execution_count": 6,
     "metadata": {},
     "output_type": "execute_result"
    }
   ],
   "source": [
    "# A list of all experiment result keys\n",
    "experiment_results_keys"
   ]
  },
  {
   "cell_type": "code",
   "execution_count": 7,
   "metadata": {},
   "outputs": [],
   "source": [
    "# A list of all experiment result exception keys\n",
    "#exceptions_keys"
   ]
  },
  {
   "cell_type": "code",
   "execution_count": 8,
   "metadata": {},
   "outputs": [
    {
     "data": {
      "text/plain": [
       "'2021-03-29T23:05:47.088901'"
      ]
     },
     "execution_count": 8,
     "metadata": {},
     "output_type": "execute_result"
    }
   ],
   "source": [
    "# Copy a results_ key from the above keys to select the experiment\n",
    "res_ts = '2021-03-29T23:05:47.088901'\n",
    "experiment_results_key = 'results_' + res_ts # Or select last result: experiment_results_keys[-1]\n",
    "experiment_timestamp = experiment_results_key.strip('results_')\n",
    "exceptions_key = 'exceptions_' + experiment_timestamp\n",
    "experiment_timestamp"
   ]
  },
  {
   "cell_type": "code",
   "execution_count": 9,
   "metadata": {},
   "outputs": [],
   "source": [
    "df_raw = pd.read_hdf(experiment_results, experiment_results_key)"
   ]
  },
  {
   "cell_type": "markdown",
   "metadata": {},
   "source": [
    "Get experiment exceptions, tracebacks, and simulation metadata for further analysis:"
   ]
  },
  {
   "cell_type": "markdown",
   "metadata": {},
   "source": [
    "# Post Process Results"
   ]
  },
  {
   "cell_type": "code",
   "execution_count": 10,
   "metadata": {
    "lines_to_next_cell": 2
   },
   "outputs": [
    {
     "name": "stdout",
     "output_type": "stream",
     "text": [
      "[1.05]\n",
      "[0.2]\n",
      "[60]\n"
     ]
    }
   ],
   "source": [
    "from experiments.system_model_v3.post_process import post_process_results\n",
    "\n",
    "from experiments.system_model_v3.experiment_controller_sweep import params\n",
    "print(params['trader_market_premium'])\n",
    "print(params['price_trader_bound'])\n",
    "print(params['rate_trader_apy_bound'])"
   ]
  },
  {
   "cell_type": "markdown",
   "metadata": {},
   "source": [
    "Remove substeps, add `set_params` to dataframe, and add post-processing columns:"
   ]
  },
  {
   "cell_type": "code",
   "execution_count": 11,
   "metadata": {},
   "outputs": [
    {
     "name": "stdout",
     "output_type": "stream",
     "text": [
      "Adding new columns\n",
      "0.018244266510009766\n",
      "Getting parameter sweep\n",
      "0.018380165100097656\n",
      "Assigning parameters to subsets\n",
      "0.2052140235900879\n",
      "Creating target_price_scaled\n",
      "0.2117292881011963\n"
     ]
    }
   ],
   "source": [
    "df = post_process_results(df_raw, params, set_params=['kp', 'ki', 'kd', 'liquidation_ratio'])\n",
    "#df"
   ]
  },
  {
   "cell_type": "code",
   "execution_count": 12,
   "metadata": {},
   "outputs": [],
   "source": [
    "%%capture\n",
    "# Save the processed results to the same HDF5 store file\n",
    "df.to_hdf(experiment_results, key=f'processed_results_{experiment_timestamp}')"
   ]
  },
  {
   "cell_type": "markdown",
   "metadata": {},
   "source": [
    "# Control Parameters"
   ]
  },
  {
   "cell_type": "code",
   "execution_count": null,
   "metadata": {},
   "outputs": [],
   "source": []
  },
  {
   "cell_type": "code",
   "execution_count": 13,
   "metadata": {},
   "outputs": [],
   "source": [
    "df_control_parameters = df[['subset', 'kp', 'ki', 'kd']]\n",
    "\n",
    "df_control_parameters = df_control_parameters.drop_duplicates(subset=['kp', 'ki', 'kd'])\n",
    "#df_control_parameters"
   ]
  },
  {
   "cell_type": "markdown",
   "metadata": {},
   "source": [
    "# Simulation Analysis"
   ]
  },
  {
   "cell_type": "markdown",
   "metadata": {},
   "source": [
    "Get the initial target price to test stability conditions:"
   ]
  },
  {
   "cell_type": "code",
   "execution_count": 14,
   "metadata": {},
   "outputs": [],
   "source": [
    "initial_target_price = df['target_price'].iloc[0]\n",
    "initial_target_price\n",
    "df['apy'] = ((1 + df['target_rate']) ** (60*60*24*356) - 1) * 100"
   ]
  },
  {
   "cell_type": "markdown",
   "metadata": {},
   "source": [
    "Find all controller constant subsets where the price goes to zero:"
   ]
  },
  {
   "cell_type": "code",
   "execution_count": 15,
   "metadata": {},
   "outputs": [
    {
     "data": {
      "text/html": [
       "<div>\n",
       "<style scoped>\n",
       "    .dataframe tbody tr th:only-of-type {\n",
       "        vertical-align: middle;\n",
       "    }\n",
       "\n",
       "    .dataframe tbody tr th {\n",
       "        vertical-align: top;\n",
       "    }\n",
       "\n",
       "    .dataframe thead th {\n",
       "        text-align: right;\n",
       "    }\n",
       "</style>\n",
       "<table border=\"1\" class=\"dataframe\">\n",
       "  <thead>\n",
       "    <tr style=\"text-align: right;\">\n",
       "      <th></th>\n",
       "      <th>subset</th>\n",
       "      <th>kp</th>\n",
       "      <th>ki</th>\n",
       "      <th>kd</th>\n",
       "    </tr>\n",
       "  </thead>\n",
       "  <tbody>\n",
       "  </tbody>\n",
       "</table>\n",
       "</div>"
      ],
      "text/plain": [
       "Empty DataFrame\n",
       "Columns: [subset, kp, ki, kd]\n",
       "Index: []"
      ]
     },
     "execution_count": 15,
     "metadata": {},
     "output_type": "execute_result"
    }
   ],
   "source": [
    "df_market_price_zero = df.query(\"market_price <= 0.1*@initial_target_price\")\n",
    "df_market_price_zero[['subset', 'kp', 'ki', 'kd']].drop_duplicates(subset=['kp', 'ki', 'kd'])"
   ]
  },
  {
   "cell_type": "markdown",
   "metadata": {},
   "source": [
    "Find all controller constant subsets where the price goes to infinity:"
   ]
  },
  {
   "cell_type": "code",
   "execution_count": 16,
   "metadata": {},
   "outputs": [
    {
     "data": {
      "text/html": [
       "<div>\n",
       "<style scoped>\n",
       "    .dataframe tbody tr th:only-of-type {\n",
       "        vertical-align: middle;\n",
       "    }\n",
       "\n",
       "    .dataframe tbody tr th {\n",
       "        vertical-align: top;\n",
       "    }\n",
       "\n",
       "    .dataframe thead th {\n",
       "        text-align: right;\n",
       "    }\n",
       "</style>\n",
       "<table border=\"1\" class=\"dataframe\">\n",
       "  <thead>\n",
       "    <tr style=\"text-align: right;\">\n",
       "      <th></th>\n",
       "      <th>subset</th>\n",
       "      <th>kp</th>\n",
       "      <th>ki</th>\n",
       "      <th>kd</th>\n",
       "    </tr>\n",
       "  </thead>\n",
       "  <tbody>\n",
       "  </tbody>\n",
       "</table>\n",
       "</div>"
      ],
      "text/plain": [
       "Empty DataFrame\n",
       "Columns: [subset, kp, ki, kd]\n",
       "Index: []"
      ]
     },
     "execution_count": 16,
     "metadata": {},
     "output_type": "execute_result"
    }
   ],
   "source": [
    "df_market_price_infinity = df.query(\"market_price > 10*@initial_target_price\")\n",
    "df_market_price_infinity[['subset', 'kp', 'ki', 'kd']].drop_duplicates(subset=['kp', 'ki', 'kd'])"
   ]
  },
  {
   "cell_type": "markdown",
   "metadata": {},
   "source": [
    "Create dataframe of stable simulation scenarios.\n",
    "\n",
    "Stability is defined as:\n",
    "1. The market price and scaled target price remaining within 0.1x and 10x the starting price, for all timesteps"
   ]
  },
  {
   "cell_type": "code",
   "execution_count": 17,
   "metadata": {},
   "outputs": [],
   "source": [
    "initial_target_price = df['target_price'].iloc[0]\n",
    "initial_eth_price = df['eth_price'].iloc[0]\n",
    "last_timestep = df['timestep'].iloc[-1]"
   ]
  },
  {
   "cell_type": "code",
   "execution_count": 18,
   "metadata": {},
   "outputs": [],
   "source": [
    "from experiments.metrics import score\n",
    "SIMULATION_TIMESTEPS = 24 * 30 * 12\n",
    "MONTE_CARLO_RUNS = 8"
   ]
  },
  {
   "cell_type": "code",
   "execution_count": 19,
   "metadata": {},
   "outputs": [
    {
     "name": "stdout",
     "output_type": "stream",
     "text": [
      "mean_cv_ratios=1.7425359400923295\n",
      "unfinished_pct=0.0\n",
      "mean_degree_diffs=0.8751040892588889\n",
      "stable_final_price_pct=0.125\n",
      "too_high_apy_pct=0.06673128110172434\n",
      "unstable_inter_prices_pct=0.009735563013540099\n",
      "mse=1.2161494451863244\n"
     ]
    }
   ],
   "source": [
    "score = score('experiments/system_model_v3/experiment_controller_sweep', res_ts, params, MONTE_CARLO_RUNS, SIMULATION_TIMESTEPS)"
   ]
  },
  {
   "cell_type": "code",
   "execution_count": 20,
   "metadata": {},
   "outputs": [
    {
     "data": {
      "text/plain": [
       "29.871600398797653"
      ]
     },
     "execution_count": 20,
     "metadata": {},
     "output_type": "execute_result"
    }
   ],
   "source": [
    "score"
   ]
  },
  {
   "cell_type": "code",
   "execution_count": 21,
   "metadata": {},
   "outputs": [
    {
     "data": {
      "text/plain": [
       "'\\nmean_cv_ratios=50.682489103510136\\nunfinished_pct=0.0\\nmean_degree_diffs=0.5037777258900092\\nstable_final_price_pct=0.0\\ntoo_high_apy_pct=0.017994858611825194\\nunstable_inter_prices_pct=0.6915167095115681\\nmse=1.595231229563733\\n'"
      ]
     },
     "execution_count": 21,
     "metadata": {},
     "output_type": "execute_result"
    }
   ],
   "source": [
    "\"\"\"\n",
    "mean_cv_ratios=50.682489103510136\n",
    "unfinished_pct=0.0\n",
    "mean_degree_diffs=0.5037777258900092\n",
    "stable_final_price_pct=0.0\n",
    "too_high_apy_pct=0.017994858611825194\n",
    "unstable_inter_prices_pct=0.6915167095115681\n",
    "mse=1.595231229563733\n",
    "\"\"\""
   ]
  },
  {
   "cell_type": "code",
   "execution_count": null,
   "metadata": {},
   "outputs": [],
   "source": []
  },
  {
   "cell_type": "code",
   "execution_count": null,
   "metadata": {},
   "outputs": [],
   "source": []
  },
  {
   "cell_type": "code",
   "execution_count": null,
   "metadata": {},
   "outputs": [],
   "source": []
  },
  {
   "cell_type": "code",
   "execution_count": null,
   "metadata": {},
   "outputs": [],
   "source": []
  },
  {
   "cell_type": "code",
   "execution_count": null,
   "metadata": {},
   "outputs": [],
   "source": []
  },
  {
   "cell_type": "code",
   "execution_count": null,
   "metadata": {},
   "outputs": [],
   "source": []
  },
  {
   "cell_type": "code",
   "execution_count": null,
   "metadata": {},
   "outputs": [],
   "source": []
  },
  {
   "cell_type": "code",
   "execution_count": 22,
   "metadata": {},
   "outputs": [
    {
     "data": {
      "image/png": "[encoded data removed]"
     },
     "metadata": {},
     "output_type": "display_data"
    },
    {
     "ename": "NameError",
     "evalue": "name 'df_stable_price' is not defined",
     "output_type": "error",
     "traceback": [
      "\u001b[0;31m---------------------------------------------------------------------------\u001b[0m",
      "\u001b[0;31mNameError\u001b[0m                                 Traceback (most recent call last)",
      "\u001b[0;32m<ipython-input-22-9060924a28c7>\u001b[0m in \u001b[0;36m<module>\u001b[0;34m\u001b[0m\n\u001b[1;32m     16\u001b[0m     \u001b[0mfig\u001b[0m\u001b[0;34m.\u001b[0m\u001b[0mshow\u001b[0m\u001b[0;34m(\u001b[0m\u001b[0;34m)\u001b[0m\u001b[0;34m\u001b[0m\u001b[0;34m\u001b[0m\u001b[0m\n\u001b[1;32m     17\u001b[0m     fig = px.line(\n\u001b[0;32m---> 18\u001b[0;31m         \u001b[0mdf_stable_price\u001b[0m\u001b[0;34m.\u001b[0m\u001b[0mquery\u001b[0m\u001b[0;34m(\u001b[0m\u001b[0;34mf'run == {i}'\u001b[0m\u001b[0;34m)\u001b[0m\u001b[0;34m,\u001b[0m\u001b[0;34m\u001b[0m\u001b[0;34m\u001b[0m\u001b[0m\n\u001b[0m\u001b[1;32m     19\u001b[0m         \u001b[0mtitle\u001b[0m\u001b[0;34m=\u001b[0m\u001b[0;34mf\"Run {i}\"\u001b[0m\u001b[0;34m,\u001b[0m\u001b[0;34m\u001b[0m\u001b[0;34m\u001b[0m\u001b[0m\n\u001b[1;32m     20\u001b[0m         \u001b[0mx\u001b[0m\u001b[0;34m=\u001b[0m\u001b[0;34m\"timestamp\"\u001b[0m\u001b[0;34m,\u001b[0m\u001b[0;34m\u001b[0m\u001b[0;34m\u001b[0m\u001b[0m\n",
      "\u001b[0;31mNameError\u001b[0m: name 'df_stable_price' is not defined"
     ]
    }
   ],
   "source": [
    "'''\n",
    "df.query(f'subset == 0 & run == 1')[['timestamp', 'eth_price', 'run']].plot(\n",
    "        title=f\"Run i ETH\",\n",
    "        x='timestamp',\n",
    "        y='eth_price', \n",
    "        color='run'\n",
    ")\n",
    "'''\n",
    "for i in range(1, 9):\n",
    "    fig = px.line(\n",
    "        df.query(f'subset == 0 &run == {i}')[['timestamp', 'eth_price', 'run']],\n",
    "        title=f\"Run {i}\",\n",
    "        x=\"timestamp\",\n",
    "        y=[\"eth_price\"]\n",
    "    )\n",
    "    fig.show()\n",
    "    fig = px.line(\n",
    "        df_stable_price.query(f'run == {i}'),\n",
    "        title=f\"Run {i}\",\n",
    "        x=\"timestamp\",\n",
    "        y=[\"market_price\", \"market_price_twap\", \"target_price\"],\n",
    "        facet_col=\"kp\",\n",
    "        facet_row=\"kd\",\n",
    "        facet_col_wrap=2,\n",
    "        height=1000\n",
    "    )\n",
    "    # fig.for_each_annotation(lambda a: a.update(text = f\"kp={param_sweep[int(a.text.split('=')[-1])]['kp']} ki={param_sweep[int(a.text.split('=')[-1])]['ki']}\"))\n",
    "    fig.show()\n",
    "    fig = px.line(\n",
    "        df_stable_price.query(f'run == {i}'),\n",
    "        title=f\"Run {i} rates\",\n",
    "        x=\"timestamp\",\n",
    "        y=[\"apy\"],\n",
    "        facet_col=\"kp\",\n",
    "        facet_row=\"kd\",\n",
    "        facet_col_wrap=2,\n",
    "        height=1000\n",
    "    )\n",
    "    # fig.for_each_annotation(lambda a: a.update(text = f\"kp={param_sweep[int(a.text.split('=')[-1])]['kp']} ki={param_sweep[int(a.text.split('=')[-1])]['ki']}\"))\n",
    "    fig.show()"
   ]
  },
  {
   "cell_type": "code",
   "execution_count": null,
   "metadata": {},
   "outputs": [],
   "source": [
    "fig = px.line(\n",
    "    df_stable_price, \n",
    "    title=\"Reflexer principal debt\",\n",
    "    x=\"timestamp\", \n",
    "    y=[\"principal_debt\"], \n",
    "    color='run', \n",
    "    facet_col=\"subset\", \n",
    "    facet_col_wrap=5,\n",
    "    height=1000\n",
    ")\n",
    "fig.show()"
   ]
  },
  {
   "cell_type": "code",
   "execution_count": null,
   "metadata": {},
   "outputs": [],
   "source": [
    "fig = px.line(\n",
    "    df_stable_price, \n",
    "    title=\"Secondary market RAI balance\",\n",
    "    x=\"timestamp\", \n",
    "    y=[\"RAI_balance\"], \n",
    "    color='run', \n",
    "    facet_col=\"subset\", \n",
    "    facet_col_wrap=5,\n",
    "    height=1000\n",
    ")\n",
    "fig.show()"
   ]
  },
  {
   "cell_type": "code",
   "execution_count": null,
   "metadata": {},
   "outputs": [],
   "source": [
    "fig = px.line(\n",
    "    df_stable_price, \n",
    "    title=\"Reflexer ETH collateral\",\n",
    "    x=\"timestamp\", \n",
    "    y=[\"eth_collateral\"], \n",
    "    color='run', \n",
    "    facet_col=\"subset\", \n",
    "    facet_col_wrap=5,\n",
    "    height=1000\n",
    ")\n",
    "fig.show()"
   ]
  },
  {
   "cell_type": "code",
   "execution_count": null,
   "metadata": {},
   "outputs": [],
   "source": [
    "fig = px.line(\n",
    "    df_stable_price, \n",
    "    title=\"Secondary market ETH balance\",\n",
    "    x=\"timestamp\", \n",
    "    y=[\"ETH_balance\"], \n",
    "    color='run', \n",
    "    facet_col=\"subset\", \n",
    "    facet_col_wrap=5,\n",
    "    height=1000\n",
    ")\n",
    "fig.show()"
   ]
  },
  {
   "cell_type": "code",
   "execution_count": null,
   "metadata": {},
   "outputs": [],
   "source": [
    "df_stable_price.plot(\n",
    "    x='timestamp', \n",
    "    y=['collateralization_ratio'], \n",
    "    title='Collateralization ratio', \n",
    "    facet_col=\"subset\",\n",
    "    facet_col_wrap=5,\n",
    "    height=1000\n",
    ")"
   ]
  }
 ],
 "metadata": {
  "jupytext": {
   "cell_metadata_filter": "-all",
   "encoding": "# -*- coding: utf-8 -*-",
   "formats": "ipynb,py:percent"
  },
  "kernelspec": {
   "display_name": "Python 3",
   "language": "python",
   "name": "python3"
  },
  "language_info": {
   "codemirror_mode": {
    "name": "ipython",
    "version": 3
   },
   "file_extension": ".py",
   "mimetype": "text/x-python",
   "name": "python",
   "nbconvert_exporter": "python",
   "pygments_lexer": "ipython3",
   "version": "3.8.7"
  }
 },
 "nbformat": 4,
 "nbformat_minor": 4
}
