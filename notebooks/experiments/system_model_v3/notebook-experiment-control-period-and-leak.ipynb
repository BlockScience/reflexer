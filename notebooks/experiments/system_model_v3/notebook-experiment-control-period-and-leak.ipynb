{
 "cells": [
  {
   "cell_type": "markdown",
   "metadata": {},
   "source": [
    "# Experiment Analysis: The effect of liquidation ratio and price rescaling\n",
    "Analyse the effect of setting the parameters `rescale_target_price` and `arbitrageur_considers_liquidation_ratio` to false.\n",
    "\n",
    "* See `experiments/system_model_v3/experiment_liquidation_ratio.py`"
   ]
  },
  {
   "cell_type": "markdown",
   "metadata": {},
   "source": [
    "# Setup and Dependencies"
   ]
  },
  {
   "cell_type": "code",
   "execution_count": null,
   "metadata": {},
   "outputs": [],
   "source": [
    "# Set project root folder, to enable importing project files from subdirectories\n",
    "from pathlib import Path\n",
    "import os\n",
    "\n",
    "path = Path().resolve()\n",
    "root_path = str(path).split('notebooks')[0]\n",
    "os.chdir(root_path)\n",
    "\n",
    "# Force reload of project modules, sometimes necessary for Jupyter kernel\n",
    "%load_ext autoreload\n",
    "%autoreload 2\n",
    "\n",
    "# Display framework versions for easy debugging\n",
    "%pip show cadCAD\n",
    "%pip show radcad"
   ]
  },
  {
   "cell_type": "code",
   "execution_count": null,
   "metadata": {},
   "outputs": [],
   "source": [
    "# Import all shared dependencies and setup\n",
    "from shared import *\n",
    "\n",
    "import plotly.express as px\n",
    "import plotly.graph_objects as go\n",
    "from plotly.subplots import make_subplots\n",
    "# import plotly.io as pio\n",
    "# pio.renderers.default = \"png\"\n",
    "from pprint import pprint"
   ]
  },
  {
   "cell_type": "code",
   "execution_count": null,
   "metadata": {},
   "outputs": [],
   "source": [
    "# Update dataframe display settings\n",
    "pd.set_option('display.max_columns', 100)\n",
    "pd.set_option('display.max_rows', 50)"
   ]
  },
  {
   "cell_type": "markdown",
   "metadata": {},
   "source": [
    "# Load Results"
   ]
  },
  {
   "cell_type": "markdown",
   "metadata": {},
   "source": [
    "Using the experiment logs, select the experiment of interest from the specific HDF5 store file (these datasets are very large, and won't be committed to repo):"
   ]
  },
  {
   "cell_type": "code",
   "execution_count": null,
   "metadata": {},
   "outputs": [],
   "source": [
    "experiment_results = 'experiments/system_model_v3/experiment_control_period_and_leak/experiment_results.hdf5'"
   ]
  },
  {
   "cell_type": "code",
   "execution_count": null,
   "metadata": {},
   "outputs": [],
   "source": [
    "experiment_results_keys = []\n",
    "with pd.HDFStore(experiment_results) as store:\n",
    "    experiment_results_keys = list(filter(lambda x: \"results\" in x, store.keys()))\n",
    "    exceptions_keys = list(filter(lambda x: \"exceptions\" in x, store.keys()))"
   ]
  },
  {
   "cell_type": "code",
   "execution_count": null,
   "metadata": {},
   "outputs": [],
   "source": [
    "# A list of all experiment result keys\n",
    "experiment_results_keys"
   ]
  },
  {
   "cell_type": "code",
   "execution_count": null,
   "metadata": {},
   "outputs": [],
   "source": [
    "# A list of all experiment result exception keys\n",
    "exceptions_keys"
   ]
  },
  {
   "cell_type": "code",
   "execution_count": null,
   "metadata": {},
   "outputs": [],
   "source": [
    "# Copy a results_ key from the above keys to select the experiment\n",
    "experiment_results_key = 'results_2021-02-10T08:43:25.677821' # Or select last result: experiment_results_keys[-1]\n",
    "experiment_timestamp = experiment_results_key.strip('results_')\n",
    "exceptions_key = 'exceptions_' + experiment_timestamp\n",
    "experiment_timestamp"
   ]
  },
  {
   "cell_type": "code",
   "execution_count": null,
   "metadata": {},
   "outputs": [],
   "source": [
    "df_raw = pd.read_hdf(experiment_results, experiment_results_key)\n",
    "df_raw.tail()"
   ]
  },
  {
   "cell_type": "markdown",
   "metadata": {},
   "source": [
    "Get experiment exceptions, tracebacks, and simulation metadata for further analysis:"
   ]
  },
  {
   "cell_type": "code",
   "execution_count": null,
   "metadata": {},
   "outputs": [],
   "source": [
    "exceptions_df = pd.read_hdf(experiment_results, exceptions_key)\n",
    "exceptions_df.head()"
   ]
  },
  {
   "cell_type": "code",
   "execution_count": null,
   "metadata": {},
   "outputs": [],
   "source": [
    "# Print the first 5 exceptions - indicating failed simulations\n",
    "pprint(list(exceptions_df['exception'])[:5])"
   ]
  },
  {
   "cell_type": "markdown",
   "metadata": {},
   "source": [
    "# Post Process Results"
   ]
  },
  {
   "cell_type": "code",
   "execution_count": null,
   "metadata": {},
   "outputs": [],
   "source": [
    "from experiments.system_model_v3.post_process import post_process_results\n",
    "from experiments.system_model_v3.experiment_control_period_and_leak import params, SIMULATION_TIMESTEPS"
   ]
  },
  {
   "cell_type": "markdown",
   "metadata": {},
   "source": [
    "Remove substeps, add `set_params` to dataframe, and add post-processing columns:"
   ]
  },
  {
   "cell_type": "code",
   "execution_count": null,
   "metadata": {},
   "outputs": [],
   "source": [
    "df = post_process_results(df_raw, params, set_params=['ki', 'kp', 'liquidation_ratio', 'control_period', 'alpha'])\n",
    "df"
   ]
  },
  {
   "cell_type": "code",
   "execution_count": null,
   "metadata": {},
   "outputs": [],
   "source": [
    "%%capture\n",
    "# Save the processed results to the same HDF5 store file\n",
    "df.to_hdf(experiment_results, key=f'processed_results_{experiment_timestamp}')"
   ]
  },
  {
   "cell_type": "markdown",
   "metadata": {},
   "source": [
    "# Control Parameters"
   ]
  },
  {
   "cell_type": "code",
   "execution_count": null,
   "metadata": {},
   "outputs": [],
   "source": [
    "from radcad.core import generate_parameter_sweep\n",
    "\n",
    "param_sweep = generate_parameter_sweep(params)"
   ]
  },
  {
   "cell_type": "code",
   "execution_count": null,
   "metadata": {},
   "outputs": [],
   "source": [
    "df_control_parameters = df[['subset', 'kp', 'ki']]\n",
    "\n",
    "df_control_parameters = df_control_parameters.drop_duplicates(subset=['kp', 'ki'])\n",
    "df_control_parameters"
   ]
  },
  {
   "cell_type": "markdown",
   "metadata": {},
   "source": [
    "# Simulation Analysis"
   ]
  },
  {
   "cell_type": "code",
   "execution_count": null,
   "metadata": {},
   "outputs": [],
   "source": [
    "df.query('subset == 0')[['timestamp', 'eth_price', 'run']].plot(\n",
    "    title=\"ETH price shocks (positive and negative step and impulse; one shock type for each run)\",\n",
    "    x='timestamp',\n",
    "    y='eth_price', \n",
    "    color='run'\n",
    ")"
   ]
  },
  {
   "cell_type": "markdown",
   "metadata": {},
   "source": [
    "Experiment parameter subsets:"
   ]
  },
  {
   "cell_type": "code",
   "execution_count": null,
   "metadata": {},
   "outputs": [],
   "source": [
    "df[['subset', 'kp', 'ki', 'control_period', 'alpha']] \\\n",
    "    .drop_duplicates(subset=['kp', 'ki', 'control_period', 'alpha'])"
   ]
  },
  {
   "cell_type": "code",
   "execution_count": null,
   "metadata": {},
   "outputs": [],
   "source": [
    "fig = px.line(\n",
    "    df.query('run == 1'),\n",
    "    title=\"Price response for all control parameter subsets, first run\",\n",
    "    x=\"timestamp\",\n",
    "    y=[\"market_price\", \"market_price_twap\", \"target_price_scaled\"], \n",
    "    facet_col=\"subset\",\n",
    "    facet_col_wrap=4,\n",
    "    facet_row_spacing=0.04, # default is 0.07 when facet_col_wrap is used\n",
    "    facet_col_spacing=0.04, # default is 0.03\n",
    "    height=2000\n",
    ")\n",
    "fig.show()"
   ]
  },
  {
   "cell_type": "markdown",
   "metadata": {},
   "source": [
    "Get the initial target price to test stability conditions:"
   ]
  },
  {
   "cell_type": "code",
   "execution_count": null,
   "metadata": {},
   "outputs": [],
   "source": [
    "initial_target_price = df['target_price'].iloc[0]\n",
    "initial_target_price"
   ]
  },
  {
   "cell_type": "markdown",
   "metadata": {},
   "source": [
    "Find all controller constant subsets where the price goes to zero:"
   ]
  },
  {
   "cell_type": "code",
   "execution_count": null,
   "metadata": {},
   "outputs": [],
   "source": [
    "df_market_price_zero = df.query(\"market_price <= 0.1*@initial_target_price\")\n",
    "df_market_price_zero[['subset', 'kp', 'ki']].drop_duplicates(subset=['kp', 'ki'])"
   ]
  },
  {
   "cell_type": "markdown",
   "metadata": {},
   "source": [
    "Find all controller constant subsets where the price goes to infinity:"
   ]
  },
  {
   "cell_type": "code",
   "execution_count": null,
   "metadata": {},
   "outputs": [],
   "source": [
    "df_market_price_infinity = df.query(\"market_price > 10*@initial_target_price\")\n",
    "df_market_price_infinity[['subset', 'kp', 'ki']].drop_duplicates(subset=['kp', 'ki'])"
   ]
  },
  {
   "cell_type": "markdown",
   "metadata": {},
   "source": [
    "Create dataframe of stable simulation scenarios.\n",
    "\n",
    "Stability is defined as:\n",
    "1. The market price and scaled target price remaining within 0.1x and 10x the starting price, for all timesteps"
   ]
  },
  {
   "cell_type": "code",
   "execution_count": null,
   "metadata": {},
   "outputs": [],
   "source": [
    "df['stable_price'] = False\n",
    "df.loc[df.eval(\"\"\"\n",
    "0.1*@initial_target_price < market_price <= 10*@initial_target_price and 0.1*@initial_target_price < target_price_scaled <= 10*@initial_target_price\n",
    "\"\"\"), 'stable_price'] = True\n",
    "df_stable_price = df.groupby(\"subset\").filter(lambda x: all(x.query('timestep > 24*2')['stable_price'])) #  and x['timestep'].max() == SIMULATION_TIMESTEPS\n",
    "df_stable_price['subset'].unique()"
   ]
  },
  {
   "cell_type": "code",
   "execution_count": null,
   "metadata": {},
   "outputs": [],
   "source": [
    "fig = px.line(\n",
    "    df_stable_price.query('run == 2'),\n",
    "    title=\"ETH price 30% step response\",\n",
    "    x=\"timestamp\",\n",
    "    y=[\"market_price\", \"market_price_twap\", \"target_price_scaled\"],\n",
    "    facet_col=\"kp\",\n",
    "    facet_row=\"ki\",\n",
    "    facet_col_wrap=2,\n",
    "    height=1000\n",
    ")\n",
    "fig.show()"
   ]
  },
  {
   "cell_type": "code",
   "execution_count": null,
   "metadata": {},
   "outputs": [],
   "source": [
    "fig = px.line(\n",
    "    df_stable_price.query('run == 3'),\n",
    "    title=\"ETH price 30% impulse response\",\n",
    "    x=\"timestamp\",\n",
    "    y=[\"market_price\", \"market_price_twap\", \"target_price_scaled\"],\n",
    "    facet_col=\"kp\",\n",
    "    facet_row=\"ki\",\n",
    "    facet_col_wrap=2,\n",
    "    height=1000\n",
    ")\n",
    "fig.show()"
   ]
  },
  {
   "cell_type": "code",
   "execution_count": null,
   "metadata": {},
   "outputs": [],
   "source": [
    "fig = px.line(\n",
    "    df_stable_price.query('run == 4'),\n",
    "    title=\"ETH price negative 30% step response\",\n",
    "    x=\"timestamp\",\n",
    "    y=[\"market_price\", \"market_price_twap\", \"target_price_scaled\"],\n",
    "    facet_col=\"kp\",\n",
    "    facet_row=\"ki\",\n",
    "    facet_col_wrap=2,\n",
    "    height=1000\n",
    ")\n",
    "fig.show()"
   ]
  },
  {
   "cell_type": "code",
   "execution_count": null,
   "metadata": {},
   "outputs": [],
   "source": [
    "fig = px.line(\n",
    "    df_stable_price.query('run == 4 and kp == 2e-07 and ki == -5e-9 and control_period == 21600'),\n",
    "    title=\"ETH price negative 30% step response\",\n",
    "    x=\"timestamp\",\n",
    "    y=[\"market_price\", \"market_price_twap\", \"target_price_scaled\"],\n",
    "    facet_col=\"alpha\",\n",
    "    facet_col_wrap=2,\n",
    "    height=1000\n",
    ")\n",
    "fig.show()"
   ]
  },
  {
   "cell_type": "code",
   "execution_count": null,
   "metadata": {},
   "outputs": [],
   "source": [
    "df_stable_price.query('run == 4 and kp == 2e-07 and ki == -5e-9 and control_period == 21600')['alpha'].unique()"
   ]
  },
  {
   "cell_type": "code",
   "execution_count": null,
   "metadata": {},
   "outputs": [],
   "source": [
    "fig = px.line(\n",
    "    df_stable_price.query('run == 4 and kp == 2e-07 and ki == -5e-9'),\n",
    "    title=\"ETH price negative 30% step response\",\n",
    "    x=\"timestamp\",\n",
    "    y=[\"market_price\", \"market_price_twap\", \"target_price_scaled\"],\n",
    "    facet_col=\"control_period\",\n",
    "    facet_col_wrap=2,\n",
    "    height=1000\n",
    ")\n",
    "fig.show()"
   ]
  },
  {
   "cell_type": "code",
   "execution_count": null,
   "metadata": {},
   "outputs": [],
   "source": [
    "fig = px.line(\n",
    "    df_stable_price.query('run == 5'),\n",
    "    title=\"ETH price negative 30% impulse response\",\n",
    "    x=\"timestamp\",\n",
    "    y=[\"market_price\", \"market_price_twap\", \"target_price_scaled\"],\n",
    "    facet_col=\"kp\",\n",
    "    facet_row=\"ki\",\n",
    "    facet_col_wrap=2,\n",
    "    height=1000\n",
    ")\n",
    "fig.show()"
   ]
  },
  {
   "cell_type": "code",
   "execution_count": null,
   "metadata": {},
   "outputs": [],
   "source": [
    "fig = px.line(\n",
    "    df_stable_price, \n",
    "    title=\"Reflexer principal debt\",\n",
    "    x=\"timestamp\", \n",
    "    y=[\"principal_debt\"], \n",
    "    color='run', \n",
    "    facet_col=\"subset\", \n",
    "    facet_col_wrap=5,\n",
    "    height=1000\n",
    ")\n",
    "fig.show()"
   ]
  },
  {
   "cell_type": "code",
   "execution_count": null,
   "metadata": {},
   "outputs": [],
   "source": [
    "fig = px.line(\n",
    "    df_stable_price, \n",
    "    title=\"Secondary market RAI balance\",\n",
    "    x=\"timestamp\", \n",
    "    y=[\"RAI_balance\"], \n",
    "    color='run', \n",
    "    facet_col=\"subset\", \n",
    "    facet_col_wrap=5,\n",
    "    height=1000\n",
    ")\n",
    "fig.show()"
   ]
  },
  {
   "cell_type": "code",
   "execution_count": null,
   "metadata": {},
   "outputs": [],
   "source": [
    "fig = px.line(\n",
    "    df_stable_price, \n",
    "    title=\"Reflexer ETH collateral\",\n",
    "    x=\"timestamp\", \n",
    "    y=[\"eth_collateral\"], \n",
    "    color='run', \n",
    "    facet_col=\"subset\", \n",
    "    facet_col_wrap=5,\n",
    "    height=1000\n",
    ")\n",
    "fig.show()"
   ]
  },
  {
   "cell_type": "code",
   "execution_count": null,
   "metadata": {},
   "outputs": [],
   "source": [
    "fig = px.line(\n",
    "    df_stable_price, \n",
    "    title=\"Secondary market ETH balance\",\n",
    "    x=\"timestamp\", \n",
    "    y=[\"ETH_balance\"], \n",
    "    color='run', \n",
    "    facet_col=\"subset\", \n",
    "    facet_col_wrap=5,\n",
    "    height=1000\n",
    ")\n",
    "fig.show()"
   ]
  },
  {
   "cell_type": "code",
   "execution_count": null,
   "metadata": {},
   "outputs": [],
   "source": [
    "df_stable_price.plot(\n",
    "    x='timestamp', \n",
    "    y=['collateralization_ratio'], \n",
    "    title='Collateralization ratio', \n",
    "    facet_col=\"subset\",\n",
    "    facet_col_wrap=5,\n",
    "    height=1000\n",
    ")"
   ]
  },
  {
   "cell_type": "code",
   "execution_count": null,
   "metadata": {},
   "outputs": [],
   "source": []
  }
 ],
 "metadata": {
  "jupytext": {
   "cell_metadata_filter": "-all",
   "encoding": "# -*- coding: utf-8 -*-",
   "formats": "ipynb,py:percent"
  },
  "kernelspec": {
   "display_name": "Python (Reflexer)",
   "language": "python",
   "name": "python-reflexer"
  },
  "language_info": {
   "codemirror_mode": {
    "name": "ipython",
    "version": 3
   },
   "file_extension": ".py",
   "mimetype": "text/x-python",
   "name": "python",
   "nbconvert_exporter": "python",
   "pygments_lexer": "ipython3",
   "version": "3.8.6"
  }
 },
 "nbformat": 4,
 "nbformat_minor": 4
}
