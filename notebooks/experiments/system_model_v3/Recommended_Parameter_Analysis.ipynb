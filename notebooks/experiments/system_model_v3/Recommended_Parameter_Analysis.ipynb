{
 "cells": [
  {
   "cell_type": "markdown",
   "metadata": {},
   "source": [
    "# Recommended Parameter Analysis \n",
    "\n",
    "# TODO:\n",
    "* Make plot showing how many experiments were run. \n",
    "\n",
    "## Overview\n",
    "\n",
    "As the result of an exhaustive parameter sweep search outline [here](https://hackmd.io/pDc6UM9tSiCZUjoEv7GMNQ?both), the recommended parameters data set is analyzed in this notebook in order to aid intuition around the recommended parameters. "
   ]
  },
  {
   "cell_type": "code",
   "execution_count": 1,
   "metadata": {},
   "outputs": [],
   "source": [
    "# import libraries\n",
    "import pandas as pd\n",
    "import pickle as pk\n",
    "import matplotlib.pyplot as plt\n",
    "\n",
    "%matplotlib inline"
   ]
  },
  {
   "cell_type": "code",
   "execution_count": 2,
   "metadata": {},
   "outputs": [],
   "source": [
    "parameter_df = pd.read_pickle(\"saved_results/processed_results.pickle\")"
   ]
  },
  {
   "cell_type": "code",
   "execution_count": 3,
   "metadata": {},
   "outputs": [
    {
     "data": {
      "text/html": [
       "<div>\n",
       "<style scoped>\n",
       "    .dataframe tbody tr th:only-of-type {\n",
       "        vertical-align: middle;\n",
       "    }\n",
       "\n",
       "    .dataframe tbody tr th {\n",
       "        vertical-align: top;\n",
       "    }\n",
       "\n",
       "    .dataframe thead th {\n",
       "        text-align: right;\n",
       "    }\n",
       "</style>\n",
       "<table border=\"1\" class=\"dataframe\">\n",
       "  <thead>\n",
       "    <tr style=\"text-align: right;\">\n",
       "      <th></th>\n",
       "      <th>timedelta</th>\n",
       "      <th>cumulative_time</th>\n",
       "      <th>timestamp</th>\n",
       "      <th>eth_price</th>\n",
       "      <th>liquidity_demand</th>\n",
       "      <th>liquidity_demand_mean</th>\n",
       "      <th>eth_collateral</th>\n",
       "      <th>eth_locked</th>\n",
       "      <th>eth_freed</th>\n",
       "      <th>principal_debt</th>\n",
       "      <th>...</th>\n",
       "      <th>ki</th>\n",
       "      <th>kp</th>\n",
       "      <th>alpha</th>\n",
       "      <th>liquidation_ratio</th>\n",
       "      <th>controller_enabled</th>\n",
       "      <th>control_period</th>\n",
       "      <th>liquidity_demand_shock</th>\n",
       "      <th>arbitrageur_considers_liquidation_ratio</th>\n",
       "      <th>rescale_target_price</th>\n",
       "      <th>target_price_scaled</th>\n",
       "    </tr>\n",
       "  </thead>\n",
       "  <tbody>\n",
       "    <tr>\n",
       "      <th>0</th>\n",
       "      <td>0</td>\n",
       "      <td>0</td>\n",
       "      <td>2017-01-01 00:00:00</td>\n",
       "      <td>294.069151</td>\n",
       "      <td>1.000000</td>\n",
       "      <td>1.000000</td>\n",
       "      <td>154827.528922</td>\n",
       "      <td>154827.528922</td>\n",
       "      <td>0.000000</td>\n",
       "      <td>1.000000e+07</td>\n",
       "      <td>...</td>\n",
       "      <td>-5.000000e-09</td>\n",
       "      <td>2.000000e-07</td>\n",
       "      <td>9.990000e+26</td>\n",
       "      <td>1.45</td>\n",
       "      <td>True</td>\n",
       "      <td>14400.0</td>\n",
       "      <td>False</td>\n",
       "      <td>True</td>\n",
       "      <td>True</td>\n",
       "      <td>4.553</td>\n",
       "    </tr>\n",
       "    <tr>\n",
       "      <th>1</th>\n",
       "      <td>3600</td>\n",
       "      <td>3600</td>\n",
       "      <td>2017-01-01 01:00:00</td>\n",
       "      <td>291.208252</td>\n",
       "      <td>906.674484</td>\n",
       "      <td>453.837242</td>\n",
       "      <td>154827.528922</td>\n",
       "      <td>154827.528922</td>\n",
       "      <td>0.000000</td>\n",
       "      <td>1.450000e+07</td>\n",
       "      <td>...</td>\n",
       "      <td>-5.000000e-09</td>\n",
       "      <td>2.000000e-07</td>\n",
       "      <td>9.990000e+26</td>\n",
       "      <td>1.45</td>\n",
       "      <td>True</td>\n",
       "      <td>14400.0</td>\n",
       "      <td>False</td>\n",
       "      <td>True</td>\n",
       "      <td>True</td>\n",
       "      <td>3.140</td>\n",
       "    </tr>\n",
       "    <tr>\n",
       "      <th>2</th>\n",
       "      <td>3600</td>\n",
       "      <td>7200</td>\n",
       "      <td>2017-01-01 02:00:00</td>\n",
       "      <td>292.287792</td>\n",
       "      <td>-326.024615</td>\n",
       "      <td>63.906314</td>\n",
       "      <td>107503.536596</td>\n",
       "      <td>154827.528922</td>\n",
       "      <td>47323.992326</td>\n",
       "      <td>9.970037e+06</td>\n",
       "      <td>...</td>\n",
       "      <td>-5.000000e-09</td>\n",
       "      <td>2.000000e-07</td>\n",
       "      <td>9.990000e+26</td>\n",
       "      <td>1.45</td>\n",
       "      <td>True</td>\n",
       "      <td>14400.0</td>\n",
       "      <td>False</td>\n",
       "      <td>True</td>\n",
       "      <td>True</td>\n",
       "      <td>3.140</td>\n",
       "    </tr>\n",
       "    <tr>\n",
       "      <th>3</th>\n",
       "      <td>3600</td>\n",
       "      <td>10800</td>\n",
       "      <td>2017-01-01 03:00:00</td>\n",
       "      <td>289.343698</td>\n",
       "      <td>209.658450</td>\n",
       "      <td>136.782382</td>\n",
       "      <td>107503.536596</td>\n",
       "      <td>154827.528922</td>\n",
       "      <td>47323.992326</td>\n",
       "      <td>1.000700e+07</td>\n",
       "      <td>...</td>\n",
       "      <td>-5.000000e-09</td>\n",
       "      <td>2.000000e-07</td>\n",
       "      <td>9.990000e+26</td>\n",
       "      <td>1.45</td>\n",
       "      <td>True</td>\n",
       "      <td>14400.0</td>\n",
       "      <td>False</td>\n",
       "      <td>True</td>\n",
       "      <td>True</td>\n",
       "      <td>3.140</td>\n",
       "    </tr>\n",
       "    <tr>\n",
       "      <th>4</th>\n",
       "      <td>3600</td>\n",
       "      <td>14400</td>\n",
       "      <td>2017-01-01 04:00:00</td>\n",
       "      <td>286.827771</td>\n",
       "      <td>-79.844839</td>\n",
       "      <td>28.468771</td>\n",
       "      <td>107503.536596</td>\n",
       "      <td>154827.528922</td>\n",
       "      <td>47323.992326</td>\n",
       "      <td>9.906201e+06</td>\n",
       "      <td>...</td>\n",
       "      <td>-5.000000e-09</td>\n",
       "      <td>2.000000e-07</td>\n",
       "      <td>9.990000e+26</td>\n",
       "      <td>1.45</td>\n",
       "      <td>True</td>\n",
       "      <td>14400.0</td>\n",
       "      <td>False</td>\n",
       "      <td>True</td>\n",
       "      <td>True</td>\n",
       "      <td>3.140</td>\n",
       "    </tr>\n",
       "  </tbody>\n",
       "</table>\n",
       "<p>5 rows × 45 columns</p>\n",
       "</div>"
      ],
      "text/plain": [
       "   timedelta  cumulative_time           timestamp   eth_price  \\\n",
       "0          0                0 2017-01-01 00:00:00  294.069151   \n",
       "1       3600             3600 2017-01-01 01:00:00  291.208252   \n",
       "2       3600             7200 2017-01-01 02:00:00  292.287792   \n",
       "3       3600            10800 2017-01-01 03:00:00  289.343698   \n",
       "4       3600            14400 2017-01-01 04:00:00  286.827771   \n",
       "\n",
       "   liquidity_demand  liquidity_demand_mean  eth_collateral     eth_locked  \\\n",
       "0          1.000000               1.000000   154827.528922  154827.528922   \n",
       "1        906.674484             453.837242   154827.528922  154827.528922   \n",
       "2       -326.024615              63.906314   107503.536596  154827.528922   \n",
       "3        209.658450             136.782382   107503.536596  154827.528922   \n",
       "4        -79.844839              28.468771   107503.536596  154827.528922   \n",
       "\n",
       "      eth_freed  principal_debt  ...            ki            kp  \\\n",
       "0      0.000000    1.000000e+07  ... -5.000000e-09  2.000000e-07   \n",
       "1      0.000000    1.450000e+07  ... -5.000000e-09  2.000000e-07   \n",
       "2  47323.992326    9.970037e+06  ... -5.000000e-09  2.000000e-07   \n",
       "3  47323.992326    1.000700e+07  ... -5.000000e-09  2.000000e-07   \n",
       "4  47323.992326    9.906201e+06  ... -5.000000e-09  2.000000e-07   \n",
       "\n",
       "          alpha  liquidation_ratio  controller_enabled  control_period  \\\n",
       "0  9.990000e+26               1.45                True         14400.0   \n",
       "1  9.990000e+26               1.45                True         14400.0   \n",
       "2  9.990000e+26               1.45                True         14400.0   \n",
       "3  9.990000e+26               1.45                True         14400.0   \n",
       "4  9.990000e+26               1.45                True         14400.0   \n",
       "\n",
       "   liquidity_demand_shock  arbitrageur_considers_liquidation_ratio  \\\n",
       "0                   False                                     True   \n",
       "1                   False                                     True   \n",
       "2                   False                                     True   \n",
       "3                   False                                     True   \n",
       "4                   False                                     True   \n",
       "\n",
       "   rescale_target_price  target_price_scaled  \n",
       "0                  True                4.553  \n",
       "1                  True                3.140  \n",
       "2                  True                3.140  \n",
       "3                  True                3.140  \n",
       "4                  True                3.140  \n",
       "\n",
       "[5 rows x 45 columns]"
      ]
     },
     "execution_count": 3,
     "metadata": {},
     "output_type": "execute_result"
    }
   ],
   "source": [
    "parameter_df.head()"
   ]
  },
  {
   "cell_type": "markdown",
   "metadata": {},
   "source": [
    "### Understand the structure of the dataset"
   ]
  },
  {
   "cell_type": "code",
   "execution_count": 4,
   "metadata": {},
   "outputs": [
    {
     "data": {
      "text/plain": [
       "Index(['timedelta', 'cumulative_time', 'timestamp', 'eth_price',\n",
       "       'liquidity_demand', 'liquidity_demand_mean', 'eth_collateral',\n",
       "       'eth_locked', 'eth_freed', 'principal_debt', 'rai_drawn', 'rai_wiped',\n",
       "       'system_revenue', 'stability_fee', 'market_price', 'market_price_twap',\n",
       "       'target_price', 'target_rate', 'eth_return', 'eth_gross_return',\n",
       "       'expected_market_price', 'expected_debt_price', 'error_star',\n",
       "       'error_star_integral', 'market_slippage', 'RAI_balance', 'ETH_balance',\n",
       "       'UNI_supply', 'simulation', 'subset', 'run', 'substep', 'timestep',\n",
       "       'eth_collateral_value', 'collateralization_ratio', 'ki', 'kp', 'alpha',\n",
       "       'liquidation_ratio', 'controller_enabled', 'control_period',\n",
       "       'liquidity_demand_shock', 'arbitrageur_considers_liquidation_ratio',\n",
       "       'rescale_target_price', 'target_price_scaled'],\n",
       "      dtype='object')"
      ]
     },
     "execution_count": 4,
     "metadata": {},
     "output_type": "execute_result"
    }
   ],
   "source": [
    "parameter_df.columns"
   ]
  },
  {
   "cell_type": "code",
   "execution_count": 5,
   "metadata": {},
   "outputs": [
    {
     "data": {
      "text/plain": [
       "array([1, 2, 3, 4, 5])"
      ]
     },
     "execution_count": 5,
     "metadata": {},
     "output_type": "execute_result"
    }
   ],
   "source": [
    "parameter_df.run.unique()"
   ]
  },
  {
   "cell_type": "code",
   "execution_count": 6,
   "metadata": {},
   "outputs": [
    {
     "data": {
      "text/plain": [
       "array([0, 1, 2, 3, 4, 5])"
      ]
     },
     "execution_count": 6,
     "metadata": {},
     "output_type": "execute_result"
    }
   ],
   "source": [
    "parameter_df.subset.unique()"
   ]
  },
  {
   "cell_type": "code",
   "execution_count": 7,
   "metadata": {},
   "outputs": [
    {
     "data": {
      "text/plain": [
       "array([ 0, 18])"
      ]
     },
     "execution_count": 7,
     "metadata": {},
     "output_type": "execute_result"
    }
   ],
   "source": [
    "parameter_df.substep.unique()"
   ]
  },
  {
   "cell_type": "code",
   "execution_count": 8,
   "metadata": {},
   "outputs": [],
   "source": [
    "# subset to last substep\n",
    "parameter_df = parameter_df.query('substep == 18')"
   ]
  }
 ],
 "metadata": {
  "kernelspec": {
   "display_name": "Python (Reflexer)",
   "language": "python",
   "name": "python-reflexer"
  },
  "language_info": {
   "codemirror_mode": {
    "name": "ipython",
    "version": 3
   },
   "file_extension": ".py",
   "mimetype": "text/x-python",
   "name": "python",
   "nbconvert_exporter": "python",
   "pygments_lexer": "ipython3",
   "version": "3.8.3"
  }
 },
 "nbformat": 4,
 "nbformat_minor": 4
}
