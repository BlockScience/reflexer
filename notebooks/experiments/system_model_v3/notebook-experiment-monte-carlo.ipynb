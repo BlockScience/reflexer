{
 "cells": [
  {
   "cell_type": "markdown",
   "metadata": {},
   "source": [
    "# Experiment Analysis: Controller parameter stability search\n",
    "Perform shocks of ETH price to test controller parameter stability, without stochastic processes.\n",
    "\n",
    "* See `experiments/system_model_v3/experiment_shocks.py`"
   ]
  },
  {
   "cell_type": "markdown",
   "metadata": {},
   "source": [
    "# Setup and Dependencies"
   ]
  },
  {
   "cell_type": "code",
   "execution_count": null,
   "metadata": {},
   "outputs": [],
   "source": [
    "# Set project root folder, to enable importing project files from subdirectories\n",
    "from pathlib import Path\n",
    "import os\n",
    "\n",
    "path = Path().resolve()\n",
    "root_path = str(path).split('notebooks')[0]\n",
    "os.chdir(root_path)\n",
    "\n",
    "# Force reload of project modules, sometimes necessary for Jupyter kernel\n",
    "%load_ext autoreload\n",
    "%autoreload 2\n",
    "\n",
    "# Display framework versions for easy debugging\n",
    "%pip show cadCAD\n",
    "%pip show radcad"
   ]
  },
  {
   "cell_type": "code",
   "execution_count": null,
   "metadata": {},
   "outputs": [],
   "source": [
    "# Import all shared dependencies and setup\n",
    "from shared import *\n",
    "\n",
    "import plotly.express as px\n",
    "import plotly.graph_objects as go\n",
    "from plotly.subplots import make_subplots\n",
    "# import plotly.io as pio\n",
    "# pio.renderers.default = \"png\"\n",
    "from pprint import pprint"
   ]
  },
  {
   "cell_type": "code",
   "execution_count": null,
   "metadata": {},
   "outputs": [],
   "source": [
    "# Update dataframe display settings\n",
    "pd.set_option('display.max_columns', 100)\n",
    "pd.set_option('display.max_rows', 50)"
   ]
  },
  {
   "cell_type": "markdown",
   "metadata": {},
   "source": [
    "# Load Dataset"
   ]
  },
  {
   "cell_type": "code",
   "execution_count": null,
   "metadata": {},
   "outputs": [],
   "source": [
    "processed_results = 'experiments/system_model_v3/experiment_monte_carlo/processed_results.hdf5'"
   ]
  },
  {
   "cell_type": "code",
   "execution_count": null,
   "metadata": {},
   "outputs": [],
   "source": [
    "df = pd.read_hdf(processed_results, key='processed_results')\n",
    "df"
   ]
  },
  {
   "cell_type": "markdown",
   "metadata": {},
   "source": [
    "Get experiment exceptions, tracebacks, and simulation metadata for further analysis:"
   ]
  },
  {
   "cell_type": "markdown",
   "metadata": {},
   "source": [
    "# Process KPIs"
   ]
  },
  {
   "cell_type": "code",
   "execution_count": null,
   "metadata": {},
   "outputs": [],
   "source": [
    "df_kpis = df.copy()"
   ]
  },
  {
   "cell_type": "code",
   "execution_count": null,
   "metadata": {},
   "outputs": [],
   "source": [
    "df_kpis['target_price_scaled'] = df_kpis[['target_price', 'liquidation_ratio', 'rescale_target_price']] \\\n",
    "    .apply(lambda x: (x['target_price'] * x['liquidation_ratio']) if x['rescale_target_price'] else x['target_price'], axis=1)\n",
    "df_kpis['target_price_scaled']"
   ]
  },
  {
   "cell_type": "markdown",
   "metadata": {},
   "source": [
    "## Stability"
   ]
  },
  {
   "cell_type": "markdown",
   "metadata": {},
   "source": [
    "**Stability** threshold of system: defined as the maximum value for relative frequency of simulation runs that are unstable. Unstable is measured as fraction of runs where:\n",
    "  - market price runs to infinity/zero (e.g. upper bound 10xPI; lower bound 0.10xPI if initial price is PI);\n",
    "  - redemption price runs to infinity/zero (e.g. upper bound 10xPI; lower bound 0.10xPI if initial price is PI);\n",
    "  - Uniswap liquidity (RAI reserve) runs to zero;\n",
    "  - CDP position (total ETH collateral) runs to infinity/zero."
   ]
  },
  {
   "cell_type": "code",
   "execution_count": null,
   "metadata": {},
   "outputs": [],
   "source": [
    "initial_target_price = df_kpis['target_price'].iloc[0]\n",
    "initial_target_price"
   ]
  },
  {
   "cell_type": "code",
   "execution_count": null,
   "metadata": {},
   "outputs": [],
   "source": [
    "df_kpis[['market_price', 'target_price_scaled', 'RAI_balance', 'eth_collateral']].describe()"
   ]
  },
  {
   "cell_type": "code",
   "execution_count": null,
   "metadata": {},
   "outputs": [],
   "source": [
    "df_stability = df_kpis.groupby(['subset', 'run'])\n",
    "\n",
    "df_stability = df_stability.agg({\n",
    "    'market_price': ['min', 'max'],\n",
    "    'target_price_scaled': ['min', 'max'],\n",
    "    'RAI_balance': ['min', 'max'],\n",
    "    'eth_collateral': ['min', 'max'],\n",
    "})\n",
    "df_stability.columns = [\n",
    "    'market_price_min', 'market_price_max',\n",
    "    'target_price_min', 'target_price_max',\n",
    "    'RAI_balance_min', 'RAI_balance_max',\n",
    "    'eth_collateral_min', 'eth_collateral_max'\n",
    "]\n",
    "df_stability = df_stability.reset_index()\n",
    "\n",
    "df_stability['stability_market_price'] = df_stability \\\n",
    "    .apply(lambda x: x['market_price_min'] >= 0.1*initial_target_price and x['market_price_max'] <= 10*initial_target_price, axis=1)\n",
    "\n",
    "df_stability['stability_target_price'] = df_stability \\\n",
    "    .apply(lambda x: x['target_price_min'] >= 0.1*initial_target_price and x['target_price_max'] <= 10*initial_target_price, axis=1)\n",
    "\n",
    "# TODO: discuss threshold\n",
    "df_stability['stability_uniswap_liquidity'] = df_stability \\\n",
    "    .apply(lambda x: x['RAI_balance_min'] >= 100e3, axis=1)\n",
    "\n",
    "# TODO: discuss threshold\n",
    "df_stability['stability_cdp_system'] = df_stability \\\n",
    "    .apply(lambda x: x['eth_collateral_min'] >= 20e3 and x['eth_collateral_max'] <= 160000, axis=1)\n",
    "\n",
    "df_stability['kpi_stability'] = df_stability \\\n",
    "    .apply(lambda x: ( \\\n",
    "        x.stability_cdp_system == True and \\\n",
    "        x.stability_uniswap_liquidity == True and \\\n",
    "        x.stability_market_price == True and \\\n",
    "        x.stability_target_price == True) \\\n",
    "        , axis=1)\n",
    "\n",
    "df_stability.query('kpi_stability == True')"
   ]
  },
  {
   "cell_type": "markdown",
   "metadata": {},
   "source": [
    "## Volatility"
   ]
  },
  {
   "cell_type": "markdown",
   "metadata": {},
   "source": [
    "**Volatility** threshold of market price: defined as the maximum value for the **standard deviation** computed. Defined relative to ETH price volatility. Definition: ratio of RAI price volatility / ETH price volatility is not to exceed 0.5.\n",
    "  - over simulation period;\n",
    "  - as moving average with 10-day window."
   ]
  },
  {
   "cell_type": "code",
   "execution_count": null,
   "metadata": {},
   "outputs": [],
   "source": [
    "df_volatility_grouped = df_kpis.groupby(['subset', 'run'])\n",
    "\n",
    "df_volatility_grouped = df_volatility_grouped.agg({'market_price': ['std'], 'eth_price': ['std']})\n",
    "df_volatility_grouped.columns = ['market_price_std', 'eth_price_std']\n",
    "df_volatility_grouped = df_volatility_grouped.reset_index()\n",
    "\n",
    "df_volatility_grouped['volatility_ratio_simulation'] = \\\n",
    "    df_volatility_grouped[['market_price_std', 'eth_price_std']] \\\n",
    "    .apply(lambda x: x['market_price_std'] / x['eth_price_std'], axis=1)\n",
    "\n",
    "df_volatility_grouped['kpi_volatility_simulation'] = df_volatility_grouped.apply(lambda x: x['volatility_ratio_simulation'] <= 0.5, axis=1)\n",
    "\n",
    "df_volatility_grouped"
   ]
  },
  {
   "cell_type": "code",
   "execution_count": null,
   "metadata": {},
   "outputs": [],
   "source": [
    "df_volatility_series = pd.DataFrame()\n",
    "group = df_kpis.groupby(['subset', 'run'])\n",
    "\n",
    "df_volatility_series['market_price_moving_average_std'] = group['market_price'].rolling(24*10, 1).std()\n",
    "df_volatility_series['eth_price_moving_average_std'] = group['eth_price'].rolling(24*10, 1).std()\n",
    "df_volatility_series.query('subset == 0 and run == 1')"
   ]
  },
  {
   "cell_type": "code",
   "execution_count": null,
   "metadata": {},
   "outputs": [],
   "source": [
    "df_volatility_series['volatility_ratio_window'] = df_volatility_series.apply(lambda x: x['market_price_moving_average_std'] / x['eth_price_moving_average_std'], axis=1)\n",
    "df_volatility_series.query('subset == 0 and run == 1')"
   ]
  },
  {
   "cell_type": "code",
   "execution_count": null,
   "metadata": {},
   "outputs": [],
   "source": [
    "df_volatility_series['kpi_volatility_window_series'] = df_volatility_series.apply(lambda x: x['volatility_ratio_window'] != x['volatility_ratio_window'] or x['volatility_ratio_window'] <= 0.5, axis=1)\n",
    "df_volatility_series['kpi_volatility_window_mean'] = df_volatility_series.groupby(['subset', 'run'])['kpi_volatility_window_series'].transform(lambda x: x.mean())\n",
    "df_volatility_series"
   ]
  },
  {
   "cell_type": "code",
   "execution_count": null,
   "metadata": {},
   "outputs": [],
   "source": [
    "df_volatility_series['kpi_volatility_window_mean'].describe()"
   ]
  },
  {
   "cell_type": "code",
   "execution_count": null,
   "metadata": {},
   "outputs": [],
   "source": [
    "df_volatility_series['kpi_volatility_window'] = df_volatility_series.groupby(['subset', 'run'])['kpi_volatility_window_mean'].transform(lambda x: x > 0.98)\n",
    "df_volatility_series"
   ]
  },
  {
   "cell_type": "code",
   "execution_count": null,
   "metadata": {},
   "outputs": [],
   "source": [
    "df_volatility_series.query('kpi_volatility_window == False')"
   ]
  },
  {
   "cell_type": "code",
   "execution_count": null,
   "metadata": {},
   "outputs": [],
   "source": [
    "df_volatility_series['kpi_volatility_window'].value_counts()"
   ]
  },
  {
   "cell_type": "markdown",
   "metadata": {},
   "source": [
    "## Merge KPI dataframes"
   ]
  },
  {
   "cell_type": "code",
   "execution_count": null,
   "metadata": {},
   "outputs": [],
   "source": [
    "df_kpis = pd.merge(df_volatility_grouped, df_volatility_series, on=['run','subset'], how='inner')\n",
    "df_kpis = df_kpis.drop(['volatility_ratio_window', 'kpi_volatility_window_mean', 'kpi_volatility_window_series', 'market_price_moving_average_std', 'eth_price_moving_average_std'], axis=1)\n",
    "df_kpis = pd.merge(df_kpis, df_stability, on=['run','subset'], how='inner')\n",
    "df_kpis = df_kpis.groupby(['subset', 'run']).first()"
   ]
  },
  {
   "cell_type": "code",
   "execution_count": null,
   "metadata": {},
   "outputs": [],
   "source": [
    "df_kpis['kpi_volatility'] = df_kpis.apply(lambda x: x['kpi_volatility_simulation'] and x['kpi_volatility_window'], axis=1)"
   ]
  },
  {
   "cell_type": "code",
   "execution_count": null,
   "metadata": {},
   "outputs": [],
   "source": [
    "df_kpis.query('kpi_volatility == False')"
   ]
  },
  {
   "cell_type": "code",
   "execution_count": null,
   "metadata": {},
   "outputs": [],
   "source": [
    "df_kpis.query('kpi_stability == False')"
   ]
  },
  {
   "cell_type": "markdown",
   "metadata": {},
   "source": [
    "## Liquidity"
   ]
  },
  {
   "cell_type": "markdown",
   "metadata": {},
   "source": [
    "**Liquidity** threshold of secondary market: defined as the maximum slippage value below which the controller is allowed to operate.\n",
    "* __NB__: Threshold value will be determined by experimental outcomes, e.g. sample mean of the Monte Carlo outcomes of the slippage value when the system becomes unstable. Would like variance/std deviation of the Monte Carlo slippage series to be small (tight estimate), but can report both mean and variance as part of recommendations"
   ]
  },
  {
   "cell_type": "code",
   "execution_count": null,
   "metadata": {},
   "outputs": [],
   "source": [
    "critical_liquidity_threshold = None"
   ]
  },
  {
   "cell_type": "code",
   "execution_count": null,
   "metadata": {},
   "outputs": [],
   "source": [
    "df_liquidity = df[['subset', 'run', 'timestep', 'market_slippage']].copy()\n",
    "df_liquidity = pd.merge(df_liquidity, df_kpis, how='inner', on=['subset', 'run'])\n",
    "df_liquidity['market_slippage_abs'] = df_liquidity['market_slippage'].transform(lambda x: abs(x))\n",
    "df_liquidity"
   ]
  },
  {
   "cell_type": "code",
   "execution_count": null,
   "metadata": {},
   "outputs": [],
   "source": [
    "df_liquidity.query('subset == 0')['market_slippage_abs'].describe([0.1,0.2,0.3,0.4,0.5,0.6,0.7,0.8,0.90])"
   ]
  },
  {
   "cell_type": "code",
   "execution_count": null,
   "metadata": {},
   "outputs": [],
   "source": [
    "df_liquidity['market_slippage_percentile'] = df_liquidity.groupby(['subset', 'run'])['market_slippage'].transform(lambda x: x.quantile(.90))\n",
    "df_liquidity"
   ]
  },
  {
   "cell_type": "code",
   "execution_count": null,
   "metadata": {},
   "outputs": [],
   "source": [
    "# TODO: in this subset none fail both, so for testing we'll select one\n",
    "df_liquidity_failed = df_liquidity.query('kpi_stability == False')\n",
    "df_liquidity_failed['market_slippage_percentile_mean'] = df_liquidity_failed.groupby(['subset'])['market_slippage_percentile'].transform(lambda x: x.mean())"
   ]
  },
  {
   "cell_type": "code",
   "execution_count": null,
   "metadata": {},
   "outputs": [],
   "source": [
    "critical_liquidity_threshold = df_liquidity_failed['market_slippage_percentile_mean'].mean()\n",
    "critical_liquidity_threshold"
   ]
  },
  {
   "cell_type": "code",
   "execution_count": null,
   "metadata": {},
   "outputs": [],
   "source": [
    "df_liquidity_grouped = df_liquidity.groupby(['subset', 'run']).mean()\n",
    "df_liquidity_grouped = df_liquidity_grouped.reset_index()\n",
    "df_liquidity_grouped['kpi_liquidity'] = df_liquidity_grouped.apply(lambda x: x['market_slippage_percentile'] <= critical_liquidity_threshold, axis=1)\n",
    "df_liquidity_grouped"
   ]
  },
  {
   "cell_type": "code",
   "execution_count": null,
   "metadata": {},
   "outputs": [],
   "source": [
    "df_kpis = df_liquidity_grouped[['subset', 'run', 'kpi_stability', 'kpi_volatility', 'kpi_liquidity']]\n",
    "df_kpis = df_kpis.groupby(['subset', 'run']).first()"
   ]
  },
  {
   "cell_type": "code",
   "execution_count": null,
   "metadata": {},
   "outputs": [],
   "source": [
    "df_kpis.query('kpi_stability == True and kpi_volatility == True and kpi_liquidity == True')"
   ]
  },
  {
   "cell_type": "markdown",
   "metadata": {},
   "source": [
    "## Save KPI Results"
   ]
  },
  {
   "cell_type": "code",
   "execution_count": null,
   "metadata": {},
   "outputs": [],
   "source": [
    "df_kpis.to_pickle('experiments/system_model_v3/kpi_dataset.pickle')"
   ]
  },
  {
   "cell_type": "markdown",
   "metadata": {},
   "source": [
    "# Sensitivity Analysis"
   ]
  },
  {
   "cell_type": "code",
   "execution_count": null,
   "metadata": {},
   "outputs": [],
   "source": [
    "df_kpis = pd.read_pickle('experiments/system_model_v3/kpi_dataset.pickle')"
   ]
  },
  {
   "cell_type": "code",
   "execution_count": null,
   "metadata": {},
   "outputs": [],
   "source": [
    "from cadcad_machine_search.visualizations import kpi_sensitivity_plot\n",
    "\n",
    "# df = dataframe with KPI values stored as columns, with runs as rows\n",
    "# control_params = column names in df containing control parameter values for each run\n",
    "\n",
    "VOLATILITY_THRESHOLD = 0.5\n",
    "MAXIMUM_PRICE = 31.4\n",
    "MINIMUM_PRICE = 0.314\n",
    "MINIMUM_RAI_BALANCE = 0\n",
    "MINIMUM_COLLATERAL_BALANCE = 0\n",
    "\n",
    "kpis = {\n",
    "    'volatility_simulation'        : lambda df: df['volatility_ratio_simulation'],\n",
    "    'volatility_window_mean'       : lambda df: df['volatility_ratio_window'].mean(),\n",
    "    'market_price_max'             : lambda df: df['market_price'].max(),\n",
    "    'market_price_min'             : lambda df: df['market_price'].min(),\n",
    "    'redemption_price_max'         : lambda df: df['redemption_price'].max(),\n",
    "    'redemption_price_min'         : lambda df: df['redemption_price'].min(),\n",
    "    'rai_balance_uniswap_min'      : lambda df: df['rai_balance'].min(),\n",
    "    'cdp_collateral_balance_min'   : lambda df: df['cdp_collateral'].min(),\n",
    "    'price_change_percentile_mean' : lambda df: df['ninetieth_percentile_price_change_for_failed_runs'].mean()\n",
    "}\n",
    "       \n",
    "goals = {}\n",
    "\n",
    "goals = {\n",
    "'low_volatility'  : lambda metrics: ( metrics['volatility_simulation'] < VOLATILITY_THRESHOLD ) and\n",
    "                ( metrics['volatility_window_mean'] < VOLATILITY_THRESHOLD ),\n",
    "'high_stability'  : lambda metrics: ( metrics['market_price_max'] < MAXIMUM_PRICE ) and \n",
    "                ( metrics['market_price_min'] > MINIMUM_PRICE ) and \n",
    "                ( metrics['redemption_price_max'] < MAXIMUM_PRICE ) and \n",
    "                ( metrics['redemption_price_min'] > MINIMUM_PRICE ) and\n",
    "                ( metrics['rai_balance_uniswap_min'] > MINIMUM_RAI_BALANCE) and\n",
    "                ( metrics['cdp_collateral_balance_min'] > MINIMUM_COLLATERAL_BALANCE )\n",
    "}\n",
    "\n",
    "for goal in goals:\n",
    "    kpi_sensitivity_plot(df, goals[goal], control_params)"
   ]
  },
  {
   "cell_type": "markdown",
   "metadata": {},
   "source": [
    "# Simulation Parameter Subset Overview"
   ]
  },
  {
   "cell_type": "code",
   "execution_count": null,
   "metadata": {},
   "outputs": [],
   "source": [
    "df_kpis.query('run == 1').plot(x='timestamp', y='market_price', color='subset')"
   ]
  },
  {
   "cell_type": "code",
   "execution_count": null,
   "metadata": {},
   "outputs": [],
   "source": [
    "df_kpis.query('run == 1').plot(x='timestamp', y='market_slippage', color='subset')"
   ]
  },
  {
   "cell_type": "code",
   "execution_count": null,
   "metadata": {},
   "outputs": [],
   "source": [
    "df_kpis.query('run == 1').plot(x='timestamp', y='liquidity_demand', color='subset')"
   ]
  },
  {
   "cell_type": "code",
   "execution_count": null,
   "metadata": {},
   "outputs": [],
   "source": [
    "df_kpis.query('run == 1').plot(x='timestamp', y='RAI_balance', color='subset')"
   ]
  },
  {
   "cell_type": "code",
   "execution_count": null,
   "metadata": {},
   "outputs": [],
   "source": [
    "df_kpis.query('run == 1').plot(x='timestamp', y='ETH_balance', color='subset')"
   ]
  },
  {
   "cell_type": "code",
   "execution_count": null,
   "metadata": {},
   "outputs": [],
   "source": [
    "df_kpis.query('run == 1').plot(x='timestamp', y='principal_debt', color='subset')"
   ]
  },
  {
   "cell_type": "code",
   "execution_count": null,
   "metadata": {},
   "outputs": [],
   "source": [
    "df_kpis.query('run == 1').plot(x='timestamp', y='eth_collateral', color='subset')"
   ]
  },
  {
   "cell_type": "markdown",
   "metadata": {},
   "source": [
    "# Control Parameters"
   ]
  },
  {
   "cell_type": "code",
   "execution_count": null,
   "metadata": {},
   "outputs": [],
   "source": [
    "from radcad.core import generate_parameter_sweep\n",
    "\n",
    "param_sweep = generate_parameter_sweep(params)"
   ]
  },
  {
   "cell_type": "code",
   "execution_count": null,
   "metadata": {},
   "outputs": [],
   "source": [
    "df_control_parameters = df[['subset', 'kp', 'ki']]\n",
    "\n",
    "df_control_parameters = df_control_parameters.drop_duplicates(subset=['kp', 'ki'])\n",
    "df_control_parameters"
   ]
  },
  {
   "cell_type": "markdown",
   "metadata": {},
   "source": [
    "# Simulation Analysis"
   ]
  },
  {
   "cell_type": "code",
   "execution_count": null,
   "metadata": {},
   "outputs": [],
   "source": [
    "df.query('subset == 0')[['timestamp', 'eth_price', 'run']].plot(\n",
    "    title=\"ETH price shocks (positive and negative step and impulse; one shock type for each run)\",\n",
    "    x='timestamp',\n",
    "    y='eth_price', \n",
    "    color='run'\n",
    ")"
   ]
  },
  {
   "cell_type": "code",
   "execution_count": null,
   "metadata": {},
   "outputs": [],
   "source": [
    "fig = px.line(\n",
    "    df.query('run == 1'),\n",
    "    title=\"Price response for all control parameter subsets, first run\",\n",
    "    x=\"timestamp\",\n",
    "    y=[\"market_price\", \"market_price_twap\", \"target_price_scaled\"], \n",
    "    facet_col=\"ki\", \n",
    "    facet_row=\"kp\", \n",
    "    height=1000\n",
    ")\n",
    "fig.show()"
   ]
  },
  {
   "cell_type": "markdown",
   "metadata": {},
   "source": [
    "Get the initial target price to test stability conditions:"
   ]
  },
  {
   "cell_type": "code",
   "execution_count": null,
   "metadata": {},
   "outputs": [],
   "source": [
    "initial_target_price = df['target_price'].iloc[0]\n",
    "initial_target_price"
   ]
  },
  {
   "cell_type": "markdown",
   "metadata": {},
   "source": [
    "Find all controller constant subsets where the price goes to zero:"
   ]
  },
  {
   "cell_type": "code",
   "execution_count": null,
   "metadata": {},
   "outputs": [],
   "source": [
    "df_market_price_zero = df.query(\"market_price <= 0.1*@initial_target_price\")\n",
    "df_market_price_zero[['subset', 'kp', 'ki']].drop_duplicates(subset=['kp', 'ki'])"
   ]
  },
  {
   "cell_type": "markdown",
   "metadata": {},
   "source": [
    "Find all controller constant subsets where the price goes to infinity:"
   ]
  },
  {
   "cell_type": "code",
   "execution_count": null,
   "metadata": {},
   "outputs": [],
   "source": [
    "df_market_price_infinity = df.query(\"market_price > 10*@initial_target_price\")\n",
    "df_market_price_infinity[['subset', 'kp', 'ki']].drop_duplicates(subset=['kp', 'ki'])"
   ]
  },
  {
   "cell_type": "markdown",
   "metadata": {},
   "source": [
    "Create dataframe of stable simulation scenarios.\n",
    "\n",
    "Stability is defined as:\n",
    "1. The market price and scaled target price remaining within 0.1x and 10x the starting price, for all timesteps"
   ]
  },
  {
   "cell_type": "code",
   "execution_count": null,
   "metadata": {},
   "outputs": [],
   "source": [
    "df['stable_price'] = False\n",
    "df.loc[df.eval(\"\"\"\n",
    "0.1*@initial_target_price < market_price <= 10*@initial_target_price and 0.1*@initial_target_price < target_price_scaled <= 10*@initial_target_price\n",
    "\"\"\"), 'stable_price'] = True\n",
    "df_stable_price = df.groupby(\"subset\").filter(lambda x: all(x.query('timestep > 24*2')['stable_price'])) #  and x['timestep'].max() == SIMULATION_TIMESTEPS\n",
    "df_stable_price['subset'].unique()"
   ]
  },
  {
   "cell_type": "code",
   "execution_count": null,
   "metadata": {},
   "outputs": [],
   "source": [
    "fig = px.line(\n",
    "    df_stable_price.query('run == 1'),\n",
    "    title=\"Base case: Stable ETH price response\",\n",
    "    x=\"timestamp\",\n",
    "    y=[\"market_price\", \"market_price_twap\", \"target_price\"],\n",
    "    facet_col=\"kp\",\n",
    "    facet_row=\"ki\",\n",
    "    facet_col_wrap=2,\n",
    "    height=1000\n",
    ")\n",
    "# fig.for_each_annotation(lambda a: a.update(text = f\"kp={param_sweep[int(a.text.split('=')[-1])]['kp']} ki={param_sweep[int(a.text.split('=')[-1])]['ki']}\"))\n",
    "fig.show()"
   ]
  },
  {
   "cell_type": "code",
   "execution_count": null,
   "metadata": {},
   "outputs": [],
   "source": [
    "fig = px.line(\n",
    "    df_stable_price.query('run == 2'),\n",
    "    title=\"ETH price 30% step response\",\n",
    "    x=\"timestamp\",\n",
    "    y=[\"market_price\", \"market_price_twap\", \"target_price_scaled\"],\n",
    "    facet_col=\"kp\",\n",
    "    facet_row=\"ki\",\n",
    "    facet_col_wrap=2,\n",
    "    height=1000\n",
    ")\n",
    "fig.show()"
   ]
  },
  {
   "cell_type": "code",
   "execution_count": null,
   "metadata": {},
   "outputs": [],
   "source": [
    "fig = px.line(\n",
    "    df_stable_price.query('run == 3'),\n",
    "    title=\"ETH price 30% impulse response\",\n",
    "    x=\"timestamp\",\n",
    "    y=[\"market_price\", \"market_price_twap\", \"target_price_scaled\"],\n",
    "    facet_col=\"kp\",\n",
    "    facet_row=\"ki\",\n",
    "    facet_col_wrap=2,\n",
    "    height=1000\n",
    ")\n",
    "fig.show()"
   ]
  },
  {
   "cell_type": "code",
   "execution_count": null,
   "metadata": {},
   "outputs": [],
   "source": [
    "fig = px.line(\n",
    "    df_stable_price.query('run == 4'),\n",
    "    title=\"ETH price negative 30% step response\",\n",
    "    x=\"timestamp\",\n",
    "    y=[\"market_price\", \"market_price_twap\", \"target_price_scaled\"],\n",
    "    facet_col=\"kp\",\n",
    "    facet_row=\"ki\",\n",
    "    facet_col_wrap=2,\n",
    "    height=1000\n",
    ")\n",
    "fig.show()"
   ]
  },
  {
   "cell_type": "code",
   "execution_count": null,
   "metadata": {},
   "outputs": [],
   "source": [
    "fig = px.line(\n",
    "    df_stable_price.query('run == 5'),\n",
    "    title=\"ETH price negative 30% impulse response\",\n",
    "    x=\"timestamp\",\n",
    "    y=[\"market_price\", \"market_price_twap\", \"target_price_scaled\"],\n",
    "    facet_col=\"kp\",\n",
    "    facet_row=\"ki\",\n",
    "    facet_col_wrap=2,\n",
    "    height=1000\n",
    ")\n",
    "fig.show()"
   ]
  },
  {
   "cell_type": "code",
   "execution_count": null,
   "metadata": {},
   "outputs": [],
   "source": [
    "fig = px.line(\n",
    "    df_stable_price, \n",
    "    title=\"Reflexer principal debt\",\n",
    "    x=\"timestamp\", \n",
    "    y=[\"principal_debt\"], \n",
    "    color='run', \n",
    "    facet_col=\"subset\", \n",
    "    facet_col_wrap=5,\n",
    "    height=1000\n",
    ")\n",
    "fig.show()"
   ]
  },
  {
   "cell_type": "code",
   "execution_count": null,
   "metadata": {},
   "outputs": [],
   "source": [
    "fig = px.line(\n",
    "    df_stable_price, \n",
    "    title=\"Secondary market RAI balance\",\n",
    "    x=\"timestamp\", \n",
    "    y=[\"RAI_balance\"], \n",
    "    color='run', \n",
    "    facet_col=\"subset\", \n",
    "    facet_col_wrap=5,\n",
    "    height=1000\n",
    ")\n",
    "fig.show()"
   ]
  },
  {
   "cell_type": "code",
   "execution_count": null,
   "metadata": {},
   "outputs": [],
   "source": [
    "fig = px.line(\n",
    "    df_stable_price, \n",
    "    title=\"Reflexer ETH collateral\",\n",
    "    x=\"timestamp\", \n",
    "    y=[\"eth_collateral\"], \n",
    "    color='run', \n",
    "    facet_col=\"subset\", \n",
    "    facet_col_wrap=5,\n",
    "    height=1000\n",
    ")\n",
    "fig.show()"
   ]
  },
  {
   "cell_type": "code",
   "execution_count": null,
   "metadata": {},
   "outputs": [],
   "source": [
    "fig = px.line(\n",
    "    df_stable_price, \n",
    "    title=\"Secondary market ETH balance\",\n",
    "    x=\"timestamp\", \n",
    "    y=[\"ETH_balance\"], \n",
    "    color='run', \n",
    "    facet_col=\"subset\", \n",
    "    facet_col_wrap=5,\n",
    "    height=1000\n",
    ")\n",
    "fig.show()"
   ]
  },
  {
   "cell_type": "code",
   "execution_count": null,
   "metadata": {},
   "outputs": [],
   "source": [
    "df_stable_price.plot(\n",
    "    x='timestamp', \n",
    "    y=['collateralization_ratio'], \n",
    "    title='Collateralization ratio', \n",
    "    facet_col=\"subset\",\n",
    "    facet_col_wrap=5,\n",
    "    height=1000\n",
    ")"
   ]
  }
 ],
 "metadata": {
  "jupytext": {
   "cell_metadata_filter": "-all",
   "encoding": "# -*- coding: utf-8 -*-",
   "formats": "ipynb,py:percent"
  },
  "kernelspec": {
   "display_name": "Python (Reflexer)",
   "language": "python",
   "name": "python-reflexer"
  },
  "language_info": {
   "codemirror_mode": {
    "name": "ipython",
    "version": 3
   },
   "file_extension": ".py",
   "mimetype": "text/x-python",
   "name": "python",
   "nbconvert_exporter": "python",
   "pygments_lexer": "ipython3",
   "version": "3.8.3"
  }
 },
 "nbformat": 4,
 "nbformat_minor": 4
}
