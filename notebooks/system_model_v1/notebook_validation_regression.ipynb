{
 "cells": [
  {
   "cell_type": "markdown",
   "metadata": {},
   "source": [
    "# Debt Price Model & Market Model Validation"
   ]
  },
  {
   "cell_type": "markdown",
   "metadata": {},
   "source": [
    "## Overview\n",
    "\n",
    "The purpose of this experiment, is to validate the system model, using a debt market regression model trained using historical data."
   ]
  },
  {
   "cell_type": "markdown",
   "metadata": {},
   "source": [
    "## Shared setup and dependencies"
   ]
  },
  {
   "cell_type": "code",
   "execution_count": 1,
   "metadata": {},
   "outputs": [],
   "source": [
    "from pathlib import Path\n",
    "import os\n",
    "\n",
    "path = Path().resolve()\n",
    "root_path = str(path).split('notebooks')[0]\n",
    "os.chdir(root_path)"
   ]
  },
  {
   "cell_type": "code",
   "execution_count": 2,
   "metadata": {},
   "outputs": [],
   "source": [
    "from shared import *"
   ]
  },
  {
   "cell_type": "code",
   "execution_count": 3,
   "metadata": {},
   "outputs": [
    {
     "name": "stdout",
     "output_type": "stream",
     "text": [
      "Name: cadCAD\n",
      "Version: 0.4.23\n",
      "Summary: cadCAD: a differential games based simulation software package for research, validation, and         Computer Aided Design of economic systems\n",
      "Home-page: https://github.com/cadCAD-org/cadCAD\n",
      "Author: Joshua E. Jodesty\n",
      "Author-email: joshua@block.science\n",
      "License: LICENSE.txt\n",
      "Location: /home/aclarkdata/repos/reflexer/venv/lib/python3.8/site-packages\n",
      "Requires: fn, funcy, pathos, pandas\n",
      "Required-by: \n",
      "Note: you may need to restart the kernel to use updated packages.\n"
     ]
    }
   ],
   "source": [
    "%pip show cadCAD"
   ]
  },
  {
   "cell_type": "markdown",
   "metadata": {},
   "source": [
    "# Parameters\n",
    "\n",
    "These are the key model parameters:\n",
    "* `options.DebtPriceSource == options.DebtPriceSource.DEBT_MARKET_MODEL`, which is a historical data regression model for the debt market."
   ]
  },
  {
   "cell_type": "code",
   "execution_count": 4,
   "metadata": {},
   "outputs": [
    {
     "name": "stderr",
     "output_type": "stream",
     "text": [
      "/home/aclarkdata/repos/reflexer/venv/lib/python3.8/site-packages/pyparsing.py:3190: FutureWarning: Possible set intersection at position 3\n",
      "  self.re = re.compile(self.reString)\n",
      "Exception ignored in: <function AutoML.__del__ at 0x7f82793598b0>\n",
      "Traceback (most recent call last):\n",
      "  File \"/home/aclarkdata/repos/reflexer/venv/lib/python3.8/site-packages/autosklearn/automl.py\", line 1168, in __del__\n",
      "    self._backend.context.delete_directories(force=False)\n",
      "AttributeError: 'AutoMLRegressor' object has no attribute '_backend'\n"
     ]
    },
    {
     "ename": "ModuleNotFoundError",
     "evalue": "No module named 'autosklearn.pipeline.components.regression.ridge_regression'",
     "output_type": "error",
     "traceback": [
      "\u001b[0;31m---------------------------------------------------------------------------\u001b[0m",
      "\u001b[0;31mModuleNotFoundError\u001b[0m                       Traceback (most recent call last)",
      "\u001b[0;32m<ipython-input-4-1926d2f59fae>\u001b[0m in \u001b[0;36m<module>\u001b[0;34m\u001b[0m\n\u001b[0;32m----> 1\u001b[0;31m \u001b[0mdebt_price_data\u001b[0m \u001b[0;34m=\u001b[0m \u001b[0mload_debt_price_data\u001b[0m\u001b[0;34m(\u001b[0m\u001b[0moptions\u001b[0m\u001b[0;34m.\u001b[0m\u001b[0mDebtPriceSource\u001b[0m\u001b[0;34m.\u001b[0m\u001b[0mDEBT_MARKET_MODEL\u001b[0m\u001b[0;34m.\u001b[0m\u001b[0mvalue\u001b[0m\u001b[0;34m)\u001b[0m\u001b[0;34m\u001b[0m\u001b[0;34m\u001b[0m\u001b[0m\n\u001b[0m",
      "\u001b[0;32m~/repos/reflexer/models/utils/load_data.py\u001b[0m in \u001b[0;36mload_debt_price_data\u001b[0;34m(debt_price_source)\u001b[0m\n\u001b[1;32m     56\u001b[0m         \u001b[0mdebt_market_df\u001b[0m \u001b[0;34m=\u001b[0m \u001b[0mpd\u001b[0m\u001b[0;34m.\u001b[0m\u001b[0mread_csv\u001b[0m\u001b[0;34m(\u001b[0m\u001b[0;34m'models/market_model/data/debt_market_df.csv'\u001b[0m\u001b[0;34m,\u001b[0m \u001b[0mindex_col\u001b[0m\u001b[0;34m=\u001b[0m\u001b[0;34m'date'\u001b[0m\u001b[0;34m,\u001b[0m \u001b[0mparse_dates\u001b[0m\u001b[0;34m=\u001b[0m\u001b[0;32mTrue\u001b[0m\u001b[0;34m)\u001b[0m\u001b[0;34m\u001b[0m\u001b[0;34m\u001b[0m\u001b[0m\n\u001b[1;32m     57\u001b[0m         \u001b[0;31m# Load the scikit-learn regression model\u001b[0m\u001b[0;34m\u001b[0m\u001b[0;34m\u001b[0m\u001b[0;34m\u001b[0m\u001b[0m\n\u001b[0;32m---> 58\u001b[0;31m         \u001b[0mloaded_model\u001b[0m \u001b[0;34m=\u001b[0m \u001b[0mpickle\u001b[0m\u001b[0;34m.\u001b[0m\u001b[0mload\u001b[0m\u001b[0;34m(\u001b[0m\u001b[0mopen\u001b[0m\u001b[0;34m(\u001b[0m\u001b[0;34m'models/market_model/debt_price_estimator.pickle'\u001b[0m\u001b[0;34m,\u001b[0m \u001b[0;34m'rb'\u001b[0m\u001b[0;34m)\u001b[0m\u001b[0;34m)\u001b[0m\u001b[0;34m\u001b[0m\u001b[0;34m\u001b[0m\u001b[0m\n\u001b[0m\u001b[1;32m     59\u001b[0m \u001b[0;34m\u001b[0m\u001b[0m\n\u001b[1;32m     60\u001b[0m         \u001b[0;31m# The set of market data features\u001b[0m\u001b[0;34m\u001b[0m\u001b[0;34m\u001b[0m\u001b[0;34m\u001b[0m\u001b[0m\n",
      "\u001b[0;31mModuleNotFoundError\u001b[0m: No module named 'autosklearn.pipeline.components.regression.ridge_regression'"
     ]
    }
   ],
   "source": [
    "debt_price_data = load_debt_price_data(options.DebtPriceSource.DEBT_MARKET_MODEL.value)"
   ]
  },
  {
   "cell_type": "code",
   "execution_count": null,
   "metadata": {},
   "outputs": [],
   "source": [
    "debt_price_data"
   ]
  },
  {
   "cell_type": "markdown",
   "metadata": {},
   "source": [
    "* PI controller constant sweep"
   ]
  },
  {
   "cell_type": "code",
   "execution_count": null,
   "metadata": {},
   "outputs": [],
   "source": [
    "kp_sweep = [-1.5e-6]\n",
    "ki_sweep = [lambda control_period=3600: 0] #-1e-6 / control_period\n"
   ]
  },
  {
   "cell_type": "markdown",
   "metadata": {},
   "source": [
    "* Controller enabled"
   ]
  },
  {
   "cell_type": "code",
   "execution_count": null,
   "metadata": {},
   "outputs": [],
   "source": [
    "controller_enabled = [False, True]"
   ]
  },
  {
   "cell_type": "markdown",
   "metadata": {},
   "source": [
    "* Error term calculation"
   ]
  },
  {
   "cell_type": "code",
   "execution_count": null,
   "metadata": {},
   "outputs": [],
   "source": [
    "error_term = [\n",
    "    lambda target, measured: target - measured,\n",
    "]"
   ]
  },
  {
   "cell_type": "markdown",
   "metadata": {},
   "source": [
    "* Integral type"
   ]
  },
  {
   "cell_type": "code",
   "execution_count": null,
   "metadata": {},
   "outputs": [],
   "source": [
    "integral_type = [options.IntegralType.LEAKY.value]"
   ]
  },
  {
   "cell_type": "markdown",
   "metadata": {},
   "source": [
    "# Simulation Configuration"
   ]
  },
  {
   "cell_type": "markdown",
   "metadata": {},
   "source": [
    "Set the simulation timesteps to the minimum dataset length:"
   ]
  },
  {
   "cell_type": "code",
   "execution_count": null,
   "metadata": {},
   "outputs": [],
   "source": [
    "minimum_timesteps = min([df.shape[0] for df in debt_price_data])\n",
    "SIMULATION_TIMESTEPS = range(minimum_timesteps)\n",
    "SIMULATION_TIMESTEPS"
   ]
  },
  {
   "cell_type": "markdown",
   "metadata": {},
   "source": [
    "Override certain parameter sweeps with the generated sets, using ConfigWrapper for convenience:"
   ]
  },
  {
   "cell_type": "code",
   "execution_count": null,
   "metadata": {},
   "outputs": [],
   "source": [
    "# Update parameter options\n",
    "update_params = {\n",
    "    # By using an Enum, we can self-document all possible options\n",
    "    options.DebtPriceSource.__name__: [options.DebtPriceSource.DEBT_MARKET_MODEL.value],\n",
    "    options.IntegralType.__name__: integral_type,\n",
    "    'controller_enabled': controller_enabled,\n",
    "    'expected_control_delay': [lambda _timestep: 0], # 1200 # stochastic process\n",
    "    'minumum_control_period': [lambda _timestep: 3600],\n",
    "    # Generate a lambda for each test dataframe, that returns a row value at a specific timestep\n",
    "    'seconds_passed': [\n",
    "        lambda timestep, df=df.copy(): int(df.iloc[timestep - 1]['seconds_passed'])\n",
    "        for df in debt_price_data\n",
    "    ],\n",
    "    'price_move': [\n",
    "        lambda timestep, df=df.copy(): float(df.iloc[timestep - 1]['price_move'])\n",
    "        for df in debt_price_data\n",
    "    ],\n",
    "    'delta_output': [\n",
    "        lambda state, timestep: (0.1 if state == 'debt_price' and timestep == 50 else 0) \\\n",
    "            + (-0.2 if state == 'debt_price' and timestep == 250 else 0)\n",
    "    ],\n",
    "    'kp': kp_sweep,\n",
    "    'ki': ki_sweep,\n",
    "    # Select or sweep the error term calculation, as a lambda\n",
    "    # e.g. p*-p vs (p*-p)/p vs (p*-p)/p*\n",
    "    'error_term': error_term\n",
    "}\n",
    "\n",
    "update_initial_state = {\n",
    "    'target_price': 1.0,\n",
    "    'market_price': 1.0,\n",
    "    'debt_price': 1.0,\n",
    "}\n",
    "\n",
    "'''\n",
    "The ConfigWrapper allows you to pass a model as an argument, and update the simulation configuration.\n",
    "Maps (params, states) would be merge updated, and all other options are overrides.\n",
    "'''\n",
    "system_simulation = ConfigWrapper(system_model_v1, M=update_params, initial_state=update_initial_state, T=SIMULATION_TIMESTEPS)"
   ]
  },
  {
   "cell_type": "markdown",
   "metadata": {},
   "source": [
    "# Simulation Execution"
   ]
  },
  {
   "cell_type": "code",
   "execution_count": null,
   "metadata": {
    "tags": []
   },
   "outputs": [],
   "source": [
    "del configs[:]\n",
    "\n",
    "system_simulation.append()\n",
    "\n",
    "(data, tensor_field, sessions) = run(drop_midsteps=True)"
   ]
  },
  {
   "cell_type": "markdown",
   "metadata": {},
   "source": [
    "# Data Preparation"
   ]
  },
  {
   "cell_type": "code",
   "execution_count": null,
   "metadata": {},
   "outputs": [],
   "source": [
    "df = data.copy()\n",
    "df"
   ]
  },
  {
   "cell_type": "code",
   "execution_count": null,
   "metadata": {},
   "outputs": [],
   "source": [
    "# Export CSV market_price dataset\n",
    "df.query('subset == 1')['market_price'].to_csv('tests/data/regression_market_prices.csv', header=True)"
   ]
  },
  {
   "cell_type": "code",
   "execution_count": null,
   "metadata": {},
   "outputs": [],
   "source": [
    "df['target_rate_seconds'] = df.target_rate # * 3600\n",
    "df['error_star_derivative_scaled'] = df.error_star_derivative * 3600\n",
    "df['error_hat_derivative_scaled'] = df.error_star_derivative * 3600"
   ]
  },
  {
   "cell_type": "markdown",
   "metadata": {},
   "source": [
    "# Data Analysis"
   ]
  },
  {
   "cell_type": "code",
   "execution_count": null,
   "metadata": {},
   "outputs": [],
   "source": [
    "fig = px.line(\n",
    "    df,\n",
    "    x='timestamp',\n",
    "    y=['debt_price', 'target_price', 'market_price'],\n",
    "    facet_col='subset',\n",
    "    facet_col_wrap=2,\n",
    "    template='seaborn',\n",
    "    height=800\n",
    ")\n",
    "\n",
    "fig.show()\n",
    "fig.write_image('plots/controller-target-plot.png', width=1000, height=850)"
   ]
  },
  {
   "cell_type": "code",
   "execution_count": null,
   "metadata": {},
   "outputs": [],
   "source": [
    "fig = px.line(\n",
    "    df[df.subset == 0],\n",
    "    x='timestamp',\n",
    "    y=['debt_price'],\n",
    "    facet_col='subset',\n",
    "    facet_col_wrap=2,\n",
    "    template='seaborn',\n",
    "    height=800\n",
    ")\n",
    "\n",
    "# fig.show()\n",
    "fig.write_image('plots/debt-price-plot.svg', width=1000, height=850)\n",
    "from IPython.display import SVG,display\n",
    "display(SVG(filename='plots/debt-price-plot.svg'))"
   ]
  },
  {
   "cell_type": "code",
   "execution_count": null,
   "metadata": {},
   "outputs": [],
   "source": [
    "fig = px.line(\n",
    "    df,\n",
    "    x='timestamp',\n",
    "    y=['error_star','error_star_derivative_scaled'],\n",
    "    facet_col='subset',\n",
    "    facet_col_wrap=2,\n",
    "    template='seaborn',\n",
    "    height=800\n",
    ")\n",
    "\n",
    "# fig.show()\n",
    "fig.write_image('plots/error-star-plot.svg', width=1000, height=850)\n",
    "from IPython.display import SVG,display\n",
    "display(SVG(filename='plots/error-star-plot.svg'))"
   ]
  },
  {
   "cell_type": "code",
   "execution_count": null,
   "metadata": {},
   "outputs": [],
   "source": [
    "from utils.plots import integral_plot\n",
    "\n",
    "integral_plot(df[df.timestep<100])"
   ]
  },
  {
   "cell_type": "markdown",
   "metadata": {},
   "source": [
    "## Conclusion"
   ]
  }
 ],
 "metadata": {
  "kernelspec": {
   "display_name": "Python (Reflexer)",
   "language": "python",
   "name": "python-reflexer"
  },
  "language_info": {
   "codemirror_mode": {
    "name": "ipython",
    "version": 3
   },
   "file_extension": ".py",
   "mimetype": "text/x-python",
   "name": "python",
   "nbconvert_exporter": "python",
   "pygments_lexer": "ipython3",
   "version": "3.8.3"
  }
 },
 "nbformat": 4,
 "nbformat_minor": 4
}
