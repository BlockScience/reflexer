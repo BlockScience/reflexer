{
 "cells": [
  {
   "cell_type": "markdown",
   "metadata": {},
   "source": [
    "# System Model V3 - Debt Market Model\n",
    "\n",
    "The purpose of this notebook is to simulate a single run of the full CDP and APT system model, using a stochastic Ethereum price and liquidity demand process as a driver.\n",
    "\n",
    "\n",
    "For this simulation run, we will be asking the following question: does market price decline without controller?\n",
    "\n",
    "In order to test this, we override the default paramers seen in [init.py](models/system_model_v3/model/params/init.py) with the following and perform a parameter sweep:\n",
    "\n",
    "```\n",
    "params_update = {\n",
    "    'controller_enabled': [False],\n",
    "    'liquidity_demand_shock': [False],\n",
    "    'rescale_target_price': [True, False], \n",
    "    'arbitrageur_considers_liquidation_ratio': [True,False],\n",
    "}\n",
    "```\n"
   ]
  },
  {
   "cell_type": "markdown",
   "metadata": {},
   "source": [
    "# Setup and Dependencies"
   ]
  },
  {
   "cell_type": "code",
   "execution_count": 1,
   "metadata": {},
   "outputs": [
    {
     "name": "stdout",
     "output_type": "stream",
     "text": [
      "Name: cadCAD\n",
      "Version: 0.4.23\n",
      "Summary: cadCAD: a differential games based simulation software package for research, validation, and         Computer Aided Design of economic systems\n",
      "Home-page: https://github.com/cadCAD-org/cadCAD\n",
      "Author: Joshua E. Jodesty\n",
      "Author-email: joshua@block.science\n",
      "License: LICENSE.txt\n",
      "Location: /home/aclarkdata/repos/reflexer/venv/lib/python3.8/site-packages\n",
      "Requires: fn, pandas, pathos, funcy\n",
      "Required-by: cadCAD-machine-search\n",
      "Note: you may need to restart the kernel to use updated packages.\n"
     ]
    }
   ],
   "source": [
    "# Set project root folder, to enable importing project files from subdirectories\n",
    "from pathlib import Path\n",
    "import os\n",
    "\n",
    "path = Path().resolve()\n",
    "root_path = str(path).split('notebooks')[0]\n",
    "os.chdir(root_path)\n",
    "\n",
    "# Force reload of project modules, sometimes necessary for Jupyter kernel\n",
    "%load_ext autoreload\n",
    "%autoreload 2\n",
    "\n",
    "# Display cadCAD version for easy debugging\n",
    "%pip show cadCAD"
   ]
  },
  {
   "cell_type": "code",
   "execution_count": null,
   "metadata": {},
   "outputs": [],
   "source": [
    "# Import all shared dependencies and setup\n",
    "from shared import *\n",
    "import pandas as pd\n",
    "import matplotlib.pyplot as plt\n",
    "import seaborn as sns\n",
    "\n",
    "%matplotlib inline"
   ]
  },
  {
   "cell_type": "markdown",
   "metadata": {},
   "source": [
    "# Environmental Processes"
   ]
  },
  {
   "cell_type": "code",
   "execution_count": null,
   "metadata": {
    "lines_to_next_cell": 2
   },
   "outputs": [],
   "source": [
    "# Import the ETH price stochastic dataset\n",
    "from models.system_model_v3.model.params.init import eth_price_df"
   ]
  },
  {
   "cell_type": "code",
   "execution_count": null,
   "metadata": {},
   "outputs": [],
   "source": [
    "eth_price_df"
   ]
  },
  {
   "cell_type": "code",
   "execution_count": null,
   "metadata": {},
   "outputs": [],
   "source": [
    "time = []\n",
    "for i in range(0,len(eth_price_df)):\n",
    "    time.append(i)"
   ]
  },
  {
   "cell_type": "code",
   "execution_count": null,
   "metadata": {},
   "outputs": [],
   "source": [
    "# Plot the ETH price for the first MC run dataset\n",
    "sns.lineplot(data=eth_price_df, x=time, y=\"0\",label='Generated Eth price')\n",
    "plt.title('Generated Eth price')\n",
    "plt.legend(loc=\"upper left\")\n",
    "plt.show()"
   ]
  },
  {
   "cell_type": "markdown",
   "metadata": {},
   "source": [
    "# Model Configuration"
   ]
  },
  {
   "cell_type": "code",
   "execution_count": null,
   "metadata": {},
   "outputs": [],
   "source": [
    "from models.system_model_v3.model.state_variables.init import state_variables\n",
    "\n",
    "state_variables.update({})"
   ]
  },
  {
   "cell_type": "code",
   "execution_count": null,
   "metadata": {},
   "outputs": [],
   "source": [
    "from models.system_model_v3.model.params.init import params\n",
    "\n",
    "\n",
    "# Update the default parameter values\n",
    "# params_update = {\n",
    "#     'controller_enabled': [True],\n",
    "#     'kp': [2.000000e-07], # proportional term for the stability controller: units 1/USD\n",
    "#     'ki': [-5.000000e-09], # integral term for the stability controller: units 1/(USD*seconds)\n",
    "# }\n",
    "params_update = {\n",
    "    'controller_enabled': [False],\n",
    "    'liquidity_demand_shock': [False],\n",
    "    'rescale_target_price': [True,False],\n",
    "    'arbitrageur_considers_liquidation_ratio': [True,False]\n",
    "}\n",
    "\n",
    "params.update(params_update)\n"
   ]
  },
  {
   "cell_type": "markdown",
   "metadata": {},
   "source": [
    "# Simulation Execution"
   ]
  },
  {
   "cell_type": "code",
   "execution_count": null,
   "metadata": {},
   "outputs": [],
   "source": [
    "# Set the number of simulation timesteps, with a maximum of `len(eth_price_df) - 1`\n",
    "SIMULATION_TIMESTEPS = len(eth_price_df) - 1\n",
    "SIMULATION_TIMESTEPS"
   ]
  },
  {
   "cell_type": "code",
   "execution_count": null,
   "metadata": {
    "lines_to_next_cell": 2
   },
   "outputs": [],
   "source": [
    "# Create a wrapper for the model simulation, and update the existing parameters and initial state\n",
    "system_simulation = ConfigWrapper(system_model_v3, T=range(SIMULATION_TIMESTEPS), M=params, initial_state=state_variables)"
   ]
  },
  {
   "cell_type": "code",
   "execution_count": null,
   "metadata": {},
   "outputs": [],
   "source": [
    "del configs[:] # Clear any prior configs\n",
    "(simulation_result, _tensor_field, _sessions) = run(system_simulation, drop_midsteps=False) # Run the simulation"
   ]
  },
  {
   "cell_type": "markdown",
   "metadata": {},
   "source": [
    "# Simulation Analysis"
   ]
  },
  {
   "cell_type": "code",
   "execution_count": null,
   "metadata": {},
   "outputs": [],
   "source": [
    "# Add new columns to dataframe\n",
    "simulation_result = simulation_result.assign(eth_collateral_value = simulation_result.eth_collateral * simulation_result.eth_price)\n",
    "simulation_result['collateralization_ratio'] = (simulation_result.eth_collateral * simulation_result.eth_price) / (simulation_result.principal_debt * simulation_result.target_price)\n",
    "\n",
    "# Update dataframe display settings\n",
    "pd.set_option('display.max_columns', 100)\n",
    "pd.set_option('display.max_rows', 50)\n",
    "\n",
    "simulation_result"
   ]
  },
  {
   "cell_type": "markdown",
   "metadata": {},
   "source": [
    "## Save simulation"
   ]
  },
  {
   "cell_type": "code",
   "execution_count": null,
   "metadata": {},
   "outputs": [],
   "source": [
    "# Save the simulation result to a pickle file, for backup - this will be overwritten on the next simulation\n",
    "#simulation_result.to_pickle(f'./exports/system_model_v3/results.pickle')\n",
    "#simulation_result.to_pickle('notebooks/system_model_v3/results.pickle')\n",
    "\n",
    "'''\n",
    "1. Query: does market price decline without controller?\n",
    " ---\n",
    "   - Run simulation with:\n",
    "     - ETH price shock OFF\n",
    "     - Liquidity shocks OFF\n",
    "     - Controller OFF\n",
    "     - Arbitrageur considers liquidation ratio:\n",
    "       - ON\n",
    "       - OFF\n",
    "     - Target price rescaled:\n",
    "       - ON\n",
    "       - OFF\n",
    "'''\n",
    "simulation_result.to_pickle('notebooks/system_model_v3/query_1_results.pickle')"
   ]
  },
  {
   "cell_type": "markdown",
   "metadata": {},
   "source": [
    "# Simulation Analysis"
   ]
  },
  {
   "cell_type": "code",
   "execution_count": null,
   "metadata": {},
   "outputs": [],
   "source": [
    "import pandas as pd\n",
    "import matplotlib.pyplot as plt\n",
    "import seaborn as sns\n",
    "\n",
    "%matplotlib inline\n",
    "\n",
    "# Load the simulation result from a pickle file, specifying past results when necessary\n",
    "#simulation_result = pd.read_pickle('notebooks/analysis/saved_results/v3_results.pickle')\n",
    "\n",
    "# Drop the simulation midsteps - the substeps that aren't used for generating plots\n",
    "df = drop_dataframe_midsteps(simulation_result)\n",
    "df"
   ]
  },
  {
   "cell_type": "code",
   "execution_count": null,
   "metadata": {},
   "outputs": [],
   "source": [
    "df.columns"
   ]
  },
  {
   "cell_type": "code",
   "execution_count": null,
   "metadata": {},
   "outputs": [],
   "source": [
    "# create target price scale\n",
    "liquidation_ratio = 1.45\n",
    "df['target_price_scaled'] = df['target_price'] * liquidation_ratio"
   ]
  },
  {
   "cell_type": "markdown",
   "metadata": {},
   "source": [
    "### Generate key plots for analysis"
   ]
  },
  {
   "cell_type": "code",
   "execution_count": null,
   "metadata": {},
   "outputs": [],
   "source": [
    "sns.lineplot(data=df,x=\"timestamp\", y=\"eth_price\",label='Generated Eth price')\n",
    "plt.ylim(250, 600)\n",
    "ax2 = plt.twinx()\n",
    "sns.lineplot(data=df,x=\"timestamp\", y=\"market_price\",ax=ax2,color='r',label='Market Price in Rai')\n",
    "sns.lineplot(data=df,x=\"timestamp\", y=\"target_price_scaled\",ax=ax2,color='g',label='Redemption Price in Rai')\n",
    "plt.title('Generated Eth price vs Simulation Market and Redemption Prices')\n",
    "plt.legend(loc=\"upper left\")\n",
    "plt.show()"
   ]
  },
  {
   "cell_type": "code",
   "execution_count": null,
   "metadata": {},
   "outputs": [],
   "source": [
    "sns.lineplot(data=df,x=\"timestamp\", y=\"eth_locked\",label='Total Eth locked')\n",
    "plt.legend(loc=\"upper left\")\n",
    "plt.show()"
   ]
  },
  {
   "cell_type": "code",
   "execution_count": null,
   "metadata": {},
   "outputs": [],
   "source": [
    "sns.lineplot(data=df,x=\"timestamp\", y=\"target_rate\",label='Redemption Rate')\n",
    "plt.legend(loc=\"upper left\")\n",
    "plt.show()"
   ]
  },
  {
   "cell_type": "code",
   "execution_count": null,
   "metadata": {},
   "outputs": [],
   "source": [
    "sns.lineplot(data=df,x=\"timestamp\", y=\"ETH_balance\",label='Eth Balance')\n",
    "plt.legend(loc=\"upper left\")\n",
    "plt.show()"
   ]
  },
  {
   "cell_type": "code",
   "execution_count": null,
   "metadata": {},
   "outputs": [],
   "source": [
    "sns.lineplot(data=df,x=\"timestamp\", y=\"RAI_balance\",label='Rai Balance')\n",
    "plt.legend(loc=\"upper left\")\n",
    "plt.show()"
   ]
  },
  {
   "cell_type": "markdown",
   "metadata": {},
   "source": [
    "## Conclusion"
   ]
  }
 ],
 "metadata": {
  "jupytext": {
   "cell_metadata_filter": "-all",
   "encoding": "# -*- coding: utf-8 -*-",
   "formats": "ipynb,py:percent"
  },
  "kernelspec": {
   "display_name": "Python (Reflexer)",
   "language": "python",
   "name": "python-reflexer"
  },
  "language_info": {
   "codemirror_mode": {
    "name": "ipython",
    "version": 3
   },
   "file_extension": ".py",
   "mimetype": "text/x-python",
   "name": "python",
   "nbconvert_exporter": "python",
   "pygments_lexer": "ipython3",
   "version": "3.8.3"
  }
 },
 "nbformat": 4,
 "nbformat_minor": 4
}
