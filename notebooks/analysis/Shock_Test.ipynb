{
 "cells": [
  {
   "cell_type": "markdown",
   "metadata": {},
   "source": [
    "# System Model V3 - Shock test\n",
    "\n",
    "The purpose of this notebook is to perform shocks of ETH price to test controller parameter stability, without stochastic processes.\n",
    "\n",
    "For this simulation run, we will be asking the following question: how does the model behave with a eth price shock?\n",
    "\n",
    "Run simulation with overrides over the default values:\n",
    "* Ki,kp sweeps\n",
    "* 'controller_enabled': [True],\n",
    "* 'liquidation_ratio': [1.45],\n",
    "* 'interest_rate': [1.03],\n",
    "* 'liquidity_demand_enabled': [False],\n",
    "* 'arbitrageur_considers_liquidation_ratio': [True],\n",
    "* 'liquidity_demand_shock': [False],\n",
    "*'eth_price': [lambda run, timestep, df=None: [\n",
    "        # Shocks at 14 days; controller turns on at 7 days\n",
    "        300,\n",
    "        300 if timestep < 24 * 14 else 300 * 1.3, # 30% step, remains for rest of simulation\n",
    "        300 * 1.3 if timestep in list(range(24*14, 24*14 + 6, 1)) else 300, # 30% impulse for 6 hours\n",
    "        300 if timestep < 24 * 14 else 300 * 0.7, # negative 30% step, remains for rest of simulation\n",
    "        300 * 0.7 if timestep in list(range(24*14, 24*14 + 6, 1)) else 300, # negative 30% impulse for 6 hours\n",
    "    ][run - 1]],\n",
    "* 'liquidity_demand_events': [lambda run, timestep, df=None: 0],\n",
    "* 'token_swap_events': [lambda run, timestep, df=None: 0],\n",
    "}\n",
    "\n",
    "In order to test this, configure the following experiment [experiment_shocks.py](experiments/system_model_v3/experiment_shocks.py). Run run this simulation, we create a directory in the ```experiments/system_model_v3``` called ```experiment_shocks/```,and add a ```logs/``` directory inside of it.\n",
    "\n",
    "Assuming our we have all of the requirements required (run requirements.txt from the ```reflexer/``` root directory to be sure. Assuming our terminal is in the root directory, we run the follow to run the simulation:\n",
    "\n",
    "```bash\n",
    "python3 -m experiments.system_model_v3.experiment_shocks\n",
    "```\n",
    "And our simulation will run. The resulting [run log](experiments/system_model_v3/experiment_shocks/experiment_run_log.md) can be found in the ```experiments/system_model_v3/experiment_shocks/``` directory, along with the simulation results stored as ```experiment_results.hdf5```\n",
    "\n",
    "\n",
    "Below we will import and examine the simulation results.\n"
   ]
  },
  {
   "cell_type": "code",
   "execution_count": 1,
   "metadata": {},
   "outputs": [],
   "source": [
    "# import libraries\n",
    "import pandas as pd\n",
    "import matplotlib.pyplot as plt\n",
    "import seaborn as sns\n",
    "import os\n",
    "\n",
    "%matplotlib inline"
   ]
  },
  {
   "cell_type": "markdown",
   "metadata": {},
   "source": [
    "## Import simulation run data\n"
   ]
  },
  {
   "cell_type": "code",
   "execution_count": 2,
   "metadata": {},
   "outputs": [
    {
     "data": {
      "text/plain": [
       "'/home/aclarkdata/repos/reflexer/notebooks/analysis'"
      ]
     },
     "execution_count": 2,
     "metadata": {},
     "output_type": "execute_result"
    }
   ],
   "source": [
    "os.getcwd()"
   ]
  },
  {
   "cell_type": "code",
   "execution_count": 3,
   "metadata": {},
   "outputs": [
    {
     "data": {
      "text/plain": [
       "'/home/aclarkdata/repos/reflexer'"
      ]
     },
     "execution_count": 3,
     "metadata": {},
     "output_type": "execute_result"
    }
   ],
   "source": [
    "os.chdir('../../')\n",
    "os.getcwd()"
   ]
  },
  {
   "cell_type": "code",
   "execution_count": 4,
   "metadata": {},
   "outputs": [],
   "source": [
    "experiment_results = 'experiments/system_model_v3/experiment_shocks/experiment_results.hdf5'\n",
    "experiment_results_keys = []\n",
    "with pd.HDFStore(experiment_results) as store:\n",
    "    experiment_results_keys = list(filter(lambda x: \"results\" in x, store.keys()))\n",
    "    exceptions_keys = list(filter(lambda x: \"exceptions\" in x, store.keys()))"
   ]
  },
  {
   "cell_type": "code",
   "execution_count": 5,
   "metadata": {},
   "outputs": [
    {
     "data": {
      "text/plain": [
       "['/results_2021-03-04T09:46:21.528200']"
      ]
     },
     "execution_count": 5,
     "metadata": {},
     "output_type": "execute_result"
    }
   ],
   "source": [
    "# A list of all experiment result keys\n",
    "experiment_results_keys"
   ]
  },
  {
   "cell_type": "code",
   "execution_count": 6,
   "metadata": {},
   "outputs": [
    {
     "data": {
      "text/plain": [
       "'/results_2021-03-04T09:46:21.528200'"
      ]
     },
     "execution_count": 6,
     "metadata": {},
     "output_type": "execute_result"
    }
   ],
   "source": [
    "# Copy a results_ key from the above keys to select the experiment\n",
    "experiment_results_key = experiment_results_keys[-1]#'results_2021-02-09T18:46:33.073363' # Or select last result: experiment_results_keys[-1]\n",
    "experiment_timestamp = experiment_results_key.strip('results_')\n",
    "exceptions_key = 'exceptions_' + experiment_timestamp\n",
    "experiment_timestamp"
   ]
  },
  {
   "cell_type": "code",
   "execution_count": 7,
   "metadata": {},
   "outputs": [
    {
     "data": {
      "text/html": [
       "<div>\n",
       "<style scoped>\n",
       "    .dataframe tbody tr th:only-of-type {\n",
       "        vertical-align: middle;\n",
       "    }\n",
       "\n",
       "    .dataframe tbody tr th {\n",
       "        vertical-align: top;\n",
       "    }\n",
       "\n",
       "    .dataframe thead th {\n",
       "        text-align: right;\n",
       "    }\n",
       "</style>\n",
       "<table border=\"1\" class=\"dataframe\">\n",
       "  <thead>\n",
       "    <tr style=\"text-align: right;\">\n",
       "      <th></th>\n",
       "      <th>cdp_metrics</th>\n",
       "      <th>optimal_values</th>\n",
       "      <th>sim_metrics</th>\n",
       "      <th>timedelta</th>\n",
       "      <th>cumulative_time</th>\n",
       "      <th>timestamp</th>\n",
       "      <th>blockheight</th>\n",
       "      <th>eth_price</th>\n",
       "      <th>liquidity_demand</th>\n",
       "      <th>liquidity_demand_mean</th>\n",
       "      <th>...</th>\n",
       "      <th>RAI_balance</th>\n",
       "      <th>ETH_balance</th>\n",
       "      <th>UNI_supply</th>\n",
       "      <th>uniswap_oracle</th>\n",
       "      <th>simulation</th>\n",
       "      <th>subset</th>\n",
       "      <th>run</th>\n",
       "      <th>substep</th>\n",
       "      <th>timestep</th>\n",
       "      <th>events</th>\n",
       "    </tr>\n",
       "  </thead>\n",
       "  <tbody>\n",
       "    <tr>\n",
       "      <th>159144</th>\n",
       "      <td>{'cdp_count': 1, 'open_cdp_count': 1, 'closed_...</td>\n",
       "      <td>{}</td>\n",
       "      <td>{}</td>\n",
       "      <td>3600</td>\n",
       "      <td>806400</td>\n",
       "      <td>2017-01-10 08:00:00</td>\n",
       "      <td>0</td>\n",
       "      <td>300.0</td>\n",
       "      <td>0</td>\n",
       "      <td>3.709206e-68</td>\n",
       "      <td>...</td>\n",
       "      <td>2.467233e+125</td>\n",
       "      <td>4.576589e-114</td>\n",
       "      <td>10000000.0</td>\n",
       "      <td>None</td>\n",
       "      <td>0</td>\n",
       "      <td>24</td>\n",
       "      <td>5</td>\n",
       "      <td>18</td>\n",
       "      <td>224</td>\n",
       "      <td>NaN</td>\n",
       "    </tr>\n",
       "    <tr>\n",
       "      <th>159145</th>\n",
       "      <td>{'cdp_count': 1, 'open_cdp_count': 1, 'closed_...</td>\n",
       "      <td>{}</td>\n",
       "      <td>{}</td>\n",
       "      <td>3600</td>\n",
       "      <td>810000</td>\n",
       "      <td>2017-01-10 09:00:00</td>\n",
       "      <td>0</td>\n",
       "      <td>300.0</td>\n",
       "      <td>0</td>\n",
       "      <td>1.854603e-68</td>\n",
       "      <td>...</td>\n",
       "      <td>4.774633e+133</td>\n",
       "      <td>2.372013e-122</td>\n",
       "      <td>10000000.0</td>\n",
       "      <td>None</td>\n",
       "      <td>0</td>\n",
       "      <td>24</td>\n",
       "      <td>5</td>\n",
       "      <td>18</td>\n",
       "      <td>225</td>\n",
       "      <td>NaN</td>\n",
       "    </tr>\n",
       "    <tr>\n",
       "      <th>159146</th>\n",
       "      <td>{'cdp_count': 1, 'open_cdp_count': 1, 'closed_...</td>\n",
       "      <td>{}</td>\n",
       "      <td>{}</td>\n",
       "      <td>3600</td>\n",
       "      <td>813600</td>\n",
       "      <td>2017-01-10 10:00:00</td>\n",
       "      <td>0</td>\n",
       "      <td>300.0</td>\n",
       "      <td>0</td>\n",
       "      <td>9.273015e-69</td>\n",
       "      <td>...</td>\n",
       "      <td>9.239952e+141</td>\n",
       "      <td>1.229397e-130</td>\n",
       "      <td>10000000.0</td>\n",
       "      <td>None</td>\n",
       "      <td>0</td>\n",
       "      <td>24</td>\n",
       "      <td>5</td>\n",
       "      <td>18</td>\n",
       "      <td>226</td>\n",
       "      <td>NaN</td>\n",
       "    </tr>\n",
       "    <tr>\n",
       "      <th>159147</th>\n",
       "      <td>{'cdp_count': 1, 'open_cdp_count': 1, 'closed_...</td>\n",
       "      <td>{}</td>\n",
       "      <td>{}</td>\n",
       "      <td>3600</td>\n",
       "      <td>817200</td>\n",
       "      <td>2017-01-10 11:00:00</td>\n",
       "      <td>0</td>\n",
       "      <td>300.0</td>\n",
       "      <td>0</td>\n",
       "      <td>4.636508e-69</td>\n",
       "      <td>...</td>\n",
       "      <td>1.788131e+150</td>\n",
       "      <td>6.371875e-139</td>\n",
       "      <td>10000000.0</td>\n",
       "      <td>None</td>\n",
       "      <td>0</td>\n",
       "      <td>24</td>\n",
       "      <td>5</td>\n",
       "      <td>18</td>\n",
       "      <td>227</td>\n",
       "      <td>NaN</td>\n",
       "    </tr>\n",
       "    <tr>\n",
       "      <th>159148</th>\n",
       "      <td>{'cdp_count': 1, 'open_cdp_count': 1, 'closed_...</td>\n",
       "      <td>{}</td>\n",
       "      <td>{}</td>\n",
       "      <td>3600</td>\n",
       "      <td>820800</td>\n",
       "      <td>2017-01-10 12:00:00</td>\n",
       "      <td>0</td>\n",
       "      <td>300.0</td>\n",
       "      <td>0</td>\n",
       "      <td>2.318254e-69</td>\n",
       "      <td>...</td>\n",
       "      <td>3.460423e+158</td>\n",
       "      <td>3.302497e-147</td>\n",
       "      <td>10000000.0</td>\n",
       "      <td>&lt;models.system_model_v3.model.parts.uniswap_or...</td>\n",
       "      <td>0</td>\n",
       "      <td>24</td>\n",
       "      <td>5</td>\n",
       "      <td>18</td>\n",
       "      <td>228</td>\n",
       "      <td>NaN</td>\n",
       "    </tr>\n",
       "  </tbody>\n",
       "</table>\n",
       "<p>5 rows × 49 columns</p>\n",
       "</div>"
      ],
      "text/plain": [
       "                                              cdp_metrics optimal_values  \\\n",
       "159144  {'cdp_count': 1, 'open_cdp_count': 1, 'closed_...             {}   \n",
       "159145  {'cdp_count': 1, 'open_cdp_count': 1, 'closed_...             {}   \n",
       "159146  {'cdp_count': 1, 'open_cdp_count': 1, 'closed_...             {}   \n",
       "159147  {'cdp_count': 1, 'open_cdp_count': 1, 'closed_...             {}   \n",
       "159148  {'cdp_count': 1, 'open_cdp_count': 1, 'closed_...             {}   \n",
       "\n",
       "       sim_metrics  timedelta  cumulative_time           timestamp  \\\n",
       "159144          {}       3600           806400 2017-01-10 08:00:00   \n",
       "159145          {}       3600           810000 2017-01-10 09:00:00   \n",
       "159146          {}       3600           813600 2017-01-10 10:00:00   \n",
       "159147          {}       3600           817200 2017-01-10 11:00:00   \n",
       "159148          {}       3600           820800 2017-01-10 12:00:00   \n",
       "\n",
       "        blockheight  eth_price  liquidity_demand  liquidity_demand_mean  ...  \\\n",
       "159144            0      300.0                 0           3.709206e-68  ...   \n",
       "159145            0      300.0                 0           1.854603e-68  ...   \n",
       "159146            0      300.0                 0           9.273015e-69  ...   \n",
       "159147            0      300.0                 0           4.636508e-69  ...   \n",
       "159148            0      300.0                 0           2.318254e-69  ...   \n",
       "\n",
       "          RAI_balance    ETH_balance  UNI_supply  \\\n",
       "159144  2.467233e+125  4.576589e-114  10000000.0   \n",
       "159145  4.774633e+133  2.372013e-122  10000000.0   \n",
       "159146  9.239952e+141  1.229397e-130  10000000.0   \n",
       "159147  1.788131e+150  6.371875e-139  10000000.0   \n",
       "159148  3.460423e+158  3.302497e-147  10000000.0   \n",
       "\n",
       "                                           uniswap_oracle  simulation  subset  \\\n",
       "159144                                               None           0      24   \n",
       "159145                                               None           0      24   \n",
       "159146                                               None           0      24   \n",
       "159147                                               None           0      24   \n",
       "159148  <models.system_model_v3.model.parts.uniswap_or...           0      24   \n",
       "\n",
       "        run  substep  timestep  events  \n",
       "159144    5       18       224     NaN  \n",
       "159145    5       18       225     NaN  \n",
       "159146    5       18       226     NaN  \n",
       "159147    5       18       227     NaN  \n",
       "159148    5       18       228     NaN  \n",
       "\n",
       "[5 rows x 49 columns]"
      ]
     },
     "execution_count": 7,
     "metadata": {},
     "output_type": "execute_result"
    }
   ],
   "source": [
    "df_raw = pd.read_hdf(experiment_results, experiment_results_key)\n",
    "df_raw.tail()"
   ]
  },
  {
   "cell_type": "markdown",
   "metadata": {},
   "source": [
    "## Post process\n"
   ]
  },
  {
   "cell_type": "code",
   "execution_count": 11,
   "metadata": {},
   "outputs": [
    {
     "name": "stdout",
     "output_type": "stream",
     "text": [
      "\n",
      "* Number of timesteps: 1440 / 60.0 days\n",
      "* Number of MC runs: 5\n",
      "* Timestep duration: 0.004 seconds\n",
      "* Control parameters: ['kp', 'ki']\n",
      "* Number of parameter combinations: 25\n",
      "* Expected experiment duration: 12.0 minutes / 0.2 hours\n",
      "    \n"
     ]
    }
   ],
   "source": [
    "from experiments.system_model_v3.post_process import post_process_results\n",
    "from experiments.system_model_v3.experiment_shocks import params, SIMULATION_TIMESTEPS"
   ]
  },
  {
   "cell_type": "code",
   "execution_count": 12,
   "metadata": {},
   "outputs": [
    {
     "data": {
      "text/plain": [
       "{'debug': [False],\n",
       " 'raise_on_assert': [True],\n",
       " 'free_memory_states': [['events', 'cdps', 'uniswap_oracle']],\n",
       " 'IntegralType': [2],\n",
       " 'eth_price': [<function experiments.system_model_v3.experiment_shocks.<lambda>(run, timestep, df=None)>],\n",
       " 'liquidity_demand_events': [<function experiments.system_model_v3.experiment_shocks.<lambda>(run, timestep, df=None)>],\n",
       " 'token_swap_events': [<function experiments.system_model_v3.experiment_shocks.<lambda>(run, timestep, df=None)>],\n",
       " 'seconds_passed': [<function models.system_model_v3.model.params.init.<lambda>(timestep, df=None)>],\n",
       " 'liquidity_demand_enabled': [False],\n",
       " 'liquidity_demand_shock': [False],\n",
       " 'liquidity_demand_max_percentage': [0.1],\n",
       " 'liquidity_demand_shock_percentage': [0.5],\n",
       " 'expected_blocktime': [15],\n",
       " 'control_period': [14400],\n",
       " 'controller_enabled': [True],\n",
       " 'enable_controller_time': [604800],\n",
       " 'kp': [2e-07,\n",
       "  2e-07,\n",
       "  2e-07,\n",
       "  2e-07,\n",
       "  2e-07,\n",
       "  6e-07,\n",
       "  6e-07,\n",
       "  6e-07,\n",
       "  6e-07,\n",
       "  6e-07,\n",
       "  1e-06,\n",
       "  1e-06,\n",
       "  1e-06,\n",
       "  1e-06,\n",
       "  1e-06,\n",
       "  3e-06,\n",
       "  3e-06,\n",
       "  3e-06,\n",
       "  3e-06,\n",
       "  3e-06,\n",
       "  5e-06,\n",
       "  5e-06,\n",
       "  5e-06,\n",
       "  5e-06,\n",
       "  5e-06],\n",
       " 'ki': [-5e-09,\n",
       "  -3.0000000000000004e-09,\n",
       "  -1e-09,\n",
       "  -6e-10,\n",
       "  -2e-10,\n",
       "  -5e-09,\n",
       "  -3.0000000000000004e-09,\n",
       "  -1e-09,\n",
       "  -6e-10,\n",
       "  -2e-10,\n",
       "  -5e-09,\n",
       "  -3.0000000000000004e-09,\n",
       "  -1e-09,\n",
       "  -6e-10,\n",
       "  -2e-10,\n",
       "  -5e-09,\n",
       "  -3.0000000000000004e-09,\n",
       "  -1e-09,\n",
       "  -6e-10,\n",
       "  -2e-10,\n",
       "  -5e-09,\n",
       "  -3.0000000000000004e-09,\n",
       "  -1e-09,\n",
       "  -6e-10,\n",
       "  -2e-10],\n",
       " 'alpha': [9.990000000000001e+26],\n",
       " 'error_term': [<function models.system_model_v3.model.params.init.<lambda>(target, measured)>],\n",
       " 'rescale_target_price': [True, False, True, False],\n",
       " 'arbitrageur_considers_liquidation_ratio': [True],\n",
       " 'interest_rate': [1.03],\n",
       " 'beta_1': [9.084809e-05],\n",
       " 'beta_2': [-4.194794e-08],\n",
       " 'liquidation_ratio': [1.45],\n",
       " 'liquidation_buffer': [2.0],\n",
       " 'liquidation_penalty': [0],\n",
       " 'debt_ceiling': [1000000000.0],\n",
       " 'stability_fee': [<function models.system_model_v3.model.params.init.<lambda>(timestep, df=None)>],\n",
       " 'uniswap_fee': [0.003],\n",
       " 'gas_price': [1e-07],\n",
       " 'swap_gas_used': [103834],\n",
       " 'cdp_gas_used': [306500.0]}"
      ]
     },
     "execution_count": 12,
     "metadata": {},
     "output_type": "execute_result"
    }
   ],
   "source": [
    "params"
   ]
  },
  {
   "cell_type": "code",
   "execution_count": 14,
   "metadata": {},
   "outputs": [
    {
     "name": "stdout",
     "output_type": "stream",
     "text": [
      "Adding new columns\n",
      "0.03817892074584961\n",
      "Getting parameter sweep\n",
      "0.03910112380981445\n",
      "Assigning parameters to subsets\n",
      "4.724632263183594\n",
      "Creating target_price_scaled\n",
      "4.744890213012695\n"
     ]
    },
    {
     "data": {
      "text/html": [
       "<div>\n",
       "<style scoped>\n",
       "    .dataframe tbody tr th:only-of-type {\n",
       "        vertical-align: middle;\n",
       "    }\n",
       "\n",
       "    .dataframe tbody tr th {\n",
       "        vertical-align: top;\n",
       "    }\n",
       "\n",
       "    .dataframe thead th {\n",
       "        text-align: right;\n",
       "    }\n",
       "</style>\n",
       "<table border=\"1\" class=\"dataframe\">\n",
       "  <thead>\n",
       "    <tr style=\"text-align: right;\">\n",
       "      <th></th>\n",
       "      <th>cdp_metrics</th>\n",
       "      <th>optimal_values</th>\n",
       "      <th>sim_metrics</th>\n",
       "      <th>timedelta</th>\n",
       "      <th>cumulative_time</th>\n",
       "      <th>timestamp</th>\n",
       "      <th>blockheight</th>\n",
       "      <th>eth_price</th>\n",
       "      <th>liquidity_demand</th>\n",
       "      <th>liquidity_demand_mean</th>\n",
       "      <th>...</th>\n",
       "      <th>run</th>\n",
       "      <th>substep</th>\n",
       "      <th>timestep</th>\n",
       "      <th>events</th>\n",
       "      <th>eth_collateral_value</th>\n",
       "      <th>collateralization_ratio</th>\n",
       "      <th>ki</th>\n",
       "      <th>kp</th>\n",
       "      <th>liquidation_ratio</th>\n",
       "      <th>target_price_scaled</th>\n",
       "    </tr>\n",
       "  </thead>\n",
       "  <tbody>\n",
       "    <tr>\n",
       "      <th>0</th>\n",
       "      <td>{}</td>\n",
       "      <td>{}</td>\n",
       "      <td>{}</td>\n",
       "      <td>0</td>\n",
       "      <td>0</td>\n",
       "      <td>2017-01-01 00:00:00</td>\n",
       "      <td>0</td>\n",
       "      <td>294.069151</td>\n",
       "      <td>1</td>\n",
       "      <td>1.000000e+00</td>\n",
       "      <td>...</td>\n",
       "      <td>1</td>\n",
       "      <td>0</td>\n",
       "      <td>0</td>\n",
       "      <td>NaN</td>\n",
       "      <td>4.553000e+07</td>\n",
       "      <td>1.450000e+00</td>\n",
       "      <td>-5.000000e-09</td>\n",
       "      <td>2.000000e-07</td>\n",
       "      <td>1.45</td>\n",
       "      <td>4.553000e+00</td>\n",
       "    </tr>\n",
       "    <tr>\n",
       "      <th>1</th>\n",
       "      <td>{'cdp_count': 1, 'open_cdp_count': 1, 'closed_...</td>\n",
       "      <td>{}</td>\n",
       "      <td>{}</td>\n",
       "      <td>3600</td>\n",
       "      <td>3600</td>\n",
       "      <td>2017-01-01 01:00:00</td>\n",
       "      <td>0</td>\n",
       "      <td>300.000000</td>\n",
       "      <td>0</td>\n",
       "      <td>5.000000e-01</td>\n",
       "      <td>...</td>\n",
       "      <td>1</td>\n",
       "      <td>18</td>\n",
       "      <td>1</td>\n",
       "      <td>NaN</td>\n",
       "      <td>4.644826e+07</td>\n",
       "      <td>1.479244e+00</td>\n",
       "      <td>-5.000000e-09</td>\n",
       "      <td>2.000000e-07</td>\n",
       "      <td>1.45</td>\n",
       "      <td>3.140000e+00</td>\n",
       "    </tr>\n",
       "    <tr>\n",
       "      <th>2</th>\n",
       "      <td>{'cdp_count': 1, 'open_cdp_count': 1, 'closed_...</td>\n",
       "      <td>{}</td>\n",
       "      <td>{}</td>\n",
       "      <td>3600</td>\n",
       "      <td>7200</td>\n",
       "      <td>2017-01-01 02:00:00</td>\n",
       "      <td>0</td>\n",
       "      <td>300.000000</td>\n",
       "      <td>0</td>\n",
       "      <td>2.500000e-01</td>\n",
       "      <td>...</td>\n",
       "      <td>1</td>\n",
       "      <td>18</td>\n",
       "      <td>2</td>\n",
       "      <td>NaN</td>\n",
       "      <td>4.644826e+07</td>\n",
       "      <td>1.450000e+00</td>\n",
       "      <td>-5.000000e-09</td>\n",
       "      <td>2.000000e-07</td>\n",
       "      <td>1.45</td>\n",
       "      <td>3.140000e+00</td>\n",
       "    </tr>\n",
       "    <tr>\n",
       "      <th>3</th>\n",
       "      <td>{'cdp_count': 1, 'open_cdp_count': 1, 'closed_...</td>\n",
       "      <td>{}</td>\n",
       "      <td>{}</td>\n",
       "      <td>3600</td>\n",
       "      <td>10800</td>\n",
       "      <td>2017-01-01 03:00:00</td>\n",
       "      <td>0</td>\n",
       "      <td>300.000000</td>\n",
       "      <td>0</td>\n",
       "      <td>1.250000e-01</td>\n",
       "      <td>...</td>\n",
       "      <td>1</td>\n",
       "      <td>18</td>\n",
       "      <td>3</td>\n",
       "      <td>NaN</td>\n",
       "      <td>4.644826e+07</td>\n",
       "      <td>1.450000e+00</td>\n",
       "      <td>-5.000000e-09</td>\n",
       "      <td>2.000000e-07</td>\n",
       "      <td>1.45</td>\n",
       "      <td>3.140000e+00</td>\n",
       "    </tr>\n",
       "    <tr>\n",
       "      <th>4</th>\n",
       "      <td>{'cdp_count': 1, 'open_cdp_count': 1, 'closed_...</td>\n",
       "      <td>{}</td>\n",
       "      <td>{}</td>\n",
       "      <td>3600</td>\n",
       "      <td>14400</td>\n",
       "      <td>2017-01-01 04:00:00</td>\n",
       "      <td>0</td>\n",
       "      <td>300.000000</td>\n",
       "      <td>0</td>\n",
       "      <td>6.250000e-02</td>\n",
       "      <td>...</td>\n",
       "      <td>1</td>\n",
       "      <td>18</td>\n",
       "      <td>4</td>\n",
       "      <td>NaN</td>\n",
       "      <td>4.644826e+07</td>\n",
       "      <td>1.450000e+00</td>\n",
       "      <td>-5.000000e-09</td>\n",
       "      <td>2.000000e-07</td>\n",
       "      <td>1.45</td>\n",
       "      <td>3.140000e+00</td>\n",
       "    </tr>\n",
       "    <tr>\n",
       "      <th>...</th>\n",
       "      <td>...</td>\n",
       "      <td>...</td>\n",
       "      <td>...</td>\n",
       "      <td>...</td>\n",
       "      <td>...</td>\n",
       "      <td>...</td>\n",
       "      <td>...</td>\n",
       "      <td>...</td>\n",
       "      <td>...</td>\n",
       "      <td>...</td>\n",
       "      <td>...</td>\n",
       "      <td>...</td>\n",
       "      <td>...</td>\n",
       "      <td>...</td>\n",
       "      <td>...</td>\n",
       "      <td>...</td>\n",
       "      <td>...</td>\n",
       "      <td>...</td>\n",
       "      <td>...</td>\n",
       "      <td>...</td>\n",
       "      <td>...</td>\n",
       "    </tr>\n",
       "    <tr>\n",
       "      <th>159144</th>\n",
       "      <td>{'cdp_count': 1, 'open_cdp_count': 1, 'closed_...</td>\n",
       "      <td>{}</td>\n",
       "      <td>{}</td>\n",
       "      <td>3600</td>\n",
       "      <td>806400</td>\n",
       "      <td>2017-01-10 08:00:00</td>\n",
       "      <td>0</td>\n",
       "      <td>300.000000</td>\n",
       "      <td>0</td>\n",
       "      <td>3.709206e-68</td>\n",
       "      <td>...</td>\n",
       "      <td>5</td>\n",
       "      <td>18</td>\n",
       "      <td>224</td>\n",
       "      <td>NaN</td>\n",
       "      <td>4.644826e+07</td>\n",
       "      <td>2.806065e+08</td>\n",
       "      <td>-2.000000e-10</td>\n",
       "      <td>5.000000e-06</td>\n",
       "      <td>1.45</td>\n",
       "      <td>9.728132e-127</td>\n",
       "    </tr>\n",
       "    <tr>\n",
       "      <th>159145</th>\n",
       "      <td>{'cdp_count': 1, 'open_cdp_count': 1, 'closed_...</td>\n",
       "      <td>{}</td>\n",
       "      <td>{}</td>\n",
       "      <td>3600</td>\n",
       "      <td>810000</td>\n",
       "      <td>2017-01-10 09:00:00</td>\n",
       "      <td>0</td>\n",
       "      <td>300.000000</td>\n",
       "      <td>0</td>\n",
       "      <td>1.854603e-68</td>\n",
       "      <td>...</td>\n",
       "      <td>5</td>\n",
       "      <td>18</td>\n",
       "      <td>225</td>\n",
       "      <td>NaN</td>\n",
       "      <td>4.644826e+07</td>\n",
       "      <td>2.806065e+08</td>\n",
       "      <td>-2.000000e-10</td>\n",
       "      <td>5.000000e-06</td>\n",
       "      <td>1.45</td>\n",
       "      <td>5.026894e-135</td>\n",
       "    </tr>\n",
       "    <tr>\n",
       "      <th>159146</th>\n",
       "      <td>{'cdp_count': 1, 'open_cdp_count': 1, 'closed_...</td>\n",
       "      <td>{}</td>\n",
       "      <td>{}</td>\n",
       "      <td>3600</td>\n",
       "      <td>813600</td>\n",
       "      <td>2017-01-10 10:00:00</td>\n",
       "      <td>0</td>\n",
       "      <td>300.000000</td>\n",
       "      <td>0</td>\n",
       "      <td>9.273015e-69</td>\n",
       "      <td>...</td>\n",
       "      <td>5</td>\n",
       "      <td>18</td>\n",
       "      <td>226</td>\n",
       "      <td>NaN</td>\n",
       "      <td>4.644826e+07</td>\n",
       "      <td>2.806065e+08</td>\n",
       "      <td>-2.000000e-10</td>\n",
       "      <td>5.000000e-06</td>\n",
       "      <td>1.45</td>\n",
       "      <td>2.597586e-143</td>\n",
       "    </tr>\n",
       "    <tr>\n",
       "      <th>159147</th>\n",
       "      <td>{'cdp_count': 1, 'open_cdp_count': 1, 'closed_...</td>\n",
       "      <td>{}</td>\n",
       "      <td>{}</td>\n",
       "      <td>3600</td>\n",
       "      <td>817200</td>\n",
       "      <td>2017-01-10 11:00:00</td>\n",
       "      <td>0</td>\n",
       "      <td>300.000000</td>\n",
       "      <td>0</td>\n",
       "      <td>4.636508e-69</td>\n",
       "      <td>...</td>\n",
       "      <td>5</td>\n",
       "      <td>18</td>\n",
       "      <td>227</td>\n",
       "      <td>NaN</td>\n",
       "      <td>4.644826e+07</td>\n",
       "      <td>2.806065e+08</td>\n",
       "      <td>-2.000000e-10</td>\n",
       "      <td>5.000000e-06</td>\n",
       "      <td>1.45</td>\n",
       "      <td>1.342271e-151</td>\n",
       "    </tr>\n",
       "    <tr>\n",
       "      <th>159148</th>\n",
       "      <td>{'cdp_count': 1, 'open_cdp_count': 1, 'closed_...</td>\n",
       "      <td>{}</td>\n",
       "      <td>{}</td>\n",
       "      <td>3600</td>\n",
       "      <td>820800</td>\n",
       "      <td>2017-01-10 12:00:00</td>\n",
       "      <td>0</td>\n",
       "      <td>300.000000</td>\n",
       "      <td>0</td>\n",
       "      <td>2.318254e-69</td>\n",
       "      <td>...</td>\n",
       "      <td>5</td>\n",
       "      <td>18</td>\n",
       "      <td>228</td>\n",
       "      <td>NaN</td>\n",
       "      <td>4.644826e+07</td>\n",
       "      <td>1.458063e+00</td>\n",
       "      <td>-2.000000e-10</td>\n",
       "      <td>5.000000e-06</td>\n",
       "      <td>1.45</td>\n",
       "      <td>1.334848e-151</td>\n",
       "    </tr>\n",
       "  </tbody>\n",
       "</table>\n",
       "<p>159149 rows × 55 columns</p>\n",
       "</div>"
      ],
      "text/plain": [
       "                                              cdp_metrics optimal_values  \\\n",
       "0                                                      {}             {}   \n",
       "1       {'cdp_count': 1, 'open_cdp_count': 1, 'closed_...             {}   \n",
       "2       {'cdp_count': 1, 'open_cdp_count': 1, 'closed_...             {}   \n",
       "3       {'cdp_count': 1, 'open_cdp_count': 1, 'closed_...             {}   \n",
       "4       {'cdp_count': 1, 'open_cdp_count': 1, 'closed_...             {}   \n",
       "...                                                   ...            ...   \n",
       "159144  {'cdp_count': 1, 'open_cdp_count': 1, 'closed_...             {}   \n",
       "159145  {'cdp_count': 1, 'open_cdp_count': 1, 'closed_...             {}   \n",
       "159146  {'cdp_count': 1, 'open_cdp_count': 1, 'closed_...             {}   \n",
       "159147  {'cdp_count': 1, 'open_cdp_count': 1, 'closed_...             {}   \n",
       "159148  {'cdp_count': 1, 'open_cdp_count': 1, 'closed_...             {}   \n",
       "\n",
       "       sim_metrics  timedelta  cumulative_time           timestamp  \\\n",
       "0               {}          0                0 2017-01-01 00:00:00   \n",
       "1               {}       3600             3600 2017-01-01 01:00:00   \n",
       "2               {}       3600             7200 2017-01-01 02:00:00   \n",
       "3               {}       3600            10800 2017-01-01 03:00:00   \n",
       "4               {}       3600            14400 2017-01-01 04:00:00   \n",
       "...            ...        ...              ...                 ...   \n",
       "159144          {}       3600           806400 2017-01-10 08:00:00   \n",
       "159145          {}       3600           810000 2017-01-10 09:00:00   \n",
       "159146          {}       3600           813600 2017-01-10 10:00:00   \n",
       "159147          {}       3600           817200 2017-01-10 11:00:00   \n",
       "159148          {}       3600           820800 2017-01-10 12:00:00   \n",
       "\n",
       "        blockheight   eth_price  liquidity_demand  liquidity_demand_mean  ...  \\\n",
       "0                 0  294.069151                 1           1.000000e+00  ...   \n",
       "1                 0  300.000000                 0           5.000000e-01  ...   \n",
       "2                 0  300.000000                 0           2.500000e-01  ...   \n",
       "3                 0  300.000000                 0           1.250000e-01  ...   \n",
       "4                 0  300.000000                 0           6.250000e-02  ...   \n",
       "...             ...         ...               ...                    ...  ...   \n",
       "159144            0  300.000000                 0           3.709206e-68  ...   \n",
       "159145            0  300.000000                 0           1.854603e-68  ...   \n",
       "159146            0  300.000000                 0           9.273015e-69  ...   \n",
       "159147            0  300.000000                 0           4.636508e-69  ...   \n",
       "159148            0  300.000000                 0           2.318254e-69  ...   \n",
       "\n",
       "       run  substep  timestep  events  eth_collateral_value  \\\n",
       "0        1        0         0     NaN          4.553000e+07   \n",
       "1        1       18         1     NaN          4.644826e+07   \n",
       "2        1       18         2     NaN          4.644826e+07   \n",
       "3        1       18         3     NaN          4.644826e+07   \n",
       "4        1       18         4     NaN          4.644826e+07   \n",
       "...     ..      ...       ...     ...                   ...   \n",
       "159144   5       18       224     NaN          4.644826e+07   \n",
       "159145   5       18       225     NaN          4.644826e+07   \n",
       "159146   5       18       226     NaN          4.644826e+07   \n",
       "159147   5       18       227     NaN          4.644826e+07   \n",
       "159148   5       18       228     NaN          4.644826e+07   \n",
       "\n",
       "        collateralization_ratio            ki            kp  \\\n",
       "0                  1.450000e+00 -5.000000e-09  2.000000e-07   \n",
       "1                  1.479244e+00 -5.000000e-09  2.000000e-07   \n",
       "2                  1.450000e+00 -5.000000e-09  2.000000e-07   \n",
       "3                  1.450000e+00 -5.000000e-09  2.000000e-07   \n",
       "4                  1.450000e+00 -5.000000e-09  2.000000e-07   \n",
       "...                         ...           ...           ...   \n",
       "159144             2.806065e+08 -2.000000e-10  5.000000e-06   \n",
       "159145             2.806065e+08 -2.000000e-10  5.000000e-06   \n",
       "159146             2.806065e+08 -2.000000e-10  5.000000e-06   \n",
       "159147             2.806065e+08 -2.000000e-10  5.000000e-06   \n",
       "159148             1.458063e+00 -2.000000e-10  5.000000e-06   \n",
       "\n",
       "        liquidation_ratio  target_price_scaled  \n",
       "0                    1.45         4.553000e+00  \n",
       "1                    1.45         3.140000e+00  \n",
       "2                    1.45         3.140000e+00  \n",
       "3                    1.45         3.140000e+00  \n",
       "4                    1.45         3.140000e+00  \n",
       "...                   ...                  ...  \n",
       "159144               1.45        9.728132e-127  \n",
       "159145               1.45        5.026894e-135  \n",
       "159146               1.45        2.597586e-143  \n",
       "159147               1.45        1.342271e-151  \n",
       "159148               1.45        1.334848e-151  \n",
       "\n",
       "[159149 rows x 55 columns]"
      ]
     },
     "execution_count": 14,
     "metadata": {},
     "output_type": "execute_result"
    }
   ],
   "source": [
    "# add swept parameters as a column\n",
    "df = post_process_results(df_raw, params, set_params=['ki', 'kp', 'liquidation_ratio'])\n",
    "df"
   ]
  },
  {
   "cell_type": "markdown",
   "metadata": {},
   "source": [
    "# Simulation Analysis"
   ]
  },
  {
   "cell_type": "code",
   "execution_count": 15,
   "metadata": {},
   "outputs": [
    {
     "data": {
      "text/plain": [
       "array([ 0, 18])"
      ]
     },
     "execution_count": 15,
     "metadata": {},
     "output_type": "execute_result"
    }
   ],
   "source": [
    "df.substep.unique()"
   ]
  },
  {
   "cell_type": "code",
   "execution_count": 18,
   "metadata": {},
   "outputs": [
    {
     "data": {
      "text/plain": [
       "array([ 0,  1,  2,  3,  4,  5,  6,  7,  8,  9, 10, 11, 12, 13, 14, 15, 16,\n",
       "       17, 18, 19, 20, 21, 22, 23, 24])"
      ]
     },
     "execution_count": 18,
     "metadata": {},
     "output_type": "execute_result"
    }
   ],
   "source": [
    "df.subset.unique()"
   ]
  },
  {
   "cell_type": "code",
   "execution_count": 23,
   "metadata": {},
   "outputs": [
    {
     "data": {
      "text/plain": [
       "array([1, 2, 3, 4, 5])"
      ]
     },
     "execution_count": 23,
     "metadata": {},
     "output_type": "execute_result"
    }
   ],
   "source": [
    "df.run.unique()"
   ]
  },
  {
   "cell_type": "code",
   "execution_count": 16,
   "metadata": {},
   "outputs": [
    {
     "data": {
      "text/plain": [
       "Index(['cdp_metrics', 'optimal_values', 'sim_metrics', 'timedelta',\n",
       "       'cumulative_time', 'timestamp', 'blockheight', 'eth_price',\n",
       "       'liquidity_demand', 'liquidity_demand_mean', 'cdps', 'eth_collateral',\n",
       "       'eth_locked', 'eth_freed', 'eth_bitten', 'principal_debt', 'rai_drawn',\n",
       "       'rai_wiped', 'rai_bitten', 'accrued_interest', 'interest_dripped',\n",
       "       'interest_wiped', 'interest_bitten', 'w_1', 'w_2', 'w_3',\n",
       "       'system_revenue', 'stability_fee', 'market_price', 'market_price_twap',\n",
       "       'target_price', 'target_rate', 'eth_return', 'eth_gross_return',\n",
       "       'expected_market_price', 'expected_debt_price', 'error_star',\n",
       "       'error_star_integral', 'market_slippage', 'RAI_balance', 'ETH_balance',\n",
       "       'UNI_supply', 'uniswap_oracle', 'simulation', 'subset', 'run',\n",
       "       'substep', 'timestep', 'events', 'eth_collateral_value',\n",
       "       'collateralization_ratio', 'ki', 'kp', 'liquidation_ratio',\n",
       "       'target_price_scaled'],\n",
       "      dtype='object')"
      ]
     },
     "execution_count": 16,
     "metadata": {},
     "output_type": "execute_result"
    }
   ],
   "source": [
    "df.columns"
   ]
  },
  {
   "cell_type": "code",
   "execution_count": 24,
   "metadata": {},
   "outputs": [],
   "source": [
    "def param_sweep_aggregation(df,aggregation_dimension):\n",
    "    '''\n",
    "    Description:\n",
    "    Function for aggregating parameter sweep runs by mean, median and standard deviation.\n",
    "    \n",
    "    Parameters:\n",
    "    df: pandas dataframe of cadCAD parameter sweep simulation\n",
    "    aggregation_dimension: dimension to aggregate on, e.x. timestep\n",
    "    \n",
    "    Assumptions:\n",
    "    A cadCAD simulation was completed with an config N > 1 and M.\n",
    "    \n",
    "    Returns:\n",
    "    Lists of parameter subset dataframes for mean, median, and std. The number of dataframes\n",
    "    in each list is equal to the simulation N.\n",
    "    \n",
    "    Example run:\n",
    "    means,medians,stds = param_sweep_aggregation(result,'timestep')\n",
    "    '''\n",
    "    \n",
    "    df = df[df['substep'] == df.substep.max()]\n",
    "    subsets = []\n",
    "    for i in df.subset.unique():\n",
    "        subsets.append(df[df['subset']==i])\n",
    "\n",
    "    means = []\n",
    "    for i in range(0,len(subsets)):\n",
    "        means.append(subsets[i].groupby(aggregation_dimension).mean().reset_index())\n",
    "\n",
    "    medians = []\n",
    "    for i in range(0,len(subsets)):\n",
    "        medians.append(subsets[i].groupby(aggregation_dimension).median().reset_index())\n",
    "\n",
    "    stds = []\n",
    "    for i in range(0,len(subsets)):\n",
    "        stds.append(subsets[i].groupby(aggregation_dimension).std().reset_index())\n",
    "        \n",
    "    return means,medians,stds\n",
    "\n",
    "def param_plot(dfs,x,y,params,swept,saveFig=False,dims=(10,6)):\n",
    "    '''\n",
    "    Description:\n",
    "    Function to plot parameter sweep monte carlo results to illustrate the effect the swept \n",
    "    parameter has on the simulation.\n",
    "    \n",
    "    Parameters:\n",
    "    dfs: list of a pandas dataframes calculated in param_sweep_aggregation()\n",
    "    x: string of the desired x in the simulation; e.x. 'timestep'\n",
    "    y: string of the desired x in the simulation; e.x. 'Velocity'\n",
    "    params: list of parameter sweep values to analyze, e.x. [30,60,90]\n",
    "    swept: string of the parameter swept, e.e. 'money drip'\n",
    "    saveFig: optional boolean if the plot should be saved or not\n",
    "    dims: optional figure size values\n",
    "    \n",
    "    Assumptions:\n",
    "    A cadCAD simulation was completed with an config N > 1 and M and param_sweep_aggregation() was run\n",
    "    \n",
    "    Returns:\n",
    "    Plot\n",
    "    \n",
    "    Example run:\n",
    "    param_plot(medians,'timestep','AggregatedAgentSpend',params,swept)  \n",
    "    \n",
    "    '''\n",
    "    plt.figure(figsize=dims)\n",
    "    for i in range(0,len(dfs)):\n",
    "        dfs[i][y].plot()\n",
    "\n",
    "    plt.legend(params)\n",
    "    plt.xlabel(x)\n",
    "    plt.ylabel(y)\n",
    "    title_text = 'Effect of ' + swept + ' Parameter Sweep on ' + y\n",
    "    plt.title(title_text)\n",
    "    if saveFig:\n",
    "        plt.savefig(title_text + '_.png')"
   ]
  },
  {
   "cell_type": "markdown",
   "metadata": {},
   "source": [
    "### Generate key plots for analysis"
   ]
  },
  {
   "cell_type": "code",
   "execution_count": 49,
   "metadata": {},
   "outputs": [],
   "source": [
    "means,medians,stds = param_sweep_aggregation(df,'timestep')"
   ]
  },
  {
   "cell_type": "code",
   "execution_count": 54,
   "metadata": {},
   "outputs": [
    {
     "data": {
      "image/png": "[encoded data removed]",
      "text/plain": [
       "<Figure size 1080x1080 with 1 Axes>"
      ]
     },
     "metadata": {
      "needs_background": "light"
     },
     "output_type": "display_data"
    }
   ],
   "source": [
    "param_plot(medians,'timestep','target_price_scaled',params['ki'],'ki',dims=(15,15))"
   ]
  },
  {
   "cell_type": "code",
   "execution_count": 55,
   "metadata": {},
   "outputs": [
    {
     "data": {
      "image/png": "[encoded data removed]",
      "text/plain": [
       "<Figure size 1080x1080 with 1 Axes>"
      ]
     },
     "metadata": {
      "needs_background": "light"
     },
     "output_type": "display_data"
    }
   ],
   "source": [
    "param_plot(medians,'timestep','target_price_scaled',params['kp'],'kp',dims=(15,15))"
   ]
  },
  {
   "cell_type": "code",
   "execution_count": 72,
   "metadata": {},
   "outputs": [
    {
     "data": {
      "image/png": "[encoded data removed]",
      "text/plain": [
       "<Figure size 1080x1080 with 1 Axes>"
      ]
     },
     "metadata": {
      "needs_background": "light"
     },
     "output_type": "display_data"
    }
   ],
   "source": [
    "subset0 = df.query('subset==0')\n",
    "means,medians,stds = param_sweep_aggregation(subset0,'timestep')\n",
    "param_plot(medians,'timestep','eth_price',params['ki'],'ki',dims=(15,15))"
   ]
  },
  {
   "cell_type": "code",
   "execution_count": 68,
   "metadata": {},
   "outputs": [
    {
     "data": {
      "text/plain": [
       "<matplotlib.legend.Legend at 0x7f3357c25fd0>"
      ]
     },
     "execution_count": 68,
     "metadata": {},
     "output_type": "execute_result"
    },
    {
     "data": {
      "image/png": "[encoded data removed]",
      "text/plain": [
       "<Figure size 432x288 with 1 Axes>"
      ]
     },
     "metadata": {
      "needs_background": "light"
     },
     "output_type": "display_data"
    }
   ],
   "source": [
    "subset0 = df.query('subset==0')\n",
    "sns.lineplot(data=subset0,x=\"timestamp\", y=\"eth_price\",label='Generated Eth price')\n",
    "plt.title('ETH price shocks (positive and negative step and impulse; one shock type for each run')\n",
    "plt.legend(loc=\"upper left\")\n"
   ]
  },
  {
   "cell_type": "code",
   "execution_count": 71,
   "metadata": {},
   "outputs": [
    {
     "data": {
      "text/plain": [
       "<matplotlib.legend.Legend at 0x7f3356806550>"
      ]
     },
     "execution_count": 71,
     "metadata": {},
     "output_type": "execute_result"
    },
    {
     "data": {
      "image/png": "[encoded data removed]",
      "text/plain": [
       "<Figure size 432x288 with 2 Axes>"
      ]
     },
     "metadata": {
      "needs_background": "light"
     },
     "output_type": "display_data"
    }
   ],
   "source": [
    "run1 = df.query('run==1')\n",
    "sns.lineplot(data=run1,x=\"timestamp\", y=\"market_price\",color='r',label='Market Price in Rai')\n",
    "sns.lineplot(data=run1,x=\"timestamp\", y=\"market_price_twap\",color='r',label='Market Price TWAP in Rai')\n",
    "sns.lineplot(data=run1,x=\"timestamp\", y=\"target_price_scaled\",color='g',label='Redemption Price in Rai')\n",
    "plt.title('Price response for all control parameter subsets, first run')\n",
    "plt.legend(loc=\"upper left\")\n"
   ]
  },
  {
   "cell_type": "code",
   "execution_count": 63,
   "metadata": {},
   "outputs": [
    {
     "data": {
      "text/plain": [
       "3.14"
      ]
     },
     "execution_count": 63,
     "metadata": {},
     "output_type": "execute_result"
    }
   ],
   "source": [
    "# Get the initial target price to test stability conditions:\n",
    "initial_target_price = df['target_price'].iloc[0]\n",
    "initial_target_price"
   ]
  },
  {
   "cell_type": "code",
   "execution_count": 64,
   "metadata": {},
   "outputs": [
    {
     "data": {
      "text/html": [
       "<div>\n",
       "<style scoped>\n",
       "    .dataframe tbody tr th:only-of-type {\n",
       "        vertical-align: middle;\n",
       "    }\n",
       "\n",
       "    .dataframe tbody tr th {\n",
       "        vertical-align: top;\n",
       "    }\n",
       "\n",
       "    .dataframe thead th {\n",
       "        text-align: right;\n",
       "    }\n",
       "</style>\n",
       "<table border=\"1\" class=\"dataframe\">\n",
       "  <thead>\n",
       "    <tr style=\"text-align: right;\">\n",
       "      <th></th>\n",
       "      <th>subset</th>\n",
       "      <th>kp</th>\n",
       "      <th>ki</th>\n",
       "    </tr>\n",
       "  </thead>\n",
       "  <tbody>\n",
       "    <tr>\n",
       "      <th>29034</th>\n",
       "      <td>20</td>\n",
       "      <td>0.000005</td>\n",
       "      <td>-5.000000e-09</td>\n",
       "    </tr>\n",
       "    <tr>\n",
       "      <th>30475</th>\n",
       "      <td>21</td>\n",
       "      <td>0.000005</td>\n",
       "      <td>-3.000000e-09</td>\n",
       "    </tr>\n",
       "    <tr>\n",
       "      <th>31296</th>\n",
       "      <td>22</td>\n",
       "      <td>0.000005</td>\n",
       "      <td>-1.000000e-09</td>\n",
       "    </tr>\n",
       "    <tr>\n",
       "      <th>31525</th>\n",
       "      <td>23</td>\n",
       "      <td>0.000005</td>\n",
       "      <td>-6.000000e-10</td>\n",
       "    </tr>\n",
       "    <tr>\n",
       "      <th>31754</th>\n",
       "      <td>24</td>\n",
       "      <td>0.000005</td>\n",
       "      <td>-2.000000e-10</td>\n",
       "    </tr>\n",
       "    <tr>\n",
       "      <th>53811</th>\n",
       "      <td>15</td>\n",
       "      <td>0.000003</td>\n",
       "      <td>-5.000000e-09</td>\n",
       "    </tr>\n",
       "    <tr>\n",
       "      <th>55252</th>\n",
       "      <td>16</td>\n",
       "      <td>0.000003</td>\n",
       "      <td>-3.000000e-09</td>\n",
       "    </tr>\n",
       "    <tr>\n",
       "      <th>56693</th>\n",
       "      <td>17</td>\n",
       "      <td>0.000003</td>\n",
       "      <td>-1.000000e-09</td>\n",
       "    </tr>\n",
       "    <tr>\n",
       "      <th>58134</th>\n",
       "      <td>18</td>\n",
       "      <td>0.000003</td>\n",
       "      <td>-6.000000e-10</td>\n",
       "    </tr>\n",
       "    <tr>\n",
       "      <th>59575</th>\n",
       "      <td>19</td>\n",
       "      <td>0.000003</td>\n",
       "      <td>-2.000000e-10</td>\n",
       "    </tr>\n",
       "  </tbody>\n",
       "</table>\n",
       "</div>"
      ],
      "text/plain": [
       "       subset        kp            ki\n",
       "29034      20  0.000005 -5.000000e-09\n",
       "30475      21  0.000005 -3.000000e-09\n",
       "31296      22  0.000005 -1.000000e-09\n",
       "31525      23  0.000005 -6.000000e-10\n",
       "31754      24  0.000005 -2.000000e-10\n",
       "53811      15  0.000003 -5.000000e-09\n",
       "55252      16  0.000003 -3.000000e-09\n",
       "56693      17  0.000003 -1.000000e-09\n",
       "58134      18  0.000003 -6.000000e-10\n",
       "59575      19  0.000003 -2.000000e-10"
      ]
     },
     "execution_count": 64,
     "metadata": {},
     "output_type": "execute_result"
    }
   ],
   "source": [
    "# Find all controller constant subsets where the price goes to zero:\n",
    "df_market_price_zero = df.query(\"market_price <= 0.1*@initial_target_price\")\n",
    "df_market_price_zero[['subset', 'kp', 'ki']].drop_duplicates(subset=['kp', 'ki'])"
   ]
  },
  {
   "cell_type": "code",
   "execution_count": 65,
   "metadata": {},
   "outputs": [
    {
     "data": {
      "text/html": [
       "<div>\n",
       "<style scoped>\n",
       "    .dataframe tbody tr th:only-of-type {\n",
       "        vertical-align: middle;\n",
       "    }\n",
       "\n",
       "    .dataframe tbody tr th {\n",
       "        vertical-align: top;\n",
       "    }\n",
       "\n",
       "    .dataframe thead th {\n",
       "        text-align: right;\n",
       "    }\n",
       "</style>\n",
       "<table border=\"1\" class=\"dataframe\">\n",
       "  <thead>\n",
       "    <tr style=\"text-align: right;\">\n",
       "      <th></th>\n",
       "      <th>subset</th>\n",
       "      <th>kp</th>\n",
       "      <th>ki</th>\n",
       "    </tr>\n",
       "  </thead>\n",
       "  <tbody>\n",
       "    <tr>\n",
       "      <th>29016</th>\n",
       "      <td>20</td>\n",
       "      <td>0.000005</td>\n",
       "      <td>-5.000000e-09</td>\n",
       "    </tr>\n",
       "    <tr>\n",
       "      <th>30457</th>\n",
       "      <td>21</td>\n",
       "      <td>0.000005</td>\n",
       "      <td>-3.000000e-09</td>\n",
       "    </tr>\n",
       "    <tr>\n",
       "      <th>31278</th>\n",
       "      <td>22</td>\n",
       "      <td>0.000005</td>\n",
       "      <td>-1.000000e-09</td>\n",
       "    </tr>\n",
       "    <tr>\n",
       "      <th>31507</th>\n",
       "      <td>23</td>\n",
       "      <td>0.000005</td>\n",
       "      <td>-6.000000e-10</td>\n",
       "    </tr>\n",
       "    <tr>\n",
       "      <th>31736</th>\n",
       "      <td>24</td>\n",
       "      <td>0.000005</td>\n",
       "      <td>-2.000000e-10</td>\n",
       "    </tr>\n",
       "    <tr>\n",
       "      <th>53791</th>\n",
       "      <td>15</td>\n",
       "      <td>0.000003</td>\n",
       "      <td>-5.000000e-09</td>\n",
       "    </tr>\n",
       "    <tr>\n",
       "      <th>55232</th>\n",
       "      <td>16</td>\n",
       "      <td>0.000003</td>\n",
       "      <td>-3.000000e-09</td>\n",
       "    </tr>\n",
       "    <tr>\n",
       "      <th>56673</th>\n",
       "      <td>17</td>\n",
       "      <td>0.000003</td>\n",
       "      <td>-1.000000e-09</td>\n",
       "    </tr>\n",
       "    <tr>\n",
       "      <th>58114</th>\n",
       "      <td>18</td>\n",
       "      <td>0.000003</td>\n",
       "      <td>-6.000000e-10</td>\n",
       "    </tr>\n",
       "    <tr>\n",
       "      <th>59555</th>\n",
       "      <td>19</td>\n",
       "      <td>0.000003</td>\n",
       "      <td>-2.000000e-10</td>\n",
       "    </tr>\n",
       "  </tbody>\n",
       "</table>\n",
       "</div>"
      ],
      "text/plain": [
       "       subset        kp            ki\n",
       "29016      20  0.000005 -5.000000e-09\n",
       "30457      21  0.000005 -3.000000e-09\n",
       "31278      22  0.000005 -1.000000e-09\n",
       "31507      23  0.000005 -6.000000e-10\n",
       "31736      24  0.000005 -2.000000e-10\n",
       "53791      15  0.000003 -5.000000e-09\n",
       "55232      16  0.000003 -3.000000e-09\n",
       "56673      17  0.000003 -1.000000e-09\n",
       "58114      18  0.000003 -6.000000e-10\n",
       "59555      19  0.000003 -2.000000e-10"
      ]
     },
     "execution_count": 65,
     "metadata": {},
     "output_type": "execute_result"
    }
   ],
   "source": [
    "# Find all controller constant subsets where the price goes to infinity:\n",
    "df_market_price_infinity = df.query(\"market_price > 10*@initial_target_price\")\n",
    "df_market_price_infinity[['subset', 'kp', 'ki']].drop_duplicates(subset=['kp', 'ki'])"
   ]
  },
  {
   "cell_type": "markdown",
   "metadata": {},
   "source": [
    "Create dataframe of stable simulation scenarios.\n",
    "\n",
    "Stability is defined as:\n",
    "1. The market price and scaled target price remaining within 0.1x and 10x the starting price, for all timesteps"
   ]
  },
  {
   "cell_type": "code",
   "execution_count": null,
   "metadata": {},
   "outputs": [],
   "source": [
    "df['stable_price'] = False\n",
    "df.loc[df.eval(\"\"\"\n",
    "0.1*@initial_target_price < market_price <= 10*@initial_target_price and 0.1*@initial_target_price < target_price_scaled <= 10*@initial_target_price\n",
    "\"\"\"), 'stable_price'] = True\n",
    "df_stable_price = df.groupby(\"subset\").filter(lambda x: all(x.query('timestep > 24*2')['stable_price'])) #  and x['timestep'].max() == SIMULATION_TIMESTEPS\n",
    "df_stable_price['subset'].unique()"
   ]
  },
  {
   "cell_type": "code",
   "execution_count": null,
   "metadata": {},
   "outputs": [],
   "source": [
    "fig = px.line(\n",
    "    df_stable_price.query('run == 1'),\n",
    "    title=\"Base case: Stable ETH price response\",\n",
    "    x=\"timestamp\",\n",
    "    y=[\"market_price\", \"market_price_twap\", \"target_price\"],\n",
    "    facet_col=\"kp\",\n",
    "    facet_row=\"ki\",\n",
    "    facet_col_wrap=2,\n",
    "    height=1000\n",
    ")\n",
    "# fig.for_each_annotation(lambda a: a.update(text = f\"kp={param_sweep[int(a.text.split('=')[-1])]['kp']} ki={param_sweep[int(a.text.split('=')[-1])]['ki']}\"))\n",
    "fig.show()"
   ]
  },
  {
   "cell_type": "code",
   "execution_count": null,
   "metadata": {},
   "outputs": [],
   "source": [
    "fig = px.line(\n",
    "    df_stable_price.query('run == 2'),\n",
    "    title=\"ETH price 30% step response\",\n",
    "    x=\"timestamp\",\n",
    "    y=[\"market_price\", \"market_price_twap\", \"target_price_scaled\"],\n",
    "    facet_col=\"kp\",\n",
    "    facet_row=\"ki\",\n",
    "    facet_col_wrap=2,\n",
    "    height=1000\n",
    ")\n",
    "fig.show()"
   ]
  },
  {
   "cell_type": "code",
   "execution_count": null,
   "metadata": {},
   "outputs": [],
   "source": [
    "fig = px.line(\n",
    "    df_stable_price.query('run == 3'),\n",
    "    title=\"ETH price 30% impulse response\",\n",
    "    x=\"timestamp\",\n",
    "    y=[\"market_price\", \"market_price_twap\", \"target_price_scaled\"],\n",
    "    facet_col=\"kp\",\n",
    "    facet_row=\"ki\",\n",
    "    facet_col_wrap=2,\n",
    "    height=1000\n",
    ")\n",
    "fig.show()"
   ]
  },
  {
   "cell_type": "code",
   "execution_count": null,
   "metadata": {},
   "outputs": [],
   "source": [
    "fig = px.line(\n",
    "    df_stable_price.query('run == 4'),\n",
    "    title=\"ETH price negative 30% step response\",\n",
    "    x=\"timestamp\",\n",
    "    y=[\"market_price\", \"market_price_twap\", \"target_price_scaled\"],\n",
    "    facet_col=\"kp\",\n",
    "    facet_row=\"ki\",\n",
    "    facet_col_wrap=2,\n",
    "    height=1000\n",
    ")\n",
    "fig.show()"
   ]
  },
  {
   "cell_type": "code",
   "execution_count": null,
   "metadata": {},
   "outputs": [],
   "source": [
    "fig = px.line(\n",
    "    df_stable_price.query('run == 5'),\n",
    "    title=\"ETH price negative 30% impulse response\",\n",
    "    x=\"timestamp\",\n",
    "    y=[\"market_price\", \"market_price_twap\", \"target_price_scaled\"],\n",
    "    facet_col=\"kp\",\n",
    "    facet_row=\"ki\",\n",
    "    facet_col_wrap=2,\n",
    "    height=1000\n",
    ")\n",
    "fig.show()"
   ]
  },
  {
   "cell_type": "code",
   "execution_count": null,
   "metadata": {},
   "outputs": [],
   "source": [
    "fig = px.line(\n",
    "    df_stable_price, \n",
    "    title=\"Reflexer principal debt\",\n",
    "    x=\"timestamp\", \n",
    "    y=[\"principal_debt\"], \n",
    "    color='run', \n",
    "    facet_col=\"subset\", \n",
    "    facet_col_wrap=5,\n",
    "    height=1000\n",
    ")\n",
    "fig.show()"
   ]
  },
  {
   "cell_type": "code",
   "execution_count": null,
   "metadata": {},
   "outputs": [],
   "source": [
    "fig = px.line(\n",
    "    df_stable_price, \n",
    "    title=\"Secondary market RAI balance\",\n",
    "    x=\"timestamp\", \n",
    "    y=[\"RAI_balance\"], \n",
    "    color='run', \n",
    "    facet_col=\"subset\", \n",
    "    facet_col_wrap=5,\n",
    "    height=1000\n",
    ")\n",
    "fig.show()"
   ]
  },
  {
   "cell_type": "code",
   "execution_count": null,
   "metadata": {},
   "outputs": [],
   "source": [
    "fig = px.line(\n",
    "    df_stable_price, \n",
    "    title=\"Reflexer ETH collateral\",\n",
    "    x=\"timestamp\", \n",
    "    y=[\"eth_collateral\"], \n",
    "    color='run', \n",
    "    facet_col=\"subset\", \n",
    "    facet_col_wrap=5,\n",
    "    height=1000\n",
    ")\n",
    "fig.show()"
   ]
  },
  {
   "cell_type": "code",
   "execution_count": null,
   "metadata": {},
   "outputs": [],
   "source": [
    "fig = px.line(\n",
    "    df_stable_price, \n",
    "    title=\"Secondary market ETH balance\",\n",
    "    x=\"timestamp\", \n",
    "    y=[\"ETH_balance\"], \n",
    "    color='run', \n",
    "    facet_col=\"subset\", \n",
    "    facet_col_wrap=5,\n",
    "    height=1000\n",
    ")\n",
    "fig.show()"
   ]
  },
  {
   "cell_type": "code",
   "execution_count": null,
   "metadata": {},
   "outputs": [],
   "source": [
    "df_stable_price.plot(\n",
    "    x='timestamp', \n",
    "    y=['collateralization_ratio'], \n",
    "    title='Collateralization ratio', \n",
    "    facet_col=\"subset\",\n",
    "    facet_col_wrap=5,\n",
    "    height=1000\n",
    ")"
   ]
  },
  {
   "cell_type": "markdown",
   "metadata": {},
   "source": [
    "## Conclusion"
   ]
  }
 ],
 "metadata": {
  "jupytext": {
   "cell_metadata_filter": "-all",
   "encoding": "# -*- coding: utf-8 -*-",
   "formats": "ipynb,py:percent"
  },
  "kernelspec": {
   "display_name": "Python 3",
   "language": "python",
   "name": "python3"
  },
  "language_info": {
   "codemirror_mode": {
    "name": "ipython",
    "version": 3
   },
   "file_extension": ".py",
   "mimetype": "text/x-python",
   "name": "python",
   "nbconvert_exporter": "python",
   "pygments_lexer": "ipython3",
   "version": "3.8.3"
  }
 },
 "nbformat": 4,
 "nbformat_minor": 4
}
