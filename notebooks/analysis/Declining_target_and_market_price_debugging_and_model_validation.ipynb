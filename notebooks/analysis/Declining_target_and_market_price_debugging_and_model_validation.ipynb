{
 "cells": [
  {
   "cell_type": "markdown",
   "metadata": {},
   "source": [
    "# System Model V3 - Debt Market Model\n",
    "\n",
    "The purpose of this notebook is to simulate a single run of the full CDP and APT system model, using a stochastic Ethereum price and liquidity demand process as a driver.\n",
    "\n",
    "\n",
    "For this simulation run, we will be asking the following question: does market price decline without controller?\n",
    "\n",
    "In order to test this, we override the default paramers seen in [init.py](models/system_model_v3/model/params/init.py) with the following and perform a parameter sweep:\n",
    "\n",
    "```\n",
    "params_update = {\n",
    "    'controller_enabled': [False],\n",
    "    'liquidity_demand_shock': [False],\n",
    "    'rescale_target_price': [False], \n",
    "    'arbitrageur_considers_liquidation_ratio': [True,False],\n",
    "}\n",
    "```\n"
   ]
  },
  {
   "cell_type": "markdown",
   "metadata": {},
   "source": [
    "# Setup and Dependencies"
   ]
  },
  {
   "cell_type": "code",
   "execution_count": 1,
   "metadata": {},
   "outputs": [
    {
     "name": "stdout",
     "output_type": "stream",
     "text": [
      "Name: cadCAD\n",
      "Version: 0.4.23\n",
      "Summary: cadCAD: a differential games based simulation software package for research, validation, and         Computer Aided Design of economic systems\n",
      "Home-page: https://github.com/cadCAD-org/cadCAD\n",
      "Author: Joshua E. Jodesty\n",
      "Author-email: joshua@block.science\n",
      "License: LICENSE.txt\n",
      "Location: /home/aclarkdata/repos/reflexer/venv/lib/python3.8/site-packages\n",
      "Requires: fn, funcy, pathos, pandas\n",
      "Required-by: cadCAD-machine-search\n",
      "Note: you may need to restart the kernel to use updated packages.\n"
     ]
    }
   ],
   "source": [
    "# Set project root folder, to enable importing project files from subdirectories\n",
    "from pathlib import Path\n",
    "import os\n",
    "\n",
    "path = Path().resolve()\n",
    "root_path = str(path).split('notebooks')[0]\n",
    "os.chdir(root_path)\n",
    "\n",
    "# Force reload of project modules, sometimes necessary for Jupyter kernel\n",
    "%load_ext autoreload\n",
    "%autoreload 2\n",
    "\n",
    "# Display cadCAD version for easy debugging\n",
    "%pip show cadCAD"
   ]
  },
  {
   "cell_type": "code",
   "execution_count": 2,
   "metadata": {},
   "outputs": [],
   "source": [
    "# Import all shared dependencies and setup\n",
    "from shared import *\n",
    "import pandas as pd\n",
    "import matplotlib.pyplot as plt\n",
    "import seaborn as sns\n",
    "\n",
    "%matplotlib inline"
   ]
  },
  {
   "cell_type": "markdown",
   "metadata": {},
   "source": [
    "# Environmental Processes"
   ]
  },
  {
   "cell_type": "code",
   "execution_count": 3,
   "metadata": {
    "lines_to_next_cell": 2
   },
   "outputs": [],
   "source": [
    "# Import the ETH price stochastic dataset\n",
    "from models.system_model_v3.model.params.init import eth_price_df"
   ]
  },
  {
   "cell_type": "code",
   "execution_count": 4,
   "metadata": {},
   "outputs": [
    {
     "data": {
      "text/html": [
       "<div>\n",
       "<style scoped>\n",
       "    .dataframe tbody tr th:only-of-type {\n",
       "        vertical-align: middle;\n",
       "    }\n",
       "\n",
       "    .dataframe tbody tr th {\n",
       "        vertical-align: top;\n",
       "    }\n",
       "\n",
       "    .dataframe thead th {\n",
       "        text-align: right;\n",
       "    }\n",
       "</style>\n",
       "<table border=\"1\" class=\"dataframe\">\n",
       "  <thead>\n",
       "    <tr style=\"text-align: right;\">\n",
       "      <th></th>\n",
       "      <th>0</th>\n",
       "      <th>1</th>\n",
       "      <th>2</th>\n",
       "      <th>3</th>\n",
       "      <th>4</th>\n",
       "      <th>5</th>\n",
       "      <th>6</th>\n",
       "      <th>7</th>\n",
       "      <th>8</th>\n",
       "      <th>9</th>\n",
       "    </tr>\n",
       "  </thead>\n",
       "  <tbody>\n",
       "    <tr>\n",
       "      <th>0</th>\n",
       "      <td>294.069151</td>\n",
       "      <td>289.017021</td>\n",
       "      <td>311.479566</td>\n",
       "      <td>285.456136</td>\n",
       "      <td>304.561903</td>\n",
       "      <td>305.249439</td>\n",
       "      <td>285.852508</td>\n",
       "      <td>266.795212</td>\n",
       "      <td>315.128679</td>\n",
       "      <td>297.447705</td>\n",
       "    </tr>\n",
       "    <tr>\n",
       "      <th>1</th>\n",
       "      <td>291.208252</td>\n",
       "      <td>286.293512</td>\n",
       "      <td>308.368393</td>\n",
       "      <td>288.932571</td>\n",
       "      <td>301.276414</td>\n",
       "      <td>303.457638</td>\n",
       "      <td>285.341682</td>\n",
       "      <td>270.216858</td>\n",
       "      <td>311.726000</td>\n",
       "      <td>294.586887</td>\n",
       "    </tr>\n",
       "    <tr>\n",
       "      <th>2</th>\n",
       "      <td>292.287792</td>\n",
       "      <td>286.429957</td>\n",
       "      <td>306.696987</td>\n",
       "      <td>287.508217</td>\n",
       "      <td>303.735994</td>\n",
       "      <td>303.220909</td>\n",
       "      <td>288.147963</td>\n",
       "      <td>270.415639</td>\n",
       "      <td>310.038556</td>\n",
       "      <td>296.809637</td>\n",
       "    </tr>\n",
       "    <tr>\n",
       "      <th>3</th>\n",
       "      <td>289.343698</td>\n",
       "      <td>285.480534</td>\n",
       "      <td>308.867090</td>\n",
       "      <td>287.181073</td>\n",
       "      <td>302.385064</td>\n",
       "      <td>306.232074</td>\n",
       "      <td>288.323926</td>\n",
       "      <td>268.505981</td>\n",
       "      <td>309.143930</td>\n",
       "      <td>293.718280</td>\n",
       "    </tr>\n",
       "    <tr>\n",
       "      <th>4</th>\n",
       "      <td>286.827771</td>\n",
       "      <td>283.609768</td>\n",
       "      <td>310.211675</td>\n",
       "      <td>286.439339</td>\n",
       "      <td>300.952013</td>\n",
       "      <td>303.643975</td>\n",
       "      <td>286.063392</td>\n",
       "      <td>276.922179</td>\n",
       "      <td>314.526611</td>\n",
       "      <td>294.119983</td>\n",
       "    </tr>\n",
       "    <tr>\n",
       "      <th>...</th>\n",
       "      <td>...</td>\n",
       "      <td>...</td>\n",
       "      <td>...</td>\n",
       "      <td>...</td>\n",
       "      <td>...</td>\n",
       "      <td>...</td>\n",
       "      <td>...</td>\n",
       "      <td>...</td>\n",
       "      <td>...</td>\n",
       "      <td>...</td>\n",
       "    </tr>\n",
       "    <tr>\n",
       "      <th>8754</th>\n",
       "      <td>291.054350</td>\n",
       "      <td>273.183841</td>\n",
       "      <td>278.623425</td>\n",
       "      <td>283.930814</td>\n",
       "      <td>268.277872</td>\n",
       "      <td>277.211292</td>\n",
       "      <td>296.892119</td>\n",
       "      <td>295.057406</td>\n",
       "      <td>289.523762</td>\n",
       "      <td>295.089401</td>\n",
       "    </tr>\n",
       "    <tr>\n",
       "      <th>8755</th>\n",
       "      <td>290.618717</td>\n",
       "      <td>272.267694</td>\n",
       "      <td>278.507186</td>\n",
       "      <td>283.542749</td>\n",
       "      <td>268.235307</td>\n",
       "      <td>277.708453</td>\n",
       "      <td>298.132563</td>\n",
       "      <td>293.827073</td>\n",
       "      <td>288.674255</td>\n",
       "      <td>296.754460</td>\n",
       "    </tr>\n",
       "    <tr>\n",
       "      <th>8756</th>\n",
       "      <td>294.051768</td>\n",
       "      <td>276.645918</td>\n",
       "      <td>278.793335</td>\n",
       "      <td>286.448911</td>\n",
       "      <td>268.398035</td>\n",
       "      <td>279.435235</td>\n",
       "      <td>299.549150</td>\n",
       "      <td>293.808783</td>\n",
       "      <td>287.564452</td>\n",
       "      <td>295.050631</td>\n",
       "    </tr>\n",
       "    <tr>\n",
       "      <th>8757</th>\n",
       "      <td>292.504724</td>\n",
       "      <td>274.933665</td>\n",
       "      <td>277.735662</td>\n",
       "      <td>284.766537</td>\n",
       "      <td>268.450773</td>\n",
       "      <td>285.236146</td>\n",
       "      <td>297.973778</td>\n",
       "      <td>293.393772</td>\n",
       "      <td>287.940444</td>\n",
       "      <td>294.210482</td>\n",
       "    </tr>\n",
       "    <tr>\n",
       "      <th>8758</th>\n",
       "      <td>296.219229</td>\n",
       "      <td>276.330760</td>\n",
       "      <td>277.383716</td>\n",
       "      <td>286.261491</td>\n",
       "      <td>269.628730</td>\n",
       "      <td>284.857973</td>\n",
       "      <td>298.946032</td>\n",
       "      <td>292.130157</td>\n",
       "      <td>289.162735</td>\n",
       "      <td>293.422330</td>\n",
       "    </tr>\n",
       "  </tbody>\n",
       "</table>\n",
       "<p>8759 rows × 10 columns</p>\n",
       "</div>"
      ],
      "text/plain": [
       "               0           1           2           3           4           5  \\\n",
       "0     294.069151  289.017021  311.479566  285.456136  304.561903  305.249439   \n",
       "1     291.208252  286.293512  308.368393  288.932571  301.276414  303.457638   \n",
       "2     292.287792  286.429957  306.696987  287.508217  303.735994  303.220909   \n",
       "3     289.343698  285.480534  308.867090  287.181073  302.385064  306.232074   \n",
       "4     286.827771  283.609768  310.211675  286.439339  300.952013  303.643975   \n",
       "...          ...         ...         ...         ...         ...         ...   \n",
       "8754  291.054350  273.183841  278.623425  283.930814  268.277872  277.211292   \n",
       "8755  290.618717  272.267694  278.507186  283.542749  268.235307  277.708453   \n",
       "8756  294.051768  276.645918  278.793335  286.448911  268.398035  279.435235   \n",
       "8757  292.504724  274.933665  277.735662  284.766537  268.450773  285.236146   \n",
       "8758  296.219229  276.330760  277.383716  286.261491  269.628730  284.857973   \n",
       "\n",
       "               6           7           8           9  \n",
       "0     285.852508  266.795212  315.128679  297.447705  \n",
       "1     285.341682  270.216858  311.726000  294.586887  \n",
       "2     288.147963  270.415639  310.038556  296.809637  \n",
       "3     288.323926  268.505981  309.143930  293.718280  \n",
       "4     286.063392  276.922179  314.526611  294.119983  \n",
       "...          ...         ...         ...         ...  \n",
       "8754  296.892119  295.057406  289.523762  295.089401  \n",
       "8755  298.132563  293.827073  288.674255  296.754460  \n",
       "8756  299.549150  293.808783  287.564452  295.050631  \n",
       "8757  297.973778  293.393772  287.940444  294.210482  \n",
       "8758  298.946032  292.130157  289.162735  293.422330  \n",
       "\n",
       "[8759 rows x 10 columns]"
      ]
     },
     "execution_count": 4,
     "metadata": {},
     "output_type": "execute_result"
    }
   ],
   "source": [
    "eth_price_df"
   ]
  },
  {
   "cell_type": "code",
   "execution_count": 5,
   "metadata": {},
   "outputs": [],
   "source": [
    "time = []\n",
    "for i in range(0,len(eth_price_df)):\n",
    "    time.append(i)"
   ]
  },
  {
   "cell_type": "code",
   "execution_count": 6,
   "metadata": {},
   "outputs": [
    {
     "data": {
      "image/png": "[encoded data removed]",
      "text/plain": [
       "<Figure size 432x288 with 1 Axes>"
      ]
     },
     "metadata": {
      "needs_background": "light"
     },
     "output_type": "display_data"
    }
   ],
   "source": [
    "# Plot the ETH price for the first MC run dataset\n",
    "sns.lineplot(data=eth_price_df, x=time, y=\"0\",label='Generated Eth price')\n",
    "plt.title('Generated Eth price')\n",
    "plt.legend(loc=\"upper left\")\n",
    "plt.show()"
   ]
  },
  {
   "cell_type": "markdown",
   "metadata": {},
   "source": [
    "# Model Configuration"
   ]
  },
  {
   "cell_type": "code",
   "execution_count": 7,
   "metadata": {},
   "outputs": [],
   "source": [
    "from models.system_model_v3.model.state_variables.init import state_variables\n",
    "\n",
    "state_variables.update({})"
   ]
  },
  {
   "cell_type": "code",
   "execution_count": 8,
   "metadata": {},
   "outputs": [],
   "source": [
    "from models.system_model_v3.model.params.init import params\n",
    "\n",
    "\n",
    "# Update the default parameter values\n",
    "# params_update = {\n",
    "#     'controller_enabled': [True],\n",
    "#     'kp': [2.000000e-07], # proportional term for the stability controller: units 1/USD\n",
    "#     'ki': [-5.000000e-09], # integral term for the stability controller: units 1/(USD*seconds)\n",
    "# }\n",
    "params_update = {\n",
    "    'controller_enabled': [False],\n",
    "    'liquidity_demand_shock': [False],\n",
    "    'rescale_target_price': [False],\n",
    "    'arbitrageur_considers_liquidation_ratio': [True,False]\n",
    "}\n",
    "\n",
    "params.update(params_update)\n"
   ]
  },
  {
   "cell_type": "markdown",
   "metadata": {},
   "source": [
    "# Simulation Execution"
   ]
  },
  {
   "cell_type": "code",
   "execution_count": 9,
   "metadata": {},
   "outputs": [
    {
     "data": {
      "text/plain": [
       "8758"
      ]
     },
     "execution_count": 9,
     "metadata": {},
     "output_type": "execute_result"
    }
   ],
   "source": [
    "# Set the number of simulation timesteps, with a maximum of `len(eth_price_df) - 1`\n",
    "SIMULATION_TIMESTEPS = len(eth_price_df) - 1\n",
    "SIMULATION_TIMESTEPS"
   ]
  },
  {
   "cell_type": "code",
   "execution_count": 10,
   "metadata": {
    "lines_to_next_cell": 2
   },
   "outputs": [],
   "source": [
    "# Create a wrapper for the model simulation, and update the existing parameters and initial state\n",
    "system_simulation = ConfigWrapper(system_model_v3, T=range(SIMULATION_TIMESTEPS), M=params, initial_state=state_variables)"
   ]
  },
  {
   "cell_type": "code",
   "execution_count": null,
   "metadata": {},
   "outputs": [
    {
     "name": "stdout",
     "output_type": "stream",
     "text": [
      "\n",
      "                  ___________    ____\n",
      "  ________ __ ___/ / ____/   |  / __ \\\n",
      " / ___/ __` / __  / /   / /| | / / / /\n",
      "/ /__/ /_/ / /_/ / /___/ ___ |/ /_/ /\n",
      "\\___/\\__,_/\\__,_/\\____/_/  |_/_____/\n",
      "by cadCAD\n",
      "\n",
      "Execution Mode: local_proc\n",
      "Configuration Count: 1\n",
      "Dimensions of the first simulation: (Timesteps, Params, Runs, Vars) = (8758, 34, 2, 43)\n",
      "Execution Method: local_simulations\n",
      "SimIDs   : [0, 0]\n",
      "SubsetIDs: [0, 1]\n",
      "Ns       : [0, 1]\n",
      "ExpIDs   : [0, 0]\n",
      "Execution Mode: parallelized\n"
     ]
    }
   ],
   "source": [
    "del configs[:] # Clear any prior configs\n",
    "(simulation_result, _tensor_field, _sessions) = run(system_simulation, drop_midsteps=False) # Run the simulation"
   ]
  },
  {
   "cell_type": "markdown",
   "metadata": {},
   "source": [
    "# Simulation Analysis"
   ]
  },
  {
   "cell_type": "code",
   "execution_count": null,
   "metadata": {},
   "outputs": [],
   "source": [
    "# Add new columns to dataframe\n",
    "simulation_result = simulation_result.assign(eth_collateral_value = simulation_result.eth_collateral * simulation_result.eth_price)\n",
    "simulation_result['collateralization_ratio'] = (simulation_result.eth_collateral * simulation_result.eth_price) / (simulation_result.principal_debt * simulation_result.target_price)\n",
    "\n",
    "# Update dataframe display settings\n",
    "pd.set_option('display.max_columns', 100)\n",
    "pd.set_option('display.max_rows', 50)\n",
    "\n",
    "simulation_result"
   ]
  },
  {
   "cell_type": "markdown",
   "metadata": {},
   "source": [
    "## Save simulation"
   ]
  },
  {
   "cell_type": "code",
   "execution_count": null,
   "metadata": {},
   "outputs": [],
   "source": [
    "# Save the simulation result to a pickle file, for backup - this will be overwritten on the next simulation\n",
    "#simulation_result.to_pickle(f'./exports/system_model_v3/results.pickle')\n",
    "#simulation_result.to_pickle('notebooks/system_model_v3/results.pickle')\n",
    "\n",
    "'''\n",
    "1. Query: does market price decline without controller?\n",
    " ---\n",
    "   - Run simulation with:\n",
    "     - ETH price shock OFF\n",
    "     - Liquidity shocks OFF\n",
    "     - Controller OFF\n",
    "     - Arbitrageur considers liquidation ratio:\n",
    "       - ON\n",
    "       - OFF\n",
    "     - Target price rescaled:\n",
    "       - ON\n",
    "       - OFF\n",
    "'''\n",
    "simulation_result.to_pickle('notebooks/system_model_v3/query_1_results.pickle')"
   ]
  },
  {
   "cell_type": "markdown",
   "metadata": {},
   "source": [
    "# Simulation Analysis"
   ]
  },
  {
   "cell_type": "code",
   "execution_count": null,
   "metadata": {},
   "outputs": [],
   "source": [
    "import pandas as pd\n",
    "import matplotlib.pyplot as plt\n",
    "import seaborn as sns\n",
    "\n",
    "%matplotlib inline\n",
    "\n",
    "# Load the simulation result from a pickle file, specifying past results when necessary\n",
    "simulation_result = pd.read_pickle('notebooks/analysis/saved_results/v3_results.pickle')\n",
    "\n",
    "# Drop the simulation midsteps - the substeps that aren't used for generating plots\n",
    "df = drop_dataframe_midsteps(simulation_result)\n",
    "df"
   ]
  },
  {
   "cell_type": "code",
   "execution_count": null,
   "metadata": {},
   "outputs": [],
   "source": [
    "df.columns"
   ]
  },
  {
   "cell_type": "code",
   "execution_count": null,
   "metadata": {},
   "outputs": [],
   "source": [
    "# create target price scale\n",
    "liquidation_ratio = 1.45\n",
    "df['target_price_scaled'] = df['target_price'] * liquidation_ratio"
   ]
  },
  {
   "cell_type": "markdown",
   "metadata": {},
   "source": [
    "### Generate key plots for analysis"
   ]
  },
  {
   "cell_type": "code",
   "execution_count": null,
   "metadata": {},
   "outputs": [],
   "source": [
    "sns.lineplot(data=df,x=\"timestamp\", y=\"eth_price\",label='Generated Eth price')\n",
    "plt.ylim(250, 600)\n",
    "ax2 = plt.twinx()\n",
    "sns.lineplot(data=df,x=\"timestamp\", y=\"market_price\",ax=ax2,color='r',label='Market Price in Rai')\n",
    "sns.lineplot(data=df,x=\"timestamp\", y=\"target_price_scaled\",ax=ax2,color='g',label='Redemption Price in Rai')\n",
    "plt.title('Generated Eth price vs Simulation Market and Redemption Prices')\n",
    "plt.legend(loc=\"upper left\")\n",
    "plt.show()"
   ]
  },
  {
   "cell_type": "code",
   "execution_count": null,
   "metadata": {},
   "outputs": [],
   "source": [
    "sns.lineplot(data=df,x=\"timestamp\", y=\"eth_locked\",label='Total Eth locked')\n",
    "plt.legend(loc=\"upper left\")\n",
    "plt.show()"
   ]
  },
  {
   "cell_type": "code",
   "execution_count": null,
   "metadata": {},
   "outputs": [],
   "source": [
    "sns.lineplot(data=df,x=\"timestamp\", y=\"target_rate\",label='Redemption Rate')\n",
    "plt.legend(loc=\"upper left\")\n",
    "plt.show()"
   ]
  },
  {
   "cell_type": "code",
   "execution_count": null,
   "metadata": {},
   "outputs": [],
   "source": [
    "sns.lineplot(data=df,x=\"timestamp\", y=\"ETH_balance\",label='Eth Balance')\n",
    "plt.legend(loc=\"upper left\")\n",
    "plt.show()"
   ]
  },
  {
   "cell_type": "code",
   "execution_count": null,
   "metadata": {},
   "outputs": [],
   "source": [
    "sns.lineplot(data=df,x=\"timestamp\", y=\"RAI_balance\",label='Rai Balance')\n",
    "plt.legend(loc=\"upper left\")\n",
    "plt.show()"
   ]
  },
  {
   "cell_type": "markdown",
   "metadata": {},
   "source": [
    "## Conclusion"
   ]
  }
 ],
 "metadata": {
  "jupytext": {
   "cell_metadata_filter": "-all",
   "encoding": "# -*- coding: utf-8 -*-",
   "formats": "ipynb,py:percent"
  },
  "kernelspec": {
   "display_name": "Python (Reflexer)",
   "language": "python",
   "name": "python-reflexer"
  },
  "language_info": {
   "codemirror_mode": {
    "name": "ipython",
    "version": 3
   },
   "file_extension": ".py",
   "mimetype": "text/x-python",
   "name": "python",
   "nbconvert_exporter": "python",
   "pygments_lexer": "ipython3",
   "version": "3.8.3"
  }
 },
 "nbformat": 4,
 "nbformat_minor": 4
}
