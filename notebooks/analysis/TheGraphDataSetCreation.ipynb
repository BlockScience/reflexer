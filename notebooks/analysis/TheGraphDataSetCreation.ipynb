{
 "cells": [
  {
   "cell_type": "markdown",
   "metadata": {},
   "source": [
    "# The Graph Data Access\n",
    "\n",
    "In this notebook, we retrieve live Rai system data from [The Graph](https://thegraph.com/explorer/subgraph/reflexer-labs/rai-mainnet?query=Example%20query) and save it as a CSV for analysis in the [Graph Analysis](TheGraphDataAnalysis.ipynb) notebook."
   ]
  },
  {
   "cell_type": "code",
   "execution_count": 1,
   "metadata": {},
   "outputs": [],
   "source": [
    "# import libraries\n",
    "import pandas as pd\n",
    "import json\n",
    "import requests\n",
    "import matplotlib.pyplot as plt\n",
    "url = 'https://api.thegraph.com/subgraphs/name/reflexer-labs/rai-mainnet'"
   ]
  },
  {
   "cell_type": "markdown",
   "metadata": {},
   "source": [
    "## Hourly stats"
   ]
  },
  {
   "cell_type": "code",
   "execution_count": 2,
   "metadata": {},
   "outputs": [
    {
     "name": "stdout",
     "output_type": "stream",
     "text": [
      "request 1\n",
      "results 533\n",
      "total 533\n"
     ]
    }
   ],
   "source": [
    "query_header = '''\n",
    "query {{\n",
    "    hourlyStats(first: 1000, skip:{}) {{'''\n",
    "\n",
    "query_tail = '''    \n",
    "}\n",
    "}'''\n",
    "\n",
    "query_body = '''\n",
    " timestamp\n",
    "    blockNumber\n",
    "    redemptionPrice {\n",
    "      id\n",
    "      block\n",
    "      redemptionRate\n",
    "      value\n",
    "      \n",
    "    }\n",
    "    marketPriceUsd\n",
    "    marketPriceEth\n",
    "    globalDebt\n",
    "    erc20CoinTotalSupply\n",
    "'''\n",
    "\n",
    "\n",
    "\n",
    "\n",
    "\n",
    "n = 0\n",
    "safes = []\n",
    "while True:\n",
    "    print(f'request {n+1}')\n",
    "    query = query_header.format(n*1000) + query_body + query_tail\n",
    "    r = requests.post(url, json = {'query':query})\n",
    "    s = json.loads(r.content)['data']['hourlyStats']\n",
    "    print(f'results {len(s)}')\n",
    "    safes.extend(s)\n",
    "    print(f'total {len(safes)}')\n",
    "    n += 1\n",
    "    if len(s) < 1000:\n",
    "        break\n",
    "        \n",
    "hourlyStats = pd.DataFrame(safes)"
   ]
  },
  {
   "cell_type": "code",
   "execution_count": 3,
   "metadata": {},
   "outputs": [
    {
     "data": {
      "text/html": [
       "<div>\n",
       "<style scoped>\n",
       "    .dataframe tbody tr th:only-of-type {\n",
       "        vertical-align: middle;\n",
       "    }\n",
       "\n",
       "    .dataframe tbody tr th {\n",
       "        vertical-align: top;\n",
       "    }\n",
       "\n",
       "    .dataframe thead th {\n",
       "        text-align: right;\n",
       "    }\n",
       "</style>\n",
       "<table border=\"1\" class=\"dataframe\">\n",
       "  <thead>\n",
       "    <tr style=\"text-align: right;\">\n",
       "      <th></th>\n",
       "      <th>blockNumber</th>\n",
       "      <th>erc20CoinTotalSupply</th>\n",
       "      <th>globalDebt</th>\n",
       "      <th>marketPriceEth</th>\n",
       "      <th>marketPriceUsd</th>\n",
       "      <th>redemptionPrice</th>\n",
       "      <th>timestamp</th>\n",
       "    </tr>\n",
       "  </thead>\n",
       "  <tbody>\n",
       "    <tr>\n",
       "      <th>0</th>\n",
       "      <td>11857308</td>\n",
       "      <td>1988.440432971667032725</td>\n",
       "      <td>1988.577499489843641169436691184972</td>\n",
       "      <td>0.002589462210048543650949087456484599</td>\n",
       "      <td>4.670500166535429740591356399938391</td>\n",
       "      <td>{'block': '11849022', 'id': '0xe313271188492c4...</td>\n",
       "      <td>1613338681</td>\n",
       "    </tr>\n",
       "    <tr>\n",
       "      <th>1</th>\n",
       "      <td>11860793</td>\n",
       "      <td>2788.440432971667032725</td>\n",
       "      <td>2788.617717345781163523077653358556</td>\n",
       "      <td>0.002481355746535171105569862943787003</td>\n",
       "      <td>4.377049344386119132419461918241039</td>\n",
       "      <td>{'block': '11860755', 'id': '0x40066774f6fb7d3...</td>\n",
       "      <td>1613384616</td>\n",
       "    </tr>\n",
       "    <tr>\n",
       "      <th>2</th>\n",
       "      <td>11861040</td>\n",
       "      <td>2788.440432971667032725</td>\n",
       "      <td>2788.657935201718685876567866781341</td>\n",
       "      <td>0.002481355746535171105569862943787003</td>\n",
       "      <td>4.406833024856393396658172078078713</td>\n",
       "      <td>{'block': '11861008', 'id': '0x0d551e2a2d55fa8...</td>\n",
       "      <td>1613387890</td>\n",
       "    </tr>\n",
       "    <tr>\n",
       "      <th>3</th>\n",
       "      <td>11861337</td>\n",
       "      <td>2788.440432971667032725</td>\n",
       "      <td>2788.657935201718685876567866781341</td>\n",
       "      <td>0.002481355746535171105569862943787003</td>\n",
       "      <td>4.419265710853707004204445293455575</td>\n",
       "      <td>{'block': '11861237', 'id': '0x5c67dbb323db039...</td>\n",
       "      <td>1613392101</td>\n",
       "    </tr>\n",
       "    <tr>\n",
       "      <th>4</th>\n",
       "      <td>11861474</td>\n",
       "      <td>3048.440432971667032725</td>\n",
       "      <td>3048.645954953510904626288422086589</td>\n",
       "      <td>0.001768934955701819449591545208406114</td>\n",
       "      <td>3.194329891923853932595347583210722</td>\n",
       "      <td>{'block': '11861237', 'id': '0x5c67dbb323db039...</td>\n",
       "      <td>1613394096</td>\n",
       "    </tr>\n",
       "    <tr>\n",
       "      <th>...</th>\n",
       "      <td>...</td>\n",
       "      <td>...</td>\n",
       "      <td>...</td>\n",
       "      <td>...</td>\n",
       "      <td>...</td>\n",
       "      <td>...</td>\n",
       "      <td>...</td>\n",
       "    </tr>\n",
       "    <tr>\n",
       "      <th>528</th>\n",
       "      <td>12004508</td>\n",
       "      <td>38184776.168264137934523732</td>\n",
       "      <td>39055774.24393665748716824706357697</td>\n",
       "      <td>0.001685067200812686660325687448650719</td>\n",
       "      <td>3.041762829849153580725105824292708</td>\n",
       "      <td>{'block': '12004225', 'id': '0x34689642cccc0ee...</td>\n",
       "      <td>1615295876</td>\n",
       "    </tr>\n",
       "    <tr>\n",
       "      <th>529</th>\n",
       "      <td>12004773</td>\n",
       "      <td>38183776.168264137934523732</td>\n",
       "      <td>39054799.54730119653910667257414807</td>\n",
       "      <td>0.001687546593321897396681132906493676</td>\n",
       "      <td>3.046238451932051143883122495343608</td>\n",
       "      <td>{'block': '12004724', 'id': '0x09d2edad16b9237...</td>\n",
       "      <td>1615299608</td>\n",
       "    </tr>\n",
       "    <tr>\n",
       "      <th>530</th>\n",
       "      <td>12004991</td>\n",
       "      <td>38112130.293653287875410629</td>\n",
       "      <td>38983232.58322681413246348008142746</td>\n",
       "      <td>0.001692950691996243431739229282649061</td>\n",
       "      <td>3.094878922464244002525438368098108</td>\n",
       "      <td>{'block': '12004724', 'id': '0x09d2edad16b9237...</td>\n",
       "      <td>1615302277</td>\n",
       "    </tr>\n",
       "    <tr>\n",
       "      <th>531</th>\n",
       "      <td>12005265</td>\n",
       "      <td>38243830.232160960017901484</td>\n",
       "      <td>39115026.9079094055918424427017571</td>\n",
       "      <td>0.001692894529056418722913695078570085</td>\n",
       "      <td>3.089651018144998118628097477045905</td>\n",
       "      <td>{'block': '12005013', 'id': '0x36808ec089027b7...</td>\n",
       "      <td>1615305899</td>\n",
       "    </tr>\n",
       "    <tr>\n",
       "      <th>532</th>\n",
       "      <td>12005655</td>\n",
       "      <td>38326699.64492647766556673</td>\n",
       "      <td>39197978.31760499006283305588555357</td>\n",
       "      <td>0.00169141746367100200935064821347371</td>\n",
       "      <td>3.100924937973305082753442384606128</td>\n",
       "      <td>{'block': '12005614', 'id': '0x375cd7686656cdd...</td>\n",
       "      <td>1615310882</td>\n",
       "    </tr>\n",
       "  </tbody>\n",
       "</table>\n",
       "<p>533 rows × 7 columns</p>\n",
       "</div>"
      ],
      "text/plain": [
       "    blockNumber         erc20CoinTotalSupply  \\\n",
       "0      11857308      1988.440432971667032725   \n",
       "1      11860793      2788.440432971667032725   \n",
       "2      11861040      2788.440432971667032725   \n",
       "3      11861337      2788.440432971667032725   \n",
       "4      11861474      3048.440432971667032725   \n",
       "..          ...                          ...   \n",
       "528    12004508  38184776.168264137934523732   \n",
       "529    12004773  38183776.168264137934523732   \n",
       "530    12004991  38112130.293653287875410629   \n",
       "531    12005265  38243830.232160960017901484   \n",
       "532    12005655   38326699.64492647766556673   \n",
       "\n",
       "                              globalDebt  \\\n",
       "0    1988.577499489843641169436691184972   \n",
       "1    2788.617717345781163523077653358556   \n",
       "2    2788.657935201718685876567866781341   \n",
       "3    2788.657935201718685876567866781341   \n",
       "4    3048.645954953510904626288422086589   \n",
       "..                                   ...   \n",
       "528  39055774.24393665748716824706357697   \n",
       "529  39054799.54730119653910667257414807   \n",
       "530  38983232.58322681413246348008142746   \n",
       "531   39115026.9079094055918424427017571   \n",
       "532  39197978.31760499006283305588555357   \n",
       "\n",
       "                             marketPriceEth  \\\n",
       "0    0.002589462210048543650949087456484599   \n",
       "1    0.002481355746535171105569862943787003   \n",
       "2    0.002481355746535171105569862943787003   \n",
       "3    0.002481355746535171105569862943787003   \n",
       "4    0.001768934955701819449591545208406114   \n",
       "..                                      ...   \n",
       "528  0.001685067200812686660325687448650719   \n",
       "529  0.001687546593321897396681132906493676   \n",
       "530  0.001692950691996243431739229282649061   \n",
       "531  0.001692894529056418722913695078570085   \n",
       "532   0.00169141746367100200935064821347371   \n",
       "\n",
       "                          marketPriceUsd  \\\n",
       "0    4.670500166535429740591356399938391   \n",
       "1    4.377049344386119132419461918241039   \n",
       "2    4.406833024856393396658172078078713   \n",
       "3    4.419265710853707004204445293455575   \n",
       "4    3.194329891923853932595347583210722   \n",
       "..                                   ...   \n",
       "528  3.041762829849153580725105824292708   \n",
       "529  3.046238451932051143883122495343608   \n",
       "530  3.094878922464244002525438368098108   \n",
       "531  3.089651018144998118628097477045905   \n",
       "532  3.100924937973305082753442384606128   \n",
       "\n",
       "                                       redemptionPrice   timestamp  \n",
       "0    {'block': '11849022', 'id': '0xe313271188492c4...  1613338681  \n",
       "1    {'block': '11860755', 'id': '0x40066774f6fb7d3...  1613384616  \n",
       "2    {'block': '11861008', 'id': '0x0d551e2a2d55fa8...  1613387890  \n",
       "3    {'block': '11861237', 'id': '0x5c67dbb323db039...  1613392101  \n",
       "4    {'block': '11861237', 'id': '0x5c67dbb323db039...  1613394096  \n",
       "..                                                 ...         ...  \n",
       "528  {'block': '12004225', 'id': '0x34689642cccc0ee...  1615295876  \n",
       "529  {'block': '12004724', 'id': '0x09d2edad16b9237...  1615299608  \n",
       "530  {'block': '12004724', 'id': '0x09d2edad16b9237...  1615302277  \n",
       "531  {'block': '12005013', 'id': '0x36808ec089027b7...  1615305899  \n",
       "532  {'block': '12005614', 'id': '0x375cd7686656cdd...  1615310882  \n",
       "\n",
       "[533 rows x 7 columns]"
      ]
     },
     "execution_count": 3,
     "metadata": {},
     "output_type": "execute_result"
    }
   ],
   "source": [
    "hourlyStats"
   ]
  },
  {
   "cell_type": "code",
   "execution_count": 4,
   "metadata": {},
   "outputs": [
    {
     "data": {
      "text/plain": [
       "{'block': '11849022',\n",
       " 'id': '0xe313271188492c4cb881c814c2ce2797f638c56c4f0198abbfc7da11d9b06ed3-7',\n",
       " 'redemptionRate': '1',\n",
       " 'value': '3.14'}"
      ]
     },
     "execution_count": 4,
     "metadata": {},
     "output_type": "execute_result"
    }
   ],
   "source": [
    "hourlyStats.redemptionPrice.values[0]"
   ]
  },
  {
   "cell_type": "code",
   "execution_count": 5,
   "metadata": {},
   "outputs": [],
   "source": [
    "hourlyStats['redemptionPriceActual'] = hourlyStats.redemptionPrice.apply(lambda x: x['value'])"
   ]
  },
  {
   "cell_type": "code",
   "execution_count": 6,
   "metadata": {},
   "outputs": [],
   "source": [
    "hourlyStats['redemptionRateActual'] = hourlyStats.redemptionPrice.apply(lambda x: x['redemptionRate'])"
   ]
  },
  {
   "cell_type": "code",
   "execution_count": 7,
   "metadata": {},
   "outputs": [],
   "source": [
    "hourlyStats['erc20CoinTotalSupply'] = hourlyStats['erc20CoinTotalSupply'].astype(float)\n",
    "hourlyStats['globalDebt'] = hourlyStats['globalDebt'].astype(float)\n",
    "hourlyStats['blockNumber'] = hourlyStats['blockNumber'].astype(int)\n",
    "hourlyStats['marketPriceEth'] = hourlyStats['marketPriceEth'].astype(float)\n",
    "hourlyStats['marketPriceUsd'] = hourlyStats['marketPriceUsd'].astype(float)\n",
    "hourlyStats['redemptionPriceActual'] = hourlyStats['redemptionPriceActual'].astype(float)\n",
    "hourlyStats['redemptionRateActual'] = hourlyStats['redemptionRateActual'].astype(float)"
   ]
  },
  {
   "cell_type": "code",
   "execution_count": 8,
   "metadata": {},
   "outputs": [
    {
     "data": {
      "text/html": [
       "<div>\n",
       "<style scoped>\n",
       "    .dataframe tbody tr th:only-of-type {\n",
       "        vertical-align: middle;\n",
       "    }\n",
       "\n",
       "    .dataframe tbody tr th {\n",
       "        vertical-align: top;\n",
       "    }\n",
       "\n",
       "    .dataframe thead th {\n",
       "        text-align: right;\n",
       "    }\n",
       "</style>\n",
       "<table border=\"1\" class=\"dataframe\">\n",
       "  <thead>\n",
       "    <tr style=\"text-align: right;\">\n",
       "      <th></th>\n",
       "      <th>blockNumber</th>\n",
       "      <th>erc20CoinTotalSupply</th>\n",
       "      <th>globalDebt</th>\n",
       "      <th>marketPriceEth</th>\n",
       "      <th>marketPriceUsd</th>\n",
       "      <th>redemptionPriceActual</th>\n",
       "      <th>redemptionRateActual</th>\n",
       "    </tr>\n",
       "  </thead>\n",
       "  <tbody>\n",
       "    <tr>\n",
       "      <th>count</th>\n",
       "      <td>5.330000e+02</td>\n",
       "      <td>5.330000e+02</td>\n",
       "      <td>5.330000e+02</td>\n",
       "      <td>533.000000</td>\n",
       "      <td>533.000000</td>\n",
       "      <td>533.000000</td>\n",
       "      <td>5.330000e+02</td>\n",
       "    </tr>\n",
       "    <tr>\n",
       "      <th>mean</th>\n",
       "      <td>1.193335e+07</td>\n",
       "      <td>2.540810e+07</td>\n",
       "      <td>2.591990e+07</td>\n",
       "      <td>0.002013</td>\n",
       "      <td>3.348852</td>\n",
       "      <td>3.094425</td>\n",
       "      <td>1.000000e+00</td>\n",
       "    </tr>\n",
       "    <tr>\n",
       "      <th>std</th>\n",
       "      <td>4.187935e+04</td>\n",
       "      <td>1.241339e+07</td>\n",
       "      <td>1.276372e+07</td>\n",
       "      <td>0.000312</td>\n",
       "      <td>0.518664</td>\n",
       "      <td>0.040308</td>\n",
       "      <td>1.531488e-08</td>\n",
       "    </tr>\n",
       "    <tr>\n",
       "      <th>min</th>\n",
       "      <td>1.185731e+07</td>\n",
       "      <td>1.988440e+03</td>\n",
       "      <td>1.988577e+03</td>\n",
       "      <td>0.001609</td>\n",
       "      <td>2.850455</td>\n",
       "      <td>3.018131</td>\n",
       "      <td>9.999999e-01</td>\n",
       "    </tr>\n",
       "    <tr>\n",
       "      <th>25%</th>\n",
       "      <td>1.189726e+07</td>\n",
       "      <td>1.381372e+07</td>\n",
       "      <td>1.382187e+07</td>\n",
       "      <td>0.001798</td>\n",
       "      <td>3.168261</td>\n",
       "      <td>3.057628</td>\n",
       "      <td>1.000000e+00</td>\n",
       "    </tr>\n",
       "    <tr>\n",
       "      <th>50%</th>\n",
       "      <td>1.193332e+07</td>\n",
       "      <td>3.254064e+07</td>\n",
       "      <td>3.349321e+07</td>\n",
       "      <td>0.001982</td>\n",
       "      <td>3.235196</td>\n",
       "      <td>3.107139</td>\n",
       "      <td>1.000000e+00</td>\n",
       "    </tr>\n",
       "    <tr>\n",
       "      <th>75%</th>\n",
       "      <td>1.196947e+07</td>\n",
       "      <td>3.435062e+07</td>\n",
       "      <td>3.527843e+07</td>\n",
       "      <td>0.002122</td>\n",
       "      <td>3.331552</td>\n",
       "      <td>3.130402</td>\n",
       "      <td>1.000000e+00</td>\n",
       "    </tr>\n",
       "    <tr>\n",
       "      <th>max</th>\n",
       "      <td>1.200566e+07</td>\n",
       "      <td>3.832670e+07</td>\n",
       "      <td>3.919798e+07</td>\n",
       "      <td>0.004474</td>\n",
       "      <td>8.055382</td>\n",
       "      <td>3.140000</td>\n",
       "      <td>1.000000e+00</td>\n",
       "    </tr>\n",
       "  </tbody>\n",
       "</table>\n",
       "</div>"
      ],
      "text/plain": [
       "        blockNumber  erc20CoinTotalSupply    globalDebt  marketPriceEth  \\\n",
       "count  5.330000e+02          5.330000e+02  5.330000e+02      533.000000   \n",
       "mean   1.193335e+07          2.540810e+07  2.591990e+07        0.002013   \n",
       "std    4.187935e+04          1.241339e+07  1.276372e+07        0.000312   \n",
       "min    1.185731e+07          1.988440e+03  1.988577e+03        0.001609   \n",
       "25%    1.189726e+07          1.381372e+07  1.382187e+07        0.001798   \n",
       "50%    1.193332e+07          3.254064e+07  3.349321e+07        0.001982   \n",
       "75%    1.196947e+07          3.435062e+07  3.527843e+07        0.002122   \n",
       "max    1.200566e+07          3.832670e+07  3.919798e+07        0.004474   \n",
       "\n",
       "       marketPriceUsd  redemptionPriceActual  redemptionRateActual  \n",
       "count      533.000000             533.000000          5.330000e+02  \n",
       "mean         3.348852               3.094425          1.000000e+00  \n",
       "std          0.518664               0.040308          1.531488e-08  \n",
       "min          2.850455               3.018131          9.999999e-01  \n",
       "25%          3.168261               3.057628          1.000000e+00  \n",
       "50%          3.235196               3.107139          1.000000e+00  \n",
       "75%          3.331552               3.130402          1.000000e+00  \n",
       "max          8.055382               3.140000          1.000000e+00  "
      ]
     },
     "execution_count": 8,
     "metadata": {},
     "output_type": "execute_result"
    }
   ],
   "source": [
    "hourlyStats.describe()"
   ]
  },
  {
   "cell_type": "code",
   "execution_count": 9,
   "metadata": {},
   "outputs": [],
   "source": [
    "hourlyStats.to_csv('saved_results/RaiLiveGraphData.csv')"
   ]
  },
  {
   "cell_type": "markdown",
   "metadata": {},
   "source": [
    "## Collateral Prices"
   ]
  },
  {
   "cell_type": "raw",
   "metadata": {},
   "source": [
    "query_header = '''\n",
    "query {{\n",
    "    collateralPrices(first: 1000, skip:{}) {{'''\n",
    "\n",
    "query_tail = '''    \n",
    "}\n",
    "}'''\n",
    "\n",
    "query_body = '''\n",
    "    block #Block number\n",
    "    timestamp # timestamp in seconds\n",
    "    collateral {\n",
    "      id\n",
    "    } # collateral type\n",
    "    safetyPrice # Price of the collateral divided by the redemptionPrice and then divided again by the safetyCRatio\n",
    "    liquidationPrice # Price of the collateral divided by the redemptionPrice and then divided again by the liquidationCRatio\n",
    "    value # Collateral price in denomination currency\n",
    "        \n",
    "'''\n",
    "\n",
    "\n",
    "n = 0\n",
    "safes = []\n",
    "while True:\n",
    "    print(f'request {n+1}')\n",
    "    query = query_header.format(n*1000) + query_body + query_tail\n",
    "    r = requests.post(url, json = {'query':query})\n",
    "    s = json.loads(r.content)['data']['collateralPrices']\n",
    "    print(f'results {len(s)}')\n",
    "    safes.extend(s)\n",
    "    print(f'total {len(safes)}')\n",
    "    n += 1\n",
    "    if len(s) < 1000:\n",
    "        break\n",
    "        \n",
    "collateralPrices = pd.DataFrame(safes)"
   ]
  },
  {
   "cell_type": "raw",
   "metadata": {},
   "source": [
    "collateralPrices['safetyPrice'] = collateralPrices['safetyPrice'].astype(float)\n",
    "collateralPrices['liquidationPrice'] = collateralPrices['liquidationPrice'].astype(float)\n",
    "collateralPrices['collateralPrice'] = collateralPrices['value'].astype(float)"
   ]
  },
  {
   "cell_type": "raw",
   "metadata": {},
   "source": [
    "collateralPrices.describe()"
   ]
  },
  {
   "cell_type": "raw",
   "metadata": {},
   "source": [
    "collateralPrices['safetyPrice'].plot(title='Price of the collateral divided by the redemptionPrice and then divided again by the safetyCRatio')         "
   ]
  },
  {
   "cell_type": "raw",
   "metadata": {},
   "source": [
    "collateralPrices['liquidationPrice'].plot(title='Price of the collateral divided by the redemptionPrice and then divided again by the liquidationCRatio')"
   ]
  },
  {
   "cell_type": "raw",
   "metadata": {},
   "source": [
    "collateralPrices['collateralPrice'].plot(title='Collateral price in denomination currency')"
   ]
  },
  {
   "cell_type": "markdown",
   "metadata": {},
   "source": [
    "## Safes"
   ]
  },
  {
   "cell_type": "raw",
   "metadata": {},
   "source": [
    "query_header = '''\n",
    "query {{\n",
    "    safes(first: 1000, skip:{}) {{'''\n",
    "\n",
    "query_tail = '''    \n",
    "}\n",
    "}'''\n",
    "\n",
    "query_body = '''\n",
    "    id # Safe ID if this Safe was created through the Safe Manager (GebSafeManager)\n",
    "    collateral #Outstanding Safe debt \n",
    "    debt # Amount of collateral locked in the Safe\n",
    "    owner {\n",
    "        id\n",
    "        safes{\n",
    "            id\n",
    "        }\n",
    "    }\n",
    "    createdAt # Block number at which this Safe was opened\n",
    "\n",
    "'''\n",
    "\n",
    "\n",
    "n = 0\n",
    "safes = []\n",
    "while True:\n",
    "    print(f'request {n+1}')\n",
    "    query = query_header.format(n*1000) + query_body + query_tail\n",
    "    r = requests.post(url, json = {'query':query})\n",
    "    s = json.loads(r.content)['data']['safes']\n",
    "    print(f'results {len(s)}')\n",
    "    safes.extend(s)\n",
    "    print(f'total {len(safes)}')\n",
    "    n += 1\n",
    "    if len(s) < 1000:\n",
    "        break\n",
    "        \n",
    "safes = pd.DataFrame(safes)"
   ]
  },
  {
   "cell_type": "raw",
   "metadata": {},
   "source": [
    "safes['createdAt'] = safes['createdAt'].astype(float)\n",
    "safes['debt'] = safes['debt'].astype(float)"
   ]
  },
  {
   "cell_type": "raw",
   "metadata": {},
   "source": [
    "safes.describe()"
   ]
  },
  {
   "cell_type": "raw",
   "metadata": {},
   "source": [
    "safes.owner.apply(lambda x: len([d['id'] for d in x['safes'] ])).hist()"
   ]
  },
  {
   "cell_type": "raw",
   "metadata": {},
   "source": [
    "safes.debt = safes.debt.apply(float)\n",
    "safes.collateral = safes.collateral.apply(float)\n",
    "safes['debt_ratio'] = safes.debt/safes.collateral "
   ]
  },
  {
   "cell_type": "raw",
   "metadata": {},
   "source": [
    "safes.debt_ratio.hist()"
   ]
  },
  {
   "cell_type": "raw",
   "metadata": {},
   "source": [
    "safes[safes.debt_ratio>0].debt_ratio.apply(lambda x :1/x).hist()"
   ]
  },
  {
   "cell_type": "markdown",
   "metadata": {},
   "source": [
    "## Conclusion\n",
    "\n",
    "Using The Graph, a lot of data about the Rai system can be obtained for analyzing the health of the system. With some data manipulation, these data streams could be intergrated into the Rai cadCAD model to turn it into a true decision support system."
   ]
  }
 ],
 "metadata": {
  "kernelspec": {
   "display_name": "Python 3",
   "language": "python",
   "name": "python3"
  },
  "language_info": {
   "codemirror_mode": {
    "name": "ipython",
    "version": 3
   },
   "file_extension": ".py",
   "mimetype": "text/x-python",
   "name": "python",
   "nbconvert_exporter": "python",
   "pygments_lexer": "ipython3",
   "version": "3.8.3"
  }
 },
 "nbformat": 4,
 "nbformat_minor": 2
}
