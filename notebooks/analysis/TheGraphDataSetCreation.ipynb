{
 "cells": [
  {
   "cell_type": "markdown",
   "metadata": {},
   "source": [
    "# The Graph Data Access\n",
    "\n",
    "In this notebook, we retrieve live Rai system data from [The Graph](https://thegraph.com/explorer/subgraph/reflexer-labs/rai-mainnet?query=Example%20query) and save it as a CSV for analysis in the [Graph Analysis](TheGraphDataAnalysis.ipynb) notebook."
   ]
  },
  {
   "cell_type": "code",
   "execution_count": 1,
   "metadata": {},
   "outputs": [],
   "source": [
    "# import libraries\n",
    "import pandas as pd\n",
    "import json\n",
    "import requests\n",
    "import matplotlib.pyplot as plt\n",
    "url = 'https://api.thegraph.com/subgraphs/name/reflexer-labs/rai-mainnet'"
   ]
  },
  {
   "cell_type": "markdown",
   "metadata": {},
   "source": [
    "## Hourly stats"
   ]
  },
  {
   "cell_type": "code",
   "execution_count": 2,
   "metadata": {},
   "outputs": [
    {
     "name": "stdout",
     "output_type": "stream",
     "text": [
      "request 1\n",
      "results 555\n",
      "total 555\n"
     ]
    }
   ],
   "source": [
    "query_header = '''\n",
    "query {{\n",
    "    hourlyStats(first: 1000, skip:{}) {{'''\n",
    "\n",
    "query_tail = '''    \n",
    "}\n",
    "}'''\n",
    "\n",
    "query_body = '''\n",
    " timestamp\n",
    "    blockNumber\n",
    "    redemptionPrice {\n",
    "      id\n",
    "      block\n",
    "      redemptionRate\n",
    "      value\n",
    "      \n",
    "    }\n",
    "    marketPriceUsd\n",
    "    marketPriceEth\n",
    "    globalDebt\n",
    "    erc20CoinTotalSupply\n",
    "'''\n",
    "\n",
    "\n",
    "\n",
    "\n",
    "\n",
    "n = 0\n",
    "safes = []\n",
    "while True:\n",
    "    print(f'request {n+1}')\n",
    "    query = query_header.format(n*1000) + query_body + query_tail\n",
    "    r = requests.post(url, json = {'query':query})\n",
    "    s = json.loads(r.content)['data']['hourlyStats']\n",
    "    print(f'results {len(s)}')\n",
    "    safes.extend(s)\n",
    "    print(f'total {len(safes)}')\n",
    "    n += 1\n",
    "    if len(s) < 1000:\n",
    "        break\n",
    "        \n",
    "hourlyStats = pd.DataFrame(safes)"
   ]
  },
  {
   "cell_type": "code",
   "execution_count": 3,
   "metadata": {},
   "outputs": [
    {
     "data": {
      "text/html": [
       "<div>\n",
       "<style scoped>\n",
       "    .dataframe tbody tr th:only-of-type {\n",
       "        vertical-align: middle;\n",
       "    }\n",
       "\n",
       "    .dataframe tbody tr th {\n",
       "        vertical-align: top;\n",
       "    }\n",
       "\n",
       "    .dataframe thead th {\n",
       "        text-align: right;\n",
       "    }\n",
       "</style>\n",
       "<table border=\"1\" class=\"dataframe\">\n",
       "  <thead>\n",
       "    <tr style=\"text-align: right;\">\n",
       "      <th></th>\n",
       "      <th>blockNumber</th>\n",
       "      <th>erc20CoinTotalSupply</th>\n",
       "      <th>globalDebt</th>\n",
       "      <th>marketPriceEth</th>\n",
       "      <th>marketPriceUsd</th>\n",
       "      <th>redemptionPrice</th>\n",
       "      <th>timestamp</th>\n",
       "    </tr>\n",
       "  </thead>\n",
       "  <tbody>\n",
       "    <tr>\n",
       "      <th>0</th>\n",
       "      <td>11857308</td>\n",
       "      <td>1988.440432971667032725</td>\n",
       "      <td>1988.577499489843641169436691184972</td>\n",
       "      <td>0.002589462210048543650949087456484599</td>\n",
       "      <td>4.670500166535429740591356399938391</td>\n",
       "      <td>{'block': '11849022', 'id': '0xe313271188492c4...</td>\n",
       "      <td>1613338681</td>\n",
       "    </tr>\n",
       "    <tr>\n",
       "      <th>1</th>\n",
       "      <td>11860793</td>\n",
       "      <td>2788.440432971667032725</td>\n",
       "      <td>2788.617717345781163523077653358556</td>\n",
       "      <td>0.002481355746535171105569862943787003</td>\n",
       "      <td>4.377049344386119132419461918241039</td>\n",
       "      <td>{'block': '11860755', 'id': '0x40066774f6fb7d3...</td>\n",
       "      <td>1613384616</td>\n",
       "    </tr>\n",
       "    <tr>\n",
       "      <th>2</th>\n",
       "      <td>11861040</td>\n",
       "      <td>2788.440432971667032725</td>\n",
       "      <td>2788.657935201718685876567866781341</td>\n",
       "      <td>0.002481355746535171105569862943787003</td>\n",
       "      <td>4.406833024856393396658172078078713</td>\n",
       "      <td>{'block': '11861008', 'id': '0x0d551e2a2d55fa8...</td>\n",
       "      <td>1613387890</td>\n",
       "    </tr>\n",
       "    <tr>\n",
       "      <th>3</th>\n",
       "      <td>11861337</td>\n",
       "      <td>2788.440432971667032725</td>\n",
       "      <td>2788.657935201718685876567866781341</td>\n",
       "      <td>0.002481355746535171105569862943787003</td>\n",
       "      <td>4.419265710853707004204445293455575</td>\n",
       "      <td>{'block': '11861237', 'id': '0x5c67dbb323db039...</td>\n",
       "      <td>1613392101</td>\n",
       "    </tr>\n",
       "    <tr>\n",
       "      <th>4</th>\n",
       "      <td>11861474</td>\n",
       "      <td>3048.440432971667032725</td>\n",
       "      <td>3048.645954953510904626288422086589</td>\n",
       "      <td>0.001768934955701819449591545208406114</td>\n",
       "      <td>3.194329891923853932595347583210722</td>\n",
       "      <td>{'block': '11861237', 'id': '0x5c67dbb323db039...</td>\n",
       "      <td>1613394096</td>\n",
       "    </tr>\n",
       "    <tr>\n",
       "      <th>...</th>\n",
       "      <td>...</td>\n",
       "      <td>...</td>\n",
       "      <td>...</td>\n",
       "      <td>...</td>\n",
       "      <td>...</td>\n",
       "      <td>...</td>\n",
       "      <td>...</td>\n",
       "    </tr>\n",
       "    <tr>\n",
       "      <th>550</th>\n",
       "      <td>12010465</td>\n",
       "      <td>42476013.82242584163675588</td>\n",
       "      <td>43314023.31815621287656032719477108</td>\n",
       "      <td>0.001625041400702411519611518995187305</td>\n",
       "      <td>2.969551544064885546839771107577204</td>\n",
       "      <td>{'block': '12010443', 'id': '0x997691a78d9c595...</td>\n",
       "      <td>1615374937</td>\n",
       "    </tr>\n",
       "    <tr>\n",
       "      <th>551</th>\n",
       "      <td>12010817</td>\n",
       "      <td>43298317.625212681564702321</td>\n",
       "      <td>44136428.85174739846689061297976533</td>\n",
       "      <td>0.001636721874314180917398266446809564</td>\n",
       "      <td>2.96986173023419900041053010131036</td>\n",
       "      <td>{'block': '12010709', 'id': '0xdcc1f29b7a3b611...</td>\n",
       "      <td>1615379588</td>\n",
       "    </tr>\n",
       "    <tr>\n",
       "      <th>552</th>\n",
       "      <td>12010941</td>\n",
       "      <td>43399117.625212681564702321</td>\n",
       "      <td>44237308.41661038906508775402546272</td>\n",
       "      <td>0.001636721874314180917398214033725258</td>\n",
       "      <td>2.976424949253294787096916026631926</td>\n",
       "      <td>{'block': '12010709', 'id': '0xdcc1f29b7a3b611...</td>\n",
       "      <td>1615381309</td>\n",
       "    </tr>\n",
       "    <tr>\n",
       "      <th>553</th>\n",
       "      <td>12011285</td>\n",
       "      <td>43447340.624047229286881326</td>\n",
       "      <td>44285585.09229244328704527080606708</td>\n",
       "      <td>0.001626771089120311202244328025043454</td>\n",
       "      <td>2.988082185910203146591551313589792</td>\n",
       "      <td>{'block': '12011245', 'id': '0xb6a01db82df1fdd...</td>\n",
       "      <td>1615385895</td>\n",
       "    </tr>\n",
       "    <tr>\n",
       "      <th>554</th>\n",
       "      <td>12011610</td>\n",
       "      <td>43454734.48020184268964466</td>\n",
       "      <td>44293066.63390435287895840784570546</td>\n",
       "      <td>0.001627380432841506169046637647655986</td>\n",
       "      <td>3.00471362926622736694289650679485</td>\n",
       "      <td>{'block': '12011496', 'id': '0x137fa99f56f684b...</td>\n",
       "      <td>1615390104</td>\n",
       "    </tr>\n",
       "  </tbody>\n",
       "</table>\n",
       "<p>555 rows × 7 columns</p>\n",
       "</div>"
      ],
      "text/plain": [
       "    blockNumber         erc20CoinTotalSupply  \\\n",
       "0      11857308      1988.440432971667032725   \n",
       "1      11860793      2788.440432971667032725   \n",
       "2      11861040      2788.440432971667032725   \n",
       "3      11861337      2788.440432971667032725   \n",
       "4      11861474      3048.440432971667032725   \n",
       "..          ...                          ...   \n",
       "550    12010465   42476013.82242584163675588   \n",
       "551    12010817  43298317.625212681564702321   \n",
       "552    12010941  43399117.625212681564702321   \n",
       "553    12011285  43447340.624047229286881326   \n",
       "554    12011610   43454734.48020184268964466   \n",
       "\n",
       "                              globalDebt  \\\n",
       "0    1988.577499489843641169436691184972   \n",
       "1    2788.617717345781163523077653358556   \n",
       "2    2788.657935201718685876567866781341   \n",
       "3    2788.657935201718685876567866781341   \n",
       "4    3048.645954953510904626288422086589   \n",
       "..                                   ...   \n",
       "550  43314023.31815621287656032719477108   \n",
       "551  44136428.85174739846689061297976533   \n",
       "552  44237308.41661038906508775402546272   \n",
       "553  44285585.09229244328704527080606708   \n",
       "554  44293066.63390435287895840784570546   \n",
       "\n",
       "                             marketPriceEth  \\\n",
       "0    0.002589462210048543650949087456484599   \n",
       "1    0.002481355746535171105569862943787003   \n",
       "2    0.002481355746535171105569862943787003   \n",
       "3    0.002481355746535171105569862943787003   \n",
       "4    0.001768934955701819449591545208406114   \n",
       "..                                      ...   \n",
       "550  0.001625041400702411519611518995187305   \n",
       "551  0.001636721874314180917398266446809564   \n",
       "552  0.001636721874314180917398214033725258   \n",
       "553  0.001626771089120311202244328025043454   \n",
       "554  0.001627380432841506169046637647655986   \n",
       "\n",
       "                          marketPriceUsd  \\\n",
       "0    4.670500166535429740591356399938391   \n",
       "1    4.377049344386119132419461918241039   \n",
       "2    4.406833024856393396658172078078713   \n",
       "3    4.419265710853707004204445293455575   \n",
       "4    3.194329891923853932595347583210722   \n",
       "..                                   ...   \n",
       "550  2.969551544064885546839771107577204   \n",
       "551   2.96986173023419900041053010131036   \n",
       "552  2.976424949253294787096916026631926   \n",
       "553  2.988082185910203146591551313589792   \n",
       "554   3.00471362926622736694289650679485   \n",
       "\n",
       "                                       redemptionPrice   timestamp  \n",
       "0    {'block': '11849022', 'id': '0xe313271188492c4...  1613338681  \n",
       "1    {'block': '11860755', 'id': '0x40066774f6fb7d3...  1613384616  \n",
       "2    {'block': '11861008', 'id': '0x0d551e2a2d55fa8...  1613387890  \n",
       "3    {'block': '11861237', 'id': '0x5c67dbb323db039...  1613392101  \n",
       "4    {'block': '11861237', 'id': '0x5c67dbb323db039...  1613394096  \n",
       "..                                                 ...         ...  \n",
       "550  {'block': '12010443', 'id': '0x997691a78d9c595...  1615374937  \n",
       "551  {'block': '12010709', 'id': '0xdcc1f29b7a3b611...  1615379588  \n",
       "552  {'block': '12010709', 'id': '0xdcc1f29b7a3b611...  1615381309  \n",
       "553  {'block': '12011245', 'id': '0xb6a01db82df1fdd...  1615385895  \n",
       "554  {'block': '12011496', 'id': '0x137fa99f56f684b...  1615390104  \n",
       "\n",
       "[555 rows x 7 columns]"
      ]
     },
     "execution_count": 3,
     "metadata": {},
     "output_type": "execute_result"
    }
   ],
   "source": [
    "hourlyStats"
   ]
  },
  {
   "cell_type": "code",
   "execution_count": 4,
   "metadata": {},
   "outputs": [
    {
     "data": {
      "text/plain": [
       "{'block': '11849022',\n",
       " 'id': '0xe313271188492c4cb881c814c2ce2797f638c56c4f0198abbfc7da11d9b06ed3-7',\n",
       " 'redemptionRate': '1',\n",
       " 'value': '3.14'}"
      ]
     },
     "execution_count": 4,
     "metadata": {},
     "output_type": "execute_result"
    }
   ],
   "source": [
    "hourlyStats.redemptionPrice.values[0]"
   ]
  },
  {
   "cell_type": "code",
   "execution_count": 5,
   "metadata": {},
   "outputs": [],
   "source": [
    "hourlyStats['redemptionPriceActual'] = hourlyStats.redemptionPrice.apply(lambda x: x['value'])"
   ]
  },
  {
   "cell_type": "code",
   "execution_count": 6,
   "metadata": {},
   "outputs": [],
   "source": [
    "hourlyStats['redemptionRateActual'] = hourlyStats.redemptionPrice.apply(lambda x: x['redemptionRate'])"
   ]
  },
  {
   "cell_type": "code",
   "execution_count": 7,
   "metadata": {},
   "outputs": [],
   "source": [
    "hourlyStats['erc20CoinTotalSupply'] = hourlyStats['erc20CoinTotalSupply'].astype(float)\n",
    "hourlyStats['globalDebt'] = hourlyStats['globalDebt'].astype(float)\n",
    "hourlyStats['blockNumber'] = hourlyStats['blockNumber'].astype(int)\n",
    "hourlyStats['marketPriceEth'] = hourlyStats['marketPriceEth'].astype(float)\n",
    "hourlyStats['marketPriceUsd'] = hourlyStats['marketPriceUsd'].astype(float)\n",
    "hourlyStats['redemptionPriceActual'] = hourlyStats['redemptionPriceActual'].astype(float)\n",
    "hourlyStats['redemptionRateActual'] = hourlyStats['redemptionRateActual'].astype(float)"
   ]
  },
  {
   "cell_type": "code",
   "execution_count": 8,
   "metadata": {},
   "outputs": [
    {
     "data": {
      "text/html": [
       "<div>\n",
       "<style scoped>\n",
       "    .dataframe tbody tr th:only-of-type {\n",
       "        vertical-align: middle;\n",
       "    }\n",
       "\n",
       "    .dataframe tbody tr th {\n",
       "        vertical-align: top;\n",
       "    }\n",
       "\n",
       "    .dataframe thead th {\n",
       "        text-align: right;\n",
       "    }\n",
       "</style>\n",
       "<table border=\"1\" class=\"dataframe\">\n",
       "  <thead>\n",
       "    <tr style=\"text-align: right;\">\n",
       "      <th></th>\n",
       "      <th>blockNumber</th>\n",
       "      <th>erc20CoinTotalSupply</th>\n",
       "      <th>globalDebt</th>\n",
       "      <th>marketPriceEth</th>\n",
       "      <th>marketPriceUsd</th>\n",
       "      <th>redemptionPriceActual</th>\n",
       "      <th>redemptionRateActual</th>\n",
       "    </tr>\n",
       "  </thead>\n",
       "  <tbody>\n",
       "    <tr>\n",
       "      <th>count</th>\n",
       "      <td>5.550000e+02</td>\n",
       "      <td>5.550000e+02</td>\n",
       "      <td>5.550000e+02</td>\n",
       "      <td>555.000000</td>\n",
       "      <td>555.000000</td>\n",
       "      <td>555.000000</td>\n",
       "      <td>5.550000e+02</td>\n",
       "    </tr>\n",
       "    <tr>\n",
       "      <th>mean</th>\n",
       "      <td>1.193633e+07</td>\n",
       "      <td>2.605970e+07</td>\n",
       "      <td>2.658475e+07</td>\n",
       "      <td>0.001999</td>\n",
       "      <td>3.335829</td>\n",
       "      <td>3.091356</td>\n",
       "      <td>1.000000e+00</td>\n",
       "    </tr>\n",
       "    <tr>\n",
       "      <th>std</th>\n",
       "      <td>4.359907e+04</td>\n",
       "      <td>1.258564e+07</td>\n",
       "      <td>1.293412e+07</td>\n",
       "      <td>0.000313</td>\n",
       "      <td>0.512416</td>\n",
       "      <td>0.042294</td>\n",
       "      <td>1.522526e-08</td>\n",
       "    </tr>\n",
       "    <tr>\n",
       "      <th>min</th>\n",
       "      <td>1.185731e+07</td>\n",
       "      <td>1.988440e+03</td>\n",
       "      <td>1.988577e+03</td>\n",
       "      <td>0.001609</td>\n",
       "      <td>2.850455</td>\n",
       "      <td>3.016181</td>\n",
       "      <td>9.999999e-01</td>\n",
       "    </tr>\n",
       "    <tr>\n",
       "      <th>25%</th>\n",
       "      <td>1.189869e+07</td>\n",
       "      <td>1.591626e+07</td>\n",
       "      <td>1.593316e+07</td>\n",
       "      <td>0.001785</td>\n",
       "      <td>3.152961</td>\n",
       "      <td>3.049830</td>\n",
       "      <td>1.000000e+00</td>\n",
       "    </tr>\n",
       "    <tr>\n",
       "      <th>50%</th>\n",
       "      <td>1.193632e+07</td>\n",
       "      <td>3.273819e+07</td>\n",
       "      <td>3.370695e+07</td>\n",
       "      <td>0.001971</td>\n",
       "      <td>3.226861</td>\n",
       "      <td>3.106774</td>\n",
       "      <td>1.000000e+00</td>\n",
       "    </tr>\n",
       "    <tr>\n",
       "      <th>75%</th>\n",
       "      <td>1.197415e+07</td>\n",
       "      <td>3.446885e+07</td>\n",
       "      <td>3.545641e+07</td>\n",
       "      <td>0.002119</td>\n",
       "      <td>3.325158</td>\n",
       "      <td>3.129599</td>\n",
       "      <td>1.000000e+00</td>\n",
       "    </tr>\n",
       "    <tr>\n",
       "      <th>max</th>\n",
       "      <td>1.201161e+07</td>\n",
       "      <td>4.391989e+07</td>\n",
       "      <td>4.476692e+07</td>\n",
       "      <td>0.004474</td>\n",
       "      <td>8.055382</td>\n",
       "      <td>3.140000</td>\n",
       "      <td>1.000000e+00</td>\n",
       "    </tr>\n",
       "  </tbody>\n",
       "</table>\n",
       "</div>"
      ],
      "text/plain": [
       "        blockNumber  erc20CoinTotalSupply    globalDebt  marketPriceEth  \\\n",
       "count  5.550000e+02          5.550000e+02  5.550000e+02      555.000000   \n",
       "mean   1.193633e+07          2.605970e+07  2.658475e+07        0.001999   \n",
       "std    4.359907e+04          1.258564e+07  1.293412e+07        0.000313   \n",
       "min    1.185731e+07          1.988440e+03  1.988577e+03        0.001609   \n",
       "25%    1.189869e+07          1.591626e+07  1.593316e+07        0.001785   \n",
       "50%    1.193632e+07          3.273819e+07  3.370695e+07        0.001971   \n",
       "75%    1.197415e+07          3.446885e+07  3.545641e+07        0.002119   \n",
       "max    1.201161e+07          4.391989e+07  4.476692e+07        0.004474   \n",
       "\n",
       "       marketPriceUsd  redemptionPriceActual  redemptionRateActual  \n",
       "count      555.000000             555.000000          5.550000e+02  \n",
       "mean         3.335829               3.091356          1.000000e+00  \n",
       "std          0.512416               0.042294          1.522526e-08  \n",
       "min          2.850455               3.016181          9.999999e-01  \n",
       "25%          3.152961               3.049830          1.000000e+00  \n",
       "50%          3.226861               3.106774          1.000000e+00  \n",
       "75%          3.325158               3.129599          1.000000e+00  \n",
       "max          8.055382               3.140000          1.000000e+00  "
      ]
     },
     "execution_count": 8,
     "metadata": {},
     "output_type": "execute_result"
    }
   ],
   "source": [
    "hourlyStats.describe()"
   ]
  },
  {
   "cell_type": "code",
   "execution_count": 9,
   "metadata": {},
   "outputs": [],
   "source": [
    "hourlyStats.to_csv('saved_results/RaiLiveGraphData.csv')"
   ]
  },
  {
   "cell_type": "markdown",
   "metadata": {},
   "source": [
    "## Collateral Prices"
   ]
  },
  {
   "cell_type": "raw",
   "metadata": {},
   "source": [
    "query_header = '''\n",
    "query {{\n",
    "    collateralPrices(first: 1000, skip:{}) {{'''\n",
    "\n",
    "query_tail = '''    \n",
    "}\n",
    "}'''\n",
    "\n",
    "query_body = '''\n",
    "    block #Block number\n",
    "    timestamp # timestamp in seconds\n",
    "    collateral {\n",
    "      id\n",
    "    } # collateral type\n",
    "    safetyPrice # Price of the collateral divided by the redemptionPrice and then divided again by the safetyCRatio\n",
    "    liquidationPrice # Price of the collateral divided by the redemptionPrice and then divided again by the liquidationCRatio\n",
    "    value # Collateral price in denomination currency\n",
    "        \n",
    "'''\n",
    "\n",
    "\n",
    "n = 0\n",
    "safes = []\n",
    "while True:\n",
    "    print(f'request {n+1}')\n",
    "    query = query_header.format(n*1000) + query_body + query_tail\n",
    "    r = requests.post(url, json = {'query':query})\n",
    "    s = json.loads(r.content)['data']['collateralPrices']\n",
    "    print(f'results {len(s)}')\n",
    "    safes.extend(s)\n",
    "    print(f'total {len(safes)}')\n",
    "    n += 1\n",
    "    if len(s) < 1000:\n",
    "        break\n",
    "        \n",
    "collateralPrices = pd.DataFrame(safes)"
   ]
  },
  {
   "cell_type": "raw",
   "metadata": {},
   "source": [
    "collateralPrices['safetyPrice'] = collateralPrices['safetyPrice'].astype(float)\n",
    "collateralPrices['liquidationPrice'] = collateralPrices['liquidationPrice'].astype(float)\n",
    "collateralPrices['collateralPrice'] = collateralPrices['value'].astype(float)"
   ]
  },
  {
   "cell_type": "raw",
   "metadata": {},
   "source": [
    "collateralPrices.describe()"
   ]
  },
  {
   "cell_type": "raw",
   "metadata": {},
   "source": [
    "collateralPrices['safetyPrice'].plot(title='Price of the collateral divided by the redemptionPrice and then divided again by the safetyCRatio')         "
   ]
  },
  {
   "cell_type": "raw",
   "metadata": {},
   "source": [
    "collateralPrices['liquidationPrice'].plot(title='Price of the collateral divided by the redemptionPrice and then divided again by the liquidationCRatio')"
   ]
  },
  {
   "cell_type": "raw",
   "metadata": {},
   "source": [
    "collateralPrices['collateralPrice'].plot(title='Collateral price in denomination currency')"
   ]
  },
  {
   "cell_type": "markdown",
   "metadata": {},
   "source": [
    "## Safes"
   ]
  },
  {
   "cell_type": "raw",
   "metadata": {},
   "source": [
    "query_header = '''\n",
    "query {{\n",
    "    safes(first: 1000, skip:{}) {{'''\n",
    "\n",
    "query_tail = '''    \n",
    "}\n",
    "}'''\n",
    "\n",
    "query_body = '''\n",
    "    id # Safe ID if this Safe was created through the Safe Manager (GebSafeManager)\n",
    "    collateral #Outstanding Safe debt \n",
    "    debt # Amount of collateral locked in the Safe\n",
    "    owner {\n",
    "        id\n",
    "        safes{\n",
    "            id\n",
    "        }\n",
    "    }\n",
    "    createdAt # Block number at which this Safe was opened\n",
    "\n",
    "'''\n",
    "\n",
    "\n",
    "n = 0\n",
    "safes = []\n",
    "while True:\n",
    "    print(f'request {n+1}')\n",
    "    query = query_header.format(n*1000) + query_body + query_tail\n",
    "    r = requests.post(url, json = {'query':query})\n",
    "    s = json.loads(r.content)['data']['safes']\n",
    "    print(f'results {len(s)}')\n",
    "    safes.extend(s)\n",
    "    print(f'total {len(safes)}')\n",
    "    n += 1\n",
    "    if len(s) < 1000:\n",
    "        break\n",
    "        \n",
    "safes = pd.DataFrame(safes)"
   ]
  },
  {
   "cell_type": "raw",
   "metadata": {},
   "source": [
    "safes['createdAt'] = safes['createdAt'].astype(float)\n",
    "safes['debt'] = safes['debt'].astype(float)"
   ]
  },
  {
   "cell_type": "raw",
   "metadata": {},
   "source": [
    "safes.describe()"
   ]
  },
  {
   "cell_type": "raw",
   "metadata": {},
   "source": [
    "safes.owner.apply(lambda x: len([d['id'] for d in x['safes'] ])).hist()"
   ]
  },
  {
   "cell_type": "raw",
   "metadata": {},
   "source": [
    "safes.debt = safes.debt.apply(float)\n",
    "safes.collateral = safes.collateral.apply(float)\n",
    "safes['debt_ratio'] = safes.debt/safes.collateral "
   ]
  },
  {
   "cell_type": "raw",
   "metadata": {},
   "source": [
    "safes.debt_ratio.hist()"
   ]
  },
  {
   "cell_type": "raw",
   "metadata": {},
   "source": [
    "safes[safes.debt_ratio>0].debt_ratio.apply(lambda x :1/x).hist()"
   ]
  },
  {
   "cell_type": "markdown",
   "metadata": {},
   "source": [
    "## Conclusion\n",
    "\n",
    "Using The Graph, a lot of data about the Rai system can be obtained for analyzing the health of the system. With some data manipulation, these data streams could be intergrated into the Rai cadCAD model to turn it into a true decision support system."
   ]
  }
 ],
 "metadata": {
  "kernelspec": {
   "display_name": "Python 3",
   "language": "python",
   "name": "python3"
  },
  "language_info": {
   "codemirror_mode": {
    "name": "ipython",
    "version": 3
   },
   "file_extension": ".py",
   "mimetype": "text/x-python",
   "name": "python",
   "nbconvert_exporter": "python",
   "pygments_lexer": "ipython3",
   "version": "3.8.3"
  }
 },
 "nbformat": 4,
 "nbformat_minor": 2
}
