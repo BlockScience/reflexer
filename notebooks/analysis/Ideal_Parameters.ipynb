{
 "cells": [
  {
   "cell_type": "markdown",
   "metadata": {},
   "source": [
    "# System Model V3 - Debt Market Model - Ideal Parameters\n",
    "\n",
    "The purpose of this notebook is to simulate a single run of the full CDP and APT system model, using a stochastic Ethereum price and liquidity demand process as a driver.\n",
    "\n",
    "\n",
    "We want to run a basic simuluation in order to serve as a sanity check. We want the simulation to have no liquidity shocks, the controller off, arbitrageur considers the liquidation ratio, and target price scaling. The market price presented should be stable and should reflect the movement and volatility of the realized sample path of the ETH price\n",
    "\n",
    "In order to test this, configure the following experiment [ideal_params.py](https://github.com/BlockScience/reflexer/blob/experiment-analysis/experiments/system_model_v3/ideal_params.py). Run run this simulation, we create a directory in the ```experiments/system_model_v3``` called ```ideal_params/```,and add a ```logs/``` directory inside of it.\n",
    "\n",
    "Assuming our we have all of the requirements required (run requirements.txt from the ```reflexer/``` root directory to be sure. Assuming our terminal is in the root directory, we run the follow to run the simulation:\n",
    "\n",
    "```bash\n",
    "cd experiments/system_model_v3\n",
    "python3 -m experiments.system_model_v3.ideal_params\n",
    "```\n",
    "And our simulation will run. The resulting [run log](https://github.com/BlockScience/reflexer/blob/experiment-analysis/experiments/system_model_v3/ideal_params/experiment_run_log.md)\n",
    " can be found in the ```experiments/system_model_v3/ideal_params/``` directory, along with the simulation results stored as ```experiment_results.hdf5```\n",
    "\n",
    "\n",
    "Below we will import and examine the simulation results.\n"
   ]
  },
  {
   "cell_type": "code",
   "execution_count": 1,
   "metadata": {},
   "outputs": [],
   "source": [
    "# import libraries\n",
    "import pandas as pd\n",
    "import matplotlib.pyplot as plt\n",
    "import seaborn as sns\n",
    "import os\n",
    "\n",
    "%matplotlib inline"
   ]
  },
  {
   "cell_type": "markdown",
   "metadata": {},
   "source": [
    "## Import simulation run data\n"
   ]
  },
  {
   "cell_type": "code",
   "execution_count": 2,
   "metadata": {},
   "outputs": [
    {
     "data": {
      "text/plain": [
       "'/home/aclarkdata/repos/reflexer/notebooks/analysis'"
      ]
     },
     "execution_count": 2,
     "metadata": {},
     "output_type": "execute_result"
    }
   ],
   "source": [
    "os.getcwd()"
   ]
  },
  {
   "cell_type": "code",
   "execution_count": 3,
   "metadata": {},
   "outputs": [
    {
     "data": {
      "text/plain": [
       "'/home/aclarkdata/repos/reflexer'"
      ]
     },
     "execution_count": 3,
     "metadata": {},
     "output_type": "execute_result"
    }
   ],
   "source": [
    "os.chdir('../../')\n",
    "os.getcwd()"
   ]
  },
  {
   "cell_type": "code",
   "execution_count": 4,
   "metadata": {},
   "outputs": [],
   "source": [
    "experiment_results = 'experiments/system_model_v3/ideal_params/experiment_results.hdf5'\n",
    "experiment_results_keys = []\n",
    "with pd.HDFStore(experiment_results) as store:\n",
    "    experiment_results_keys = list(filter(lambda x: \"results\" in x, store.keys()))\n",
    "    exceptions_keys = list(filter(lambda x: \"exceptions\" in x, store.keys()))"
   ]
  },
  {
   "cell_type": "code",
   "execution_count": 5,
   "metadata": {},
   "outputs": [
    {
     "data": {
      "text/plain": [
       "['/results_2021-02-24T15:40:38.315581']"
      ]
     },
     "execution_count": 5,
     "metadata": {},
     "output_type": "execute_result"
    }
   ],
   "source": [
    "# A list of all experiment result keys\n",
    "experiment_results_keys"
   ]
  },
  {
   "cell_type": "code",
   "execution_count": 6,
   "metadata": {},
   "outputs": [
    {
     "data": {
      "text/plain": [
       "'/results_2021-02-24T15:40:38.315581'"
      ]
     },
     "execution_count": 6,
     "metadata": {},
     "output_type": "execute_result"
    }
   ],
   "source": [
    "# Copy a results_ key from the above keys to select the experiment\n",
    "experiment_results_key = experiment_results_keys[-1]#'results_2021-02-09T18:46:33.073363' # Or select last result: experiment_results_keys[-1]\n",
    "experiment_timestamp = experiment_results_key.strip('results_')\n",
    "exceptions_key = 'exceptions_' + experiment_timestamp\n",
    "experiment_timestamp"
   ]
  },
  {
   "cell_type": "code",
   "execution_count": 7,
   "metadata": {},
   "outputs": [
    {
     "data": {
      "text/html": [
       "<div>\n",
       "<style scoped>\n",
       "    .dataframe tbody tr th:only-of-type {\n",
       "        vertical-align: middle;\n",
       "    }\n",
       "\n",
       "    .dataframe tbody tr th {\n",
       "        vertical-align: top;\n",
       "    }\n",
       "\n",
       "    .dataframe thead th {\n",
       "        text-align: right;\n",
       "    }\n",
       "</style>\n",
       "<table border=\"1\" class=\"dataframe\">\n",
       "  <thead>\n",
       "    <tr style=\"text-align: right;\">\n",
       "      <th></th>\n",
       "      <th>cdp_metrics</th>\n",
       "      <th>optimal_values</th>\n",
       "      <th>sim_metrics</th>\n",
       "      <th>timedelta</th>\n",
       "      <th>cumulative_time</th>\n",
       "      <th>timestamp</th>\n",
       "      <th>blockheight</th>\n",
       "      <th>eth_price</th>\n",
       "      <th>liquidity_demand</th>\n",
       "      <th>liquidity_demand_mean</th>\n",
       "      <th>...</th>\n",
       "      <th>RAI_balance</th>\n",
       "      <th>ETH_balance</th>\n",
       "      <th>UNI_supply</th>\n",
       "      <th>uniswap_oracle</th>\n",
       "      <th>simulation</th>\n",
       "      <th>subset</th>\n",
       "      <th>run</th>\n",
       "      <th>substep</th>\n",
       "      <th>timestep</th>\n",
       "      <th>events</th>\n",
       "    </tr>\n",
       "  </thead>\n",
       "  <tbody>\n",
       "    <tr>\n",
       "      <th>8754</th>\n",
       "      <td>{'cdp_count': 1, 'open_cdp_count': 1, 'closed_...</td>\n",
       "      <td>{}</td>\n",
       "      <td>{}</td>\n",
       "      <td>3600</td>\n",
       "      <td>31514400</td>\n",
       "      <td>2017-12-31 18:00:00</td>\n",
       "      <td>0</td>\n",
       "      <td>291.054350</td>\n",
       "      <td>-14354.477200</td>\n",
       "      <td>-7069.979777</td>\n",
       "      <td>...</td>\n",
       "      <td>6.092072e+06</td>\n",
       "      <td>16533.275041</td>\n",
       "      <td>2.774755e+06</td>\n",
       "      <td>None</td>\n",
       "      <td>0</td>\n",
       "      <td>0</td>\n",
       "      <td>1</td>\n",
       "      <td>18</td>\n",
       "      <td>8754</td>\n",
       "      <td>NaN</td>\n",
       "    </tr>\n",
       "    <tr>\n",
       "      <th>8755</th>\n",
       "      <td>{'cdp_count': 1, 'open_cdp_count': 1, 'closed_...</td>\n",
       "      <td>{}</td>\n",
       "      <td>{}</td>\n",
       "      <td>3600</td>\n",
       "      <td>31518000</td>\n",
       "      <td>2017-12-31 19:00:00</td>\n",
       "      <td>0</td>\n",
       "      <td>290.618717</td>\n",
       "      <td>257.192907</td>\n",
       "      <td>-3406.393435</td>\n",
       "      <td>...</td>\n",
       "      <td>6.095372e+06</td>\n",
       "      <td>16524.348836</td>\n",
       "      <td>2.774755e+06</td>\n",
       "      <td>None</td>\n",
       "      <td>0</td>\n",
       "      <td>0</td>\n",
       "      <td>1</td>\n",
       "      <td>18</td>\n",
       "      <td>8755</td>\n",
       "      <td>NaN</td>\n",
       "    </tr>\n",
       "    <tr>\n",
       "      <th>8756</th>\n",
       "      <td>{'cdp_count': 1, 'open_cdp_count': 1, 'closed_...</td>\n",
       "      <td>{}</td>\n",
       "      <td>{}</td>\n",
       "      <td>3600</td>\n",
       "      <td>31521600</td>\n",
       "      <td>2017-12-31 20:00:00</td>\n",
       "      <td>0</td>\n",
       "      <td>294.051768</td>\n",
       "      <td>-467.952791</td>\n",
       "      <td>-1937.173113</td>\n",
       "      <td>...</td>\n",
       "      <td>6.071533e+06</td>\n",
       "      <td>16589.426190</td>\n",
       "      <td>2.774755e+06</td>\n",
       "      <td>None</td>\n",
       "      <td>0</td>\n",
       "      <td>0</td>\n",
       "      <td>1</td>\n",
       "      <td>18</td>\n",
       "      <td>8756</td>\n",
       "      <td>NaN</td>\n",
       "    </tr>\n",
       "    <tr>\n",
       "      <th>8757</th>\n",
       "      <td>{'cdp_count': 1, 'open_cdp_count': 1, 'closed_...</td>\n",
       "      <td>{}</td>\n",
       "      <td>{}</td>\n",
       "      <td>3600</td>\n",
       "      <td>31525200</td>\n",
       "      <td>2017-12-31 21:00:00</td>\n",
       "      <td>0</td>\n",
       "      <td>292.504724</td>\n",
       "      <td>-38.986788</td>\n",
       "      <td>-988.079950</td>\n",
       "      <td>...</td>\n",
       "      <td>6.262218e+06</td>\n",
       "      <td>16085.539623</td>\n",
       "      <td>2.774737e+06</td>\n",
       "      <td>&lt;models.system_model_v3.model.parts.uniswap_or...</td>\n",
       "      <td>0</td>\n",
       "      <td>0</td>\n",
       "      <td>1</td>\n",
       "      <td>18</td>\n",
       "      <td>8757</td>\n",
       "      <td>NaN</td>\n",
       "    </tr>\n",
       "    <tr>\n",
       "      <th>8758</th>\n",
       "      <td>{'cdp_count': 1, 'open_cdp_count': 1, 'closed_...</td>\n",
       "      <td>{}</td>\n",
       "      <td>{}</td>\n",
       "      <td>3600</td>\n",
       "      <td>31528800</td>\n",
       "      <td>2017-12-31 22:00:00</td>\n",
       "      <td>0</td>\n",
       "      <td>296.219229</td>\n",
       "      <td>-1288.839945</td>\n",
       "      <td>-1138.459947</td>\n",
       "      <td>...</td>\n",
       "      <td>6.175931e+06</td>\n",
       "      <td>16304.231324</td>\n",
       "      <td>2.774166e+06</td>\n",
       "      <td>&lt;models.system_model_v3.model.parts.uniswap_or...</td>\n",
       "      <td>0</td>\n",
       "      <td>0</td>\n",
       "      <td>1</td>\n",
       "      <td>18</td>\n",
       "      <td>8758</td>\n",
       "      <td>NaN</td>\n",
       "    </tr>\n",
       "  </tbody>\n",
       "</table>\n",
       "<p>5 rows × 49 columns</p>\n",
       "</div>"
      ],
      "text/plain": [
       "                                            cdp_metrics optimal_values  \\\n",
       "8754  {'cdp_count': 1, 'open_cdp_count': 1, 'closed_...             {}   \n",
       "8755  {'cdp_count': 1, 'open_cdp_count': 1, 'closed_...             {}   \n",
       "8756  {'cdp_count': 1, 'open_cdp_count': 1, 'closed_...             {}   \n",
       "8757  {'cdp_count': 1, 'open_cdp_count': 1, 'closed_...             {}   \n",
       "8758  {'cdp_count': 1, 'open_cdp_count': 1, 'closed_...             {}   \n",
       "\n",
       "     sim_metrics  timedelta  cumulative_time           timestamp  blockheight  \\\n",
       "8754          {}       3600         31514400 2017-12-31 18:00:00            0   \n",
       "8755          {}       3600         31518000 2017-12-31 19:00:00            0   \n",
       "8756          {}       3600         31521600 2017-12-31 20:00:00            0   \n",
       "8757          {}       3600         31525200 2017-12-31 21:00:00            0   \n",
       "8758          {}       3600         31528800 2017-12-31 22:00:00            0   \n",
       "\n",
       "       eth_price  liquidity_demand  liquidity_demand_mean  ...   RAI_balance  \\\n",
       "8754  291.054350     -14354.477200           -7069.979777  ...  6.092072e+06   \n",
       "8755  290.618717        257.192907           -3406.393435  ...  6.095372e+06   \n",
       "8756  294.051768       -467.952791           -1937.173113  ...  6.071533e+06   \n",
       "8757  292.504724        -38.986788            -988.079950  ...  6.262218e+06   \n",
       "8758  296.219229      -1288.839945           -1138.459947  ...  6.175931e+06   \n",
       "\n",
       "       ETH_balance    UNI_supply  \\\n",
       "8754  16533.275041  2.774755e+06   \n",
       "8755  16524.348836  2.774755e+06   \n",
       "8756  16589.426190  2.774755e+06   \n",
       "8757  16085.539623  2.774737e+06   \n",
       "8758  16304.231324  2.774166e+06   \n",
       "\n",
       "                                         uniswap_oracle  simulation  subset  \\\n",
       "8754                                               None           0       0   \n",
       "8755                                               None           0       0   \n",
       "8756                                               None           0       0   \n",
       "8757  <models.system_model_v3.model.parts.uniswap_or...           0       0   \n",
       "8758  <models.system_model_v3.model.parts.uniswap_or...           0       0   \n",
       "\n",
       "      run  substep  timestep  events  \n",
       "8754    1       18      8754     NaN  \n",
       "8755    1       18      8755     NaN  \n",
       "8756    1       18      8756     NaN  \n",
       "8757    1       18      8757     NaN  \n",
       "8758    1       18      8758     NaN  \n",
       "\n",
       "[5 rows x 49 columns]"
      ]
     },
     "execution_count": 7,
     "metadata": {},
     "output_type": "execute_result"
    }
   ],
   "source": [
    "df_raw = pd.read_hdf(experiment_results, experiment_results_key)\n",
    "df_raw.tail()"
   ]
  },
  {
   "cell_type": "markdown",
   "metadata": {},
   "source": [
    "## Post process"
   ]
  },
  {
   "cell_type": "code",
   "execution_count": 8,
   "metadata": {},
   "outputs": [],
   "source": [
    "from experiments.system_model_v3.post_process import post_process_results\n",
    "from experiments.system_model_v3.ideal_params import params, SIMULATION_TIMESTEPS"
   ]
  },
  {
   "cell_type": "code",
   "execution_count": 9,
   "metadata": {},
   "outputs": [
    {
     "name": "stdout",
     "output_type": "stream",
     "text": [
      "Adding new columns\n",
      "0.03862500190734863\n",
      "Getting parameter sweep\n",
      "0.03876376152038574\n",
      "Assigning parameters to subsets\n",
      "0.06734609603881836\n",
      "Creating target_price_scaled\n",
      "0.07200789451599121\n"
     ]
    },
    {
     "data": {
      "text/html": [
       "<div>\n",
       "<style scoped>\n",
       "    .dataframe tbody tr th:only-of-type {\n",
       "        vertical-align: middle;\n",
       "    }\n",
       "\n",
       "    .dataframe tbody tr th {\n",
       "        vertical-align: top;\n",
       "    }\n",
       "\n",
       "    .dataframe thead th {\n",
       "        text-align: right;\n",
       "    }\n",
       "</style>\n",
       "<table border=\"1\" class=\"dataframe\">\n",
       "  <thead>\n",
       "    <tr style=\"text-align: right;\">\n",
       "      <th></th>\n",
       "      <th>cdp_metrics</th>\n",
       "      <th>optimal_values</th>\n",
       "      <th>sim_metrics</th>\n",
       "      <th>timedelta</th>\n",
       "      <th>cumulative_time</th>\n",
       "      <th>timestamp</th>\n",
       "      <th>blockheight</th>\n",
       "      <th>eth_price</th>\n",
       "      <th>liquidity_demand</th>\n",
       "      <th>liquidity_demand_mean</th>\n",
       "      <th>...</th>\n",
       "      <th>run</th>\n",
       "      <th>substep</th>\n",
       "      <th>timestep</th>\n",
       "      <th>events</th>\n",
       "      <th>eth_collateral_value</th>\n",
       "      <th>collateralization_ratio</th>\n",
       "      <th>ki</th>\n",
       "      <th>kp</th>\n",
       "      <th>liquidation_ratio</th>\n",
       "      <th>target_price_scaled</th>\n",
       "    </tr>\n",
       "  </thead>\n",
       "  <tbody>\n",
       "    <tr>\n",
       "      <th>0</th>\n",
       "      <td>{}</td>\n",
       "      <td>{}</td>\n",
       "      <td>{}</td>\n",
       "      <td>0</td>\n",
       "      <td>0</td>\n",
       "      <td>2017-01-01 00:00:00</td>\n",
       "      <td>0</td>\n",
       "      <td>294.069151</td>\n",
       "      <td>1.000000</td>\n",
       "      <td>1.000000</td>\n",
       "      <td>...</td>\n",
       "      <td>1</td>\n",
       "      <td>0</td>\n",
       "      <td>0</td>\n",
       "      <td>NaN</td>\n",
       "      <td>4.553000e+07</td>\n",
       "      <td>1.450000</td>\n",
       "      <td>-5.000000e-09</td>\n",
       "      <td>2.000000e-07</td>\n",
       "      <td>1.45</td>\n",
       "      <td>4.553000</td>\n",
       "    </tr>\n",
       "    <tr>\n",
       "      <th>1</th>\n",
       "      <td>{'cdp_count': 1, 'open_cdp_count': 1, 'closed_...</td>\n",
       "      <td>{}</td>\n",
       "      <td>{}</td>\n",
       "      <td>3600</td>\n",
       "      <td>3600</td>\n",
       "      <td>2017-01-01 01:00:00</td>\n",
       "      <td>0</td>\n",
       "      <td>291.208252</td>\n",
       "      <td>906.674484</td>\n",
       "      <td>453.837242</td>\n",
       "      <td>...</td>\n",
       "      <td>1</td>\n",
       "      <td>18</td>\n",
       "      <td>1</td>\n",
       "      <td>NaN</td>\n",
       "      <td>4.508705e+07</td>\n",
       "      <td>1.435893</td>\n",
       "      <td>-5.000000e-09</td>\n",
       "      <td>2.000000e-07</td>\n",
       "      <td>1.45</td>\n",
       "      <td>3.140000</td>\n",
       "    </tr>\n",
       "    <tr>\n",
       "      <th>2</th>\n",
       "      <td>{'cdp_count': 1, 'open_cdp_count': 1, 'closed_...</td>\n",
       "      <td>{}</td>\n",
       "      <td>{}</td>\n",
       "      <td>3600</td>\n",
       "      <td>7200</td>\n",
       "      <td>2017-01-01 02:00:00</td>\n",
       "      <td>0</td>\n",
       "      <td>292.287792</td>\n",
       "      <td>-326.024615</td>\n",
       "      <td>63.906314</td>\n",
       "      <td>...</td>\n",
       "      <td>1</td>\n",
       "      <td>18</td>\n",
       "      <td>2</td>\n",
       "      <td>NaN</td>\n",
       "      <td>3.142197e+07</td>\n",
       "      <td>1.455375</td>\n",
       "      <td>-5.000000e-09</td>\n",
       "      <td>2.000000e-07</td>\n",
       "      <td>1.45</td>\n",
       "      <td>3.140000</td>\n",
       "    </tr>\n",
       "    <tr>\n",
       "      <th>3</th>\n",
       "      <td>{'cdp_count': 1, 'open_cdp_count': 1, 'closed_...</td>\n",
       "      <td>{}</td>\n",
       "      <td>{}</td>\n",
       "      <td>3600</td>\n",
       "      <td>10800</td>\n",
       "      <td>2017-01-01 03:00:00</td>\n",
       "      <td>0</td>\n",
       "      <td>289.343698</td>\n",
       "      <td>209.658450</td>\n",
       "      <td>136.782382</td>\n",
       "      <td>...</td>\n",
       "      <td>1</td>\n",
       "      <td>18</td>\n",
       "      <td>3</td>\n",
       "      <td>NaN</td>\n",
       "      <td>3.110547e+07</td>\n",
       "      <td>1.435395</td>\n",
       "      <td>-5.000000e-09</td>\n",
       "      <td>2.000000e-07</td>\n",
       "      <td>1.45</td>\n",
       "      <td>3.140000</td>\n",
       "    </tr>\n",
       "    <tr>\n",
       "      <th>4</th>\n",
       "      <td>{'cdp_count': 1, 'open_cdp_count': 1, 'closed_...</td>\n",
       "      <td>{}</td>\n",
       "      <td>{}</td>\n",
       "      <td>3600</td>\n",
       "      <td>14400</td>\n",
       "      <td>2017-01-01 04:00:00</td>\n",
       "      <td>0</td>\n",
       "      <td>286.827771</td>\n",
       "      <td>-79.844839</td>\n",
       "      <td>28.468771</td>\n",
       "      <td>...</td>\n",
       "      <td>1</td>\n",
       "      <td>18</td>\n",
       "      <td>4</td>\n",
       "      <td>NaN</td>\n",
       "      <td>3.083500e+07</td>\n",
       "      <td>1.437392</td>\n",
       "      <td>-5.000000e-09</td>\n",
       "      <td>2.000000e-07</td>\n",
       "      <td>1.45</td>\n",
       "      <td>3.140000</td>\n",
       "    </tr>\n",
       "    <tr>\n",
       "      <th>...</th>\n",
       "      <td>...</td>\n",
       "      <td>...</td>\n",
       "      <td>...</td>\n",
       "      <td>...</td>\n",
       "      <td>...</td>\n",
       "      <td>...</td>\n",
       "      <td>...</td>\n",
       "      <td>...</td>\n",
       "      <td>...</td>\n",
       "      <td>...</td>\n",
       "      <td>...</td>\n",
       "      <td>...</td>\n",
       "      <td>...</td>\n",
       "      <td>...</td>\n",
       "      <td>...</td>\n",
       "      <td>...</td>\n",
       "      <td>...</td>\n",
       "      <td>...</td>\n",
       "      <td>...</td>\n",
       "      <td>...</td>\n",
       "      <td>...</td>\n",
       "    </tr>\n",
       "    <tr>\n",
       "      <th>8754</th>\n",
       "      <td>{'cdp_count': 1, 'open_cdp_count': 1, 'closed_...</td>\n",
       "      <td>{}</td>\n",
       "      <td>{}</td>\n",
       "      <td>3600</td>\n",
       "      <td>31514400</td>\n",
       "      <td>2017-12-31 18:00:00</td>\n",
       "      <td>0</td>\n",
       "      <td>291.054350</td>\n",
       "      <td>-14354.477200</td>\n",
       "      <td>-7069.979777</td>\n",
       "      <td>...</td>\n",
       "      <td>1</td>\n",
       "      <td>18</td>\n",
       "      <td>8754</td>\n",
       "      <td>NaN</td>\n",
       "      <td>1.125588e+07</td>\n",
       "      <td>1.450274</td>\n",
       "      <td>-5.000000e-09</td>\n",
       "      <td>2.000000e-07</td>\n",
       "      <td>1.45</td>\n",
       "      <td>0.698558</td>\n",
       "    </tr>\n",
       "    <tr>\n",
       "      <th>8755</th>\n",
       "      <td>{'cdp_count': 1, 'open_cdp_count': 1, 'closed_...</td>\n",
       "      <td>{}</td>\n",
       "      <td>{}</td>\n",
       "      <td>3600</td>\n",
       "      <td>31518000</td>\n",
       "      <td>2017-12-31 19:00:00</td>\n",
       "      <td>0</td>\n",
       "      <td>290.618717</td>\n",
       "      <td>257.192907</td>\n",
       "      <td>-3406.393435</td>\n",
       "      <td>...</td>\n",
       "      <td>1</td>\n",
       "      <td>18</td>\n",
       "      <td>8755</td>\n",
       "      <td>NaN</td>\n",
       "      <td>1.123904e+07</td>\n",
       "      <td>1.447897</td>\n",
       "      <td>-5.000000e-09</td>\n",
       "      <td>2.000000e-07</td>\n",
       "      <td>1.45</td>\n",
       "      <td>0.698526</td>\n",
       "    </tr>\n",
       "    <tr>\n",
       "      <th>8756</th>\n",
       "      <td>{'cdp_count': 1, 'open_cdp_count': 1, 'closed_...</td>\n",
       "      <td>{}</td>\n",
       "      <td>{}</td>\n",
       "      <td>3600</td>\n",
       "      <td>31521600</td>\n",
       "      <td>2017-12-31 20:00:00</td>\n",
       "      <td>0</td>\n",
       "      <td>294.051768</td>\n",
       "      <td>-467.952791</td>\n",
       "      <td>-1937.173113</td>\n",
       "      <td>...</td>\n",
       "      <td>1</td>\n",
       "      <td>18</td>\n",
       "      <td>8756</td>\n",
       "      <td>NaN</td>\n",
       "      <td>1.137180e+07</td>\n",
       "      <td>1.467188</td>\n",
       "      <td>-5.000000e-09</td>\n",
       "      <td>2.000000e-07</td>\n",
       "      <td>1.45</td>\n",
       "      <td>0.698497</td>\n",
       "    </tr>\n",
       "    <tr>\n",
       "      <th>8757</th>\n",
       "      <td>{'cdp_count': 1, 'open_cdp_count': 1, 'closed_...</td>\n",
       "      <td>{}</td>\n",
       "      <td>{}</td>\n",
       "      <td>3600</td>\n",
       "      <td>31525200</td>\n",
       "      <td>2017-12-31 21:00:00</td>\n",
       "      <td>0</td>\n",
       "      <td>292.504724</td>\n",
       "      <td>-38.986788</td>\n",
       "      <td>-988.079950</td>\n",
       "      <td>...</td>\n",
       "      <td>1</td>\n",
       "      <td>18</td>\n",
       "      <td>8757</td>\n",
       "      <td>NaN</td>\n",
       "      <td>1.131197e+07</td>\n",
       "      <td>1.442430</td>\n",
       "      <td>-5.000000e-09</td>\n",
       "      <td>2.000000e-07</td>\n",
       "      <td>1.45</td>\n",
       "      <td>0.698469</td>\n",
       "    </tr>\n",
       "    <tr>\n",
       "      <th>8758</th>\n",
       "      <td>{'cdp_count': 1, 'open_cdp_count': 1, 'closed_...</td>\n",
       "      <td>{}</td>\n",
       "      <td>{}</td>\n",
       "      <td>3600</td>\n",
       "      <td>31528800</td>\n",
       "      <td>2017-12-31 22:00:00</td>\n",
       "      <td>0</td>\n",
       "      <td>296.219229</td>\n",
       "      <td>-1288.839945</td>\n",
       "      <td>-1138.459947</td>\n",
       "      <td>...</td>\n",
       "      <td>1</td>\n",
       "      <td>18</td>\n",
       "      <td>8758</td>\n",
       "      <td>NaN</td>\n",
       "      <td>1.145562e+07</td>\n",
       "      <td>1.468473</td>\n",
       "      <td>-5.000000e-09</td>\n",
       "      <td>2.000000e-07</td>\n",
       "      <td>1.45</td>\n",
       "      <td>0.698441</td>\n",
       "    </tr>\n",
       "  </tbody>\n",
       "</table>\n",
       "<p>8759 rows × 55 columns</p>\n",
       "</div>"
      ],
      "text/plain": [
       "                                            cdp_metrics optimal_values  \\\n",
       "0                                                    {}             {}   \n",
       "1     {'cdp_count': 1, 'open_cdp_count': 1, 'closed_...             {}   \n",
       "2     {'cdp_count': 1, 'open_cdp_count': 1, 'closed_...             {}   \n",
       "3     {'cdp_count': 1, 'open_cdp_count': 1, 'closed_...             {}   \n",
       "4     {'cdp_count': 1, 'open_cdp_count': 1, 'closed_...             {}   \n",
       "...                                                 ...            ...   \n",
       "8754  {'cdp_count': 1, 'open_cdp_count': 1, 'closed_...             {}   \n",
       "8755  {'cdp_count': 1, 'open_cdp_count': 1, 'closed_...             {}   \n",
       "8756  {'cdp_count': 1, 'open_cdp_count': 1, 'closed_...             {}   \n",
       "8757  {'cdp_count': 1, 'open_cdp_count': 1, 'closed_...             {}   \n",
       "8758  {'cdp_count': 1, 'open_cdp_count': 1, 'closed_...             {}   \n",
       "\n",
       "     sim_metrics  timedelta  cumulative_time           timestamp  blockheight  \\\n",
       "0             {}          0                0 2017-01-01 00:00:00            0   \n",
       "1             {}       3600             3600 2017-01-01 01:00:00            0   \n",
       "2             {}       3600             7200 2017-01-01 02:00:00            0   \n",
       "3             {}       3600            10800 2017-01-01 03:00:00            0   \n",
       "4             {}       3600            14400 2017-01-01 04:00:00            0   \n",
       "...          ...        ...              ...                 ...          ...   \n",
       "8754          {}       3600         31514400 2017-12-31 18:00:00            0   \n",
       "8755          {}       3600         31518000 2017-12-31 19:00:00            0   \n",
       "8756          {}       3600         31521600 2017-12-31 20:00:00            0   \n",
       "8757          {}       3600         31525200 2017-12-31 21:00:00            0   \n",
       "8758          {}       3600         31528800 2017-12-31 22:00:00            0   \n",
       "\n",
       "       eth_price  liquidity_demand  liquidity_demand_mean  ... run  substep  \\\n",
       "0     294.069151          1.000000               1.000000  ...   1        0   \n",
       "1     291.208252        906.674484             453.837242  ...   1       18   \n",
       "2     292.287792       -326.024615              63.906314  ...   1       18   \n",
       "3     289.343698        209.658450             136.782382  ...   1       18   \n",
       "4     286.827771        -79.844839              28.468771  ...   1       18   \n",
       "...          ...               ...                    ...  ...  ..      ...   \n",
       "8754  291.054350     -14354.477200           -7069.979777  ...   1       18   \n",
       "8755  290.618717        257.192907           -3406.393435  ...   1       18   \n",
       "8756  294.051768       -467.952791           -1937.173113  ...   1       18   \n",
       "8757  292.504724        -38.986788            -988.079950  ...   1       18   \n",
       "8758  296.219229      -1288.839945           -1138.459947  ...   1       18   \n",
       "\n",
       "      timestep  events  eth_collateral_value  collateralization_ratio  \\\n",
       "0            0     NaN          4.553000e+07                 1.450000   \n",
       "1            1     NaN          4.508705e+07                 1.435893   \n",
       "2            2     NaN          3.142197e+07                 1.455375   \n",
       "3            3     NaN          3.110547e+07                 1.435395   \n",
       "4            4     NaN          3.083500e+07                 1.437392   \n",
       "...        ...     ...                   ...                      ...   \n",
       "8754      8754     NaN          1.125588e+07                 1.450274   \n",
       "8755      8755     NaN          1.123904e+07                 1.447897   \n",
       "8756      8756     NaN          1.137180e+07                 1.467188   \n",
       "8757      8757     NaN          1.131197e+07                 1.442430   \n",
       "8758      8758     NaN          1.145562e+07                 1.468473   \n",
       "\n",
       "                ki            kp  liquidation_ratio  target_price_scaled  \n",
       "0    -5.000000e-09  2.000000e-07               1.45             4.553000  \n",
       "1    -5.000000e-09  2.000000e-07               1.45             3.140000  \n",
       "2    -5.000000e-09  2.000000e-07               1.45             3.140000  \n",
       "3    -5.000000e-09  2.000000e-07               1.45             3.140000  \n",
       "4    -5.000000e-09  2.000000e-07               1.45             3.140000  \n",
       "...            ...           ...                ...                  ...  \n",
       "8754 -5.000000e-09  2.000000e-07               1.45             0.698558  \n",
       "8755 -5.000000e-09  2.000000e-07               1.45             0.698526  \n",
       "8756 -5.000000e-09  2.000000e-07               1.45             0.698497  \n",
       "8757 -5.000000e-09  2.000000e-07               1.45             0.698469  \n",
       "8758 -5.000000e-09  2.000000e-07               1.45             0.698441  \n",
       "\n",
       "[8759 rows x 55 columns]"
      ]
     },
     "execution_count": 9,
     "metadata": {},
     "output_type": "execute_result"
    }
   ],
   "source": [
    "df = post_process_results(df_raw, params, set_params=['ki', 'kp', 'liquidation_ratio'])\n",
    "df"
   ]
  },
  {
   "cell_type": "markdown",
   "metadata": {},
   "source": [
    "# Simulation Analysis"
   ]
  },
  {
   "cell_type": "code",
   "execution_count": 10,
   "metadata": {},
   "outputs": [
    {
     "data": {
      "text/plain": [
       "array([ 0, 18])"
      ]
     },
     "execution_count": 10,
     "metadata": {},
     "output_type": "execute_result"
    }
   ],
   "source": [
    "df.substep.unique()"
   ]
  },
  {
   "cell_type": "code",
   "execution_count": 18,
   "metadata": {},
   "outputs": [
    {
     "data": {
      "text/plain": [
       "array([0])"
      ]
     },
     "execution_count": 18,
     "metadata": {},
     "output_type": "execute_result"
    }
   ],
   "source": [
    "df.subset.unique()"
   ]
  },
  {
   "cell_type": "code",
   "execution_count": 11,
   "metadata": {},
   "outputs": [
    {
     "data": {
      "text/plain": [
       "Index(['cdp_metrics', 'optimal_values', 'sim_metrics', 'timedelta',\n",
       "       'cumulative_time', 'timestamp', 'blockheight', 'eth_price',\n",
       "       'liquidity_demand', 'liquidity_demand_mean', 'cdps', 'eth_collateral',\n",
       "       'eth_locked', 'eth_freed', 'eth_bitten', 'principal_debt', 'rai_drawn',\n",
       "       'rai_wiped', 'rai_bitten', 'accrued_interest', 'interest_dripped',\n",
       "       'interest_wiped', 'interest_bitten', 'w_1', 'w_2', 'w_3',\n",
       "       'system_revenue', 'stability_fee', 'market_price', 'market_price_twap',\n",
       "       'target_price', 'target_rate', 'eth_return', 'eth_gross_return',\n",
       "       'expected_market_price', 'expected_debt_price', 'error_star',\n",
       "       'error_star_integral', 'market_slippage', 'RAI_balance', 'ETH_balance',\n",
       "       'UNI_supply', 'uniswap_oracle', 'simulation', 'subset', 'run',\n",
       "       'substep', 'timestep', 'events', 'eth_collateral_value',\n",
       "       'collateralization_ratio', 'ki', 'kp', 'liquidation_ratio',\n",
       "       'target_price_scaled'],\n",
       "      dtype='object')"
      ]
     },
     "execution_count": 11,
     "metadata": {},
     "output_type": "execute_result"
    }
   ],
   "source": [
    "df.columns"
   ]
  },
  {
   "cell_type": "markdown",
   "metadata": {},
   "source": [
    "### Generate key plots for analysis"
   ]
  },
  {
   "cell_type": "code",
   "execution_count": 12,
   "metadata": {},
   "outputs": [
    {
     "data": {
      "image/png": "[encoded data removed]",
      "text/plain": [
       "<Figure size 432x288 with 2 Axes>"
      ]
     },
     "metadata": {
      "needs_background": "light"
     },
     "output_type": "display_data"
    }
   ],
   "source": [
    "sns.lineplot(data=df,x=\"timestamp\", y=\"eth_price\",label='Generated Eth price')\n",
    "plt.ylim(250, 600)\n",
    "ax2 = plt.twinx()\n",
    "sns.lineplot(data=df,x=\"timestamp\", y=\"market_price\",ax=ax2,color='r',label='Market Price in Rai')\n",
    "sns.lineplot(data=df,x=\"timestamp\", y=\"target_price_scaled\",ax=ax2,color='g',label='Redemption Price in Rai')\n",
    "plt.title('Generated Eth price vs Simulation Market and Redemption Prices')\n",
    "plt.legend(loc=\"upper left\")\n",
    "plt.savefig('experiments/system_model_v3/ideal_params/ideal_params.png')"
   ]
  },
  {
   "cell_type": "code",
   "execution_count": 13,
   "metadata": {},
   "outputs": [
    {
     "data": {
      "image/png": "[encoded data removed]",
      "text/plain": [
       "<Figure size 432x288 with 1 Axes>"
      ]
     },
     "metadata": {
      "needs_background": "light"
     },
     "output_type": "display_data"
    }
   ],
   "source": [
    "sns.lineplot(data=df,x=\"timestamp\", y=\"RAI_balance\",color='r',label='Rai Balance in Rai')\n",
    "sns.lineplot(data=df,x=\"timestamp\", y=\"principal_debt\",color='g',label='CDP total debt (RAI)')\n",
    "plt.title('RAI balances in CDP/Uniswap')\n",
    "plt.legend(loc=\"upper left\")\n",
    "plt.savefig('experiments/system_model_v3/ideal_params/RAI_balances_in_CDPUniswap.png')"
   ]
  },
  {
   "cell_type": "code",
   "execution_count": 14,
   "metadata": {},
   "outputs": [
    {
     "data": {
      "image/png": "[encoded data removed]",
      "text/plain": [
       "<Figure size 432x288 with 1 Axes>"
      ]
     },
     "metadata": {
      "needs_background": "light"
     },
     "output_type": "display_data"
    }
   ],
   "source": [
    "sns.lineplot(data=df,x=\"timestamp\", y=\"eth_locked\",label='Total Eth locked')\n",
    "plt.legend(loc=\"upper left\")\n",
    "plt.show()"
   ]
  },
  {
   "cell_type": "code",
   "execution_count": 15,
   "metadata": {},
   "outputs": [
    {
     "data": {
      "image/png": "[encoded data removed]",
      "text/plain": [
       "<Figure size 432x288 with 1 Axes>"
      ]
     },
     "metadata": {
      "needs_background": "light"
     },
     "output_type": "display_data"
    }
   ],
   "source": [
    "sns.lineplot(data=df,x=\"timestamp\", y=\"target_rate\",label='Redemption Rate')\n",
    "plt.legend(loc=\"upper left\")\n",
    "plt.show()"
   ]
  },
  {
   "cell_type": "code",
   "execution_count": 16,
   "metadata": {},
   "outputs": [
    {
     "data": {
      "image/png": "[encoded data removed]",
      "text/plain": [
       "<Figure size 432x288 with 1 Axes>"
      ]
     },
     "metadata": {
      "needs_background": "light"
     },
     "output_type": "display_data"
    }
   ],
   "source": [
    "sns.lineplot(data=df,x=\"timestamp\", y=\"ETH_balance\",label='Eth Balance')\n",
    "plt.legend(loc=\"upper left\")\n",
    "plt.show()"
   ]
  },
  {
   "cell_type": "code",
   "execution_count": 17,
   "metadata": {},
   "outputs": [
    {
     "data": {
      "image/png": "[encoded data removed]",
      "text/plain": [
       "<Figure size 432x288 with 1 Axes>"
      ]
     },
     "metadata": {
      "needs_background": "light"
     },
     "output_type": "display_data"
    }
   ],
   "source": [
    "sns.lineplot(data=df,x=\"timestamp\", y=\"RAI_balance\",label='Rai Balance')\n",
    "plt.legend(loc=\"upper left\")\n",
    "plt.show()"
   ]
  },
  {
   "cell_type": "markdown",
   "metadata": {},
   "source": [
    "## Conclusion\n",
    "\n",
    "Redemption price and Market price decline. Perform queries to understand why"
   ]
  }
 ],
 "metadata": {
  "jupytext": {
   "cell_metadata_filter": "-all",
   "encoding": "# -*- coding: utf-8 -*-",
   "formats": "ipynb,py:percent"
  },
  "kernelspec": {
   "display_name": "Python 3",
   "language": "python",
   "name": "python3"
  },
  "language_info": {
   "codemirror_mode": {
    "name": "ipython",
    "version": 3
   },
   "file_extension": ".py",
   "mimetype": "text/x-python",
   "name": "python",
   "nbconvert_exporter": "python",
   "pygments_lexer": "ipython3",
   "version": "3.8.3"
  }
 },
 "nbformat": 4,
 "nbformat_minor": 4
}
