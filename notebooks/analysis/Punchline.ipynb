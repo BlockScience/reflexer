{
 "cells": [
  {
   "cell_type": "markdown",
   "metadata": {},
   "source": [
    "# System Model V3 - Punchline simulation\n",
    "\n",
    "The purpose of this notebook is to simulate a single run of the full CDP and APT system model, using a stochastic Ethereum price and liquidity demand process as a driver.\n",
    "\n",
    "\n",
    "We want to run a basic simuluation in order to serve as a sanity check. We want the simulation to have no liquidity shocks, the controller on and off, to show the difference, arbitrageur considers the liquidation ratio, and target price scaling. The market price presented should be stable and should reflect the movement and volatility of the realized sample path of the ETH price.\n",
    "\n",
    "In order to test this, configure the following experiment [punchline.py](https://github.com/BlockScience/reflexer/blob/experiment-analysis/experiments/system_model_v3/punchline.py). We use the recommended params with a sweep of controller on/off. Run run this simulation, we create a directory in the ```experiments/system_model_v3``` called ```punchline/```,and add a ```logs/``` directory inside of it.\n",
    "\n",
    "Assuming our we have all of the requirements required (run requirements.txt from the ```reflexer/``` root directory to be sure) and assuming our terminal is in the root directory, we run the follow to run the simulation:\n",
    "\n",
    "```bash\n",
    "python -m experiments.system_model_v3.recommended_params\n",
    "```\n",
    "And our simulation will run. The resulting [run log](https://github.com/BlockScience/reflexer/blob/experiment-analysis/experiments/system_model_v3/punchline/experiment_run_log.md)\n",
    " can be found in the ```experiments/system_model_v3/punchline/``` directory, along with the simulation results stored as ```experiment_results.hdf5```\n",
    "\n",
    "\n",
    "Below we will import and examine the simulation results.\n"
   ]
  },
  {
   "cell_type": "code",
   "execution_count": 1,
   "metadata": {},
   "outputs": [],
   "source": [
    "# import libraries\n",
    "import pandas as pd\n",
    "import matplotlib.pyplot as plt\n",
    "import seaborn as sns\n",
    "import os\n",
    "\n",
    "%matplotlib inline"
   ]
  },
  {
   "cell_type": "markdown",
   "metadata": {},
   "source": [
    "## Import simulation run data\n"
   ]
  },
  {
   "cell_type": "code",
   "execution_count": 2,
   "metadata": {},
   "outputs": [
    {
     "data": {
      "text/plain": [
       "'/home/aclarkdata/repos/reflexer/notebooks/analysis'"
      ]
     },
     "execution_count": 2,
     "metadata": {},
     "output_type": "execute_result"
    }
   ],
   "source": [
    "os.getcwd()"
   ]
  },
  {
   "cell_type": "code",
   "execution_count": 3,
   "metadata": {},
   "outputs": [
    {
     "data": {
      "text/plain": [
       "'/home/aclarkdata/repos/reflexer'"
      ]
     },
     "execution_count": 3,
     "metadata": {},
     "output_type": "execute_result"
    }
   ],
   "source": [
    "os.chdir('../../')\n",
    "os.getcwd()"
   ]
  },
  {
   "cell_type": "code",
   "execution_count": 4,
   "metadata": {},
   "outputs": [],
   "source": [
    "experiment_results = 'experiments/system_model_v3/punchline/experiment_results.hdf5'\n",
    "experiment_results_keys = []\n",
    "with pd.HDFStore(experiment_results) as store:\n",
    "    experiment_results_keys = list(filter(lambda x: \"results\" in x, store.keys()))\n",
    "    exceptions_keys = list(filter(lambda x: \"exceptions\" in x, store.keys()))"
   ]
  },
  {
   "cell_type": "code",
   "execution_count": 5,
   "metadata": {},
   "outputs": [
    {
     "data": {
      "text/plain": [
       "['/results_2021-04-01T13:46:42.712218',\n",
       " '/results_2021-04-01T14:33:48.810414',\n",
       " '/results_2021-04-01T15:51:20.021905']"
      ]
     },
     "execution_count": 5,
     "metadata": {},
     "output_type": "execute_result"
    }
   ],
   "source": [
    "# A list of all experiment result keys\n",
    "experiment_results_keys"
   ]
  },
  {
   "cell_type": "code",
   "execution_count": 6,
   "metadata": {},
   "outputs": [
    {
     "data": {
      "text/plain": [
       "'/results_2021-04-01T15:51:20.021905'"
      ]
     },
     "execution_count": 6,
     "metadata": {},
     "output_type": "execute_result"
    }
   ],
   "source": [
    "# Copy a results_ key from the above keys to select the experiment\n",
    "experiment_results_key = experiment_results_keys[-1]#'results_2021-02-09T18:46:33.073363' # Or select last result: experiment_results_keys[-1]\n",
    "experiment_timestamp = experiment_results_key.strip('results_')\n",
    "exceptions_key = 'exceptions_' + experiment_timestamp\n",
    "experiment_timestamp"
   ]
  },
  {
   "cell_type": "code",
   "execution_count": 7,
   "metadata": {},
   "outputs": [
    {
     "data": {
      "text/html": [
       "<div>\n",
       "<style scoped>\n",
       "    .dataframe tbody tr th:only-of-type {\n",
       "        vertical-align: middle;\n",
       "    }\n",
       "\n",
       "    .dataframe tbody tr th {\n",
       "        vertical-align: top;\n",
       "    }\n",
       "\n",
       "    .dataframe thead th {\n",
       "        text-align: right;\n",
       "    }\n",
       "</style>\n",
       "<table border=\"1\" class=\"dataframe\">\n",
       "  <thead>\n",
       "    <tr style=\"text-align: right;\">\n",
       "      <th></th>\n",
       "      <th>cdp_metrics</th>\n",
       "      <th>optimal_values</th>\n",
       "      <th>sim_metrics</th>\n",
       "      <th>timedelta</th>\n",
       "      <th>cumulative_time</th>\n",
       "      <th>timestamp</th>\n",
       "      <th>blockheight</th>\n",
       "      <th>eth_price</th>\n",
       "      <th>liquidity_demand</th>\n",
       "      <th>liquidity_demand_mean</th>\n",
       "      <th>...</th>\n",
       "      <th>RAI_balance</th>\n",
       "      <th>ETH_balance</th>\n",
       "      <th>UNI_supply</th>\n",
       "      <th>uniswap_oracle</th>\n",
       "      <th>simulation</th>\n",
       "      <th>subset</th>\n",
       "      <th>run</th>\n",
       "      <th>substep</th>\n",
       "      <th>timestep</th>\n",
       "      <th>events</th>\n",
       "    </tr>\n",
       "  </thead>\n",
       "  <tbody>\n",
       "    <tr>\n",
       "      <th>7873</th>\n",
       "      <td>{'cdp_count': 1, 'open_cdp_count': 1, 'closed_...</td>\n",
       "      <td>{}</td>\n",
       "      <td>{}</td>\n",
       "      <td>3600</td>\n",
       "      <td>28342800</td>\n",
       "      <td>2017-11-25 01:00:00</td>\n",
       "      <td>0</td>\n",
       "      <td>274.823941</td>\n",
       "      <td>-0.011355</td>\n",
       "      <td>-45058.771979</td>\n",
       "      <td>...</td>\n",
       "      <td>317853.747941</td>\n",
       "      <td>391.445134</td>\n",
       "      <td>92677.29113</td>\n",
       "      <td>None</td>\n",
       "      <td>0</td>\n",
       "      <td>0</td>\n",
       "      <td>1</td>\n",
       "      <td>18</td>\n",
       "      <td>7873</td>\n",
       "      <td>NaN</td>\n",
       "    </tr>\n",
       "    <tr>\n",
       "      <th>7874</th>\n",
       "      <td>{'cdp_count': 1, 'open_cdp_count': 1, 'closed_...</td>\n",
       "      <td>{}</td>\n",
       "      <td>{}</td>\n",
       "      <td>3600</td>\n",
       "      <td>28346400</td>\n",
       "      <td>2017-11-25 02:00:00</td>\n",
       "      <td>0</td>\n",
       "      <td>273.686836</td>\n",
       "      <td>1114.299531</td>\n",
       "      <td>-21972.236224</td>\n",
       "      <td>...</td>\n",
       "      <td>212525.322608</td>\n",
       "      <td>586.040968</td>\n",
       "      <td>92677.29113</td>\n",
       "      <td>None</td>\n",
       "      <td>0</td>\n",
       "      <td>0</td>\n",
       "      <td>1</td>\n",
       "      <td>18</td>\n",
       "      <td>7874</td>\n",
       "      <td>NaN</td>\n",
       "    </tr>\n",
       "    <tr>\n",
       "      <th>7875</th>\n",
       "      <td>{'cdp_count': 1, 'open_cdp_count': 1, 'closed_...</td>\n",
       "      <td>{}</td>\n",
       "      <td>{}</td>\n",
       "      <td>3600</td>\n",
       "      <td>28350000</td>\n",
       "      <td>2017-11-25 03:00:00</td>\n",
       "      <td>0</td>\n",
       "      <td>273.525417</td>\n",
       "      <td>68.862683</td>\n",
       "      <td>-10951.686771</td>\n",
       "      <td>...</td>\n",
       "      <td>141372.425862</td>\n",
       "      <td>881.884985</td>\n",
       "      <td>92677.29113</td>\n",
       "      <td>None</td>\n",
       "      <td>0</td>\n",
       "      <td>0</td>\n",
       "      <td>1</td>\n",
       "      <td>18</td>\n",
       "      <td>7875</td>\n",
       "      <td>NaN</td>\n",
       "    </tr>\n",
       "    <tr>\n",
       "      <th>7876</th>\n",
       "      <td>{'cdp_count': 1, 'open_cdp_count': 1, 'closed_...</td>\n",
       "      <td>{}</td>\n",
       "      <td>{}</td>\n",
       "      <td>3600</td>\n",
       "      <td>28353600</td>\n",
       "      <td>2017-11-25 04:00:00</td>\n",
       "      <td>0</td>\n",
       "      <td>274.080243</td>\n",
       "      <td>1.392116</td>\n",
       "      <td>-5475.147327</td>\n",
       "      <td>...</td>\n",
       "      <td>132275.892945</td>\n",
       "      <td>942.714222</td>\n",
       "      <td>92677.29113</td>\n",
       "      <td>None</td>\n",
       "      <td>0</td>\n",
       "      <td>0</td>\n",
       "      <td>1</td>\n",
       "      <td>18</td>\n",
       "      <td>7876</td>\n",
       "      <td>NaN</td>\n",
       "    </tr>\n",
       "    <tr>\n",
       "      <th>7877</th>\n",
       "      <td>{'cdp_count': 1, 'open_cdp_count': 1, 'closed_...</td>\n",
       "      <td>{}</td>\n",
       "      <td>{}</td>\n",
       "      <td>3600</td>\n",
       "      <td>28357200</td>\n",
       "      <td>2017-11-25 05:00:00</td>\n",
       "      <td>0</td>\n",
       "      <td>272.504025</td>\n",
       "      <td>47.867926</td>\n",
       "      <td>-2713.639701</td>\n",
       "      <td>...</td>\n",
       "      <td>169000.301493</td>\n",
       "      <td>738.340341</td>\n",
       "      <td>92677.29113</td>\n",
       "      <td>&lt;models.system_model_v3.model.parts.uniswap_or...</td>\n",
       "      <td>0</td>\n",
       "      <td>0</td>\n",
       "      <td>1</td>\n",
       "      <td>18</td>\n",
       "      <td>7877</td>\n",
       "      <td>NaN</td>\n",
       "    </tr>\n",
       "  </tbody>\n",
       "</table>\n",
       "<p>5 rows × 47 columns</p>\n",
       "</div>"
      ],
      "text/plain": [
       "                                            cdp_metrics optimal_values  \\\n",
       "7873  {'cdp_count': 1, 'open_cdp_count': 1, 'closed_...             {}   \n",
       "7874  {'cdp_count': 1, 'open_cdp_count': 1, 'closed_...             {}   \n",
       "7875  {'cdp_count': 1, 'open_cdp_count': 1, 'closed_...             {}   \n",
       "7876  {'cdp_count': 1, 'open_cdp_count': 1, 'closed_...             {}   \n",
       "7877  {'cdp_count': 1, 'open_cdp_count': 1, 'closed_...             {}   \n",
       "\n",
       "     sim_metrics  timedelta  cumulative_time           timestamp  blockheight  \\\n",
       "7873          {}       3600         28342800 2017-11-25 01:00:00            0   \n",
       "7874          {}       3600         28346400 2017-11-25 02:00:00            0   \n",
       "7875          {}       3600         28350000 2017-11-25 03:00:00            0   \n",
       "7876          {}       3600         28353600 2017-11-25 04:00:00            0   \n",
       "7877          {}       3600         28357200 2017-11-25 05:00:00            0   \n",
       "\n",
       "       eth_price  liquidity_demand  liquidity_demand_mean  ...    RAI_balance  \\\n",
       "7873  274.823941         -0.011355          -45058.771979  ...  317853.747941   \n",
       "7874  273.686836       1114.299531          -21972.236224  ...  212525.322608   \n",
       "7875  273.525417         68.862683          -10951.686771  ...  141372.425862   \n",
       "7876  274.080243          1.392116           -5475.147327  ...  132275.892945   \n",
       "7877  272.504025         47.867926           -2713.639701  ...  169000.301493   \n",
       "\n",
       "      ETH_balance   UNI_supply  \\\n",
       "7873   391.445134  92677.29113   \n",
       "7874   586.040968  92677.29113   \n",
       "7875   881.884985  92677.29113   \n",
       "7876   942.714222  92677.29113   \n",
       "7877   738.340341  92677.29113   \n",
       "\n",
       "                                         uniswap_oracle  simulation  subset  \\\n",
       "7873                                               None           0       0   \n",
       "7874                                               None           0       0   \n",
       "7875                                               None           0       0   \n",
       "7876                                               None           0       0   \n",
       "7877  <models.system_model_v3.model.parts.uniswap_or...           0       0   \n",
       "\n",
       "      run  substep  timestep  events  \n",
       "7873    1       18      7873     NaN  \n",
       "7874    1       18      7874     NaN  \n",
       "7875    1       18      7875     NaN  \n",
       "7876    1       18      7876     NaN  \n",
       "7877    1       18      7877     NaN  \n",
       "\n",
       "[5 rows x 47 columns]"
      ]
     },
     "execution_count": 7,
     "metadata": {},
     "output_type": "execute_result"
    }
   ],
   "source": [
    "df_raw = pd.read_hdf(experiment_results, experiment_results_key)\n",
    "df_raw.tail()"
   ]
  },
  {
   "cell_type": "markdown",
   "metadata": {},
   "source": [
    "## Post process"
   ]
  },
  {
   "cell_type": "code",
   "execution_count": 8,
   "metadata": {},
   "outputs": [],
   "source": [
    "from experiments.system_model_v3.post_process import post_process_results\n",
    "from experiments.system_model_v3.punchline import params, SIMULATION_TIMESTEPS"
   ]
  },
  {
   "cell_type": "code",
   "execution_count": 9,
   "metadata": {},
   "outputs": [
    {
     "name": "stdout",
     "output_type": "stream",
     "text": [
      "Adding new columns\n",
      "0.06318855285644531\n",
      "Getting parameter sweep\n",
      "0.06328916549682617\n",
      "Assigning parameters to subsets\n",
      "0.10325336456298828\n",
      "Creating target_price_scaled\n",
      "0.10902118682861328\n"
     ]
    },
    {
     "data": {
      "text/html": [
       "<div>\n",
       "<style scoped>\n",
       "    .dataframe tbody tr th:only-of-type {\n",
       "        vertical-align: middle;\n",
       "    }\n",
       "\n",
       "    .dataframe tbody tr th {\n",
       "        vertical-align: top;\n",
       "    }\n",
       "\n",
       "    .dataframe thead th {\n",
       "        text-align: right;\n",
       "    }\n",
       "</style>\n",
       "<table border=\"1\" class=\"dataframe\">\n",
       "  <thead>\n",
       "    <tr style=\"text-align: right;\">\n",
       "      <th></th>\n",
       "      <th>cdp_metrics</th>\n",
       "      <th>optimal_values</th>\n",
       "      <th>sim_metrics</th>\n",
       "      <th>timedelta</th>\n",
       "      <th>cumulative_time</th>\n",
       "      <th>timestamp</th>\n",
       "      <th>blockheight</th>\n",
       "      <th>eth_price</th>\n",
       "      <th>liquidity_demand</th>\n",
       "      <th>liquidity_demand_mean</th>\n",
       "      <th>...</th>\n",
       "      <th>substep</th>\n",
       "      <th>timestep</th>\n",
       "      <th>events</th>\n",
       "      <th>eth_collateral_value</th>\n",
       "      <th>collateralization_ratio</th>\n",
       "      <th>ki</th>\n",
       "      <th>kp</th>\n",
       "      <th>liquidation_ratio</th>\n",
       "      <th>controller_enabled</th>\n",
       "      <th>target_price_scaled</th>\n",
       "    </tr>\n",
       "  </thead>\n",
       "  <tbody>\n",
       "    <tr>\n",
       "      <th>0</th>\n",
       "      <td>{}</td>\n",
       "      <td>{}</td>\n",
       "      <td>{}</td>\n",
       "      <td>0</td>\n",
       "      <td>0</td>\n",
       "      <td>2017-01-01 00:00:00</td>\n",
       "      <td>0</td>\n",
       "      <td>294.069151</td>\n",
       "      <td>1.000000</td>\n",
       "      <td>1.000000</td>\n",
       "      <td>...</td>\n",
       "      <td>0</td>\n",
       "      <td>0</td>\n",
       "      <td>NaN</td>\n",
       "      <td>4.553000e+07</td>\n",
       "      <td>1.450000</td>\n",
       "      <td>-5.000000e-09</td>\n",
       "      <td>2.000000e-07</td>\n",
       "      <td>1.45</td>\n",
       "      <td>True</td>\n",
       "      <td>4.553000</td>\n",
       "    </tr>\n",
       "    <tr>\n",
       "      <th>1</th>\n",
       "      <td>{'cdp_count': 1, 'open_cdp_count': 1, 'closed_...</td>\n",
       "      <td>{}</td>\n",
       "      <td>{}</td>\n",
       "      <td>3600</td>\n",
       "      <td>3600</td>\n",
       "      <td>2017-01-01 01:00:00</td>\n",
       "      <td>0</td>\n",
       "      <td>291.208252</td>\n",
       "      <td>906.674484</td>\n",
       "      <td>453.837242</td>\n",
       "      <td>...</td>\n",
       "      <td>18</td>\n",
       "      <td>1</td>\n",
       "      <td>NaN</td>\n",
       "      <td>3.749497e+07</td>\n",
       "      <td>1.435893</td>\n",
       "      <td>-5.000000e-09</td>\n",
       "      <td>2.000000e-07</td>\n",
       "      <td>1.45</td>\n",
       "      <td>True</td>\n",
       "      <td>4.553000</td>\n",
       "    </tr>\n",
       "    <tr>\n",
       "      <th>2</th>\n",
       "      <td>{'cdp_count': 1, 'open_cdp_count': 1, 'closed_...</td>\n",
       "      <td>{}</td>\n",
       "      <td>{}</td>\n",
       "      <td>3600</td>\n",
       "      <td>7200</td>\n",
       "      <td>2017-01-01 02:00:00</td>\n",
       "      <td>0</td>\n",
       "      <td>292.287792</td>\n",
       "      <td>-186.992295</td>\n",
       "      <td>133.422473</td>\n",
       "      <td>...</td>\n",
       "      <td>18</td>\n",
       "      <td>2</td>\n",
       "      <td>NaN</td>\n",
       "      <td>3.763397e+07</td>\n",
       "      <td>1.455375</td>\n",
       "      <td>-5.000000e-09</td>\n",
       "      <td>2.000000e-07</td>\n",
       "      <td>1.45</td>\n",
       "      <td>True</td>\n",
       "      <td>4.553000</td>\n",
       "    </tr>\n",
       "    <tr>\n",
       "      <th>3</th>\n",
       "      <td>{'cdp_count': 1, 'open_cdp_count': 1, 'closed_...</td>\n",
       "      <td>{}</td>\n",
       "      <td>{}</td>\n",
       "      <td>3600</td>\n",
       "      <td>10800</td>\n",
       "      <td>2017-01-01 03:00:00</td>\n",
       "      <td>0</td>\n",
       "      <td>289.343698</td>\n",
       "      <td>209.658450</td>\n",
       "      <td>171.540462</td>\n",
       "      <td>...</td>\n",
       "      <td>18</td>\n",
       "      <td>3</td>\n",
       "      <td>NaN</td>\n",
       "      <td>3.725489e+07</td>\n",
       "      <td>1.435395</td>\n",
       "      <td>-5.000000e-09</td>\n",
       "      <td>2.000000e-07</td>\n",
       "      <td>1.45</td>\n",
       "      <td>True</td>\n",
       "      <td>4.553000</td>\n",
       "    </tr>\n",
       "    <tr>\n",
       "      <th>4</th>\n",
       "      <td>{'cdp_count': 1, 'open_cdp_count': 1, 'closed_...</td>\n",
       "      <td>{}</td>\n",
       "      <td>{}</td>\n",
       "      <td>3600</td>\n",
       "      <td>14400</td>\n",
       "      <td>2017-01-01 04:00:00</td>\n",
       "      <td>0</td>\n",
       "      <td>286.827771</td>\n",
       "      <td>-79.844839</td>\n",
       "      <td>45.847811</td>\n",
       "      <td>...</td>\n",
       "      <td>18</td>\n",
       "      <td>4</td>\n",
       "      <td>NaN</td>\n",
       "      <td>3.693095e+07</td>\n",
       "      <td>1.437392</td>\n",
       "      <td>-5.000000e-09</td>\n",
       "      <td>2.000000e-07</td>\n",
       "      <td>1.45</td>\n",
       "      <td>True</td>\n",
       "      <td>4.553000</td>\n",
       "    </tr>\n",
       "    <tr>\n",
       "      <th>...</th>\n",
       "      <td>...</td>\n",
       "      <td>...</td>\n",
       "      <td>...</td>\n",
       "      <td>...</td>\n",
       "      <td>...</td>\n",
       "      <td>...</td>\n",
       "      <td>...</td>\n",
       "      <td>...</td>\n",
       "      <td>...</td>\n",
       "      <td>...</td>\n",
       "      <td>...</td>\n",
       "      <td>...</td>\n",
       "      <td>...</td>\n",
       "      <td>...</td>\n",
       "      <td>...</td>\n",
       "      <td>...</td>\n",
       "      <td>...</td>\n",
       "      <td>...</td>\n",
       "      <td>...</td>\n",
       "      <td>...</td>\n",
       "      <td>...</td>\n",
       "    </tr>\n",
       "    <tr>\n",
       "      <th>7873</th>\n",
       "      <td>{'cdp_count': 1, 'open_cdp_count': 1, 'closed_...</td>\n",
       "      <td>{}</td>\n",
       "      <td>{}</td>\n",
       "      <td>3600</td>\n",
       "      <td>28342800</td>\n",
       "      <td>2017-11-25 01:00:00</td>\n",
       "      <td>0</td>\n",
       "      <td>274.823941</td>\n",
       "      <td>-0.011355</td>\n",
       "      <td>-45058.771979</td>\n",
       "      <td>...</td>\n",
       "      <td>18</td>\n",
       "      <td>7873</td>\n",
       "      <td>NaN</td>\n",
       "      <td>4.763224e+06</td>\n",
       "      <td>1.441233</td>\n",
       "      <td>-5.000000e-09</td>\n",
       "      <td>2.000000e-07</td>\n",
       "      <td>1.45</td>\n",
       "      <td>True</td>\n",
       "      <td>0.272201</td>\n",
       "    </tr>\n",
       "    <tr>\n",
       "      <th>7874</th>\n",
       "      <td>{'cdp_count': 1, 'open_cdp_count': 1, 'closed_...</td>\n",
       "      <td>{}</td>\n",
       "      <td>{}</td>\n",
       "      <td>3600</td>\n",
       "      <td>28346400</td>\n",
       "      <td>2017-11-25 02:00:00</td>\n",
       "      <td>0</td>\n",
       "      <td>273.686836</td>\n",
       "      <td>1114.299531</td>\n",
       "      <td>-21972.236224</td>\n",
       "      <td>...</td>\n",
       "      <td>18</td>\n",
       "      <td>7874</td>\n",
       "      <td>NaN</td>\n",
       "      <td>4.743516e+06</td>\n",
       "      <td>1.444098</td>\n",
       "      <td>-5.000000e-09</td>\n",
       "      <td>2.000000e-07</td>\n",
       "      <td>1.45</td>\n",
       "      <td>True</td>\n",
       "      <td>0.272182</td>\n",
       "    </tr>\n",
       "    <tr>\n",
       "      <th>7875</th>\n",
       "      <td>{'cdp_count': 1, 'open_cdp_count': 1, 'closed_...</td>\n",
       "      <td>{}</td>\n",
       "      <td>{}</td>\n",
       "      <td>3600</td>\n",
       "      <td>28350000</td>\n",
       "      <td>2017-11-25 03:00:00</td>\n",
       "      <td>0</td>\n",
       "      <td>273.525417</td>\n",
       "      <td>68.862683</td>\n",
       "      <td>-10951.686771</td>\n",
       "      <td>...</td>\n",
       "      <td>18</td>\n",
       "      <td>7875</td>\n",
       "      <td>NaN</td>\n",
       "      <td>4.740718e+06</td>\n",
       "      <td>1.449243</td>\n",
       "      <td>-5.000000e-09</td>\n",
       "      <td>2.000000e-07</td>\n",
       "      <td>1.45</td>\n",
       "      <td>True</td>\n",
       "      <td>0.272164</td>\n",
       "    </tr>\n",
       "    <tr>\n",
       "      <th>7876</th>\n",
       "      <td>{'cdp_count': 1, 'open_cdp_count': 1, 'closed_...</td>\n",
       "      <td>{}</td>\n",
       "      <td>{}</td>\n",
       "      <td>3600</td>\n",
       "      <td>28353600</td>\n",
       "      <td>2017-11-25 04:00:00</td>\n",
       "      <td>0</td>\n",
       "      <td>274.080243</td>\n",
       "      <td>1.392116</td>\n",
       "      <td>-5475.147327</td>\n",
       "      <td>...</td>\n",
       "      <td>18</td>\n",
       "      <td>7876</td>\n",
       "      <td>NaN</td>\n",
       "      <td>4.750334e+06</td>\n",
       "      <td>1.453053</td>\n",
       "      <td>-5.000000e-09</td>\n",
       "      <td>2.000000e-07</td>\n",
       "      <td>1.45</td>\n",
       "      <td>True</td>\n",
       "      <td>0.272143</td>\n",
       "    </tr>\n",
       "    <tr>\n",
       "      <th>7877</th>\n",
       "      <td>{'cdp_count': 1, 'open_cdp_count': 1, 'closed_...</td>\n",
       "      <td>{}</td>\n",
       "      <td>{}</td>\n",
       "      <td>3600</td>\n",
       "      <td>28357200</td>\n",
       "      <td>2017-11-25 05:00:00</td>\n",
       "      <td>0</td>\n",
       "      <td>272.504025</td>\n",
       "      <td>47.867926</td>\n",
       "      <td>-2713.639701</td>\n",
       "      <td>...</td>\n",
       "      <td>18</td>\n",
       "      <td>7877</td>\n",
       "      <td>NaN</td>\n",
       "      <td>4.723015e+06</td>\n",
       "      <td>1.441772</td>\n",
       "      <td>-5.000000e-09</td>\n",
       "      <td>2.000000e-07</td>\n",
       "      <td>1.45</td>\n",
       "      <td>True</td>\n",
       "      <td>0.272122</td>\n",
       "    </tr>\n",
       "  </tbody>\n",
       "</table>\n",
       "<p>7878 rows × 54 columns</p>\n",
       "</div>"
      ],
      "text/plain": [
       "                                            cdp_metrics optimal_values  \\\n",
       "0                                                    {}             {}   \n",
       "1     {'cdp_count': 1, 'open_cdp_count': 1, 'closed_...             {}   \n",
       "2     {'cdp_count': 1, 'open_cdp_count': 1, 'closed_...             {}   \n",
       "3     {'cdp_count': 1, 'open_cdp_count': 1, 'closed_...             {}   \n",
       "4     {'cdp_count': 1, 'open_cdp_count': 1, 'closed_...             {}   \n",
       "...                                                 ...            ...   \n",
       "7873  {'cdp_count': 1, 'open_cdp_count': 1, 'closed_...             {}   \n",
       "7874  {'cdp_count': 1, 'open_cdp_count': 1, 'closed_...             {}   \n",
       "7875  {'cdp_count': 1, 'open_cdp_count': 1, 'closed_...             {}   \n",
       "7876  {'cdp_count': 1, 'open_cdp_count': 1, 'closed_...             {}   \n",
       "7877  {'cdp_count': 1, 'open_cdp_count': 1, 'closed_...             {}   \n",
       "\n",
       "     sim_metrics  timedelta  cumulative_time           timestamp  blockheight  \\\n",
       "0             {}          0                0 2017-01-01 00:00:00            0   \n",
       "1             {}       3600             3600 2017-01-01 01:00:00            0   \n",
       "2             {}       3600             7200 2017-01-01 02:00:00            0   \n",
       "3             {}       3600            10800 2017-01-01 03:00:00            0   \n",
       "4             {}       3600            14400 2017-01-01 04:00:00            0   \n",
       "...          ...        ...              ...                 ...          ...   \n",
       "7873          {}       3600         28342800 2017-11-25 01:00:00            0   \n",
       "7874          {}       3600         28346400 2017-11-25 02:00:00            0   \n",
       "7875          {}       3600         28350000 2017-11-25 03:00:00            0   \n",
       "7876          {}       3600         28353600 2017-11-25 04:00:00            0   \n",
       "7877          {}       3600         28357200 2017-11-25 05:00:00            0   \n",
       "\n",
       "       eth_price  liquidity_demand  liquidity_demand_mean  ... substep  \\\n",
       "0     294.069151          1.000000               1.000000  ...       0   \n",
       "1     291.208252        906.674484             453.837242  ...      18   \n",
       "2     292.287792       -186.992295             133.422473  ...      18   \n",
       "3     289.343698        209.658450             171.540462  ...      18   \n",
       "4     286.827771        -79.844839              45.847811  ...      18   \n",
       "...          ...               ...                    ...  ...     ...   \n",
       "7873  274.823941         -0.011355          -45058.771979  ...      18   \n",
       "7874  273.686836       1114.299531          -21972.236224  ...      18   \n",
       "7875  273.525417         68.862683          -10951.686771  ...      18   \n",
       "7876  274.080243          1.392116           -5475.147327  ...      18   \n",
       "7877  272.504025         47.867926           -2713.639701  ...      18   \n",
       "\n",
       "      timestep  events  eth_collateral_value  collateralization_ratio  \\\n",
       "0            0     NaN          4.553000e+07                 1.450000   \n",
       "1            1     NaN          3.749497e+07                 1.435893   \n",
       "2            2     NaN          3.763397e+07                 1.455375   \n",
       "3            3     NaN          3.725489e+07                 1.435395   \n",
       "4            4     NaN          3.693095e+07                 1.437392   \n",
       "...        ...     ...                   ...                      ...   \n",
       "7873      7873     NaN          4.763224e+06                 1.441233   \n",
       "7874      7874     NaN          4.743516e+06                 1.444098   \n",
       "7875      7875     NaN          4.740718e+06                 1.449243   \n",
       "7876      7876     NaN          4.750334e+06                 1.453053   \n",
       "7877      7877     NaN          4.723015e+06                 1.441772   \n",
       "\n",
       "                ki            kp  liquidation_ratio  controller_enabled  \\\n",
       "0    -5.000000e-09  2.000000e-07               1.45                True   \n",
       "1    -5.000000e-09  2.000000e-07               1.45                True   \n",
       "2    -5.000000e-09  2.000000e-07               1.45                True   \n",
       "3    -5.000000e-09  2.000000e-07               1.45                True   \n",
       "4    -5.000000e-09  2.000000e-07               1.45                True   \n",
       "...            ...           ...                ...                 ...   \n",
       "7873 -5.000000e-09  2.000000e-07               1.45                True   \n",
       "7874 -5.000000e-09  2.000000e-07               1.45                True   \n",
       "7875 -5.000000e-09  2.000000e-07               1.45                True   \n",
       "7876 -5.000000e-09  2.000000e-07               1.45                True   \n",
       "7877 -5.000000e-09  2.000000e-07               1.45                True   \n",
       "\n",
       "      target_price_scaled  \n",
       "0                4.553000  \n",
       "1                4.553000  \n",
       "2                4.553000  \n",
       "3                4.553000  \n",
       "4                4.553000  \n",
       "...                   ...  \n",
       "7873             0.272201  \n",
       "7874             0.272182  \n",
       "7875             0.272164  \n",
       "7876             0.272143  \n",
       "7877             0.272122  \n",
       "\n",
       "[7878 rows x 54 columns]"
      ]
     },
     "execution_count": 9,
     "metadata": {},
     "output_type": "execute_result"
    }
   ],
   "source": [
    "df = post_process_results(df_raw, params, set_params=['ki', 'kp', 'liquidation_ratio','controller_enabled'])\n",
    "df"
   ]
  },
  {
   "cell_type": "markdown",
   "metadata": {},
   "source": [
    "# Simulation Analysis"
   ]
  },
  {
   "cell_type": "code",
   "execution_count": 10,
   "metadata": {},
   "outputs": [
    {
     "data": {
      "text/plain": [
       "array([ 0, 18])"
      ]
     },
     "execution_count": 10,
     "metadata": {},
     "output_type": "execute_result"
    }
   ],
   "source": [
    "df.substep.unique()"
   ]
  },
  {
   "cell_type": "code",
   "execution_count": 11,
   "metadata": {},
   "outputs": [
    {
     "data": {
      "text/plain": [
       "array([0])"
      ]
     },
     "execution_count": 11,
     "metadata": {},
     "output_type": "execute_result"
    }
   ],
   "source": [
    "df.subset.unique()"
   ]
  },
  {
   "cell_type": "code",
   "execution_count": 12,
   "metadata": {},
   "outputs": [
    {
     "data": {
      "text/plain": [
       "Index(['cdp_metrics', 'optimal_values', 'sim_metrics', 'timedelta',\n",
       "       'cumulative_time', 'timestamp', 'blockheight', 'eth_price',\n",
       "       'liquidity_demand', 'liquidity_demand_mean', 'cdps', 'eth_collateral',\n",
       "       'eth_locked', 'eth_freed', 'eth_bitten', 'principal_debt', 'rai_drawn',\n",
       "       'rai_wiped', 'rai_bitten', 'accrued_interest', 'interest_bitten', 'w_1',\n",
       "       'w_2', 'w_3', 'system_revenue', 'stability_fee', 'market_price',\n",
       "       'market_price_twap', 'target_price', 'target_rate', 'eth_return',\n",
       "       'eth_gross_return', 'expected_market_price', 'expected_debt_price',\n",
       "       'error_star', 'error_star_integral', 'market_slippage', 'RAI_balance',\n",
       "       'ETH_balance', 'UNI_supply', 'uniswap_oracle', 'simulation', 'subset',\n",
       "       'run', 'substep', 'timestep', 'events', 'eth_collateral_value',\n",
       "       'collateralization_ratio', 'ki', 'kp', 'liquidation_ratio',\n",
       "       'controller_enabled', 'target_price_scaled'],\n",
       "      dtype='object')"
      ]
     },
     "execution_count": 12,
     "metadata": {},
     "output_type": "execute_result"
    }
   ],
   "source": [
    "df.columns"
   ]
  },
  {
   "cell_type": "markdown",
   "metadata": {},
   "source": [
    "### Generate key plots for analysis"
   ]
  },
  {
   "cell_type": "code",
   "execution_count": 13,
   "metadata": {},
   "outputs": [],
   "source": [
    "df = df.iloc[1:]\n",
    "controller_on = df.query('controller_enabled==True')\n",
    "\n",
    "# calculate errors\n",
    "\n",
    "controller_on['error'] = controller_on['target_price'] - controller_on['market_price']\n",
    "controller_on['error_integral'] = controller_on['error'].cumsum()"
   ]
  },
  {
   "cell_type": "code",
   "execution_count": null,
   "metadata": {},
   "outputs": [],
   "source": [
    "sns.lineplot(data=controller_on,x=\"timestamp\", y=\"eth_price\",label='Generated Eth price')\n",
    "ax2 = plt.twinx()\n",
    "sns.lineplot(data=controller_on,x=\"timestamp\", y=\"market_price\",ax=ax2,color='r',label='Market Price in Rai')\n",
    "sns.lineplot(data=controller_on,x=\"timestamp\", y=\"target_price\",ax=ax2,color='g',label='Redemption Price in Rai')\n",
    "plt.title('Generated Eth price vs Simulation Market and Redemption Prices')\n",
    "plt.legend(loc=\"upper left\")\n",
    "plt.savefig('experiments/system_model_v3/punchline/punchline.png')"
   ]
  },
  {
   "cell_type": "code",
   "execution_count": 15,
   "metadata": {},
   "outputs": [
    {
     "data": {
      "text/plain": [
       "<matplotlib.axes._subplots.AxesSubplot at 0x7f24326c1f10>"
      ]
     },
     "execution_count": 15,
     "metadata": {},
     "output_type": "execute_result"
    },
    {
     "data": {
      "image/png": "[encoded data removed]",
      "text/plain": [
       "<Figure size 432x288 with 1 Axes>"
      ]
     },
     "metadata": {
      "needs_background": "light"
     },
     "output_type": "display_data"
    }
   ],
   "source": [
    "controller_on.plot(x='timestamp',y='error',kind='line',title='Error')"
   ]
  },
  {
   "cell_type": "code",
   "execution_count": 16,
   "metadata": {},
   "outputs": [
    {
     "data": {
      "text/plain": [
       "<matplotlib.axes._subplots.AxesSubplot at 0x7f243278afd0>"
      ]
     },
     "execution_count": 16,
     "metadata": {},
     "output_type": "execute_result"
    },
    {
     "data": {
      "image/png": "[encoded data removed]",
      "text/plain": [
       "<Figure size 432x288 with 1 Axes>"
      ]
     },
     "metadata": {
      "needs_background": "light"
     },
     "output_type": "display_data"
    }
   ],
   "source": [
    "controller_on.plot(x='timestamp',y='error_integral',kind='line',title='Steady state error')"
   ]
  },
  {
   "cell_type": "code",
   "execution_count": 17,
   "metadata": {},
   "outputs": [
    {
     "data": {
      "text/plain": [
       "Text(0.5, 1.0, 'Simulation Market and Redemption Prices')"
      ]
     },
     "execution_count": 17,
     "metadata": {},
     "output_type": "execute_result"
    },
    {
     "data": {
      "image/png": "[encoded data removed]",
      "text/plain": [
       "<Figure size 432x288 with 1 Axes>"
      ]
     },
     "metadata": {
      "needs_background": "light"
     },
     "output_type": "display_data"
    }
   ],
   "source": [
    "sns.lineplot(data=controller_on,x=\"timestamp\", y=\"market_price\",color='r',label='Market Price in Rai')\n",
    "sns.lineplot(data=controller_on,x=\"timestamp\", y=\"target_price\",color='g',label='Redemption Price in Rai')\n",
    "plt.title('Simulation Market and Redemption Prices')"
   ]
  },
  {
   "cell_type": "code",
   "execution_count": 18,
   "metadata": {},
   "outputs": [
    {
     "data": {
      "image/png": "[encoded data removed]",
      "text/plain": [
       "<Figure size 432x288 with 1 Axes>"
      ]
     },
     "metadata": {
      "needs_background": "light"
     },
     "output_type": "display_data"
    }
   ],
   "source": [
    "sns.lineplot(data=controller_on,x=\"timestamp\", y=\"target_rate\",label='Redemption Rate')\n",
    "plt.legend(loc=\"upper left\")\n",
    "plt.show()"
   ]
  },
  {
   "cell_type": "code",
   "execution_count": 19,
   "metadata": {},
   "outputs": [
    {
     "data": {
      "text/plain": [
       "Text(0.5, 1.0, 'RAI balance')"
      ]
     },
     "execution_count": 19,
     "metadata": {},
     "output_type": "execute_result"
    },
    {
     "data": {
      "image/png": "[encoded data removed]",
      "text/plain": [
       "<Figure size 432x288 with 1 Axes>"
      ]
     },
     "metadata": {
      "needs_background": "light"
     },
     "output_type": "display_data"
    }
   ],
   "source": [
    "sns.lineplot(data=controller_on,x=\"timestamp\", y=\"RAI_balance\",color='r',label='Rai Issued')\n",
    "plt.title('RAI balance')\n"
   ]
  },
  {
   "cell_type": "code",
   "execution_count": 20,
   "metadata": {},
   "outputs": [
    {
     "data": {
      "image/png": "[encoded data removed]",
      "text/plain": [
       "<Figure size 432x288 with 1 Axes>"
      ]
     },
     "metadata": {
      "needs_background": "light"
     },
     "output_type": "display_data"
    }
   ],
   "source": [
    "sns.lineplot(data=controller_on,x=\"timestamp\", y=\"RAI_balance\",color='r',label='Rai Balance in Rai')\n",
    "sns.lineplot(data=controller_on,x=\"timestamp\", y=\"principal_debt\",color='g',label='CDP total debt (RAI)')\n",
    "plt.title('RAI balances in CDP/Uniswap')\n",
    "plt.legend(loc=\"upper left\")\n",
    "plt.savefig('experiments/system_model_v3/punchline/RAI_balances_in_CDPUniswap.png')"
   ]
  },
  {
   "cell_type": "code",
   "execution_count": 21,
   "metadata": {},
   "outputs": [
    {
     "data": {
      "image/png": "[encoded data removed]",
      "text/plain": [
       "<Figure size 432x288 with 1 Axes>"
      ]
     },
     "metadata": {
      "needs_background": "light"
     },
     "output_type": "display_data"
    }
   ],
   "source": [
    "sns.lineplot(data=controller_on,x=\"timestamp\", y=\"ETH_balance\",label='Eth Balance')\n",
    "plt.legend(loc=\"upper left\")\n",
    "plt.show()"
   ]
  }
 ],
 "metadata": {
  "jupytext": {
   "cell_metadata_filter": "-all",
   "encoding": "# -*- coding: utf-8 -*-",
   "formats": "ipynb,py:percent"
  },
  "kernelspec": {
   "display_name": "Python 3",
   "language": "python",
   "name": "python3"
  },
  "language_info": {
   "codemirror_mode": {
    "name": "ipython",
    "version": 3
   },
   "file_extension": ".py",
   "mimetype": "text/x-python",
   "name": "python",
   "nbconvert_exporter": "python",
   "pygments_lexer": "ipython3",
   "version": "3.8.3"
  }
 },
 "nbformat": 4,
 "nbformat_minor": 4
}
