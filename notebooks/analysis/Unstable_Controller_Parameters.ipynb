{
 "cells": [
  {
   "cell_type": "markdown",
   "metadata": {},
   "source": [
    "# System Model V3 - Debt Market Model - Ideal Parameters\n",
    "\n",
    "The purpose of this notebook is to simulate a single run of the full CDP and APT system model, using a stochastic Ethereum price and liquidity demand process as a driver.\n",
    "\n",
    "\n",
    "We want to run a basic simuluation in order to serve as a sanity check. We want the simulation to have no liquidity shocks, the controller off, arbitrageur considers the liquidation ratio, and target price scaling. The market price presented should be stable and should reflect the movement and volatility of the realized sample path of the ETH price\n",
    "\n",
    "In order to test this, configure the following experiment [ideal_params.py](https://github.com/BlockScience/reflexer/blob/experiment-analysis/experiments/system_model_v3/ideal_params.py). Run run this simulation, we create a directory in the ```experiments/system_model_v3``` called ```ideal_params/```,and add a ```logs/``` directory inside of it.\n",
    "\n",
    "Assuming our we have all of the requirements required (run requirements.txt from the ```reflexer/``` root directory to be sure. Assuming our terminal is in the root directory, we run the follow to run the simulation:\n",
    "\n",
    "```bash\n",
    "cd experiments/system_model_v3\n",
    "python3 -m experiments.system_model_v3.ideal_params\n",
    "```\n",
    "And our simulation will run. The resulting [run log](https://github.com/BlockScience/reflexer/blob/experiment-analysis/experiments/system_model_v3/ideal_params/experiment_run_log.md)\n",
    " can be found in the ```experiments/system_model_v3/ideal_params/``` directory, along with the simulation results stored as ```experiment_results.hdf5```\n",
    "\n",
    "\n",
    "Below we will import and examine the simulation results.\n"
   ]
  },
  {
   "cell_type": "code",
   "execution_count": null,
   "metadata": {},
   "outputs": [],
   "source": [
    "# import libraries\n",
    "import pandas as pd\n",
    "import matplotlib.pyplot as plt\n",
    "import seaborn as sns\n",
    "import os\n",
    "\n",
    "%matplotlib inline"
   ]
  },
  {
   "cell_type": "markdown",
   "metadata": {},
   "source": [
    "## Import simulation run data\n"
   ]
  },
  {
   "cell_type": "code",
   "execution_count": null,
   "metadata": {},
   "outputs": [],
   "source": [
    "os.getcwd()"
   ]
  },
  {
   "cell_type": "code",
   "execution_count": null,
   "metadata": {},
   "outputs": [],
   "source": [
    "os.chdir('../../')\n",
    "os.getcwd()"
   ]
  },
  {
   "cell_type": "code",
   "execution_count": null,
   "metadata": {},
   "outputs": [],
   "source": [
    "experiment_results = 'experiments/system_model_v3/unstable_controller_params/experiment_results.hdf5'\n",
    "experiment_results_keys = []\n",
    "with pd.HDFStore(experiment_results) as store:\n",
    "    experiment_results_keys = list(filter(lambda x: \"results\" in x, store.keys()))\n",
    "    exceptions_keys = list(filter(lambda x: \"exceptions\" in x, store.keys()))"
   ]
  },
  {
   "cell_type": "code",
   "execution_count": null,
   "metadata": {},
   "outputs": [],
   "source": [
    "# A list of all experiment result keys\n",
    "experiment_results_keys"
   ]
  },
  {
   "cell_type": "code",
   "execution_count": null,
   "metadata": {},
   "outputs": [],
   "source": [
    "# Copy a results_ key from the above keys to select the experiment\n",
    "experiment_results_key = experiment_results_keys[-1]#'results_2021-02-09T18:46:33.073363' # Or select last result: experiment_results_keys[-1]\n",
    "experiment_timestamp = experiment_results_key.strip('results_')\n",
    "exceptions_key = 'exceptions_' + experiment_timestamp\n",
    "experiment_timestamp"
   ]
  },
  {
   "cell_type": "code",
   "execution_count": null,
   "metadata": {},
   "outputs": [],
   "source": [
    "df_raw = pd.read_hdf(experiment_results, experiment_results_key)\n",
    "df_raw.tail()"
   ]
  },
  {
   "cell_type": "markdown",
   "metadata": {},
   "source": [
    "## Post process"
   ]
  },
  {
   "cell_type": "code",
   "execution_count": null,
   "metadata": {},
   "outputs": [],
   "source": [
    "from experiments.system_model_v3.post_process import post_process_results\n",
    "from experiments.system_model_v3.unstable_controller_params import params, SIMULATION_TIMESTEPS"
   ]
  },
  {
   "cell_type": "code",
   "execution_count": null,
   "metadata": {},
   "outputs": [],
   "source": [
    "df = post_process_results(df_raw, params, set_params=['ki', 'kp', 'liquidation_ratio'])\n",
    "df"
   ]
  },
  {
   "cell_type": "markdown",
   "metadata": {},
   "source": [
    "# Simulation Analysis"
   ]
  },
  {
   "cell_type": "code",
   "execution_count": null,
   "metadata": {},
   "outputs": [],
   "source": [
    "df.substep.unique()"
   ]
  },
  {
   "cell_type": "code",
   "execution_count": null,
   "metadata": {},
   "outputs": [],
   "source": [
    "df.subset.unique()"
   ]
  },
  {
   "cell_type": "code",
   "execution_count": null,
   "metadata": {},
   "outputs": [],
   "source": [
    "df.columns"
   ]
  },
  {
   "cell_type": "markdown",
   "metadata": {},
   "source": [
    "### Generate key plots for analysis"
   ]
  },
  {
   "cell_type": "code",
   "execution_count": null,
   "metadata": {},
   "outputs": [],
   "source": [
    "sns.lineplot(data=df,x=\"timestamp\", y=\"eth_price\",label='Generated Eth price')\n",
    "plt.ylim(250, 600)\n",
    "ax2 = plt.twinx()\n",
    "sns.lineplot(data=df,x=\"timestamp\", y=\"market_price\",ax=ax2,color='r',label='Market Price in Rai')\n",
    "sns.lineplot(data=df,x=\"timestamp\", y=\"target_price_scaled\",ax=ax2,color='g',label='Redemption Price in Rai')\n",
    "plt.title('Generated Eth price vs Simulation Market and Redemption Prices')\n",
    "plt.legend(loc=\"upper left\")\n",
    "plt.savefig('experiments/system_model_v3/unstable_controller_params/ideal_params.png')"
   ]
  },
  {
   "cell_type": "code",
   "execution_count": null,
   "metadata": {},
   "outputs": [],
   "source": [
    "sns.lineplot(data=df,x=\"timestamp\", y=\"RAI_balance\",color='r',label='Rai Balance in Rai')\n",
    "sns.lineplot(data=df,x=\"timestamp\", y=\"principal_debt\",color='g',label='CDP total debt (RAI)')\n",
    "plt.title('RAI balances in CDP/Uniswap')\n",
    "plt.legend(loc=\"upper left\")\n",
    "plt.savefig('experiments/system_model_v3/unstable_controller_params/RAI_balances_in_CDPUniswap.png')"
   ]
  },
  {
   "cell_type": "code",
   "execution_count": null,
   "metadata": {},
   "outputs": [],
   "source": [
    "sns.lineplot(data=df,x=\"timestamp\", y=\"eth_locked\",label='Total Eth locked')\n",
    "plt.legend(loc=\"upper left\")\n",
    "plt.show()"
   ]
  },
  {
   "cell_type": "code",
   "execution_count": null,
   "metadata": {},
   "outputs": [],
   "source": [
    "sns.lineplot(data=df,x=\"timestamp\", y=\"target_rate\",label='Redemption Rate')\n",
    "plt.legend(loc=\"upper left\")\n",
    "plt.show()"
   ]
  },
  {
   "cell_type": "code",
   "execution_count": null,
   "metadata": {},
   "outputs": [],
   "source": [
    "sns.lineplot(data=df,x=\"timestamp\", y=\"ETH_balance\",label='Eth Balance')\n",
    "plt.legend(loc=\"upper left\")\n",
    "plt.show()"
   ]
  },
  {
   "cell_type": "code",
   "execution_count": null,
   "metadata": {},
   "outputs": [],
   "source": [
    "sns.lineplot(data=df,x=\"timestamp\", y=\"RAI_balance\",label='Rai Balance')\n",
    "plt.legend(loc=\"upper left\")\n",
    "plt.show()"
   ]
  },
  {
   "cell_type": "markdown",
   "metadata": {},
   "source": [
    "## Conclusion"
   ]
  }
 ],
 "metadata": {
  "jupytext": {
   "cell_metadata_filter": "-all",
   "encoding": "# -*- coding: utf-8 -*-",
   "formats": "ipynb,py:percent"
  },
  "kernelspec": {
   "display_name": "Python 3",
   "language": "python",
   "name": "python3"
  },
  "language_info": {
   "codemirror_mode": {
    "name": "ipython",
    "version": 3
   },
   "file_extension": ".py",
   "mimetype": "text/x-python",
   "name": "python",
   "nbconvert_exporter": "python",
   "pygments_lexer": "ipython3",
   "version": "3.8.3"
  }
 },
 "nbformat": 4,
 "nbformat_minor": 4
}
