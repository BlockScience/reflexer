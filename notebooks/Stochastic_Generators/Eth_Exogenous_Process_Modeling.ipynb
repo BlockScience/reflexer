{
 "cells": [
  {
   "cell_type": "markdown",
   "metadata": {},
   "source": [
    "# Exogenous Process modeling \n",
    "\n",
    "## ETH price stochastic process\n",
    "\n",
    "1. Acquire time series of tick-by-tick (or as-close-as) data for ETH price e.g. 2017-2020, e.g. [Kaggle Hourly Dataset](https://www.kaggle.com/prasoonkottarathil/ethereum-historical-dataset)\n",
    "2. Fit a parametric distribution to the price of ETH, gamma + Kalman fit (prediction) resulting in a distribution $F^p_{ETH}(t; \\mu_{ETH})$ and fitted parameters $\\mu_{ETH}$."
   ]
  },
  {
   "cell_type": "code",
   "execution_count": 1,
   "metadata": {},
   "outputs": [],
   "source": [
    "# import libraries\n",
    "import pandas as pd\n",
    "import numpy as np\n",
    "from scipy.stats import gamma\n",
    "from sklearn.metrics import mean_squared_error\n",
    "import matplotlib.pyplot as plt\n",
    "from math import sqrt\n",
    "\n",
    "%matplotlib inline"
   ]
  },
  {
   "cell_type": "markdown",
   "metadata": {},
   "source": [
    "## Data preprocessing"
   ]
  },
  {
   "cell_type": "code",
   "execution_count": 2,
   "metadata": {},
   "outputs": [
    {
     "data": {
      "text/html": [
       "<div>\n",
       "<style scoped>\n",
       "    .dataframe tbody tr th:only-of-type {\n",
       "        vertical-align: middle;\n",
       "    }\n",
       "\n",
       "    .dataframe tbody tr th {\n",
       "        vertical-align: top;\n",
       "    }\n",
       "\n",
       "    .dataframe thead th {\n",
       "        text-align: right;\n",
       "    }\n",
       "</style>\n",
       "<table border=\"1\" class=\"dataframe\">\n",
       "  <thead>\n",
       "    <tr style=\"text-align: right;\">\n",
       "      <th></th>\n",
       "      <th>Unix Timestamp</th>\n",
       "      <th>Date</th>\n",
       "      <th>Symbol</th>\n",
       "      <th>Open</th>\n",
       "      <th>High</th>\n",
       "      <th>Low</th>\n",
       "      <th>Close</th>\n",
       "      <th>Volume</th>\n",
       "    </tr>\n",
       "  </thead>\n",
       "  <tbody>\n",
       "    <tr>\n",
       "      <th>0</th>\n",
       "      <td>1586995200000</td>\n",
       "      <td>2020-04-16 00:00:00</td>\n",
       "      <td>ETHUSD</td>\n",
       "      <td>152.94</td>\n",
       "      <td>152.94</td>\n",
       "      <td>150.39</td>\n",
       "      <td>150.39</td>\n",
       "      <td>650.188125</td>\n",
       "    </tr>\n",
       "    <tr>\n",
       "      <th>1</th>\n",
       "      <td>1586991600000</td>\n",
       "      <td>2020-04-15 23:00:00</td>\n",
       "      <td>ETHUSD</td>\n",
       "      <td>155.81</td>\n",
       "      <td>155.81</td>\n",
       "      <td>151.39</td>\n",
       "      <td>152.94</td>\n",
       "      <td>4277.567299</td>\n",
       "    </tr>\n",
       "    <tr>\n",
       "      <th>2</th>\n",
       "      <td>1586988000000</td>\n",
       "      <td>2020-04-15 22:00:00</td>\n",
       "      <td>ETHUSD</td>\n",
       "      <td>157.18</td>\n",
       "      <td>157.30</td>\n",
       "      <td>155.32</td>\n",
       "      <td>155.81</td>\n",
       "      <td>106.337279</td>\n",
       "    </tr>\n",
       "    <tr>\n",
       "      <th>3</th>\n",
       "      <td>1586984400000</td>\n",
       "      <td>2020-04-15 21:00:00</td>\n",
       "      <td>ETHUSD</td>\n",
       "      <td>158.04</td>\n",
       "      <td>158.31</td>\n",
       "      <td>157.16</td>\n",
       "      <td>157.18</td>\n",
       "      <td>55.244131</td>\n",
       "    </tr>\n",
       "    <tr>\n",
       "      <th>4</th>\n",
       "      <td>1586980800000</td>\n",
       "      <td>2020-04-15 20:00:00</td>\n",
       "      <td>ETHUSD</td>\n",
       "      <td>157.10</td>\n",
       "      <td>158.10</td>\n",
       "      <td>156.87</td>\n",
       "      <td>158.04</td>\n",
       "      <td>144.262622</td>\n",
       "    </tr>\n",
       "  </tbody>\n",
       "</table>\n",
       "</div>"
      ],
      "text/plain": [
       "   Unix Timestamp                 Date  Symbol    Open    High     Low  \\\n",
       "0   1586995200000  2020-04-16 00:00:00  ETHUSD  152.94  152.94  150.39   \n",
       "1   1586991600000  2020-04-15 23:00:00  ETHUSD  155.81  155.81  151.39   \n",
       "2   1586988000000  2020-04-15 22:00:00  ETHUSD  157.18  157.30  155.32   \n",
       "3   1586984400000  2020-04-15 21:00:00  ETHUSD  158.04  158.31  157.16   \n",
       "4   1586980800000  2020-04-15 20:00:00  ETHUSD  157.10  158.10  156.87   \n",
       "\n",
       "    Close       Volume  \n",
       "0  150.39   650.188125  \n",
       "1  152.94  4277.567299  \n",
       "2  155.81   106.337279  \n",
       "3  157.18    55.244131  \n",
       "4  158.04   144.262622  "
      ]
     },
     "execution_count": 2,
     "metadata": {},
     "output_type": "execute_result"
    }
   ],
   "source": [
    "# import data\n",
    "historical_eth_hourly = pd.read_csv('data/ETH_1H.csv')\n",
    "historical_eth_hourly.head(5)"
   ]
  },
  {
   "cell_type": "code",
   "execution_count": 3,
   "metadata": {},
   "outputs": [],
   "source": [
    "historical_eth_hourly['Date'] = pd.to_datetime(historical_eth_hourly['Date'])\n",
    "historical_eth_hourly = historical_eth_hourly[historical_eth_hourly['Date']>'2017-01-01']"
   ]
  },
  {
   "cell_type": "code",
   "execution_count": 4,
   "metadata": {},
   "outputs": [],
   "source": [
    "# sort by date from earliest to latest\n",
    "sorted_historical_eth_hourly = historical_eth_hourly.sort_values(by='Date')"
   ]
  },
  {
   "cell_type": "code",
   "execution_count": 5,
   "metadata": {},
   "outputs": [],
   "source": [
    "# split into training and test data. \n",
    "train, test= np.split(sorted_historical_eth_hourly, [int(.9 *len(sorted_historical_eth_hourly))])"
   ]
  },
  {
   "cell_type": "code",
   "execution_count": 6,
   "metadata": {},
   "outputs": [
    {
     "data": {
      "text/html": [
       "<div>\n",
       "<style scoped>\n",
       "    .dataframe tbody tr th:only-of-type {\n",
       "        vertical-align: middle;\n",
       "    }\n",
       "\n",
       "    .dataframe tbody tr th {\n",
       "        vertical-align: top;\n",
       "    }\n",
       "\n",
       "    .dataframe thead th {\n",
       "        text-align: right;\n",
       "    }\n",
       "</style>\n",
       "<table border=\"1\" class=\"dataframe\">\n",
       "  <thead>\n",
       "    <tr style=\"text-align: right;\">\n",
       "      <th></th>\n",
       "      <th>Unix Timestamp</th>\n",
       "      <th>Date</th>\n",
       "      <th>Symbol</th>\n",
       "      <th>Open</th>\n",
       "      <th>High</th>\n",
       "      <th>Low</th>\n",
       "      <th>Close</th>\n",
       "      <th>Volume</th>\n",
       "    </tr>\n",
       "  </thead>\n",
       "  <tbody>\n",
       "    <tr>\n",
       "      <th>2887</th>\n",
       "      <td>1576602000000</td>\n",
       "      <td>2019-12-17 17:00:00</td>\n",
       "      <td>ETHUSD</td>\n",
       "      <td>128.31</td>\n",
       "      <td>128.31</td>\n",
       "      <td>126.38</td>\n",
       "      <td>127.46</td>\n",
       "      <td>402.271541</td>\n",
       "    </tr>\n",
       "    <tr>\n",
       "      <th>2886</th>\n",
       "      <td>1576605600000</td>\n",
       "      <td>2019-12-17 18:00:00</td>\n",
       "      <td>ETHUSD</td>\n",
       "      <td>127.46</td>\n",
       "      <td>127.53</td>\n",
       "      <td>126.53</td>\n",
       "      <td>126.62</td>\n",
       "      <td>229.430010</td>\n",
       "    </tr>\n",
       "    <tr>\n",
       "      <th>2885</th>\n",
       "      <td>1576609200000</td>\n",
       "      <td>2019-12-17 19:00:00</td>\n",
       "      <td>ETHUSD</td>\n",
       "      <td>126.62</td>\n",
       "      <td>126.81</td>\n",
       "      <td>122.50</td>\n",
       "      <td>122.93</td>\n",
       "      <td>2012.801588</td>\n",
       "    </tr>\n",
       "    <tr>\n",
       "      <th>2884</th>\n",
       "      <td>1576612800000</td>\n",
       "      <td>2019-12-17 20:00:00</td>\n",
       "      <td>ETHUSD</td>\n",
       "      <td>122.93</td>\n",
       "      <td>123.20</td>\n",
       "      <td>120.44</td>\n",
       "      <td>120.94</td>\n",
       "      <td>2206.133446</td>\n",
       "    </tr>\n",
       "    <tr>\n",
       "      <th>2883</th>\n",
       "      <td>1576616400000</td>\n",
       "      <td>2019-12-17 21:00:00</td>\n",
       "      <td>ETHUSD</td>\n",
       "      <td>120.94</td>\n",
       "      <td>122.07</td>\n",
       "      <td>120.86</td>\n",
       "      <td>122.07</td>\n",
       "      <td>1044.554438</td>\n",
       "    </tr>\n",
       "  </tbody>\n",
       "</table>\n",
       "</div>"
      ],
      "text/plain": [
       "      Unix Timestamp                Date  Symbol    Open    High     Low  \\\n",
       "2887   1576602000000 2019-12-17 17:00:00  ETHUSD  128.31  128.31  126.38   \n",
       "2886   1576605600000 2019-12-17 18:00:00  ETHUSD  127.46  127.53  126.53   \n",
       "2885   1576609200000 2019-12-17 19:00:00  ETHUSD  126.62  126.81  122.50   \n",
       "2884   1576612800000 2019-12-17 20:00:00  ETHUSD  122.93  123.20  120.44   \n",
       "2883   1576616400000 2019-12-17 21:00:00  ETHUSD  120.94  122.07  120.86   \n",
       "\n",
       "       Close       Volume  \n",
       "2887  127.46   402.271541  \n",
       "2886  126.62   229.430010  \n",
       "2885  122.93  2012.801588  \n",
       "2884  120.94  2206.133446  \n",
       "2883  122.07  1044.554438  "
      ]
     },
     "execution_count": 6,
     "metadata": {},
     "output_type": "execute_result"
    }
   ],
   "source": [
    "train.tail()"
   ]
  },
  {
   "cell_type": "code",
   "execution_count": 7,
   "metadata": {},
   "outputs": [
    {
     "data": {
      "text/plain": [
       "<AxesSubplot:title={'center':'Eth Hourly data'}, xlabel='Date'>"
      ]
     },
     "execution_count": 7,
     "metadata": {},
     "output_type": "execute_result"
    },
    {
     "data": {
      "image/png": "[encoded data removed]",
      "text/plain": [
       "<Figure size 432x288 with 1 Axes>"
      ]
     },
     "metadata": {
      "needs_background": "light"
     },
     "output_type": "display_data"
    }
   ],
   "source": [
    "train.plot(x='Date',y='Close',title='Eth Hourly data')"
   ]
  },
  {
   "cell_type": "markdown",
   "metadata": {},
   "source": [
    "## Kalman filter\n",
    "\n",
    "Kalman filters are a lightweight algorithm often in an economic context for reducing noise in signals. The Kalman Filter is trained on a subset of the data, and then the parameters are passed into a prediction function for use in subsequent samples. As Kalman filters are one step predictors, at each time step, the filters is retrained and the system state and parameters are updated. \n",
    "\n",
    "This implemention was refined by Andrew Clark in a [recent paper](https://ideas.repec.org/p/rdg/emxxdp/em-dp2020-22.html) that used Kalman filters embedded into a cadCAD model for forecasting exchange rates."
   ]
  },
  {
   "cell_type": "code",
   "execution_count": 8,
   "metadata": {},
   "outputs": [],
   "source": [
    "import pandas as pd\n",
    "import numpy as np\n",
    "from scipy.stats import gamma\n",
    "\n",
    "def kalman_filter(observations,initialValue,truthValues=None,plot=False,paramExport=False):\n",
    "    '''\n",
    "    Description:\n",
    "    Function to create a Kalman Filter for smoothing currency timestamps in order to search for the\n",
    "    intrinisic value.\n",
    "    \n",
    "    Parameters:\n",
    "    observations: Array of observations, i.e. predicted secondary market prices.\n",
    "    initialValue: Initial Starting value of filter\n",
    "    truthValues: Array of truth values, i.e. GPS location or secondary market prices. Or can be left\n",
    "    blank if none exist\n",
    "    plot: If True, plot the observations, truth values and kalman filter.\n",
    "    paramExport: If True, the parameters xhat,P,xhatminus,Pminus,K are returned to use in training.\n",
    "    \n",
    "    Example:\n",
    "    xhat,P,xhatminus,Pminus,K = kalman_filter(observations=train.Close.values[0:-1],\n",
    "                                              initialValue=train.Close.values[-1],paramExport=True)\n",
    "    '''\n",
    "    # intial parameters\n",
    "    n_iter = len(observations)\n",
    "    sz = (n_iter,) # size of array\n",
    "    if isinstance(truthValues,np.ndarray):\n",
    "        x = truthValues # truth value\n",
    "    z = observations# observations (normal about x, sigma=0.1)\n",
    "\n",
    "    Q = 1e-5 # process variance\n",
    "\n",
    "    # allocate space for arrays\n",
    "    xhat=np.zeros(sz)      # a posteri estimate of x\n",
    "    P=np.zeros(sz)         # a posteri error estimate\n",
    "    xhatminus=np.zeros(sz) # a priori estimate of x\n",
    "    Pminus=np.zeros(sz)    # a priori error estimate\n",
    "    K=np.zeros(sz)         # gain or blending factor\n",
    "\n",
    "    R = 0.5**2 # estimate of measurement variance, change to see effect\n",
    "\n",
    "    # intial guesses\n",
    "    xhat[0] = initialValue\n",
    "    P[0] = 1.0\n",
    "\n",
    "    for k in range(1,n_iter):\n",
    "        # time update\n",
    "        xhatminus[k] = xhat[k-1]\n",
    "        Pminus[k] = P[k-1]+Q\n",
    "\n",
    "        # measurement update\n",
    "        K[k] = Pminus[k]/( Pminus[k]+R )\n",
    "        xhat[k] = xhatminus[k]+K[k]*(z[k]-xhatminus[k])\n",
    "        P[k] = (1-K[k])*Pminus[k]\n",
    "\n",
    "    if plot==True:\n",
    "        plt.figure()\n",
    "        plt.plot(z,'k+',label='Actual data')\n",
    "        plt.plot(xhat,'b-',label='a posteri estimate')\n",
    "        if isinstance(truthValues,np.ndarray):\n",
    "            plt.plot(x,color='g',label='truth value')\n",
    "        plt.legend()\n",
    "        plt.title('Kalman Filter Estimates', fontweight='bold')\n",
    "        plt.xlabel('Iteration')\n",
    "        plt.ylabel('USD')\n",
    "        plt.show()\n",
    "\n",
    "    if paramExport==True:\n",
    "        return  xhat,P,xhatminus,Pminus,K\n",
    "\n",
    "    else:\n",
    "\n",
    "        return xhat\n",
    "\n",
    "def kalman_filter_predict(xhat,P,xhatminus,Pminus,K,observations,truthValues=None,paramExport=False):\n",
    "    '''\n",
    "    Description:\n",
    "    Function to predict a pre-trained Kalman Filter 1 step forward.\n",
    "    \n",
    "    Parameters:\n",
    "    xhat: Trained Kalman filter values - array\n",
    "    P: Trained Kalman variance - array\n",
    "    xhatminus: Trained Kalman xhat delta - array\n",
    "    Pminus: Trained Kalman variance delta - array\n",
    "    K: Kalman gain - array\n",
    "    observations: Array of observations, i.e. predicted secondary market prices.\n",
    "    truthValues: Array of truth values, i.e. GPS location or secondary market prices. Or can be left\n",
    "    blank if none exist\n",
    "    paramExport: If True, the parameters xhat,P,xhatminus,Pminus,K are returned to use in next predicted step.\n",
    "    \n",
    "    Example:\n",
    "    xhat,P,xhatminus,Pminus,K = kalman_filter_predict(xhatInput,PInput,\n",
    "                                                      xhatminusInput,PminusInput,KInput,observation,\n",
    "                                                       paramExport=True)\n",
    "    '''\n",
    "    # intial parameters\n",
    "    if isinstance(truthValues,np.ndarray):\n",
    "        x = truthValues # truth value\n",
    "    z = observations# observations (normal about x, sigma=0.1)\n",
    "\n",
    "    Q = 1e-5 # process variance\n",
    "\n",
    "    R = 0.5**2 # estimate of measurement variance, change to see effect\n",
    "\n",
    "\n",
    "    # time update\n",
    "    xhatminus = np.append(xhatminus,xhat[-1])\n",
    "    Pminus = np.append(Pminus,P[-1]+Q)\n",
    "\n",
    "    # measurement update\n",
    "    K = np.append(K,Pminus[-1]/( Pminus[-1]+R ))\n",
    "    xhat = np.append(xhat,xhatminus[-1]+K[-1]*(z[-1]-xhatminus[-1]))\n",
    "    P = np.append(P,(1-K[-1])*Pminus[-1])\n",
    "\n",
    "    if paramExport==True:\n",
    "        return  xhat,P,xhatminus,Pminus,K\n",
    "\n",
    "    else:\n",
    "\n",
    "        return xhat"
   ]
  },
  {
   "cell_type": "markdown",
   "metadata": {},
   "source": [
    "## Process training\n",
    "\n",
    "Fit the gamma distribution off of the training data."
   ]
  },
  {
   "cell_type": "code",
   "execution_count": 9,
   "metadata": {},
   "outputs": [
    {
     "data": {
      "text/plain": [
       "1255.3000299443474"
      ]
     },
     "execution_count": 9,
     "metadata": {},
     "output_type": "execute_result"
    }
   ],
   "source": [
    "timesteps = 24 * 365 # 24 hours a day * 365 days a year \n",
    "# fit eth distribution\n",
    "fit_shape, fit_loc, fit_scale = gamma.fit(train.Close.values)\n",
    "sample = np.random.gamma(fit_shape, fit_scale, 100)[0]\n",
    "sample"
   ]
  },
  {
   "cell_type": "code",
   "execution_count": 10,
   "metadata": {},
   "outputs": [
    {
     "data": {
      "text/plain": [
       "Text(0.5, 1.0, 'Histogram of Eth Price IID Samples')"
      ]
     },
     "execution_count": 10,
     "metadata": {},
     "output_type": "execute_result"
    },
    {
     "data": {
      "image/png": "[encoded data removed]",
      "text/plain": [
       "<Figure size 432x288 with 1 Axes>"
      ]
     },
     "metadata": {
      "needs_background": "light"
     },
     "output_type": "display_data"
    }
   ],
   "source": [
    "# generate 100 samples for initialization of Kalman\n",
    "samples = np.random.gamma(fit_shape, fit_scale, 100)\n",
    "plt.hist(samples)\n",
    "plt.title('Histogram of Eth Price IID Samples')"
   ]
  },
  {
   "cell_type": "code",
   "execution_count": 11,
   "metadata": {},
   "outputs": [
    {
     "data": {
      "image/png": "[encoded data removed]",
      "text/plain": [
       "<Figure size 432x288 with 1 Axes>"
      ]
     },
     "metadata": {
      "needs_background": "light"
     },
     "output_type": "display_data"
    }
   ],
   "source": [
    "# train kalman\n",
    "xhat,P,xhatminus,Pminus,K = kalman_filter(observations=samples[0:-1],\n",
    "                                          initialValue=samples[-1],paramExport=True,plot=True)"
   ]
  },
  {
   "cell_type": "markdown",
   "metadata": {},
   "source": [
    "## Validation\n",
    "\n",
    "To test how our generator is working, we will make 100 predictions and compare to the test data."
   ]
  },
  {
   "cell_type": "code",
   "execution_count": 12,
   "metadata": {},
   "outputs": [],
   "source": [
    "eth_values = []\n",
    "filter_values = {'xhat':xhat,'P':P,\n",
    "                 'xhatminus':xhatminus,'Pminus':Pminus,\n",
    "                 'K':K}\n",
    "\n",
    "for i in range(0,100):\n",
    "    sample = np.random.gamma(fit_shape, fit_scale, 1)[0]\n",
    "    eth_values.append(sample)\n",
    "    xhat,P,xhatminus,Pminus,K = kalman_filter_predict(filter_values['xhat'],\n",
    "                                                  filter_values['P'],\n",
    "                                                  filter_values['xhatminus'],\n",
    "                                                  filter_values['Pminus'],\n",
    "                                                  filter_values['K'],\n",
    "                                                  eth_values,\n",
    "                                                  paramExport=True)\n",
    "    filter_values = {'xhat':xhat,'P':P,\n",
    "                 'xhatminus':xhatminus,'Pminus':Pminus,\n",
    "                 'K':K}\n",
    "                                                                    "
   ]
  },
  {
   "cell_type": "code",
   "execution_count": 13,
   "metadata": {
    "scrolled": true
   },
   "outputs": [
    {
     "data": {
      "image/png": "[encoded data removed]",
      "text/plain": [
       "<Figure size 432x288 with 1 Axes>"
      ]
     },
     "metadata": {
      "needs_background": "light"
     },
     "output_type": "display_data"
    }
   ],
   "source": [
    "plt.plot(xhat[100:], label = 'Predicted')\n",
    "plt.plot(test.head(100)['Close'].values, label = 'Actual')\n",
    "plt.xlabel('Predictions')\n",
    "plt.ylabel('Eth value in USD')\n",
    "# Set a title of the current axes.\n",
    "plt.title('Predicted vs actual')\n",
    "plt.legend()\n",
    "# Display a figure.\n",
    "plt.show()"
   ]
  },
  {
   "cell_type": "markdown",
   "metadata": {},
   "source": [
    "## Generate data for simulation"
   ]
  },
  {
   "cell_type": "code",
   "execution_count": 14,
   "metadata": {},
   "outputs": [
    {
     "data": {
      "image/png": "[encoded data removed]",
      "text/plain": [
       "<Figure size 432x288 with 1 Axes>"
      ]
     },
     "metadata": {
      "needs_background": "light"
     },
     "output_type": "display_data"
    }
   ],
   "source": [
    "samples = np.random.gamma(fit_shape, fit_scale, 100)\n",
    "# train kalman\n",
    "xhat,P,xhatminus,Pminus,K = kalman_filter(observations=samples[0:-1],\n",
    "                                          initialValue=samples[-1],paramExport=True,plot=True)"
   ]
  },
  {
   "cell_type": "code",
   "execution_count": 15,
   "metadata": {},
   "outputs": [],
   "source": [
    "eth_values = []\n",
    "filter_values = {'xhat':xhat,'P':P,\n",
    "                 'xhatminus':xhatminus,'Pminus':Pminus,\n",
    "                 'K':K}\n",
    "\n",
    "for i in range(0,timesteps+1):\n",
    "    sample = np.random.gamma(fit_shape, fit_scale, 1)[0]\n",
    "    eth_values.append(sample)\n",
    "    xhat,P,xhatminus,Pminus,K = kalman_filter_predict(filter_values['xhat'],\n",
    "                                                  filter_values['P'],\n",
    "                                                  filter_values['xhatminus'],\n",
    "                                                  filter_values['Pminus'],\n",
    "                                                  filter_values['K'],\n",
    "                                                  eth_values,\n",
    "                                                  paramExport=True)\n",
    "    filter_values = {'xhat':xhat,'P':P,\n",
    "                 'xhatminus':xhatminus,'Pminus':Pminus,\n",
    "                 'K':K}\n",
    "                                                                    "
   ]
  },
  {
   "cell_type": "code",
   "execution_count": 16,
   "metadata": {},
   "outputs": [
    {
     "data": {
      "text/plain": [
       "Text(0.5, 1.0, 'Histogram of Eth Price IID Samples')"
      ]
     },
     "execution_count": 16,
     "metadata": {},
     "output_type": "execute_result"
    },
    {
     "data": {
      "image/png": "[encoded data removed]",
      "text/plain": [
       "<Figure size 432x288 with 1 Axes>"
      ]
     },
     "metadata": {
      "needs_background": "light"
     },
     "output_type": "display_data"
    }
   ],
   "source": [
    "plt.hist(xhat[100:])\n",
    "plt.title('Histogram of Eth Price IID Samples')"
   ]
  },
  {
   "cell_type": "code",
   "execution_count": 17,
   "metadata": {},
   "outputs": [
    {
     "data": {
      "text/plain": [
       "Text(0.5, 1.0, 'Predicted Eth Prices')"
      ]
     },
     "execution_count": 17,
     "metadata": {},
     "output_type": "execute_result"
    },
    {
     "data": {
      "image/png": "[encoded data removed]",
      "text/plain": [
       "<Figure size 432x288 with 1 Axes>"
      ]
     },
     "metadata": {
      "needs_background": "light"
     },
     "output_type": "display_data"
    }
   ],
   "source": [
    "plt.plot(xhat[100:])\n",
    "plt.title('Predicted Eth Prices')"
   ]
  },
  {
   "cell_type": "code",
   "execution_count": 18,
   "metadata": {},
   "outputs": [
    {
     "data": {
      "text/plain": [
       "8760"
      ]
     },
     "execution_count": 18,
     "metadata": {},
     "output_type": "execute_result"
    }
   ],
   "source": [
    "timesteps"
   ]
  },
  {
   "cell_type": "code",
   "execution_count": 19,
   "metadata": {},
   "outputs": [
    {
     "data": {
      "text/html": [
       "<div>\n",
       "<style scoped>\n",
       "    .dataframe tbody tr th:only-of-type {\n",
       "        vertical-align: middle;\n",
       "    }\n",
       "\n",
       "    .dataframe tbody tr th {\n",
       "        vertical-align: top;\n",
       "    }\n",
       "\n",
       "    .dataframe thead th {\n",
       "        text-align: right;\n",
       "    }\n",
       "</style>\n",
       "<table border=\"1\" class=\"dataframe\">\n",
       "  <thead>\n",
       "    <tr style=\"text-align: right;\">\n",
       "      <th></th>\n",
       "      <th>Eth_price</th>\n",
       "    </tr>\n",
       "  </thead>\n",
       "  <tbody>\n",
       "    <tr>\n",
       "      <th>0</th>\n",
       "      <td>292.511736</td>\n",
       "    </tr>\n",
       "    <tr>\n",
       "      <th>1</th>\n",
       "      <td>515.149589</td>\n",
       "    </tr>\n",
       "    <tr>\n",
       "      <th>2</th>\n",
       "      <td>112.876842</td>\n",
       "    </tr>\n",
       "    <tr>\n",
       "      <th>3</th>\n",
       "      <td>82.704122</td>\n",
       "    </tr>\n",
       "    <tr>\n",
       "      <th>4</th>\n",
       "      <td>405.744675</td>\n",
       "    </tr>\n",
       "  </tbody>\n",
       "</table>\n",
       "</div>"
      ],
      "text/plain": [
       "    Eth_price\n",
       "0  292.511736\n",
       "1  515.149589\n",
       "2  112.876842\n",
       "3   82.704122\n",
       "4  405.744675"
      ]
     },
     "execution_count": 19,
     "metadata": {},
     "output_type": "execute_result"
    }
   ],
   "source": [
    "eth_prices = pd.DataFrame(eth_values,columns=['Eth_price'])\n",
    "eth_prices.head()"
   ]
  },
  {
   "cell_type": "code",
   "execution_count": 20,
   "metadata": {},
   "outputs": [],
   "source": [
    "# export data\n",
    "eth_prices.to_csv('data/eth_prices.csv')"
   ]
  },
  {
   "cell_type": "markdown",
   "metadata": {},
   "source": [
    "## Implementation information\n",
    "Below is an example of how to integrate these univariate time series datasets into the exogenous process section of a cadCAD model, assuming each timestep is an hour.\n",
    "\n",
    "\n",
    "```\n",
    "    \n",
    "# partial_state_update_block.py\n",
    "partial_state_update_block = {\n",
    "    # Exogenous\n",
    "    'Exogenous': {\n",
    "        'policies': {\n",
    "        },\n",
    "        'variables': {\n",
    "            'eth_price': eth_price_mech,\n",
    "        }\n",
    "    },\n",
    "    \n",
    "# exogenousProcesses.py\n",
    "\n",
    "\n",
    "# import libraries\n",
    "import pandas as pd\n",
    "\n",
    "# import data\n",
    "eth_prices = pd.read_csv('data/eth_prices.csv')\n",
    "\n",
    "# mechanisms\n",
    "def eth_price_mech(params, step, sL, s, _input):\n",
    "    y = 'eth_price'\n",
    "    timestep = s['timestep'] \n",
    "    x = eth_prices.Eth_price.values[timestep]\n",
    "    return (y, x)\n",
    "\n",
    "    \n",
    "```"
   ]
  },
  {
   "cell_type": "markdown",
   "metadata": {},
   "source": [
    "## Conclusion\n",
    "\n",
    "In this notebook, we've read in hourly historical eth data from kaggle, defined functions for fitting and making predictions off of a gamma distribution, which is comminly used in for random walk calculations, and defined functions for de-noising kalman filter. We then validated the structure of these functions and predicted 100 timesteps for evaluation and demonstration purposes. Finally, we provided an overview of how to fit this code into cadCAD. Next steps could include:\n",
    "* Refining the Kalman filter hyperparameters\n",
    "* Refining the gamma prediction tuning parameter\n",
    "* More thorough model validation\n",
    "* Add seasonality\n",
    "\n"
   ]
  }
 ],
 "metadata": {
  "kernelspec": {
   "display_name": "Python (Reflexer)",
   "language": "python",
   "name": "python-reflexer"
  },
  "language_info": {
   "codemirror_mode": {
    "name": "ipython",
    "version": 3
   },
   "file_extension": ".py",
   "mimetype": "text/x-python",
   "name": "python",
   "nbconvert_exporter": "python",
   "pygments_lexer": "ipython3",
   "version": "3.8.3"
  }
 },
 "nbformat": 4,
 "nbformat_minor": 4
}
