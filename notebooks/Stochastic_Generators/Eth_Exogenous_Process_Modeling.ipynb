{
 "cells": [
  {
   "cell_type": "markdown",
   "metadata": {},
   "source": [
    "# Exogenous Process modeling \n",
    "\n",
    "## ETH price stochastic process\n",
    "\n",
    "1. Acquire time series of tick-by-tick (or as-close-as) data for ETH price e.g. 2017-2020, e.g. [Kaggle Hourly Dataset](https://www.kaggle.com/prasoonkottarathil/ethereum-historical-dataset)\n",
    "2. Fit a parametric distribution to the price of ETH, gamma + Kalman fit (prediction) resulting in a distribution $F^p_{ETH}(t; \\mu_{ETH})$ and fitted parameters $\\mu_{ETH}$."
   ]
  },
  {
   "cell_type": "code",
   "execution_count": 1,
   "metadata": {},
   "outputs": [],
   "source": [
    "# import libraries\n",
    "import pandas as pd\n",
    "import numpy as np\n",
    "from scipy.stats import gamma\n",
    "from sklearn.metrics import mean_squared_error\n",
    "import matplotlib.pyplot as plt\n",
    "from math import sqrt\n",
    "\n",
    "%matplotlib inline"
   ]
  },
  {
   "cell_type": "markdown",
   "metadata": {},
   "source": [
    "## Data preprocessing"
   ]
  },
  {
   "cell_type": "code",
   "execution_count": 2,
   "metadata": {},
   "outputs": [
    {
     "data": {
      "text/html": [
       "<div>\n",
       "<style scoped>\n",
       "    .dataframe tbody tr th:only-of-type {\n",
       "        vertical-align: middle;\n",
       "    }\n",
       "\n",
       "    .dataframe tbody tr th {\n",
       "        vertical-align: top;\n",
       "    }\n",
       "\n",
       "    .dataframe thead th {\n",
       "        text-align: right;\n",
       "    }\n",
       "</style>\n",
       "<table border=\"1\" class=\"dataframe\">\n",
       "  <thead>\n",
       "    <tr style=\"text-align: right;\">\n",
       "      <th></th>\n",
       "      <th>Unix Timestamp</th>\n",
       "      <th>Date</th>\n",
       "      <th>Symbol</th>\n",
       "      <th>Open</th>\n",
       "      <th>High</th>\n",
       "      <th>Low</th>\n",
       "      <th>Close</th>\n",
       "      <th>Volume</th>\n",
       "    </tr>\n",
       "  </thead>\n",
       "  <tbody>\n",
       "    <tr>\n",
       "      <th>0</th>\n",
       "      <td>1586995200000</td>\n",
       "      <td>2020-04-16 00:00:00</td>\n",
       "      <td>ETHUSD</td>\n",
       "      <td>152.94</td>\n",
       "      <td>152.94</td>\n",
       "      <td>150.39</td>\n",
       "      <td>150.39</td>\n",
       "      <td>650.188125</td>\n",
       "    </tr>\n",
       "    <tr>\n",
       "      <th>1</th>\n",
       "      <td>1586991600000</td>\n",
       "      <td>2020-04-15 23:00:00</td>\n",
       "      <td>ETHUSD</td>\n",
       "      <td>155.81</td>\n",
       "      <td>155.81</td>\n",
       "      <td>151.39</td>\n",
       "      <td>152.94</td>\n",
       "      <td>4277.567299</td>\n",
       "    </tr>\n",
       "    <tr>\n",
       "      <th>2</th>\n",
       "      <td>1586988000000</td>\n",
       "      <td>2020-04-15 22:00:00</td>\n",
       "      <td>ETHUSD</td>\n",
       "      <td>157.18</td>\n",
       "      <td>157.30</td>\n",
       "      <td>155.32</td>\n",
       "      <td>155.81</td>\n",
       "      <td>106.337279</td>\n",
       "    </tr>\n",
       "    <tr>\n",
       "      <th>3</th>\n",
       "      <td>1586984400000</td>\n",
       "      <td>2020-04-15 21:00:00</td>\n",
       "      <td>ETHUSD</td>\n",
       "      <td>158.04</td>\n",
       "      <td>158.31</td>\n",
       "      <td>157.16</td>\n",
       "      <td>157.18</td>\n",
       "      <td>55.244131</td>\n",
       "    </tr>\n",
       "    <tr>\n",
       "      <th>4</th>\n",
       "      <td>1586980800000</td>\n",
       "      <td>2020-04-15 20:00:00</td>\n",
       "      <td>ETHUSD</td>\n",
       "      <td>157.10</td>\n",
       "      <td>158.10</td>\n",
       "      <td>156.87</td>\n",
       "      <td>158.04</td>\n",
       "      <td>144.262622</td>\n",
       "    </tr>\n",
       "  </tbody>\n",
       "</table>\n",
       "</div>"
      ],
      "text/plain": [
       "   Unix Timestamp                 Date  Symbol    Open    High     Low  \\\n",
       "0   1586995200000  2020-04-16 00:00:00  ETHUSD  152.94  152.94  150.39   \n",
       "1   1586991600000  2020-04-15 23:00:00  ETHUSD  155.81  155.81  151.39   \n",
       "2   1586988000000  2020-04-15 22:00:00  ETHUSD  157.18  157.30  155.32   \n",
       "3   1586984400000  2020-04-15 21:00:00  ETHUSD  158.04  158.31  157.16   \n",
       "4   1586980800000  2020-04-15 20:00:00  ETHUSD  157.10  158.10  156.87   \n",
       "\n",
       "    Close       Volume  \n",
       "0  150.39   650.188125  \n",
       "1  152.94  4277.567299  \n",
       "2  155.81   106.337279  \n",
       "3  157.18    55.244131  \n",
       "4  158.04   144.262622  "
      ]
     },
     "execution_count": 2,
     "metadata": {},
     "output_type": "execute_result"
    }
   ],
   "source": [
    "# import data\n",
    "historical_eth_hourly = pd.read_csv('data/ETH_1H.csv')\n",
    "historical_eth_hourly.head(5)"
   ]
  },
  {
   "cell_type": "code",
   "execution_count": 3,
   "metadata": {},
   "outputs": [],
   "source": [
    "historical_eth_hourly['Date'] = pd.to_datetime(historical_eth_hourly['Date'])\n",
    "historical_eth_hourly = historical_eth_hourly[historical_eth_hourly['Date']>'2017-01-01']"
   ]
  },
  {
   "cell_type": "code",
   "execution_count": 4,
   "metadata": {},
   "outputs": [],
   "source": [
    "# sort by date from earliest to latest\n",
    "sorted_historical_eth_hourly = historical_eth_hourly.sort_values(by='Date')"
   ]
  },
  {
   "cell_type": "code",
   "execution_count": 5,
   "metadata": {},
   "outputs": [],
   "source": [
    "# split into training and test data. \n",
    "train, test= np.split(sorted_historical_eth_hourly, [int(.9 *len(sorted_historical_eth_hourly))])"
   ]
  },
  {
   "cell_type": "code",
   "execution_count": 6,
   "metadata": {},
   "outputs": [
    {
     "data": {
      "text/html": [
       "<div>\n",
       "<style scoped>\n",
       "    .dataframe tbody tr th:only-of-type {\n",
       "        vertical-align: middle;\n",
       "    }\n",
       "\n",
       "    .dataframe tbody tr th {\n",
       "        vertical-align: top;\n",
       "    }\n",
       "\n",
       "    .dataframe thead th {\n",
       "        text-align: right;\n",
       "    }\n",
       "</style>\n",
       "<table border=\"1\" class=\"dataframe\">\n",
       "  <thead>\n",
       "    <tr style=\"text-align: right;\">\n",
       "      <th></th>\n",
       "      <th>Unix Timestamp</th>\n",
       "      <th>Date</th>\n",
       "      <th>Symbol</th>\n",
       "      <th>Open</th>\n",
       "      <th>High</th>\n",
       "      <th>Low</th>\n",
       "      <th>Close</th>\n",
       "      <th>Volume</th>\n",
       "    </tr>\n",
       "  </thead>\n",
       "  <tbody>\n",
       "    <tr>\n",
       "      <th>2887</th>\n",
       "      <td>1576602000000</td>\n",
       "      <td>2019-12-17 17:00:00</td>\n",
       "      <td>ETHUSD</td>\n",
       "      <td>128.31</td>\n",
       "      <td>128.31</td>\n",
       "      <td>126.38</td>\n",
       "      <td>127.46</td>\n",
       "      <td>402.271541</td>\n",
       "    </tr>\n",
       "    <tr>\n",
       "      <th>2886</th>\n",
       "      <td>1576605600000</td>\n",
       "      <td>2019-12-17 18:00:00</td>\n",
       "      <td>ETHUSD</td>\n",
       "      <td>127.46</td>\n",
       "      <td>127.53</td>\n",
       "      <td>126.53</td>\n",
       "      <td>126.62</td>\n",
       "      <td>229.430010</td>\n",
       "    </tr>\n",
       "    <tr>\n",
       "      <th>2885</th>\n",
       "      <td>1576609200000</td>\n",
       "      <td>2019-12-17 19:00:00</td>\n",
       "      <td>ETHUSD</td>\n",
       "      <td>126.62</td>\n",
       "      <td>126.81</td>\n",
       "      <td>122.50</td>\n",
       "      <td>122.93</td>\n",
       "      <td>2012.801588</td>\n",
       "    </tr>\n",
       "    <tr>\n",
       "      <th>2884</th>\n",
       "      <td>1576612800000</td>\n",
       "      <td>2019-12-17 20:00:00</td>\n",
       "      <td>ETHUSD</td>\n",
       "      <td>122.93</td>\n",
       "      <td>123.20</td>\n",
       "      <td>120.44</td>\n",
       "      <td>120.94</td>\n",
       "      <td>2206.133446</td>\n",
       "    </tr>\n",
       "    <tr>\n",
       "      <th>2883</th>\n",
       "      <td>1576616400000</td>\n",
       "      <td>2019-12-17 21:00:00</td>\n",
       "      <td>ETHUSD</td>\n",
       "      <td>120.94</td>\n",
       "      <td>122.07</td>\n",
       "      <td>120.86</td>\n",
       "      <td>122.07</td>\n",
       "      <td>1044.554438</td>\n",
       "    </tr>\n",
       "  </tbody>\n",
       "</table>\n",
       "</div>"
      ],
      "text/plain": [
       "      Unix Timestamp                Date  Symbol    Open    High     Low  \\\n",
       "2887   1576602000000 2019-12-17 17:00:00  ETHUSD  128.31  128.31  126.38   \n",
       "2886   1576605600000 2019-12-17 18:00:00  ETHUSD  127.46  127.53  126.53   \n",
       "2885   1576609200000 2019-12-17 19:00:00  ETHUSD  126.62  126.81  122.50   \n",
       "2884   1576612800000 2019-12-17 20:00:00  ETHUSD  122.93  123.20  120.44   \n",
       "2883   1576616400000 2019-12-17 21:00:00  ETHUSD  120.94  122.07  120.86   \n",
       "\n",
       "       Close       Volume  \n",
       "2887  127.46   402.271541  \n",
       "2886  126.62   229.430010  \n",
       "2885  122.93  2012.801588  \n",
       "2884  120.94  2206.133446  \n",
       "2883  122.07  1044.554438  "
      ]
     },
     "execution_count": 6,
     "metadata": {},
     "output_type": "execute_result"
    }
   ],
   "source": [
    "train.tail()"
   ]
  },
  {
   "cell_type": "code",
   "execution_count": 7,
   "metadata": {},
   "outputs": [
    {
     "data": {
      "text/plain": [
       "<AxesSubplot:title={'center':'Eth Hourly data'}, xlabel='Date'>"
      ]
     },
     "execution_count": 7,
     "metadata": {},
     "output_type": "execute_result"
    },
    {
     "data": {
      "image/png": "[encoded data removed]",
      "text/plain": [
       "<Figure size 432x288 with 1 Axes>"
      ]
     },
     "metadata": {
      "needs_background": "light"
     },
     "output_type": "display_data"
    }
   ],
   "source": [
    "train.plot(x='Date',y='Close',title='Eth Hourly data')"
   ]
  },
  {
   "cell_type": "markdown",
   "metadata": {},
   "source": [
    "## Kalman filter\n",
    "\n",
    "Kalman filters are a lightweight algorithm often in an economic context for reducing noise in signals. The Kalman Filter is trained on a subset of the data, and then the parameters are passed into a prediction function for use in subsequent samples. As Kalman filters are one step predictors, at each time step, the filters is retrained and the system state and parameters are updated. \n",
    "\n",
    "This implemention was refined by Andrew Clark in a [recent paper](https://ideas.repec.org/p/rdg/emxxdp/em-dp2020-22.html) that used Kalman filters embedded into a cadCAD model for forecasting exchange rates."
   ]
  },
  {
   "cell_type": "code",
   "execution_count": 8,
   "metadata": {},
   "outputs": [],
   "source": [
    "import pandas as pd\n",
    "import numpy as np\n",
    "from scipy.stats import gamma\n",
    "\n",
    "def kalman_filter(observations,initialValue,truthValues=None,plot=False,paramExport=False):\n",
    "    '''\n",
    "    Description:\n",
    "    Function to create a Kalman Filter for smoothing currency timestamps in order to search for the\n",
    "    intrinisic value.\n",
    "    \n",
    "    Parameters:\n",
    "    observations: Array of observations, i.e. predicted secondary market prices.\n",
    "    initialValue: Initial Starting value of filter\n",
    "    truthValues: Array of truth values, i.e. GPS location or secondary market prices. Or can be left\n",
    "    blank if none exist\n",
    "    plot: If True, plot the observations, truth values and kalman filter.\n",
    "    paramExport: If True, the parameters xhat,P,xhatminus,Pminus,K are returned to use in training.\n",
    "    \n",
    "    Example:\n",
    "    xhat,P,xhatminus,Pminus,K = kalman_filter(observations=train.Close.values[0:-1],\n",
    "                                              initialValue=train.Close.values[-1],paramExport=True)\n",
    "    '''\n",
    "    # intial parameters\n",
    "    n_iter = len(observations)\n",
    "    sz = (n_iter,) # size of array\n",
    "    if isinstance(truthValues,np.ndarray):\n",
    "        x = truthValues # truth value\n",
    "    z = observations# observations (normal about x, sigma=0.1)\n",
    "\n",
    "    Q = 1e-5 # process variance\n",
    "\n",
    "    # allocate space for arrays\n",
    "    xhat=np.zeros(sz)      # a posteri estimate of x\n",
    "    P=np.zeros(sz)         # a posteri error estimate\n",
    "    xhatminus=np.zeros(sz) # a priori estimate of x\n",
    "    Pminus=np.zeros(sz)    # a priori error estimate\n",
    "    K=np.zeros(sz)         # gain or blending factor\n",
    "\n",
    "    R = 0.5**2 # estimate of measurement variance, change to see effect\n",
    "\n",
    "    # intial guesses\n",
    "    xhat[0] = initialValue\n",
    "    P[0] = 1.0\n",
    "\n",
    "    for k in range(1,n_iter):\n",
    "        # time update\n",
    "        xhatminus[k] = xhat[k-1]\n",
    "        Pminus[k] = P[k-1]+Q\n",
    "\n",
    "        # measurement update\n",
    "        K[k] = Pminus[k]/( Pminus[k]+R )\n",
    "        xhat[k] = xhatminus[k]+K[k]*(z[k]-xhatminus[k])\n",
    "        P[k] = (1-K[k])*Pminus[k]\n",
    "\n",
    "    if plot==True:\n",
    "        plt.figure()\n",
    "        plt.plot(z,'k+',label='Actual data')\n",
    "        plt.plot(xhat,'b-',label='a posteri estimate')\n",
    "        if isinstance(truthValues,np.ndarray):\n",
    "            plt.plot(x,color='g',label='truth value')\n",
    "        plt.legend()\n",
    "        plt.title('Kalman Filter Estimates', fontweight='bold')\n",
    "        plt.xlabel('Iteration')\n",
    "        plt.ylabel('USD')\n",
    "        plt.show()\n",
    "\n",
    "    if paramExport==True:\n",
    "        return  xhat,P,xhatminus,Pminus,K\n",
    "\n",
    "    else:\n",
    "\n",
    "        return xhat\n",
    "\n",
    "def kalman_filter_predict(xhat,P,xhatminus,Pminus,K,observations,truthValues=None,paramExport=False):\n",
    "    '''\n",
    "    Description:\n",
    "    Function to predict a pre-trained Kalman Filter 1 step forward.\n",
    "    \n",
    "    Parameters:\n",
    "    xhat: Trained Kalman filter values - array\n",
    "    P: Trained Kalman variance - array\n",
    "    xhatminus: Trained Kalman xhat delta - array\n",
    "    Pminus: Trained Kalman variance delta - array\n",
    "    K: Kalman gain - array\n",
    "    observations: Array of observations, i.e. predicted secondary market prices.\n",
    "    truthValues: Array of truth values, i.e. GPS location or secondary market prices. Or can be left\n",
    "    blank if none exist\n",
    "    paramExport: If True, the parameters xhat,P,xhatminus,Pminus,K are returned to use in next predicted step.\n",
    "    \n",
    "    Example:\n",
    "    xhat,P,xhatminus,Pminus,K = kalman_filter_predict(xhatInput,PInput,\n",
    "                                                      xhatminusInput,PminusInput,KInput,observation,\n",
    "                                                       paramExport=True)\n",
    "    '''\n",
    "    # intial parameters\n",
    "    if isinstance(truthValues,np.ndarray):\n",
    "        x = truthValues # truth value\n",
    "    z = observations# observations (normal about x, sigma=0.1)\n",
    "\n",
    "    Q = 1e-5 # process variance\n",
    "\n",
    "    R = 0.5**2 # estimate of measurement variance, change to see effect\n",
    "\n",
    "\n",
    "    # time update\n",
    "    xhatminus = np.append(xhatminus,xhat[-1])\n",
    "    Pminus = np.append(Pminus,P[-1]+Q)\n",
    "\n",
    "    # measurement update\n",
    "    K = np.append(K,Pminus[-1]/( Pminus[-1]+R ))\n",
    "    xhat = np.append(xhat,xhatminus[-1]+K[-1]*(z[-1]-xhatminus[-1]))\n",
    "    P = np.append(P,(1-K[-1])*Pminus[-1])\n",
    "\n",
    "    if paramExport==True:\n",
    "        return  xhat,P,xhatminus,Pminus,K\n",
    "\n",
    "    else:\n",
    "\n",
    "        return xhat"
   ]
  },
  {
   "cell_type": "markdown",
   "metadata": {},
   "source": [
    "## Process training\n",
    "\n",
    "Fit the gamma distribution off of the training data."
   ]
  },
  {
   "cell_type": "code",
   "execution_count": 9,
   "metadata": {},
   "outputs": [
    {
     "data": {
      "text/plain": [
       "401.794170704111"
      ]
     },
     "execution_count": 9,
     "metadata": {},
     "output_type": "execute_result"
    }
   ],
   "source": [
    "timesteps = 24 * 365 # 24 hours a day * 365 days a year \n",
    "# fit eth distribution\n",
    "fit_shape, fit_loc, fit_scale = gamma.fit(train.Close.values)\n",
    "sample = np.random.gamma(fit_shape, fit_scale, 100)[0]\n",
    "sample"
   ]
  },
  {
   "cell_type": "code",
   "execution_count": 10,
   "metadata": {},
   "outputs": [
    {
     "data": {
      "text/plain": [
       "Text(0.5, 1.0, 'Histogram of Eth Price IID Samples')"
      ]
     },
     "execution_count": 10,
     "metadata": {},
     "output_type": "execute_result"
    },
    {
     "data": {
      "image/png": "[encoded data removed]",
      "text/plain": [
       "<Figure size 432x288 with 1 Axes>"
      ]
     },
     "metadata": {
      "needs_background": "light"
     },
     "output_type": "display_data"
    }
   ],
   "source": [
    "# generate 100 samples for initialization of Kalman\n",
    "samples = np.random.gamma(fit_shape, fit_scale, 100)\n",
    "plt.hist(samples)\n",
    "plt.title('Histogram of Eth Price IID Samples')"
   ]
  },
  {
   "cell_type": "code",
   "execution_count": 11,
   "metadata": {},
   "outputs": [
    {
     "data": {
      "image/png": "[encoded data removed]",
      "text/plain": [
       "<Figure size 432x288 with 1 Axes>"
      ]
     },
     "metadata": {
      "needs_background": "light"
     },
     "output_type": "display_data"
    }
   ],
   "source": [
    "# train kalman\n",
    "xhat,P,xhatminus,Pminus,K = kalman_filter(observations=samples[0:-1],\n",
    "                                          initialValue=samples[-1],paramExport=True,plot=True)"
   ]
  },
  {
   "cell_type": "markdown",
   "metadata": {},
   "source": [
    "## Validation\n",
    "\n",
    "To test how our generator is working, we will make 100 predictions and compare to the test data."
   ]
  },
  {
   "cell_type": "code",
   "execution_count": 12,
   "metadata": {},
   "outputs": [],
   "source": [
    "eth_values = []\n",
    "filter_values = {'xhat':xhat,'P':P,\n",
    "                 'xhatminus':xhatminus,'Pminus':Pminus,\n",
    "                 'K':K}\n",
    "\n",
    "for i in range(0,100):\n",
    "    sample = np.random.gamma(fit_shape, fit_scale, 1)[0]\n",
    "    eth_values.append(sample)\n",
    "    xhat,P,xhatminus,Pminus,K = kalman_filter_predict(filter_values['xhat'],\n",
    "                                                  filter_values['P'],\n",
    "                                                  filter_values['xhatminus'],\n",
    "                                                  filter_values['Pminus'],\n",
    "                                                  filter_values['K'],\n",
    "                                                  eth_values,\n",
    "                                                  paramExport=True)\n",
    "    filter_values = {'xhat':xhat,'P':P,\n",
    "                 'xhatminus':xhatminus,'Pminus':Pminus,\n",
    "                 'K':K}\n",
    "                                                                    "
   ]
  },
  {
   "cell_type": "code",
   "execution_count": 13,
   "metadata": {
    "scrolled": true
   },
   "outputs": [
    {
     "data": {
      "image/png": "[encoded data removed]",
      "text/plain": [
       "<Figure size 432x288 with 1 Axes>"
      ]
     },
     "metadata": {
      "needs_background": "light"
     },
     "output_type": "display_data"
    }
   ],
   "source": [
    "plt.plot(xhat[100:], label = 'Predicted')\n",
    "plt.plot(test.head(100)['Close'].values, label = 'Actual')\n",
    "plt.xlabel('Predictions')\n",
    "plt.ylabel('Eth value in USD')\n",
    "# Set a title of the current axes.\n",
    "plt.title('Predicted vs actual')\n",
    "plt.legend()\n",
    "# Display a figure.\n",
    "plt.show()"
   ]
  },
  {
   "cell_type": "markdown",
   "metadata": {},
   "source": [
    "## Generate data for simulation"
   ]
  },
  {
   "cell_type": "code",
   "execution_count": 14,
   "metadata": {},
   "outputs": [
    {
     "data": {
      "image/png": "[encoded data removed]",
      "text/plain": [
       "<Figure size 432x288 with 1 Axes>"
      ]
     },
     "metadata": {
      "needs_background": "light"
     },
     "output_type": "display_data"
    }
   ],
   "source": [
    "samples = np.random.gamma(fit_shape, fit_scale, 100)\n",
    "# train kalman\n",
    "xhat,P,xhatminus,Pminus,K = kalman_filter(observations=samples[0:-1],\n",
    "                                          initialValue=samples[-1],paramExport=True,plot=True)"
   ]
  },
  {
   "cell_type": "code",
   "execution_count": 15,
   "metadata": {},
   "outputs": [],
   "source": [
    "eth_values = []\n",
    "filter_values = {'xhat':xhat,'P':P,\n",
    "                 'xhatminus':xhatminus,'Pminus':Pminus,\n",
    "                 'K':K}\n",
    "\n",
    "for i in range(0,timesteps+1):\n",
    "    sample = np.random.gamma(fit_shape, fit_scale, 1)[0]\n",
    "    eth_values.append(sample)\n",
    "    xhat,P,xhatminus,Pminus,K = kalman_filter_predict(filter_values['xhat'],\n",
    "                                                  filter_values['P'],\n",
    "                                                  filter_values['xhatminus'],\n",
    "                                                  filter_values['Pminus'],\n",
    "                                                  filter_values['K'],\n",
    "                                                  eth_values,\n",
    "                                                  paramExport=True)\n",
    "    filter_values = {'xhat':xhat,'P':P,\n",
    "                 'xhatminus':xhatminus,'Pminus':Pminus,\n",
    "                 'K':K}\n",
    "                                                                    "
   ]
  },
  {
   "cell_type": "code",
   "execution_count": 16,
   "metadata": {},
   "outputs": [
    {
     "data": {
      "text/plain": [
       "Text(0.5, 1.0, 'Histogram of Eth Price IID Samples')"
      ]
     },
     "execution_count": 16,
     "metadata": {},
     "output_type": "execute_result"
    },
    {
     "data": {
      "image/png": "[encoded data removed]",
      "text/plain": [
       "<Figure size 432x288 with 1 Axes>"
      ]
     },
     "metadata": {
      "needs_background": "light"
     },
     "output_type": "display_data"
    }
   ],
   "source": [
    "plt.hist(xhat[100:])\n",
    "plt.title('Histogram of Eth Price IID Samples')"
   ]
  },
  {
   "cell_type": "code",
   "execution_count": 17,
   "metadata": {},
   "outputs": [
    {
     "data": {
      "text/plain": [
       "Text(0.5, 1.0, 'Predicted Eth Prices')"
      ]
     },
     "execution_count": 17,
     "metadata": {},
     "output_type": "execute_result"
    },
    {
     "data": {
      "image/png": "[encoded data removed]",
      "text/plain": [
       "<Figure size 432x288 with 1 Axes>"
      ]
     },
     "metadata": {
      "needs_background": "light"
     },
     "output_type": "display_data"
    }
   ],
   "source": [
    "plt.plot(xhat[100:])\n",
    "plt.title('Predicted Eth Prices')"
   ]
  },
  {
   "cell_type": "code",
   "execution_count": 18,
   "metadata": {},
   "outputs": [
    {
     "data": {
      "text/plain": [
       "8760"
      ]
     },
     "execution_count": 18,
     "metadata": {},
     "output_type": "execute_result"
    }
   ],
   "source": [
    "timesteps"
   ]
  },
  {
   "cell_type": "code",
   "execution_count": 19,
   "metadata": {},
   "outputs": [
    {
     "data": {
      "text/html": [
       "<div>\n",
       "<style scoped>\n",
       "    .dataframe tbody tr th:only-of-type {\n",
       "        vertical-align: middle;\n",
       "    }\n",
       "\n",
       "    .dataframe tbody tr th {\n",
       "        vertical-align: top;\n",
       "    }\n",
       "\n",
       "    .dataframe thead th {\n",
       "        text-align: right;\n",
       "    }\n",
       "</style>\n",
       "<table border=\"1\" class=\"dataframe\">\n",
       "  <thead>\n",
       "    <tr style=\"text-align: right;\">\n",
       "      <th></th>\n",
       "      <th>Eth_price</th>\n",
       "    </tr>\n",
       "  </thead>\n",
       "  <tbody>\n",
       "    <tr>\n",
       "      <th>0</th>\n",
       "      <td>552.325592</td>\n",
       "    </tr>\n",
       "    <tr>\n",
       "      <th>1</th>\n",
       "      <td>405.882911</td>\n",
       "    </tr>\n",
       "    <tr>\n",
       "      <th>2</th>\n",
       "      <td>119.303215</td>\n",
       "    </tr>\n",
       "    <tr>\n",
       "      <th>3</th>\n",
       "      <td>327.884775</td>\n",
       "    </tr>\n",
       "    <tr>\n",
       "      <th>4</th>\n",
       "      <td>209.734718</td>\n",
       "    </tr>\n",
       "  </tbody>\n",
       "</table>\n",
       "</div>"
      ],
      "text/plain": [
       "    Eth_price\n",
       "0  552.325592\n",
       "1  405.882911\n",
       "2  119.303215\n",
       "3  327.884775\n",
       "4  209.734718"
      ]
     },
     "execution_count": 19,
     "metadata": {},
     "output_type": "execute_result"
    }
   ],
   "source": [
    "eth_prices = pd.DataFrame(eth_values,columns=['Eth_price'])\n",
    "eth_prices.head()"
   ]
  },
  {
   "cell_type": "code",
   "execution_count": 20,
   "metadata": {},
   "outputs": [],
   "source": [
    "# export data\n",
    "eth_prices.to_csv('data/eth_prices.csv')"
   ]
  },
  {
   "cell_type": "markdown",
   "metadata": {},
   "source": [
    "### Generate Monte Carlo runs"
   ]
  },
  {
   "cell_type": "code",
   "execution_count": 21,
   "metadata": {},
   "outputs": [],
   "source": [
    "def generate_eth_timeseries(xhat, P, xhatminus, Pminus, K):\n",
    "    eth_values = []\n",
    "    filter_values = {'xhat':xhat,'P':P,\n",
    "                     'xhatminus':xhatminus,'Pminus':Pminus,\n",
    "                     'K':K}\n",
    "\n",
    "    for i in range(0,timesteps+1):\n",
    "        sample = np.random.gamma(fit_shape, fit_scale, 1)[0]\n",
    "        eth_values.append(sample)\n",
    "        xhat,P,xhatminus,Pminus,K = kalman_filter_predict(filter_values['xhat'],\n",
    "                                                      filter_values['P'],\n",
    "                                                      filter_values['xhatminus'],\n",
    "                                                      filter_values['Pminus'],\n",
    "                                                      filter_values['K'],\n",
    "                                                      eth_values,\n",
    "                                                      paramExport=True)\n",
    "        filter_values = {'xhat':xhat,'P':P,\n",
    "                     'xhatminus':xhatminus,'Pminus':Pminus,\n",
    "                     'K':K}\n",
    "\n",
    "    return eth_values, xhat, P, xhatminus, Pminus, K"
   ]
  },
  {
   "cell_type": "code",
   "execution_count": 22,
   "metadata": {},
   "outputs": [
    {
     "data": {
      "text/html": [
       "<div>\n",
       "<style scoped>\n",
       "    .dataframe tbody tr th:only-of-type {\n",
       "        vertical-align: middle;\n",
       "    }\n",
       "\n",
       "    .dataframe tbody tr th {\n",
       "        vertical-align: top;\n",
       "    }\n",
       "\n",
       "    .dataframe thead th {\n",
       "        text-align: right;\n",
       "    }\n",
       "</style>\n",
       "<table border=\"1\" class=\"dataframe\">\n",
       "  <thead>\n",
       "    <tr style=\"text-align: right;\">\n",
       "      <th></th>\n",
       "      <th>0</th>\n",
       "      <th>1</th>\n",
       "      <th>2</th>\n",
       "      <th>3</th>\n",
       "      <th>4</th>\n",
       "      <th>5</th>\n",
       "      <th>6</th>\n",
       "      <th>7</th>\n",
       "      <th>8</th>\n",
       "      <th>9</th>\n",
       "      <th>...</th>\n",
       "      <th>90</th>\n",
       "      <th>91</th>\n",
       "      <th>92</th>\n",
       "      <th>93</th>\n",
       "      <th>94</th>\n",
       "      <th>95</th>\n",
       "      <th>96</th>\n",
       "      <th>97</th>\n",
       "      <th>98</th>\n",
       "      <th>99</th>\n",
       "    </tr>\n",
       "  </thead>\n",
       "  <tbody>\n",
       "    <tr>\n",
       "      <th>0</th>\n",
       "      <td>294.069151</td>\n",
       "      <td>289.017021</td>\n",
       "      <td>311.479566</td>\n",
       "      <td>285.456136</td>\n",
       "      <td>304.561903</td>\n",
       "      <td>305.249439</td>\n",
       "      <td>285.852508</td>\n",
       "      <td>266.795212</td>\n",
       "      <td>315.128679</td>\n",
       "      <td>297.447705</td>\n",
       "      <td>...</td>\n",
       "      <td>287.736575</td>\n",
       "      <td>342.620968</td>\n",
       "      <td>299.501535</td>\n",
       "      <td>271.148406</td>\n",
       "      <td>277.532403</td>\n",
       "      <td>296.972478</td>\n",
       "      <td>327.104598</td>\n",
       "      <td>281.880190</td>\n",
       "      <td>295.590061</td>\n",
       "      <td>271.618713</td>\n",
       "    </tr>\n",
       "    <tr>\n",
       "      <th>1</th>\n",
       "      <td>291.208252</td>\n",
       "      <td>286.293512</td>\n",
       "      <td>308.368393</td>\n",
       "      <td>288.932571</td>\n",
       "      <td>301.276414</td>\n",
       "      <td>303.457638</td>\n",
       "      <td>285.341682</td>\n",
       "      <td>270.216858</td>\n",
       "      <td>311.726000</td>\n",
       "      <td>294.586887</td>\n",
       "      <td>...</td>\n",
       "      <td>286.549051</td>\n",
       "      <td>347.811967</td>\n",
       "      <td>299.726021</td>\n",
       "      <td>269.648808</td>\n",
       "      <td>276.460924</td>\n",
       "      <td>295.856362</td>\n",
       "      <td>323.912333</td>\n",
       "      <td>281.359037</td>\n",
       "      <td>294.499980</td>\n",
       "      <td>272.217272</td>\n",
       "    </tr>\n",
       "    <tr>\n",
       "      <th>2</th>\n",
       "      <td>292.287792</td>\n",
       "      <td>286.429957</td>\n",
       "      <td>306.696987</td>\n",
       "      <td>287.508217</td>\n",
       "      <td>303.735994</td>\n",
       "      <td>303.220909</td>\n",
       "      <td>288.147963</td>\n",
       "      <td>270.415639</td>\n",
       "      <td>310.038556</td>\n",
       "      <td>296.809637</td>\n",
       "      <td>...</td>\n",
       "      <td>284.110618</td>\n",
       "      <td>345.438173</td>\n",
       "      <td>299.071760</td>\n",
       "      <td>266.715143</td>\n",
       "      <td>276.159000</td>\n",
       "      <td>293.091741</td>\n",
       "      <td>322.825844</td>\n",
       "      <td>280.699804</td>\n",
       "      <td>291.923617</td>\n",
       "      <td>274.897610</td>\n",
       "    </tr>\n",
       "    <tr>\n",
       "      <th>3</th>\n",
       "      <td>289.343698</td>\n",
       "      <td>285.480534</td>\n",
       "      <td>308.867090</td>\n",
       "      <td>287.181073</td>\n",
       "      <td>302.385064</td>\n",
       "      <td>306.232074</td>\n",
       "      <td>288.323926</td>\n",
       "      <td>268.505981</td>\n",
       "      <td>309.143930</td>\n",
       "      <td>293.718280</td>\n",
       "      <td>...</td>\n",
       "      <td>281.514202</td>\n",
       "      <td>342.457540</td>\n",
       "      <td>298.012108</td>\n",
       "      <td>265.811920</td>\n",
       "      <td>275.731597</td>\n",
       "      <td>293.485346</td>\n",
       "      <td>319.875917</td>\n",
       "      <td>284.468120</td>\n",
       "      <td>290.939461</td>\n",
       "      <td>272.602730</td>\n",
       "    </tr>\n",
       "    <tr>\n",
       "      <th>4</th>\n",
       "      <td>286.827771</td>\n",
       "      <td>283.609768</td>\n",
       "      <td>310.211675</td>\n",
       "      <td>286.439339</td>\n",
       "      <td>300.952013</td>\n",
       "      <td>303.643975</td>\n",
       "      <td>286.063392</td>\n",
       "      <td>276.922179</td>\n",
       "      <td>314.526611</td>\n",
       "      <td>294.119983</td>\n",
       "      <td>...</td>\n",
       "      <td>281.540759</td>\n",
       "      <td>348.351141</td>\n",
       "      <td>297.023154</td>\n",
       "      <td>269.902973</td>\n",
       "      <td>273.791442</td>\n",
       "      <td>290.415372</td>\n",
       "      <td>319.661493</td>\n",
       "      <td>283.548651</td>\n",
       "      <td>292.161562</td>\n",
       "      <td>270.275139</td>\n",
       "    </tr>\n",
       "    <tr>\n",
       "      <th>...</th>\n",
       "      <td>...</td>\n",
       "      <td>...</td>\n",
       "      <td>...</td>\n",
       "      <td>...</td>\n",
       "      <td>...</td>\n",
       "      <td>...</td>\n",
       "      <td>...</td>\n",
       "      <td>...</td>\n",
       "      <td>...</td>\n",
       "      <td>...</td>\n",
       "      <td>...</td>\n",
       "      <td>...</td>\n",
       "      <td>...</td>\n",
       "      <td>...</td>\n",
       "      <td>...</td>\n",
       "      <td>...</td>\n",
       "      <td>...</td>\n",
       "      <td>...</td>\n",
       "      <td>...</td>\n",
       "      <td>...</td>\n",
       "      <td>...</td>\n",
       "    </tr>\n",
       "    <tr>\n",
       "      <th>8754</th>\n",
       "      <td>291.054350</td>\n",
       "      <td>273.183841</td>\n",
       "      <td>278.623425</td>\n",
       "      <td>283.930814</td>\n",
       "      <td>268.277872</td>\n",
       "      <td>277.211292</td>\n",
       "      <td>296.892119</td>\n",
       "      <td>295.057406</td>\n",
       "      <td>289.523762</td>\n",
       "      <td>295.089401</td>\n",
       "      <td>...</td>\n",
       "      <td>287.123399</td>\n",
       "      <td>298.913612</td>\n",
       "      <td>288.448009</td>\n",
       "      <td>313.363646</td>\n",
       "      <td>296.283557</td>\n",
       "      <td>295.285247</td>\n",
       "      <td>289.361114</td>\n",
       "      <td>279.193012</td>\n",
       "      <td>304.083736</td>\n",
       "      <td>293.760161</td>\n",
       "    </tr>\n",
       "    <tr>\n",
       "      <th>8755</th>\n",
       "      <td>290.618717</td>\n",
       "      <td>272.267694</td>\n",
       "      <td>278.507186</td>\n",
       "      <td>283.542749</td>\n",
       "      <td>268.235307</td>\n",
       "      <td>277.708453</td>\n",
       "      <td>298.132563</td>\n",
       "      <td>293.827073</td>\n",
       "      <td>288.674255</td>\n",
       "      <td>296.754460</td>\n",
       "      <td>...</td>\n",
       "      <td>285.536671</td>\n",
       "      <td>299.765659</td>\n",
       "      <td>289.609097</td>\n",
       "      <td>312.842586</td>\n",
       "      <td>298.653646</td>\n",
       "      <td>294.805674</td>\n",
       "      <td>289.684778</td>\n",
       "      <td>281.969751</td>\n",
       "      <td>302.350300</td>\n",
       "      <td>292.801893</td>\n",
       "    </tr>\n",
       "    <tr>\n",
       "      <th>8756</th>\n",
       "      <td>294.051768</td>\n",
       "      <td>276.645918</td>\n",
       "      <td>278.793335</td>\n",
       "      <td>286.448911</td>\n",
       "      <td>268.398035</td>\n",
       "      <td>279.435235</td>\n",
       "      <td>299.549150</td>\n",
       "      <td>293.808783</td>\n",
       "      <td>287.564452</td>\n",
       "      <td>295.050631</td>\n",
       "      <td>...</td>\n",
       "      <td>284.246001</td>\n",
       "      <td>299.965354</td>\n",
       "      <td>288.380118</td>\n",
       "      <td>317.322889</td>\n",
       "      <td>299.029582</td>\n",
       "      <td>293.471388</td>\n",
       "      <td>288.025921</td>\n",
       "      <td>281.728333</td>\n",
       "      <td>302.315996</td>\n",
       "      <td>291.420468</td>\n",
       "    </tr>\n",
       "    <tr>\n",
       "      <th>8757</th>\n",
       "      <td>292.504724</td>\n",
       "      <td>274.933665</td>\n",
       "      <td>277.735662</td>\n",
       "      <td>284.766537</td>\n",
       "      <td>268.450773</td>\n",
       "      <td>285.236146</td>\n",
       "      <td>297.973778</td>\n",
       "      <td>293.393772</td>\n",
       "      <td>287.940444</td>\n",
       "      <td>294.210482</td>\n",
       "      <td>...</td>\n",
       "      <td>283.116980</td>\n",
       "      <td>299.556987</td>\n",
       "      <td>288.621344</td>\n",
       "      <td>318.103574</td>\n",
       "      <td>299.059813</td>\n",
       "      <td>297.777408</td>\n",
       "      <td>288.005351</td>\n",
       "      <td>281.464006</td>\n",
       "      <td>301.991184</td>\n",
       "      <td>290.159553</td>\n",
       "    </tr>\n",
       "    <tr>\n",
       "      <th>8758</th>\n",
       "      <td>296.219229</td>\n",
       "      <td>276.330760</td>\n",
       "      <td>277.383716</td>\n",
       "      <td>286.261491</td>\n",
       "      <td>269.628730</td>\n",
       "      <td>284.857973</td>\n",
       "      <td>298.946032</td>\n",
       "      <td>292.130157</td>\n",
       "      <td>289.162735</td>\n",
       "      <td>293.422330</td>\n",
       "      <td>...</td>\n",
       "      <td>282.524199</td>\n",
       "      <td>299.687609</td>\n",
       "      <td>289.090000</td>\n",
       "      <td>316.717034</td>\n",
       "      <td>298.985407</td>\n",
       "      <td>297.698230</td>\n",
       "      <td>286.390311</td>\n",
       "      <td>283.278993</td>\n",
       "      <td>301.207070</td>\n",
       "      <td>290.077283</td>\n",
       "    </tr>\n",
       "  </tbody>\n",
       "</table>\n",
       "<p>8759 rows × 100 columns</p>\n",
       "</div>"
      ],
      "text/plain": [
       "              0           1           2           3           4           5   \\\n",
       "0     294.069151  289.017021  311.479566  285.456136  304.561903  305.249439   \n",
       "1     291.208252  286.293512  308.368393  288.932571  301.276414  303.457638   \n",
       "2     292.287792  286.429957  306.696987  287.508217  303.735994  303.220909   \n",
       "3     289.343698  285.480534  308.867090  287.181073  302.385064  306.232074   \n",
       "4     286.827771  283.609768  310.211675  286.439339  300.952013  303.643975   \n",
       "...          ...         ...         ...         ...         ...         ...   \n",
       "8754  291.054350  273.183841  278.623425  283.930814  268.277872  277.211292   \n",
       "8755  290.618717  272.267694  278.507186  283.542749  268.235307  277.708453   \n",
       "8756  294.051768  276.645918  278.793335  286.448911  268.398035  279.435235   \n",
       "8757  292.504724  274.933665  277.735662  284.766537  268.450773  285.236146   \n",
       "8758  296.219229  276.330760  277.383716  286.261491  269.628730  284.857973   \n",
       "\n",
       "              6           7           8           9   ...          90  \\\n",
       "0     285.852508  266.795212  315.128679  297.447705  ...  287.736575   \n",
       "1     285.341682  270.216858  311.726000  294.586887  ...  286.549051   \n",
       "2     288.147963  270.415639  310.038556  296.809637  ...  284.110618   \n",
       "3     288.323926  268.505981  309.143930  293.718280  ...  281.514202   \n",
       "4     286.063392  276.922179  314.526611  294.119983  ...  281.540759   \n",
       "...          ...         ...         ...         ...  ...         ...   \n",
       "8754  296.892119  295.057406  289.523762  295.089401  ...  287.123399   \n",
       "8755  298.132563  293.827073  288.674255  296.754460  ...  285.536671   \n",
       "8756  299.549150  293.808783  287.564452  295.050631  ...  284.246001   \n",
       "8757  297.973778  293.393772  287.940444  294.210482  ...  283.116980   \n",
       "8758  298.946032  292.130157  289.162735  293.422330  ...  282.524199   \n",
       "\n",
       "              91          92          93          94          95          96  \\\n",
       "0     342.620968  299.501535  271.148406  277.532403  296.972478  327.104598   \n",
       "1     347.811967  299.726021  269.648808  276.460924  295.856362  323.912333   \n",
       "2     345.438173  299.071760  266.715143  276.159000  293.091741  322.825844   \n",
       "3     342.457540  298.012108  265.811920  275.731597  293.485346  319.875917   \n",
       "4     348.351141  297.023154  269.902973  273.791442  290.415372  319.661493   \n",
       "...          ...         ...         ...         ...         ...         ...   \n",
       "8754  298.913612  288.448009  313.363646  296.283557  295.285247  289.361114   \n",
       "8755  299.765659  289.609097  312.842586  298.653646  294.805674  289.684778   \n",
       "8756  299.965354  288.380118  317.322889  299.029582  293.471388  288.025921   \n",
       "8757  299.556987  288.621344  318.103574  299.059813  297.777408  288.005351   \n",
       "8758  299.687609  289.090000  316.717034  298.985407  297.698230  286.390311   \n",
       "\n",
       "              97          98          99  \n",
       "0     281.880190  295.590061  271.618713  \n",
       "1     281.359037  294.499980  272.217272  \n",
       "2     280.699804  291.923617  274.897610  \n",
       "3     284.468120  290.939461  272.602730  \n",
       "4     283.548651  292.161562  270.275139  \n",
       "...          ...         ...         ...  \n",
       "8754  279.193012  304.083736  293.760161  \n",
       "8755  281.969751  302.350300  292.801893  \n",
       "8756  281.728333  302.315996  291.420468  \n",
       "8757  281.464006  301.991184  290.159553  \n",
       "8758  283.278993  301.207070  290.077283  \n",
       "\n",
       "[8759 rows x 100 columns]"
      ]
     },
     "execution_count": 22,
     "metadata": {},
     "output_type": "execute_result"
    }
   ],
   "source": [
    "monte_carlo_runs = 100\n",
    "\n",
    "eth_values_mc = {}\n",
    "for run in range(0, monte_carlo_runs):\n",
    "    np.random.seed(seed=run)\n",
    "    \n",
    "    buffer_for_transcients = 100\n",
    "    samples = np.random.gamma(fit_shape, fit_scale, timesteps + buffer_for_transcients)\n",
    "    # train kalman\n",
    "    xhat,P,xhatminus,Pminus,K = kalman_filter(observations=samples[0:-1],\n",
    "                                              initialValue=samples[-1],paramExport=True,plot=False)\n",
    "    \n",
    "    # eth_values, _, _, _, _, _ = generate_eth_timeseries(xhat, P, xhatminus, Pminus, K)\n",
    "    eth_values_mc[run] = xhat[buffer_for_transcients:]\n",
    "    \n",
    "eth_values, xhat, P, xhatminus, Pminus, K = generate_eth_timeseries(xhat, P, xhatminus, Pminus, K)\n",
    "\n",
    "eth_values_mc_df = pd.DataFrame(eth_values_mc)\n",
    "eth_values_mc_df.to_csv('data/eth_values_mc.csv')\n",
    "eth_values_mc_df"
   ]
  },
  {
   "cell_type": "markdown",
   "metadata": {},
   "source": [
    "## Implementation information\n",
    "Below is an example of how to integrate these univariate time series datasets into the exogenous process section of a cadCAD model, assuming each timestep is an hour.\n",
    "\n",
    "\n",
    "```\n",
    "    \n",
    "# partial_state_update_block.py\n",
    "partial_state_update_block = {\n",
    "    # Exogenous\n",
    "    'Exogenous': {\n",
    "        'policies': {\n",
    "        },\n",
    "        'variables': {\n",
    "            'eth_price': eth_price_mech,\n",
    "        }\n",
    "    },\n",
    "    \n",
    "# exogenousProcesses.py\n",
    "\n",
    "\n",
    "# import libraries\n",
    "import pandas as pd\n",
    "\n",
    "# import data\n",
    "eth_prices = pd.read_csv('data/eth_prices.csv')\n",
    "\n",
    "# mechanisms\n",
    "def eth_price_mech(params, step, sL, s, _input):\n",
    "    y = 'eth_price'\n",
    "    timestep = s['timestep'] \n",
    "    x = eth_prices.Eth_price.values[timestep]\n",
    "    return (y, x)\n",
    "\n",
    "    \n",
    "```"
   ]
  },
  {
   "cell_type": "markdown",
   "metadata": {},
   "source": [
    "## Conclusion\n",
    "\n",
    "In this notebook, we've read in hourly historical eth data from kaggle, defined functions for fitting and making predictions off of a gamma distribution, which is comminly used in for random walk calculations, and defined functions for de-noising kalman filter. We then validated the structure of these functions and predicted 100 timesteps for evaluation and demonstration purposes. Finally, we provided an overview of how to fit this code into cadCAD. Next steps could include:\n",
    "* Refining the Kalman filter hyperparameters\n",
    "* Refining the gamma prediction tuning parameter\n",
    "* More thorough model validation\n",
    "* Add seasonality\n",
    "\n"
   ]
  }
 ],
 "metadata": {
  "kernelspec": {
   "display_name": "Python (Reflexer)",
   "language": "python",
   "name": "python-reflexer"
  },
  "language_info": {
   "codemirror_mode": {
    "name": "ipython",
    "version": 3
   },
   "file_extension": ".py",
   "mimetype": "text/x-python",
   "name": "python",
   "nbconvert_exporter": "python",
   "pygments_lexer": "ipython3",
   "version": "3.8.3"
  }
 },
 "nbformat": 4,
 "nbformat_minor": 4
}
