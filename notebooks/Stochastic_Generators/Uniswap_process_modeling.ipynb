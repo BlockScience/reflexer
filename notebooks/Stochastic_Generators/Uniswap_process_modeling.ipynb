{
 "cells": [
  {
   "cell_type": "markdown",
   "metadata": {},
   "source": [
    "# Exogenous Uniswap Process modeling \n",
    "\n",
    "\n",
    "## Liquidity demand stochastic process\n",
    "\n",
    "1. Acquire time series of order book for single collateral DAI 2017-2019; this is the proxy for the liquidity demand of RAI\n",
    "2. Fit a parametric distribution to the data, resulting in a distribution $F^D_{RAI}(t;\\mu_{RAI})$ and fitted parameters $\\mu_{RAI}$.\n",
    "\n",
    "\n",
    "To obtain this data, we ran a [Uniswap cadCAD model](https://github.com/cadCAD-org/demos/tree/master/demos/Multiscale/uniswap) twice, once to obtain Buy/Sell univariate time series data and once for obtaining univariate time series liquidity data. Shown below is the modification between runs. We then saved these runs as csv files and continue bring the data into this notebook for building stochastic generators.\n",
    "\n",
    "\n",
    "```\n",
    "# Mechanisms\n",
    "def mechanismHub_DAI(params, step, history, current_state, input_):\n",
    "    action = input_['action_id']\n",
    "    # 1 Buy/Sell\n",
    "    if action == 'TokenPurchase':\n",
    "        return ethToToken_DAI(params, step, history, current_state, input_)\n",
    "    elif action == 'EthPurchase':\n",
    "        return tokenToEth_DAI(params, step, history, current_state, input_)\n",
    "    # 2 Add/remove liquidity\n",
    "#     if action == 'AddLiquidity':\n",
    "#         return addLiquidity_DAI(params, step, history, current_state, input_)\n",
    "#     elif action == 'Transfer':\n",
    "#         return removeLiquidity_DAI(params, step, history, current_state, input_)\n",
    "    return('DAI_balance', abs(current_state['DAI_balance']))\n",
    "```"
   ]
  },
  {
   "cell_type": "code",
   "execution_count": 1,
   "metadata": {},
   "outputs": [],
   "source": [
    "# import libraries\n",
    "import pandas as pd\n",
    "import numpy as np\n",
    "import pandas as pd\n",
    "from scipy.stats import gamma\n",
    "from sklearn.metrics import mean_squared_error\n",
    "import matplotlib.pyplot as plt\n",
    "from math import sqrt\n",
    "\n",
    "%matplotlib inline"
   ]
  },
  {
   "cell_type": "markdown",
   "metadata": {},
   "source": [
    "## Data preprocessing"
   ]
  },
  {
   "cell_type": "code",
   "execution_count": 2,
   "metadata": {},
   "outputs": [
    {
     "data": {
      "text/html": [
       "<div>\n",
       "<style scoped>\n",
       "    .dataframe tbody tr th:only-of-type {\n",
       "        vertical-align: middle;\n",
       "    }\n",
       "\n",
       "    .dataframe tbody tr th {\n",
       "        vertical-align: top;\n",
       "    }\n",
       "\n",
       "    .dataframe thead th {\n",
       "        text-align: right;\n",
       "    }\n",
       "</style>\n",
       "<table border=\"1\" class=\"dataframe\">\n",
       "  <thead>\n",
       "    <tr style=\"text-align: right;\">\n",
       "      <th></th>\n",
       "      <th>Unnamed: 0</th>\n",
       "      <th>DAI_balance</th>\n",
       "      <th>ETH_balance</th>\n",
       "      <th>UNI_supply</th>\n",
       "      <th>simulation</th>\n",
       "      <th>subset</th>\n",
       "      <th>run</th>\n",
       "      <th>substep</th>\n",
       "      <th>timestep</th>\n",
       "    </tr>\n",
       "  </thead>\n",
       "  <tbody>\n",
       "    <tr>\n",
       "      <th>0</th>\n",
       "      <td>1</td>\n",
       "      <td>5905000000000000000000</td>\n",
       "      <td>29974673940746674209</td>\n",
       "      <td>30000000000000000000</td>\n",
       "      <td>0</td>\n",
       "      <td>0</td>\n",
       "      <td>1</td>\n",
       "      <td>1</td>\n",
       "      <td>1</td>\n",
       "    </tr>\n",
       "    <tr>\n",
       "      <th>1</th>\n",
       "      <td>2</td>\n",
       "      <td>5907000000000000000000</td>\n",
       "      <td>29964555511671268196</td>\n",
       "      <td>30000000000000000000</td>\n",
       "      <td>0</td>\n",
       "      <td>0</td>\n",
       "      <td>1</td>\n",
       "      <td>1</td>\n",
       "      <td>2</td>\n",
       "    </tr>\n",
       "    <tr>\n",
       "      <th>2</th>\n",
       "      <td>3</td>\n",
       "      <td>5905035238623641640532</td>\n",
       "      <td>29974555511671268196</td>\n",
       "      <td>30000000000000000000</td>\n",
       "      <td>0</td>\n",
       "      <td>0</td>\n",
       "      <td>1</td>\n",
       "      <td>1</td>\n",
       "      <td>3</td>\n",
       "    </tr>\n",
       "    <tr>\n",
       "      <th>3</th>\n",
       "      <td>4</td>\n",
       "      <td>5903071785798411448958</td>\n",
       "      <td>29984555511671268196</td>\n",
       "      <td>30000000000000000000</td>\n",
       "      <td>0</td>\n",
       "      <td>0</td>\n",
       "      <td>1</td>\n",
       "      <td>1</td>\n",
       "      <td>4</td>\n",
       "    </tr>\n",
       "    <tr>\n",
       "      <th>4</th>\n",
       "      <td>5</td>\n",
       "      <td>5901109640216828255225</td>\n",
       "      <td>29994555511671268196</td>\n",
       "      <td>30000000000000000000</td>\n",
       "      <td>0</td>\n",
       "      <td>0</td>\n",
       "      <td>1</td>\n",
       "      <td>1</td>\n",
       "      <td>5</td>\n",
       "    </tr>\n",
       "  </tbody>\n",
       "</table>\n",
       "</div>"
      ],
      "text/plain": [
       "   Unnamed: 0             DAI_balance           ETH_balance  \\\n",
       "0           1  5905000000000000000000  29974673940746674209   \n",
       "1           2  5907000000000000000000  29964555511671268196   \n",
       "2           3  5905035238623641640532  29974555511671268196   \n",
       "3           4  5903071785798411448958  29984555511671268196   \n",
       "4           5  5901109640216828255225  29994555511671268196   \n",
       "\n",
       "             UNI_supply  simulation  subset  run  substep  timestep  \n",
       "0  30000000000000000000           0       0    1        1         1  \n",
       "1  30000000000000000000           0       0    1        1         2  \n",
       "2  30000000000000000000           0       0    1        1         3  \n",
       "3  30000000000000000000           0       0    1        1         4  \n",
       "4  30000000000000000000           0       0    1        1         5  "
      ]
     },
     "execution_count": 2,
     "metadata": {},
     "output_type": "execute_result"
    }
   ],
   "source": [
    "# import data\n",
    "buy_sell_uniswap_events = pd.read_csv('data/uniswap_data_buy_sell.csv')\n",
    "liquidity_uniswap_events = pd.read_csv('data/uniswap_liquidity_data.csv')\n",
    "\n",
    "buy_sell_uniswap_events.head()"
   ]
  },
  {
   "cell_type": "code",
   "execution_count": 3,
   "metadata": {},
   "outputs": [
    {
     "data": {
      "text/html": [
       "<div>\n",
       "<style scoped>\n",
       "    .dataframe tbody tr th:only-of-type {\n",
       "        vertical-align: middle;\n",
       "    }\n",
       "\n",
       "    .dataframe tbody tr th {\n",
       "        vertical-align: top;\n",
       "    }\n",
       "\n",
       "    .dataframe thead th {\n",
       "        text-align: right;\n",
       "    }\n",
       "</style>\n",
       "<table border=\"1\" class=\"dataframe\">\n",
       "  <thead>\n",
       "    <tr style=\"text-align: right;\">\n",
       "      <th></th>\n",
       "      <th>Unnamed: 0</th>\n",
       "      <th>DAI_balance</th>\n",
       "      <th>ETH_balance</th>\n",
       "      <th>UNI_supply</th>\n",
       "      <th>simulation</th>\n",
       "      <th>subset</th>\n",
       "      <th>run</th>\n",
       "      <th>substep</th>\n",
       "      <th>timestep</th>\n",
       "    </tr>\n",
       "  </thead>\n",
       "  <tbody>\n",
       "    <tr>\n",
       "      <th>0</th>\n",
       "      <td>1</td>\n",
       "      <td>5900000000000000000000</td>\n",
       "      <td>29974673940746674209</td>\n",
       "      <td>30000000000000000000</td>\n",
       "      <td>0</td>\n",
       "      <td>0</td>\n",
       "      <td>1</td>\n",
       "      <td>1</td>\n",
       "      <td>1</td>\n",
       "    </tr>\n",
       "    <tr>\n",
       "      <th>1</th>\n",
       "      <td>2</td>\n",
       "      <td>5900000000000000000000</td>\n",
       "      <td>29964546939628433685</td>\n",
       "      <td>30000000000000000000</td>\n",
       "      <td>0</td>\n",
       "      <td>0</td>\n",
       "      <td>1</td>\n",
       "      <td>1</td>\n",
       "      <td>2</td>\n",
       "    </tr>\n",
       "    <tr>\n",
       "      <th>2</th>\n",
       "      <td>3</td>\n",
       "      <td>5900000000000000000000</td>\n",
       "      <td>29974546939628433685</td>\n",
       "      <td>30000000000000000000</td>\n",
       "      <td>0</td>\n",
       "      <td>0</td>\n",
       "      <td>1</td>\n",
       "      <td>1</td>\n",
       "      <td>3</td>\n",
       "    </tr>\n",
       "    <tr>\n",
       "      <th>3</th>\n",
       "      <td>4</td>\n",
       "      <td>5900000000000000000000</td>\n",
       "      <td>29984546939628433685</td>\n",
       "      <td>30000000000000000000</td>\n",
       "      <td>0</td>\n",
       "      <td>0</td>\n",
       "      <td>1</td>\n",
       "      <td>1</td>\n",
       "      <td>4</td>\n",
       "    </tr>\n",
       "    <tr>\n",
       "      <th>4</th>\n",
       "      <td>5</td>\n",
       "      <td>5900000000000000000000</td>\n",
       "      <td>29994546939628433685</td>\n",
       "      <td>30000000000000000000</td>\n",
       "      <td>0</td>\n",
       "      <td>0</td>\n",
       "      <td>1</td>\n",
       "      <td>1</td>\n",
       "      <td>5</td>\n",
       "    </tr>\n",
       "  </tbody>\n",
       "</table>\n",
       "</div>"
      ],
      "text/plain": [
       "   Unnamed: 0             DAI_balance           ETH_balance  \\\n",
       "0           1  5900000000000000000000  29974673940746674209   \n",
       "1           2  5900000000000000000000  29964546939628433685   \n",
       "2           3  5900000000000000000000  29974546939628433685   \n",
       "3           4  5900000000000000000000  29984546939628433685   \n",
       "4           5  5900000000000000000000  29994546939628433685   \n",
       "\n",
       "             UNI_supply  simulation  subset  run  substep  timestep  \n",
       "0  30000000000000000000           0       0    1        1         1  \n",
       "1  30000000000000000000           0       0    1        1         2  \n",
       "2  30000000000000000000           0       0    1        1         3  \n",
       "3  30000000000000000000           0       0    1        1         4  \n",
       "4  30000000000000000000           0       0    1        1         5  "
      ]
     },
     "execution_count": 3,
     "metadata": {},
     "output_type": "execute_result"
    }
   ],
   "source": [
    "liquidity_uniswap_events.head()"
   ]
  },
  {
   "cell_type": "code",
   "execution_count": 4,
   "metadata": {},
   "outputs": [
    {
     "data": {
      "text/plain": [
       "<AxesSubplot:title={'center':'Dai liquidity univariate series'}, xlabel='timestep'>"
      ]
     },
     "execution_count": 4,
     "metadata": {},
     "output_type": "execute_result"
    },
    {
     "data": {
      "image/png": "[encoded data removed]",
      "text/plain": [
       "<Figure size 432x288 with 1 Axes>"
      ]
     },
     "metadata": {
      "needs_background": "light"
     },
     "output_type": "display_data"
    }
   ],
   "source": [
    "# liquidity series\n",
    "liquidity_uniswap_events['DAI_balance'] = liquidity_uniswap_events['DAI_balance'].astype(float)\n",
    "liquidity_uniswap_events['DAI_diff'] = abs(liquidity_uniswap_events['DAI_balance'].diff())\n",
    "liquidity_uniswap_events['DAI_diff'].fillna(0,inplace=True)\n",
    "liquidity_uniswap_events.plot(x='timestep',y='DAI_diff',title='Dai liquidity univariate series')"
   ]
  },
  {
   "cell_type": "code",
   "execution_count": 5,
   "metadata": {},
   "outputs": [
    {
     "data": {
      "text/plain": [
       "<AxesSubplot:title={'center':'Dai Buy/Sell Univariate Series'}, xlabel='timestep'>"
      ]
     },
     "execution_count": 5,
     "metadata": {},
     "output_type": "execute_result"
    },
    {
     "data": {
      "image/png": "[encoded data removed]",
      "text/plain": [
       "<Figure size 432x288 with 1 Axes>"
      ]
     },
     "metadata": {
      "needs_background": "light"
     },
     "output_type": "display_data"
    }
   ],
   "source": [
    "# buy/sell series\n",
    "buy_sell_uniswap_events['DAI_balance'] = buy_sell_uniswap_events['DAI_balance'].astype(float)\n",
    "buy_sell_uniswap_events['DAI_diff'] = abs(buy_sell_uniswap_events['DAI_balance'].diff())\n",
    "buy_sell_uniswap_events['DAI_diff'].fillna(0,inplace=True)\n",
    "buy_sell_uniswap_events.plot(x='timestep',y='DAI_diff',title='Dai Buy/Sell Univariate Series')"
   ]
  },
  {
   "cell_type": "markdown",
   "metadata": {},
   "source": [
    "## Distribution fitting"
   ]
  },
  {
   "cell_type": "code",
   "execution_count": 6,
   "metadata": {},
   "outputs": [],
   "source": [
    "# fit liquidity distribution\n",
    "fit_shape_liquidity, fit_loc_liquidity, fit_scale_liquidity =gamma.fit(liquidity_uniswap_events['DAI_diff'].values)\n"
   ]
  },
  {
   "cell_type": "code",
   "execution_count": 7,
   "metadata": {},
   "outputs": [],
   "source": [
    "timesteps = 24 * 365 # 24 hours a day * 365 days a year "
   ]
  },
  {
   "cell_type": "code",
   "execution_count": 8,
   "metadata": {},
   "outputs": [
    {
     "data": {
      "text/plain": [
       "Text(0.5, 1.0, 'Histogram of Liquidity IID Samples')"
      ]
     },
     "execution_count": 8,
     "metadata": {},
     "output_type": "execute_result"
    },
    {
     "data": {
      "image/png": "[encoded data removed]",
      "text/plain": [
       "<Figure size 432x288 with 1 Axes>"
      ]
     },
     "metadata": {
      "needs_background": "light"
     },
     "output_type": "display_data"
    }
   ],
   "source": [
    "liquidity = np.random.gamma(fit_shape_liquidity, fit_scale_liquidity, timesteps)\n",
    "\n",
    "plt.hist(liquidity)\n",
    "plt.title('Histogram of Liquidity IID Samples')"
   ]
  },
  {
   "cell_type": "code",
   "execution_count": 9,
   "metadata": {},
   "outputs": [
    {
     "data": {
      "text/plain": [
       "Text(0.5, 1.0, 'Time Series of Liquidity IID Samples')"
      ]
     },
     "execution_count": 9,
     "metadata": {},
     "output_type": "execute_result"
    },
    {
     "data": {
      "image/png": "[encoded data removed]",
      "text/plain": [
       "<Figure size 432x288 with 1 Axes>"
      ]
     },
     "metadata": {
      "needs_background": "light"
     },
     "output_type": "display_data"
    }
   ],
   "source": [
    "plt.plot(liquidity)\n",
    "plt.title('Time Series of Liquidity IID Samples')"
   ]
  },
  {
   "cell_type": "code",
   "execution_count": 10,
   "metadata": {},
   "outputs": [],
   "source": [
    "liquidity_samples = pd.DataFrame(liquidity,columns=['Liquidity_Samples'])\n",
    "liquidity_samples.to_csv('data/liquidity_samples.csv')"
   ]
  },
  {
   "cell_type": "code",
   "execution_count": 11,
   "metadata": {},
   "outputs": [],
   "source": [
    "# fit buy/sell series distribution\n",
    "fit_shape_buy_sell, fit_loc_buy_sell, fit_scale_buy_sell = gamma.fit(buy_sell_uniswap_events['DAI_diff'].values)"
   ]
  },
  {
   "cell_type": "code",
   "execution_count": 12,
   "metadata": {},
   "outputs": [
    {
     "data": {
      "text/plain": [
       "Text(0.5, 1.0, 'Histogram of Buy Sell IID Samples')"
      ]
     },
     "execution_count": 12,
     "metadata": {},
     "output_type": "execute_result"
    },
    {
     "data": {
      "image/png": "[encoded data removed]",
      "text/plain": [
       "<Figure size 432x288 with 1 Axes>"
      ]
     },
     "metadata": {
      "needs_background": "light"
     },
     "output_type": "display_data"
    }
   ],
   "source": [
    "buy_sell = np.random.gamma(fit_shape_buy_sell, fit_scale_buy_sell, timesteps)\n",
    "plt.hist(buy_sell)\n",
    "plt.title('Histogram of Buy Sell IID Samples')"
   ]
  },
  {
   "cell_type": "code",
   "execution_count": 13,
   "metadata": {},
   "outputs": [
    {
     "data": {
      "text/plain": [
       "Text(0.5, 1.0, 'Time Series of Buy Sell IID Samples')"
      ]
     },
     "execution_count": 13,
     "metadata": {},
     "output_type": "execute_result"
    },
    {
     "data": {
      "image/png": "[encoded data removed]",
      "text/plain": [
       "<Figure size 432x288 with 1 Axes>"
      ]
     },
     "metadata": {
      "needs_background": "light"
     },
     "output_type": "display_data"
    }
   ],
   "source": [
    "plt.plot(buy_sell)\n",
    "plt.title('Time Series of Buy Sell IID Samples')"
   ]
  },
  {
   "cell_type": "code",
   "execution_count": 14,
   "metadata": {},
   "outputs": [],
   "source": [
    "buy_sell_samples = pd.DataFrame(buy_sell,columns=['Buy_Sell_Samples'])\n",
    "buy_sell_samples.to_csv('data/buy_sell.csv')"
   ]
  },
  {
   "cell_type": "markdown",
   "metadata": {},
   "source": [
    "## Implementation information\n",
    "Below is an example of how to integrate these univariate time series datasets into the exogenous process section of a cadCAD model, assuming each timestep is an hour."
   ]
  },
  {
   "cell_type": "markdown",
   "metadata": {},
   "source": [
    "```\n",
    "# exogenousProcesses.py\n",
    "\n",
    "# import libraries\n",
    "import pandas as pd\n",
    "\n",
    "# import data\n",
    "liquidity_samples = pd.read_csv('data/liquidity_samples.csv')\n",
    "buy_sell_samples = pd.read_csv('data/buy_sell.csv')\n",
    "\n",
    "# mechanisms\n",
    "def liquidity_exogenous_process(params, step, sL, s, _input):\n",
    "    y = 'liquidity'\n",
    "    timestep = s['timestep'] \n",
    "    x = liquidity_samples.Liquidity_Samples.values[timestep]\n",
    "    return (y, x)\n",
    "    \n",
    "def buy_sell_exogenous_process(params, step, sL, s, _input):\n",
    "    y = 'buy_sell'\n",
    "    timestep = s['timestep'] \n",
    "    x = buy_sell_samples.Buy_Sell_Samples.values[timestep]\n",
    "    return (y, x)\n",
    "    \n",
    "```"
   ]
  }
 ],
 "metadata": {
  "kernelspec": {
   "display_name": "Python (Reflexer)",
   "language": "python",
   "name": "python-reflexer"
  },
  "language_info": {
   "codemirror_mode": {
    "name": "ipython",
    "version": 3
   },
   "file_extension": ".py",
   "mimetype": "text/x-python",
   "name": "python",
   "nbconvert_exporter": "python",
   "pygments_lexer": "ipython3",
   "version": "3.8.3"
  }
 },
 "nbformat": 4,
 "nbformat_minor": 4
}
