{
 "cells": [
  {
   "cell_type": "markdown",
   "metadata": {},
   "source": [
    "# Exogenous Uniswap Process modeling \n",
    "\n",
    "\n",
    "## Liquidity demand stochastic process\n",
    "\n",
    "1. Acquire time series of order book for single collateral DAI 2017-2019; this is the proxy for the liquidity demand of RAI\n",
    "2. Fit a parametric distribution to the data, resulting in a distribution $F^D_{RAI}(t;\\mu_{RAI})$ and fitted parameters $\\mu_{RAI}$.\n",
    "\n",
    "\n",
    "To obtain this data, we ran a [Uniswap cadCAD model](https://github.com/cadCAD-org/demos/tree/master/demos/Multiscale/uniswap) twice, once to obtain Buy/Sell univariate time series data and once for obtaining univariate time series liquidity data. Shown below is the modification between runs. We then saved these runs as csv files and continue bring the data into this notebook for building stochastic generators.\n",
    "\n",
    "\n",
    "```\n",
    "# Mechanisms\n",
    "def mechanismHub_DAI(params, step, history, current_state, input_):\n",
    "    action = input_['action_id']\n",
    "    # 1 Buy/Sell\n",
    "    if action == 'TokenPurchase':\n",
    "        return ethToToken_DAI(params, step, history, current_state, input_)\n",
    "    elif action == 'EthPurchase':\n",
    "        return tokenToEth_DAI(params, step, history, current_state, input_)\n",
    "    # 2 Add/remove liquidity\n",
    "#     if action == 'AddLiquidity':\n",
    "#         return addLiquidity_DAI(params, step, history, current_state, input_)\n",
    "#     elif action == 'Transfer':\n",
    "#         return removeLiquidity_DAI(params, step, history, current_state, input_)\n",
    "    return('DAI_balance', abs(current_state['DAI_balance']))\n",
    "```"
   ]
  },
  {
   "cell_type": "code",
   "execution_count": 1,
   "metadata": {},
   "outputs": [],
   "source": [
    "# import libraries\n",
    "import pandas as pd\n",
    "import numpy as np\n",
    "import pandas as pd\n",
    "from scipy.stats import gamma\n",
    "from sklearn.metrics import mean_squared_error\n",
    "import matplotlib.pyplot as plt\n",
    "from math import sqrt\n",
    "\n",
    "%matplotlib inline"
   ]
  },
  {
   "cell_type": "markdown",
   "metadata": {},
   "source": [
    "## Data preprocessing"
   ]
  },
  {
   "cell_type": "code",
   "execution_count": null,
   "metadata": {},
   "outputs": [],
   "source": [
    "# import data\n",
    "buy_sell_uniswap_events = pd.read_csv('data/uniswap_data_buy_sell.csv')\n",
    "liquidity_uniswap_events = pd.read_csv('data/uniswap_liquidity_data.csv')\n",
    "\n",
    "buy_sell_uniswap_events.head()"
   ]
  },
  {
   "cell_type": "code",
   "execution_count": null,
   "metadata": {},
   "outputs": [],
   "source": [
    "liquidity_uniswap_events.head()"
   ]
  },
  {
   "cell_type": "code",
   "execution_count": null,
   "metadata": {},
   "outputs": [],
   "source": [
    "# liquidity series\n",
    "liquidity_uniswap_events['DAI_balance'] = liquidity_uniswap_events['DAI_balance'].astype(float)\n",
    "liquidity_uniswap_events['DAI_diff'] = abs(liquidity_uniswap_events['DAI_balance'].diff())\n",
    "liquidity_uniswap_events.plot(x='timestep',y='DAI_balance',title='Dai liquidity univariate series')"
   ]
  },
  {
   "cell_type": "code",
   "execution_count": null,
   "metadata": {},
   "outputs": [],
   "source": [
    "# buy/sell series\n",
    "buy_sell_uniswap_events['DAI_balance'] = buy_sell_uniswap_events['DAI_balance'].astype(float)\n",
    "buy_sell_uniswap_events['DAI_diff'] = abs(buy_sell_uniswap_events['DAI_balance'].diff())\n",
    "buy_sell_uniswap_events.plot(x='timestep',y='DAI_balance',title='Dai liquidity univariate series')"
   ]
  },
  {
   "cell_type": "markdown",
   "metadata": {},
   "source": [
    "## Distribution fitting"
   ]
  },
  {
   "cell_type": "code",
   "execution_count": null,
   "metadata": {},
   "outputs": [],
   "source": [
    "# fit liquidity distribution\n",
    "fit_shape_liquidity, fit_loc_liquidity, fit_scale_liquidity =gamma.fit(liquidity_uniswap_events['DAI_balance'].values)\n"
   ]
  },
  {
   "cell_type": "code",
   "execution_count": null,
   "metadata": {},
   "outputs": [],
   "source": [
    "timesteps = 24 * 365 # 24 hours a day * 365 days a year "
   ]
  },
  {
   "cell_type": "code",
   "execution_count": null,
   "metadata": {},
   "outputs": [],
   "source": [
    "liquidity = np.random.gamma(fit_shape_liquidity, fit_scale_liquidity, timesteps)\n",
    "\n",
    "plt.hist(liquidity)\n",
    "plt.title('Histogram of Liquidity IID Samples')"
   ]
  },
  {
   "cell_type": "code",
   "execution_count": null,
   "metadata": {},
   "outputs": [],
   "source": [
    "plt.plot(liquidity)\n",
    "plt.title('Time Series of Liquidity IID Samples')"
   ]
  },
  {
   "cell_type": "code",
   "execution_count": null,
   "metadata": {},
   "outputs": [],
   "source": [
    "liquidity_samples = pd.DataFrame(liquidity,columns=['Liquidity_Samples'])\n",
    "liquidity_samples.to_csv('data/liquidity_samples.csv')"
   ]
  },
  {
   "cell_type": "code",
   "execution_count": null,
   "metadata": {},
   "outputs": [],
   "source": [
    "# fit buy/sell series distribution\n",
    "fit_shape_buy_sell, fit_loc_buy_sell, fit_scale_buy_sell = gamma.fit(buy_sell_uniswap_events['DAI_balance'].values)"
   ]
  },
  {
   "cell_type": "code",
   "execution_count": null,
   "metadata": {},
   "outputs": [],
   "source": [
    "buy_sell = np.random.gamma(fit_shape_buy_sell, fit_scale_buy_sell, timesteps)\n",
    "plt.hist(buy_sell)\n",
    "plt.title('Histogram of Buy Sell IID Samples')"
   ]
  },
  {
   "cell_type": "code",
   "execution_count": null,
   "metadata": {},
   "outputs": [],
   "source": [
    "plt.plot(buy_sell)\n",
    "plt.title('Time serires of Buy Sell IID Samples')"
   ]
  },
  {
   "cell_type": "code",
   "execution_count": null,
   "metadata": {},
   "outputs": [],
   "source": [
    "buy_sell_samples = pd.DataFrame(buy_sell,columns=['Buy_Sell_Samples'])\n",
    "buy_sell_samples.to_csv('data/buy_sell.csv')"
   ]
  },
  {
   "cell_type": "markdown",
   "metadata": {},
   "source": [
    "## Implementation information\n",
    "Below is an example of how to integrate these univariate time series datasets into the exogenous process section of a cadCAD model, assuming each timestep is an hour."
   ]
  },
  {
   "cell_type": "markdown",
   "metadata": {},
   "source": [
    "```\n",
    "# exogenousProcesses.py\n",
    "\n",
    "# import libraries\n",
    "import pandas as pd\n",
    "\n",
    "# import data\n",
    "liquidity_samples = pd.read_csv('data/liquidity_samples.csv')\n",
    "buy_sell_samples = pd.read_csv('data/buy_sell.csv')\n",
    "\n",
    "# mechanisms\n",
    "def liquidity_exogenous_process(params, step, sL, s, _input):\n",
    "    y = 'liquidity'\n",
    "    timestep = s['timestep'] \n",
    "    x = liquidity_samples.Liquidity_Samples.values[timestep]\n",
    "    return (y, x)\n",
    "    \n",
    "def buy_sell_exogenous_process(params, step, sL, s, _input):\n",
    "    y = 'buy_sell'\n",
    "    timestep = s['timestep'] \n",
    "    x = buy_sell_samples.Buy_Sell_Samples.values[timestep]\n",
    "    return (y, x)\n",
    "    \n",
    "```"
   ]
  }
 ],
 "metadata": {
  "kernelspec": {
   "display_name": "Python (Reflexer)",
   "language": "python",
   "name": "python-reflexer"
  },
  "language_info": {
   "codemirror_mode": {
    "name": "ipython",
    "version": 3
   },
   "file_extension": ".py",
   "mimetype": "text/x-python",
   "name": "python",
   "nbconvert_exporter": "python",
   "pygments_lexer": "ipython3",
   "version": "3.8.3"
  }
 },
 "nbformat": 4,
 "nbformat_minor": 4
}
