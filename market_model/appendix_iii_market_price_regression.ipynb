{
 "cells": [
  {
   "cell_type": "markdown",
   "metadata": {},
   "source": [
    "# Appendix - Market Model Regression Hypothesis Test"
   ]
  },
  {
   "cell_type": "code",
   "execution_count": 1,
   "metadata": {},
   "outputs": [],
   "source": [
    "import numpy as np\n",
    "import statsmodels.api as sm\n",
    "import pandas as pd\n",
    "from scipy.linalg import toeplitz"
   ]
  },
  {
   "cell_type": "code",
   "execution_count": 2,
   "metadata": {},
   "outputs": [
    {
     "name": "stderr",
     "output_type": "stream",
     "text": [
      "/Library/Frameworks/Python.framework/Versions/3.7/lib/python3.7/site-packages/pyparsing.py:3172: FutureWarning: Possible set intersection at position 3\n",
      "  self.re = re.compile(self.reString)\n"
     ]
    }
   ],
   "source": [
    "debt_market_df = pd.read_csv('data/debt_market_df.csv', index_col='date', parse_dates=True)\n",
    "\n",
    "# Load debt price model\n",
    "import pickle\n",
    "loaded_model = pickle.load(open('debt_price_estimator.pickle', 'rb'))\n",
    "\n",
    "features = ['beta', 'Q', 'v_1', 'v_2 + v_3', \n",
    "            'rho_star', 'C_star',\n",
    "            'D_1', 'u_1', 'u_2', 'u_3', 'u_2 + u_3', \n",
    "            'D_2', 'w_1', 'w_2', 'w_3', 'w_2 + w_3',\n",
    "            'D']\n",
    "\n",
    "data_to_predict = debt_market_df[features]\n",
    "loaded_model_predictions = loaded_model.predict(data_to_predict)\n",
    "\n",
    "df = debt_market_df[['p', 'p_star']].copy()\n",
    "df['p_hat'] = loaded_model_predictions\n",
    "df['e_hat'] = df['p_hat'] - df['p']\n",
    "df['e_star'] = df['p_star'] - df['p']\n",
    "df['cumsum_e_hat'] = df['e_hat'].cumsum()\n",
    "df['cumsum_e_star'] = df['e_star'].cumsum()\n",
    "df['delta_e_hat'] = df['e_hat'].diff().fillna(df['e_hat'])\n",
    "df['delta_e_star'] = df['e_star'].diff().fillna(df['e_star'])\n",
    "df['y'] = df['p'].shift(-1)\n",
    "df.dropna(inplace=True)"
   ]
  },
  {
   "cell_type": "markdown",
   "metadata": {},
   "source": [
    "## Overview"
   ]
  },
  {
   "cell_type": "markdown",
   "metadata": {},
   "source": [
    "This notebook provides an Ordinary Least Squares (OLS) estimate of a linear model for the market price parameters. The OLS estimate will provide a basis for considering the goodness of fit for the model, hypothesis testing for the estimate coefficients of each parameter, and a test for autocorrelation."
   ]
  },
  {
   "cell_type": "markdown",
   "metadata": {},
   "source": [
    "## Hypotheses"
   ]
  },
  {
   "cell_type": "markdown",
   "metadata": {},
   "source": [
    "The main hypotheses involve the estimate coefficents on each parameter. The Null Hypothesis for each is that there is no effect of the parameter on `y`. Our hypotheses for each coefficient is that there is an effect that is greater than 0 - positive or negative.\n",
    "\n",
    "Secondarily, we want to look at autocorrelation or the correlation between the residual/error terms in the model. Autocorrelation can bias our t-values and throw off our hypothesis testing. Fortunately, `statsmodels` provides the Durbin-Watson test for autocorrelation. The value is always between 0 and 4 where 2 indicates neither positive nor negative autocorrelation."
   ]
  },
  {
   "cell_type": "markdown",
   "metadata": {},
   "source": [
    "## Method"
   ]
  },
  {
   "cell_type": "markdown",
   "metadata": {},
   "source": [
    "We use the Ordinary Least Squares (OLS) estimate of the linear model from the `statsmodel` library in Python. The input and output variables are summarized below."
   ]
  },
  {
   "cell_type": "code",
   "execution_count": 3,
   "metadata": {},
   "outputs": [
    {
     "name": "stderr",
     "output_type": "stream",
     "text": [
      "/Library/Frameworks/Python.framework/Versions/3.7/lib/python3.7/site-packages/numpy/core/fromnumeric.py:2580: FutureWarning: Method .ptp is deprecated and will be removed in a future version. Use numpy.ptp instead.\n",
      "  return ptp(axis=axis, out=out, **kwargs)\n"
     ]
    }
   ],
   "source": [
    "input_vars = ['p', \n",
    "                'e_hat', 'e_star', \n",
    "                'cumsum_e_hat', 'cumsum_e_star', \n",
    "                'delta_e_hat', 'delta_e_star']\n",
    "output_var = ['y']\n",
    "\n",
    "input_data = df[input_vars]\n",
    "input_data = sm.add_constant(input_data)\n",
    "output_data = df[output_var]\n"
   ]
  },
  {
   "cell_type": "markdown",
   "metadata": {},
   "source": [
    "### Summary Statistics"
   ]
  },
  {
   "cell_type": "code",
   "execution_count": 4,
   "metadata": {},
   "outputs": [
    {
     "data": {
      "text/html": [
       "<div>\n",
       "<style scoped>\n",
       "    .dataframe tbody tr th:only-of-type {\n",
       "        vertical-align: middle;\n",
       "    }\n",
       "\n",
       "    .dataframe tbody tr th {\n",
       "        vertical-align: top;\n",
       "    }\n",
       "\n",
       "    .dataframe thead th {\n",
       "        text-align: right;\n",
       "    }\n",
       "</style>\n",
       "<table border=\"1\" class=\"dataframe\">\n",
       "  <thead>\n",
       "    <tr style=\"text-align: right;\">\n",
       "      <th></th>\n",
       "      <th>p</th>\n",
       "      <th>p_star</th>\n",
       "      <th>p_hat</th>\n",
       "      <th>e_hat</th>\n",
       "      <th>e_star</th>\n",
       "      <th>cumsum_e_hat</th>\n",
       "      <th>cumsum_e_star</th>\n",
       "      <th>delta_e_hat</th>\n",
       "      <th>delta_e_star</th>\n",
       "      <th>y</th>\n",
       "    </tr>\n",
       "  </thead>\n",
       "  <tbody>\n",
       "    <tr>\n",
       "      <th>count</th>\n",
       "      <td>651.000000</td>\n",
       "      <td>651.0</td>\n",
       "      <td>651.000000</td>\n",
       "      <td>651.000000</td>\n",
       "      <td>651.000000</td>\n",
       "      <td>651.000000</td>\n",
       "      <td>651.000000</td>\n",
       "      <td>651.000000</td>\n",
       "      <td>651.000000</td>\n",
       "      <td>651.000000</td>\n",
       "    </tr>\n",
       "    <tr>\n",
       "      <th>mean</th>\n",
       "      <td>1.000402</td>\n",
       "      <td>1.0</td>\n",
       "      <td>1.000311</td>\n",
       "      <td>-0.000091</td>\n",
       "      <td>-0.000402</td>\n",
       "      <td>0.048712</td>\n",
       "      <td>-0.575856</td>\n",
       "      <td>-0.000003</td>\n",
       "      <td>-0.000021</td>\n",
       "      <td>1.000386</td>\n",
       "    </tr>\n",
       "    <tr>\n",
       "      <th>std</th>\n",
       "      <td>0.013530</td>\n",
       "      <td>0.0</td>\n",
       "      <td>0.009929</td>\n",
       "      <td>0.010085</td>\n",
       "      <td>0.013530</td>\n",
       "      <td>0.058480</td>\n",
       "      <td>0.500354</td>\n",
       "      <td>0.010654</td>\n",
       "      <td>0.010567</td>\n",
       "      <td>0.013516</td>\n",
       "    </tr>\n",
       "    <tr>\n",
       "      <th>min</th>\n",
       "      <td>0.942696</td>\n",
       "      <td>1.0</td>\n",
       "      <td>0.961951</td>\n",
       "      <td>-0.034673</td>\n",
       "      <td>-0.047816</td>\n",
       "      <td>-0.134040</td>\n",
       "      <td>-1.275038</td>\n",
       "      <td>-0.040274</td>\n",
       "      <td>-0.038972</td>\n",
       "      <td>0.942696</td>\n",
       "    </tr>\n",
       "    <tr>\n",
       "      <th>25%</th>\n",
       "      <td>0.993778</td>\n",
       "      <td>1.0</td>\n",
       "      <td>0.995523</td>\n",
       "      <td>-0.005684</td>\n",
       "      <td>-0.007697</td>\n",
       "      <td>0.012256</td>\n",
       "      <td>-0.899639</td>\n",
       "      <td>-0.006203</td>\n",
       "      <td>-0.006203</td>\n",
       "      <td>0.993778</td>\n",
       "    </tr>\n",
       "    <tr>\n",
       "      <th>50%</th>\n",
       "      <td>1.000268</td>\n",
       "      <td>1.0</td>\n",
       "      <td>1.001078</td>\n",
       "      <td>0.000537</td>\n",
       "      <td>-0.000268</td>\n",
       "      <td>0.045755</td>\n",
       "      <td>-0.795639</td>\n",
       "      <td>0.000211</td>\n",
       "      <td>0.000079</td>\n",
       "      <td>1.000268</td>\n",
       "    </tr>\n",
       "    <tr>\n",
       "      <th>75%</th>\n",
       "      <td>1.007697</td>\n",
       "      <td>1.0</td>\n",
       "      <td>1.006522</td>\n",
       "      <td>0.005245</td>\n",
       "      <td>0.006222</td>\n",
       "      <td>0.082637</td>\n",
       "      <td>-0.115707</td>\n",
       "      <td>0.005274</td>\n",
       "      <td>0.005233</td>\n",
       "      <td>1.007649</td>\n",
       "    </tr>\n",
       "    <tr>\n",
       "      <th>max</th>\n",
       "      <td>1.047816</td>\n",
       "      <td>1.0</td>\n",
       "      <td>1.026005</td>\n",
       "      <td>0.057322</td>\n",
       "      <td>0.057304</td>\n",
       "      <td>0.261073</td>\n",
       "      <td>0.402621</td>\n",
       "      <td>0.058177</td>\n",
       "      <td>0.058372</td>\n",
       "      <td>1.047816</td>\n",
       "    </tr>\n",
       "  </tbody>\n",
       "</table>\n",
       "</div>"
      ],
      "text/plain": [
       "                p  p_star       p_hat       e_hat      e_star  cumsum_e_hat  \\\n",
       "count  651.000000   651.0  651.000000  651.000000  651.000000    651.000000   \n",
       "mean     1.000402     1.0    1.000311   -0.000091   -0.000402      0.048712   \n",
       "std      0.013530     0.0    0.009929    0.010085    0.013530      0.058480   \n",
       "min      0.942696     1.0    0.961951   -0.034673   -0.047816     -0.134040   \n",
       "25%      0.993778     1.0    0.995523   -0.005684   -0.007697      0.012256   \n",
       "50%      1.000268     1.0    1.001078    0.000537   -0.000268      0.045755   \n",
       "75%      1.007697     1.0    1.006522    0.005245    0.006222      0.082637   \n",
       "max      1.047816     1.0    1.026005    0.057322    0.057304      0.261073   \n",
       "\n",
       "       cumsum_e_star  delta_e_hat  delta_e_star           y  \n",
       "count     651.000000   651.000000    651.000000  651.000000  \n",
       "mean       -0.575856    -0.000003     -0.000021    1.000386  \n",
       "std         0.500354     0.010654      0.010567    0.013516  \n",
       "min        -1.275038    -0.040274     -0.038972    0.942696  \n",
       "25%        -0.899639    -0.006203     -0.006203    0.993778  \n",
       "50%        -0.795639     0.000211      0.000079    1.000268  \n",
       "75%        -0.115707     0.005274      0.005233    1.007649  \n",
       "max         0.402621     0.058177      0.058372    1.047816  "
      ]
     },
     "execution_count": 4,
     "metadata": {},
     "output_type": "execute_result"
    }
   ],
   "source": [
    "df.describe()"
   ]
  },
  {
   "cell_type": "markdown",
   "metadata": {},
   "source": [
    "## OLS Model Results"
   ]
  },
  {
   "cell_type": "code",
   "execution_count": 5,
   "metadata": {
    "scrolled": false
   },
   "outputs": [
    {
     "data": {
      "text/html": [
       "<table class=\"simpletable\">\n",
       "<caption>OLS Regression Results</caption>\n",
       "<tr>\n",
       "  <th>Dep. Variable:</th>            <td>y</td>        <th>  R-squared:         </th> <td>   0.551</td> \n",
       "</tr>\n",
       "<tr>\n",
       "  <th>Model:</th>                   <td>OLS</td>       <th>  Adj. R-squared:    </th> <td>   0.547</td> \n",
       "</tr>\n",
       "<tr>\n",
       "  <th>Method:</th>             <td>Least Squares</td>  <th>  F-statistic:       </th> <td>   131.6</td> \n",
       "</tr>\n",
       "<tr>\n",
       "  <th>Date:</th>             <td>Mon, 28 Sep 2020</td> <th>  Prob (F-statistic):</th> <td>2.00e-108</td>\n",
       "</tr>\n",
       "<tr>\n",
       "  <th>Time:</th>                 <td>23:42:43</td>     <th>  Log-Likelihood:    </th> <td>  2139.1</td> \n",
       "</tr>\n",
       "<tr>\n",
       "  <th>No. Observations:</th>      <td>   651</td>      <th>  AIC:               </th> <td>  -4264.</td> \n",
       "</tr>\n",
       "<tr>\n",
       "  <th>Df Residuals:</th>          <td>   644</td>      <th>  BIC:               </th> <td>  -4233.</td> \n",
       "</tr>\n",
       "<tr>\n",
       "  <th>Df Model:</th>              <td>     6</td>      <th>                     </th>     <td> </td>    \n",
       "</tr>\n",
       "<tr>\n",
       "  <th>Covariance Type:</th>      <td>nonrobust</td>    <th>                     </th>     <td> </td>    \n",
       "</tr>\n",
       "</table>\n",
       "<table class=\"simpletable\">\n",
       "<tr>\n",
       "        <td></td>           <th>coef</th>     <th>std err</th>      <th>t</th>      <th>P>|t|</th>  <th>[0.025</th>    <th>0.975]</th>  \n",
       "</tr>\n",
       "<tr>\n",
       "  <th>const</th>         <td>    0.2055</td> <td>    0.042</td> <td>    4.931</td> <td> 0.000</td> <td>    0.124</td> <td>    0.287</td>\n",
       "</tr>\n",
       "<tr>\n",
       "  <th>p</th>             <td>    0.7922</td> <td>    0.041</td> <td>   19.370</td> <td> 0.000</td> <td>    0.712</td> <td>    0.872</td>\n",
       "</tr>\n",
       "<tr>\n",
       "  <th>e_hat</th>         <td>    0.6923</td> <td>    0.103</td> <td>    6.693</td> <td> 0.000</td> <td>    0.489</td> <td>    0.895</td>\n",
       "</tr>\n",
       "<tr>\n",
       "  <th>e_star</th>        <td>   -0.5866</td> <td>    0.083</td> <td>   -7.104</td> <td> 0.000</td> <td>   -0.749</td> <td>   -0.424</td>\n",
       "</tr>\n",
       "<tr>\n",
       "  <th>cumsum_e_hat</th>  <td>    0.0841</td> <td>    0.021</td> <td>    3.973</td> <td> 0.000</td> <td>    0.043</td> <td>    0.126</td>\n",
       "</tr>\n",
       "<tr>\n",
       "  <th>cumsum_e_star</th> <td>    0.0032</td> <td>    0.001</td> <td>    3.879</td> <td> 0.000</td> <td>    0.002</td> <td>    0.005</td>\n",
       "</tr>\n",
       "<tr>\n",
       "  <th>delta_e_hat</th>   <td>   -0.3155</td> <td>    0.234</td> <td>   -1.349</td> <td> 0.178</td> <td>   -0.775</td> <td>    0.144</td>\n",
       "</tr>\n",
       "<tr>\n",
       "  <th>delta_e_star</th>  <td>    0.4858</td> <td>    0.245</td> <td>    1.981</td> <td> 0.048</td> <td>    0.004</td> <td>    0.967</td>\n",
       "</tr>\n",
       "</table>\n",
       "<table class=\"simpletable\">\n",
       "<tr>\n",
       "  <th>Omnibus:</th>       <td>81.285</td> <th>  Durbin-Watson:     </th> <td>   2.029</td> \n",
       "</tr>\n",
       "<tr>\n",
       "  <th>Prob(Omnibus):</th> <td> 0.000</td> <th>  Jarque-Bera (JB):  </th> <td> 459.796</td> \n",
       "</tr>\n",
       "<tr>\n",
       "  <th>Skew:</th>          <td>-0.373</td> <th>  Prob(JB):          </th> <td>1.43e-100</td>\n",
       "</tr>\n",
       "<tr>\n",
       "  <th>Kurtosis:</th>      <td> 7.049</td> <th>  Cond. No.          </th> <td>8.89e+16</td> \n",
       "</tr>\n",
       "</table><br/><br/>Notes:<br/>[1] Standard Errors assume that the covariance matrix of the errors is correctly specified.<br/>[2] The smallest eigenvalue is 1.96e-31. This might indicate that there are<br/>strong multicollinearity problems or that the design matrix is singular."
      ],
      "text/plain": [
       "<class 'statsmodels.iolib.summary.Summary'>\n",
       "\"\"\"\n",
       "                            OLS Regression Results                            \n",
       "==============================================================================\n",
       "Dep. Variable:                      y   R-squared:                       0.551\n",
       "Model:                            OLS   Adj. R-squared:                  0.547\n",
       "Method:                 Least Squares   F-statistic:                     131.6\n",
       "Date:                Mon, 28 Sep 2020   Prob (F-statistic):          2.00e-108\n",
       "Time:                        23:42:43   Log-Likelihood:                 2139.1\n",
       "No. Observations:                 651   AIC:                            -4264.\n",
       "Df Residuals:                     644   BIC:                            -4233.\n",
       "Df Model:                           6                                         \n",
       "Covariance Type:            nonrobust                                         \n",
       "=================================================================================\n",
       "                    coef    std err          t      P>|t|      [0.025      0.975]\n",
       "---------------------------------------------------------------------------------\n",
       "const             0.2055      0.042      4.931      0.000       0.124       0.287\n",
       "p                 0.7922      0.041     19.370      0.000       0.712       0.872\n",
       "e_hat             0.6923      0.103      6.693      0.000       0.489       0.895\n",
       "e_star           -0.5866      0.083     -7.104      0.000      -0.749      -0.424\n",
       "cumsum_e_hat      0.0841      0.021      3.973      0.000       0.043       0.126\n",
       "cumsum_e_star     0.0032      0.001      3.879      0.000       0.002       0.005\n",
       "delta_e_hat      -0.3155      0.234     -1.349      0.178      -0.775       0.144\n",
       "delta_e_star      0.4858      0.245      1.981      0.048       0.004       0.967\n",
       "==============================================================================\n",
       "Omnibus:                       81.285   Durbin-Watson:                   2.029\n",
       "Prob(Omnibus):                  0.000   Jarque-Bera (JB):              459.796\n",
       "Skew:                          -0.373   Prob(JB):                    1.43e-100\n",
       "Kurtosis:                       7.049   Cond. No.                     8.89e+16\n",
       "==============================================================================\n",
       "\n",
       "Notes:\n",
       "[1] Standard Errors assume that the covariance matrix of the errors is correctly specified.\n",
       "[2] The smallest eigenvalue is 1.96e-31. This might indicate that there are\n",
       "strong multicollinearity problems or that the design matrix is singular.\n",
       "\"\"\""
      ]
     },
     "execution_count": 5,
     "metadata": {},
     "output_type": "execute_result"
    }
   ],
   "source": [
    "ols_model = sm.OLS(output_data, input_data)\n",
    "results = ols_model.fit()\n",
    "results.summary()"
   ]
  },
  {
   "cell_type": "markdown",
   "metadata": {},
   "source": [
    "## Summary"
   ]
  },
  {
   "cell_type": "markdown",
   "metadata": {},
   "source": [
    "- The OLS estimate shows an R-squared of 0.551, which suggests the model inputs explain about 55% of the variance. \n",
    "\n",
    "- The estimated coefficents show statistical significance at the 5% level for all but one of the parameters, which suggests we can reject the null hypothesis for those parameters. \n",
    "\n",
    "- Finally, the Durbin-Watson test of correlation between the residuals/error term shows a value close to 2, which suggests the autocorrelation is low enough to not correct."
   ]
  }
 ],
 "metadata": {
  "kernelspec": {
   "display_name": "Python 3",
   "language": "python",
   "name": "python3"
  },
  "language_info": {
   "codemirror_mode": {
    "name": "ipython",
    "version": 3
   },
   "file_extension": ".py",
   "mimetype": "text/x-python",
   "name": "python",
   "nbconvert_exporter": "python",
   "pygments_lexer": "ipython3",
   "version": "3.7.5"
  }
 },
 "nbformat": 4,
 "nbformat_minor": 4
}
