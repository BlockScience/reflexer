{
 "cells": [
  {
   "cell_type": "code",
   "execution_count": 1,
   "metadata": {},
   "outputs": [],
   "source": [
    "import numpy as np\n",
    "import statsmodels.api as sm\n",
    "import pandas as pd\n",
    "from scipy.linalg import toeplitz"
   ]
  },
  {
   "cell_type": "code",
   "execution_count": 2,
   "metadata": {},
   "outputs": [],
   "source": [
    "df = pd.read_csv('market_price_autoregression_df.csv')"
   ]
  },
  {
   "cell_type": "markdown",
   "metadata": {},
   "source": [
    "## Overview"
   ]
  },
  {
   "cell_type": "markdown",
   "metadata": {},
   "source": [
    "This notebook provides an Ordinary Least Squares (OLS) estimate of a linear model for the market price parameters. The OLS estimate will provide a basis for considering the goodness of fit for the model, hypothesis testing for the estimate coefficients of each parameter, and a test for autocorrelation."
   ]
  },
  {
   "cell_type": "markdown",
   "metadata": {},
   "source": [
    "## Hypotheses"
   ]
  },
  {
   "cell_type": "markdown",
   "metadata": {},
   "source": [
    "The main hypotheses involve the estimate coefficents on each parameter. The Null Hypothesis for each is that there is no effect of the parameter on `y`. Our hypotheses for each coefficient is that there is an effect that is greater than 0 - positive or negative.\n",
    "\n",
    "Secondarily, we want to look at autocorrelation or the correlation between the residual/error terms in the model. Autocorrelation can bias our t-values and throw off our hypothesis testing. Fortunately, `statsmodels` provides the Durbin-Watson test for autocorrelation. The value is always between 0 and 4 where 2 indicates neither positive nor negative autocorrelation."
   ]
  },
  {
   "cell_type": "markdown",
   "metadata": {},
   "source": [
    "## Method"
   ]
  },
  {
   "cell_type": "markdown",
   "metadata": {},
   "source": [
    "We use the Ordinary Least Squares (OLS) estimate of the linear model from the `statsmodel` library in Python. The input and output variables are summarized below."
   ]
  },
  {
   "cell_type": "code",
   "execution_count": 3,
   "metadata": {},
   "outputs": [],
   "source": [
    "input_vars = ['p', \n",
    "                'e_hat', 'e_star', \n",
    "                'cumsum_e_hat', 'cumsum_e_star', \n",
    "                'delta_e_hat', 'delta_e_star']\n",
    "output_var = ['y']\n",
    "\n",
    "input_data = df[input_vars]\n",
    "output_data = df[output_var]\n",
    "output_data = sm.add_constant(output_data)"
   ]
  },
  {
   "cell_type": "markdown",
   "metadata": {},
   "source": [
    "### Summary Statistics"
   ]
  },
  {
   "cell_type": "code",
   "execution_count": 4,
   "metadata": {},
   "outputs": [
    {
     "data": {
      "text/html": [
       "<div>\n",
       "<style scoped>\n",
       "    .dataframe tbody tr th:only-of-type {\n",
       "        vertical-align: middle;\n",
       "    }\n",
       "\n",
       "    .dataframe tbody tr th {\n",
       "        vertical-align: top;\n",
       "    }\n",
       "\n",
       "    .dataframe thead th {\n",
       "        text-align: right;\n",
       "    }\n",
       "</style>\n",
       "<table border=\"1\" class=\"dataframe\">\n",
       "  <thead>\n",
       "    <tr style=\"text-align: right;\">\n",
       "      <th></th>\n",
       "      <th>p</th>\n",
       "      <th>p_star</th>\n",
       "      <th>p_hat</th>\n",
       "      <th>e_hat</th>\n",
       "      <th>e_star</th>\n",
       "      <th>cumsum_e_hat</th>\n",
       "      <th>cumsum_e_star</th>\n",
       "      <th>delta_e_hat</th>\n",
       "      <th>delta_e_star</th>\n",
       "      <th>y</th>\n",
       "    </tr>\n",
       "  </thead>\n",
       "  <tbody>\n",
       "    <tr>\n",
       "      <th>count</th>\n",
       "      <td>651.000000</td>\n",
       "      <td>651.0</td>\n",
       "      <td>651.000000</td>\n",
       "      <td>651.000000</td>\n",
       "      <td>651.000000</td>\n",
       "      <td>651.000000</td>\n",
       "      <td>651.000000</td>\n",
       "      <td>651.000000</td>\n",
       "      <td>651.000000</td>\n",
       "      <td>651.000000</td>\n",
       "    </tr>\n",
       "    <tr>\n",
       "      <th>mean</th>\n",
       "      <td>1.000402</td>\n",
       "      <td>1.0</td>\n",
       "      <td>1.000311</td>\n",
       "      <td>-0.000091</td>\n",
       "      <td>-0.000402</td>\n",
       "      <td>0.048712</td>\n",
       "      <td>-0.575856</td>\n",
       "      <td>-0.000003</td>\n",
       "      <td>-0.000021</td>\n",
       "      <td>1.000386</td>\n",
       "    </tr>\n",
       "    <tr>\n",
       "      <th>std</th>\n",
       "      <td>0.013530</td>\n",
       "      <td>0.0</td>\n",
       "      <td>0.009929</td>\n",
       "      <td>0.010085</td>\n",
       "      <td>0.013530</td>\n",
       "      <td>0.058480</td>\n",
       "      <td>0.500354</td>\n",
       "      <td>0.010654</td>\n",
       "      <td>0.010567</td>\n",
       "      <td>0.013516</td>\n",
       "    </tr>\n",
       "    <tr>\n",
       "      <th>min</th>\n",
       "      <td>0.942696</td>\n",
       "      <td>1.0</td>\n",
       "      <td>0.961951</td>\n",
       "      <td>-0.034673</td>\n",
       "      <td>-0.047816</td>\n",
       "      <td>-0.134040</td>\n",
       "      <td>-1.275038</td>\n",
       "      <td>-0.040274</td>\n",
       "      <td>-0.038972</td>\n",
       "      <td>0.942696</td>\n",
       "    </tr>\n",
       "    <tr>\n",
       "      <th>25%</th>\n",
       "      <td>0.993778</td>\n",
       "      <td>1.0</td>\n",
       "      <td>0.995523</td>\n",
       "      <td>-0.005684</td>\n",
       "      <td>-0.007697</td>\n",
       "      <td>0.012256</td>\n",
       "      <td>-0.899639</td>\n",
       "      <td>-0.006203</td>\n",
       "      <td>-0.006203</td>\n",
       "      <td>0.993778</td>\n",
       "    </tr>\n",
       "    <tr>\n",
       "      <th>50%</th>\n",
       "      <td>1.000268</td>\n",
       "      <td>1.0</td>\n",
       "      <td>1.001078</td>\n",
       "      <td>0.000537</td>\n",
       "      <td>-0.000268</td>\n",
       "      <td>0.045755</td>\n",
       "      <td>-0.795639</td>\n",
       "      <td>0.000211</td>\n",
       "      <td>0.000079</td>\n",
       "      <td>1.000268</td>\n",
       "    </tr>\n",
       "    <tr>\n",
       "      <th>75%</th>\n",
       "      <td>1.007697</td>\n",
       "      <td>1.0</td>\n",
       "      <td>1.006522</td>\n",
       "      <td>0.005245</td>\n",
       "      <td>0.006222</td>\n",
       "      <td>0.082637</td>\n",
       "      <td>-0.115707</td>\n",
       "      <td>0.005274</td>\n",
       "      <td>0.005233</td>\n",
       "      <td>1.007649</td>\n",
       "    </tr>\n",
       "    <tr>\n",
       "      <th>max</th>\n",
       "      <td>1.047816</td>\n",
       "      <td>1.0</td>\n",
       "      <td>1.026005</td>\n",
       "      <td>0.057322</td>\n",
       "      <td>0.057304</td>\n",
       "      <td>0.261073</td>\n",
       "      <td>0.402621</td>\n",
       "      <td>0.058177</td>\n",
       "      <td>0.058372</td>\n",
       "      <td>1.047816</td>\n",
       "    </tr>\n",
       "  </tbody>\n",
       "</table>\n",
       "</div>"
      ],
      "text/plain": [
       "                p  p_star       p_hat       e_hat      e_star  cumsum_e_hat  \\\n",
       "count  651.000000   651.0  651.000000  651.000000  651.000000    651.000000   \n",
       "mean     1.000402     1.0    1.000311   -0.000091   -0.000402      0.048712   \n",
       "std      0.013530     0.0    0.009929    0.010085    0.013530      0.058480   \n",
       "min      0.942696     1.0    0.961951   -0.034673   -0.047816     -0.134040   \n",
       "25%      0.993778     1.0    0.995523   -0.005684   -0.007697      0.012256   \n",
       "50%      1.000268     1.0    1.001078    0.000537   -0.000268      0.045755   \n",
       "75%      1.007697     1.0    1.006522    0.005245    0.006222      0.082637   \n",
       "max      1.047816     1.0    1.026005    0.057322    0.057304      0.261073   \n",
       "\n",
       "       cumsum_e_star  delta_e_hat  delta_e_star           y  \n",
       "count     651.000000   651.000000    651.000000  651.000000  \n",
       "mean       -0.575856    -0.000003     -0.000021    1.000386  \n",
       "std         0.500354     0.010654      0.010567    0.013516  \n",
       "min        -1.275038    -0.040274     -0.038972    0.942696  \n",
       "25%        -0.899639    -0.006203     -0.006203    0.993778  \n",
       "50%        -0.795639     0.000211      0.000079    1.000268  \n",
       "75%        -0.115707     0.005274      0.005233    1.007649  \n",
       "max         0.402621     0.058177      0.058372    1.047816  "
      ]
     },
     "execution_count": 4,
     "metadata": {},
     "output_type": "execute_result"
    }
   ],
   "source": [
    "df.describe()"
   ]
  },
  {
   "cell_type": "markdown",
   "metadata": {},
   "source": [
    "## OLS Model Results"
   ]
  },
  {
   "cell_type": "code",
   "execution_count": 5,
   "metadata": {},
   "outputs": [
    {
     "ename": "ValueError",
     "evalue": "shapes (651,2) and (651,2) not aligned: 2 (dim 1) != 651 (dim 0)",
     "output_type": "error",
     "traceback": [
      "\u001b[1;31m---------------------------------------------------------------------------\u001b[0m",
      "\u001b[1;31mValueError\u001b[0m                                Traceback (most recent call last)",
      "\u001b[1;32m<ipython-input-5-712cf0e24091>\u001b[0m in \u001b[0;36m<module>\u001b[1;34m\u001b[0m\n\u001b[0;32m      1\u001b[0m \u001b[0mols_model\u001b[0m \u001b[1;33m=\u001b[0m \u001b[0msm\u001b[0m\u001b[1;33m.\u001b[0m\u001b[0mOLS\u001b[0m\u001b[1;33m(\u001b[0m\u001b[0moutput_data\u001b[0m\u001b[1;33m,\u001b[0m \u001b[0minput_data\u001b[0m\u001b[1;33m)\u001b[0m\u001b[1;33m\u001b[0m\u001b[1;33m\u001b[0m\u001b[0m\n\u001b[0;32m      2\u001b[0m \u001b[0mresults\u001b[0m \u001b[1;33m=\u001b[0m \u001b[0mols_model\u001b[0m\u001b[1;33m.\u001b[0m\u001b[0mfit\u001b[0m\u001b[1;33m(\u001b[0m\u001b[1;33m)\u001b[0m\u001b[1;33m\u001b[0m\u001b[1;33m\u001b[0m\u001b[0m\n\u001b[1;32m----> 3\u001b[1;33m \u001b[0mresults\u001b[0m\u001b[1;33m.\u001b[0m\u001b[0msummary\u001b[0m\u001b[1;33m(\u001b[0m\u001b[1;33m)\u001b[0m\u001b[1;33m\u001b[0m\u001b[1;33m\u001b[0m\u001b[0m\n\u001b[0m",
      "\u001b[1;32m~\\.conda\\envs\\rai\\lib\\site-packages\\statsmodels\\regression\\linear_model.py\u001b[0m in \u001b[0;36msummary\u001b[1;34m(self, yname, xname, title, alpha)\u001b[0m\n\u001b[0;32m   2638\u001b[0m         \u001b[0mrsquared_type\u001b[0m \u001b[1;33m=\u001b[0m \u001b[1;34m''\u001b[0m \u001b[1;32mif\u001b[0m \u001b[0mself\u001b[0m\u001b[1;33m.\u001b[0m\u001b[0mk_constant\u001b[0m \u001b[1;32melse\u001b[0m \u001b[1;34m' (uncentered)'\u001b[0m\u001b[1;33m\u001b[0m\u001b[1;33m\u001b[0m\u001b[0m\n\u001b[0;32m   2639\u001b[0m         top_right = [('R-squared' + rsquared_type + ':',\n\u001b[1;32m-> 2640\u001b[1;33m                       [\"%#8.3f\" % self.rsquared]),\n\u001b[0m\u001b[0;32m   2641\u001b[0m                      ('Adj. R-squared' + rsquared_type + ':',\n\u001b[0;32m   2642\u001b[0m                       [\"%#8.3f\" % self.rsquared_adj]),\n",
      "\u001b[1;32mpandas\\_libs\\properties.pyx\u001b[0m in \u001b[0;36mpandas._libs.properties.CachedProperty.__get__\u001b[1;34m()\u001b[0m\n",
      "\u001b[1;32m~\\.conda\\envs\\rai\\lib\\site-packages\\statsmodels\\regression\\linear_model.py\u001b[0m in \u001b[0;36mrsquared\u001b[1;34m(self)\u001b[0m\n\u001b[0;32m   1713\u001b[0m         \"\"\"\n\u001b[0;32m   1714\u001b[0m         \u001b[1;32mif\u001b[0m \u001b[0mself\u001b[0m\u001b[1;33m.\u001b[0m\u001b[0mk_constant\u001b[0m\u001b[1;33m:\u001b[0m\u001b[1;33m\u001b[0m\u001b[1;33m\u001b[0m\u001b[0m\n\u001b[1;32m-> 1715\u001b[1;33m             \u001b[1;32mreturn\u001b[0m \u001b[1;36m1\u001b[0m \u001b[1;33m-\u001b[0m \u001b[0mself\u001b[0m\u001b[1;33m.\u001b[0m\u001b[0mssr\u001b[0m\u001b[1;33m/\u001b[0m\u001b[0mself\u001b[0m\u001b[1;33m.\u001b[0m\u001b[0mcentered_tss\u001b[0m\u001b[1;33m\u001b[0m\u001b[1;33m\u001b[0m\u001b[0m\n\u001b[0m\u001b[0;32m   1716\u001b[0m         \u001b[1;32melse\u001b[0m\u001b[1;33m:\u001b[0m\u001b[1;33m\u001b[0m\u001b[1;33m\u001b[0m\u001b[0m\n\u001b[0;32m   1717\u001b[0m             \u001b[1;32mreturn\u001b[0m \u001b[1;36m1\u001b[0m \u001b[1;33m-\u001b[0m \u001b[0mself\u001b[0m\u001b[1;33m.\u001b[0m\u001b[0mssr\u001b[0m\u001b[1;33m/\u001b[0m\u001b[0mself\u001b[0m\u001b[1;33m.\u001b[0m\u001b[0muncentered_tss\u001b[0m\u001b[1;33m\u001b[0m\u001b[1;33m\u001b[0m\u001b[0m\n",
      "\u001b[1;32mpandas\\_libs\\properties.pyx\u001b[0m in \u001b[0;36mpandas._libs.properties.CachedProperty.__get__\u001b[1;34m()\u001b[0m\n",
      "\u001b[1;32m~\\.conda\\envs\\rai\\lib\\site-packages\\statsmodels\\regression\\linear_model.py\u001b[0m in \u001b[0;36mssr\u001b[1;34m(self)\u001b[0m\n\u001b[0;32m   1654\u001b[0m         \u001b[1;34m\"\"\"Sum of squared (whitened) residuals.\"\"\"\u001b[0m\u001b[1;33m\u001b[0m\u001b[1;33m\u001b[0m\u001b[0m\n\u001b[0;32m   1655\u001b[0m         \u001b[0mwresid\u001b[0m \u001b[1;33m=\u001b[0m \u001b[0mself\u001b[0m\u001b[1;33m.\u001b[0m\u001b[0mwresid\u001b[0m\u001b[1;33m\u001b[0m\u001b[1;33m\u001b[0m\u001b[0m\n\u001b[1;32m-> 1656\u001b[1;33m         \u001b[1;32mreturn\u001b[0m \u001b[0mnp\u001b[0m\u001b[1;33m.\u001b[0m\u001b[0mdot\u001b[0m\u001b[1;33m(\u001b[0m\u001b[0mwresid\u001b[0m\u001b[1;33m,\u001b[0m \u001b[0mwresid\u001b[0m\u001b[1;33m)\u001b[0m\u001b[1;33m\u001b[0m\u001b[1;33m\u001b[0m\u001b[0m\n\u001b[0m\u001b[0;32m   1657\u001b[0m \u001b[1;33m\u001b[0m\u001b[0m\n\u001b[0;32m   1658\u001b[0m     \u001b[1;33m@\u001b[0m\u001b[0mcache_readonly\u001b[0m\u001b[1;33m\u001b[0m\u001b[1;33m\u001b[0m\u001b[0m\n",
      "\u001b[1;32m<__array_function__ internals>\u001b[0m in \u001b[0;36mdot\u001b[1;34m(*args, **kwargs)\u001b[0m\n",
      "\u001b[1;31mValueError\u001b[0m: shapes (651,2) and (651,2) not aligned: 2 (dim 1) != 651 (dim 0)"
     ]
    }
   ],
   "source": [
    "ols_model = sm.OLS(output_data, input_data)\n",
    "results = ols_model.fit()\n",
    "results.summary()"
   ]
  },
  {
   "cell_type": "markdown",
   "metadata": {},
   "source": [
    "## Summary"
   ]
  },
  {
   "cell_type": "markdown",
   "metadata": {},
   "source": [
    "- The OLS estimate shows an R-squared of 0.551, which suggests the model inputs explain about 55% of the variance. \n",
    "\n",
    "- The estimated coefficents show statistical significance at the 5% level for all but one of the parameters, which suggests we can reject the null hypothesis for those parameters. \n",
    "\n",
    "- Finally, the Durbin-Watson test of correlation between the residuals/error term shows a value close to 2, which suggests the autocorrelation is low enough to not correct."
   ]
  },
  {
   "cell_type": "code",
   "execution_count": null,
   "metadata": {},
   "outputs": [],
   "source": []
  }
 ],
 "metadata": {
  "kernelspec": {
   "display_name": "Python 3",
   "language": "python",
   "name": "python3"
  },
  "language_info": {
   "codemirror_mode": {
    "name": "ipython",
    "version": 3
   },
   "file_extension": ".py",
   "mimetype": "text/x-python",
   "name": "python",
   "nbconvert_exporter": "python",
   "pygments_lexer": "ipython3",
   "version": "3.7.8"
  }
 },
 "nbformat": 4,
 "nbformat_minor": 4
}
