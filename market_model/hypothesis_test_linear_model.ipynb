{
 "cells": [
  {
   "cell_type": "code",
   "execution_count": 1,
   "metadata": {},
   "outputs": [],
   "source": [
    "import numpy as np\n",
    "import statsmodels.api as sm\n",
    "import pandas as pd\n",
    "from scipy.linalg import toeplitz"
   ]
  },
  {
   "cell_type": "code",
   "execution_count": 2,
   "metadata": {},
   "outputs": [],
   "source": [
    "df = pd.read_csv('market_price_autoregression_df.csv')"
   ]
  },
  {
   "cell_type": "markdown",
   "metadata": {},
   "source": [
    "## Overview"
   ]
  },
  {
   "cell_type": "markdown",
   "metadata": {},
   "source": [
    "This notebook provides an Ordinary Least Squares (OLS) estimate of a linear model for the market price parameters. The OLS estimate will provide a basis for considering the goodness of fit for the model, hypothesis testing for the estimate coefficients of each parameter, and a test for autocorrelation."
   ]
  },
  {
   "cell_type": "code",
   "execution_count": 3,
   "metadata": {},
   "outputs": [],
   "source": [
    "input_vars = ['p', \n",
    "                'e_hat', 'e_star', \n",
    "                'cumsum_e_hat', 'cumsum_e_star', \n",
    "                'delta_e_hat', 'delta_e_star']\n",
    "output_var = ['y']\n",
    "\n",
    "input_data = df[input_vars]\n",
    "output_data = df[output_var]"
   ]
  },
  {
   "cell_type": "markdown",
   "metadata": {},
   "source": [
    "## OLS Model Results"
   ]
  },
  {
   "cell_type": "code",
   "execution_count": 5,
   "metadata": {},
   "outputs": [
    {
     "data": {
      "text/html": [
       "<table class=\"simpletable\">\n",
       "<caption>OLS Regression Results</caption>\n",
       "<tr>\n",
       "  <th>Dep. Variable:</th>            <td>y</td>        <th>  R-squared:         </th> <td>   0.551</td> \n",
       "</tr>\n",
       "<tr>\n",
       "  <th>Model:</th>                   <td>OLS</td>       <th>  Adj. R-squared:    </th> <td>   0.547</td> \n",
       "</tr>\n",
       "<tr>\n",
       "  <th>Method:</th>             <td>Least Squares</td>  <th>  F-statistic:       </th> <td>   131.6</td> \n",
       "</tr>\n",
       "<tr>\n",
       "  <th>Date:</th>             <td>Mon, 21 Sep 2020</td> <th>  Prob (F-statistic):</th> <td>2.00e-108</td>\n",
       "</tr>\n",
       "<tr>\n",
       "  <th>Time:</th>                 <td>09:52:40</td>     <th>  Log-Likelihood:    </th> <td>  2139.1</td> \n",
       "</tr>\n",
       "<tr>\n",
       "  <th>No. Observations:</th>      <td>   651</td>      <th>  AIC:               </th> <td>  -4264.</td> \n",
       "</tr>\n",
       "<tr>\n",
       "  <th>Df Residuals:</th>          <td>   644</td>      <th>  BIC:               </th> <td>  -4233.</td> \n",
       "</tr>\n",
       "<tr>\n",
       "  <th>Df Model:</th>              <td>     6</td>      <th>                     </th>     <td> </td>    \n",
       "</tr>\n",
       "<tr>\n",
       "  <th>Covariance Type:</th>      <td>nonrobust</td>    <th>                     </th>     <td> </td>    \n",
       "</tr>\n",
       "</table>\n",
       "<table class=\"simpletable\">\n",
       "<tr>\n",
       "        <td></td>           <th>coef</th>     <th>std err</th>      <th>t</th>      <th>P>|t|</th>  <th>[0.025</th>    <th>0.975]</th>  \n",
       "</tr>\n",
       "<tr>\n",
       "  <th>p</th>             <td>    0.9977</td> <td>    0.001</td> <td> 1005.002</td> <td> 0.000</td> <td>    0.996</td> <td>    1.000</td>\n",
       "</tr>\n",
       "<tr>\n",
       "  <th>e_hat</th>         <td>    0.6923</td> <td>    0.103</td> <td>    6.693</td> <td> 0.000</td> <td>    0.489</td> <td>    0.895</td>\n",
       "</tr>\n",
       "<tr>\n",
       "  <th>e_star</th>        <td>   -0.3811</td> <td>    0.124</td> <td>   -3.067</td> <td> 0.002</td> <td>   -0.625</td> <td>   -0.137</td>\n",
       "</tr>\n",
       "<tr>\n",
       "  <th>cumsum_e_hat</th>  <td>    0.0841</td> <td>    0.021</td> <td>    3.973</td> <td> 0.000</td> <td>    0.043</td> <td>    0.126</td>\n",
       "</tr>\n",
       "<tr>\n",
       "  <th>cumsum_e_star</th> <td>    0.0032</td> <td>    0.001</td> <td>    3.879</td> <td> 0.000</td> <td>    0.002</td> <td>    0.005</td>\n",
       "</tr>\n",
       "<tr>\n",
       "  <th>delta_e_hat</th>   <td>   -0.3155</td> <td>    0.234</td> <td>   -1.349</td> <td> 0.178</td> <td>   -0.775</td> <td>    0.144</td>\n",
       "</tr>\n",
       "<tr>\n",
       "  <th>delta_e_star</th>  <td>    0.4858</td> <td>    0.245</td> <td>    1.981</td> <td> 0.048</td> <td>    0.004</td> <td>    0.967</td>\n",
       "</tr>\n",
       "</table>\n",
       "<table class=\"simpletable\">\n",
       "<tr>\n",
       "  <th>Omnibus:</th>       <td>81.285</td> <th>  Durbin-Watson:     </th> <td>   2.029</td> \n",
       "</tr>\n",
       "<tr>\n",
       "  <th>Prob(Omnibus):</th> <td> 0.000</td> <th>  Jarque-Bera (JB):  </th> <td> 459.796</td> \n",
       "</tr>\n",
       "<tr>\n",
       "  <th>Skew:</th>          <td>-0.373</td> <th>  Prob(JB):          </th> <td>1.43e-100</td>\n",
       "</tr>\n",
       "<tr>\n",
       "  <th>Kurtosis:</th>      <td> 7.049</td> <th>  Cond. No.          </th> <td>1.12e+03</td> \n",
       "</tr>\n",
       "</table><br/><br/>Notes:<br/>[1] Standard Errors assume that the covariance matrix of the errors is correctly specified.<br/>[2] The condition number is large, 1.12e+03. This might indicate that there are<br/>strong multicollinearity or other numerical problems."
      ],
      "text/plain": [
       "<class 'statsmodels.iolib.summary.Summary'>\n",
       "\"\"\"\n",
       "                            OLS Regression Results                            \n",
       "==============================================================================\n",
       "Dep. Variable:                      y   R-squared:                       0.551\n",
       "Model:                            OLS   Adj. R-squared:                  0.547\n",
       "Method:                 Least Squares   F-statistic:                     131.6\n",
       "Date:                Mon, 21 Sep 2020   Prob (F-statistic):          2.00e-108\n",
       "Time:                        09:52:40   Log-Likelihood:                 2139.1\n",
       "No. Observations:                 651   AIC:                            -4264.\n",
       "Df Residuals:                     644   BIC:                            -4233.\n",
       "Df Model:                           6                                         \n",
       "Covariance Type:            nonrobust                                         \n",
       "=================================================================================\n",
       "                    coef    std err          t      P>|t|      [0.025      0.975]\n",
       "---------------------------------------------------------------------------------\n",
       "p                 0.9977      0.001   1005.002      0.000       0.996       1.000\n",
       "e_hat             0.6923      0.103      6.693      0.000       0.489       0.895\n",
       "e_star           -0.3811      0.124     -3.067      0.002      -0.625      -0.137\n",
       "cumsum_e_hat      0.0841      0.021      3.973      0.000       0.043       0.126\n",
       "cumsum_e_star     0.0032      0.001      3.879      0.000       0.002       0.005\n",
       "delta_e_hat      -0.3155      0.234     -1.349      0.178      -0.775       0.144\n",
       "delta_e_star      0.4858      0.245      1.981      0.048       0.004       0.967\n",
       "==============================================================================\n",
       "Omnibus:                       81.285   Durbin-Watson:                   2.029\n",
       "Prob(Omnibus):                  0.000   Jarque-Bera (JB):              459.796\n",
       "Skew:                          -0.373   Prob(JB):                    1.43e-100\n",
       "Kurtosis:                       7.049   Cond. No.                     1.12e+03\n",
       "==============================================================================\n",
       "\n",
       "Notes:\n",
       "[1] Standard Errors assume that the covariance matrix of the errors is correctly specified.\n",
       "[2] The condition number is large, 1.12e+03. This might indicate that there are\n",
       "strong multicollinearity or other numerical problems.\n",
       "\"\"\""
      ]
     },
     "execution_count": 5,
     "metadata": {},
     "output_type": "execute_result"
    }
   ],
   "source": [
    "ols_model = sm.OLS(output_data, input_data)\n",
    "results = ols_model.fit()\n",
    "results.summary()"
   ]
  },
  {
   "cell_type": "markdown",
   "metadata": {},
   "source": [
    "## Summary"
   ]
  },
  {
   "cell_type": "markdown",
   "metadata": {},
   "source": [
    "- The OLS estimate shows an R-squared of 0.551, which suggests the model inputs explain about 55% of the variance. \n",
    "\n",
    "- The estimated coefficents show statistical significance at the 5% level for all but one of the parameters, which suggests we can reject the null hypothesis for those parameters. \n",
    "\n",
    "- Finally, the Durbin-Watson test of correlation between the residuals/error term shows a value close to 2, which suggests the autocorrelation is low enough to not correct."
   ]
  },
  {
   "cell_type": "code",
   "execution_count": null,
   "metadata": {},
   "outputs": [],
   "source": []
  }
 ],
 "metadata": {
  "kernelspec": {
   "display_name": "Python 3",
   "language": "python",
   "name": "python3"
  },
  "language_info": {
   "codemirror_mode": {
    "name": "ipython",
    "version": 3
   },
   "file_extension": ".py",
   "mimetype": "text/x-python",
   "name": "python",
   "nbconvert_exporter": "python",
   "pygments_lexer": "ipython3",
   "version": "3.7.8"
  }
 },
 "nbformat": 4,
 "nbformat_minor": 4
}
