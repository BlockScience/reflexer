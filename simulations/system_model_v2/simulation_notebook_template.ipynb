{
 "cells": [
  {
   "cell_type": "code",
   "execution_count": null,
   "metadata": {
    "lines_to_next_cell": 0
   },
   "outputs": [],
   "source": [
    "# To add a new cell, type '# %%'\n",
    "# To add a new markdown cell, type '# %% [markdown]'"
   ]
  },
  {
   "cell_type": "markdown",
   "metadata": {},
   "source": [
    "# Debt Market Model"
   ]
  },
  {
   "cell_type": "markdown",
   "metadata": {},
   "source": [
    "# Parameters"
   ]
  },
  {
   "cell_type": "code",
   "execution_count": null,
   "metadata": {
    "tags": [
     "parameters"
    ]
   },
   "outputs": [],
   "source": []
  },
  {
   "cell_type": "code",
   "execution_count": null,
   "metadata": {
    "lines_to_next_cell": 2
   },
   "outputs": [],
   "source": [
    "%pip show cadCAD"
   ]
  },
  {
   "cell_type": "code",
   "execution_count": null,
   "metadata": {
    "lines_to_next_cell": 2
   },
   "outputs": [],
   "source": [
    "from shared import *"
   ]
  },
  {
   "cell_type": "code",
   "execution_count": null,
   "metadata": {},
   "outputs": [],
   "source": [
    "import numpy as np\n",
    "import datetime as dt\n",
    "import pandas as pd\n",
    "\n",
    "import plotly.io as pio\n",
    "pio.renderers.default = \"png\""
   ]
  },
  {
   "cell_type": "markdown",
   "metadata": {},
   "source": [
    "# Historic MakerDAO Dai debt market activity"
   ]
  },
  {
   "cell_type": "code",
   "execution_count": null,
   "metadata": {
    "lines_to_next_cell": 2
   },
   "outputs": [],
   "source": [
    "debt_market_df = pd.read_csv('models/market_model/data/debt_market_df.csv', index_col='date', parse_dates=True)\n",
    "debt_market_df"
   ]
  },
  {
   "cell_type": "code",
   "execution_count": null,
   "metadata": {},
   "outputs": [],
   "source": [
    "debt_market_df.insert(0, 'seconds_passed', 24 * 3600)\n",
    "debt_market_df['cumulative_v_1'] = debt_market_df['v_1'].cumsum()"
   ]
  },
  {
   "cell_type": "code",
   "execution_count": null,
   "metadata": {},
   "outputs": [],
   "source": [
    "debt_market_df.plot()"
   ]
  },
  {
   "cell_type": "markdown",
   "metadata": {},
   "source": [
    "# APT Model Setup"
   ]
  },
  {
   "cell_type": "code",
   "execution_count": null,
   "metadata": {},
   "outputs": [],
   "source": [
    "features = ['beta', 'Q', 'v_1', 'v_2 + v_3', \n",
    "                    'D_1', 'u_1', 'u_2', 'u_3', 'u_2 + u_3', \n",
    "                    'D_2', 'w_1', 'w_2', 'w_3', 'w_2 + w_3',\n",
    "                    'D']\n",
    "\n",
    "features_ml = ['beta', 'Q', 'v_1', 'v_2 + v_3', 'u_1', 'u_2', 'u_3', 'w_1', 'w_2', 'w_3', 'D']\n",
    "optvars = ['u_1', 'u_2', 'v_1', 'v_2 + v_3']\n",
    "\n",
    "# start_date = '2018-11-05' # Dropping ETH price\n",
    "# start_date = '2018-05-06' # Dropping ETH price\n",
    "start_date = '2018-04-01' # Rising ETH price\n",
    "\n",
    "historical_initial_state = {k: debt_market_df.loc[start_date][k] for k in features}\n",
    "historical_initial_state"
   ]
  },
  {
   "cell_type": "markdown",
   "metadata": {},
   "source": [
    "## Root function"
   ]
  },
  {
   "cell_type": "code",
   "execution_count": null,
   "metadata": {
    "lines_to_next_cell": 1
   },
   "outputs": [],
   "source": [
    "import pickle\n",
    "\n",
    "model = pickle.load(open('models/pickles/apt_debt_model_2020-11-28.pickle', 'rb'))\n",
    "\n",
    "# ML debt model root function\n",
    "def G(x, to_opt, data, constant):\n",
    "    for i,y in enumerate(x):\n",
    "        data[:,to_opt[i]] = y\n",
    "    err = model.predict(data)[0] - constant\n",
    "    return err\n",
    "\n",
    "dpres = pickle.load(open('models/pickles/debt_market_OLS_model.pickle', 'rb'))\n",
    "\n",
    "def G_OLS(x, to_opt, data, constant):\n",
    "    for i,y in enumerate(x):\n",
    "        data[:,to_opt[i]] = y\n",
    "    err = dpres.predict(data)[0] - constant\n",
    "    #print(f'G_OLS err: {err}')\n",
    "    return err\n",
    "\n",
    "ml_data_list = []\n",
    "global tol\n",
    "tol = 1e-2\n",
    "global curr_error, best_error, best_val\n",
    "global strikes\n",
    "strikes = 0\n",
    "best_error = 1e10\n",
    "\n",
    "def glf_continue_callback(xopt):\n",
    "    print('entered callback')\n",
    "    global curr_error, best_error, best_val, strikes, tol\n",
    "    if curr_error > tol: # keep searching\n",
    "        print('bigger than tol, keep searching')\n",
    "        return False\n",
    "    else:\n",
    "        if curr_error > best_error: # add strike\n",
    "            strikes += 1\n",
    "            if strikes < 3: # continue trying\n",
    "                print('bigger than prev best, add strike')\n",
    "                return False\n",
    "            else: # move on, not working\n",
    "                strikes = 0\n",
    "                print('3rd strike, stop')\n",
    "                return True\n",
    "        else: # better outcome, continue\n",
    "            best_error = curr_error\n",
    "            best_val = xopt\n",
    "            strikes = 0\n",
    "            print('New best, reset strikes')\n",
    "            return False\n",
    "\n",
    "# Global minimizer function\n",
    "def glf(x, to_opt, data, constant, timestep):\n",
    "    global curr_error\n",
    "    for i,y in enumerate(x):\n",
    "        #print(x)\n",
    "        data[:,to_opt[i]] = y\n",
    "    err = model.predict(data)[0] - constant\n",
    "    curr_error = abs(err)\n",
    "\n",
    "    # df: pd.DataFrame = pd.read_pickle('exports/ml_data.pickle')\n",
    "    # ml_data = pd.DataFrame([{'x': x, 'to_opt': to_opt, 'data': data, 'constant': constant, 'err': err}])\n",
    "    # ml_data['timestep'] = timestep\n",
    "    # try:\n",
    "    #     ml_data['iteration'] = df.iloc[-1]['iteration'] + 1\n",
    "    # except IndexError:\n",
    "    #     ml_data['iteration'] = 0\n",
    "    # df.append(ml_data, ignore_index=True).to_pickle('exports/ml_data.pickle')\n",
    "\n",
    "    #print(err)\n",
    "    return curr_error"
   ]
  },
  {
   "cell_type": "markdown",
   "metadata": {},
   "source": [
    "# Model Configuration"
   ]
  },
  {
   "cell_type": "code",
   "execution_count": null,
   "metadata": {
    "lines_to_next_cell": 2
   },
   "outputs": [],
   "source": [
    "eth_price = pd.DataFrame(debt_market_df['rho_star'])\n",
    "eth_p_mean = np.mean(eth_price.to_numpy().flatten())\n",
    "\n",
    "mar_price = pd.DataFrame(debt_market_df['p'])\n",
    "mar_p_mean = np.mean(mar_price.to_numpy().flatten())\n",
    "\n",
    "eth_returns = ((eth_price - eth_price.shift(1))/eth_price.shift(1)).to_numpy().flatten()\n",
    "eth_gross_returns = (eth_price / eth_price.shift(1)).to_numpy().flatten()\n",
    "\n",
    "eth_returns_mean = np.mean(eth_returns[1:])\n",
    "\n",
    "eth_p_mean, eth_returns_mean, mar_p_mean"
   ]
  },
  {
   "cell_type": "code",
   "execution_count": null,
   "metadata": {
    "lines_to_next_cell": 2
   },
   "outputs": [],
   "source": [
    "#eth_collateral = historical_initial_state['Q'] / genesis_cdp_count # collateral per genesis CDP\n",
    "\n",
    "eth_price_ = eth_price.loc[start_date][0]\n",
    "\n",
    "liquidation_ratio = 1.5 # 150%\n",
    "liquidation_buffer = 2.0\n",
    "#collateral_value = eth_collateral * eth_price_\n",
    "target_price = 1.0\n",
    "# principal_debt = collateral_value / (target_price * liquidation_ratio * liquidation_buffer)\n",
    "#principal_debt = historical_initial_state['D_1'] / genesis_cdp_count # debt per genesis CDP\n",
    "\n",
    "#collateralization_ratio = collateral_value / principal_debt * target_price\n",
    "\n",
    "# print(f'''\n",
    "# Initial ETH price: {eth_price_}\n",
    "# Initial RAI price: {target_price}\n",
    "# Initial collateralization ratio (ratio + buffer): {collateralization_ratio}\n",
    "# Initial debt value: {principal_debt * target_price}\n",
    "# Initial collateral value: {collateral_value}\n",
    "# ''')"
   ]
  },
  {
   "cell_type": "code",
   "execution_count": null,
   "metadata": {
    "lines_to_next_cell": 2
   },
   "outputs": [],
   "source": [
    "stability_fee = (historical_initial_state['beta'] * 30 / 365) / (30 * 24 * 3600)"
   ]
  },
  {
   "cell_type": "code",
   "execution_count": null,
   "metadata": {},
   "outputs": [],
   "source": [
    "partial_results = pd.DataFrame()\n",
    "partial_results_file = f'''{simulation_directory}/results/{simulation_id}/partial_results.pickle'''\n",
    "partial_results.to_pickle(partial_results_file)\n",
    "\n",
    "ml_data = pd.DataFrame()\n",
    "ml_data_file = f'''{simulation_directory}/results/{simulation_id}/ml_data.pickle'''\n",
    "ml_data.to_pickle(ml_data_file)"
   ]
  },
  {
   "cell_type": "code",
   "execution_count": null,
   "metadata": {},
   "outputs": [],
   "source": [
    "def save_simulation(simulation_directory, simulation_id, initial_state, params, results_df):\n",
    "    import dill as pickle\n",
    "    import os\n",
    "    os.makedirs(f'{simulation_directory}/results/{simulation_id}', exist_ok=True)\n",
    "    # with open(f'{simulation_directory}/results/{simulation_id}/initial_state.pickle', 'wb') as f:\n",
    "    #     pickle.dump(initial_state, f, pickle.HIGHEST_PROTOCOL)\n",
    "    # with open(f'{simulation_directory}/results/{simulation_id}/params.pickle', 'wb') as f:\n",
    "    #     pickle.dump(params, f, pickle.HIGHEST_PROTOCOL)\n",
    "    results_df.to_pickle(f'{simulation_directory}/results/{simulation_id}/results.pickle')\n",
    "\n",
    "import json\n",
    "\n",
    "def optimal_results_from_json(row):\n",
    "    row['optimal_values'] = json.loads(row['optimal_values'].replace(\"'\", \"\\\"\"))\n",
    "    return row"
   ]
  },
  {
   "cell_type": "code",
   "execution_count": null,
   "metadata": {},
   "outputs": [],
   "source": [
    "import math\n",
    "\n",
    "eth_collateral = historical_initial_state['Q']\n",
    "eth_locked = debt_market_df.loc[:start_date]['v_1'].sum()\n",
    "eth_freed = debt_market_df.loc[:start_date]['v_2 + v_3'].sum() / 2\n",
    "eth_bitten = debt_market_df.loc[:start_date]['v_2 + v_3'].sum() / 2\n",
    "\n",
    "print(f'''\n",
    "{eth_collateral}\n",
    "{eth_locked}\n",
    "{eth_freed}\n",
    "{eth_bitten}\n",
    "''')\n",
    "\n",
    "assert math.isclose(eth_collateral, eth_locked - eth_freed - eth_bitten, abs_tol=1e-6)\n",
    "\n",
    "principal_debt = historical_initial_state['D_1']\n",
    "rai_drawn = debt_market_df.loc[:start_date]['u_1'].sum()\n",
    "rai_wiped = debt_market_df.loc[:start_date]['u_2'].sum()\n",
    "rai_bitten = debt_market_df.loc[:start_date]['u_3'].sum()\n",
    "\n",
    "print(f'''\n",
    "{principal_debt}\n",
    "{rai_drawn}\n",
    "{rai_wiped}\n",
    "{rai_bitten}\n",
    "''')\n",
    "\n",
    "assert math.isclose(principal_debt, rai_drawn - rai_wiped - rai_bitten, abs_tol=1e-6)\n",
    "\n",
    "print(f'Collateralization ratio: {eth_collateral * eth_price_ / principal_debt * target_price}')"
   ]
  },
  {
   "cell_type": "code",
   "execution_count": null,
   "metadata": {
    "lines_to_next_cell": 2
   },
   "outputs": [],
   "source": [
    "# At historical start date:\n",
    "median_cdp_collateral = 2500 # dollars\n",
    "mean_cdp_collateral = 50 # dollars\n",
    "genesis_cdp_count = int(eth_collateral / mean_cdp_collateral)\n",
    "genesis_cdp_count"
   ]
  },
  {
   "cell_type": "code",
   "execution_count": null,
   "metadata": {
    "lines_to_next_cell": 2
   },
   "outputs": [],
   "source": [
    "# Create a set of \"genesis\" CDPs\n",
    "\n",
    "cdp_list = []\n",
    "for i in range(genesis_cdp_count):\n",
    "    cdp_list.append({\n",
    "        'open': 1, # True/False == 1/0 for integer/float series\n",
    "        'time': 0,\n",
    "        'locked': eth_collateral / genesis_cdp_count,\n",
    "        'drawn': principal_debt / genesis_cdp_count,\n",
    "        'wiped': 0.0,\n",
    "        'freed': 0.0,\n",
    "        'w_wiped': 0.0,\n",
    "        'v_bitten': 0.0,\n",
    "        'u_bitten': 0.0,\n",
    "        'w_bitten': 0.0,\n",
    "        'dripped': 0.0\n",
    "    })\n",
    "\n",
    "# for i in range(genesis_cdp_count):\n",
    "#     cdp_list.append({\n",
    "#         'open': 1, # True/False == 1/0 for integer/float series\n",
    "#         'time': 0,\n",
    "#         'locked': historical_initial_state['v_1'],\n",
    "#         'drawn': historical_initial_state['u_1'],\n",
    "#         'wiped': historical_initial_state['u_2'],\n",
    "#         'freed': 0.0,\n",
    "#         'w_wiped': historical_initial_state['w_2'],\n",
    "#         'v_bitten': historical_initial_state['v_2 + v_3'],\n",
    "#         'u_bitten': historical_initial_state['u_3'],\n",
    "#         'w_bitten': historical_initial_state['w_3'],\n",
    "#         'dripped': 0.0\n",
    "#     })\n",
    "\n",
    "cdps = pd.DataFrame(cdp_list)\n",
    "cdps"
   ]
  },
  {
   "cell_type": "code",
   "execution_count": null,
   "metadata": {
    "lines_to_next_cell": 2
   },
   "outputs": [],
   "source": [
    "market_price = debt_market_df.loc[start_date]['p']\n",
    "market_price"
   ]
  },
  {
   "cell_type": "code",
   "execution_count": null,
   "metadata": {},
   "outputs": [],
   "source": [
    "initial_state = {\n",
    "    'events': [],\n",
    "    'cdps': cdps,\n",
    "    'cdp_metrics': {},\n",
    "    # Start time\n",
    "    'timestamp': dt.datetime.strptime(start_date, '%Y-%m-%d'), # datetime\n",
    "    # Loaded from exogenous parameter\n",
    "    'eth_price': eth_price_, # dollars\n",
    "    # v\n",
    "    'eth_collateral': eth_collateral, # Q\n",
    "    'eth_locked': eth_locked, # v1\n",
    "    'eth_freed': eth_freed, # v2\n",
    "    'eth_bitten': eth_bitten, # v3\n",
    "    'v_1': historical_initial_state['v_1'],\n",
    "    'v_2': historical_initial_state['v_2 + v_3'] / 2,\n",
    "    'v_3': historical_initial_state['v_2 + v_3'] / 2,\n",
    "    # u\n",
    "    'principal_debt': principal_debt, # D1\n",
    "    'rai_drawn': rai_drawn, # u1 \"minted\"\n",
    "    'rai_wiped': rai_wiped, # u2\n",
    "    'rai_bitten': rai_bitten, # u3\n",
    "    'u_1': historical_initial_state['u_1'],\n",
    "    'u_2': historical_initial_state['u_2'],\n",
    "    'u_3': historical_initial_state['u_3'],\n",
    "    # w\n",
    "    'w_1': historical_initial_state['w_1'],\n",
    "    'w_2': historical_initial_state['w_2'],\n",
    "    'w_3': historical_initial_state['w_3'],\n",
    "    'accrued_interest': historical_initial_state['D_2'],\n",
    "    'stability_fee': stability_fee,\n",
    "    'market_price': market_price,\n",
    "    'target_price': target_price, # dollars == redemption price\n",
    "    'target_rate': 0 / (30 * 24 * 3600), # per second interest rate (X% per month)\n",
    "    'p_expected': target_price,\n",
    "    'p_debt_expected': target_price,\n",
    "}\n",
    "\n",
    "# initial_state = {\n",
    "#     'events': [],\n",
    "#     'cdps': cdps,\n",
    "#     # Loaded from exogenous parameter\n",
    "#     'eth_price': eth_price.iloc[0], # dollars\n",
    "#     # v\n",
    "#     'eth_collateral': historical_initial_state['Q'] * genesis_cdp_count, # Q\n",
    "#     'eth_locked': historical_initial_state['v_1'] * genesis_cdp_count, # v1\n",
    "#     'eth_freed': 0.0 * genesis_cdp_count, # v2\n",
    "#     'eth_bitten': historical_initial_state['v_2 + v_3'] * genesis_cdp_count, # v3\n",
    "#     'v_1': historical_initial_state['v_1'],\n",
    "#     'v_2': 0.0,\n",
    "#     'v_3': historical_initial_state['v_2 + v_3'],\n",
    "#     # u\n",
    "#     'principal_debt': historical_initial_state['D_1'] * genesis_cdp_count, # D1\n",
    "#     'rai_drawn': historical_initial_state['u_1'] * genesis_cdp_count, # u1 \"minted\"\n",
    "#     'rai_wiped': historical_initial_state['u_2'] * genesis_cdp_count, # u2\n",
    "#     'rai_bitten': historical_initial_state['u_3'] * genesis_cdp_count, # u3\n",
    "#     'u_1': historical_initial_state['u_1'],\n",
    "#     'u_2': historical_initial_state['u_2'],\n",
    "#     'u_3': historical_initial_state['u_3'],\n",
    "#     # w\n",
    "#     'w_1': historical_initial_state['w_1'],\n",
    "#     'w_2': historical_initial_state['w_2'],\n",
    "#     'w_3': historical_initial_state['w_3'],\n",
    "#     'accrued_interest': historical_initial_state['D_2'] * genesis_cdp_count,\n",
    "#     'stability_fee': stability_fee,\n",
    "#     'market_price': debt_market_df.iloc[0]['p'],\n",
    "#     'target_price': target_price, # dollars == redemption price\n",
    "#     'target_rate': 0 / (30 * 24 * 3600), # per second interest rate (X% per month)\n",
    "#     'p_expected': target_price,\n",
    "#     'p_debt_expected': target_price,\n",
    "# }\n",
    "\n",
    "initial_state.update(historical_initial_state)\n",
    "\n",
    "# Set dataframe to start from start date\n",
    "debt_market_df = debt_market_df.loc[start_date:]\n",
    "\n",
    "parameters = {\n",
    "    'debug': [True], # Print debug messages (see APT model)\n",
    "    'raise_on_assert': [False], # See assert_log() in utils.py\n",
    "    'test': [\n",
    "        {\n",
    "            'enable': False\n",
    "        },\n",
    "        # {\n",
    "        #     'enable': False,\n",
    "        #     'params': {\n",
    "        #         'optimal_values': {\n",
    "        #             'v_1': lambda timestep=0, df=simulation_results_df: \\\n",
    "        #                 simulation_results_df.iloc[timestep]['optimal_values'].get('v_1', historical_initial_state['v_1']),\n",
    "        #             'v_2 + v_3': lambda timestep=0, df=simulation_results_df: \\\n",
    "        #                 simulation_results_df.iloc[timestep]['optimal_values'].get('v_2 + v_3', historical_initial_state['v_2 + v_3']),\n",
    "        #             'u_1': lambda timestep=0, df=simulation_results_df: \\\n",
    "        #                 simulation_results_df.iloc[timestep]['optimal_values'].get('u_1', historical_initial_state['u_1']),\n",
    "        #             'u_2': lambda timestep=0, df=simulation_results_df: \\\n",
    "        #                 simulation_results_df.iloc[timestep]['optimal_values'].get('u_2', historical_initial_state['u_2'])\n",
    "        #         }\n",
    "        #     }\n",
    "        # },\n",
    "        # {\n",
    "        #     'enable': False,\n",
    "        #     'params': {\n",
    "        #         'optimal_values': {\n",
    "        #             'v_1': lambda timestep=0: historical_initial_state['v_1'],\n",
    "        #             'v_2 + v_3': lambda timestep=0: historical_initial_state['v_2 + v_3'],\n",
    "        #             'u_1': lambda timestep=0: historical_initial_state['u_1'],\n",
    "        #             'u_2': lambda timestep=0: historical_initial_state['u_2']\n",
    "        #         }\n",
    "        #     }\n",
    "        # },\n",
    "        # {\n",
    "        #     'enable': True,\n",
    "        #     'params': {\n",
    "        #         'optimal_values': {\n",
    "        #             'v_1': lambda timestep=0: 1000,\n",
    "        #             'v_2 + v_3': lambda timestep=0: 500,\n",
    "        #             'u_1': lambda timestep=0: 100,\n",
    "        #             'u_2': lambda timestep=0: 50\n",
    "        #         }\n",
    "        #     }\n",
    "        # },\n",
    "        # {\n",
    "        #     'enable': True,\n",
    "        #     'params': {\n",
    "        #         'optimal_values': {\n",
    "        #             'v_1': lambda timestep=0: 500,\n",
    "        #             'v_2 + v_3': lambda timestep=0: 1000,\n",
    "        #             'u_1': lambda timestep=0: 50,\n",
    "        #             'u_2': lambda timestep=0: 100\n",
    "        #         }\n",
    "        #     }\n",
    "        # }\n",
    "    ],\n",
    "    'free_memory_states': [['cdps', 'events']], #'cdps',\n",
    "    #'eth_market_std': [1],\n",
    "    #'random_state': [np.random.RandomState(seed=0)],\n",
    "    'new_cdp_proportion': [0.5],\n",
    "    'new_cdp_collateral': [median_cdp_collateral],\n",
    "    'liquidation_ratio': [liquidation_ratio], # %\n",
    "    'liquidation_buffer': [liquidation_buffer], # multiplier applied to CDP collateral by users\n",
    "    'stability_fee': [lambda timestep, df=debt_market_df: stability_fee], # df.iloc[timestep].beta / (365 * 24 * 3600), # per second interest rate (1.5% per month)\n",
    "    'liquidation_penalty': [0], # 0.13 == 13%\n",
    "    'cdp_top_up_buffer': [2],\n",
    "    # Average CDP duration == 3 months: https://www.placeholder.vc/blog/2019/3/1/maker-network-report\n",
    "    # The tuning of this parameter is probably off the average, because we don't have the CDP size distribution matched yet,\n",
    "    # so although the individual CDPs could have an average debt age of 3 months, the larger CDPs likely had a longer debt age.\n",
    "    'average_debt_age': [3 * (30 * 24 * 3600)], # delta t (seconds)\n",
    "    'eth_price': [lambda timestep, df=debt_market_df: df.iloc[timestep].rho_star],\n",
    "    #'v_1': [lambda state, _state_history, df=debt_market_df: df.iloc[state['timestep']].v_1], # Driven by historical data\n",
    "    #'u_1': [lambda timestep, df=debt_market_df: df.iloc[timestep].u_1], # Driven by historical data\n",
    "    'seconds_passed': [lambda timestep, df=debt_market_df: df.iloc[timestep].seconds_passed],\n",
    "    # 'market_price': [lambda timestep, df=debt_market_df: target_price],\n",
    "    # APT model\n",
    "    # **{\n",
    "    #     'use_APT_ML_model': [False],\n",
    "    #     'root_function': [G_OLS], # glf, G, G_OLS\n",
    "    #     'features': [features], # features_ml, features\n",
    "    # },\n",
    "    **{\n",
    "        'use_APT_ML_model': [True],\n",
    "        'root_function': [glf], # glf, G, G_OLS\n",
    "        'callback': [glf_continue_callback], # glf callback\n",
    "        'model': [model],\n",
    "        'features': [features_ml], # features_ml, features\n",
    "    },\n",
    "    'freeze_feature_vector': [False], # Use the same initial state as the feature vector for each timestep\n",
    "    'optvars': [optvars],\n",
    "    'bounds': [[(xmin,debt_market_df[optvars].max()[i]) \n",
    "        for i,xmin in enumerate(debt_market_df[optvars].min())\n",
    "    ]],\n",
    "    'interest_rate': [1.0],\n",
    "    'eth_p_mean': [eth_p_mean],\n",
    "    'eth_returns_mean': [eth_returns_mean],\n",
    "    'mar_p_mean': [mar_p_mean],\n",
    "    # APT OLS model\n",
    "    'alpha_0': [0],\n",
    "    'alpha_1': [1],\n",
    "    'beta_0': [1.0003953223600617],\n",
    "    'beta_1': [0.6756295152422528],\n",
    "    'beta_2': [3.86810578185312e-06],    \n",
    "    # Controller\n",
    "    'controller_enabled': [True],\n",
    "    'kp': [-1.5e-6], #5e-7 #proportional term for the stability controller: units 1/USD\n",
    "    'ki': [lambda control_period=3600: parameter_ki / control_period], #-1e-7 #integral term for the stability controller: units 1/(USD*seconds)\n",
    "    'partial_results': [partial_results_file],\n",
    "}\n",
    "\n",
    "# Override system parameters with `execute.py` execution parameters\n",
    "parameters.update(execution_parameters)\n",
    "\n",
    "# parameters = parameters.update({\n",
    "#     'delta_v1': [lambda state, state_history: delta_v1(state, state_history)],\n",
    "#     'market_price': [lambda timestep, df=debt_market_df: df.iloc[timestep].p]\n",
    "# })"
   ]
  },
  {
   "cell_type": "markdown",
   "metadata": {},
   "source": [
    "# Simulation Execution"
   ]
  },
  {
   "cell_type": "code",
   "execution_count": null,
   "metadata": {},
   "outputs": [],
   "source": [
    "# Load from execution parameter\n",
    "SIMULATION_TIMESTEPS = len(debt_market_df) - 1 # approx. 600\n",
    "MONTE_CARLO_RUNS = 1"
   ]
  },
  {
   "cell_type": "code",
   "execution_count": null,
   "metadata": {
    "lines_to_next_cell": 2
   },
   "outputs": [],
   "source": [
    "from models.config_wrapper import ConfigWrapper\n",
    "import models.system_model_v2 as system_model_v2\n",
    "\n",
    "system_simulation = ConfigWrapper(system_model_v2, T=range(SIMULATION_TIMESTEPS), M=parameters, initial_state=initial_state)"
   ]
  },
  {
   "cell_type": "code",
   "execution_count": null,
   "metadata": {},
   "outputs": [],
   "source": [
    "from cadCAD import configs\n",
    "del configs[:]\n",
    "\n",
    "system_simulation.append()\n",
    "\n",
    "(simulation_result, tensor_field, sessions) = run(drop_midsteps=False)"
   ]
  },
  {
   "cell_type": "code",
   "execution_count": null,
   "metadata": {},
   "outputs": [],
   "source": [
    "partial_results: pd.DataFrame = pd.read_pickle(partial_results_file)\n",
    "partial_results"
   ]
  },
  {
   "cell_type": "code",
   "execution_count": null,
   "metadata": {
    "lines_to_next_cell": 2
   },
   "outputs": [],
   "source": [
    "# ml_data: pd.DataFrame = pd.read_pickle(ml_data_file)\n",
    "# ml_data"
   ]
  },
  {
   "cell_type": "code",
   "execution_count": null,
   "metadata": {
    "lines_to_next_cell": 2
   },
   "outputs": [],
   "source": [
    "\n",
    "# # ml_data.query('timestep == 1').plot(x='iteration', y='err_abs')\n",
    "\n",
    "# import plotly.express as px\n",
    "# ml_data: pd.DataFrame = pd.read_pickle(ml_data_file)\n",
    "# ml_data['err_abs'] = ml_data.err.abs()\n",
    "# ml_data = ml_data.query('timestep == 1')\n",
    "# fig = px.line(ml_data, x=\"iteration\", y=\"err_abs\", facet_col=\"timestep\", facet_col_wrap=2, log_y=True)\n",
    "# fig.update_yaxes(matches=None)\n",
    "# fig.update_xaxes(matches=None)\n",
    "# fig.show()"
   ]
  },
  {
   "cell_type": "code",
   "execution_count": null,
   "metadata": {},
   "outputs": [],
   "source": [
    "# Print system events e.g. liquidation assertion errors\n",
    "simulation_result[simulation_result.events.astype(bool)].events.apply(lambda x: x[0])"
   ]
  },
  {
   "cell_type": "markdown",
   "metadata": {},
   "source": [
    "# Simulation Analysis"
   ]
  },
  {
   "cell_type": "code",
   "execution_count": null,
   "metadata": {},
   "outputs": [],
   "source": [
    "#simulation_result = pd.concat([simulation_result, debt_market_df.reset_index()], axis=1)\n",
    "\n",
    "simulation_result = simulation_result.assign(eth_collateral_value = simulation_result.eth_collateral * simulation_result.eth_price)\n",
    "\n",
    "simulation_result['collateralization_ratio'] = (simulation_result.eth_collateral * simulation_result.eth_price) / (simulation_result.principal_debt * simulation_result.target_price)\n",
    "#simulation_result['historical_collateralization_ratio'] = (simulation_result.Q * simulation_result.rho_star) / (simulation_result.D_1 * simulation_result.p)\n",
    "\n",
    "pd.set_option('display.max_columns', 100)\n",
    "pd.set_option('display.max_rows', 50)\n",
    "\n",
    "simulation_result"
   ]
  },
  {
   "cell_type": "markdown",
   "metadata": {},
   "source": [
    "## Save simulation"
   ]
  },
  {
   "cell_type": "code",
   "execution_count": null,
   "metadata": {},
   "outputs": [],
   "source": [
    "# save_simulation(simulation_directory, simulation_id, initial_state, parameters, simulation_result)\n",
    "simulation_result.to_pickle(f'{simulation_directory}/results/{simulation_id}/results.pickle')"
   ]
  }
 ],
 "metadata": {
  "jupytext": {
   "cell_metadata_filter": "tags,-all"
  },
  "kernelspec": {
   "display_name": "Python (Reflexer)",
   "language": "python",
   "name": "python-reflexer"
  }
 },
 "nbformat": 4,
 "nbformat_minor": 4
}