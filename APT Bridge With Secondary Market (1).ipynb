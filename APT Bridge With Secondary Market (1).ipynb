{
 "cells": [
  {
   "cell_type": "markdown",
   "metadata": {},
   "source": [
    "# APT Bridge (CDP <-> APT Bridge <-> Secondary Market)\n",
    "\n",
    "RAI Project\n",
    "\n",
    "BlockScience\n",
    "\n",
    "November 18 2020\n",
    "\n"
   ]
  },
  {
   "cell_type": "code",
   "execution_count": 1,
   "metadata": {},
   "outputs": [
    {
     "name": "stderr",
     "output_type": "stream",
     "text": [
      "/Users/bscholtz/workspace/reflexer/venv/lib/python3.8/site-packages/pyparsing.py:3190: FutureWarning: Possible set intersection at position 3\n",
      "  self.re = re.compile(self.reString)\n"
     ]
    }
   ],
   "source": [
    "import pandas as pd\n",
    "from sklearn.model_selection import train_test_split\n",
    "from sklearn.metrics import mean_squared_error, r2_score\n",
    "from autosklearn.regression import AutoSklearnRegressor\n",
    "from autosklearn.metrics import mean_squared_error as auto_mean_squared_error\n",
    "from pprint import pprint\n",
    "import matplotlib.pyplot as plt\n",
    "import math, statistics\n",
    "from functools import partial\n",
    "import statsmodels.api as sm\n",
    "from statsmodels.regression.linear_model import OLSResults\n",
    "from statsmodels.tsa.ar_model import AutoReg\n",
    "from scipy.optimize import root, show_options, newton\n",
    "import numpy as np\n",
    "import seaborn as sns\n",
    "import pickle\n",
    "\n",
    "plt.rcParams['figure.figsize'] = [10, 5]"
   ]
  },
  {
   "cell_type": "code",
   "execution_count": 2,
   "metadata": {},
   "outputs": [],
   "source": [
    "debt_market_df = pd.read_csv('market_model/data/debt_market_df.csv', index_col='date', parse_dates=True)\n",
    "market_price = pd.DataFrame(debt_market_df['p'])\n",
    "eth_price = pd.DataFrame(debt_market_df['rho_star'])\n",
    "    \n",
    "market_returns = ((market_price - market_price.shift(1))/market_price.shift(1)).to_numpy().flatten()\n",
    "market_gross_returns = (market_price / market_price.shift(1)).to_numpy().flatten()\n",
    "\n",
    "eth_returns = ((eth_price - eth_price.shift(1))/eth_price.shift(1)).to_numpy().flatten()\n",
    "eth_gross_returns = (eth_price / eth_price.shift(1)).to_numpy().flatten()\n",
    "\n",
    "debt_market_df['market_returns'] = market_returns\n",
    "    \n",
    "# features = ['beta', 'Q', 'v_1', 'v_2 + v_3', \n",
    "#                     'D_1', 'u_1', 'u_2', 'u_3', 'u_2 + u_3', \n",
    "#                     'D_2', 'w_1', 'w_2', 'w_3', 'w_2 + w_3',\n",
    "#                     'D']\n",
    "features = ['beta', 'Q', 'v_1', 'v_2 + v_3', 'u_1', 'u_2', 'u_3', 'w_1', 'w_2', 'w_3','D']\n",
    "\n",
    "indep_vars = debt_market_df[features]"
   ]
  },
  {
   "cell_type": "code",
   "execution_count": 3,
   "metadata": {},
   "outputs": [],
   "source": [
    "model = pickle.load(open('models/pickles/apt_debt_model_2020-11-28.pickle', 'rb'))\n",
    "independent_vars = debt_market_df[features].to_numpy()\n",
    "full_prediction = model.predict(independent_vars)"
   ]
  },
  {
   "cell_type": "code",
   "execution_count": 4,
   "metadata": {},
   "outputs": [
    {
     "name": "stdout",
     "output_type": "stream",
     "text": [
      "                            OLS Regression Results                            \n",
      "==============================================================================\n",
      "Dep. Variable:                      p   R-squared:                       0.785\n",
      "Model:                            OLS   Adj. R-squared:                  0.784\n",
      "Method:                 Least Squares   F-statistic:                     2367.\n",
      "Date:                Sun, 29 Nov 2020   Prob (F-statistic):          7.24e-219\n",
      "Time:                        17:19:29   Log-Likelihood:                 2381.7\n",
      "No. Observations:                 652   AIC:                            -4759.\n",
      "Df Residuals:                     650   BIC:                            -4750.\n",
      "Df Model:                           1                                         \n",
      "Covariance Type:            nonrobust                                         \n",
      "==============================================================================\n",
      "                 coef    std err          t      P>|t|      [0.025      0.975]\n",
      "------------------------------------------------------------------------------\n",
      "const         -0.1948      0.025     -7.931      0.000      -0.243      -0.147\n",
      "x1             1.1949      0.025     48.657      0.000       1.147       1.243\n",
      "==============================================================================\n",
      "Omnibus:                      210.473   Durbin-Watson:                   1.565\n",
      "Prob(Omnibus):                  0.000   Jarque-Bera (JB):             4346.799\n",
      "Skew:                          -0.906   Prob(JB):                         0.00\n",
      "Kurtosis:                      15.519   Cond. No.                         200.\n",
      "==============================================================================\n",
      "\n",
      "Notes:\n",
      "[1] Standard Errors assume that the covariance matrix of the errors is correctly specified.\n"
     ]
    }
   ],
   "source": [
    "X_f = sm.add_constant(full_prediction)\n",
    "debOLS = sm.OLS(market_price, X_f)\n",
    "debres = debOLS.fit()\n",
    "print(debres.summary())\n",
    "#debres.save('apt_debt_market.pickle')"
   ]
  },
  {
   "cell_type": "markdown",
   "metadata": {},
   "source": [
    "#### Here we select between different debt market expected value functional forms"
   ]
  },
  {
   "cell_type": "code",
   "execution_count": 5,
   "metadata": {},
   "outputs": [
    {
     "name": "stdout",
     "output_type": "stream",
     "text": [
      "alpha_0: 0, alpha_1: 1\n"
     ]
    }
   ],
   "source": [
    "#alpha_0 = debres.params[0]; alpha_1 = debres.params[1]\n",
    "alpha_0 = 0; alpha_1 = 1\n",
    "print('alpha_0: {}, alpha_1: {}'.format(alpha_0, alpha_1))"
   ]
  },
  {
   "cell_type": "code",
   "execution_count": 6,
   "metadata": {},
   "outputs": [
    {
     "name": "stdout",
     "output_type": "stream",
     "text": [
      "                            OLS Regression Results                            \n",
      "==============================================================================\n",
      "Dep. Variable:                      y   R-squared:                       0.490\n",
      "Model:                            OLS   Adj. R-squared:                  0.488\n",
      "Method:                 Least Squares   F-statistic:                     311.3\n",
      "Date:                Sun, 29 Nov 2020   Prob (F-statistic):           1.78e-95\n",
      "Time:                        17:19:29   Log-Likelihood:                 2097.8\n",
      "No. Observations:                 651   AIC:                            -4190.\n",
      "Df Residuals:                     648   BIC:                            -4176.\n",
      "Df Model:                           2                                         \n",
      "Covariance Type:            nonrobust                                         \n",
      "==============================================================================\n",
      "                 coef    std err          t      P>|t|      [0.025      0.975]\n",
      "------------------------------------------------------------------------------\n",
      "const          1.0004      0.000   2640.351      0.000       1.000       1.001\n",
      "x1             0.6756      0.029     23.361      0.000       0.619       0.732\n",
      "x2          3.868e-06   1.42e-06      2.723      0.007    1.08e-06    6.66e-06\n",
      "==============================================================================\n",
      "Omnibus:                       73.830   Durbin-Watson:                   2.268\n",
      "Prob(Omnibus):                  0.000   Jarque-Bera (JB):              351.232\n",
      "Skew:                          -0.376   Prob(JB):                     5.38e-77\n",
      "Kurtosis:                       6.519   Cond. No.                     2.10e+04\n",
      "==============================================================================\n",
      "\n",
      "Notes:\n",
      "[1] Standard Errors assume that the covariance matrix of the errors is correctly specified.\n",
      "[2] The condition number is large, 2.1e+04. This might indicate that there are\n",
      "strong multicollinearity or other numerical problems.\n"
     ]
    }
   ],
   "source": [
    "# OLS Estimate of AR(1) + ETH Regression -- consistent but biased\n",
    "eth_p = eth_price.to_numpy().flatten()\n",
    "eth_p_mean = np.mean(eth_p)\n",
    "mar_p = market_price.to_numpy().flatten()\n",
    "mar_p_mean = np.mean(mar_p)\n",
    "X_p = np.stack((np.roll(mar_p,1)[1:] - mar_p_mean,eth_p[1:] - eth_p_mean))\n",
    "X_p = sm.add_constant(X_p.T)\n",
    "pOLS = sm.OLS(mar_p[1:], X_p, missing='drop')\n",
    "pres = pOLS.fit()\n",
    "print(pres.summary())\n",
    "# pres.save('apt_price_generation.pickle')"
   ]
  },
  {
   "cell_type": "code",
   "execution_count": 7,
   "metadata": {},
   "outputs": [
    {
     "name": "stdout",
     "output_type": "stream",
     "text": [
      "                            AutoReg Model Results                             \n",
      "==============================================================================\n",
      "Dep. Variable:                      y   No. Observations:                  652\n",
      "Model:                   AutoReg-X(1)   Log Likelihood                2097.776\n",
      "Method:               Conditional MLE   S.D. of innovations              0.010\n",
      "Date:                Sun, 29 Nov 2020   AIC                             -9.270\n",
      "Time:                        17:19:29   BIC                             -9.243\n",
      "Sample:                             1   HQIC                            -9.260\n",
      "                                  652                                         \n",
      "==============================================================================\n",
      "                 coef    std err          z      P>|z|      [0.025      0.975]\n",
      "------------------------------------------------------------------------------\n",
      "intercept  -1.724e-05      0.000     -0.046      0.964      -0.001       0.001\n",
      "y.L1           0.6756      0.029     23.415      0.000       0.619       0.732\n",
      "x1          3.868e-06   1.42e-06      2.729      0.006    1.09e-06    6.65e-06\n",
      "                                    Roots                                    \n",
      "=============================================================================\n",
      "                  Real          Imaginary           Modulus         Frequency\n",
      "-----------------------------------------------------------------------------\n",
      "AR.1            1.4801           +0.0000j            1.4801            0.0000\n",
      "-----------------------------------------------------------------------------\n"
     ]
    },
    {
     "name": "stderr",
     "output_type": "stream",
     "text": [
      "/Users/bscholtz/workspace/reflexer/venv/lib/python3.8/site-packages/statsmodels/tsa/ar_model.py:248: FutureWarning: The parameter names will change after 0.12 is released. Set old_names to False to use the new names now. Set old_names to True to use the old names. \n",
      "  warnings.warn(\n"
     ]
    }
   ],
   "source": [
    "# Maximum Likelihood Estimate of AR(1) + ETH Regression -- unbiased, poss. less efficient\n",
    "mar_p_zeroed = mar_p - mar_p_mean\n",
    "eth_p_zeroed = eth_p - eth_p_mean\n",
    "autoMod = AutoReg(mar_p_zeroed, 1, exog = eth_p_zeroed)\n",
    "autores = autoMod.fit()\n",
    "print(autores.summary())"
   ]
  },
  {
   "cell_type": "code",
   "execution_count": 8,
   "metadata": {},
   "outputs": [
    {
     "name": "stdout",
     "output_type": "stream",
     "text": [
      "beta_0: 1.0003953223600617, beta_1: 0.6756295152422528, beta_2: 3.86810578185312e-06\n"
     ]
    }
   ],
   "source": [
    "beta_0 = pres.params[0]; beta_1 = pres.params[1]; beta_2 = pres.params[2]\n",
    "print('beta_0: {}, beta_1: {}, beta_2: {}'.format(beta_0, beta_1, beta_2))"
   ]
  },
  {
   "cell_type": "code",
   "execution_count": 9,
   "metadata": {},
   "outputs": [
    {
     "name": "stdout",
     "output_type": "stream",
     "text": [
      "                            OLS Regression Results                            \n",
      "==============================================================================\n",
      "Dep. Variable:                      p   R-squared:                       0.328\n",
      "Model:                            OLS   Adj. R-squared:                  0.317\n",
      "Method:                 Least Squares   F-statistic:                     28.42\n",
      "Date:                Sun, 29 Nov 2020   Prob (F-statistic):           1.37e-48\n",
      "Time:                        17:19:29   Log-Likelihood:                 2010.8\n",
      "No. Observations:                 652   AIC:                            -3998.\n",
      "Df Residuals:                     640   BIC:                            -3944.\n",
      "Df Model:                          11                                         \n",
      "Covariance Type:            nonrobust                                         \n",
      "==============================================================================\n",
      "                 coef    std err          t      P>|t|      [0.025      0.975]\n",
      "------------------------------------------------------------------------------\n",
      "const          1.0083      0.002    652.412      0.000       1.005       1.011\n",
      "beta           0.8116      0.088      9.248      0.000       0.639       0.984\n",
      "Q           2.152e-09   1.39e-09      1.553      0.121   -5.68e-10    4.87e-09\n",
      "v_1         1.173e-07   4.51e-08      2.604      0.009    2.88e-08    2.06e-07\n",
      "v_2 + v_3   2.559e-08   6.08e-08      0.421      0.674   -9.37e-08    1.45e-07\n",
      "u_1        -1.961e-09   7.85e-10     -2.497      0.013    -3.5e-09   -4.19e-10\n",
      "u_2         7.174e-10   1.36e-09      0.529      0.597   -1.94e-09    3.38e-09\n",
      "u_3           2.9e-09   1.15e-09      2.511      0.012    6.32e-10    5.17e-09\n",
      "w_1        -3.556e-06   4.15e-07     -8.561      0.000   -4.37e-06   -2.74e-06\n",
      "w_2        -4.194e-08   5.65e-08     -0.743      0.458   -1.53e-07    6.89e-08\n",
      "w_3         9.066e-08   1.95e-07      0.466      0.641   -2.91e-07    4.73e-07\n",
      "D          -2.476e-10   4.41e-11     -5.610      0.000   -3.34e-10   -1.61e-10\n",
      "==============================================================================\n",
      "Omnibus:                       27.175   Durbin-Watson:                   0.815\n",
      "Prob(Omnibus):                  0.000   Jarque-Bera (JB):               74.123\n",
      "Skew:                          -0.040   Prob(JB):                     8.02e-17\n",
      "Kurtosis:                       4.650   Cond. No.                     1.29e+10\n",
      "==============================================================================\n",
      "\n",
      "Notes:\n",
      "[1] Standard Errors assume that the covariance matrix of the errors is correctly specified.\n",
      "[2] The condition number is large, 1.29e+10. This might indicate that there are\n",
      "strong multicollinearity or other numerical problems.\n"
     ]
    }
   ],
   "source": [
    "# Prediction of market price from CDP factors as an OLS regression\n",
    "X_d = sm.add_constant(indep_vars)\n",
    "dpOLS = sm.OLS(market_price, X_d)\n",
    "dpres = dpOLS.fit()\n",
    "print(dpres.summary())\n",
    "#dpres.save('debt_market_OLS_model.pickle')"
   ]
  },
  {
   "cell_type": "markdown",
   "metadata": {},
   "source": [
    "23.11: Added secondary market function internally rather than external call"
   ]
  },
  {
   "cell_type": "code",
   "execution_count": 10,
   "metadata": {},
   "outputs": [],
   "source": [
    "# Secondary market function\n",
    "# Zero-intelligence market-clearing price: \n",
    "# cf. Gode & Sunder (JPE v 101 n 1, 1993)\n",
    "order_book = np.array([0,0])\n",
    "bidvars = ['u_2']\n",
    "askvars = ['u_1']\n",
    "bidindex = [features.index(i) for i in bidvars]\n",
    "askindex = [features.index(i) for i in askvars]\n",
    "def get_market_price(expected_price, previous_price, feature):\n",
    "    global order_book\n",
    "    order_book = order_book + np.array([np.sum(feature[:,bidindex][0]), \n",
    "                    np.sum(feature[:,askindex][0])]\n",
    "    )\n",
    "    clearing_price = np.random.uniform(\n",
    "                    min(previous_price, expected_price), \n",
    "                    max(previous_price, expected_price)\n",
    "    )\n",
    "    book_end = order_book[0] - order_book[1]\n",
    "    \n",
    "    if book_end < 0: # excess supply\n",
    "        order_book = np.array([0, book_end])\n",
    "    else: # excess demand\n",
    "        order_book = np.array([book_end, 0])\n",
    "    \n",
    "    return clearing_price"
   ]
  },
  {
   "cell_type": "code",
   "execution_count": 11,
   "metadata": {},
   "outputs": [],
   "source": [
    "# ML debt model root function\n",
    "def G(x, to_opt, data, constant):\n",
    "    for i,y in enumerate(x):\n",
    "        data[:,to_opt[i]] = y\n",
    "    err = model.predict(data)[0] - constant\n",
    "    return err"
   ]
  },
  {
   "cell_type": "code",
   "execution_count": 12,
   "metadata": {},
   "outputs": [],
   "source": [
    "# OLS debt model root function\n",
    "def G_OLS(x, to_opt, data, constant):\n",
    "    for i,y in enumerate(x):\n",
    "        #print(x)\n",
    "        data[:,to_opt[i]] = y\n",
    "    err = dpres.predict(data)[0] - constant\n",
    "    print(err)\n",
    "    return err"
   ]
  },
  {
   "cell_type": "code",
   "execution_count": 13,
   "metadata": {},
   "outputs": [],
   "source": [
    "# Decide whether to use 1) the ML root function or the OLS function, and\n",
    "# 2) historical market price data or endogenous data\n",
    "use_ML_model = True\n",
    "use_historical_price = False"
   ]
  },
  {
   "cell_type": "code",
   "execution_count": 14,
   "metadata": {},
   "outputs": [],
   "source": [
    "# Decide upon external handler for passing/receiving values to/from CDP\n",
    "handle_external_feature = False\n",
    "handle_external_price = False"
   ]
  },
  {
   "cell_type": "code",
   "execution_count": 15,
   "metadata": {},
   "outputs": [],
   "source": [
    "# Select ML or OLS root function\n",
    "if use_ML_model:\n",
    "        func = G\n",
    "else:\n",
    "        func = G_OLS"
   ]
  },
  {
   "cell_type": "markdown",
   "metadata": {},
   "source": [
    "If ETH price falls, then (u_2, v_1) = (wipe, lock). Start with wipes, rebalance by paying off those obligations that are below liquidation ratio. Position order is always youngest to oldest.\n",
    "1. If run out of positions, then excess wipe? Excess RAI left over => buffer up different positions until wipe runs out, up to data-derived buffer above liquidation ratio (from data, 3x vs. 1.5 min). \n",
    "2. If run out of wipe, then go to locks: rebalance by adding collateral\n",
    "3. If run out of positions, then open new positions with excess lock\n",
    "\n",
    "If ETH price rises, then (u_1, v_2+v_3) = (draw, free). Start with frees, rebalance by taking out excess collateral until back to liquidation ratio + buffer. (No liquidation, no 'bites')\n",
    "1. If run out of positions, then excess free. Distribute over all CDPs?\n",
    "2. If run out of frees, then go to draws. Rebalance by minting new RAI and reducing to liquidation ratio + buffer\n",
    "3. If run out of positions, then excess draws _could_ be applied to new positions opened with locks\n",
    "\n",
    "Unified approach: always calculate (u_1, u_2, v_1, v_2+v_3) regardless of ETH price"
   ]
  },
  {
   "cell_type": "code",
   "execution_count": 17,
   "metadata": {},
   "outputs": [
    {
     "name": "stdout",
     "output_type": "stream",
     "text": [
      "iteration:  1\n",
      "x0:  [  10.    2526.662]\n",
      "optvars: ['u_2', 'v_1']\n",
      "expected price:  1.0043275924442232\n",
      "optindex:  [5, 2]\n",
      "feature [[  10.    2526.662]]\n"
     ]
    },
    {
     "name": "stderr",
     "output_type": "stream",
     "text": [
      "/Users/bscholtz/workspace/reflexer/venv/lib/python3.8/site-packages/scipy/optimize/zeros.py:445: RuntimeWarning: RMS of 0.00863015 reached\n",
      "  warnings.warn(\n"
     ]
    },
    {
     "name": "stdout",
     "output_type": "stream",
     "text": [
      "xstar:  [  10.00003756 2526.67063007]\n",
      "iteration:  2\n",
      "x0:  [5.95342027e+05 1.01000000e+02]\n",
      "optvars: ['u_1', 'v_2 + v_3']\n",
      "expected price:  0.9998590510655921\n",
      "optindex:  [4, 3]\n",
      "feature [[5.95342027e+05 1.01000000e+02]]\n"
     ]
    },
    {
     "name": "stderr",
     "output_type": "stream",
     "text": [
      "/Users/bscholtz/workspace/reflexer/venv/lib/python3.8/site-packages/scipy/optimize/zeros.py:445: RuntimeWarning: RMS of 2.03265 reached\n",
      "  warnings.warn(\n"
     ]
    },
    {
     "name": "stdout",
     "output_type": "stream",
     "text": [
      "xstar:  [5.95344060e+05 1.01000348e+02]\n",
      "iteration:  3\n",
      "x0:  [  10.    2526.662]\n",
      "optvars: ['u_2', 'v_1']\n",
      "expected price:  0.9985139353047701\n",
      "optindex:  [5, 2]\n",
      "feature [[  10.    2526.662]]\n"
     ]
    },
    {
     "name": "stderr",
     "output_type": "stream",
     "text": [
      "/Users/bscholtz/workspace/reflexer/venv/lib/python3.8/site-packages/scipy/optimize/zeros.py:445: RuntimeWarning: RMS of 0.00863015 reached\n",
      "  warnings.warn(\n"
     ]
    },
    {
     "name": "stdout",
     "output_type": "stream",
     "text": [
      "xstar:  [  10.00003756 2526.67063007]\n",
      "iteration:  4\n",
      "x0:  [5.95342027e+05 1.01000000e+02]\n",
      "optvars: ['u_1', 'v_2 + v_3']\n",
      "expected price:  0.9979740127977434\n",
      "optindex:  [4, 3]\n",
      "feature [[5.95342027e+05 1.01000000e+02]]\n"
     ]
    },
    {
     "name": "stderr",
     "output_type": "stream",
     "text": [
      "/Users/bscholtz/workspace/reflexer/venv/lib/python3.8/site-packages/scipy/optimize/zeros.py:445: RuntimeWarning: RMS of 2.03265 reached\n",
      "  warnings.warn(\n"
     ]
    },
    {
     "name": "stdout",
     "output_type": "stream",
     "text": [
      "xstar:  [5.95344060e+05 1.01000348e+02]\n",
      "iteration:  5\n",
      "x0:  [  10.    2526.662]\n",
      "optvars: ['u_2', 'v_1']\n",
      "expected price:  0.9983705847534752\n",
      "optindex:  [5, 2]\n",
      "feature [[  10.    2526.662]]\n"
     ]
    },
    {
     "name": "stderr",
     "output_type": "stream",
     "text": [
      "/Users/bscholtz/workspace/reflexer/venv/lib/python3.8/site-packages/scipy/optimize/zeros.py:445: RuntimeWarning: RMS of 0.00863015 reached\n",
      "  warnings.warn(\n"
     ]
    },
    {
     "name": "stdout",
     "output_type": "stream",
     "text": [
      "xstar:  [  10.00003756 2526.67063007]\n",
      "iteration:  6\n",
      "x0:  [5.95342027e+05 1.01000000e+02]\n",
      "optvars: ['u_1', 'v_2 + v_3']\n",
      "expected price:  0.9983424851551349\n",
      "optindex:  [4, 3]\n",
      "feature [[5.95342027e+05 1.01000000e+02]]\n"
     ]
    },
    {
     "name": "stderr",
     "output_type": "stream",
     "text": [
      "/Users/bscholtz/workspace/reflexer/venv/lib/python3.8/site-packages/scipy/optimize/zeros.py:445: RuntimeWarning: RMS of 2.03265 reached\n",
      "  warnings.warn(\n"
     ]
    },
    {
     "name": "stdout",
     "output_type": "stream",
     "text": [
      "xstar:  [5.95344060e+05 1.01000348e+02]\n",
      "iteration:  7\n",
      "x0:  [  10.    2526.662]\n",
      "optvars: ['u_2', 'v_1']\n",
      "expected price:  0.9985493992898753\n",
      "optindex:  [5, 2]\n",
      "feature [[  10.    2526.662]]\n"
     ]
    },
    {
     "name": "stderr",
     "output_type": "stream",
     "text": [
      "/Users/bscholtz/workspace/reflexer/venv/lib/python3.8/site-packages/scipy/optimize/zeros.py:445: RuntimeWarning: RMS of 0.00863015 reached\n",
      "  warnings.warn(\n"
     ]
    },
    {
     "name": "stdout",
     "output_type": "stream",
     "text": [
      "xstar:  [  10.00003756 2526.67063007]\n",
      "iteration:  8\n",
      "x0:  [  10.    2526.662]\n",
      "optvars: ['u_2', 'v_1']\n",
      "expected price:  0.9983082123141986\n",
      "optindex:  [5, 2]\n",
      "feature [[  10.    2526.662]]\n"
     ]
    },
    {
     "name": "stderr",
     "output_type": "stream",
     "text": [
      "/Users/bscholtz/workspace/reflexer/venv/lib/python3.8/site-packages/scipy/optimize/zeros.py:445: RuntimeWarning: RMS of 0.00863015 reached\n",
      "  warnings.warn(\n"
     ]
    },
    {
     "name": "stdout",
     "output_type": "stream",
     "text": [
      "xstar:  [  10.00003756 2526.67063007]\n",
      "iteration:  9\n",
      "x0:  [5.95342027e+05 1.01000000e+02]\n",
      "optvars: ['u_1', 'v_2 + v_3']\n",
      "expected price:  0.9981612779102151\n",
      "optindex:  [4, 3]\n",
      "feature [[5.95342027e+05 1.01000000e+02]]\n"
     ]
    },
    {
     "name": "stderr",
     "output_type": "stream",
     "text": [
      "/Users/bscholtz/workspace/reflexer/venv/lib/python3.8/site-packages/scipy/optimize/zeros.py:445: RuntimeWarning: RMS of 2.03265 reached\n",
      "  warnings.warn(\n"
     ]
    },
    {
     "name": "stdout",
     "output_type": "stream",
     "text": [
      "xstar:  [5.95344060e+05 1.01000348e+02]\n",
      "iteration:  10\n",
      "x0:  [5.95342027e+05 1.01000000e+02]\n",
      "optvars: ['u_1', 'v_2 + v_3']\n",
      "expected price:  0.9981180058634828\n",
      "optindex:  [4, 3]\n",
      "feature [[5.95342027e+05 1.01000000e+02]]\n"
     ]
    },
    {
     "name": "stderr",
     "output_type": "stream",
     "text": [
      "/Users/bscholtz/workspace/reflexer/venv/lib/python3.8/site-packages/scipy/optimize/zeros.py:445: RuntimeWarning: RMS of 2.03265 reached\n",
      "  warnings.warn(\n"
     ]
    },
    {
     "name": "stdout",
     "output_type": "stream",
     "text": [
      "xstar:  [5.95344060e+05 1.01000348e+02]\n",
      "iteration:  11\n",
      "x0:  [  10.    2526.662]\n",
      "optvars: ['u_2', 'v_1']\n",
      "expected price:  0.9982663012367915\n",
      "optindex:  [5, 2]\n",
      "feature [[  10.    2526.662]]\n"
     ]
    },
    {
     "name": "stderr",
     "output_type": "stream",
     "text": [
      "/Users/bscholtz/workspace/reflexer/venv/lib/python3.8/site-packages/scipy/optimize/zeros.py:445: RuntimeWarning: RMS of 0.00863015 reached\n",
      "  warnings.warn(\n"
     ]
    },
    {
     "name": "stdout",
     "output_type": "stream",
     "text": [
      "xstar:  [  10.00003756 2526.67063007]\n",
      "iteration:  12\n",
      "x0:  [5.95342027e+05 1.01000000e+02]\n",
      "optvars: ['u_1', 'v_2 + v_3']\n",
      "expected price:  0.9982266507283117\n",
      "optindex:  [4, 3]\n",
      "feature [[5.95342027e+05 1.01000000e+02]]\n"
     ]
    },
    {
     "name": "stderr",
     "output_type": "stream",
     "text": [
      "/Users/bscholtz/workspace/reflexer/venv/lib/python3.8/site-packages/scipy/optimize/zeros.py:445: RuntimeWarning: RMS of 2.03265 reached\n",
      "  warnings.warn(\n"
     ]
    },
    {
     "name": "stdout",
     "output_type": "stream",
     "text": [
      "xstar:  [5.95344060e+05 1.01000348e+02]\n",
      "iteration:  13\n",
      "x0:  [  10.    2526.662]\n",
      "optvars: ['u_2', 'v_1']\n",
      "expected price:  0.9983497326955734\n",
      "optindex:  [5, 2]\n",
      "feature [[  10.    2526.662]]\n"
     ]
    },
    {
     "name": "stderr",
     "output_type": "stream",
     "text": [
      "/Users/bscholtz/workspace/reflexer/venv/lib/python3.8/site-packages/scipy/optimize/zeros.py:445: RuntimeWarning: RMS of 0.00863015 reached\n",
      "  warnings.warn(\n"
     ]
    },
    {
     "name": "stdout",
     "output_type": "stream",
     "text": [
      "xstar:  [  10.00003756 2526.67063007]\n",
      "iteration:  14\n",
      "x0:  [  10.    2526.662]\n",
      "optvars: ['u_2', 'v_1']\n",
      "expected price:  0.9983163259411253\n",
      "optindex:  [5, 2]\n",
      "feature [[  10.    2526.662]]\n"
     ]
    },
    {
     "name": "stderr",
     "output_type": "stream",
     "text": [
      "/Users/bscholtz/workspace/reflexer/venv/lib/python3.8/site-packages/scipy/optimize/zeros.py:445: RuntimeWarning: RMS of 0.00863015 reached\n",
      "  warnings.warn(\n"
     ]
    },
    {
     "name": "stdout",
     "output_type": "stream",
     "text": [
      "xstar:  [  10.00003756 2526.67063007]\n",
      "iteration:  15\n",
      "x0:  [  10.    2526.662]\n",
      "optvars: ['u_2', 'v_1']\n",
      "expected price:  0.9981925868912689\n",
      "optindex:  [5, 2]\n",
      "feature [[  10.    2526.662]]\n"
     ]
    },
    {
     "name": "stderr",
     "output_type": "stream",
     "text": [
      "/Users/bscholtz/workspace/reflexer/venv/lib/python3.8/site-packages/scipy/optimize/zeros.py:445: RuntimeWarning: RMS of 0.00863015 reached\n",
      "  warnings.warn(\n"
     ]
    },
    {
     "name": "stdout",
     "output_type": "stream",
     "text": [
      "xstar:  [  10.00003756 2526.67063007]\n",
      "iteration:  16\n",
      "x0:  [  10.    2526.662]\n",
      "optvars: ['u_2', 'v_1']\n",
      "expected price:  0.9977239512210248\n",
      "optindex:  [5, 2]\n",
      "feature [[  10.    2526.662]]\n"
     ]
    },
    {
     "name": "stderr",
     "output_type": "stream",
     "text": [
      "/Users/bscholtz/workspace/reflexer/venv/lib/python3.8/site-packages/scipy/optimize/zeros.py:445: RuntimeWarning: RMS of 0.00863015 reached\n",
      "  warnings.warn(\n"
     ]
    },
    {
     "name": "stdout",
     "output_type": "stream",
     "text": [
      "xstar:  [  10.00003756 2526.67063007]\n",
      "iteration:  17\n",
      "x0:  [  10.    2526.662]\n",
      "optvars: ['u_2', 'v_1']\n",
      "expected price:  0.9974656161477213\n",
      "optindex:  [5, 2]\n",
      "feature [[  10.    2526.662]]\n"
     ]
    },
    {
     "name": "stderr",
     "output_type": "stream",
     "text": [
      "/Users/bscholtz/workspace/reflexer/venv/lib/python3.8/site-packages/scipy/optimize/zeros.py:445: RuntimeWarning: RMS of 0.00863015 reached\n",
      "  warnings.warn(\n"
     ]
    },
    {
     "name": "stdout",
     "output_type": "stream",
     "text": [
      "xstar:  [  10.00003756 2526.67063007]\n",
      "iteration:  18\n",
      "x0:  [  10.    2526.662]\n",
      "optvars: ['u_2', 'v_1']\n",
      "expected price:  0.9970771099264004\n",
      "optindex:  [5, 2]\n",
      "feature [[  10.    2526.662]]\n"
     ]
    },
    {
     "name": "stderr",
     "output_type": "stream",
     "text": [
      "/Users/bscholtz/workspace/reflexer/venv/lib/python3.8/site-packages/scipy/optimize/zeros.py:445: RuntimeWarning: RMS of 0.00863015 reached\n",
      "  warnings.warn(\n"
     ]
    },
    {
     "name": "stdout",
     "output_type": "stream",
     "text": [
      "xstar:  [  10.00003756 2526.67063007]\n",
      "iteration:  19\n",
      "x0:  [  10.    2526.662]\n",
      "optvars: ['u_2', 'v_1']\n",
      "expected price:  0.9968091428293538\n",
      "optindex:  [5, 2]\n",
      "feature [[  10.    2526.662]]\n"
     ]
    },
    {
     "name": "stderr",
     "output_type": "stream",
     "text": [
      "/Users/bscholtz/workspace/reflexer/venv/lib/python3.8/site-packages/scipy/optimize/zeros.py:445: RuntimeWarning: RMS of 0.00863015 reached\n",
      "  warnings.warn(\n"
     ]
    },
    {
     "name": "stdout",
     "output_type": "stream",
     "text": [
      "xstar:  [  10.00003756 2526.67063007]\n",
      "iteration:  20\n",
      "x0:  [  10.    2526.662]\n",
      "optvars: ['u_2', 'v_1']\n",
      "expected price:  0.9966770299268963\n",
      "optindex:  [5, 2]\n",
      "feature [[  10.    2526.662]]\n"
     ]
    },
    {
     "name": "stderr",
     "output_type": "stream",
     "text": [
      "/Users/bscholtz/workspace/reflexer/venv/lib/python3.8/site-packages/scipy/optimize/zeros.py:445: RuntimeWarning: RMS of 0.00863015 reached\n",
      "  warnings.warn(\n"
     ]
    },
    {
     "name": "stdout",
     "output_type": "stream",
     "text": [
      "xstar:  [  10.00003756 2526.67063007]\n",
      "iteration:  21\n",
      "x0:  [  10.    2526.662]\n",
      "optvars: ['u_2', 'v_1']\n",
      "expected price:  0.9963188195106395\n",
      "optindex:  [5, 2]\n",
      "feature [[  10.    2526.662]]\n"
     ]
    },
    {
     "name": "stderr",
     "output_type": "stream",
     "text": [
      "/Users/bscholtz/workspace/reflexer/venv/lib/python3.8/site-packages/scipy/optimize/zeros.py:445: RuntimeWarning: RMS of 0.00863015 reached\n",
      "  warnings.warn(\n"
     ]
    },
    {
     "name": "stdout",
     "output_type": "stream",
     "text": [
      "xstar:  [  10.00003756 2526.67063007]\n",
      "iteration:  22\n",
      "x0:  [  10.    2526.662]\n",
      "optvars: ['u_2', 'v_1']\n",
      "expected price:  0.995991096626783\n",
      "optindex:  [5, 2]\n",
      "feature [[  10.    2526.662]]\n"
     ]
    },
    {
     "name": "stderr",
     "output_type": "stream",
     "text": [
      "/Users/bscholtz/workspace/reflexer/venv/lib/python3.8/site-packages/scipy/optimize/zeros.py:445: RuntimeWarning: RMS of 0.00863015 reached\n",
      "  warnings.warn(\n"
     ]
    },
    {
     "name": "stdout",
     "output_type": "stream",
     "text": [
      "xstar:  [  10.00003756 2526.67063007]\n",
      "iteration:  23\n",
      "x0:  [  10.    2526.662]\n",
      "optvars: ['u_2', 'v_1']\n",
      "expected price:  0.9956743739765993\n",
      "optindex:  [5, 2]\n",
      "feature [[  10.    2526.662]]\n"
     ]
    },
    {
     "name": "stderr",
     "output_type": "stream",
     "text": [
      "/Users/bscholtz/workspace/reflexer/venv/lib/python3.8/site-packages/scipy/optimize/zeros.py:445: RuntimeWarning: RMS of 0.00863015 reached\n",
      "  warnings.warn(\n"
     ]
    },
    {
     "name": "stdout",
     "output_type": "stream",
     "text": [
      "xstar:  [  10.00003756 2526.67063007]\n",
      "iteration:  24\n",
      "x0:  [5.95342027e+05 1.01000000e+02]\n",
      "optvars: ['u_1', 'v_2 + v_3']\n",
      "expected price:  0.9951674454331734\n",
      "optindex:  [4, 3]\n",
      "feature [[5.95342027e+05 1.01000000e+02]]\n"
     ]
    },
    {
     "name": "stderr",
     "output_type": "stream",
     "text": [
      "/Users/bscholtz/workspace/reflexer/venv/lib/python3.8/site-packages/scipy/optimize/zeros.py:445: RuntimeWarning: RMS of 2.03265 reached\n",
      "  warnings.warn(\n"
     ]
    },
    {
     "name": "stdout",
     "output_type": "stream",
     "text": [
      "xstar:  [5.95344060e+05 1.01000348e+02]\n",
      "iteration:  25\n",
      "x0:  [  10.    2526.662]\n",
      "optvars: ['u_2', 'v_1']\n",
      "expected price:  0.9953843192950702\n",
      "optindex:  [5, 2]\n",
      "feature [[  10.    2526.662]]\n"
     ]
    },
    {
     "name": "stderr",
     "output_type": "stream",
     "text": [
      "/Users/bscholtz/workspace/reflexer/venv/lib/python3.8/site-packages/scipy/optimize/zeros.py:445: RuntimeWarning: RMS of 0.00863015 reached\n",
      "  warnings.warn(\n"
     ]
    },
    {
     "name": "stdout",
     "output_type": "stream",
     "text": [
      "xstar:  [  10.00003756 2526.67063007]\n",
      "iteration:  26\n",
      "x0:  [  10.    2526.662]\n",
      "optvars: ['u_2', 'v_1']\n",
      "expected price:  0.9954283468827072\n",
      "optindex:  [5, 2]\n",
      "feature [[  10.    2526.662]]\n"
     ]
    },
    {
     "name": "stderr",
     "output_type": "stream",
     "text": [
      "/Users/bscholtz/workspace/reflexer/venv/lib/python3.8/site-packages/scipy/optimize/zeros.py:445: RuntimeWarning: RMS of 0.00863015 reached\n",
      "  warnings.warn(\n"
     ]
    },
    {
     "name": "stdout",
     "output_type": "stream",
     "text": [
      "xstar:  [  10.00003756 2526.67063007]\n",
      "iteration:  27\n",
      "x0:  [5.95342027e+05 1.01000000e+02]\n",
      "optvars: ['u_1', 'v_2 + v_3']\n",
      "expected price:  0.9949778925719923\n",
      "optindex:  [4, 3]\n",
      "feature [[5.95342027e+05 1.01000000e+02]]\n"
     ]
    },
    {
     "name": "stderr",
     "output_type": "stream",
     "text": [
      "/Users/bscholtz/workspace/reflexer/venv/lib/python3.8/site-packages/scipy/optimize/zeros.py:445: RuntimeWarning: RMS of 2.03265 reached\n",
      "  warnings.warn(\n"
     ]
    },
    {
     "name": "stdout",
     "output_type": "stream",
     "text": [
      "xstar:  [5.95344060e+05 1.01000348e+02]\n",
      "iteration:  28\n",
      "x0:  [5.95342027e+05 1.01000000e+02]\n",
      "optvars: ['u_1', 'v_2 + v_3']\n",
      "expected price:  0.9948518081931477\n",
      "optindex:  [4, 3]\n",
      "feature [[5.95342027e+05 1.01000000e+02]]\n"
     ]
    },
    {
     "name": "stderr",
     "output_type": "stream",
     "text": [
      "/Users/bscholtz/workspace/reflexer/venv/lib/python3.8/site-packages/scipy/optimize/zeros.py:445: RuntimeWarning: RMS of 2.03265 reached\n",
      "  warnings.warn(\n"
     ]
    },
    {
     "name": "stdout",
     "output_type": "stream",
     "text": [
      "xstar:  [5.95344060e+05 1.01000348e+02]\n",
      "iteration:  29\n",
      "x0:  [5.95342027e+05 1.01000000e+02]\n",
      "optvars: ['u_1', 'v_2 + v_3']\n",
      "expected price:  0.994866316412473\n",
      "optindex:  [4, 3]\n",
      "feature [[5.95342027e+05 1.01000000e+02]]\n"
     ]
    },
    {
     "name": "stderr",
     "output_type": "stream",
     "text": [
      "/Users/bscholtz/workspace/reflexer/venv/lib/python3.8/site-packages/scipy/optimize/zeros.py:445: RuntimeWarning: RMS of 2.03265 reached\n",
      "  warnings.warn(\n"
     ]
    },
    {
     "name": "stdout",
     "output_type": "stream",
     "text": [
      "xstar:  [5.95344060e+05 1.01000348e+02]\n",
      "iteration:  30\n",
      "x0:  [5.95342027e+05 1.01000000e+02]\n",
      "optvars: ['u_1', 'v_2 + v_3']\n",
      "expected price:  0.9956521591127311\n",
      "optindex:  [4, 3]\n",
      "feature [[5.95342027e+05 1.01000000e+02]]\n"
     ]
    },
    {
     "name": "stderr",
     "output_type": "stream",
     "text": [
      "/Users/bscholtz/workspace/reflexer/venv/lib/python3.8/site-packages/scipy/optimize/zeros.py:445: RuntimeWarning: RMS of 2.03265 reached\n",
      "  warnings.warn(\n"
     ]
    },
    {
     "name": "stdout",
     "output_type": "stream",
     "text": [
      "xstar:  [5.95344060e+05 1.01000348e+02]\n",
      "iteration:  31\n",
      "x0:  [  10.    2526.662]\n",
      "optvars: ['u_2', 'v_1']\n",
      "expected price:  0.9966274931964704\n",
      "optindex:  [5, 2]\n",
      "feature [[  10.    2526.662]]\n"
     ]
    },
    {
     "name": "stderr",
     "output_type": "stream",
     "text": [
      "/Users/bscholtz/workspace/reflexer/venv/lib/python3.8/site-packages/scipy/optimize/zeros.py:445: RuntimeWarning: RMS of 0.00863015 reached\n",
      "  warnings.warn(\n"
     ]
    },
    {
     "name": "stdout",
     "output_type": "stream",
     "text": [
      "xstar:  [  10.00003756 2526.67063007]\n",
      "iteration:  32\n",
      "x0:  [  10.    2526.662]\n",
      "optvars: ['u_2', 'v_1']\n",
      "expected price:  0.9965751539289602\n",
      "optindex:  [5, 2]\n",
      "feature [[  10.    2526.662]]\n"
     ]
    },
    {
     "name": "stderr",
     "output_type": "stream",
     "text": [
      "/Users/bscholtz/workspace/reflexer/venv/lib/python3.8/site-packages/scipy/optimize/zeros.py:445: RuntimeWarning: RMS of 0.00863015 reached\n",
      "  warnings.warn(\n"
     ]
    },
    {
     "name": "stdout",
     "output_type": "stream",
     "text": [
      "xstar:  [  10.00003756 2526.67063007]\n",
      "iteration:  33\n",
      "x0:  [  10.    2526.662]\n",
      "optvars: ['u_2', 'v_1']\n",
      "expected price:  0.99652371176347\n",
      "optindex:  [5, 2]\n",
      "feature [[  10.    2526.662]]\n"
     ]
    },
    {
     "name": "stderr",
     "output_type": "stream",
     "text": [
      "/Users/bscholtz/workspace/reflexer/venv/lib/python3.8/site-packages/scipy/optimize/zeros.py:445: RuntimeWarning: RMS of 0.00863015 reached\n",
      "  warnings.warn(\n"
     ]
    },
    {
     "name": "stdout",
     "output_type": "stream",
     "text": [
      "xstar:  [  10.00003756 2526.67063007]\n",
      "iteration:  34\n",
      "x0:  [5.95342027e+05 1.01000000e+02]\n",
      "optvars: ['u_1', 'v_2 + v_3']\n",
      "expected price:  0.9962209151260806\n",
      "optindex:  [4, 3]\n",
      "feature [[5.95342027e+05 1.01000000e+02]]\n"
     ]
    },
    {
     "name": "stderr",
     "output_type": "stream",
     "text": [
      "/Users/bscholtz/workspace/reflexer/venv/lib/python3.8/site-packages/scipy/optimize/zeros.py:445: RuntimeWarning: RMS of 2.03265 reached\n",
      "  warnings.warn(\n"
     ]
    },
    {
     "name": "stdout",
     "output_type": "stream",
     "text": [
      "xstar:  [5.95344060e+05 1.01000348e+02]\n",
      "iteration:  35\n",
      "x0:  [5.95342027e+05 1.01000000e+02]\n",
      "optvars: ['u_1', 'v_2 + v_3']\n",
      "expected price:  0.9962751007451085\n",
      "optindex:  [4, 3]\n",
      "feature [[5.95342027e+05 1.01000000e+02]]\n"
     ]
    },
    {
     "name": "stderr",
     "output_type": "stream",
     "text": [
      "/Users/bscholtz/workspace/reflexer/venv/lib/python3.8/site-packages/scipy/optimize/zeros.py:445: RuntimeWarning: RMS of 2.03265 reached\n",
      "  warnings.warn(\n"
     ]
    },
    {
     "name": "stdout",
     "output_type": "stream",
     "text": [
      "xstar:  [5.95344060e+05 1.01000348e+02]\n",
      "iteration:  36\n",
      "x0:  [5.95342027e+05 1.01000000e+02]\n",
      "optvars: ['u_1', 'v_2 + v_3']\n",
      "expected price:  0.9965143806365222\n",
      "optindex:  [4, 3]\n",
      "feature [[5.95342027e+05 1.01000000e+02]]\n"
     ]
    },
    {
     "name": "stderr",
     "output_type": "stream",
     "text": [
      "/Users/bscholtz/workspace/reflexer/venv/lib/python3.8/site-packages/scipy/optimize/zeros.py:445: RuntimeWarning: RMS of 2.03265 reached\n",
      "  warnings.warn(\n"
     ]
    },
    {
     "name": "stdout",
     "output_type": "stream",
     "text": [
      "xstar:  [5.95344060e+05 1.01000348e+02]\n",
      "iteration:  37\n",
      "x0:  [  10.    2526.662]\n",
      "optvars: ['u_2', 'v_1']\n",
      "expected price:  0.9967642627694285\n",
      "optindex:  [5, 2]\n",
      "feature [[  10.    2526.662]]\n"
     ]
    },
    {
     "name": "stderr",
     "output_type": "stream",
     "text": [
      "/Users/bscholtz/workspace/reflexer/venv/lib/python3.8/site-packages/scipy/optimize/zeros.py:445: RuntimeWarning: RMS of 0.00863015 reached\n",
      "  warnings.warn(\n"
     ]
    },
    {
     "name": "stdout",
     "output_type": "stream",
     "text": [
      "xstar:  [  10.00003756 2526.67063007]\n",
      "iteration:  38\n",
      "x0:  [  10.    2526.662]\n",
      "optvars: ['u_2', 'v_1']\n",
      "expected price:  0.9967261732536389\n",
      "optindex:  [5, 2]\n",
      "feature [[  10.    2526.662]]\n"
     ]
    },
    {
     "name": "stderr",
     "output_type": "stream",
     "text": [
      "/Users/bscholtz/workspace/reflexer/venv/lib/python3.8/site-packages/scipy/optimize/zeros.py:445: RuntimeWarning: RMS of 0.00863015 reached\n",
      "  warnings.warn(\n"
     ]
    },
    {
     "name": "stdout",
     "output_type": "stream",
     "text": [
      "xstar:  [  10.00003756 2526.67063007]\n",
      "iteration:  39\n",
      "x0:  [5.95342027e+05 1.01000000e+02]\n",
      "optvars: ['u_1', 'v_2 + v_3']\n",
      "expected price:  0.9964995030760524\n",
      "optindex:  [4, 3]\n",
      "feature [[5.95342027e+05 1.01000000e+02]]\n"
     ]
    },
    {
     "name": "stderr",
     "output_type": "stream",
     "text": [
      "/Users/bscholtz/workspace/reflexer/venv/lib/python3.8/site-packages/scipy/optimize/zeros.py:445: RuntimeWarning: RMS of 2.03265 reached\n",
      "  warnings.warn(\n"
     ]
    },
    {
     "name": "stdout",
     "output_type": "stream",
     "text": [
      "xstar:  [5.95344060e+05 1.01000348e+02]\n",
      "iteration:  40\n",
      "x0:  [  10.    2526.662]\n",
      "optvars: ['u_2', 'v_1']\n",
      "expected price:  0.9965102785679398\n",
      "optindex:  [5, 2]\n",
      "feature [[  10.    2526.662]]\n"
     ]
    },
    {
     "name": "stderr",
     "output_type": "stream",
     "text": [
      "/Users/bscholtz/workspace/reflexer/venv/lib/python3.8/site-packages/scipy/optimize/zeros.py:445: RuntimeWarning: RMS of 0.00863015 reached\n",
      "  warnings.warn(\n"
     ]
    },
    {
     "name": "stdout",
     "output_type": "stream",
     "text": [
      "xstar:  [  10.00003756 2526.67063007]\n",
      "iteration:  41\n",
      "x0:  [  10.    2526.662]\n",
      "optvars: ['u_2', 'v_1']\n",
      "expected price:  0.9963881680979539\n",
      "optindex:  [5, 2]\n",
      "feature [[  10.    2526.662]]\n"
     ]
    },
    {
     "name": "stderr",
     "output_type": "stream",
     "text": [
      "/Users/bscholtz/workspace/reflexer/venv/lib/python3.8/site-packages/scipy/optimize/zeros.py:445: RuntimeWarning: RMS of 0.00863015 reached\n",
      "  warnings.warn(\n"
     ]
    },
    {
     "name": "stdout",
     "output_type": "stream",
     "text": [
      "xstar:  [  10.00003756 2526.67063007]\n",
      "iteration:  42\n",
      "x0:  [  10.    2526.662]\n",
      "optvars: ['u_2', 'v_1']\n",
      "expected price:  0.9958872939535554\n",
      "optindex:  [5, 2]\n",
      "feature [[  10.    2526.662]]\n"
     ]
    },
    {
     "name": "stderr",
     "output_type": "stream",
     "text": [
      "/Users/bscholtz/workspace/reflexer/venv/lib/python3.8/site-packages/scipy/optimize/zeros.py:445: RuntimeWarning: RMS of 0.00863015 reached\n",
      "  warnings.warn(\n"
     ]
    },
    {
     "name": "stdout",
     "output_type": "stream",
     "text": [
      "xstar:  [  10.00003756 2526.67063007]\n",
      "iteration:  43\n",
      "x0:  [5.95342027e+05 1.01000000e+02]\n",
      "optvars: ['u_1', 'v_2 + v_3']\n",
      "expected price:  0.9957214204160393\n",
      "optindex:  [4, 3]\n",
      "feature [[5.95342027e+05 1.01000000e+02]]\n"
     ]
    },
    {
     "name": "stderr",
     "output_type": "stream",
     "text": [
      "/Users/bscholtz/workspace/reflexer/venv/lib/python3.8/site-packages/scipy/optimize/zeros.py:445: RuntimeWarning: RMS of 2.03265 reached\n",
      "  warnings.warn(\n"
     ]
    },
    {
     "name": "stdout",
     "output_type": "stream",
     "text": [
      "xstar:  [5.95344060e+05 1.01000348e+02]\n",
      "iteration:  44\n",
      "x0:  [5.95342027e+05 1.01000000e+02]\n",
      "optvars: ['u_1', 'v_2 + v_3']\n",
      "expected price:  0.9958919253498493\n",
      "optindex:  [4, 3]\n",
      "feature [[5.95342027e+05 1.01000000e+02]]\n"
     ]
    },
    {
     "name": "stderr",
     "output_type": "stream",
     "text": [
      "/Users/bscholtz/workspace/reflexer/venv/lib/python3.8/site-packages/scipy/optimize/zeros.py:445: RuntimeWarning: RMS of 2.03265 reached\n",
      "  warnings.warn(\n"
     ]
    },
    {
     "name": "stdout",
     "output_type": "stream",
     "text": [
      "xstar:  [5.95344060e+05 1.01000348e+02]\n",
      "iteration:  45\n",
      "x0:  [  10.    2526.662]\n",
      "optvars: ['u_2', 'v_1']\n",
      "expected price:  0.9961239138859643\n",
      "optindex:  [5, 2]\n",
      "feature [[  10.    2526.662]]\n"
     ]
    },
    {
     "name": "stderr",
     "output_type": "stream",
     "text": [
      "/Users/bscholtz/workspace/reflexer/venv/lib/python3.8/site-packages/scipy/optimize/zeros.py:445: RuntimeWarning: RMS of 0.00863015 reached\n",
      "  warnings.warn(\n"
     ]
    },
    {
     "name": "stdout",
     "output_type": "stream",
     "text": [
      "xstar:  [  10.00003756 2526.67063007]\n",
      "iteration:  46\n",
      "x0:  [5.95342027e+05 1.01000000e+02]\n",
      "optvars: ['u_1', 'v_2 + v_3']\n",
      "expected price:  0.9961856678573381\n",
      "optindex:  [4, 3]\n",
      "feature [[5.95342027e+05 1.01000000e+02]]\n"
     ]
    },
    {
     "name": "stderr",
     "output_type": "stream",
     "text": [
      "/Users/bscholtz/workspace/reflexer/venv/lib/python3.8/site-packages/scipy/optimize/zeros.py:445: RuntimeWarning: RMS of 2.03265 reached\n",
      "  warnings.warn(\n"
     ]
    },
    {
     "name": "stdout",
     "output_type": "stream",
     "text": [
      "xstar:  [5.95344060e+05 1.01000348e+02]\n",
      "iteration:  47\n",
      "x0:  [  10.    2526.662]\n",
      "optvars: ['u_2', 'v_1']\n",
      "expected price:  0.9969141760852298\n",
      "optindex:  [5, 2]\n",
      "feature [[  10.    2526.662]]\n"
     ]
    },
    {
     "name": "stderr",
     "output_type": "stream",
     "text": [
      "/Users/bscholtz/workspace/reflexer/venv/lib/python3.8/site-packages/scipy/optimize/zeros.py:445: RuntimeWarning: RMS of 0.00863015 reached\n",
      "  warnings.warn(\n"
     ]
    },
    {
     "name": "stdout",
     "output_type": "stream",
     "text": [
      "xstar:  [  10.00003756 2526.67063007]\n",
      "iteration:  48\n",
      "x0:  [5.95342027e+05 1.01000000e+02]\n",
      "optvars: ['u_1', 'v_2 + v_3']\n",
      "expected price:  0.9970760668973284\n",
      "optindex:  [4, 3]\n",
      "feature [[5.95342027e+05 1.01000000e+02]]\n"
     ]
    },
    {
     "name": "stderr",
     "output_type": "stream",
     "text": [
      "/Users/bscholtz/workspace/reflexer/venv/lib/python3.8/site-packages/scipy/optimize/zeros.py:445: RuntimeWarning: RMS of 2.03265 reached\n",
      "  warnings.warn(\n"
     ]
    },
    {
     "name": "stdout",
     "output_type": "stream",
     "text": [
      "xstar:  [5.95344060e+05 1.01000348e+02]\n",
      "iteration:  49\n",
      "x0:  [5.95342027e+05 1.01000000e+02]\n",
      "optvars: ['u_1', 'v_2 + v_3']\n",
      "expected price:  0.9972510871961373\n",
      "optindex:  [4, 3]\n",
      "feature [[5.95342027e+05 1.01000000e+02]]\n"
     ]
    },
    {
     "name": "stderr",
     "output_type": "stream",
     "text": [
      "/Users/bscholtz/workspace/reflexer/venv/lib/python3.8/site-packages/scipy/optimize/zeros.py:445: RuntimeWarning: RMS of 2.03265 reached\n",
      "  warnings.warn(\n"
     ]
    },
    {
     "name": "stdout",
     "output_type": "stream",
     "text": [
      "xstar:  [5.95344060e+05 1.01000348e+02]\n",
      "iteration:  50\n",
      "x0:  [5.95342027e+05 1.01000000e+02]\n",
      "optvars: ['u_1', 'v_2 + v_3']\n",
      "expected price:  0.9978034958991626\n",
      "optindex:  [4, 3]\n",
      "feature [[5.95342027e+05 1.01000000e+02]]\n"
     ]
    },
    {
     "name": "stderr",
     "output_type": "stream",
     "text": [
      "/Users/bscholtz/workspace/reflexer/venv/lib/python3.8/site-packages/scipy/optimize/zeros.py:445: RuntimeWarning: RMS of 2.03265 reached\n",
      "  warnings.warn(\n"
     ]
    },
    {
     "name": "stdout",
     "output_type": "stream",
     "text": [
      "xstar:  [5.95344060e+05 1.01000348e+02]\n",
      "iteration:  51\n",
      "x0:  [  10.    2526.662]\n",
      "optvars: ['u_2', 'v_1']\n",
      "expected price:  0.9983478997180206\n",
      "optindex:  [5, 2]\n",
      "feature [[  10.    2526.662]]\n"
     ]
    },
    {
     "name": "stderr",
     "output_type": "stream",
     "text": [
      "/Users/bscholtz/workspace/reflexer/venv/lib/python3.8/site-packages/scipy/optimize/zeros.py:445: RuntimeWarning: RMS of 0.00863015 reached\n",
      "  warnings.warn(\n"
     ]
    },
    {
     "name": "stdout",
     "output_type": "stream",
     "text": [
      "xstar:  [  10.00003756 2526.67063007]\n",
      "iteration:  52\n",
      "x0:  [  10.    2526.662]\n",
      "optvars: ['u_2', 'v_1']\n",
      "expected price:  0.998078556583917\n",
      "optindex:  [5, 2]\n",
      "feature [[  10.    2526.662]]\n"
     ]
    },
    {
     "name": "stderr",
     "output_type": "stream",
     "text": [
      "/Users/bscholtz/workspace/reflexer/venv/lib/python3.8/site-packages/scipy/optimize/zeros.py:445: RuntimeWarning: RMS of 0.00863015 reached\n",
      "  warnings.warn(\n"
     ]
    },
    {
     "name": "stdout",
     "output_type": "stream",
     "text": [
      "xstar:  [  10.00003756 2526.67063007]\n",
      "iteration:  53\n",
      "x0:  [  10.    2526.662]\n",
      "optvars: ['u_2', 'v_1']\n",
      "expected price:  0.9979280365493909\n",
      "optindex:  [5, 2]\n",
      "feature [[  10.    2526.662]]\n"
     ]
    },
    {
     "name": "stderr",
     "output_type": "stream",
     "text": [
      "/Users/bscholtz/workspace/reflexer/venv/lib/python3.8/site-packages/scipy/optimize/zeros.py:445: RuntimeWarning: RMS of 0.00863015 reached\n",
      "  warnings.warn(\n"
     ]
    },
    {
     "name": "stdout",
     "output_type": "stream",
     "text": [
      "xstar:  [  10.00003756 2526.67063007]\n",
      "iteration:  54\n",
      "x0:  [  10.    2526.662]\n",
      "optvars: ['u_2', 'v_1']\n",
      "expected price:  0.9977988166270485\n",
      "optindex:  [5, 2]\n",
      "feature [[  10.    2526.662]]\n"
     ]
    },
    {
     "name": "stderr",
     "output_type": "stream",
     "text": [
      "/Users/bscholtz/workspace/reflexer/venv/lib/python3.8/site-packages/scipy/optimize/zeros.py:445: RuntimeWarning: RMS of 0.00863015 reached\n",
      "  warnings.warn(\n"
     ]
    },
    {
     "name": "stdout",
     "output_type": "stream",
     "text": [
      "xstar:  [  10.00003756 2526.67063007]\n",
      "iteration:  55\n",
      "x0:  [5.95342027e+05 1.01000000e+02]\n",
      "optvars: ['u_1', 'v_2 + v_3']\n",
      "expected price:  0.9975950097009733\n",
      "optindex:  [4, 3]\n",
      "feature [[5.95342027e+05 1.01000000e+02]]\n"
     ]
    },
    {
     "name": "stderr",
     "output_type": "stream",
     "text": [
      "/Users/bscholtz/workspace/reflexer/venv/lib/python3.8/site-packages/scipy/optimize/zeros.py:445: RuntimeWarning: RMS of 2.03265 reached\n",
      "  warnings.warn(\n"
     ]
    },
    {
     "name": "stdout",
     "output_type": "stream",
     "text": [
      "xstar:  [5.95344060e+05 1.01000348e+02]\n",
      "iteration:  56\n",
      "x0:  [  10.    2526.662]\n",
      "optvars: ['u_2', 'v_1']\n",
      "expected price:  0.9977138609337712\n",
      "optindex:  [5, 2]\n",
      "feature [[  10.    2526.662]]\n"
     ]
    },
    {
     "name": "stderr",
     "output_type": "stream",
     "text": [
      "/Users/bscholtz/workspace/reflexer/venv/lib/python3.8/site-packages/scipy/optimize/zeros.py:445: RuntimeWarning: RMS of 0.00863015 reached\n",
      "  warnings.warn(\n"
     ]
    },
    {
     "name": "stdout",
     "output_type": "stream",
     "text": [
      "xstar:  [  10.00003756 2526.67063007]\n",
      "iteration:  57\n",
      "x0:  [5.95342027e+05 1.01000000e+02]\n",
      "optvars: ['u_1', 'v_2 + v_3']\n",
      "expected price:  0.9976340736877491\n",
      "optindex:  [4, 3]\n",
      "feature [[5.95342027e+05 1.01000000e+02]]\n"
     ]
    },
    {
     "name": "stderr",
     "output_type": "stream",
     "text": [
      "/Users/bscholtz/workspace/reflexer/venv/lib/python3.8/site-packages/scipy/optimize/zeros.py:445: RuntimeWarning: RMS of 2.03265 reached\n",
      "  warnings.warn(\n"
     ]
    },
    {
     "name": "stdout",
     "output_type": "stream",
     "text": [
      "xstar:  [5.95344060e+05 1.01000348e+02]\n",
      "iteration:  58\n",
      "x0:  [  10.    2526.662]\n",
      "optvars: ['u_2', 'v_1']\n",
      "expected price:  0.9976493300302426\n",
      "optindex:  [5, 2]\n",
      "feature [[  10.    2526.662]]\n"
     ]
    },
    {
     "name": "stderr",
     "output_type": "stream",
     "text": [
      "/Users/bscholtz/workspace/reflexer/venv/lib/python3.8/site-packages/scipy/optimize/zeros.py:445: RuntimeWarning: RMS of 0.00863015 reached\n",
      "  warnings.warn(\n"
     ]
    },
    {
     "name": "stdout",
     "output_type": "stream",
     "text": [
      "xstar:  [  10.00003756 2526.67063007]\n",
      "iteration:  59\n",
      "x0:  [  10.    2526.662]\n",
      "optvars: ['u_2', 'v_1']\n",
      "expected price:  0.9975100149404277\n",
      "optindex:  [5, 2]\n",
      "feature [[  10.    2526.662]]\n"
     ]
    },
    {
     "name": "stderr",
     "output_type": "stream",
     "text": [
      "/Users/bscholtz/workspace/reflexer/venv/lib/python3.8/site-packages/scipy/optimize/zeros.py:445: RuntimeWarning: RMS of 0.00863015 reached\n",
      "  warnings.warn(\n"
     ]
    },
    {
     "name": "stdout",
     "output_type": "stream",
     "text": [
      "xstar:  [  10.00003756 2526.67063007]\n",
      "iteration:  60\n",
      "x0:  [  10.    2526.662]\n",
      "optvars: ['u_2', 'v_1']\n",
      "expected price:  0.9972797780562894\n",
      "optindex:  [5, 2]\n",
      "feature [[  10.    2526.662]]\n"
     ]
    },
    {
     "name": "stderr",
     "output_type": "stream",
     "text": [
      "/Users/bscholtz/workspace/reflexer/venv/lib/python3.8/site-packages/scipy/optimize/zeros.py:445: RuntimeWarning: RMS of 0.00863015 reached\n",
      "  warnings.warn(\n"
     ]
    },
    {
     "name": "stdout",
     "output_type": "stream",
     "text": [
      "xstar:  [  10.00003756 2526.67063007]\n",
      "iteration:  61\n",
      "x0:  [  10.    2526.662]\n",
      "optvars: ['u_2', 'v_1']\n",
      "expected price:  0.9971907775442355\n",
      "optindex:  [5, 2]\n",
      "feature [[  10.    2526.662]]\n"
     ]
    },
    {
     "name": "stderr",
     "output_type": "stream",
     "text": [
      "/Users/bscholtz/workspace/reflexer/venv/lib/python3.8/site-packages/scipy/optimize/zeros.py:445: RuntimeWarning: RMS of 0.00863015 reached\n",
      "  warnings.warn(\n"
     ]
    },
    {
     "name": "stdout",
     "output_type": "stream",
     "text": [
      "xstar:  [  10.00003756 2526.67063007]\n",
      "iteration:  62\n",
      "x0:  [5.95342027e+05 1.01000000e+02]\n",
      "optvars: ['u_1', 'v_2 + v_3']\n",
      "expected price:  0.9970480668251543\n",
      "optindex:  [4, 3]\n",
      "feature [[5.95342027e+05 1.01000000e+02]]\n"
     ]
    },
    {
     "name": "stderr",
     "output_type": "stream",
     "text": [
      "/Users/bscholtz/workspace/reflexer/venv/lib/python3.8/site-packages/scipy/optimize/zeros.py:445: RuntimeWarning: RMS of 2.03265 reached\n",
      "  warnings.warn(\n"
     ]
    },
    {
     "name": "stdout",
     "output_type": "stream",
     "text": [
      "xstar:  [5.95344060e+05 1.01000348e+02]\n",
      "iteration:  63\n",
      "x0:  [5.95342027e+05 1.01000000e+02]\n",
      "optvars: ['u_1', 'v_2 + v_3']\n",
      "expected price:  0.9970766594485752\n",
      "optindex:  [4, 3]\n",
      "feature [[5.95342027e+05 1.01000000e+02]]\n"
     ]
    },
    {
     "name": "stderr",
     "output_type": "stream",
     "text": [
      "/Users/bscholtz/workspace/reflexer/venv/lib/python3.8/site-packages/scipy/optimize/zeros.py:445: RuntimeWarning: RMS of 2.03265 reached\n",
      "  warnings.warn(\n"
     ]
    },
    {
     "name": "stdout",
     "output_type": "stream",
     "text": [
      "xstar:  [5.95344060e+05 1.01000348e+02]\n",
      "iteration:  64\n",
      "x0:  [  10.    2526.662]\n",
      "optvars: ['u_2', 'v_1']\n",
      "expected price:  0.9970987012217108\n",
      "optindex:  [5, 2]\n",
      "feature [[  10.    2526.662]]\n",
      "xstar:  [  10.00003756 2526.67063007]\n",
      "iteration:  65\n",
      "x0:  [5.95342027e+05 1.01000000e+02]\n",
      "optvars: ['u_1', 'v_2 + v_3']\n",
      "expected price:  0.9971048473114577\n",
      "optindex:  [4, 3]\n",
      "feature [[5.95342027e+05 1.01000000e+02]]\n"
     ]
    },
    {
     "name": "stderr",
     "output_type": "stream",
     "text": [
      "/Users/bscholtz/workspace/reflexer/venv/lib/python3.8/site-packages/scipy/optimize/zeros.py:445: RuntimeWarning: RMS of 0.00863015 reached\n",
      "  warnings.warn(\n"
     ]
    },
    {
     "ename": "KeyboardInterrupt",
     "evalue": "",
     "output_type": "error",
     "traceback": [
      "\u001b[0;31m---------------------------------------------------------------------------\u001b[0m",
      "\u001b[0;31mKeyboardInterrupt\u001b[0m                         Traceback (most recent call last)",
      "\u001b[0;32m<ipython-input-17-402c7ffd41bd>\u001b[0m in \u001b[0;36m<module>\u001b[0;34m\u001b[0m\n\u001b[1;32m     58\u001b[0m \u001b[0;34m\u001b[0m\u001b[0m\n\u001b[1;32m     59\u001b[0m     \u001b[0;32mtry\u001b[0m\u001b[0;34m:\u001b[0m\u001b[0;34m\u001b[0m\u001b[0;34m\u001b[0m\u001b[0m\n\u001b[0;32m---> 60\u001b[0;31m         \u001b[0mx_star\u001b[0m \u001b[0;34m=\u001b[0m \u001b[0mnewton\u001b[0m\u001b[0;34m(\u001b[0m\u001b[0mfunc\u001b[0m\u001b[0;34m,\u001b[0m \u001b[0mx0\u001b[0m\u001b[0;34m,\u001b[0m \u001b[0margs\u001b[0m\u001b[0;34m=\u001b[0m\u001b[0;34m(\u001b[0m\u001b[0moptindex\u001b[0m\u001b[0;34m,\u001b[0m \u001b[0mfeature_0\u001b[0m\u001b[0;34m,\u001b[0m \u001b[0mp_expected\u001b[0m\u001b[0;34m)\u001b[0m\u001b[0;34m)\u001b[0m\u001b[0;34m\u001b[0m\u001b[0;34m\u001b[0m\u001b[0m\n\u001b[0m\u001b[1;32m     61\u001b[0m         \u001b[0mprint\u001b[0m\u001b[0;34m(\u001b[0m\u001b[0;34m'xstar: '\u001b[0m \u001b[0;34m,\u001b[0m\u001b[0mx_star\u001b[0m\u001b[0;34m)\u001b[0m\u001b[0;34m\u001b[0m\u001b[0;34m\u001b[0m\u001b[0m\n\u001b[1;32m     62\u001b[0m         \u001b[0;31m# Feasibility check, non-negativity\u001b[0m\u001b[0;34m\u001b[0m\u001b[0;34m\u001b[0m\u001b[0;34m\u001b[0m\u001b[0m\n",
      "\u001b[0;32m~/workspace/reflexer/venv/lib/python3.8/site-packages/scipy/optimize/zeros.py\u001b[0m in \u001b[0;36mnewton\u001b[0;34m(func, x0, fprime, args, tol, maxiter, fprime2, x1, rtol, full_output, disp)\u001b[0m\n\u001b[1;32m    268\u001b[0m         \u001b[0;32mraise\u001b[0m \u001b[0mValueError\u001b[0m\u001b[0;34m(\u001b[0m\u001b[0;34m\"maxiter must be greater than 0\"\u001b[0m\u001b[0;34m)\u001b[0m\u001b[0;34m\u001b[0m\u001b[0;34m\u001b[0m\u001b[0m\n\u001b[1;32m    269\u001b[0m     \u001b[0;32mif\u001b[0m \u001b[0mnp\u001b[0m\u001b[0;34m.\u001b[0m\u001b[0msize\u001b[0m\u001b[0;34m(\u001b[0m\u001b[0mx0\u001b[0m\u001b[0;34m)\u001b[0m \u001b[0;34m>\u001b[0m \u001b[0;36m1\u001b[0m\u001b[0;34m:\u001b[0m\u001b[0;34m\u001b[0m\u001b[0;34m\u001b[0m\u001b[0m\n\u001b[0;32m--> 270\u001b[0;31m         return _array_newton(func, x0, fprime, args, tol, maxiter, fprime2,\n\u001b[0m\u001b[1;32m    271\u001b[0m                              full_output)\n\u001b[1;32m    272\u001b[0m \u001b[0;34m\u001b[0m\u001b[0m\n",
      "\u001b[0;32m~/workspace/reflexer/venv/lib/python3.8/site-packages/scipy/optimize/zeros.py\u001b[0m in \u001b[0;36m_array_newton\u001b[0;34m(func, x0, fprime, args, tol, maxiter, fprime2, full_output)\u001b[0m\n\u001b[1;32m    407\u001b[0m         \u001b[0mdx\u001b[0m \u001b[0;34m=\u001b[0m \u001b[0mnp\u001b[0m\u001b[0;34m.\u001b[0m\u001b[0mfinfo\u001b[0m\u001b[0;34m(\u001b[0m\u001b[0mfloat\u001b[0m\u001b[0;34m)\u001b[0m\u001b[0;34m.\u001b[0m\u001b[0meps\u001b[0m\u001b[0;34m**\u001b[0m\u001b[0;36m0.33\u001b[0m\u001b[0;34m\u001b[0m\u001b[0;34m\u001b[0m\u001b[0m\n\u001b[1;32m    408\u001b[0m         \u001b[0mp1\u001b[0m \u001b[0;34m=\u001b[0m \u001b[0mp\u001b[0m \u001b[0;34m*\u001b[0m \u001b[0;34m(\u001b[0m\u001b[0;36m1\u001b[0m \u001b[0;34m+\u001b[0m \u001b[0mdx\u001b[0m\u001b[0;34m)\u001b[0m \u001b[0;34m+\u001b[0m \u001b[0mnp\u001b[0m\u001b[0;34m.\u001b[0m\u001b[0mwhere\u001b[0m\u001b[0;34m(\u001b[0m\u001b[0mp\u001b[0m \u001b[0;34m>=\u001b[0m \u001b[0;36m0\u001b[0m\u001b[0;34m,\u001b[0m \u001b[0mdx\u001b[0m\u001b[0;34m,\u001b[0m \u001b[0;34m-\u001b[0m\u001b[0mdx\u001b[0m\u001b[0;34m)\u001b[0m\u001b[0;34m\u001b[0m\u001b[0;34m\u001b[0m\u001b[0m\n\u001b[0;32m--> 409\u001b[0;31m         \u001b[0mq0\u001b[0m \u001b[0;34m=\u001b[0m \u001b[0mnp\u001b[0m\u001b[0;34m.\u001b[0m\u001b[0masarray\u001b[0m\u001b[0;34m(\u001b[0m\u001b[0mfunc\u001b[0m\u001b[0;34m(\u001b[0m\u001b[0mp\u001b[0m\u001b[0;34m,\u001b[0m \u001b[0;34m*\u001b[0m\u001b[0margs\u001b[0m\u001b[0;34m)\u001b[0m\u001b[0;34m)\u001b[0m\u001b[0;34m\u001b[0m\u001b[0;34m\u001b[0m\u001b[0m\n\u001b[0m\u001b[1;32m    410\u001b[0m         \u001b[0mq1\u001b[0m \u001b[0;34m=\u001b[0m \u001b[0mnp\u001b[0m\u001b[0;34m.\u001b[0m\u001b[0masarray\u001b[0m\u001b[0;34m(\u001b[0m\u001b[0mfunc\u001b[0m\u001b[0;34m(\u001b[0m\u001b[0mp1\u001b[0m\u001b[0;34m,\u001b[0m \u001b[0;34m*\u001b[0m\u001b[0margs\u001b[0m\u001b[0;34m)\u001b[0m\u001b[0;34m)\u001b[0m\u001b[0;34m\u001b[0m\u001b[0;34m\u001b[0m\u001b[0m\n\u001b[1;32m    411\u001b[0m         \u001b[0mactive\u001b[0m \u001b[0;34m=\u001b[0m \u001b[0mnp\u001b[0m\u001b[0;34m.\u001b[0m\u001b[0mones_like\u001b[0m\u001b[0;34m(\u001b[0m\u001b[0mp\u001b[0m\u001b[0;34m,\u001b[0m \u001b[0mdtype\u001b[0m\u001b[0;34m=\u001b[0m\u001b[0mbool\u001b[0m\u001b[0;34m)\u001b[0m\u001b[0;34m\u001b[0m\u001b[0;34m\u001b[0m\u001b[0m\n",
      "\u001b[0;32m<ipython-input-11-f8f382f89211>\u001b[0m in \u001b[0;36mG\u001b[0;34m(x, to_opt, data, constant)\u001b[0m\n\u001b[1;32m      3\u001b[0m     \u001b[0;32mfor\u001b[0m \u001b[0mi\u001b[0m\u001b[0;34m,\u001b[0m\u001b[0my\u001b[0m \u001b[0;32min\u001b[0m \u001b[0menumerate\u001b[0m\u001b[0;34m(\u001b[0m\u001b[0mx\u001b[0m\u001b[0;34m)\u001b[0m\u001b[0;34m:\u001b[0m\u001b[0;34m\u001b[0m\u001b[0;34m\u001b[0m\u001b[0m\n\u001b[1;32m      4\u001b[0m         \u001b[0mdata\u001b[0m\u001b[0;34m[\u001b[0m\u001b[0;34m:\u001b[0m\u001b[0;34m,\u001b[0m\u001b[0mto_opt\u001b[0m\u001b[0;34m[\u001b[0m\u001b[0mi\u001b[0m\u001b[0;34m]\u001b[0m\u001b[0;34m]\u001b[0m \u001b[0;34m=\u001b[0m \u001b[0my\u001b[0m\u001b[0;34m\u001b[0m\u001b[0;34m\u001b[0m\u001b[0m\n\u001b[0;32m----> 5\u001b[0;31m     \u001b[0merr\u001b[0m \u001b[0;34m=\u001b[0m \u001b[0mmodel\u001b[0m\u001b[0;34m.\u001b[0m\u001b[0mpredict\u001b[0m\u001b[0;34m(\u001b[0m\u001b[0mdata\u001b[0m\u001b[0;34m)\u001b[0m\u001b[0;34m[\u001b[0m\u001b[0;36m0\u001b[0m\u001b[0;34m]\u001b[0m \u001b[0;34m-\u001b[0m \u001b[0mconstant\u001b[0m\u001b[0;34m\u001b[0m\u001b[0;34m\u001b[0m\u001b[0m\n\u001b[0m\u001b[1;32m      6\u001b[0m     \u001b[0;32mreturn\u001b[0m \u001b[0merr\u001b[0m\u001b[0;34m\u001b[0m\u001b[0;34m\u001b[0m\u001b[0m\n",
      "\u001b[0;32m~/workspace/reflexer/venv/lib/python3.8/site-packages/autosklearn/estimators.py\u001b[0m in \u001b[0;36mpredict\u001b[0;34m(self, X, batch_size, n_jobs)\u001b[0m\n\u001b[1;32m    743\u001b[0m \u001b[0;34m\u001b[0m\u001b[0m\n\u001b[1;32m    744\u001b[0m         \"\"\"\n\u001b[0;32m--> 745\u001b[0;31m         \u001b[0;32mreturn\u001b[0m \u001b[0msuper\u001b[0m\u001b[0;34m(\u001b[0m\u001b[0;34m)\u001b[0m\u001b[0;34m.\u001b[0m\u001b[0mpredict\u001b[0m\u001b[0;34m(\u001b[0m\u001b[0mX\u001b[0m\u001b[0;34m,\u001b[0m \u001b[0mbatch_size\u001b[0m\u001b[0;34m=\u001b[0m\u001b[0mbatch_size\u001b[0m\u001b[0;34m,\u001b[0m \u001b[0mn_jobs\u001b[0m\u001b[0;34m=\u001b[0m\u001b[0mn_jobs\u001b[0m\u001b[0;34m)\u001b[0m\u001b[0;34m\u001b[0m\u001b[0;34m\u001b[0m\u001b[0m\n\u001b[0m\u001b[1;32m    746\u001b[0m \u001b[0;34m\u001b[0m\u001b[0m\n\u001b[1;32m    747\u001b[0m     \u001b[0;32mdef\u001b[0m \u001b[0m_get_automl_class\u001b[0m\u001b[0;34m(\u001b[0m\u001b[0mself\u001b[0m\u001b[0;34m)\u001b[0m\u001b[0;34m:\u001b[0m\u001b[0;34m\u001b[0m\u001b[0;34m\u001b[0m\u001b[0m\n",
      "\u001b[0;32m~/workspace/reflexer/venv/lib/python3.8/site-packages/autosklearn/estimators.py\u001b[0m in \u001b[0;36mpredict\u001b[0;34m(self, X, batch_size, n_jobs)\u001b[0m\n\u001b[1;32m    443\u001b[0m \u001b[0;34m\u001b[0m\u001b[0m\n\u001b[1;32m    444\u001b[0m     \u001b[0;32mdef\u001b[0m \u001b[0mpredict\u001b[0m\u001b[0;34m(\u001b[0m\u001b[0mself\u001b[0m\u001b[0;34m,\u001b[0m \u001b[0mX\u001b[0m\u001b[0;34m,\u001b[0m \u001b[0mbatch_size\u001b[0m\u001b[0;34m=\u001b[0m\u001b[0;32mNone\u001b[0m\u001b[0;34m,\u001b[0m \u001b[0mn_jobs\u001b[0m\u001b[0;34m=\u001b[0m\u001b[0;36m1\u001b[0m\u001b[0;34m)\u001b[0m\u001b[0;34m:\u001b[0m\u001b[0;34m\u001b[0m\u001b[0;34m\u001b[0m\u001b[0m\n\u001b[0;32m--> 445\u001b[0;31m         \u001b[0;32mreturn\u001b[0m \u001b[0mself\u001b[0m\u001b[0;34m.\u001b[0m\u001b[0mautoml_\u001b[0m\u001b[0;34m.\u001b[0m\u001b[0mpredict\u001b[0m\u001b[0;34m(\u001b[0m\u001b[0mX\u001b[0m\u001b[0;34m,\u001b[0m \u001b[0mbatch_size\u001b[0m\u001b[0;34m=\u001b[0m\u001b[0mbatch_size\u001b[0m\u001b[0;34m,\u001b[0m \u001b[0mn_jobs\u001b[0m\u001b[0;34m=\u001b[0m\u001b[0mn_jobs\u001b[0m\u001b[0;34m)\u001b[0m\u001b[0;34m\u001b[0m\u001b[0;34m\u001b[0m\u001b[0m\n\u001b[0m\u001b[1;32m    446\u001b[0m \u001b[0;34m\u001b[0m\u001b[0m\n\u001b[1;32m    447\u001b[0m     \u001b[0;32mdef\u001b[0m \u001b[0mpredict_proba\u001b[0m\u001b[0;34m(\u001b[0m\u001b[0mself\u001b[0m\u001b[0;34m,\u001b[0m \u001b[0mX\u001b[0m\u001b[0;34m,\u001b[0m \u001b[0mbatch_size\u001b[0m\u001b[0;34m=\u001b[0m\u001b[0;32mNone\u001b[0m\u001b[0;34m,\u001b[0m \u001b[0mn_jobs\u001b[0m\u001b[0;34m=\u001b[0m\u001b[0;36m1\u001b[0m\u001b[0;34m)\u001b[0m\u001b[0;34m:\u001b[0m\u001b[0;34m\u001b[0m\u001b[0;34m\u001b[0m\u001b[0m\n",
      "\u001b[0;32m~/workspace/reflexer/venv/lib/python3.8/site-packages/autosklearn/automl.py\u001b[0m in \u001b[0;36mpredict\u001b[0;34m(self, X, batch_size, n_jobs)\u001b[0m\n\u001b[1;32m    805\u001b[0m                 \u001b[0;32mraise\u001b[0m \u001b[0mValueError\u001b[0m\u001b[0;34m(\u001b[0m\u001b[0;34m'Found no fitted models!'\u001b[0m\u001b[0;34m)\u001b[0m\u001b[0;34m\u001b[0m\u001b[0;34m\u001b[0m\u001b[0m\n\u001b[1;32m    806\u001b[0m \u001b[0;34m\u001b[0m\u001b[0m\n\u001b[0;32m--> 807\u001b[0;31m         all_predictions = joblib.Parallel(n_jobs=n_jobs)(\n\u001b[0m\u001b[1;32m    808\u001b[0m             joblib.delayed(_model_predict)(\n\u001b[1;32m    809\u001b[0m                 \u001b[0mmodels\u001b[0m\u001b[0;34m[\u001b[0m\u001b[0midentifier\u001b[0m\u001b[0;34m]\u001b[0m\u001b[0;34m,\u001b[0m \u001b[0mX\u001b[0m\u001b[0;34m,\u001b[0m \u001b[0mbatch_size\u001b[0m\u001b[0;34m,\u001b[0m \u001b[0mself\u001b[0m\u001b[0;34m.\u001b[0m\u001b[0m_logger\u001b[0m\u001b[0;34m,\u001b[0m \u001b[0mself\u001b[0m\u001b[0;34m.\u001b[0m\u001b[0m_task\u001b[0m\u001b[0;34m\u001b[0m\u001b[0;34m\u001b[0m\u001b[0m\n",
      "\u001b[0;32m~/workspace/reflexer/venv/lib/python3.8/site-packages/joblib/parallel.py\u001b[0m in \u001b[0;36m__call__\u001b[0;34m(self, iterable)\u001b[0m\n\u001b[1;32m   1046\u001b[0m             \u001b[0;31m# remaining jobs.\u001b[0m\u001b[0;34m\u001b[0m\u001b[0;34m\u001b[0m\u001b[0;34m\u001b[0m\u001b[0m\n\u001b[1;32m   1047\u001b[0m             \u001b[0mself\u001b[0m\u001b[0;34m.\u001b[0m\u001b[0m_iterating\u001b[0m \u001b[0;34m=\u001b[0m \u001b[0;32mFalse\u001b[0m\u001b[0;34m\u001b[0m\u001b[0;34m\u001b[0m\u001b[0m\n\u001b[0;32m-> 1048\u001b[0;31m             \u001b[0;32mif\u001b[0m \u001b[0mself\u001b[0m\u001b[0;34m.\u001b[0m\u001b[0mdispatch_one_batch\u001b[0m\u001b[0;34m(\u001b[0m\u001b[0miterator\u001b[0m\u001b[0;34m)\u001b[0m\u001b[0;34m:\u001b[0m\u001b[0;34m\u001b[0m\u001b[0;34m\u001b[0m\u001b[0m\n\u001b[0m\u001b[1;32m   1049\u001b[0m                 \u001b[0mself\u001b[0m\u001b[0;34m.\u001b[0m\u001b[0m_iterating\u001b[0m \u001b[0;34m=\u001b[0m \u001b[0mself\u001b[0m\u001b[0;34m.\u001b[0m\u001b[0m_original_iterator\u001b[0m \u001b[0;32mis\u001b[0m \u001b[0;32mnot\u001b[0m \u001b[0;32mNone\u001b[0m\u001b[0;34m\u001b[0m\u001b[0;34m\u001b[0m\u001b[0m\n\u001b[1;32m   1050\u001b[0m \u001b[0;34m\u001b[0m\u001b[0m\n",
      "\u001b[0;32m~/workspace/reflexer/venv/lib/python3.8/site-packages/joblib/parallel.py\u001b[0m in \u001b[0;36mdispatch_one_batch\u001b[0;34m(self, iterator)\u001b[0m\n\u001b[1;32m    864\u001b[0m                 \u001b[0;32mreturn\u001b[0m \u001b[0;32mFalse\u001b[0m\u001b[0;34m\u001b[0m\u001b[0;34m\u001b[0m\u001b[0m\n\u001b[1;32m    865\u001b[0m             \u001b[0;32melse\u001b[0m\u001b[0;34m:\u001b[0m\u001b[0;34m\u001b[0m\u001b[0;34m\u001b[0m\u001b[0m\n\u001b[0;32m--> 866\u001b[0;31m                 \u001b[0mself\u001b[0m\u001b[0;34m.\u001b[0m\u001b[0m_dispatch\u001b[0m\u001b[0;34m(\u001b[0m\u001b[0mtasks\u001b[0m\u001b[0;34m)\u001b[0m\u001b[0;34m\u001b[0m\u001b[0;34m\u001b[0m\u001b[0m\n\u001b[0m\u001b[1;32m    867\u001b[0m                 \u001b[0;32mreturn\u001b[0m \u001b[0;32mTrue\u001b[0m\u001b[0;34m\u001b[0m\u001b[0;34m\u001b[0m\u001b[0m\n\u001b[1;32m    868\u001b[0m \u001b[0;34m\u001b[0m\u001b[0m\n",
      "\u001b[0;32m~/workspace/reflexer/venv/lib/python3.8/site-packages/joblib/parallel.py\u001b[0m in \u001b[0;36m_dispatch\u001b[0;34m(self, batch)\u001b[0m\n\u001b[1;32m    782\u001b[0m         \u001b[0;32mwith\u001b[0m \u001b[0mself\u001b[0m\u001b[0;34m.\u001b[0m\u001b[0m_lock\u001b[0m\u001b[0;34m:\u001b[0m\u001b[0;34m\u001b[0m\u001b[0;34m\u001b[0m\u001b[0m\n\u001b[1;32m    783\u001b[0m             \u001b[0mjob_idx\u001b[0m \u001b[0;34m=\u001b[0m \u001b[0mlen\u001b[0m\u001b[0;34m(\u001b[0m\u001b[0mself\u001b[0m\u001b[0;34m.\u001b[0m\u001b[0m_jobs\u001b[0m\u001b[0;34m)\u001b[0m\u001b[0;34m\u001b[0m\u001b[0;34m\u001b[0m\u001b[0m\n\u001b[0;32m--> 784\u001b[0;31m             \u001b[0mjob\u001b[0m \u001b[0;34m=\u001b[0m \u001b[0mself\u001b[0m\u001b[0;34m.\u001b[0m\u001b[0m_backend\u001b[0m\u001b[0;34m.\u001b[0m\u001b[0mapply_async\u001b[0m\u001b[0;34m(\u001b[0m\u001b[0mbatch\u001b[0m\u001b[0;34m,\u001b[0m \u001b[0mcallback\u001b[0m\u001b[0;34m=\u001b[0m\u001b[0mcb\u001b[0m\u001b[0;34m)\u001b[0m\u001b[0;34m\u001b[0m\u001b[0;34m\u001b[0m\u001b[0m\n\u001b[0m\u001b[1;32m    785\u001b[0m             \u001b[0;31m# A job can complete so quickly than its callback is\u001b[0m\u001b[0;34m\u001b[0m\u001b[0;34m\u001b[0m\u001b[0;34m\u001b[0m\u001b[0m\n\u001b[1;32m    786\u001b[0m             \u001b[0;31m# called before we get here, causing self._jobs to\u001b[0m\u001b[0;34m\u001b[0m\u001b[0;34m\u001b[0m\u001b[0;34m\u001b[0m\u001b[0m\n",
      "\u001b[0;32m~/workspace/reflexer/venv/lib/python3.8/site-packages/joblib/_parallel_backends.py\u001b[0m in \u001b[0;36mapply_async\u001b[0;34m(self, func, callback)\u001b[0m\n\u001b[1;32m    206\u001b[0m     \u001b[0;32mdef\u001b[0m \u001b[0mapply_async\u001b[0m\u001b[0;34m(\u001b[0m\u001b[0mself\u001b[0m\u001b[0;34m,\u001b[0m \u001b[0mfunc\u001b[0m\u001b[0;34m,\u001b[0m \u001b[0mcallback\u001b[0m\u001b[0;34m=\u001b[0m\u001b[0;32mNone\u001b[0m\u001b[0;34m)\u001b[0m\u001b[0;34m:\u001b[0m\u001b[0;34m\u001b[0m\u001b[0;34m\u001b[0m\u001b[0m\n\u001b[1;32m    207\u001b[0m         \u001b[0;34m\"\"\"Schedule a func to be run\"\"\"\u001b[0m\u001b[0;34m\u001b[0m\u001b[0;34m\u001b[0m\u001b[0m\n\u001b[0;32m--> 208\u001b[0;31m         \u001b[0mresult\u001b[0m \u001b[0;34m=\u001b[0m \u001b[0mImmediateResult\u001b[0m\u001b[0;34m(\u001b[0m\u001b[0mfunc\u001b[0m\u001b[0;34m)\u001b[0m\u001b[0;34m\u001b[0m\u001b[0;34m\u001b[0m\u001b[0m\n\u001b[0m\u001b[1;32m    209\u001b[0m         \u001b[0;32mif\u001b[0m \u001b[0mcallback\u001b[0m\u001b[0;34m:\u001b[0m\u001b[0;34m\u001b[0m\u001b[0;34m\u001b[0m\u001b[0m\n\u001b[1;32m    210\u001b[0m             \u001b[0mcallback\u001b[0m\u001b[0;34m(\u001b[0m\u001b[0mresult\u001b[0m\u001b[0;34m)\u001b[0m\u001b[0;34m\u001b[0m\u001b[0;34m\u001b[0m\u001b[0m\n",
      "\u001b[0;32m~/workspace/reflexer/venv/lib/python3.8/site-packages/joblib/_parallel_backends.py\u001b[0m in \u001b[0;36m__init__\u001b[0;34m(self, batch)\u001b[0m\n\u001b[1;32m    570\u001b[0m         \u001b[0;31m# Don't delay the application, to avoid keeping the input\u001b[0m\u001b[0;34m\u001b[0m\u001b[0;34m\u001b[0m\u001b[0;34m\u001b[0m\u001b[0m\n\u001b[1;32m    571\u001b[0m         \u001b[0;31m# arguments in memory\u001b[0m\u001b[0;34m\u001b[0m\u001b[0;34m\u001b[0m\u001b[0;34m\u001b[0m\u001b[0m\n\u001b[0;32m--> 572\u001b[0;31m         \u001b[0mself\u001b[0m\u001b[0;34m.\u001b[0m\u001b[0mresults\u001b[0m \u001b[0;34m=\u001b[0m \u001b[0mbatch\u001b[0m\u001b[0;34m(\u001b[0m\u001b[0;34m)\u001b[0m\u001b[0;34m\u001b[0m\u001b[0;34m\u001b[0m\u001b[0m\n\u001b[0m\u001b[1;32m    573\u001b[0m \u001b[0;34m\u001b[0m\u001b[0m\n\u001b[1;32m    574\u001b[0m     \u001b[0;32mdef\u001b[0m \u001b[0mget\u001b[0m\u001b[0;34m(\u001b[0m\u001b[0mself\u001b[0m\u001b[0;34m)\u001b[0m\u001b[0;34m:\u001b[0m\u001b[0;34m\u001b[0m\u001b[0;34m\u001b[0m\u001b[0m\n",
      "\u001b[0;32m~/workspace/reflexer/venv/lib/python3.8/site-packages/joblib/parallel.py\u001b[0m in \u001b[0;36m__call__\u001b[0;34m(self)\u001b[0m\n\u001b[1;32m    260\u001b[0m         \u001b[0;31m# change the default number of processes to -1\u001b[0m\u001b[0;34m\u001b[0m\u001b[0;34m\u001b[0m\u001b[0;34m\u001b[0m\u001b[0m\n\u001b[1;32m    261\u001b[0m         \u001b[0;32mwith\u001b[0m \u001b[0mparallel_backend\u001b[0m\u001b[0;34m(\u001b[0m\u001b[0mself\u001b[0m\u001b[0;34m.\u001b[0m\u001b[0m_backend\u001b[0m\u001b[0;34m,\u001b[0m \u001b[0mn_jobs\u001b[0m\u001b[0;34m=\u001b[0m\u001b[0mself\u001b[0m\u001b[0;34m.\u001b[0m\u001b[0m_n_jobs\u001b[0m\u001b[0;34m)\u001b[0m\u001b[0;34m:\u001b[0m\u001b[0;34m\u001b[0m\u001b[0;34m\u001b[0m\u001b[0m\n\u001b[0;32m--> 262\u001b[0;31m             return [func(*args, **kwargs)\n\u001b[0m\u001b[1;32m    263\u001b[0m                     for func, args, kwargs in self.items]\n\u001b[1;32m    264\u001b[0m \u001b[0;34m\u001b[0m\u001b[0m\n",
      "\u001b[0;32m~/workspace/reflexer/venv/lib/python3.8/site-packages/joblib/parallel.py\u001b[0m in \u001b[0;36m<listcomp>\u001b[0;34m(.0)\u001b[0m\n\u001b[1;32m    260\u001b[0m         \u001b[0;31m# change the default number of processes to -1\u001b[0m\u001b[0;34m\u001b[0m\u001b[0;34m\u001b[0m\u001b[0;34m\u001b[0m\u001b[0m\n\u001b[1;32m    261\u001b[0m         \u001b[0;32mwith\u001b[0m \u001b[0mparallel_backend\u001b[0m\u001b[0;34m(\u001b[0m\u001b[0mself\u001b[0m\u001b[0;34m.\u001b[0m\u001b[0m_backend\u001b[0m\u001b[0;34m,\u001b[0m \u001b[0mn_jobs\u001b[0m\u001b[0;34m=\u001b[0m\u001b[0mself\u001b[0m\u001b[0;34m.\u001b[0m\u001b[0m_n_jobs\u001b[0m\u001b[0;34m)\u001b[0m\u001b[0;34m:\u001b[0m\u001b[0;34m\u001b[0m\u001b[0;34m\u001b[0m\u001b[0m\n\u001b[0;32m--> 262\u001b[0;31m             return [func(*args, **kwargs)\n\u001b[0m\u001b[1;32m    263\u001b[0m                     for func, args, kwargs in self.items]\n\u001b[1;32m    264\u001b[0m \u001b[0;34m\u001b[0m\u001b[0m\n",
      "\u001b[0;32m~/workspace/reflexer/venv/lib/python3.8/site-packages/autosklearn/automl.py\u001b[0m in \u001b[0;36m_model_predict\u001b[0;34m(model, X, batch_size, logger, task)\u001b[0m\n\u001b[1;32m     71\u001b[0m                 \u001b[0mprediction\u001b[0m \u001b[0;34m=\u001b[0m \u001b[0mmodel\u001b[0m\u001b[0;34m.\u001b[0m\u001b[0mpredict\u001b[0m\u001b[0;34m(\u001b[0m\u001b[0mX_\u001b[0m\u001b[0;34m,\u001b[0m \u001b[0mbatch_size\u001b[0m\u001b[0;34m=\u001b[0m\u001b[0mbatch_size\u001b[0m\u001b[0;34m)\u001b[0m\u001b[0;34m\u001b[0m\u001b[0;34m\u001b[0m\u001b[0m\n\u001b[1;32m     72\u001b[0m             \u001b[0;32melse\u001b[0m\u001b[0;34m:\u001b[0m\u001b[0;34m\u001b[0m\u001b[0;34m\u001b[0m\u001b[0m\n\u001b[0;32m---> 73\u001b[0;31m                 \u001b[0mprediction\u001b[0m \u001b[0;34m=\u001b[0m \u001b[0mmodel\u001b[0m\u001b[0;34m.\u001b[0m\u001b[0mpredict\u001b[0m\u001b[0;34m(\u001b[0m\u001b[0mX_\u001b[0m\u001b[0;34m)\u001b[0m\u001b[0;34m\u001b[0m\u001b[0;34m\u001b[0m\u001b[0m\n\u001b[0m\u001b[1;32m     74\u001b[0m         \u001b[0;32melse\u001b[0m\u001b[0;34m:\u001b[0m\u001b[0;34m\u001b[0m\u001b[0;34m\u001b[0m\u001b[0m\n\u001b[1;32m     75\u001b[0m             \u001b[0;32mif\u001b[0m \u001b[0mhasattr\u001b[0m\u001b[0;34m(\u001b[0m\u001b[0mmodel\u001b[0m\u001b[0;34m,\u001b[0m \u001b[0;34m'batch_size'\u001b[0m\u001b[0;34m)\u001b[0m\u001b[0;34m:\u001b[0m\u001b[0;34m\u001b[0m\u001b[0;34m\u001b[0m\u001b[0m\n",
      "\u001b[0;32m~/workspace/reflexer/venv/lib/python3.8/site-packages/sklearn/ensemble/_voting.py\u001b[0m in \u001b[0;36mpredict\u001b[0;34m(self, X)\u001b[0m\n\u001b[1;32m    424\u001b[0m         \"\"\"\n\u001b[1;32m    425\u001b[0m         \u001b[0mcheck_is_fitted\u001b[0m\u001b[0;34m(\u001b[0m\u001b[0mself\u001b[0m\u001b[0;34m)\u001b[0m\u001b[0;34m\u001b[0m\u001b[0;34m\u001b[0m\u001b[0m\n\u001b[0;32m--> 426\u001b[0;31m         return np.average(self._predict(X), axis=1,\n\u001b[0m\u001b[1;32m    427\u001b[0m                           weights=self._weights_not_none)\n\u001b[1;32m    428\u001b[0m \u001b[0;34m\u001b[0m\u001b[0m\n",
      "\u001b[0;32m~/workspace/reflexer/venv/lib/python3.8/site-packages/sklearn/ensemble/_voting.py\u001b[0m in \u001b[0;36m_predict\u001b[0;34m(self, X)\u001b[0m\n\u001b[1;32m     50\u001b[0m     \u001b[0;32mdef\u001b[0m \u001b[0m_predict\u001b[0m\u001b[0;34m(\u001b[0m\u001b[0mself\u001b[0m\u001b[0;34m,\u001b[0m \u001b[0mX\u001b[0m\u001b[0;34m)\u001b[0m\u001b[0;34m:\u001b[0m\u001b[0;34m\u001b[0m\u001b[0;34m\u001b[0m\u001b[0m\n\u001b[1;32m     51\u001b[0m         \u001b[0;34m\"\"\"Collect results from clf.predict calls.\"\"\"\u001b[0m\u001b[0;34m\u001b[0m\u001b[0;34m\u001b[0m\u001b[0m\n\u001b[0;32m---> 52\u001b[0;31m         \u001b[0;32mreturn\u001b[0m \u001b[0mnp\u001b[0m\u001b[0;34m.\u001b[0m\u001b[0masarray\u001b[0m\u001b[0;34m(\u001b[0m\u001b[0;34m[\u001b[0m\u001b[0mest\u001b[0m\u001b[0;34m.\u001b[0m\u001b[0mpredict\u001b[0m\u001b[0;34m(\u001b[0m\u001b[0mX\u001b[0m\u001b[0;34m)\u001b[0m \u001b[0;32mfor\u001b[0m \u001b[0mest\u001b[0m \u001b[0;32min\u001b[0m \u001b[0mself\u001b[0m\u001b[0;34m.\u001b[0m\u001b[0mestimators_\u001b[0m\u001b[0;34m]\u001b[0m\u001b[0;34m)\u001b[0m\u001b[0;34m.\u001b[0m\u001b[0mT\u001b[0m\u001b[0;34m\u001b[0m\u001b[0;34m\u001b[0m\u001b[0m\n\u001b[0m\u001b[1;32m     53\u001b[0m \u001b[0;34m\u001b[0m\u001b[0m\n\u001b[1;32m     54\u001b[0m     \u001b[0;34m@\u001b[0m\u001b[0mabstractmethod\u001b[0m\u001b[0;34m\u001b[0m\u001b[0;34m\u001b[0m\u001b[0m\n",
      "\u001b[0;32m~/workspace/reflexer/venv/lib/python3.8/site-packages/sklearn/ensemble/_voting.py\u001b[0m in \u001b[0;36m<listcomp>\u001b[0;34m(.0)\u001b[0m\n\u001b[1;32m     50\u001b[0m     \u001b[0;32mdef\u001b[0m \u001b[0m_predict\u001b[0m\u001b[0;34m(\u001b[0m\u001b[0mself\u001b[0m\u001b[0;34m,\u001b[0m \u001b[0mX\u001b[0m\u001b[0;34m)\u001b[0m\u001b[0;34m:\u001b[0m\u001b[0;34m\u001b[0m\u001b[0;34m\u001b[0m\u001b[0m\n\u001b[1;32m     51\u001b[0m         \u001b[0;34m\"\"\"Collect results from clf.predict calls.\"\"\"\u001b[0m\u001b[0;34m\u001b[0m\u001b[0;34m\u001b[0m\u001b[0m\n\u001b[0;32m---> 52\u001b[0;31m         \u001b[0;32mreturn\u001b[0m \u001b[0mnp\u001b[0m\u001b[0;34m.\u001b[0m\u001b[0masarray\u001b[0m\u001b[0;34m(\u001b[0m\u001b[0;34m[\u001b[0m\u001b[0mest\u001b[0m\u001b[0;34m.\u001b[0m\u001b[0mpredict\u001b[0m\u001b[0;34m(\u001b[0m\u001b[0mX\u001b[0m\u001b[0;34m)\u001b[0m \u001b[0;32mfor\u001b[0m \u001b[0mest\u001b[0m \u001b[0;32min\u001b[0m \u001b[0mself\u001b[0m\u001b[0;34m.\u001b[0m\u001b[0mestimators_\u001b[0m\u001b[0;34m]\u001b[0m\u001b[0;34m)\u001b[0m\u001b[0;34m.\u001b[0m\u001b[0mT\u001b[0m\u001b[0;34m\u001b[0m\u001b[0;34m\u001b[0m\u001b[0m\n\u001b[0m\u001b[1;32m     53\u001b[0m \u001b[0;34m\u001b[0m\u001b[0m\n\u001b[1;32m     54\u001b[0m     \u001b[0;34m@\u001b[0m\u001b[0mabstractmethod\u001b[0m\u001b[0;34m\u001b[0m\u001b[0;34m\u001b[0m\u001b[0m\n",
      "\u001b[0;32m~/workspace/reflexer/venv/lib/python3.8/site-packages/autosklearn/pipeline/regression.py\u001b[0m in \u001b[0;36mpredict\u001b[0;34m(self, X, batch_size)\u001b[0m\n\u001b[1;32m     89\u001b[0m \u001b[0;34m\u001b[0m\u001b[0m\n\u001b[1;32m     90\u001b[0m     \u001b[0;32mdef\u001b[0m \u001b[0mpredict\u001b[0m\u001b[0;34m(\u001b[0m\u001b[0mself\u001b[0m\u001b[0;34m,\u001b[0m \u001b[0mX\u001b[0m\u001b[0;34m,\u001b[0m \u001b[0mbatch_size\u001b[0m\u001b[0;34m=\u001b[0m\u001b[0;32mNone\u001b[0m\u001b[0;34m)\u001b[0m\u001b[0;34m:\u001b[0m\u001b[0;34m\u001b[0m\u001b[0;34m\u001b[0m\u001b[0m\n\u001b[0;32m---> 91\u001b[0;31m         \u001b[0my\u001b[0m \u001b[0;34m=\u001b[0m \u001b[0msuper\u001b[0m\u001b[0;34m(\u001b[0m\u001b[0;34m)\u001b[0m\u001b[0;34m.\u001b[0m\u001b[0mpredict\u001b[0m\u001b[0;34m(\u001b[0m\u001b[0mX\u001b[0m\u001b[0;34m,\u001b[0m \u001b[0mbatch_size\u001b[0m\u001b[0;34m=\u001b[0m\u001b[0mbatch_size\u001b[0m\u001b[0;34m)\u001b[0m\u001b[0;34m\u001b[0m\u001b[0;34m\u001b[0m\u001b[0m\n\u001b[0m\u001b[1;32m     92\u001b[0m         \u001b[0my\u001b[0m\u001b[0;34m[\u001b[0m\u001b[0my\u001b[0m \u001b[0;34m>\u001b[0m \u001b[0;34m(\u001b[0m\u001b[0;36m2\u001b[0m \u001b[0;34m*\u001b[0m \u001b[0mself\u001b[0m\u001b[0;34m.\u001b[0m\u001b[0my_max_\u001b[0m\u001b[0;34m)\u001b[0m\u001b[0;34m]\u001b[0m \u001b[0;34m=\u001b[0m \u001b[0;36m2\u001b[0m \u001b[0;34m*\u001b[0m \u001b[0mself\u001b[0m\u001b[0;34m.\u001b[0m\u001b[0my_max_\u001b[0m\u001b[0;34m\u001b[0m\u001b[0;34m\u001b[0m\u001b[0m\n\u001b[1;32m     93\u001b[0m         \u001b[0;32mif\u001b[0m \u001b[0mself\u001b[0m\u001b[0;34m.\u001b[0m\u001b[0my_min_\u001b[0m \u001b[0;34m<\u001b[0m \u001b[0;36m0\u001b[0m\u001b[0;34m:\u001b[0m\u001b[0;34m\u001b[0m\u001b[0;34m\u001b[0m\u001b[0m\n",
      "\u001b[0;32m~/workspace/reflexer/venv/lib/python3.8/site-packages/autosklearn/pipeline/base.py\u001b[0m in \u001b[0;36mpredict\u001b[0;34m(self, X, batch_size)\u001b[0m\n\u001b[1;32m    147\u001b[0m \u001b[0;34m\u001b[0m\u001b[0m\n\u001b[1;32m    148\u001b[0m         \u001b[0;32mif\u001b[0m \u001b[0mbatch_size\u001b[0m \u001b[0;32mis\u001b[0m \u001b[0;32mNone\u001b[0m\u001b[0;34m:\u001b[0m\u001b[0;34m\u001b[0m\u001b[0;34m\u001b[0m\u001b[0m\n\u001b[0;32m--> 149\u001b[0;31m             \u001b[0;32mreturn\u001b[0m \u001b[0msuper\u001b[0m\u001b[0;34m(\u001b[0m\u001b[0;34m)\u001b[0m\u001b[0;34m.\u001b[0m\u001b[0mpredict\u001b[0m\u001b[0;34m(\u001b[0m\u001b[0mX\u001b[0m\u001b[0;34m)\u001b[0m\u001b[0;34m.\u001b[0m\u001b[0mastype\u001b[0m\u001b[0;34m(\u001b[0m\u001b[0mself\u001b[0m\u001b[0;34m.\u001b[0m\u001b[0m_output_dtype\u001b[0m\u001b[0;34m)\u001b[0m\u001b[0;34m\u001b[0m\u001b[0;34m\u001b[0m\u001b[0m\n\u001b[0m\u001b[1;32m    150\u001b[0m         \u001b[0;32melse\u001b[0m\u001b[0;34m:\u001b[0m\u001b[0;34m\u001b[0m\u001b[0;34m\u001b[0m\u001b[0m\n\u001b[1;32m    151\u001b[0m             \u001b[0;32mif\u001b[0m \u001b[0;32mnot\u001b[0m \u001b[0misinstance\u001b[0m\u001b[0;34m(\u001b[0m\u001b[0mbatch_size\u001b[0m\u001b[0;34m,\u001b[0m \u001b[0mint\u001b[0m\u001b[0;34m)\u001b[0m\u001b[0;34m:\u001b[0m\u001b[0;34m\u001b[0m\u001b[0;34m\u001b[0m\u001b[0m\n",
      "\u001b[0;32m~/workspace/reflexer/venv/lib/python3.8/site-packages/sklearn/utils/metaestimators.py\u001b[0m in \u001b[0;36m<lambda>\u001b[0;34m(*args, **kwargs)\u001b[0m\n\u001b[1;32m    114\u001b[0m \u001b[0;34m\u001b[0m\u001b[0m\n\u001b[1;32m    115\u001b[0m         \u001b[0;31m# lambda, but not partial, allows help() to work with update_wrapper\u001b[0m\u001b[0;34m\u001b[0m\u001b[0;34m\u001b[0m\u001b[0;34m\u001b[0m\u001b[0m\n\u001b[0;32m--> 116\u001b[0;31m         \u001b[0mout\u001b[0m \u001b[0;34m=\u001b[0m \u001b[0;32mlambda\u001b[0m \u001b[0;34m*\u001b[0m\u001b[0margs\u001b[0m\u001b[0;34m,\u001b[0m \u001b[0;34m**\u001b[0m\u001b[0mkwargs\u001b[0m\u001b[0;34m:\u001b[0m \u001b[0mself\u001b[0m\u001b[0;34m.\u001b[0m\u001b[0mfn\u001b[0m\u001b[0;34m(\u001b[0m\u001b[0mobj\u001b[0m\u001b[0;34m,\u001b[0m \u001b[0;34m*\u001b[0m\u001b[0margs\u001b[0m\u001b[0;34m,\u001b[0m \u001b[0;34m**\u001b[0m\u001b[0mkwargs\u001b[0m\u001b[0;34m)\u001b[0m\u001b[0;34m\u001b[0m\u001b[0;34m\u001b[0m\u001b[0m\n\u001b[0m\u001b[1;32m    117\u001b[0m         \u001b[0;31m# update the docstring of the returned function\u001b[0m\u001b[0;34m\u001b[0m\u001b[0;34m\u001b[0m\u001b[0;34m\u001b[0m\u001b[0m\n\u001b[1;32m    118\u001b[0m         \u001b[0mupdate_wrapper\u001b[0m\u001b[0;34m(\u001b[0m\u001b[0mout\u001b[0m\u001b[0;34m,\u001b[0m \u001b[0mself\u001b[0m\u001b[0;34m.\u001b[0m\u001b[0mfn\u001b[0m\u001b[0;34m)\u001b[0m\u001b[0;34m\u001b[0m\u001b[0;34m\u001b[0m\u001b[0m\n",
      "\u001b[0;32m~/workspace/reflexer/venv/lib/python3.8/site-packages/sklearn/pipeline.py\u001b[0m in \u001b[0;36mpredict\u001b[0;34m(self, X, **predict_params)\u001b[0m\n\u001b[1;32m    418\u001b[0m         \u001b[0;32mfor\u001b[0m \u001b[0m_\u001b[0m\u001b[0;34m,\u001b[0m \u001b[0mname\u001b[0m\u001b[0;34m,\u001b[0m \u001b[0mtransform\u001b[0m \u001b[0;32min\u001b[0m \u001b[0mself\u001b[0m\u001b[0;34m.\u001b[0m\u001b[0m_iter\u001b[0m\u001b[0;34m(\u001b[0m\u001b[0mwith_final\u001b[0m\u001b[0;34m=\u001b[0m\u001b[0;32mFalse\u001b[0m\u001b[0;34m)\u001b[0m\u001b[0;34m:\u001b[0m\u001b[0;34m\u001b[0m\u001b[0;34m\u001b[0m\u001b[0m\n\u001b[1;32m    419\u001b[0m             \u001b[0mXt\u001b[0m \u001b[0;34m=\u001b[0m \u001b[0mtransform\u001b[0m\u001b[0;34m.\u001b[0m\u001b[0mtransform\u001b[0m\u001b[0;34m(\u001b[0m\u001b[0mXt\u001b[0m\u001b[0;34m)\u001b[0m\u001b[0;34m\u001b[0m\u001b[0;34m\u001b[0m\u001b[0m\n\u001b[0;32m--> 420\u001b[0;31m         \u001b[0;32mreturn\u001b[0m \u001b[0mself\u001b[0m\u001b[0;34m.\u001b[0m\u001b[0msteps\u001b[0m\u001b[0;34m[\u001b[0m\u001b[0;34m-\u001b[0m\u001b[0;36m1\u001b[0m\u001b[0;34m]\u001b[0m\u001b[0;34m[\u001b[0m\u001b[0;34m-\u001b[0m\u001b[0;36m1\u001b[0m\u001b[0;34m]\u001b[0m\u001b[0;34m.\u001b[0m\u001b[0mpredict\u001b[0m\u001b[0;34m(\u001b[0m\u001b[0mXt\u001b[0m\u001b[0;34m,\u001b[0m \u001b[0;34m**\u001b[0m\u001b[0mpredict_params\u001b[0m\u001b[0;34m)\u001b[0m\u001b[0;34m\u001b[0m\u001b[0;34m\u001b[0m\u001b[0m\n\u001b[0m\u001b[1;32m    421\u001b[0m \u001b[0;34m\u001b[0m\u001b[0m\n\u001b[1;32m    422\u001b[0m     \u001b[0;34m@\u001b[0m\u001b[0mif_delegate_has_method\u001b[0m\u001b[0;34m(\u001b[0m\u001b[0mdelegate\u001b[0m\u001b[0;34m=\u001b[0m\u001b[0;34m'_final_estimator'\u001b[0m\u001b[0;34m)\u001b[0m\u001b[0;34m\u001b[0m\u001b[0;34m\u001b[0m\u001b[0m\n",
      "\u001b[0;32m~/workspace/reflexer/venv/lib/python3.8/site-packages/autosklearn/pipeline/components/base.py\u001b[0m in \u001b[0;36mpredict\u001b[0;34m(self, X)\u001b[0m\n\u001b[1;32m    430\u001b[0m \u001b[0;34m\u001b[0m\u001b[0m\n\u001b[1;32m    431\u001b[0m     \u001b[0;32mdef\u001b[0m \u001b[0mpredict\u001b[0m\u001b[0;34m(\u001b[0m\u001b[0mself\u001b[0m\u001b[0;34m,\u001b[0m \u001b[0mX\u001b[0m\u001b[0;34m)\u001b[0m\u001b[0;34m:\u001b[0m\u001b[0;34m\u001b[0m\u001b[0;34m\u001b[0m\u001b[0m\n\u001b[0;32m--> 432\u001b[0;31m         \u001b[0;32mreturn\u001b[0m \u001b[0mself\u001b[0m\u001b[0;34m.\u001b[0m\u001b[0mchoice\u001b[0m\u001b[0;34m.\u001b[0m\u001b[0mpredict\u001b[0m\u001b[0;34m(\u001b[0m\u001b[0mX\u001b[0m\u001b[0;34m)\u001b[0m\u001b[0;34m\u001b[0m\u001b[0;34m\u001b[0m\u001b[0m\n\u001b[0m",
      "\u001b[0;32m~/workspace/reflexer/venv/lib/python3.8/site-packages/autosklearn/pipeline/components/regression/extra_trees.py\u001b[0m in \u001b[0;36mpredict\u001b[0;34m(self, X)\u001b[0m\n\u001b[1;32m    108\u001b[0m         \u001b[0;32mif\u001b[0m \u001b[0mself\u001b[0m\u001b[0;34m.\u001b[0m\u001b[0mestimator\u001b[0m \u001b[0;32mis\u001b[0m \u001b[0;32mNone\u001b[0m\u001b[0;34m:\u001b[0m\u001b[0;34m\u001b[0m\u001b[0;34m\u001b[0m\u001b[0m\n\u001b[1;32m    109\u001b[0m             \u001b[0;32mraise\u001b[0m \u001b[0mNotImplementedError\u001b[0m\u001b[0;34m\u001b[0m\u001b[0;34m\u001b[0m\u001b[0m\n\u001b[0;32m--> 110\u001b[0;31m         \u001b[0;32mreturn\u001b[0m \u001b[0mself\u001b[0m\u001b[0;34m.\u001b[0m\u001b[0mestimator\u001b[0m\u001b[0;34m.\u001b[0m\u001b[0mpredict\u001b[0m\u001b[0;34m(\u001b[0m\u001b[0mX\u001b[0m\u001b[0;34m)\u001b[0m\u001b[0;34m\u001b[0m\u001b[0;34m\u001b[0m\u001b[0m\n\u001b[0m\u001b[1;32m    111\u001b[0m \u001b[0;34m\u001b[0m\u001b[0m\n\u001b[1;32m    112\u001b[0m     \u001b[0;34m@\u001b[0m\u001b[0mstaticmethod\u001b[0m\u001b[0;34m\u001b[0m\u001b[0;34m\u001b[0m\u001b[0m\n",
      "\u001b[0;32m~/workspace/reflexer/venv/lib/python3.8/site-packages/sklearn/ensemble/_forest.py\u001b[0m in \u001b[0;36mpredict\u001b[0;34m(self, X)\u001b[0m\n\u001b[1;32m    777\u001b[0m         \u001b[0;31m# Parallel loop\u001b[0m\u001b[0;34m\u001b[0m\u001b[0;34m\u001b[0m\u001b[0;34m\u001b[0m\u001b[0m\n\u001b[1;32m    778\u001b[0m         \u001b[0mlock\u001b[0m \u001b[0;34m=\u001b[0m \u001b[0mthreading\u001b[0m\u001b[0;34m.\u001b[0m\u001b[0mLock\u001b[0m\u001b[0;34m(\u001b[0m\u001b[0;34m)\u001b[0m\u001b[0;34m\u001b[0m\u001b[0;34m\u001b[0m\u001b[0m\n\u001b[0;32m--> 779\u001b[0;31m         Parallel(n_jobs=n_jobs, verbose=self.verbose,\n\u001b[0m\u001b[1;32m    780\u001b[0m                  \u001b[0;34m**\u001b[0m\u001b[0m_joblib_parallel_args\u001b[0m\u001b[0;34m(\u001b[0m\u001b[0mrequire\u001b[0m\u001b[0;34m=\u001b[0m\u001b[0;34m\"sharedmem\"\u001b[0m\u001b[0;34m)\u001b[0m\u001b[0;34m)\u001b[0m\u001b[0;34m(\u001b[0m\u001b[0;34m\u001b[0m\u001b[0;34m\u001b[0m\u001b[0m\n\u001b[1;32m    781\u001b[0m             \u001b[0mdelayed\u001b[0m\u001b[0;34m(\u001b[0m\u001b[0m_accumulate_prediction\u001b[0m\u001b[0;34m)\u001b[0m\u001b[0;34m(\u001b[0m\u001b[0me\u001b[0m\u001b[0;34m.\u001b[0m\u001b[0mpredict\u001b[0m\u001b[0;34m,\u001b[0m \u001b[0mX\u001b[0m\u001b[0;34m,\u001b[0m \u001b[0;34m[\u001b[0m\u001b[0my_hat\u001b[0m\u001b[0;34m]\u001b[0m\u001b[0;34m,\u001b[0m \u001b[0mlock\u001b[0m\u001b[0;34m)\u001b[0m\u001b[0;34m\u001b[0m\u001b[0;34m\u001b[0m\u001b[0m\n",
      "\u001b[0;32m~/workspace/reflexer/venv/lib/python3.8/site-packages/joblib/parallel.py\u001b[0m in \u001b[0;36m__call__\u001b[0;34m(self, iterable)\u001b[0m\n\u001b[1;32m   1049\u001b[0m                 \u001b[0mself\u001b[0m\u001b[0;34m.\u001b[0m\u001b[0m_iterating\u001b[0m \u001b[0;34m=\u001b[0m \u001b[0mself\u001b[0m\u001b[0;34m.\u001b[0m\u001b[0m_original_iterator\u001b[0m \u001b[0;32mis\u001b[0m \u001b[0;32mnot\u001b[0m \u001b[0;32mNone\u001b[0m\u001b[0;34m\u001b[0m\u001b[0;34m\u001b[0m\u001b[0m\n\u001b[1;32m   1050\u001b[0m \u001b[0;34m\u001b[0m\u001b[0m\n\u001b[0;32m-> 1051\u001b[0;31m             \u001b[0;32mwhile\u001b[0m \u001b[0mself\u001b[0m\u001b[0;34m.\u001b[0m\u001b[0mdispatch_one_batch\u001b[0m\u001b[0;34m(\u001b[0m\u001b[0miterator\u001b[0m\u001b[0;34m)\u001b[0m\u001b[0;34m:\u001b[0m\u001b[0;34m\u001b[0m\u001b[0;34m\u001b[0m\u001b[0m\n\u001b[0m\u001b[1;32m   1052\u001b[0m                 \u001b[0;32mpass\u001b[0m\u001b[0;34m\u001b[0m\u001b[0;34m\u001b[0m\u001b[0m\n\u001b[1;32m   1053\u001b[0m \u001b[0;34m\u001b[0m\u001b[0m\n",
      "\u001b[0;32m~/workspace/reflexer/venv/lib/python3.8/site-packages/joblib/parallel.py\u001b[0m in \u001b[0;36mdispatch_one_batch\u001b[0;34m(self, iterator)\u001b[0m\n\u001b[1;32m    864\u001b[0m                 \u001b[0;32mreturn\u001b[0m \u001b[0;32mFalse\u001b[0m\u001b[0;34m\u001b[0m\u001b[0;34m\u001b[0m\u001b[0m\n\u001b[1;32m    865\u001b[0m             \u001b[0;32melse\u001b[0m\u001b[0;34m:\u001b[0m\u001b[0;34m\u001b[0m\u001b[0;34m\u001b[0m\u001b[0m\n\u001b[0;32m--> 866\u001b[0;31m                 \u001b[0mself\u001b[0m\u001b[0;34m.\u001b[0m\u001b[0m_dispatch\u001b[0m\u001b[0;34m(\u001b[0m\u001b[0mtasks\u001b[0m\u001b[0;34m)\u001b[0m\u001b[0;34m\u001b[0m\u001b[0;34m\u001b[0m\u001b[0m\n\u001b[0m\u001b[1;32m    867\u001b[0m                 \u001b[0;32mreturn\u001b[0m \u001b[0;32mTrue\u001b[0m\u001b[0;34m\u001b[0m\u001b[0;34m\u001b[0m\u001b[0m\n\u001b[1;32m    868\u001b[0m \u001b[0;34m\u001b[0m\u001b[0m\n",
      "\u001b[0;32m~/workspace/reflexer/venv/lib/python3.8/site-packages/joblib/parallel.py\u001b[0m in \u001b[0;36m_dispatch\u001b[0;34m(self, batch)\u001b[0m\n\u001b[1;32m    787\u001b[0m             \u001b[0;31m# grow. To ensure correct results ordering, .insert is\u001b[0m\u001b[0;34m\u001b[0m\u001b[0;34m\u001b[0m\u001b[0;34m\u001b[0m\u001b[0m\n\u001b[1;32m    788\u001b[0m             \u001b[0;31m# used (rather than .append) in the following line\u001b[0m\u001b[0;34m\u001b[0m\u001b[0;34m\u001b[0m\u001b[0;34m\u001b[0m\u001b[0m\n\u001b[0;32m--> 789\u001b[0;31m             \u001b[0mself\u001b[0m\u001b[0;34m.\u001b[0m\u001b[0m_jobs\u001b[0m\u001b[0;34m.\u001b[0m\u001b[0minsert\u001b[0m\u001b[0;34m(\u001b[0m\u001b[0mjob_idx\u001b[0m\u001b[0;34m,\u001b[0m \u001b[0mjob\u001b[0m\u001b[0;34m)\u001b[0m\u001b[0;34m\u001b[0m\u001b[0;34m\u001b[0m\u001b[0m\n\u001b[0m\u001b[1;32m    790\u001b[0m \u001b[0;34m\u001b[0m\u001b[0m\n\u001b[1;32m    791\u001b[0m     \u001b[0;32mdef\u001b[0m \u001b[0mdispatch_next\u001b[0m\u001b[0;34m(\u001b[0m\u001b[0mself\u001b[0m\u001b[0;34m)\u001b[0m\u001b[0;34m:\u001b[0m\u001b[0;34m\u001b[0m\u001b[0;34m\u001b[0m\u001b[0m\n",
      "\u001b[0;31mKeyboardInterrupt\u001b[0m: "
     ]
    }
   ],
   "source": [
    "# Initialize parameters, storage for root search\n",
    "num_above = 0; num_below = 0\n",
    "p = mar_p[0]\n",
    "interest_rate = 1 # note gross interest rate; \"minimal risk appetite\"\n",
    "p_calc = np.zeros(len(market_price.index))\n",
    "p_exp = np.zeros(len(market_price.index))\n",
    "feature_0 = np.reshape(independent_vars[0], (-1,11)).copy()\n",
    "solution = {}\n",
    "demand = np.zeros(len(market_price.index))\n",
    "supply = np.zeros(len(market_price.index))\n",
    "periods_above = []\n",
    "periods_below = []\n",
    "\n",
    "# Root-finding loop\n",
    "for t in range(1, len(market_price.index)):\n",
    "#for t in range(1,2):\n",
    "\n",
    "    print('iteration: ', t)\n",
    "    \n",
    "    # assign CDP levers in response to disequilibrium\n",
    "    # e.g. unexpected realized ETH price increase *lowers* expected return\n",
    "    if eth_returns[t] < np.mean(eth_returns[1:]):\n",
    "        # price of ETH has risen\n",
    "        periods_below.append(t)\n",
    "        num_below += 1\n",
    "        # mint new RAI ('u_1') & sell on secondary market, or\n",
    "        # reduce collateral value ('v_2')\n",
    "        optvars = ['u_1', 'v_2 + v_3']\n",
    "    else:\n",
    "        # price of ETH has fallen\n",
    "        periods_above.append(t)\n",
    "        num_above += 1\n",
    "        # repay RAI ('u_2') & buy on secondary market, or\n",
    "        # increase collateral value ('v_1')\n",
    "        optvars = ['u_2', 'v_1']\n",
    "        \n",
    "    # find root of non-arbitrage condition\n",
    "    p_expected = (1/alpha_1) * p * (interest_rate + beta_2 * (eth_p_mean - eth_p[t-1]*interest_rate)\n",
    "                                 + beta_1 * (mar_p_mean - p*interest_rate)\n",
    "                 ) - (alpha_0/alpha_1)\n",
    "    \n",
    "    # need to adjust here if using OLS results instead of ML\n",
    "    if not use_ML_model:\n",
    "        # add regression constant; this shifts index for optimal values\n",
    "        optindex = [features.index(i) + 1 for i in optvars]\n",
    "        feature_0 = np.insert(feature_0, 0, 1, axis=1)\n",
    "    else:\n",
    "        optindex = [features.index(i) for i in optvars]\n",
    "        \n",
    "    x0 = feature_0[:,optindex][0]\n",
    "\n",
    "    print('x0: ', x0)\n",
    "    print('optvars:', optvars)\n",
    "    print('expected price: ', p_expected)\n",
    "    print('optindex: ', optindex)\n",
    "    print('feature', feature_0[:,optindex])\n",
    "    \n",
    "    \n",
    "    try:\n",
    "        x_star = newton(func, x0, args=(optindex, feature_0, p_expected))\n",
    "        print('xstar: ' ,x_star)\n",
    "        # Feasibility check, non-negativity\n",
    "        if any(x_star[x_star < 0]):\n",
    "            x_star = x0\n",
    "    except RuntimeError as e:\n",
    "        # For OLS, usually indicates non-convergence after 50 iterations (default)\n",
    "        # Indicates not feasible to update CDP for this price/feature combination\n",
    "        # Default to historical values here\n",
    "        print('Error: {}, default to historical values...'.format(e))\n",
    "        x_star = x0\n",
    "    \n",
    "    optimal_values = dict((var, x_star[i]) for i, var in enumerate(optvars))\n",
    "    \n",
    "    if handle_external_feature:\n",
    "        # EXTERNAL HANDLER: pass optimal values to CDP handler (here, as dict)\n",
    "        # EXTERNAL HANDLER: receive new initial condition from CDP handler (as numpy array)\n",
    "        # _send_values_to_CDP(optimal_values)\n",
    "        # feature_0 = _receive_values_from_CDP()\n",
    "        print('external_handler')\n",
    "    else:\n",
    "        # INTERNAL HANDLER: reset initial condition as initial point in data set\n",
    "        feature_0 = np.reshape(independent_vars[0], (-1,11)).copy()\n",
    "    \n",
    "    if use_historical_price:\n",
    "        if t < len(market_price.index) - 1:\n",
    "            p = mar_p[t]\n",
    "    else:\n",
    "        # secondary market call\n",
    "        if handle_external_price:\n",
    "            # update feature_0 with optimal values from x_star\n",
    "            for i,j in enumerate(optindex):\n",
    "                    feature_0[:,j] = x_star[i]\n",
    "            print('p_expected:', p_expected)\n",
    "            p = get_market_price(p_expected, p, feature_0)\n",
    "            print('p_output', p)\n",
    "            print('relative diff: ', (p - p_expected)/p)\n",
    "        else:\n",
    "            # INTERNAL HANDLER: Set price as expected value\n",
    "            p = p_expected\n",
    "    \n",
    "    # For diagnostics\n",
    "    #supply[t] = optimal_values['u_1']\n",
    "    #demand[t] = optimal_values['u_2']\n",
    "    solution[t] = optimal_values\n",
    "    p_exp[t] = p_expected\n",
    "    p_calc[t] = p"
   ]
  },
  {
   "cell_type": "code",
   "execution_count": null,
   "metadata": {},
   "outputs": [],
   "source": [
    "# Plot historical market price against expected price\n",
    "plt.plot(p_exp[1:], label = \"Expected Price\")\n",
    "plt.plot(mar_p[1:], label = \"Market Price\")\n",
    "plt.title('Prices')\n",
    "plt.xlabel('Period')\n",
    "plt.ylabel('Price')"
   ]
  },
  {
   "cell_type": "code",
   "execution_count": null,
   "metadata": {},
   "outputs": [],
   "source": [
    "# Plot historical market price against modeled price\n",
    "plt.plot(p_calc[1:], label = \"Modeled Price\")\n",
    "plt.plot(mar_p[1:], label = \"Market Price\")\n",
    "plt.title('Prices')\n",
    "plt.xlabel('Period')\n",
    "plt.ylabel('Price')"
   ]
  },
  {
   "cell_type": "code",
   "execution_count": null,
   "metadata": {},
   "outputs": [],
   "source": [
    "# Plot expected market price against modeled price\n",
    "plt.plot(p_calc[1:], label = \"Modeled Price\")\n",
    "plt.plot(p_exp[1:], label = \"Expected Price\")\n",
    "plt.ylim((0.998, 1.002))\n",
    "plt.title('Prices')\n",
    "plt.xlabel('Period')\n",
    "plt.ylabel('Price')"
   ]
  },
  {
   "cell_type": "code",
   "execution_count": null,
   "metadata": {},
   "outputs": [],
   "source": [
    "feature.head()"
   ]
  },
  {
   "cell_type": "code",
   "execution_count": null,
   "metadata": {},
   "outputs": [],
   "source": [
    "feature_0"
   ]
  },
  {
   "cell_type": "code",
   "execution_count": null,
   "metadata": {},
   "outputs": [],
   "source": [
    "independent_vars[0]"
   ]
  },
  {
   "cell_type": "code",
   "execution_count": null,
   "metadata": {},
   "outputs": [],
   "source": [
    "feature_0 = np.reshape(independent_vars[0], (-1,15)).copy()\n",
    "feature_0 = np.insert(feature_0, 0, 1, axis=1)"
   ]
  },
  {
   "cell_type": "code",
   "execution_count": null,
   "metadata": {},
   "outputs": [],
   "source": [
    "feature_0"
   ]
  },
  {
   "cell_type": "code",
   "execution_count": null,
   "metadata": {},
   "outputs": [],
   "source": [
    "type(feature_0)"
   ]
  },
  {
   "cell_type": "code",
   "execution_count": null,
   "metadata": {},
   "outputs": [],
   "source": [
    "np.dot(feature_0, -1)"
   ]
  },
  {
   "cell_type": "code",
   "execution_count": null,
   "metadata": {},
   "outputs": [],
   "source": [
    "np.dot(np.log(feature_0[0]), np.ones(np.size(feature_0)))"
   ]
  },
  {
   "cell_type": "code",
   "execution_count": null,
   "metadata": {},
   "outputs": [],
   "source": [
    "sum(feature_0[0])"
   ]
  },
  {
   "cell_type": "code",
   "execution_count": null,
   "metadata": {},
   "outputs": [],
   "source": [
    "feature_0"
   ]
  },
  {
   "cell_type": "code",
   "execution_count": null,
   "metadata": {},
   "outputs": [],
   "source": []
  }
 ],
 "metadata": {
  "kernelspec": {
   "display_name": "Python 3",
   "language": "python",
   "name": "python3"
  },
  "language_info": {
   "codemirror_mode": {
    "name": "ipython",
    "version": 3
   },
   "file_extension": ".py",
   "mimetype": "text/x-python",
   "name": "python",
   "nbconvert_exporter": "python",
   "pygments_lexer": "ipython3",
   "version": "3.8.6"
  }
 },
 "nbformat": 4,
 "nbformat_minor": 4
}
