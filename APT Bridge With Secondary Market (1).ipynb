{
 "cells": [
  {
   "cell_type": "markdown",
   "metadata": {},
   "source": [
    "# APT Bridge (CDP <-> APT Bridge <-> Secondary Market)\n",
    "\n",
    "RAI Project\n",
    "\n",
    "BlockScience\n",
    "\n",
    "November 18 2020\n",
    "\n"
   ]
  },
  {
   "cell_type": "code",
   "execution_count": 1,
   "metadata": {},
   "outputs": [
    {
     "name": "stderr",
     "output_type": "stream",
     "text": [
      "/Users/bscholtz/workspace/reflexer/venv/lib/python3.8/site-packages/pyparsing.py:3190: FutureWarning: Possible set intersection at position 3\n",
      "  self.re = re.compile(self.reString)\n"
     ]
    }
   ],
   "source": [
    "import pandas as pd\n",
    "from sklearn.model_selection import train_test_split\n",
    "from sklearn.metrics import mean_squared_error, r2_score\n",
    "from autosklearn.regression import AutoSklearnRegressor\n",
    "from autosklearn.metrics import mean_squared_error as auto_mean_squared_error\n",
    "from pprint import pprint\n",
    "import matplotlib.pyplot as plt\n",
    "import math, statistics\n",
    "from functools import partial\n",
    "import statsmodels.api as sm\n",
    "from statsmodels.regression.linear_model import OLSResults\n",
    "from statsmodels.tsa.ar_model import AutoReg\n",
    "from scipy.optimize import root, show_options, newton\n",
    "import numpy as np\n",
    "import seaborn as sns\n",
    "import pickle\n",
    "\n",
    "plt.rcParams['figure.figsize'] = [10, 5]"
   ]
  },
  {
   "cell_type": "code",
   "execution_count": 2,
   "metadata": {},
   "outputs": [],
   "source": [
    "debt_market_df = pd.read_csv('market_model/data/debt_market_df.csv', index_col='date', parse_dates=True)\n",
    "market_price = pd.DataFrame(debt_market_df['p'])\n",
    "eth_price = pd.DataFrame(debt_market_df['rho_star'])\n",
    "    \n",
    "market_returns = ((market_price - market_price.shift(1))/market_price.shift(1)).to_numpy().flatten()\n",
    "market_gross_returns = (market_price / market_price.shift(1)).to_numpy().flatten()\n",
    "\n",
    "eth_returns = ((eth_price - eth_price.shift(1))/eth_price.shift(1)).to_numpy().flatten()\n",
    "eth_gross_returns = (eth_price / eth_price.shift(1)).to_numpy().flatten()\n",
    "\n",
    "debt_market_df['market_returns'] = market_returns\n",
    "    \n",
    "# features = ['beta', 'Q', 'v_1', 'v_2 + v_3', \n",
    "#                     'D_1', 'u_1', 'u_2', 'u_3', 'u_2 + u_3', \n",
    "#                     'D_2', 'w_1', 'w_2', 'w_3', 'w_2 + w_3',\n",
    "#                     'D']\n",
    "features = ['beta', 'Q', 'v_1', 'v_2 + v_3', 'u_1', 'u_2', 'u_3', 'w_1', 'w_2', 'w_3','D']\n",
    "\n",
    "indep_vars = debt_market_df[features]"
   ]
  },
  {
   "cell_type": "code",
   "execution_count": 3,
   "metadata": {},
   "outputs": [],
   "source": [
    "model = pickle.load(open('models/pickles/apt_debt_model_2020-11-28.pickle', 'rb'))\n",
    "independent_vars = debt_market_df[features].to_numpy()\n",
    "full_prediction = model.predict(independent_vars)"
   ]
  },
  {
   "cell_type": "code",
   "execution_count": 4,
   "metadata": {},
   "outputs": [
    {
     "name": "stdout",
     "output_type": "stream",
     "text": [
      "                            OLS Regression Results                            \n",
      "==============================================================================\n",
      "Dep. Variable:                      p   R-squared:                       0.785\n",
      "Model:                            OLS   Adj. R-squared:                  0.784\n",
      "Method:                 Least Squares   F-statistic:                     2367.\n",
      "Date:                Sun, 29 Nov 2020   Prob (F-statistic):          7.24e-219\n",
      "Time:                        17:57:16   Log-Likelihood:                 2381.7\n",
      "No. Observations:                 652   AIC:                            -4759.\n",
      "Df Residuals:                     650   BIC:                            -4750.\n",
      "Df Model:                           1                                         \n",
      "Covariance Type:            nonrobust                                         \n",
      "==============================================================================\n",
      "                 coef    std err          t      P>|t|      [0.025      0.975]\n",
      "------------------------------------------------------------------------------\n",
      "const         -0.1948      0.025     -7.931      0.000      -0.243      -0.147\n",
      "x1             1.1949      0.025     48.657      0.000       1.147       1.243\n",
      "==============================================================================\n",
      "Omnibus:                      210.473   Durbin-Watson:                   1.565\n",
      "Prob(Omnibus):                  0.000   Jarque-Bera (JB):             4346.799\n",
      "Skew:                          -0.906   Prob(JB):                         0.00\n",
      "Kurtosis:                      15.519   Cond. No.                         200.\n",
      "==============================================================================\n",
      "\n",
      "Notes:\n",
      "[1] Standard Errors assume that the covariance matrix of the errors is correctly specified.\n"
     ]
    }
   ],
   "source": [
    "X_f = sm.add_constant(full_prediction)\n",
    "debOLS = sm.OLS(market_price, X_f)\n",
    "debres = debOLS.fit()\n",
    "print(debres.summary())\n",
    "#debres.save('apt_debt_market.pickle')"
   ]
  },
  {
   "cell_type": "markdown",
   "metadata": {},
   "source": [
    "#### Here we select between different debt market expected value functional forms"
   ]
  },
  {
   "cell_type": "code",
   "execution_count": 5,
   "metadata": {},
   "outputs": [
    {
     "name": "stdout",
     "output_type": "stream",
     "text": [
      "alpha_0: 0, alpha_1: 1\n"
     ]
    }
   ],
   "source": [
    "#alpha_0 = debres.params[0]; alpha_1 = debres.params[1]\n",
    "alpha_0 = 0; alpha_1 = 1\n",
    "print('alpha_0: {}, alpha_1: {}'.format(alpha_0, alpha_1))"
   ]
  },
  {
   "cell_type": "code",
   "execution_count": 6,
   "metadata": {},
   "outputs": [
    {
     "name": "stdout",
     "output_type": "stream",
     "text": [
      "                            OLS Regression Results                            \n",
      "==============================================================================\n",
      "Dep. Variable:                      y   R-squared:                       0.490\n",
      "Model:                            OLS   Adj. R-squared:                  0.488\n",
      "Method:                 Least Squares   F-statistic:                     311.3\n",
      "Date:                Sun, 29 Nov 2020   Prob (F-statistic):           1.78e-95\n",
      "Time:                        17:57:16   Log-Likelihood:                 2097.8\n",
      "No. Observations:                 651   AIC:                            -4190.\n",
      "Df Residuals:                     648   BIC:                            -4176.\n",
      "Df Model:                           2                                         \n",
      "Covariance Type:            nonrobust                                         \n",
      "==============================================================================\n",
      "                 coef    std err          t      P>|t|      [0.025      0.975]\n",
      "------------------------------------------------------------------------------\n",
      "const          1.0004      0.000   2640.351      0.000       1.000       1.001\n",
      "x1             0.6756      0.029     23.361      0.000       0.619       0.732\n",
      "x2          3.868e-06   1.42e-06      2.723      0.007    1.08e-06    6.66e-06\n",
      "==============================================================================\n",
      "Omnibus:                       73.830   Durbin-Watson:                   2.268\n",
      "Prob(Omnibus):                  0.000   Jarque-Bera (JB):              351.232\n",
      "Skew:                          -0.376   Prob(JB):                     5.38e-77\n",
      "Kurtosis:                       6.519   Cond. No.                     2.10e+04\n",
      "==============================================================================\n",
      "\n",
      "Notes:\n",
      "[1] Standard Errors assume that the covariance matrix of the errors is correctly specified.\n",
      "[2] The condition number is large, 2.1e+04. This might indicate that there are\n",
      "strong multicollinearity or other numerical problems.\n"
     ]
    }
   ],
   "source": [
    "# OLS Estimate of AR(1) + ETH Regression -- consistent but biased\n",
    "eth_p = eth_price.to_numpy().flatten()\n",
    "eth_p_mean = np.mean(eth_p)\n",
    "mar_p = market_price.to_numpy().flatten()\n",
    "mar_p_mean = np.mean(mar_p)\n",
    "X_p = np.stack((np.roll(mar_p,1)[1:] - mar_p_mean,eth_p[1:] - eth_p_mean))\n",
    "X_p = sm.add_constant(X_p.T)\n",
    "pOLS = sm.OLS(mar_p[1:], X_p, missing='drop')\n",
    "pres = pOLS.fit()\n",
    "print(pres.summary())\n",
    "# pres.save('apt_price_generation.pickle')"
   ]
  },
  {
   "cell_type": "code",
   "execution_count": 7,
   "metadata": {},
   "outputs": [
    {
     "name": "stdout",
     "output_type": "stream",
     "text": [
      "                            AutoReg Model Results                             \n",
      "==============================================================================\n",
      "Dep. Variable:                      y   No. Observations:                  652\n",
      "Model:                   AutoReg-X(1)   Log Likelihood                2097.776\n",
      "Method:               Conditional MLE   S.D. of innovations              0.010\n",
      "Date:                Sun, 29 Nov 2020   AIC                             -9.270\n",
      "Time:                        17:57:16   BIC                             -9.243\n",
      "Sample:                             1   HQIC                            -9.260\n",
      "                                  652                                         \n",
      "==============================================================================\n",
      "                 coef    std err          z      P>|z|      [0.025      0.975]\n",
      "------------------------------------------------------------------------------\n",
      "intercept  -1.724e-05      0.000     -0.046      0.964      -0.001       0.001\n",
      "y.L1           0.6756      0.029     23.415      0.000       0.619       0.732\n",
      "x1          3.868e-06   1.42e-06      2.729      0.006    1.09e-06    6.65e-06\n",
      "                                    Roots                                    \n",
      "=============================================================================\n",
      "                  Real          Imaginary           Modulus         Frequency\n",
      "-----------------------------------------------------------------------------\n",
      "AR.1            1.4801           +0.0000j            1.4801            0.0000\n",
      "-----------------------------------------------------------------------------\n"
     ]
    },
    {
     "name": "stderr",
     "output_type": "stream",
     "text": [
      "/Users/bscholtz/workspace/reflexer/venv/lib/python3.8/site-packages/statsmodels/tsa/ar_model.py:248: FutureWarning: The parameter names will change after 0.12 is released. Set old_names to False to use the new names now. Set old_names to True to use the old names. \n",
      "  warnings.warn(\n"
     ]
    }
   ],
   "source": [
    "# Maximum Likelihood Estimate of AR(1) + ETH Regression -- unbiased, poss. less efficient\n",
    "mar_p_zeroed = mar_p - mar_p_mean\n",
    "eth_p_zeroed = eth_p - eth_p_mean\n",
    "autoMod = AutoReg(mar_p_zeroed, 1, exog = eth_p_zeroed)\n",
    "autores = autoMod.fit()\n",
    "print(autores.summary())"
   ]
  },
  {
   "cell_type": "code",
   "execution_count": 8,
   "metadata": {},
   "outputs": [
    {
     "name": "stdout",
     "output_type": "stream",
     "text": [
      "beta_0: 1.0003953223600617, beta_1: 0.6756295152422528, beta_2: 3.86810578185312e-06\n"
     ]
    }
   ],
   "source": [
    "beta_0 = pres.params[0]; beta_1 = pres.params[1]; beta_2 = pres.params[2]\n",
    "print('beta_0: {}, beta_1: {}, beta_2: {}'.format(beta_0, beta_1, beta_2))"
   ]
  },
  {
   "cell_type": "code",
   "execution_count": 9,
   "metadata": {},
   "outputs": [
    {
     "name": "stdout",
     "output_type": "stream",
     "text": [
      "                            OLS Regression Results                            \n",
      "==============================================================================\n",
      "Dep. Variable:                      p   R-squared:                       0.328\n",
      "Model:                            OLS   Adj. R-squared:                  0.317\n",
      "Method:                 Least Squares   F-statistic:                     28.42\n",
      "Date:                Sun, 29 Nov 2020   Prob (F-statistic):           1.37e-48\n",
      "Time:                        17:57:16   Log-Likelihood:                 2010.8\n",
      "No. Observations:                 652   AIC:                            -3998.\n",
      "Df Residuals:                     640   BIC:                            -3944.\n",
      "Df Model:                          11                                         \n",
      "Covariance Type:            nonrobust                                         \n",
      "==============================================================================\n",
      "                 coef    std err          t      P>|t|      [0.025      0.975]\n",
      "------------------------------------------------------------------------------\n",
      "const          1.0083      0.002    652.412      0.000       1.005       1.011\n",
      "beta           0.8116      0.088      9.248      0.000       0.639       0.984\n",
      "Q           2.152e-09   1.39e-09      1.553      0.121   -5.68e-10    4.87e-09\n",
      "v_1         1.173e-07   4.51e-08      2.604      0.009    2.88e-08    2.06e-07\n",
      "v_2 + v_3   2.559e-08   6.08e-08      0.421      0.674   -9.37e-08    1.45e-07\n",
      "u_1        -1.961e-09   7.85e-10     -2.497      0.013    -3.5e-09   -4.19e-10\n",
      "u_2         7.174e-10   1.36e-09      0.529      0.597   -1.94e-09    3.38e-09\n",
      "u_3           2.9e-09   1.15e-09      2.511      0.012    6.32e-10    5.17e-09\n",
      "w_1        -3.556e-06   4.15e-07     -8.561      0.000   -4.37e-06   -2.74e-06\n",
      "w_2        -4.194e-08   5.65e-08     -0.743      0.458   -1.53e-07    6.89e-08\n",
      "w_3         9.066e-08   1.95e-07      0.466      0.641   -2.91e-07    4.73e-07\n",
      "D          -2.476e-10   4.41e-11     -5.610      0.000   -3.34e-10   -1.61e-10\n",
      "==============================================================================\n",
      "Omnibus:                       27.175   Durbin-Watson:                   0.815\n",
      "Prob(Omnibus):                  0.000   Jarque-Bera (JB):               74.123\n",
      "Skew:                          -0.040   Prob(JB):                     8.02e-17\n",
      "Kurtosis:                       4.650   Cond. No.                     1.29e+10\n",
      "==============================================================================\n",
      "\n",
      "Notes:\n",
      "[1] Standard Errors assume that the covariance matrix of the errors is correctly specified.\n",
      "[2] The condition number is large, 1.29e+10. This might indicate that there are\n",
      "strong multicollinearity or other numerical problems.\n"
     ]
    }
   ],
   "source": [
    "# Prediction of market price from CDP factors as an OLS regression\n",
    "X_d = sm.add_constant(indep_vars)\n",
    "dpOLS = sm.OLS(market_price, X_d)\n",
    "dpres = dpOLS.fit()\n",
    "print(dpres.summary())\n",
    "#dpres.save('debt_market_OLS_model.pickle')"
   ]
  },
  {
   "cell_type": "markdown",
   "metadata": {},
   "source": [
    "23.11: Added secondary market function internally rather than external call"
   ]
  },
  {
   "cell_type": "code",
   "execution_count": 10,
   "metadata": {},
   "outputs": [],
   "source": [
    "# Secondary market function\n",
    "# Zero-intelligence market-clearing price: \n",
    "# cf. Gode & Sunder (JPE v 101 n 1, 1993)\n",
    "order_book = np.array([0,0])\n",
    "bidvars = ['u_2']\n",
    "askvars = ['u_1']\n",
    "bidindex = [features.index(i) for i in bidvars]\n",
    "askindex = [features.index(i) for i in askvars]\n",
    "def get_market_price(expected_price, previous_price, feature):\n",
    "    global order_book\n",
    "    order_book = order_book + np.array([np.sum(feature[:,bidindex][0]), \n",
    "                    np.sum(feature[:,askindex][0])]\n",
    "    )\n",
    "    clearing_price = np.random.uniform(\n",
    "                    min(previous_price, expected_price), \n",
    "                    max(previous_price, expected_price)\n",
    "    )\n",
    "    book_end = order_book[0] - order_book[1]\n",
    "    \n",
    "    if book_end < 0: # excess supply\n",
    "        order_book = np.array([0, book_end])\n",
    "    else: # excess demand\n",
    "        order_book = np.array([book_end, 0])\n",
    "    \n",
    "    return clearing_price"
   ]
  },
  {
   "cell_type": "code",
   "execution_count": 11,
   "metadata": {},
   "outputs": [],
   "source": [
    "# ML debt model root function\n",
    "def G(x, to_opt, data, constant):\n",
    "    for i,y in enumerate(x):\n",
    "        data[:,to_opt[i]] = y\n",
    "    err = model.predict(data)[0] - constant\n",
    "    return err"
   ]
  },
  {
   "cell_type": "code",
   "execution_count": 12,
   "metadata": {},
   "outputs": [],
   "source": [
    "# OLS debt model root function\n",
    "def G_OLS(x, to_opt, data, constant):\n",
    "    for i,y in enumerate(x):\n",
    "        #print(x)\n",
    "        data[:,to_opt[i]] = y\n",
    "    err = dpres.predict(data)[0] - constant\n",
    "    print(err)\n",
    "    return err"
   ]
  },
  {
   "cell_type": "code",
   "execution_count": 13,
   "metadata": {},
   "outputs": [],
   "source": [
    "# Decide whether to use 1) the ML root function or the OLS function, and\n",
    "# 2) historical market price data or endogenous data\n",
    "use_ML_model = True\n",
    "use_historical_price = False"
   ]
  },
  {
   "cell_type": "code",
   "execution_count": 14,
   "metadata": {},
   "outputs": [],
   "source": [
    "# Decide upon external handler for passing/receiving values to/from CDP\n",
    "handle_external_feature = False\n",
    "handle_external_price = False"
   ]
  },
  {
   "cell_type": "code",
   "execution_count": 15,
   "metadata": {},
   "outputs": [],
   "source": [
    "# Select ML or OLS root function\n",
    "if use_ML_model:\n",
    "        func = G\n",
    "else:\n",
    "        func = G_OLS"
   ]
  },
  {
   "cell_type": "markdown",
   "metadata": {},
   "source": [
    "If ETH price falls, then (u_2, v_1) = (wipe, lock). Start with wipes, rebalance by paying off those obligations that are below liquidation ratio. Position order is always youngest to oldest.\n",
    "1. If run out of positions, then excess wipe? Excess RAI left over => buffer up different positions until wipe runs out, up to data-derived buffer above liquidation ratio (from data, 3x vs. 1.5 min). \n",
    "2. If run out of wipe, then go to locks: rebalance by adding collateral\n",
    "3. If run out of positions, then open new positions with excess lock\n",
    "\n",
    "If ETH price rises, then (u_1, v_2+v_3) = (draw, free). Start with frees, rebalance by taking out excess collateral until back to liquidation ratio + buffer. (No liquidation, no 'bites')\n",
    "1. If run out of positions, then excess free. Distribute over all CDPs?\n",
    "2. If run out of frees, then go to draws. Rebalance by minting new RAI and reducing to liquidation ratio + buffer\n",
    "3. If run out of positions, then excess draws _could_ be applied to new positions opened with locks\n",
    "\n",
    "Unified approach: always calculate (u_1, u_2, v_1, v_2+v_3) regardless of ETH price"
   ]
  },
  {
   "cell_type": "code",
   "execution_count": 16,
   "metadata": {},
   "outputs": [
    {
     "name": "stdout",
     "output_type": "stream",
     "text": [
      "iteration:  1\n",
      "[5.00000000e-03 2.42566200e+03 2.52666200e+03 1.01000000e+02\n",
      " 5.95342027e+05 1.00000000e+01 3.59438400e+01 0.00000000e+00\n",
      " 6.27647566e-06 2.25600637e-05 5.95296083e+05]\n",
      "x0:  [  10.    2526.662]\n",
      "optvars: ['u_2', 'v_1']\n",
      "expected price:  1.0043275924442232\n",
      "optindex:  [5, 2]\n",
      "feature [[  10.    2526.662]]\n"
     ]
    },
    {
     "name": "stderr",
     "output_type": "stream",
     "text": [
      "/Users/bscholtz/workspace/reflexer/venv/lib/python3.8/site-packages/scipy/optimize/zeros.py:445: RuntimeWarning: RMS of 0.00863015 reached\n",
      "  warnings.warn(\n"
     ]
    },
    {
     "name": "stdout",
     "output_type": "stream",
     "text": [
      "xstar:  [  10.00003756 2526.67063007]\n",
      "iteration:  2\n",
      "[5.00000000e-03 2.42566200e+03 2.52666200e+03 1.01000000e+02\n",
      " 5.95342027e+05 1.00000000e+01 3.59438400e+01 0.00000000e+00\n",
      " 6.27647566e-06 2.25600637e-05 5.95296083e+05]\n",
      "x0:  [5.95342027e+05 1.01000000e+02]\n",
      "optvars: ['u_1', 'v_2 + v_3']\n",
      "expected price:  0.9998590510655921\n",
      "optindex:  [4, 3]\n",
      "feature [[5.95342027e+05 1.01000000e+02]]\n"
     ]
    },
    {
     "name": "stderr",
     "output_type": "stream",
     "text": [
      "/Users/bscholtz/workspace/reflexer/venv/lib/python3.8/site-packages/scipy/optimize/zeros.py:445: RuntimeWarning: RMS of 2.03265 reached\n",
      "  warnings.warn(\n"
     ]
    },
    {
     "name": "stdout",
     "output_type": "stream",
     "text": [
      "xstar:  [5.95344060e+05 1.01000348e+02]\n",
      "iteration:  3\n",
      "[5.00000000e-03 2.42566200e+03 2.52666200e+03 1.01000000e+02\n",
      " 5.95342027e+05 1.00000000e+01 3.59438400e+01 0.00000000e+00\n",
      " 6.27647566e-06 2.25600637e-05 5.95296083e+05]\n",
      "x0:  [  10.    2526.662]\n",
      "optvars: ['u_2', 'v_1']\n",
      "expected price:  0.9985139353047701\n",
      "optindex:  [5, 2]\n",
      "feature [[  10.    2526.662]]\n"
     ]
    },
    {
     "name": "stderr",
     "output_type": "stream",
     "text": [
      "/Users/bscholtz/workspace/reflexer/venv/lib/python3.8/site-packages/scipy/optimize/zeros.py:445: RuntimeWarning: RMS of 0.00863015 reached\n",
      "  warnings.warn(\n"
     ]
    },
    {
     "name": "stdout",
     "output_type": "stream",
     "text": [
      "xstar:  [  10.00003756 2526.67063007]\n",
      "iteration:  4\n",
      "[5.00000000e-03 2.42566200e+03 2.52666200e+03 1.01000000e+02\n",
      " 5.95342027e+05 1.00000000e+01 3.59438400e+01 0.00000000e+00\n",
      " 6.27647566e-06 2.25600637e-05 5.95296083e+05]\n",
      "x0:  [5.95342027e+05 1.01000000e+02]\n",
      "optvars: ['u_1', 'v_2 + v_3']\n",
      "expected price:  0.9979740127977434\n",
      "optindex:  [4, 3]\n",
      "feature [[5.95342027e+05 1.01000000e+02]]\n"
     ]
    },
    {
     "name": "stderr",
     "output_type": "stream",
     "text": [
      "/Users/bscholtz/workspace/reflexer/venv/lib/python3.8/site-packages/scipy/optimize/zeros.py:445: RuntimeWarning: RMS of 2.03265 reached\n",
      "  warnings.warn(\n"
     ]
    },
    {
     "name": "stdout",
     "output_type": "stream",
     "text": [
      "xstar:  [5.95344060e+05 1.01000348e+02]\n",
      "iteration:  5\n",
      "[5.00000000e-03 2.42566200e+03 2.52666200e+03 1.01000000e+02\n",
      " 5.95342027e+05 1.00000000e+01 3.59438400e+01 0.00000000e+00\n",
      " 6.27647566e-06 2.25600637e-05 5.95296083e+05]\n",
      "x0:  [  10.    2526.662]\n",
      "optvars: ['u_2', 'v_1']\n",
      "expected price:  0.9983705847534752\n",
      "optindex:  [5, 2]\n",
      "feature [[  10.    2526.662]]\n"
     ]
    },
    {
     "name": "stderr",
     "output_type": "stream",
     "text": [
      "/Users/bscholtz/workspace/reflexer/venv/lib/python3.8/site-packages/scipy/optimize/zeros.py:445: RuntimeWarning: RMS of 0.00863015 reached\n",
      "  warnings.warn(\n"
     ]
    },
    {
     "name": "stdout",
     "output_type": "stream",
     "text": [
      "xstar:  [  10.00003756 2526.67063007]\n",
      "iteration:  6\n",
      "[5.00000000e-03 2.42566200e+03 2.52666200e+03 1.01000000e+02\n",
      " 5.95342027e+05 1.00000000e+01 3.59438400e+01 0.00000000e+00\n",
      " 6.27647566e-06 2.25600637e-05 5.95296083e+05]\n",
      "x0:  [5.95342027e+05 1.01000000e+02]\n",
      "optvars: ['u_1', 'v_2 + v_3']\n",
      "expected price:  0.9983424851551349\n",
      "optindex:  [4, 3]\n",
      "feature [[5.95342027e+05 1.01000000e+02]]\n"
     ]
    },
    {
     "name": "stderr",
     "output_type": "stream",
     "text": [
      "ERROR:root:Internal Python error in the inspect module.\n",
      "Below is the traceback from this internal error.\n",
      "\n",
      "INFO:root:\n",
      "Unfortunately, your original traceback can not be constructed.\n",
      "\n"
     ]
    },
    {
     "name": "stdout",
     "output_type": "stream",
     "text": [
      "Traceback (most recent call last):\n",
      "  File \"/Users/bscholtz/workspace/reflexer/venv/lib/python3.8/site-packages/IPython/core/interactiveshell.py\", line 3417, in run_code\n",
      "    exec(code_obj, self.user_global_ns, self.user_ns)\n",
      "  File \"<ipython-input-16-809d6b3cba6d>\", line 62, in <module>\n",
      "    x_star = newton(func, x0, args=(optindex, feature_0, p_expected))\n",
      "  File \"/Users/bscholtz/workspace/reflexer/venv/lib/python3.8/site-packages/scipy/optimize/zeros.py\", line 270, in newton\n",
      "    return _array_newton(func, x0, fprime, args, tol, maxiter, fprime2,\n",
      "  File \"/Users/bscholtz/workspace/reflexer/venv/lib/python3.8/site-packages/scipy/optimize/zeros.py\", line 409, in _array_newton\n",
      "    q0 = np.asarray(func(p, *args))\n",
      "  File \"<ipython-input-11-f8f382f89211>\", line 5, in G\n",
      "    err = model.predict(data)[0] - constant\n",
      "  File \"/Users/bscholtz/workspace/reflexer/venv/lib/python3.8/site-packages/autosklearn/estimators.py\", line 745, in predict\n",
      "    return super().predict(X, batch_size=batch_size, n_jobs=n_jobs)\n",
      "  File \"/Users/bscholtz/workspace/reflexer/venv/lib/python3.8/site-packages/autosklearn/estimators.py\", line 445, in predict\n",
      "    return self.automl_.predict(X, batch_size=batch_size, n_jobs=n_jobs)\n",
      "  File \"/Users/bscholtz/workspace/reflexer/venv/lib/python3.8/site-packages/autosklearn/automl.py\", line 807, in predict\n",
      "    all_predictions = joblib.Parallel(n_jobs=n_jobs)(\n",
      "  File \"/Users/bscholtz/workspace/reflexer/venv/lib/python3.8/site-packages/joblib/parallel.py\", line 1051, in __call__\n",
      "    while self.dispatch_one_batch(iterator):\n",
      "  File \"/Users/bscholtz/workspace/reflexer/venv/lib/python3.8/site-packages/joblib/parallel.py\", line 866, in dispatch_one_batch\n",
      "    self._dispatch(tasks)\n",
      "  File \"/Users/bscholtz/workspace/reflexer/venv/lib/python3.8/site-packages/joblib/parallel.py\", line 784, in _dispatch\n",
      "    job = self._backend.apply_async(batch, callback=cb)\n",
      "  File \"/Users/bscholtz/workspace/reflexer/venv/lib/python3.8/site-packages/joblib/_parallel_backends.py\", line 208, in apply_async\n",
      "    result = ImmediateResult(func)\n",
      "  File \"/Users/bscholtz/workspace/reflexer/venv/lib/python3.8/site-packages/joblib/_parallel_backends.py\", line 572, in __init__\n",
      "    self.results = batch()\n",
      "  File \"/Users/bscholtz/workspace/reflexer/venv/lib/python3.8/site-packages/joblib/parallel.py\", line 262, in __call__\n",
      "    return [func(*args, **kwargs)\n",
      "  File \"/Users/bscholtz/workspace/reflexer/venv/lib/python3.8/site-packages/joblib/parallel.py\", line 262, in <listcomp>\n",
      "    return [func(*args, **kwargs)\n",
      "  File \"/Users/bscholtz/workspace/reflexer/venv/lib/python3.8/site-packages/autosklearn/automl.py\", line 73, in _model_predict\n",
      "    prediction = model.predict(X_)\n",
      "  File \"/Users/bscholtz/workspace/reflexer/venv/lib/python3.8/site-packages/sklearn/ensemble/_voting.py\", line 426, in predict\n",
      "    return np.average(self._predict(X), axis=1,\n",
      "  File \"/Users/bscholtz/workspace/reflexer/venv/lib/python3.8/site-packages/sklearn/ensemble/_voting.py\", line 52, in _predict\n",
      "    return np.asarray([est.predict(X) for est in self.estimators_]).T\n",
      "  File \"/Users/bscholtz/workspace/reflexer/venv/lib/python3.8/site-packages/sklearn/ensemble/_voting.py\", line 52, in <listcomp>\n",
      "    return np.asarray([est.predict(X) for est in self.estimators_]).T\n",
      "  File \"/Users/bscholtz/workspace/reflexer/venv/lib/python3.8/site-packages/autosklearn/pipeline/regression.py\", line 91, in predict\n",
      "    y = super().predict(X, batch_size=batch_size)\n",
      "  File \"/Users/bscholtz/workspace/reflexer/venv/lib/python3.8/site-packages/autosklearn/pipeline/base.py\", line 149, in predict\n",
      "    return super().predict(X).astype(self._output_dtype)\n",
      "  File \"/Users/bscholtz/workspace/reflexer/venv/lib/python3.8/site-packages/sklearn/utils/metaestimators.py\", line 116, in <lambda>\n",
      "    out = lambda *args, **kwargs: self.fn(obj, *args, **kwargs)\n",
      "  File \"/Users/bscholtz/workspace/reflexer/venv/lib/python3.8/site-packages/sklearn/pipeline.py\", line 420, in predict\n",
      "    return self.steps[-1][-1].predict(Xt, **predict_params)\n",
      "  File \"/Users/bscholtz/workspace/reflexer/venv/lib/python3.8/site-packages/autosklearn/pipeline/components/base.py\", line 432, in predict\n",
      "    return self.choice.predict(X)\n",
      "  File \"/Users/bscholtz/workspace/reflexer/venv/lib/python3.8/site-packages/autosklearn/pipeline/components/regression/adaboost.py\", line 41, in predict\n",
      "    return self.estimator.predict(X)\n",
      "  File \"/Users/bscholtz/workspace/reflexer/venv/lib/python3.8/site-packages/sklearn/ensemble/_weight_boosting.py\", line 1131, in predict\n",
      "    return self._get_median_predict(X, len(self.estimators_))\n",
      "  File \"/Users/bscholtz/workspace/reflexer/venv/lib/python3.8/site-packages/sklearn/ensemble/_weight_boosting.py\", line 1095, in _get_median_predict\n",
      "    predictions = np.array([\n",
      "  File \"/Users/bscholtz/workspace/reflexer/venv/lib/python3.8/site-packages/sklearn/ensemble/_weight_boosting.py\", line 1096, in <listcomp>\n",
      "    est.predict(X) for est in self.estimators_[:limit]]).T\n",
      "  File \"/Users/bscholtz/workspace/reflexer/venv/lib/python3.8/site-packages/sklearn/tree/_classes.py\", line 419, in predict\n",
      "    X = self._validate_X_predict(X, check_input)\n",
      "  File \"/Users/bscholtz/workspace/reflexer/venv/lib/python3.8/site-packages/sklearn/tree/_classes.py\", line 380, in _validate_X_predict\n",
      "    X = check_array(X, dtype=DTYPE, accept_sparse=\"csr\")\n",
      "  File \"/Users/bscholtz/workspace/reflexer/venv/lib/python3.8/site-packages/sklearn/utils/validation.py\", line 531, in check_array\n",
      "    array = np.asarray(array, order=order, dtype=dtype)\n",
      "  File \"/Users/bscholtz/workspace/reflexer/venv/lib/python3.8/site-packages/numpy/core/_asarray.py\", line 83, in asarray\n",
      "    return array(a, dtype, copy=False, order=order)\n",
      "KeyboardInterrupt\n",
      "\n",
      "During handling of the above exception, another exception occurred:\n",
      "\n",
      "Traceback (most recent call last):\n",
      "  File \"/Users/bscholtz/workspace/reflexer/venv/lib/python3.8/site-packages/IPython/core/interactiveshell.py\", line 2044, in showtraceback\n",
      "    stb = value._render_traceback_()\n",
      "AttributeError: 'KeyboardInterrupt' object has no attribute '_render_traceback_'\n",
      "\n",
      "During handling of the above exception, another exception occurred:\n",
      "\n",
      "Traceback (most recent call last):\n",
      "  File \"/Users/bscholtz/workspace/reflexer/venv/lib/python3.8/site-packages/IPython/core/ultratb.py\", line 1169, in get_records\n",
      "    return _fixed_getinnerframes(etb, number_of_lines_of_context, tb_offset)\n",
      "  File \"/Users/bscholtz/workspace/reflexer/venv/lib/python3.8/site-packages/IPython/core/ultratb.py\", line 316, in wrapped\n",
      "    return f(*args, **kwargs)\n",
      "  File \"/Users/bscholtz/workspace/reflexer/venv/lib/python3.8/site-packages/IPython/core/ultratb.py\", line 350, in _fixed_getinnerframes\n",
      "    records = fix_frame_records_filenames(inspect.getinnerframes(etb, context))\n",
      "  File \"/usr/local/Cellar/python@3.8/3.8.6/Frameworks/Python.framework/Versions/3.8/lib/python3.8/inspect.py\", line 1503, in getinnerframes\n",
      "    frameinfo = (tb.tb_frame,) + getframeinfo(tb, context)\n",
      "  File \"/usr/local/Cellar/python@3.8/3.8.6/Frameworks/Python.framework/Versions/3.8/lib/python3.8/inspect.py\", line 1461, in getframeinfo\n",
      "    filename = getsourcefile(frame) or getfile(frame)\n",
      "  File \"/usr/local/Cellar/python@3.8/3.8.6/Frameworks/Python.framework/Versions/3.8/lib/python3.8/inspect.py\", line 708, in getsourcefile\n",
      "    if getattr(getmodule(object, filename), '__loader__', None) is not None:\n",
      "  File \"/usr/local/Cellar/python@3.8/3.8.6/Frameworks/Python.framework/Versions/3.8/lib/python3.8/inspect.py\", line 754, in getmodule\n",
      "    os.path.realpath(f)] = module.__name__\n",
      "  File \"/usr/local/Cellar/python@3.8/3.8.6/bin/../Frameworks/Python.framework/Versions/3.8/lib/python3.8/posixpath.py\", line 391, in realpath\n",
      "    path, ok = _joinrealpath(filename[:0], filename, {})\n",
      "  File \"/usr/local/Cellar/python@3.8/3.8.6/bin/../Frameworks/Python.framework/Versions/3.8/lib/python3.8/posixpath.py\", line 425, in _joinrealpath\n",
      "    if not islink(newpath):\n",
      "  File \"/usr/local/Cellar/python@3.8/3.8.6/bin/../Frameworks/Python.framework/Versions/3.8/lib/python3.8/posixpath.py\", line 167, in islink\n",
      "    st = os.lstat(path)\n",
      "KeyboardInterrupt\n"
     ]
    },
    {
     "ename": "TypeError",
     "evalue": "object of type 'NoneType' has no len()",
     "output_type": "error",
     "traceback": [
      "\u001b[0;31m---------------------------------------------------------------------------\u001b[0m",
      "\u001b[0;31mKeyboardInterrupt\u001b[0m                         Traceback (most recent call last)",
      "    \u001b[0;31m[... skipping hidden 1 frame]\u001b[0m\n",
      "\u001b[0;32m<ipython-input-16-809d6b3cba6d>\u001b[0m in \u001b[0;36m<module>\u001b[0;34m\u001b[0m\n\u001b[1;32m     61\u001b[0m     \u001b[0;32mtry\u001b[0m\u001b[0;34m:\u001b[0m\u001b[0;34m\u001b[0m\u001b[0;34m\u001b[0m\u001b[0m\n\u001b[0;32m---> 62\u001b[0;31m         \u001b[0mx_star\u001b[0m \u001b[0;34m=\u001b[0m \u001b[0mnewton\u001b[0m\u001b[0;34m(\u001b[0m\u001b[0mfunc\u001b[0m\u001b[0;34m,\u001b[0m \u001b[0mx0\u001b[0m\u001b[0;34m,\u001b[0m \u001b[0margs\u001b[0m\u001b[0;34m=\u001b[0m\u001b[0;34m(\u001b[0m\u001b[0moptindex\u001b[0m\u001b[0;34m,\u001b[0m \u001b[0mfeature_0\u001b[0m\u001b[0;34m,\u001b[0m \u001b[0mp_expected\u001b[0m\u001b[0;34m)\u001b[0m\u001b[0;34m)\u001b[0m\u001b[0;34m\u001b[0m\u001b[0;34m\u001b[0m\u001b[0m\n\u001b[0m\u001b[1;32m     63\u001b[0m         \u001b[0mprint\u001b[0m\u001b[0;34m(\u001b[0m\u001b[0;34m'xstar: '\u001b[0m \u001b[0;34m,\u001b[0m\u001b[0mx_star\u001b[0m\u001b[0;34m)\u001b[0m\u001b[0;34m\u001b[0m\u001b[0;34m\u001b[0m\u001b[0m\n",
      "\u001b[0;32m~/workspace/reflexer/venv/lib/python3.8/site-packages/scipy/optimize/zeros.py\u001b[0m in \u001b[0;36mnewton\u001b[0;34m(func, x0, fprime, args, tol, maxiter, fprime2, x1, rtol, full_output, disp)\u001b[0m\n\u001b[1;32m    269\u001b[0m     \u001b[0;32mif\u001b[0m \u001b[0mnp\u001b[0m\u001b[0;34m.\u001b[0m\u001b[0msize\u001b[0m\u001b[0;34m(\u001b[0m\u001b[0mx0\u001b[0m\u001b[0;34m)\u001b[0m \u001b[0;34m>\u001b[0m \u001b[0;36m1\u001b[0m\u001b[0;34m:\u001b[0m\u001b[0;34m\u001b[0m\u001b[0;34m\u001b[0m\u001b[0m\n\u001b[0;32m--> 270\u001b[0;31m         return _array_newton(func, x0, fprime, args, tol, maxiter, fprime2,\n\u001b[0m\u001b[1;32m    271\u001b[0m                              full_output)\n",
      "\u001b[0;32m~/workspace/reflexer/venv/lib/python3.8/site-packages/scipy/optimize/zeros.py\u001b[0m in \u001b[0;36m_array_newton\u001b[0;34m(func, x0, fprime, args, tol, maxiter, fprime2, full_output)\u001b[0m\n\u001b[1;32m    408\u001b[0m         \u001b[0mp1\u001b[0m \u001b[0;34m=\u001b[0m \u001b[0mp\u001b[0m \u001b[0;34m*\u001b[0m \u001b[0;34m(\u001b[0m\u001b[0;36m1\u001b[0m \u001b[0;34m+\u001b[0m \u001b[0mdx\u001b[0m\u001b[0;34m)\u001b[0m \u001b[0;34m+\u001b[0m \u001b[0mnp\u001b[0m\u001b[0;34m.\u001b[0m\u001b[0mwhere\u001b[0m\u001b[0;34m(\u001b[0m\u001b[0mp\u001b[0m \u001b[0;34m>=\u001b[0m \u001b[0;36m0\u001b[0m\u001b[0;34m,\u001b[0m \u001b[0mdx\u001b[0m\u001b[0;34m,\u001b[0m \u001b[0;34m-\u001b[0m\u001b[0mdx\u001b[0m\u001b[0;34m)\u001b[0m\u001b[0;34m\u001b[0m\u001b[0;34m\u001b[0m\u001b[0m\n\u001b[0;32m--> 409\u001b[0;31m         \u001b[0mq0\u001b[0m \u001b[0;34m=\u001b[0m \u001b[0mnp\u001b[0m\u001b[0;34m.\u001b[0m\u001b[0masarray\u001b[0m\u001b[0;34m(\u001b[0m\u001b[0mfunc\u001b[0m\u001b[0;34m(\u001b[0m\u001b[0mp\u001b[0m\u001b[0;34m,\u001b[0m \u001b[0;34m*\u001b[0m\u001b[0margs\u001b[0m\u001b[0;34m)\u001b[0m\u001b[0;34m)\u001b[0m\u001b[0;34m\u001b[0m\u001b[0;34m\u001b[0m\u001b[0m\n\u001b[0m\u001b[1;32m    410\u001b[0m         \u001b[0mq1\u001b[0m \u001b[0;34m=\u001b[0m \u001b[0mnp\u001b[0m\u001b[0;34m.\u001b[0m\u001b[0masarray\u001b[0m\u001b[0;34m(\u001b[0m\u001b[0mfunc\u001b[0m\u001b[0;34m(\u001b[0m\u001b[0mp1\u001b[0m\u001b[0;34m,\u001b[0m \u001b[0;34m*\u001b[0m\u001b[0margs\u001b[0m\u001b[0;34m)\u001b[0m\u001b[0;34m)\u001b[0m\u001b[0;34m\u001b[0m\u001b[0;34m\u001b[0m\u001b[0m\n",
      "\u001b[0;32m<ipython-input-11-f8f382f89211>\u001b[0m in \u001b[0;36mG\u001b[0;34m(x, to_opt, data, constant)\u001b[0m\n\u001b[1;32m      4\u001b[0m         \u001b[0mdata\u001b[0m\u001b[0;34m[\u001b[0m\u001b[0;34m:\u001b[0m\u001b[0;34m,\u001b[0m\u001b[0mto_opt\u001b[0m\u001b[0;34m[\u001b[0m\u001b[0mi\u001b[0m\u001b[0;34m]\u001b[0m\u001b[0;34m]\u001b[0m \u001b[0;34m=\u001b[0m \u001b[0my\u001b[0m\u001b[0;34m\u001b[0m\u001b[0;34m\u001b[0m\u001b[0m\n\u001b[0;32m----> 5\u001b[0;31m     \u001b[0merr\u001b[0m \u001b[0;34m=\u001b[0m \u001b[0mmodel\u001b[0m\u001b[0;34m.\u001b[0m\u001b[0mpredict\u001b[0m\u001b[0;34m(\u001b[0m\u001b[0mdata\u001b[0m\u001b[0;34m)\u001b[0m\u001b[0;34m[\u001b[0m\u001b[0;36m0\u001b[0m\u001b[0;34m]\u001b[0m \u001b[0;34m-\u001b[0m \u001b[0mconstant\u001b[0m\u001b[0;34m\u001b[0m\u001b[0;34m\u001b[0m\u001b[0m\n\u001b[0m\u001b[1;32m      6\u001b[0m     \u001b[0;32mreturn\u001b[0m \u001b[0merr\u001b[0m\u001b[0;34m\u001b[0m\u001b[0;34m\u001b[0m\u001b[0m\n",
      "\u001b[0;32m~/workspace/reflexer/venv/lib/python3.8/site-packages/autosklearn/estimators.py\u001b[0m in \u001b[0;36mpredict\u001b[0;34m(self, X, batch_size, n_jobs)\u001b[0m\n\u001b[1;32m    744\u001b[0m         \"\"\"\n\u001b[0;32m--> 745\u001b[0;31m         \u001b[0;32mreturn\u001b[0m \u001b[0msuper\u001b[0m\u001b[0;34m(\u001b[0m\u001b[0;34m)\u001b[0m\u001b[0;34m.\u001b[0m\u001b[0mpredict\u001b[0m\u001b[0;34m(\u001b[0m\u001b[0mX\u001b[0m\u001b[0;34m,\u001b[0m \u001b[0mbatch_size\u001b[0m\u001b[0;34m=\u001b[0m\u001b[0mbatch_size\u001b[0m\u001b[0;34m,\u001b[0m \u001b[0mn_jobs\u001b[0m\u001b[0;34m=\u001b[0m\u001b[0mn_jobs\u001b[0m\u001b[0;34m)\u001b[0m\u001b[0;34m\u001b[0m\u001b[0;34m\u001b[0m\u001b[0m\n\u001b[0m\u001b[1;32m    746\u001b[0m \u001b[0;34m\u001b[0m\u001b[0m\n",
      "\u001b[0;32m~/workspace/reflexer/venv/lib/python3.8/site-packages/autosklearn/estimators.py\u001b[0m in \u001b[0;36mpredict\u001b[0;34m(self, X, batch_size, n_jobs)\u001b[0m\n\u001b[1;32m    444\u001b[0m     \u001b[0;32mdef\u001b[0m \u001b[0mpredict\u001b[0m\u001b[0;34m(\u001b[0m\u001b[0mself\u001b[0m\u001b[0;34m,\u001b[0m \u001b[0mX\u001b[0m\u001b[0;34m,\u001b[0m \u001b[0mbatch_size\u001b[0m\u001b[0;34m=\u001b[0m\u001b[0;32mNone\u001b[0m\u001b[0;34m,\u001b[0m \u001b[0mn_jobs\u001b[0m\u001b[0;34m=\u001b[0m\u001b[0;36m1\u001b[0m\u001b[0;34m)\u001b[0m\u001b[0;34m:\u001b[0m\u001b[0;34m\u001b[0m\u001b[0;34m\u001b[0m\u001b[0m\n\u001b[0;32m--> 445\u001b[0;31m         \u001b[0;32mreturn\u001b[0m \u001b[0mself\u001b[0m\u001b[0;34m.\u001b[0m\u001b[0mautoml_\u001b[0m\u001b[0;34m.\u001b[0m\u001b[0mpredict\u001b[0m\u001b[0;34m(\u001b[0m\u001b[0mX\u001b[0m\u001b[0;34m,\u001b[0m \u001b[0mbatch_size\u001b[0m\u001b[0;34m=\u001b[0m\u001b[0mbatch_size\u001b[0m\u001b[0;34m,\u001b[0m \u001b[0mn_jobs\u001b[0m\u001b[0;34m=\u001b[0m\u001b[0mn_jobs\u001b[0m\u001b[0;34m)\u001b[0m\u001b[0;34m\u001b[0m\u001b[0;34m\u001b[0m\u001b[0m\n\u001b[0m\u001b[1;32m    446\u001b[0m \u001b[0;34m\u001b[0m\u001b[0m\n",
      "\u001b[0;32m~/workspace/reflexer/venv/lib/python3.8/site-packages/autosklearn/automl.py\u001b[0m in \u001b[0;36mpredict\u001b[0;34m(self, X, batch_size, n_jobs)\u001b[0m\n\u001b[1;32m    806\u001b[0m \u001b[0;34m\u001b[0m\u001b[0m\n\u001b[0;32m--> 807\u001b[0;31m         all_predictions = joblib.Parallel(n_jobs=n_jobs)(\n\u001b[0m\u001b[1;32m    808\u001b[0m             joblib.delayed(_model_predict)(\n",
      "\u001b[0;32m~/workspace/reflexer/venv/lib/python3.8/site-packages/joblib/parallel.py\u001b[0m in \u001b[0;36m__call__\u001b[0;34m(self, iterable)\u001b[0m\n\u001b[1;32m   1050\u001b[0m \u001b[0;34m\u001b[0m\u001b[0m\n\u001b[0;32m-> 1051\u001b[0;31m             \u001b[0;32mwhile\u001b[0m \u001b[0mself\u001b[0m\u001b[0;34m.\u001b[0m\u001b[0mdispatch_one_batch\u001b[0m\u001b[0;34m(\u001b[0m\u001b[0miterator\u001b[0m\u001b[0;34m)\u001b[0m\u001b[0;34m:\u001b[0m\u001b[0;34m\u001b[0m\u001b[0;34m\u001b[0m\u001b[0m\n\u001b[0m\u001b[1;32m   1052\u001b[0m                 \u001b[0;32mpass\u001b[0m\u001b[0;34m\u001b[0m\u001b[0;34m\u001b[0m\u001b[0m\n",
      "\u001b[0;32m~/workspace/reflexer/venv/lib/python3.8/site-packages/joblib/parallel.py\u001b[0m in \u001b[0;36mdispatch_one_batch\u001b[0;34m(self, iterator)\u001b[0m\n\u001b[1;32m    865\u001b[0m             \u001b[0;32melse\u001b[0m\u001b[0;34m:\u001b[0m\u001b[0;34m\u001b[0m\u001b[0;34m\u001b[0m\u001b[0m\n\u001b[0;32m--> 866\u001b[0;31m                 \u001b[0mself\u001b[0m\u001b[0;34m.\u001b[0m\u001b[0m_dispatch\u001b[0m\u001b[0;34m(\u001b[0m\u001b[0mtasks\u001b[0m\u001b[0;34m)\u001b[0m\u001b[0;34m\u001b[0m\u001b[0;34m\u001b[0m\u001b[0m\n\u001b[0m\u001b[1;32m    867\u001b[0m                 \u001b[0;32mreturn\u001b[0m \u001b[0;32mTrue\u001b[0m\u001b[0;34m\u001b[0m\u001b[0;34m\u001b[0m\u001b[0m\n",
      "\u001b[0;32m~/workspace/reflexer/venv/lib/python3.8/site-packages/joblib/parallel.py\u001b[0m in \u001b[0;36m_dispatch\u001b[0;34m(self, batch)\u001b[0m\n\u001b[1;32m    783\u001b[0m             \u001b[0mjob_idx\u001b[0m \u001b[0;34m=\u001b[0m \u001b[0mlen\u001b[0m\u001b[0;34m(\u001b[0m\u001b[0mself\u001b[0m\u001b[0;34m.\u001b[0m\u001b[0m_jobs\u001b[0m\u001b[0;34m)\u001b[0m\u001b[0;34m\u001b[0m\u001b[0;34m\u001b[0m\u001b[0m\n\u001b[0;32m--> 784\u001b[0;31m             \u001b[0mjob\u001b[0m \u001b[0;34m=\u001b[0m \u001b[0mself\u001b[0m\u001b[0;34m.\u001b[0m\u001b[0m_backend\u001b[0m\u001b[0;34m.\u001b[0m\u001b[0mapply_async\u001b[0m\u001b[0;34m(\u001b[0m\u001b[0mbatch\u001b[0m\u001b[0;34m,\u001b[0m \u001b[0mcallback\u001b[0m\u001b[0;34m=\u001b[0m\u001b[0mcb\u001b[0m\u001b[0;34m)\u001b[0m\u001b[0;34m\u001b[0m\u001b[0;34m\u001b[0m\u001b[0m\n\u001b[0m\u001b[1;32m    785\u001b[0m             \u001b[0;31m# A job can complete so quickly than its callback is\u001b[0m\u001b[0;34m\u001b[0m\u001b[0;34m\u001b[0m\u001b[0;34m\u001b[0m\u001b[0m\n",
      "\u001b[0;32m~/workspace/reflexer/venv/lib/python3.8/site-packages/joblib/_parallel_backends.py\u001b[0m in \u001b[0;36mapply_async\u001b[0;34m(self, func, callback)\u001b[0m\n\u001b[1;32m    207\u001b[0m         \u001b[0;34m\"\"\"Schedule a func to be run\"\"\"\u001b[0m\u001b[0;34m\u001b[0m\u001b[0;34m\u001b[0m\u001b[0m\n\u001b[0;32m--> 208\u001b[0;31m         \u001b[0mresult\u001b[0m \u001b[0;34m=\u001b[0m \u001b[0mImmediateResult\u001b[0m\u001b[0;34m(\u001b[0m\u001b[0mfunc\u001b[0m\u001b[0;34m)\u001b[0m\u001b[0;34m\u001b[0m\u001b[0;34m\u001b[0m\u001b[0m\n\u001b[0m\u001b[1;32m    209\u001b[0m         \u001b[0;32mif\u001b[0m \u001b[0mcallback\u001b[0m\u001b[0;34m:\u001b[0m\u001b[0;34m\u001b[0m\u001b[0;34m\u001b[0m\u001b[0m\n",
      "\u001b[0;32m~/workspace/reflexer/venv/lib/python3.8/site-packages/joblib/_parallel_backends.py\u001b[0m in \u001b[0;36m__init__\u001b[0;34m(self, batch)\u001b[0m\n\u001b[1;32m    571\u001b[0m         \u001b[0;31m# arguments in memory\u001b[0m\u001b[0;34m\u001b[0m\u001b[0;34m\u001b[0m\u001b[0;34m\u001b[0m\u001b[0m\n\u001b[0;32m--> 572\u001b[0;31m         \u001b[0mself\u001b[0m\u001b[0;34m.\u001b[0m\u001b[0mresults\u001b[0m \u001b[0;34m=\u001b[0m \u001b[0mbatch\u001b[0m\u001b[0;34m(\u001b[0m\u001b[0;34m)\u001b[0m\u001b[0;34m\u001b[0m\u001b[0;34m\u001b[0m\u001b[0m\n\u001b[0m\u001b[1;32m    573\u001b[0m \u001b[0;34m\u001b[0m\u001b[0m\n",
      "\u001b[0;32m~/workspace/reflexer/venv/lib/python3.8/site-packages/joblib/parallel.py\u001b[0m in \u001b[0;36m__call__\u001b[0;34m(self)\u001b[0m\n\u001b[1;32m    261\u001b[0m         \u001b[0;32mwith\u001b[0m \u001b[0mparallel_backend\u001b[0m\u001b[0;34m(\u001b[0m\u001b[0mself\u001b[0m\u001b[0;34m.\u001b[0m\u001b[0m_backend\u001b[0m\u001b[0;34m,\u001b[0m \u001b[0mn_jobs\u001b[0m\u001b[0;34m=\u001b[0m\u001b[0mself\u001b[0m\u001b[0;34m.\u001b[0m\u001b[0m_n_jobs\u001b[0m\u001b[0;34m)\u001b[0m\u001b[0;34m:\u001b[0m\u001b[0;34m\u001b[0m\u001b[0;34m\u001b[0m\u001b[0m\n\u001b[0;32m--> 262\u001b[0;31m             return [func(*args, **kwargs)\n\u001b[0m\u001b[1;32m    263\u001b[0m                     for func, args, kwargs in self.items]\n",
      "\u001b[0;32m~/workspace/reflexer/venv/lib/python3.8/site-packages/joblib/parallel.py\u001b[0m in \u001b[0;36m<listcomp>\u001b[0;34m(.0)\u001b[0m\n\u001b[1;32m    261\u001b[0m         \u001b[0;32mwith\u001b[0m \u001b[0mparallel_backend\u001b[0m\u001b[0;34m(\u001b[0m\u001b[0mself\u001b[0m\u001b[0;34m.\u001b[0m\u001b[0m_backend\u001b[0m\u001b[0;34m,\u001b[0m \u001b[0mn_jobs\u001b[0m\u001b[0;34m=\u001b[0m\u001b[0mself\u001b[0m\u001b[0;34m.\u001b[0m\u001b[0m_n_jobs\u001b[0m\u001b[0;34m)\u001b[0m\u001b[0;34m:\u001b[0m\u001b[0;34m\u001b[0m\u001b[0;34m\u001b[0m\u001b[0m\n\u001b[0;32m--> 262\u001b[0;31m             return [func(*args, **kwargs)\n\u001b[0m\u001b[1;32m    263\u001b[0m                     for func, args, kwargs in self.items]\n",
      "\u001b[0;32m~/workspace/reflexer/venv/lib/python3.8/site-packages/autosklearn/automl.py\u001b[0m in \u001b[0;36m_model_predict\u001b[0;34m(model, X, batch_size, logger, task)\u001b[0m\n\u001b[1;32m     72\u001b[0m             \u001b[0;32melse\u001b[0m\u001b[0;34m:\u001b[0m\u001b[0;34m\u001b[0m\u001b[0;34m\u001b[0m\u001b[0m\n\u001b[0;32m---> 73\u001b[0;31m                 \u001b[0mprediction\u001b[0m \u001b[0;34m=\u001b[0m \u001b[0mmodel\u001b[0m\u001b[0;34m.\u001b[0m\u001b[0mpredict\u001b[0m\u001b[0;34m(\u001b[0m\u001b[0mX_\u001b[0m\u001b[0;34m)\u001b[0m\u001b[0;34m\u001b[0m\u001b[0;34m\u001b[0m\u001b[0m\n\u001b[0m\u001b[1;32m     74\u001b[0m         \u001b[0;32melse\u001b[0m\u001b[0;34m:\u001b[0m\u001b[0;34m\u001b[0m\u001b[0;34m\u001b[0m\u001b[0m\n",
      "\u001b[0;32m~/workspace/reflexer/venv/lib/python3.8/site-packages/sklearn/ensemble/_voting.py\u001b[0m in \u001b[0;36mpredict\u001b[0;34m(self, X)\u001b[0m\n\u001b[1;32m    425\u001b[0m         \u001b[0mcheck_is_fitted\u001b[0m\u001b[0;34m(\u001b[0m\u001b[0mself\u001b[0m\u001b[0;34m)\u001b[0m\u001b[0;34m\u001b[0m\u001b[0;34m\u001b[0m\u001b[0m\n\u001b[0;32m--> 426\u001b[0;31m         return np.average(self._predict(X), axis=1,\n\u001b[0m\u001b[1;32m    427\u001b[0m                           weights=self._weights_not_none)\n",
      "\u001b[0;32m~/workspace/reflexer/venv/lib/python3.8/site-packages/sklearn/ensemble/_voting.py\u001b[0m in \u001b[0;36m_predict\u001b[0;34m(self, X)\u001b[0m\n\u001b[1;32m     51\u001b[0m         \u001b[0;34m\"\"\"Collect results from clf.predict calls.\"\"\"\u001b[0m\u001b[0;34m\u001b[0m\u001b[0;34m\u001b[0m\u001b[0m\n\u001b[0;32m---> 52\u001b[0;31m         \u001b[0;32mreturn\u001b[0m \u001b[0mnp\u001b[0m\u001b[0;34m.\u001b[0m\u001b[0masarray\u001b[0m\u001b[0;34m(\u001b[0m\u001b[0;34m[\u001b[0m\u001b[0mest\u001b[0m\u001b[0;34m.\u001b[0m\u001b[0mpredict\u001b[0m\u001b[0;34m(\u001b[0m\u001b[0mX\u001b[0m\u001b[0;34m)\u001b[0m \u001b[0;32mfor\u001b[0m \u001b[0mest\u001b[0m \u001b[0;32min\u001b[0m \u001b[0mself\u001b[0m\u001b[0;34m.\u001b[0m\u001b[0mestimators_\u001b[0m\u001b[0;34m]\u001b[0m\u001b[0;34m)\u001b[0m\u001b[0;34m.\u001b[0m\u001b[0mT\u001b[0m\u001b[0;34m\u001b[0m\u001b[0;34m\u001b[0m\u001b[0m\n\u001b[0m\u001b[1;32m     53\u001b[0m \u001b[0;34m\u001b[0m\u001b[0m\n",
      "\u001b[0;32m~/workspace/reflexer/venv/lib/python3.8/site-packages/sklearn/ensemble/_voting.py\u001b[0m in \u001b[0;36m<listcomp>\u001b[0;34m(.0)\u001b[0m\n\u001b[1;32m     51\u001b[0m         \u001b[0;34m\"\"\"Collect results from clf.predict calls.\"\"\"\u001b[0m\u001b[0;34m\u001b[0m\u001b[0;34m\u001b[0m\u001b[0m\n\u001b[0;32m---> 52\u001b[0;31m         \u001b[0;32mreturn\u001b[0m \u001b[0mnp\u001b[0m\u001b[0;34m.\u001b[0m\u001b[0masarray\u001b[0m\u001b[0;34m(\u001b[0m\u001b[0;34m[\u001b[0m\u001b[0mest\u001b[0m\u001b[0;34m.\u001b[0m\u001b[0mpredict\u001b[0m\u001b[0;34m(\u001b[0m\u001b[0mX\u001b[0m\u001b[0;34m)\u001b[0m \u001b[0;32mfor\u001b[0m \u001b[0mest\u001b[0m \u001b[0;32min\u001b[0m \u001b[0mself\u001b[0m\u001b[0;34m.\u001b[0m\u001b[0mestimators_\u001b[0m\u001b[0;34m]\u001b[0m\u001b[0;34m)\u001b[0m\u001b[0;34m.\u001b[0m\u001b[0mT\u001b[0m\u001b[0;34m\u001b[0m\u001b[0;34m\u001b[0m\u001b[0m\n\u001b[0m\u001b[1;32m     53\u001b[0m \u001b[0;34m\u001b[0m\u001b[0m\n",
      "\u001b[0;32m~/workspace/reflexer/venv/lib/python3.8/site-packages/autosklearn/pipeline/regression.py\u001b[0m in \u001b[0;36mpredict\u001b[0;34m(self, X, batch_size)\u001b[0m\n\u001b[1;32m     90\u001b[0m     \u001b[0;32mdef\u001b[0m \u001b[0mpredict\u001b[0m\u001b[0;34m(\u001b[0m\u001b[0mself\u001b[0m\u001b[0;34m,\u001b[0m \u001b[0mX\u001b[0m\u001b[0;34m,\u001b[0m \u001b[0mbatch_size\u001b[0m\u001b[0;34m=\u001b[0m\u001b[0;32mNone\u001b[0m\u001b[0;34m)\u001b[0m\u001b[0;34m:\u001b[0m\u001b[0;34m\u001b[0m\u001b[0;34m\u001b[0m\u001b[0m\n\u001b[0;32m---> 91\u001b[0;31m         \u001b[0my\u001b[0m \u001b[0;34m=\u001b[0m \u001b[0msuper\u001b[0m\u001b[0;34m(\u001b[0m\u001b[0;34m)\u001b[0m\u001b[0;34m.\u001b[0m\u001b[0mpredict\u001b[0m\u001b[0;34m(\u001b[0m\u001b[0mX\u001b[0m\u001b[0;34m,\u001b[0m \u001b[0mbatch_size\u001b[0m\u001b[0;34m=\u001b[0m\u001b[0mbatch_size\u001b[0m\u001b[0;34m)\u001b[0m\u001b[0;34m\u001b[0m\u001b[0;34m\u001b[0m\u001b[0m\n\u001b[0m\u001b[1;32m     92\u001b[0m         \u001b[0my\u001b[0m\u001b[0;34m[\u001b[0m\u001b[0my\u001b[0m \u001b[0;34m>\u001b[0m \u001b[0;34m(\u001b[0m\u001b[0;36m2\u001b[0m \u001b[0;34m*\u001b[0m \u001b[0mself\u001b[0m\u001b[0;34m.\u001b[0m\u001b[0my_max_\u001b[0m\u001b[0;34m)\u001b[0m\u001b[0;34m]\u001b[0m \u001b[0;34m=\u001b[0m \u001b[0;36m2\u001b[0m \u001b[0;34m*\u001b[0m \u001b[0mself\u001b[0m\u001b[0;34m.\u001b[0m\u001b[0my_max_\u001b[0m\u001b[0;34m\u001b[0m\u001b[0;34m\u001b[0m\u001b[0m\n",
      "\u001b[0;32m~/workspace/reflexer/venv/lib/python3.8/site-packages/autosklearn/pipeline/base.py\u001b[0m in \u001b[0;36mpredict\u001b[0;34m(self, X, batch_size)\u001b[0m\n\u001b[1;32m    148\u001b[0m         \u001b[0;32mif\u001b[0m \u001b[0mbatch_size\u001b[0m \u001b[0;32mis\u001b[0m \u001b[0;32mNone\u001b[0m\u001b[0;34m:\u001b[0m\u001b[0;34m\u001b[0m\u001b[0;34m\u001b[0m\u001b[0m\n\u001b[0;32m--> 149\u001b[0;31m             \u001b[0;32mreturn\u001b[0m \u001b[0msuper\u001b[0m\u001b[0;34m(\u001b[0m\u001b[0;34m)\u001b[0m\u001b[0;34m.\u001b[0m\u001b[0mpredict\u001b[0m\u001b[0;34m(\u001b[0m\u001b[0mX\u001b[0m\u001b[0;34m)\u001b[0m\u001b[0;34m.\u001b[0m\u001b[0mastype\u001b[0m\u001b[0;34m(\u001b[0m\u001b[0mself\u001b[0m\u001b[0;34m.\u001b[0m\u001b[0m_output_dtype\u001b[0m\u001b[0;34m)\u001b[0m\u001b[0;34m\u001b[0m\u001b[0;34m\u001b[0m\u001b[0m\n\u001b[0m\u001b[1;32m    150\u001b[0m         \u001b[0;32melse\u001b[0m\u001b[0;34m:\u001b[0m\u001b[0;34m\u001b[0m\u001b[0;34m\u001b[0m\u001b[0m\n",
      "\u001b[0;32m~/workspace/reflexer/venv/lib/python3.8/site-packages/sklearn/utils/metaestimators.py\u001b[0m in \u001b[0;36m<lambda>\u001b[0;34m(*args, **kwargs)\u001b[0m\n\u001b[1;32m    115\u001b[0m         \u001b[0;31m# lambda, but not partial, allows help() to work with update_wrapper\u001b[0m\u001b[0;34m\u001b[0m\u001b[0;34m\u001b[0m\u001b[0;34m\u001b[0m\u001b[0m\n\u001b[0;32m--> 116\u001b[0;31m         \u001b[0mout\u001b[0m \u001b[0;34m=\u001b[0m \u001b[0;32mlambda\u001b[0m \u001b[0;34m*\u001b[0m\u001b[0margs\u001b[0m\u001b[0;34m,\u001b[0m \u001b[0;34m**\u001b[0m\u001b[0mkwargs\u001b[0m\u001b[0;34m:\u001b[0m \u001b[0mself\u001b[0m\u001b[0;34m.\u001b[0m\u001b[0mfn\u001b[0m\u001b[0;34m(\u001b[0m\u001b[0mobj\u001b[0m\u001b[0;34m,\u001b[0m \u001b[0;34m*\u001b[0m\u001b[0margs\u001b[0m\u001b[0;34m,\u001b[0m \u001b[0;34m**\u001b[0m\u001b[0mkwargs\u001b[0m\u001b[0;34m)\u001b[0m\u001b[0;34m\u001b[0m\u001b[0;34m\u001b[0m\u001b[0m\n\u001b[0m\u001b[1;32m    117\u001b[0m         \u001b[0;31m# update the docstring of the returned function\u001b[0m\u001b[0;34m\u001b[0m\u001b[0;34m\u001b[0m\u001b[0;34m\u001b[0m\u001b[0m\n",
      "\u001b[0;32m~/workspace/reflexer/venv/lib/python3.8/site-packages/sklearn/pipeline.py\u001b[0m in \u001b[0;36mpredict\u001b[0;34m(self, X, **predict_params)\u001b[0m\n\u001b[1;32m    419\u001b[0m             \u001b[0mXt\u001b[0m \u001b[0;34m=\u001b[0m \u001b[0mtransform\u001b[0m\u001b[0;34m.\u001b[0m\u001b[0mtransform\u001b[0m\u001b[0;34m(\u001b[0m\u001b[0mXt\u001b[0m\u001b[0;34m)\u001b[0m\u001b[0;34m\u001b[0m\u001b[0;34m\u001b[0m\u001b[0m\n\u001b[0;32m--> 420\u001b[0;31m         \u001b[0;32mreturn\u001b[0m \u001b[0mself\u001b[0m\u001b[0;34m.\u001b[0m\u001b[0msteps\u001b[0m\u001b[0;34m[\u001b[0m\u001b[0;34m-\u001b[0m\u001b[0;36m1\u001b[0m\u001b[0;34m]\u001b[0m\u001b[0;34m[\u001b[0m\u001b[0;34m-\u001b[0m\u001b[0;36m1\u001b[0m\u001b[0;34m]\u001b[0m\u001b[0;34m.\u001b[0m\u001b[0mpredict\u001b[0m\u001b[0;34m(\u001b[0m\u001b[0mXt\u001b[0m\u001b[0;34m,\u001b[0m \u001b[0;34m**\u001b[0m\u001b[0mpredict_params\u001b[0m\u001b[0;34m)\u001b[0m\u001b[0;34m\u001b[0m\u001b[0;34m\u001b[0m\u001b[0m\n\u001b[0m\u001b[1;32m    421\u001b[0m \u001b[0;34m\u001b[0m\u001b[0m\n",
      "\u001b[0;32m~/workspace/reflexer/venv/lib/python3.8/site-packages/autosklearn/pipeline/components/base.py\u001b[0m in \u001b[0;36mpredict\u001b[0;34m(self, X)\u001b[0m\n\u001b[1;32m    431\u001b[0m     \u001b[0;32mdef\u001b[0m \u001b[0mpredict\u001b[0m\u001b[0;34m(\u001b[0m\u001b[0mself\u001b[0m\u001b[0;34m,\u001b[0m \u001b[0mX\u001b[0m\u001b[0;34m)\u001b[0m\u001b[0;34m:\u001b[0m\u001b[0;34m\u001b[0m\u001b[0;34m\u001b[0m\u001b[0m\n\u001b[0;32m--> 432\u001b[0;31m         \u001b[0;32mreturn\u001b[0m \u001b[0mself\u001b[0m\u001b[0;34m.\u001b[0m\u001b[0mchoice\u001b[0m\u001b[0;34m.\u001b[0m\u001b[0mpredict\u001b[0m\u001b[0;34m(\u001b[0m\u001b[0mX\u001b[0m\u001b[0;34m)\u001b[0m\u001b[0;34m\u001b[0m\u001b[0;34m\u001b[0m\u001b[0m\n\u001b[0m",
      "\u001b[0;32m~/workspace/reflexer/venv/lib/python3.8/site-packages/autosklearn/pipeline/components/regression/adaboost.py\u001b[0m in \u001b[0;36mpredict\u001b[0;34m(self, X)\u001b[0m\n\u001b[1;32m     40\u001b[0m             \u001b[0;32mraise\u001b[0m \u001b[0mNotImplementedError\u001b[0m\u001b[0;34m\u001b[0m\u001b[0;34m\u001b[0m\u001b[0m\n\u001b[0;32m---> 41\u001b[0;31m         \u001b[0;32mreturn\u001b[0m \u001b[0mself\u001b[0m\u001b[0;34m.\u001b[0m\u001b[0mestimator\u001b[0m\u001b[0;34m.\u001b[0m\u001b[0mpredict\u001b[0m\u001b[0;34m(\u001b[0m\u001b[0mX\u001b[0m\u001b[0;34m)\u001b[0m\u001b[0;34m\u001b[0m\u001b[0;34m\u001b[0m\u001b[0m\n\u001b[0m\u001b[1;32m     42\u001b[0m \u001b[0;34m\u001b[0m\u001b[0m\n",
      "\u001b[0;32m~/workspace/reflexer/venv/lib/python3.8/site-packages/sklearn/ensemble/_weight_boosting.py\u001b[0m in \u001b[0;36mpredict\u001b[0;34m(self, X)\u001b[0m\n\u001b[1;32m   1130\u001b[0m \u001b[0;34m\u001b[0m\u001b[0m\n\u001b[0;32m-> 1131\u001b[0;31m         \u001b[0;32mreturn\u001b[0m \u001b[0mself\u001b[0m\u001b[0;34m.\u001b[0m\u001b[0m_get_median_predict\u001b[0m\u001b[0;34m(\u001b[0m\u001b[0mX\u001b[0m\u001b[0;34m,\u001b[0m \u001b[0mlen\u001b[0m\u001b[0;34m(\u001b[0m\u001b[0mself\u001b[0m\u001b[0;34m.\u001b[0m\u001b[0mestimators_\u001b[0m\u001b[0;34m)\u001b[0m\u001b[0;34m)\u001b[0m\u001b[0;34m\u001b[0m\u001b[0;34m\u001b[0m\u001b[0m\n\u001b[0m\u001b[1;32m   1132\u001b[0m \u001b[0;34m\u001b[0m\u001b[0m\n",
      "\u001b[0;32m~/workspace/reflexer/venv/lib/python3.8/site-packages/sklearn/ensemble/_weight_boosting.py\u001b[0m in \u001b[0;36m_get_median_predict\u001b[0;34m(self, X, limit)\u001b[0m\n\u001b[1;32m   1094\u001b[0m         \u001b[0;31m# Evaluate predictions of all estimators\u001b[0m\u001b[0;34m\u001b[0m\u001b[0;34m\u001b[0m\u001b[0;34m\u001b[0m\u001b[0m\n\u001b[0;32m-> 1095\u001b[0;31m         predictions = np.array([\n\u001b[0m\u001b[1;32m   1096\u001b[0m             est.predict(X) for est in self.estimators_[:limit]]).T\n",
      "\u001b[0;32m~/workspace/reflexer/venv/lib/python3.8/site-packages/sklearn/ensemble/_weight_boosting.py\u001b[0m in \u001b[0;36m<listcomp>\u001b[0;34m(.0)\u001b[0m\n\u001b[1;32m   1095\u001b[0m         predictions = np.array([\n\u001b[0;32m-> 1096\u001b[0;31m             est.predict(X) for est in self.estimators_[:limit]]).T\n\u001b[0m\u001b[1;32m   1097\u001b[0m \u001b[0;34m\u001b[0m\u001b[0m\n",
      "\u001b[0;32m~/workspace/reflexer/venv/lib/python3.8/site-packages/sklearn/tree/_classes.py\u001b[0m in \u001b[0;36mpredict\u001b[0;34m(self, X, check_input)\u001b[0m\n\u001b[1;32m    418\u001b[0m         \u001b[0mcheck_is_fitted\u001b[0m\u001b[0;34m(\u001b[0m\u001b[0mself\u001b[0m\u001b[0;34m)\u001b[0m\u001b[0;34m\u001b[0m\u001b[0;34m\u001b[0m\u001b[0m\n\u001b[0;32m--> 419\u001b[0;31m         \u001b[0mX\u001b[0m \u001b[0;34m=\u001b[0m \u001b[0mself\u001b[0m\u001b[0;34m.\u001b[0m\u001b[0m_validate_X_predict\u001b[0m\u001b[0;34m(\u001b[0m\u001b[0mX\u001b[0m\u001b[0;34m,\u001b[0m \u001b[0mcheck_input\u001b[0m\u001b[0;34m)\u001b[0m\u001b[0;34m\u001b[0m\u001b[0;34m\u001b[0m\u001b[0m\n\u001b[0m\u001b[1;32m    420\u001b[0m         \u001b[0mproba\u001b[0m \u001b[0;34m=\u001b[0m \u001b[0mself\u001b[0m\u001b[0;34m.\u001b[0m\u001b[0mtree_\u001b[0m\u001b[0;34m.\u001b[0m\u001b[0mpredict\u001b[0m\u001b[0;34m(\u001b[0m\u001b[0mX\u001b[0m\u001b[0;34m)\u001b[0m\u001b[0;34m\u001b[0m\u001b[0;34m\u001b[0m\u001b[0m\n",
      "\u001b[0;32m~/workspace/reflexer/venv/lib/python3.8/site-packages/sklearn/tree/_classes.py\u001b[0m in \u001b[0;36m_validate_X_predict\u001b[0;34m(self, X, check_input)\u001b[0m\n\u001b[1;32m    379\u001b[0m         \u001b[0;32mif\u001b[0m \u001b[0mcheck_input\u001b[0m\u001b[0;34m:\u001b[0m\u001b[0;34m\u001b[0m\u001b[0;34m\u001b[0m\u001b[0m\n\u001b[0;32m--> 380\u001b[0;31m             \u001b[0mX\u001b[0m \u001b[0;34m=\u001b[0m \u001b[0mcheck_array\u001b[0m\u001b[0;34m(\u001b[0m\u001b[0mX\u001b[0m\u001b[0;34m,\u001b[0m \u001b[0mdtype\u001b[0m\u001b[0;34m=\u001b[0m\u001b[0mDTYPE\u001b[0m\u001b[0;34m,\u001b[0m \u001b[0maccept_sparse\u001b[0m\u001b[0;34m=\u001b[0m\u001b[0;34m\"csr\"\u001b[0m\u001b[0;34m)\u001b[0m\u001b[0;34m\u001b[0m\u001b[0;34m\u001b[0m\u001b[0m\n\u001b[0m\u001b[1;32m    381\u001b[0m             if issparse(X) and (X.indices.dtype != np.intc or\n",
      "\u001b[0;32m~/workspace/reflexer/venv/lib/python3.8/site-packages/sklearn/utils/validation.py\u001b[0m in \u001b[0;36mcheck_array\u001b[0;34m(array, accept_sparse, accept_large_sparse, dtype, order, copy, force_all_finite, ensure_2d, allow_nd, ensure_min_samples, ensure_min_features, warn_on_dtype, estimator)\u001b[0m\n\u001b[1;32m    530\u001b[0m                 \u001b[0;32melse\u001b[0m\u001b[0;34m:\u001b[0m\u001b[0;34m\u001b[0m\u001b[0;34m\u001b[0m\u001b[0m\n\u001b[0;32m--> 531\u001b[0;31m                     \u001b[0marray\u001b[0m \u001b[0;34m=\u001b[0m \u001b[0mnp\u001b[0m\u001b[0;34m.\u001b[0m\u001b[0masarray\u001b[0m\u001b[0;34m(\u001b[0m\u001b[0marray\u001b[0m\u001b[0;34m,\u001b[0m \u001b[0morder\u001b[0m\u001b[0;34m=\u001b[0m\u001b[0morder\u001b[0m\u001b[0;34m,\u001b[0m \u001b[0mdtype\u001b[0m\u001b[0;34m=\u001b[0m\u001b[0mdtype\u001b[0m\u001b[0;34m)\u001b[0m\u001b[0;34m\u001b[0m\u001b[0;34m\u001b[0m\u001b[0m\n\u001b[0m\u001b[1;32m    532\u001b[0m             \u001b[0;32mexcept\u001b[0m \u001b[0mComplexWarning\u001b[0m\u001b[0;34m:\u001b[0m\u001b[0;34m\u001b[0m\u001b[0;34m\u001b[0m\u001b[0m\n",
      "\u001b[0;32m~/workspace/reflexer/venv/lib/python3.8/site-packages/numpy/core/_asarray.py\u001b[0m in \u001b[0;36masarray\u001b[0;34m(a, dtype, order)\u001b[0m\n\u001b[1;32m     82\u001b[0m     \"\"\"\n\u001b[0;32m---> 83\u001b[0;31m     \u001b[0;32mreturn\u001b[0m \u001b[0marray\u001b[0m\u001b[0;34m(\u001b[0m\u001b[0ma\u001b[0m\u001b[0;34m,\u001b[0m \u001b[0mdtype\u001b[0m\u001b[0;34m,\u001b[0m \u001b[0mcopy\u001b[0m\u001b[0;34m=\u001b[0m\u001b[0;32mFalse\u001b[0m\u001b[0;34m,\u001b[0m \u001b[0morder\u001b[0m\u001b[0;34m=\u001b[0m\u001b[0morder\u001b[0m\u001b[0;34m)\u001b[0m\u001b[0;34m\u001b[0m\u001b[0;34m\u001b[0m\u001b[0m\n\u001b[0m\u001b[1;32m     84\u001b[0m \u001b[0;34m\u001b[0m\u001b[0m\n",
      "\u001b[0;31mKeyboardInterrupt\u001b[0m: ",
      "\nDuring handling of the above exception, another exception occurred:\n",
      "\u001b[0;31mAttributeError\u001b[0m                            Traceback (most recent call last)",
      "\u001b[0;32m~/workspace/reflexer/venv/lib/python3.8/site-packages/IPython/core/interactiveshell.py\u001b[0m in \u001b[0;36mshowtraceback\u001b[0;34m(self, exc_tuple, filename, tb_offset, exception_only, running_compiled_code)\u001b[0m\n\u001b[1;32m   2043\u001b[0m                         \u001b[0;31m# in the engines. This should return a list of strings.\u001b[0m\u001b[0;34m\u001b[0m\u001b[0;34m\u001b[0m\u001b[0;34m\u001b[0m\u001b[0m\n\u001b[0;32m-> 2044\u001b[0;31m                         \u001b[0mstb\u001b[0m \u001b[0;34m=\u001b[0m \u001b[0mvalue\u001b[0m\u001b[0;34m.\u001b[0m\u001b[0m_render_traceback_\u001b[0m\u001b[0;34m(\u001b[0m\u001b[0;34m)\u001b[0m\u001b[0;34m\u001b[0m\u001b[0;34m\u001b[0m\u001b[0m\n\u001b[0m\u001b[1;32m   2045\u001b[0m                     \u001b[0;32mexcept\u001b[0m \u001b[0mException\u001b[0m\u001b[0;34m:\u001b[0m\u001b[0;34m\u001b[0m\u001b[0;34m\u001b[0m\u001b[0m\n",
      "\u001b[0;31mAttributeError\u001b[0m: 'KeyboardInterrupt' object has no attribute '_render_traceback_'",
      "\nDuring handling of the above exception, another exception occurred:\n",
      "\u001b[0;31mTypeError\u001b[0m                                 Traceback (most recent call last)",
      "    \u001b[0;31m[... skipping hidden 1 frame]\u001b[0m\n",
      "\u001b[0;32m~/workspace/reflexer/venv/lib/python3.8/site-packages/IPython/core/interactiveshell.py\u001b[0m in \u001b[0;36mshowtraceback\u001b[0;34m(self, exc_tuple, filename, tb_offset, exception_only, running_compiled_code)\u001b[0m\n\u001b[1;32m   2044\u001b[0m                         \u001b[0mstb\u001b[0m \u001b[0;34m=\u001b[0m \u001b[0mvalue\u001b[0m\u001b[0;34m.\u001b[0m\u001b[0m_render_traceback_\u001b[0m\u001b[0;34m(\u001b[0m\u001b[0;34m)\u001b[0m\u001b[0;34m\u001b[0m\u001b[0;34m\u001b[0m\u001b[0m\n\u001b[1;32m   2045\u001b[0m                     \u001b[0;32mexcept\u001b[0m \u001b[0mException\u001b[0m\u001b[0;34m:\u001b[0m\u001b[0;34m\u001b[0m\u001b[0;34m\u001b[0m\u001b[0m\n\u001b[0;32m-> 2046\u001b[0;31m                         stb = self.InteractiveTB.structured_traceback(etype,\n\u001b[0m\u001b[1;32m   2047\u001b[0m                                             value, tb, tb_offset=tb_offset)\n\u001b[1;32m   2048\u001b[0m \u001b[0;34m\u001b[0m\u001b[0m\n",
      "\u001b[0;32m~/workspace/reflexer/venv/lib/python3.8/site-packages/IPython/core/ultratb.py\u001b[0m in \u001b[0;36mstructured_traceback\u001b[0;34m(self, etype, value, tb, tb_offset, number_of_lines_of_context)\u001b[0m\n\u001b[1;32m   1433\u001b[0m         \u001b[0;32melse\u001b[0m\u001b[0;34m:\u001b[0m\u001b[0;34m\u001b[0m\u001b[0;34m\u001b[0m\u001b[0m\n\u001b[1;32m   1434\u001b[0m             \u001b[0mself\u001b[0m\u001b[0;34m.\u001b[0m\u001b[0mtb\u001b[0m \u001b[0;34m=\u001b[0m \u001b[0mtb\u001b[0m\u001b[0;34m\u001b[0m\u001b[0;34m\u001b[0m\u001b[0m\n\u001b[0;32m-> 1435\u001b[0;31m         return FormattedTB.structured_traceback(\n\u001b[0m\u001b[1;32m   1436\u001b[0m             self, etype, value, tb, tb_offset, number_of_lines_of_context)\n\u001b[1;32m   1437\u001b[0m \u001b[0;34m\u001b[0m\u001b[0m\n",
      "\u001b[0;32m~/workspace/reflexer/venv/lib/python3.8/site-packages/IPython/core/ultratb.py\u001b[0m in \u001b[0;36mstructured_traceback\u001b[0;34m(self, etype, value, tb, tb_offset, number_of_lines_of_context)\u001b[0m\n\u001b[1;32m   1333\u001b[0m         \u001b[0;32mif\u001b[0m \u001b[0mmode\u001b[0m \u001b[0;32min\u001b[0m \u001b[0mself\u001b[0m\u001b[0;34m.\u001b[0m\u001b[0mverbose_modes\u001b[0m\u001b[0;34m:\u001b[0m\u001b[0;34m\u001b[0m\u001b[0;34m\u001b[0m\u001b[0m\n\u001b[1;32m   1334\u001b[0m             \u001b[0;31m# Verbose modes need a full traceback\u001b[0m\u001b[0;34m\u001b[0m\u001b[0;34m\u001b[0m\u001b[0;34m\u001b[0m\u001b[0m\n\u001b[0;32m-> 1335\u001b[0;31m             return VerboseTB.structured_traceback(\n\u001b[0m\u001b[1;32m   1336\u001b[0m                 \u001b[0mself\u001b[0m\u001b[0;34m,\u001b[0m \u001b[0metype\u001b[0m\u001b[0;34m,\u001b[0m \u001b[0mvalue\u001b[0m\u001b[0;34m,\u001b[0m \u001b[0mtb\u001b[0m\u001b[0;34m,\u001b[0m \u001b[0mtb_offset\u001b[0m\u001b[0;34m,\u001b[0m \u001b[0mnumber_of_lines_of_context\u001b[0m\u001b[0;34m\u001b[0m\u001b[0;34m\u001b[0m\u001b[0m\n\u001b[1;32m   1337\u001b[0m             )\n",
      "\u001b[0;32m~/workspace/reflexer/venv/lib/python3.8/site-packages/IPython/core/ultratb.py\u001b[0m in \u001b[0;36mstructured_traceback\u001b[0;34m(self, etype, evalue, etb, tb_offset, number_of_lines_of_context)\u001b[0m\n\u001b[1;32m   1190\u001b[0m         \u001b[0;34m\"\"\"Return a nice text document describing the traceback.\"\"\"\u001b[0m\u001b[0;34m\u001b[0m\u001b[0;34m\u001b[0m\u001b[0m\n\u001b[1;32m   1191\u001b[0m \u001b[0;34m\u001b[0m\u001b[0m\n\u001b[0;32m-> 1192\u001b[0;31m         formatted_exception = self.format_exception_as_a_whole(etype, evalue, etb, number_of_lines_of_context,\n\u001b[0m\u001b[1;32m   1193\u001b[0m                                                                tb_offset)\n\u001b[1;32m   1194\u001b[0m \u001b[0;34m\u001b[0m\u001b[0m\n",
      "\u001b[0;32m~/workspace/reflexer/venv/lib/python3.8/site-packages/IPython/core/ultratb.py\u001b[0m in \u001b[0;36mformat_exception_as_a_whole\u001b[0;34m(self, etype, evalue, etb, number_of_lines_of_context, tb_offset)\u001b[0m\n\u001b[1;32m   1148\u001b[0m \u001b[0;34m\u001b[0m\u001b[0m\n\u001b[1;32m   1149\u001b[0m \u001b[0;34m\u001b[0m\u001b[0m\n\u001b[0;32m-> 1150\u001b[0;31m         \u001b[0mlast_unique\u001b[0m\u001b[0;34m,\u001b[0m \u001b[0mrecursion_repeat\u001b[0m \u001b[0;34m=\u001b[0m \u001b[0mfind_recursion\u001b[0m\u001b[0;34m(\u001b[0m\u001b[0morig_etype\u001b[0m\u001b[0;34m,\u001b[0m \u001b[0mevalue\u001b[0m\u001b[0;34m,\u001b[0m \u001b[0mrecords\u001b[0m\u001b[0;34m)\u001b[0m\u001b[0;34m\u001b[0m\u001b[0;34m\u001b[0m\u001b[0m\n\u001b[0m\u001b[1;32m   1151\u001b[0m \u001b[0;34m\u001b[0m\u001b[0m\n\u001b[1;32m   1152\u001b[0m         \u001b[0mframes\u001b[0m \u001b[0;34m=\u001b[0m \u001b[0mself\u001b[0m\u001b[0;34m.\u001b[0m\u001b[0mformat_records\u001b[0m\u001b[0;34m(\u001b[0m\u001b[0mrecords\u001b[0m\u001b[0;34m,\u001b[0m \u001b[0mlast_unique\u001b[0m\u001b[0;34m,\u001b[0m \u001b[0mrecursion_repeat\u001b[0m\u001b[0;34m)\u001b[0m\u001b[0;34m\u001b[0m\u001b[0;34m\u001b[0m\u001b[0m\n",
      "\u001b[0;32m~/workspace/reflexer/venv/lib/python3.8/site-packages/IPython/core/ultratb.py\u001b[0m in \u001b[0;36mfind_recursion\u001b[0;34m(etype, value, records)\u001b[0m\n\u001b[1;32m    449\u001b[0m     \u001b[0;31m# first frame (from in to out) that looks different.\u001b[0m\u001b[0;34m\u001b[0m\u001b[0;34m\u001b[0m\u001b[0;34m\u001b[0m\u001b[0m\n\u001b[1;32m    450\u001b[0m     \u001b[0;32mif\u001b[0m \u001b[0;32mnot\u001b[0m \u001b[0mis_recursion_error\u001b[0m\u001b[0;34m(\u001b[0m\u001b[0metype\u001b[0m\u001b[0;34m,\u001b[0m \u001b[0mvalue\u001b[0m\u001b[0;34m,\u001b[0m \u001b[0mrecords\u001b[0m\u001b[0;34m)\u001b[0m\u001b[0;34m:\u001b[0m\u001b[0;34m\u001b[0m\u001b[0;34m\u001b[0m\u001b[0m\n\u001b[0;32m--> 451\u001b[0;31m         \u001b[0;32mreturn\u001b[0m \u001b[0mlen\u001b[0m\u001b[0;34m(\u001b[0m\u001b[0mrecords\u001b[0m\u001b[0;34m)\u001b[0m\u001b[0;34m,\u001b[0m \u001b[0;36m0\u001b[0m\u001b[0;34m\u001b[0m\u001b[0;34m\u001b[0m\u001b[0m\n\u001b[0m\u001b[1;32m    452\u001b[0m \u001b[0;34m\u001b[0m\u001b[0m\n\u001b[1;32m    453\u001b[0m     \u001b[0;31m# Select filename, lineno, func_name to track frames with\u001b[0m\u001b[0;34m\u001b[0m\u001b[0;34m\u001b[0m\u001b[0;34m\u001b[0m\u001b[0m\n",
      "\u001b[0;31mTypeError\u001b[0m: object of type 'NoneType' has no len()"
     ]
    }
   ],
   "source": [
    "# Initialize parameters, storage for root search\n",
    "num_above = 0; num_below = 0\n",
    "p = mar_p[0]\n",
    "interest_rate = 1 # note gross interest rate; \"minimal risk appetite\"\n",
    "p_calc = np.zeros(len(market_price.index))\n",
    "p_exp = np.zeros(len(market_price.index))\n",
    "feature_0 = np.reshape(independent_vars[0], (-1,11)).copy()\n",
    "solution = {}\n",
    "demand = np.zeros(len(market_price.index))\n",
    "supply = np.zeros(len(market_price.index))\n",
    "periods_above = []\n",
    "periods_below = []\n",
    "\n",
    "# Root-finding loop\n",
    "for t in range(1, len(market_price.index)):\n",
    "#for t in range(1,2):\n",
    "\n",
    "    print('iteration: ', t)\n",
    "    \n",
    "    # assign CDP levers in response to disequilibrium\n",
    "    # e.g. unexpected realized ETH price increase *lowers* expected return\n",
    "    if eth_returns[t] < np.mean(eth_returns[1:]):\n",
    "        # price of ETH has risen\n",
    "        periods_below.append(t)\n",
    "        num_below += 1\n",
    "        # mint new RAI ('u_1') & sell on secondary market, or\n",
    "        # reduce collateral value ('v_2')\n",
    "        optvars = ['u_1', 'v_2 + v_3']\n",
    "    else:\n",
    "        # price of ETH has fallen\n",
    "        periods_above.append(t)\n",
    "        num_above += 1\n",
    "        # repay RAI ('u_2') & buy on secondary market, or\n",
    "        # increase collateral value ('v_1')\n",
    "        optvars = ['u_2', 'v_1']\n",
    "        \n",
    "    # find root of non-arbitrage condition\n",
    "    p_expected = (1/alpha_1) * p * (interest_rate + beta_2 * (eth_p_mean - eth_p[t-1]*interest_rate)\n",
    "                                 + beta_1 * (mar_p_mean - p*interest_rate)\n",
    "                 ) - (alpha_0/alpha_1)\n",
    "    \n",
    "    # need to adjust here if using OLS results instead of ML\n",
    "    if not use_ML_model:\n",
    "        # add regression constant; this shifts index for optimal values\n",
    "        optindex = [features.index(i) + 1 for i in optvars]\n",
    "        feature_0 = np.insert(feature_0, 0, 1, axis=1)\n",
    "    else:\n",
    "        optindex = [features.index(i) for i in optvars]\n",
    "        \n",
    "    print(independent_vars[0])\n",
    "        \n",
    "    x0 = feature_0[:,optindex][0]\n",
    "\n",
    "    print('x0: ', x0)\n",
    "    print('optvars:', optvars)\n",
    "    print('expected price: ', p_expected)\n",
    "    print('optindex: ', optindex)\n",
    "    print('feature', feature_0[:,optindex])\n",
    "    \n",
    "    \n",
    "    try:\n",
    "        x_star = newton(func, x0, args=(optindex, feature_0, p_expected))\n",
    "        print('xstar: ' ,x_star)\n",
    "        # Feasibility check, non-negativity\n",
    "        if any(x_star[x_star < 0]):\n",
    "            x_star = x0\n",
    "    except RuntimeError as e:\n",
    "        # For OLS, usually indicates non-convergence after 50 iterations (default)\n",
    "        # Indicates not feasible to update CDP for this price/feature combination\n",
    "        # Default to historical values here\n",
    "        print('Error: {}, default to historical values...'.format(e))\n",
    "        x_star = x0\n",
    "    \n",
    "    optimal_values = dict((var, x_star[i]) for i, var in enumerate(optvars))\n",
    "    \n",
    "    if handle_external_feature:\n",
    "        # EXTERNAL HANDLER: pass optimal values to CDP handler (here, as dict)\n",
    "        # EXTERNAL HANDLER: receive new initial condition from CDP handler (as numpy array)\n",
    "        # _send_values_to_CDP(optimal_values)\n",
    "        # feature_0 = _receive_values_from_CDP()\n",
    "        print('external_handler')\n",
    "    else:\n",
    "        # INTERNAL HANDLER: reset initial condition as initial point in data set\n",
    "        feature_0 = np.reshape(independent_vars[0], (-1,11)).copy()\n",
    "    \n",
    "    if use_historical_price:\n",
    "        if t < len(market_price.index) - 1:\n",
    "            p = mar_p[t]\n",
    "    else:\n",
    "        # secondary market call\n",
    "        if handle_external_price:\n",
    "            # update feature_0 with optimal values from x_star\n",
    "            for i,j in enumerate(optindex):\n",
    "                    feature_0[:,j] = x_star[i]\n",
    "            print('p_expected:', p_expected)\n",
    "            p = get_market_price(p_expected, p, feature_0)\n",
    "            print('p_output', p)\n",
    "            print('relative diff: ', (p - p_expected)/p)\n",
    "        else:\n",
    "            # INTERNAL HANDLER: Set price as expected value\n",
    "            p = p_expected\n",
    "    \n",
    "    # For diagnostics\n",
    "    #supply[t] = optimal_values['u_1']\n",
    "    #demand[t] = optimal_values['u_2']\n",
    "    solution[t] = optimal_values\n",
    "    p_exp[t] = p_expected\n",
    "    p_calc[t] = p"
   ]
  },
  {
   "cell_type": "code",
   "execution_count": null,
   "metadata": {},
   "outputs": [],
   "source": [
    "# Plot historical market price against expected price\n",
    "plt.plot(p_exp[1:], label = \"Expected Price\")\n",
    "plt.plot(mar_p[1:], label = \"Market Price\")\n",
    "plt.title('Prices')\n",
    "plt.xlabel('Period')\n",
    "plt.ylabel('Price')"
   ]
  },
  {
   "cell_type": "code",
   "execution_count": null,
   "metadata": {},
   "outputs": [],
   "source": [
    "# Plot historical market price against modeled price\n",
    "plt.plot(p_calc[1:], label = \"Modeled Price\")\n",
    "plt.plot(mar_p[1:], label = \"Market Price\")\n",
    "plt.title('Prices')\n",
    "plt.xlabel('Period')\n",
    "plt.ylabel('Price')"
   ]
  },
  {
   "cell_type": "code",
   "execution_count": null,
   "metadata": {},
   "outputs": [],
   "source": [
    "# Plot expected market price against modeled price\n",
    "plt.plot(p_calc[1:], label = \"Modeled Price\")\n",
    "plt.plot(p_exp[1:], label = \"Expected Price\")\n",
    "plt.ylim((0.998, 1.002))\n",
    "plt.title('Prices')\n",
    "plt.xlabel('Period')\n",
    "plt.ylabel('Price')"
   ]
  },
  {
   "cell_type": "code",
   "execution_count": null,
   "metadata": {},
   "outputs": [],
   "source": [
    "feature.head()"
   ]
  },
  {
   "cell_type": "code",
   "execution_count": null,
   "metadata": {},
   "outputs": [],
   "source": [
    "feature_0"
   ]
  },
  {
   "cell_type": "code",
   "execution_count": null,
   "metadata": {},
   "outputs": [],
   "source": [
    "independent_vars[0]"
   ]
  },
  {
   "cell_type": "code",
   "execution_count": null,
   "metadata": {},
   "outputs": [],
   "source": [
    "feature_0 = np.reshape(independent_vars[0], (-1,15)).copy()\n",
    "feature_0 = np.insert(feature_0, 0, 1, axis=1)"
   ]
  },
  {
   "cell_type": "code",
   "execution_count": null,
   "metadata": {},
   "outputs": [],
   "source": [
    "feature_0"
   ]
  },
  {
   "cell_type": "code",
   "execution_count": null,
   "metadata": {},
   "outputs": [],
   "source": [
    "type(feature_0)"
   ]
  },
  {
   "cell_type": "code",
   "execution_count": null,
   "metadata": {},
   "outputs": [],
   "source": [
    "np.dot(feature_0, -1)"
   ]
  },
  {
   "cell_type": "code",
   "execution_count": null,
   "metadata": {},
   "outputs": [],
   "source": [
    "np.dot(np.log(feature_0[0]), np.ones(np.size(feature_0)))"
   ]
  },
  {
   "cell_type": "code",
   "execution_count": null,
   "metadata": {},
   "outputs": [],
   "source": [
    "sum(feature_0[0])"
   ]
  },
  {
   "cell_type": "code",
   "execution_count": null,
   "metadata": {},
   "outputs": [],
   "source": [
    "feature_0"
   ]
  },
  {
   "cell_type": "code",
   "execution_count": null,
   "metadata": {},
   "outputs": [],
   "source": []
  }
 ],
 "metadata": {
  "kernelspec": {
   "display_name": "Python 3",
   "language": "python",
   "name": "python3"
  },
  "language_info": {
   "codemirror_mode": {
    "name": "ipython",
    "version": 3
   },
   "file_extension": ".py",
   "mimetype": "text/x-python",
   "name": "python",
   "nbconvert_exporter": "python",
   "pygments_lexer": "ipython3",
   "version": "3.8.6"
  }
 },
 "nbformat": 4,
 "nbformat_minor": 4
}
