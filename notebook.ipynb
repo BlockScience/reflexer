{
 "cells": [
  {
   "cell_type": "markdown",
   "metadata": {},
   "source": [
    "# Reflexer Model & Simulation"
   ]
  },
  {
   "cell_type": "code",
   "execution_count": 63,
   "metadata": {},
   "outputs": [
    {
     "name": "stdout",
     "output_type": "stream",
     "text": [
      "The autoreload extension is already loaded. To reload it, use:\n",
      "  %reload_ext autoreload\n"
     ]
    }
   ],
   "source": [
    "%load_ext autoreload\n",
    "%autoreload 2\n",
    "\n",
    "import pandas as pd\n",
    "pd.options.mode.chained_assignment = None\n",
    "\n",
    "from models.v1.run import run"
   ]
  },
  {
   "cell_type": "code",
   "execution_count": 64,
   "metadata": {
    "tags": []
   },
   "outputs": [
    {
     "name": "stdout",
     "output_type": "stream",
     "text": [
      "\n",
      "                  ___________    ____\n",
      "  ________ __ ___/ / ____/   |  / __ \\\n",
      " / ___/ __` / __  / /   / /| | / / / /\n",
      "/ /__/ /_/ / /_/ / /___/ ___ |/ /_/ /\n",
      "\\___/\\__,_/\\__,_/\\____/_/  |_/_____/\n",
      "by cadCAD\n",
      "\n",
      "Execution Mode: local_proc\n",
      "Configuration Count: 1\n",
      "Dimensions of the first simulation: (Timesteps, Params, Runs, Vars) = (720, 13, 1, 15)\n",
      "Execution Method: local_simulations\n",
      "SimIDs   : [0]\n",
      "SubsetIDs: [0]\n",
      "Ns       : [0]\n",
      "ExpIDs   : [0]\n",
      "Execution Mode: single_threaded\n",
      "Total execution time: 1.30s\n"
     ]
    }
   ],
   "source": [
    "drop_midsteps = True\n",
    "fdf = run(drop_midsteps)"
   ]
  },
  {
   "cell_type": "code",
   "execution_count": 65,
   "metadata": {},
   "outputs": [],
   "source": [
    "#df = fdf\n",
    "df = fdf[fdf.timestep < 100]"
   ]
  },
  {
   "cell_type": "code",
   "execution_count": 66,
   "metadata": {},
   "outputs": [],
   "source": [
    "import matplotlib.pyplot as plt\n",
    "\n",
    "pd.options.plotting.backend = \"plotly\""
   ]
  },
  {
   "cell_type": "code",
   "execution_count": 67,
   "metadata": {},
   "outputs": [],
   "source": [
    "FXcols = [\n",
    "    'error_star',\n",
    "    'error_hat',\n",
    "    'old_error_star',\n",
    "    'old_error_hat',\n",
    "    'error_star_integral',\n",
    "    'error_hat_integral',\n",
    "    'error_star_derivative',\n",
    "    'error_hat_derivative',\n",
    "    'target_rate',\n",
    "    'target_price',\n",
    "    'market_price',\n",
    "    'debt_price'\n",
    "]"
   ]
  },
  {
   "cell_type": "code",
   "execution_count": 68,
   "metadata": {
    "tags": []
   },
   "outputs": [
    {
     "name": "stdout",
     "output_type": "stream",
     "text": [
      "error_star\n",
      "error_hat\n",
      "old_error_star\n",
      "old_error_hat\n",
      "error_star_integral\n",
      "error_hat_integral\n",
      "error_star_derivative\n",
      "error_hat_derivative\n",
      "target_rate\n",
      "target_price\n",
      "market_price\n",
      "debt_price\n"
     ]
    }
   ],
   "source": [
    "for c in FXcols:\n",
    "    print(c)\n",
    "    df[c] = df[c].apply(lambda x: float(x))"
   ]
  },
  {
   "cell_type": "code",
   "execution_count": 69,
   "metadata": {},
   "outputs": [],
   "source": [
    "df['target_rate_hourly'] = df.target_rate * 3600\n",
    "df['error_star_derivative_scaled'] = df.error_star_derivative * 3600\n",
    "df['error_hat_derivative_scaled'] = df.error_star_derivative * 3600"
   ]
  },
  {
   "cell_type": "code",
   "execution_count": 70,
   "metadata": {},
   "outputs": [
    {
     "data": {
      "application/vnd.plotly.v1+json": {
       "config": {
        "plotlyServerURL": "https://plot.ly"
       },
       "data": [
        {
         "hovertemplate": "variable=debt_price<br>index=%{x}<br>value=%{y}<extra></extra>",
         "legendgroup": "debt_price",
         "line": {
          "color": "#636efa",
          "dash": "solid"
         },
         "mode": "lines",
         "name": "debt_price",
         "orientation": "v",
         "showlegend": true,
         "type": "scatter",
         "x": [
          0,
          1,
          2,
          3,
          4,
          5,
          6,
          7,
          8,
          9,
          10,
          11,
          12,
          13,
          14,
          15,
          16,
          17,
          18,
          19,
          20,
          21,
          22,
          23,
          24,
          25,
          26,
          27,
          28,
          29,
          30,
          31,
          32,
          33,
          34,
          35,
          36,
          37,
          38,
          39,
          40,
          41,
          42,
          43,
          44,
          45,
          46,
          47,
          48,
          49,
          50,
          51,
          52,
          53,
          54,
          55,
          56,
          57,
          58,
          59,
          60,
          61,
          62,
          63,
          64,
          65,
          66,
          67,
          68,
          69,
          70,
          71,
          72,
          73,
          74,
          75,
          76,
          77,
          78,
          79,
          80,
          81,
          82,
          83,
          84,
          85,
          86,
          87,
          88,
          89,
          90,
          91,
          92,
          93,
          94,
          95,
          96,
          97,
          98,
          99
         ],
         "xaxis": "x",
         "y": [
          1,
          1.0009045934447907,
          1.0000710479879014,
          1.0009393162697853,
          0.9999106579102873,
          0.9995990637701809,
          1.0011003529184126,
          1.0020484038359396,
          1.0009242454397647,
          1.000375038663503,
          1.0011643427405583,
          1.000735451698416,
          1.0023820140950894,
          1.004114231906564,
          1.0057321715249727,
          1.0052567501952947,
          1.0044081936690754,
          1.0054086961898565,
          1.005013813972446,
          1.0064390825459026,
          1.0057995152971788,
          1.0076077875209966,
          1.0067830834774147,
          1.008331411345996,
          1.008821965605472,
          1.0077765470055555,
          1.0072009494691871,
          1.007128078914849,
          1.0082599496324423,
          1.0079762669583379,
          1.0094109455488565,
          1.0106913590929418,
          1.0093091784597816,
          1.0086279870325514,
          1.0103177738242841,
          1.009925782135777,
          1.0102799578765147,
          1.0103195982717246,
          1.008334478284981,
          1.0071802531898324,
          1.0066412515700465,
          1.0071128453664286,
          1.0058142335633635,
          1.0049122203671086,
          1.0048561159940224,
          1.0048461717562216,
          1.0056293241240102,
          1.0058947473692228,
          1.0063390572587028,
          1.0061866133506496,
          1.006440863738947,
          1.00608430927787,
          1.0049522758805152,
          1.0045607732617314,
          1.0034318375423712,
          1.0043082203785965,
          1.004827687434529,
          1.0039007932785529,
          1.0047338713987537,
          1.0055891818955807,
          1.0053722848155884,
          1.0059803360347659,
          1.005310568810756,
          1.00670210555584,
          1.0052779381205519,
          1.0055784396620877,
          1.0049896178570747,
          1.0045918167515702,
          1.007254768748834,
          1.0069298750455968,
          1.0067641316517286,
          1.006973157439375,
          1.0059701713486593,
          1.00620282934433,
          1.005148141693296,
          1.00439063293533,
          1.003227654667809,
          1.0022252537665879,
          1.0021720901482183,
          1.0024605357386185,
          1.0016197422814421,
          1.0020132850963357,
          1.0010160359084235,
          1.0026089907994193,
          1.0037497489248717,
          1.0049752733568238,
          1.0040576697717627,
          1.0033872853174108,
          1.0047735194241265,
          1.005803309228964,
          1.006033998259696,
          1.0076171742974236,
          1.0088269295848935,
          1.0085226805722107,
          1.0087804432775598,
          1.0093178397693963,
          1.008320043542851,
          1.00817193674023,
          1.0084700572365708,
          1.0081851234557622
         ],
         "yaxis": "y"
        }
       ],
       "layout": {
        "autosize": true,
        "legend": {
         "title": {
          "text": "variable"
         },
         "tracegroupgap": 0
        },
        "margin": {
         "t": 60
        },
        "template": {
         "data": {
          "bar": [
           {
            "error_x": {
             "color": "#2a3f5f"
            },
            "error_y": {
             "color": "#2a3f5f"
            },
            "marker": {
             "line": {
              "color": "#E5ECF6",
              "width": 0.5
             }
            },
            "type": "bar"
           }
          ],
          "barpolar": [
           {
            "marker": {
             "line": {
              "color": "#E5ECF6",
              "width": 0.5
             }
            },
            "type": "barpolar"
           }
          ],
          "carpet": [
           {
            "aaxis": {
             "endlinecolor": "#2a3f5f",
             "gridcolor": "white",
             "linecolor": "white",
             "minorgridcolor": "white",
             "startlinecolor": "#2a3f5f"
            },
            "baxis": {
             "endlinecolor": "#2a3f5f",
             "gridcolor": "white",
             "linecolor": "white",
             "minorgridcolor": "white",
             "startlinecolor": "#2a3f5f"
            },
            "type": "carpet"
           }
          ],
          "choropleth": [
           {
            "colorbar": {
             "outlinewidth": 0,
             "ticks": ""
            },
            "type": "choropleth"
           }
          ],
          "contour": [
           {
            "colorbar": {
             "outlinewidth": 0,
             "ticks": ""
            },
            "colorscale": [
             [
              0,
              "#0d0887"
             ],
             [
              0.1111111111111111,
              "#46039f"
             ],
             [
              0.2222222222222222,
              "#7201a8"
             ],
             [
              0.3333333333333333,
              "#9c179e"
             ],
             [
              0.4444444444444444,
              "#bd3786"
             ],
             [
              0.5555555555555556,
              "#d8576b"
             ],
             [
              0.6666666666666666,
              "#ed7953"
             ],
             [
              0.7777777777777778,
              "#fb9f3a"
             ],
             [
              0.8888888888888888,
              "#fdca26"
             ],
             [
              1,
              "#f0f921"
             ]
            ],
            "type": "contour"
           }
          ],
          "contourcarpet": [
           {
            "colorbar": {
             "outlinewidth": 0,
             "ticks": ""
            },
            "type": "contourcarpet"
           }
          ],
          "heatmap": [
           {
            "colorbar": {
             "outlinewidth": 0,
             "ticks": ""
            },
            "colorscale": [
             [
              0,
              "#0d0887"
             ],
             [
              0.1111111111111111,
              "#46039f"
             ],
             [
              0.2222222222222222,
              "#7201a8"
             ],
             [
              0.3333333333333333,
              "#9c179e"
             ],
             [
              0.4444444444444444,
              "#bd3786"
             ],
             [
              0.5555555555555556,
              "#d8576b"
             ],
             [
              0.6666666666666666,
              "#ed7953"
             ],
             [
              0.7777777777777778,
              "#fb9f3a"
             ],
             [
              0.8888888888888888,
              "#fdca26"
             ],
             [
              1,
              "#f0f921"
             ]
            ],
            "type": "heatmap"
           }
          ],
          "heatmapgl": [
           {
            "colorbar": {
             "outlinewidth": 0,
             "ticks": ""
            },
            "colorscale": [
             [
              0,
              "#0d0887"
             ],
             [
              0.1111111111111111,
              "#46039f"
             ],
             [
              0.2222222222222222,
              "#7201a8"
             ],
             [
              0.3333333333333333,
              "#9c179e"
             ],
             [
              0.4444444444444444,
              "#bd3786"
             ],
             [
              0.5555555555555556,
              "#d8576b"
             ],
             [
              0.6666666666666666,
              "#ed7953"
             ],
             [
              0.7777777777777778,
              "#fb9f3a"
             ],
             [
              0.8888888888888888,
              "#fdca26"
             ],
             [
              1,
              "#f0f921"
             ]
            ],
            "type": "heatmapgl"
           }
          ],
          "histogram": [
           {
            "marker": {
             "colorbar": {
              "outlinewidth": 0,
              "ticks": ""
             }
            },
            "type": "histogram"
           }
          ],
          "histogram2d": [
           {
            "colorbar": {
             "outlinewidth": 0,
             "ticks": ""
            },
            "colorscale": [
             [
              0,
              "#0d0887"
             ],
             [
              0.1111111111111111,
              "#46039f"
             ],
             [
              0.2222222222222222,
              "#7201a8"
             ],
             [
              0.3333333333333333,
              "#9c179e"
             ],
             [
              0.4444444444444444,
              "#bd3786"
             ],
             [
              0.5555555555555556,
              "#d8576b"
             ],
             [
              0.6666666666666666,
              "#ed7953"
             ],
             [
              0.7777777777777778,
              "#fb9f3a"
             ],
             [
              0.8888888888888888,
              "#fdca26"
             ],
             [
              1,
              "#f0f921"
             ]
            ],
            "type": "histogram2d"
           }
          ],
          "histogram2dcontour": [
           {
            "colorbar": {
             "outlinewidth": 0,
             "ticks": ""
            },
            "colorscale": [
             [
              0,
              "#0d0887"
             ],
             [
              0.1111111111111111,
              "#46039f"
             ],
             [
              0.2222222222222222,
              "#7201a8"
             ],
             [
              0.3333333333333333,
              "#9c179e"
             ],
             [
              0.4444444444444444,
              "#bd3786"
             ],
             [
              0.5555555555555556,
              "#d8576b"
             ],
             [
              0.6666666666666666,
              "#ed7953"
             ],
             [
              0.7777777777777778,
              "#fb9f3a"
             ],
             [
              0.8888888888888888,
              "#fdca26"
             ],
             [
              1,
              "#f0f921"
             ]
            ],
            "type": "histogram2dcontour"
           }
          ],
          "mesh3d": [
           {
            "colorbar": {
             "outlinewidth": 0,
             "ticks": ""
            },
            "type": "mesh3d"
           }
          ],
          "parcoords": [
           {
            "line": {
             "colorbar": {
              "outlinewidth": 0,
              "ticks": ""
             }
            },
            "type": "parcoords"
           }
          ],
          "pie": [
           {
            "automargin": true,
            "type": "pie"
           }
          ],
          "scatter": [
           {
            "marker": {
             "colorbar": {
              "outlinewidth": 0,
              "ticks": ""
             }
            },
            "type": "scatter"
           }
          ],
          "scatter3d": [
           {
            "line": {
             "colorbar": {
              "outlinewidth": 0,
              "ticks": ""
             }
            },
            "marker": {
             "colorbar": {
              "outlinewidth": 0,
              "ticks": ""
             }
            },
            "type": "scatter3d"
           }
          ],
          "scattercarpet": [
           {
            "marker": {
             "colorbar": {
              "outlinewidth": 0,
              "ticks": ""
             }
            },
            "type": "scattercarpet"
           }
          ],
          "scattergeo": [
           {
            "marker": {
             "colorbar": {
              "outlinewidth": 0,
              "ticks": ""
             }
            },
            "type": "scattergeo"
           }
          ],
          "scattergl": [
           {
            "marker": {
             "colorbar": {
              "outlinewidth": 0,
              "ticks": ""
             }
            },
            "type": "scattergl"
           }
          ],
          "scattermapbox": [
           {
            "marker": {
             "colorbar": {
              "outlinewidth": 0,
              "ticks": ""
             }
            },
            "type": "scattermapbox"
           }
          ],
          "scatterpolar": [
           {
            "marker": {
             "colorbar": {
              "outlinewidth": 0,
              "ticks": ""
             }
            },
            "type": "scatterpolar"
           }
          ],
          "scatterpolargl": [
           {
            "marker": {
             "colorbar": {
              "outlinewidth": 0,
              "ticks": ""
             }
            },
            "type": "scatterpolargl"
           }
          ],
          "scatterternary": [
           {
            "marker": {
             "colorbar": {
              "outlinewidth": 0,
              "ticks": ""
             }
            },
            "type": "scatterternary"
           }
          ],
          "surface": [
           {
            "colorbar": {
             "outlinewidth": 0,
             "ticks": ""
            },
            "colorscale": [
             [
              0,
              "#0d0887"
             ],
             [
              0.1111111111111111,
              "#46039f"
             ],
             [
              0.2222222222222222,
              "#7201a8"
             ],
             [
              0.3333333333333333,
              "#9c179e"
             ],
             [
              0.4444444444444444,
              "#bd3786"
             ],
             [
              0.5555555555555556,
              "#d8576b"
             ],
             [
              0.6666666666666666,
              "#ed7953"
             ],
             [
              0.7777777777777778,
              "#fb9f3a"
             ],
             [
              0.8888888888888888,
              "#fdca26"
             ],
             [
              1,
              "#f0f921"
             ]
            ],
            "type": "surface"
           }
          ],
          "table": [
           {
            "cells": {
             "fill": {
              "color": "#EBF0F8"
             },
             "line": {
              "color": "white"
             }
            },
            "header": {
             "fill": {
              "color": "#C8D4E3"
             },
             "line": {
              "color": "white"
             }
            },
            "type": "table"
           }
          ]
         },
         "layout": {
          "annotationdefaults": {
           "arrowcolor": "#2a3f5f",
           "arrowhead": 0,
           "arrowwidth": 1
          },
          "coloraxis": {
           "colorbar": {
            "outlinewidth": 0,
            "ticks": ""
           }
          },
          "colorscale": {
           "diverging": [
            [
             0,
             "#8e0152"
            ],
            [
             0.1,
             "#c51b7d"
            ],
            [
             0.2,
             "#de77ae"
            ],
            [
             0.3,
             "#f1b6da"
            ],
            [
             0.4,
             "#fde0ef"
            ],
            [
             0.5,
             "#f7f7f7"
            ],
            [
             0.6,
             "#e6f5d0"
            ],
            [
             0.7,
             "#b8e186"
            ],
            [
             0.8,
             "#7fbc41"
            ],
            [
             0.9,
             "#4d9221"
            ],
            [
             1,
             "#276419"
            ]
           ],
           "sequential": [
            [
             0,
             "#0d0887"
            ],
            [
             0.1111111111111111,
             "#46039f"
            ],
            [
             0.2222222222222222,
             "#7201a8"
            ],
            [
             0.3333333333333333,
             "#9c179e"
            ],
            [
             0.4444444444444444,
             "#bd3786"
            ],
            [
             0.5555555555555556,
             "#d8576b"
            ],
            [
             0.6666666666666666,
             "#ed7953"
            ],
            [
             0.7777777777777778,
             "#fb9f3a"
            ],
            [
             0.8888888888888888,
             "#fdca26"
            ],
            [
             1,
             "#f0f921"
            ]
           ],
           "sequentialminus": [
            [
             0,
             "#0d0887"
            ],
            [
             0.1111111111111111,
             "#46039f"
            ],
            [
             0.2222222222222222,
             "#7201a8"
            ],
            [
             0.3333333333333333,
             "#9c179e"
            ],
            [
             0.4444444444444444,
             "#bd3786"
            ],
            [
             0.5555555555555556,
             "#d8576b"
            ],
            [
             0.6666666666666666,
             "#ed7953"
            ],
            [
             0.7777777777777778,
             "#fb9f3a"
            ],
            [
             0.8888888888888888,
             "#fdca26"
            ],
            [
             1,
             "#f0f921"
            ]
           ]
          },
          "colorway": [
           "#636efa",
           "#EF553B",
           "#00cc96",
           "#ab63fa",
           "#FFA15A",
           "#19d3f3",
           "#FF6692",
           "#B6E880",
           "#FF97FF",
           "#FECB52"
          ],
          "font": {
           "color": "#2a3f5f"
          },
          "geo": {
           "bgcolor": "white",
           "lakecolor": "white",
           "landcolor": "#E5ECF6",
           "showlakes": true,
           "showland": true,
           "subunitcolor": "white"
          },
          "hoverlabel": {
           "align": "left"
          },
          "hovermode": "closest",
          "mapbox": {
           "style": "light"
          },
          "paper_bgcolor": "white",
          "plot_bgcolor": "#E5ECF6",
          "polar": {
           "angularaxis": {
            "gridcolor": "white",
            "linecolor": "white",
            "ticks": ""
           },
           "bgcolor": "#E5ECF6",
           "radialaxis": {
            "gridcolor": "white",
            "linecolor": "white",
            "ticks": ""
           }
          },
          "scene": {
           "xaxis": {
            "backgroundcolor": "#E5ECF6",
            "gridcolor": "white",
            "gridwidth": 2,
            "linecolor": "white",
            "showbackground": true,
            "ticks": "",
            "zerolinecolor": "white"
           },
           "yaxis": {
            "backgroundcolor": "#E5ECF6",
            "gridcolor": "white",
            "gridwidth": 2,
            "linecolor": "white",
            "showbackground": true,
            "ticks": "",
            "zerolinecolor": "white"
           },
           "zaxis": {
            "backgroundcolor": "#E5ECF6",
            "gridcolor": "white",
            "gridwidth": 2,
            "linecolor": "white",
            "showbackground": true,
            "ticks": "",
            "zerolinecolor": "white"
           }
          },
          "shapedefaults": {
           "line": {
            "color": "#2a3f5f"
           }
          },
          "ternary": {
           "aaxis": {
            "gridcolor": "white",
            "linecolor": "white",
            "ticks": ""
           },
           "baxis": {
            "gridcolor": "white",
            "linecolor": "white",
            "ticks": ""
           },
           "bgcolor": "#E5ECF6",
           "caxis": {
            "gridcolor": "white",
            "linecolor": "white",
            "ticks": ""
           }
          },
          "title": {
           "x": 0.05
          },
          "xaxis": {
           "automargin": true,
           "gridcolor": "white",
           "linecolor": "white",
           "ticks": "",
           "title": {
            "standoff": 15
           },
           "zerolinecolor": "white",
           "zerolinewidth": 2
          },
          "yaxis": {
           "automargin": true,
           "gridcolor": "white",
           "linecolor": "white",
           "ticks": "",
           "title": {
            "standoff": 15
           },
           "zerolinecolor": "white",
           "zerolinewidth": 2
          }
         }
        },
        "xaxis": {
         "anchor": "y",
         "autorange": true,
         "domain": [
          0,
          1
         ],
         "range": [
          0,
          99
         ],
         "title": {
          "text": "index"
         },
         "type": "linear"
        },
        "yaxis": {
         "anchor": "x",
         "autorange": true,
         "domain": [
          0,
          1
         ],
         "range": [
          0.9989828251411387,
          1.011307597721984
         ],
         "title": {
          "text": "value"
         },
         "type": "linear"
        }
       }
      },
      "image/png": "[encoded data removed]",
      "text/html": [
       "<div>\n",
       "        \n",
       "        \n",
       "            <div id=\"0b98aad3-4283-4cf7-89aa-e3fa0f22ccbd\" class=\"plotly-graph-div\" style=\"height:525px; width:100%;\"></div>\n",
       "            <script type=\"text/javascript\">\n",
       "                require([\"plotly\"], function(Plotly) {\n",
       "                    window.PLOTLYENV=window.PLOTLYENV || {};\n",
       "                    \n",
       "                if (document.getElementById(\"0b98aad3-4283-4cf7-89aa-e3fa0f22ccbd\")) {\n",
       "                    Plotly.newPlot(\n",
       "                        '0b98aad3-4283-4cf7-89aa-e3fa0f22ccbd',\n",
       "                        [{\"hovertemplate\": \"variable=debt_price<br>index=%{x}<br>value=%{y}<extra></extra>\", \"legendgroup\": \"debt_price\", \"line\": {\"color\": \"#636efa\", \"dash\": \"solid\"}, \"mode\": \"lines\", \"name\": \"debt_price\", \"orientation\": \"v\", \"showlegend\": true, \"type\": \"scatter\", \"x\": [0, 1, 2, 3, 4, 5, 6, 7, 8, 9, 10, 11, 12, 13, 14, 15, 16, 17, 18, 19, 20, 21, 22, 23, 24, 25, 26, 27, 28, 29, 30, 31, 32, 33, 34, 35, 36, 37, 38, 39, 40, 41, 42, 43, 44, 45, 46, 47, 48, 49, 50, 51, 52, 53, 54, 55, 56, 57, 58, 59, 60, 61, 62, 63, 64, 65, 66, 67, 68, 69, 70, 71, 72, 73, 74, 75, 76, 77, 78, 79, 80, 81, 82, 83, 84, 85, 86, 87, 88, 89, 90, 91, 92, 93, 94, 95, 96, 97, 98, 99], \"xaxis\": \"x\", \"y\": [1.0, 1.0009045934447907, 1.0000710479879014, 1.0009393162697853, 0.9999106579102873, 0.9995990637701809, 1.0011003529184126, 1.0020484038359396, 1.0009242454397647, 1.000375038663503, 1.0011643427405583, 1.000735451698416, 1.0023820140950894, 1.004114231906564, 1.0057321715249727, 1.0052567501952947, 1.0044081936690754, 1.0054086961898565, 1.005013813972446, 1.0064390825459026, 1.0057995152971788, 1.0076077875209966, 1.0067830834774147, 1.008331411345996, 1.008821965605472, 1.0077765470055555, 1.0072009494691871, 1.007128078914849, 1.0082599496324423, 1.0079762669583379, 1.0094109455488565, 1.0106913590929418, 1.0093091784597816, 1.0086279870325514, 1.0103177738242841, 1.009925782135777, 1.0102799578765147, 1.0103195982717246, 1.008334478284981, 1.0071802531898324, 1.0066412515700465, 1.0071128453664286, 1.0058142335633635, 1.0049122203671086, 1.0048561159940224, 1.0048461717562216, 1.0056293241240102, 1.0058947473692228, 1.0063390572587028, 1.0061866133506496, 1.006440863738947, 1.00608430927787, 1.0049522758805152, 1.0045607732617314, 1.0034318375423712, 1.0043082203785965, 1.004827687434529, 1.0039007932785529, 1.0047338713987537, 1.0055891818955807, 1.0053722848155884, 1.0059803360347659, 1.005310568810756, 1.00670210555584, 1.0052779381205519, 1.0055784396620877, 1.0049896178570747, 1.0045918167515702, 1.007254768748834, 1.0069298750455968, 1.0067641316517286, 1.006973157439375, 1.0059701713486593, 1.00620282934433, 1.005148141693296, 1.00439063293533, 1.003227654667809, 1.0022252537665879, 1.0021720901482183, 1.0024605357386185, 1.0016197422814421, 1.0020132850963357, 1.0010160359084235, 1.0026089907994193, 1.0037497489248717, 1.0049752733568238, 1.0040576697717627, 1.0033872853174108, 1.0047735194241265, 1.005803309228964, 1.006033998259696, 1.0076171742974236, 1.0088269295848935, 1.0085226805722107, 1.0087804432775598, 1.0093178397693963, 1.008320043542851, 1.00817193674023, 1.0084700572365708, 1.0081851234557622], \"yaxis\": \"y\"}],\n",
       "                        {\"legend\": {\"title\": {\"text\": \"variable\"}, \"tracegroupgap\": 0}, \"margin\": {\"t\": 60}, \"template\": {\"data\": {\"bar\": [{\"error_x\": {\"color\": \"#2a3f5f\"}, \"error_y\": {\"color\": \"#2a3f5f\"}, \"marker\": {\"line\": {\"color\": \"#E5ECF6\", \"width\": 0.5}}, \"type\": \"bar\"}], \"barpolar\": [{\"marker\": {\"line\": {\"color\": \"#E5ECF6\", \"width\": 0.5}}, \"type\": \"barpolar\"}], \"carpet\": [{\"aaxis\": {\"endlinecolor\": \"#2a3f5f\", \"gridcolor\": \"white\", \"linecolor\": \"white\", \"minorgridcolor\": \"white\", \"startlinecolor\": \"#2a3f5f\"}, \"baxis\": {\"endlinecolor\": \"#2a3f5f\", \"gridcolor\": \"white\", \"linecolor\": \"white\", \"minorgridcolor\": \"white\", \"startlinecolor\": \"#2a3f5f\"}, \"type\": \"carpet\"}], \"choropleth\": [{\"colorbar\": {\"outlinewidth\": 0, \"ticks\": \"\"}, \"type\": \"choropleth\"}], \"contour\": [{\"colorbar\": {\"outlinewidth\": 0, \"ticks\": \"\"}, \"colorscale\": [[0.0, \"#0d0887\"], [0.1111111111111111, \"#46039f\"], [0.2222222222222222, \"#7201a8\"], [0.3333333333333333, \"#9c179e\"], [0.4444444444444444, \"#bd3786\"], [0.5555555555555556, \"#d8576b\"], [0.6666666666666666, \"#ed7953\"], [0.7777777777777778, \"#fb9f3a\"], [0.8888888888888888, \"#fdca26\"], [1.0, \"#f0f921\"]], \"type\": \"contour\"}], \"contourcarpet\": [{\"colorbar\": {\"outlinewidth\": 0, \"ticks\": \"\"}, \"type\": \"contourcarpet\"}], \"heatmap\": [{\"colorbar\": {\"outlinewidth\": 0, \"ticks\": \"\"}, \"colorscale\": [[0.0, \"#0d0887\"], [0.1111111111111111, \"#46039f\"], [0.2222222222222222, \"#7201a8\"], [0.3333333333333333, \"#9c179e\"], [0.4444444444444444, \"#bd3786\"], [0.5555555555555556, \"#d8576b\"], [0.6666666666666666, \"#ed7953\"], [0.7777777777777778, \"#fb9f3a\"], [0.8888888888888888, \"#fdca26\"], [1.0, \"#f0f921\"]], \"type\": \"heatmap\"}], \"heatmapgl\": [{\"colorbar\": {\"outlinewidth\": 0, \"ticks\": \"\"}, \"colorscale\": [[0.0, \"#0d0887\"], [0.1111111111111111, \"#46039f\"], [0.2222222222222222, \"#7201a8\"], [0.3333333333333333, \"#9c179e\"], [0.4444444444444444, \"#bd3786\"], [0.5555555555555556, \"#d8576b\"], [0.6666666666666666, \"#ed7953\"], [0.7777777777777778, \"#fb9f3a\"], [0.8888888888888888, \"#fdca26\"], [1.0, \"#f0f921\"]], \"type\": \"heatmapgl\"}], \"histogram\": [{\"marker\": {\"colorbar\": {\"outlinewidth\": 0, \"ticks\": \"\"}}, \"type\": \"histogram\"}], \"histogram2d\": [{\"colorbar\": {\"outlinewidth\": 0, \"ticks\": \"\"}, \"colorscale\": [[0.0, \"#0d0887\"], [0.1111111111111111, \"#46039f\"], [0.2222222222222222, \"#7201a8\"], [0.3333333333333333, \"#9c179e\"], [0.4444444444444444, \"#bd3786\"], [0.5555555555555556, \"#d8576b\"], [0.6666666666666666, \"#ed7953\"], [0.7777777777777778, \"#fb9f3a\"], [0.8888888888888888, \"#fdca26\"], [1.0, \"#f0f921\"]], \"type\": \"histogram2d\"}], \"histogram2dcontour\": [{\"colorbar\": {\"outlinewidth\": 0, \"ticks\": \"\"}, \"colorscale\": [[0.0, \"#0d0887\"], [0.1111111111111111, \"#46039f\"], [0.2222222222222222, \"#7201a8\"], [0.3333333333333333, \"#9c179e\"], [0.4444444444444444, \"#bd3786\"], [0.5555555555555556, \"#d8576b\"], [0.6666666666666666, \"#ed7953\"], [0.7777777777777778, \"#fb9f3a\"], [0.8888888888888888, \"#fdca26\"], [1.0, \"#f0f921\"]], \"type\": \"histogram2dcontour\"}], \"mesh3d\": [{\"colorbar\": {\"outlinewidth\": 0, \"ticks\": \"\"}, \"type\": \"mesh3d\"}], \"parcoords\": [{\"line\": {\"colorbar\": {\"outlinewidth\": 0, \"ticks\": \"\"}}, \"type\": \"parcoords\"}], \"pie\": [{\"automargin\": true, \"type\": \"pie\"}], \"scatter\": [{\"marker\": {\"colorbar\": {\"outlinewidth\": 0, \"ticks\": \"\"}}, \"type\": \"scatter\"}], \"scatter3d\": [{\"line\": {\"colorbar\": {\"outlinewidth\": 0, \"ticks\": \"\"}}, \"marker\": {\"colorbar\": {\"outlinewidth\": 0, \"ticks\": \"\"}}, \"type\": \"scatter3d\"}], \"scattercarpet\": [{\"marker\": {\"colorbar\": {\"outlinewidth\": 0, \"ticks\": \"\"}}, \"type\": \"scattercarpet\"}], \"scattergeo\": [{\"marker\": {\"colorbar\": {\"outlinewidth\": 0, \"ticks\": \"\"}}, \"type\": \"scattergeo\"}], \"scattergl\": [{\"marker\": {\"colorbar\": {\"outlinewidth\": 0, \"ticks\": \"\"}}, \"type\": \"scattergl\"}], \"scattermapbox\": [{\"marker\": {\"colorbar\": {\"outlinewidth\": 0, \"ticks\": \"\"}}, \"type\": \"scattermapbox\"}], \"scatterpolar\": [{\"marker\": {\"colorbar\": {\"outlinewidth\": 0, \"ticks\": \"\"}}, \"type\": \"scatterpolar\"}], \"scatterpolargl\": [{\"marker\": {\"colorbar\": {\"outlinewidth\": 0, \"ticks\": \"\"}}, \"type\": \"scatterpolargl\"}], \"scatterternary\": [{\"marker\": {\"colorbar\": {\"outlinewidth\": 0, \"ticks\": \"\"}}, \"type\": \"scatterternary\"}], \"surface\": [{\"colorbar\": {\"outlinewidth\": 0, \"ticks\": \"\"}, \"colorscale\": [[0.0, \"#0d0887\"], [0.1111111111111111, \"#46039f\"], [0.2222222222222222, \"#7201a8\"], [0.3333333333333333, \"#9c179e\"], [0.4444444444444444, \"#bd3786\"], [0.5555555555555556, \"#d8576b\"], [0.6666666666666666, \"#ed7953\"], [0.7777777777777778, \"#fb9f3a\"], [0.8888888888888888, \"#fdca26\"], [1.0, \"#f0f921\"]], \"type\": \"surface\"}], \"table\": [{\"cells\": {\"fill\": {\"color\": \"#EBF0F8\"}, \"line\": {\"color\": \"white\"}}, \"header\": {\"fill\": {\"color\": \"#C8D4E3\"}, \"line\": {\"color\": \"white\"}}, \"type\": \"table\"}]}, \"layout\": {\"annotationdefaults\": {\"arrowcolor\": \"#2a3f5f\", \"arrowhead\": 0, \"arrowwidth\": 1}, \"coloraxis\": {\"colorbar\": {\"outlinewidth\": 0, \"ticks\": \"\"}}, \"colorscale\": {\"diverging\": [[0, \"#8e0152\"], [0.1, \"#c51b7d\"], [0.2, \"#de77ae\"], [0.3, \"#f1b6da\"], [0.4, \"#fde0ef\"], [0.5, \"#f7f7f7\"], [0.6, \"#e6f5d0\"], [0.7, \"#b8e186\"], [0.8, \"#7fbc41\"], [0.9, \"#4d9221\"], [1, \"#276419\"]], \"sequential\": [[0.0, \"#0d0887\"], [0.1111111111111111, \"#46039f\"], [0.2222222222222222, \"#7201a8\"], [0.3333333333333333, \"#9c179e\"], [0.4444444444444444, \"#bd3786\"], [0.5555555555555556, \"#d8576b\"], [0.6666666666666666, \"#ed7953\"], [0.7777777777777778, \"#fb9f3a\"], [0.8888888888888888, \"#fdca26\"], [1.0, \"#f0f921\"]], \"sequentialminus\": [[0.0, \"#0d0887\"], [0.1111111111111111, \"#46039f\"], [0.2222222222222222, \"#7201a8\"], [0.3333333333333333, \"#9c179e\"], [0.4444444444444444, \"#bd3786\"], [0.5555555555555556, \"#d8576b\"], [0.6666666666666666, \"#ed7953\"], [0.7777777777777778, \"#fb9f3a\"], [0.8888888888888888, \"#fdca26\"], [1.0, \"#f0f921\"]]}, \"colorway\": [\"#636efa\", \"#EF553B\", \"#00cc96\", \"#ab63fa\", \"#FFA15A\", \"#19d3f3\", \"#FF6692\", \"#B6E880\", \"#FF97FF\", \"#FECB52\"], \"font\": {\"color\": \"#2a3f5f\"}, \"geo\": {\"bgcolor\": \"white\", \"lakecolor\": \"white\", \"landcolor\": \"#E5ECF6\", \"showlakes\": true, \"showland\": true, \"subunitcolor\": \"white\"}, \"hoverlabel\": {\"align\": \"left\"}, \"hovermode\": \"closest\", \"mapbox\": {\"style\": \"light\"}, \"paper_bgcolor\": \"white\", \"plot_bgcolor\": \"#E5ECF6\", \"polar\": {\"angularaxis\": {\"gridcolor\": \"white\", \"linecolor\": \"white\", \"ticks\": \"\"}, \"bgcolor\": \"#E5ECF6\", \"radialaxis\": {\"gridcolor\": \"white\", \"linecolor\": \"white\", \"ticks\": \"\"}}, \"scene\": {\"xaxis\": {\"backgroundcolor\": \"#E5ECF6\", \"gridcolor\": \"white\", \"gridwidth\": 2, \"linecolor\": \"white\", \"showbackground\": true, \"ticks\": \"\", \"zerolinecolor\": \"white\"}, \"yaxis\": {\"backgroundcolor\": \"#E5ECF6\", \"gridcolor\": \"white\", \"gridwidth\": 2, \"linecolor\": \"white\", \"showbackground\": true, \"ticks\": \"\", \"zerolinecolor\": \"white\"}, \"zaxis\": {\"backgroundcolor\": \"#E5ECF6\", \"gridcolor\": \"white\", \"gridwidth\": 2, \"linecolor\": \"white\", \"showbackground\": true, \"ticks\": \"\", \"zerolinecolor\": \"white\"}}, \"shapedefaults\": {\"line\": {\"color\": \"#2a3f5f\"}}, \"ternary\": {\"aaxis\": {\"gridcolor\": \"white\", \"linecolor\": \"white\", \"ticks\": \"\"}, \"baxis\": {\"gridcolor\": \"white\", \"linecolor\": \"white\", \"ticks\": \"\"}, \"bgcolor\": \"#E5ECF6\", \"caxis\": {\"gridcolor\": \"white\", \"linecolor\": \"white\", \"ticks\": \"\"}}, \"title\": {\"x\": 0.05}, \"xaxis\": {\"automargin\": true, \"gridcolor\": \"white\", \"linecolor\": \"white\", \"ticks\": \"\", \"title\": {\"standoff\": 15}, \"zerolinecolor\": \"white\", \"zerolinewidth\": 2}, \"yaxis\": {\"automargin\": true, \"gridcolor\": \"white\", \"linecolor\": \"white\", \"ticks\": \"\", \"title\": {\"standoff\": 15}, \"zerolinecolor\": \"white\", \"zerolinewidth\": 2}}}, \"xaxis\": {\"anchor\": \"y\", \"domain\": [0.0, 1.0], \"title\": {\"text\": \"index\"}}, \"yaxis\": {\"anchor\": \"x\", \"domain\": [0.0, 1.0], \"title\": {\"text\": \"value\"}}},\n",
       "                        {\"responsive\": true}\n",
       "                    ).then(function(){\n",
       "                            \n",
       "var gd = document.getElementById('0b98aad3-4283-4cf7-89aa-e3fa0f22ccbd');\n",
       "var x = new MutationObserver(function (mutations, observer) {{\n",
       "        var display = window.getComputedStyle(gd).display;\n",
       "        if (!display || display === 'none') {{\n",
       "            console.log([gd, 'removed!']);\n",
       "            Plotly.purge(gd);\n",
       "            observer.disconnect();\n",
       "        }}\n",
       "}});\n",
       "\n",
       "// Listen for the removal of the full notebook cells\n",
       "var notebookContainer = gd.closest('#notebook-container');\n",
       "if (notebookContainer) {{\n",
       "    x.observe(notebookContainer, {childList: true});\n",
       "}}\n",
       "\n",
       "// Listen for the clearing of the current output cell\n",
       "var outputEl = gd.closest('.output');\n",
       "if (outputEl) {{\n",
       "    x.observe(outputEl, {childList: true});\n",
       "}}\n",
       "\n",
       "                        })\n",
       "                };\n",
       "                });\n",
       "            </script>\n",
       "        </div>"
      ]
     },
     "metadata": {},
     "output_type": "display_data"
    }
   ],
   "source": [
    "df.debt_price.plot()"
   ]
  },
  {
   "cell_type": "code",
   "execution_count": 71,
   "metadata": {},
   "outputs": [
    {
     "data": {
      "application/vnd.plotly.v1+json": {
       "config": {
        "plotlyServerURL": "https://plot.ly"
       },
       "data": [
        {
         "hovertemplate": "variable=target_rate_hourly<br>timestamp=%{x}<br>value=%{y}<extra></extra>",
         "legendgroup": "target_rate_hourly",
         "line": {
          "color": "#636efa",
          "dash": "solid"
         },
         "mode": "lines",
         "name": "target_rate_hourly",
         "orientation": "v",
         "showlegend": true,
         "type": "scatter",
         "x": [
          "2020-09-03T16:51:05.264212",
          "2020-09-03T17:51:53.264212",
          "2020-09-03T18:51:55.264212",
          "2020-09-03T19:52:26.264212",
          "2020-09-03T20:53:21.264212",
          "2020-09-03T21:53:27.264212",
          "2020-09-03T22:53:51.264212",
          "2020-09-03T23:53:59.264212",
          "2020-09-04T00:54:00.264212",
          "2020-09-04T01:54:07.264212",
          "2020-09-04T02:54:32.264212",
          "2020-09-04T03:56:01.264212",
          "2020-09-04T04:58:04.264212",
          "2020-09-04T05:58:29.264212",
          "2020-09-04T06:59:40.264212",
          "2020-09-04T08:00:09.264212",
          "2020-09-04T09:00:14.264212",
          "2020-09-04T10:01:24.264212",
          "2020-09-04T11:01:57.264212",
          "2020-09-04T12:02:10.264212",
          "2020-09-04T13:02:23.264212",
          "2020-09-04T14:03:57.264212",
          "2020-09-04T15:04:03.264212",
          "2020-09-04T16:04:11.264212",
          "2020-09-04T17:05:01.264212",
          "2020-09-04T18:06:01.264212",
          "2020-09-04T19:06:38.264212",
          "2020-09-04T20:07:31.264212",
          "2020-09-04T21:08:19.264212",
          "2020-09-04T22:09:41.264212",
          "2020-09-04T23:11:20.264212",
          "2020-09-05T00:12:43.264212",
          "2020-09-05T01:14:15.264212",
          "2020-09-05T02:14:28.264212",
          "2020-09-05T03:14:40.264212",
          "2020-09-05T04:15:50.264212",
          "2020-09-05T05:17:12.264212",
          "2020-09-05T06:17:45.264212",
          "2020-09-05T07:21:44.264212",
          "2020-09-05T08:22:32.264212",
          "2020-09-05T09:22:42.264212",
          "2020-09-05T10:23:42.264212",
          "2020-09-05T11:26:43.264212",
          "2020-09-05T12:27:50.264212",
          "2020-09-05T13:28:07.264212",
          "2020-09-05T14:29:52.264212",
          "2020-09-05T15:30:57.264212",
          "2020-09-05T16:33:19.264212",
          "2020-09-05T17:33:52.264212",
          "2020-09-05T18:34:28.264212",
          "2020-09-05T19:34:56.264212",
          "2020-09-05T20:35:10.264212",
          "2020-09-05T21:37:02.264212",
          "2020-09-05T22:38:30.264212",
          "2020-09-05T23:40:59.264212",
          "2020-09-06T00:43:59.264212",
          "2020-09-06T01:44:08.264212",
          "2020-09-06T02:46:48.264212",
          "2020-09-06T03:47:27.264212",
          "2020-09-06T04:49:06.264212",
          "2020-09-06T05:50:08.264212",
          "2020-09-06T06:50:28.264212",
          "2020-09-06T07:51:53.264212",
          "2020-09-06T08:51:56.264212",
          "2020-09-06T09:54:03.264212",
          "2020-09-06T10:54:09.264212",
          "2020-09-06T11:54:19.264212",
          "2020-09-06T12:54:57.264212",
          "2020-09-06T13:55:01.264212",
          "2020-09-06T14:57:49.264212",
          "2020-09-06T16:00:52.264212",
          "2020-09-06T17:01:28.264212",
          "2020-09-06T18:04:14.264212",
          "2020-09-06T19:04:33.264212",
          "2020-09-06T20:04:40.264212",
          "2020-09-06T21:04:50.264212",
          "2020-09-06T22:05:20.264212",
          "2020-09-06T23:05:31.264212",
          "2020-09-07T00:06:53.264212",
          "2020-09-07T01:08:14.264212",
          "2020-09-07T02:09:37.264212",
          "2020-09-07T03:09:46.264212",
          "2020-09-07T04:09:48.264212",
          "2020-09-07T05:10:15.264212",
          "2020-09-07T06:10:57.264212",
          "2020-09-07T07:11:22.264212",
          "2020-09-07T08:11:32.264212",
          "2020-09-07T09:12:29.264212",
          "2020-09-07T10:12:33.264212",
          "2020-09-07T11:13:44.264212",
          "2020-09-07T12:13:49.264212",
          "2020-09-07T13:13:50.264212",
          "2020-09-07T14:14:08.264212",
          "2020-09-07T15:14:11.264212",
          "2020-09-07T16:14:26.264212",
          "2020-09-07T17:20:05.264212",
          "2020-09-07T18:20:51.264212",
          "2020-09-07T19:21:36.264212",
          "2020-09-07T20:24:25.264212",
          "2020-09-07T21:25:14.264212"
         ],
         "xaxis": "x",
         "y": [
          0,
          -0.0037666666666660896,
          -6.25429310786331e-05,
          -0.001064362331772129,
          0.0015716478207980196,
          0.0007645775849450575,
          0.0016424732211673364,
          0.000949279202007631,
          0.0011795075485496968,
          0.00030810337236801457,
          0.0001116183941346537,
          -0.0002487309074453983,
          -0.0002993991724464448,
          -1.012530698777346e-05,
          0.0004700233209131103,
          0.0009759375130042073,
          0.0010063440163262435,
          0.0008083658564592708,
          0.0006589053940497672,
          0.00028212490160359465,
          0.00035601989808555553,
          4.180815246911541e-05,
          0.0004135748406843172,
          0.00014449440767819958,
          0.0005891867735964085,
          0.0004975340224693849,
          0.00042254002609047776,
          9.703973504319487e-05,
          -5.8785736384205783e-05,
          -1.0445786095868506e-05,
          -5.801263809530367e-05,
          0.0002958151570334796,
          0.0005559273201985807,
          0.0004158428942749575,
          0.00023651078167219626,
          0.00033371371600502027,
          0.00013132867954217947,
          0.0002043757515526835,
          9.048893967746833e-05,
          -0.00026862995280278225,
          -0.0005702293712416592,
          -0.0007973773165240693,
          -0.0006822441386187443,
          -0.0007616675543311181,
          -0.0006860911164727895,
          -0.0006002459244524314,
          -0.0003969866989126042,
          -9.178080790802311e-05,
          0.00012897732571237174,
          0.00033651426064906006,
          0.00032540587114452714,
          0.0003393096511558266,
          0.00014466108239948993,
          -0.00016693294036830824,
          -0.0003899296341850931,
          -0.0007029379649037227,
          -0.0004729815102300517,
          -0.00033056727714126863,
          -0.00019960449652918922,
          7.322282729973258e-05,
          0.00031791568389420797,
          0.0003631201562419783,
          0.0004797209290077851,
          0.0002316362070477803,
          0.00043138578628843915,
          -3.961856141669953e-05,
          4.1437973512682e-05,
          -0.00030915304489347647,
          -0.0002894423057746634,
          0.00013197626247047657,
          0.00022799821080738986,
          0.0003779307380396722,
          0.0003644030737124781,
          0.00011138418840581955,
          3.046940999838852e-05,
          -0.0003239563182798723,
          -0.0004899336125685277,
          -0.0007911770264349034,
          -0.0009204068793632102,
          -0.0008575317698258141,
          -0.0005997929985509598,
          -0.0004929643562331552,
          -0.00018271488351165755,
          -0.000257158203820977,
          0.00018834282087330616,
          0.00037021122313834337,
          0.0007746178578274879,
          0.000557740640075256,
          0.0003879993394932321,
          0.000341984267579476,
          0.00037896822408596455,
          0.0003780007806336626,
          0.0006448865495863607,
          0.000813394248361742,
          0.000774967245361041,
          0.0007370523111695703,
          0.0005294577247758362,
          0.00019392673871313805,
          -5.092953282736547e-05,
          -0.00015887276042392956
         ],
         "yaxis": "y"
        },
        {
         "hovertemplate": "variable=error_star<br>timestamp=%{x}<br>value=%{y}<extra></extra>",
         "legendgroup": "error_star",
         "line": {
          "color": "#EF553B",
          "dash": "solid"
         },
         "mode": "lines",
         "name": "error_star",
         "orientation": "v",
         "showlegend": true,
         "type": "scatter",
         "x": [
          "2020-09-03T16:51:05.264212",
          "2020-09-03T17:51:53.264212",
          "2020-09-03T18:51:55.264212",
          "2020-09-03T19:52:26.264212",
          "2020-09-03T20:53:21.264212",
          "2020-09-03T21:53:27.264212",
          "2020-09-03T22:53:51.264212",
          "2020-09-03T23:53:59.264212",
          "2020-09-04T00:54:00.264212",
          "2020-09-04T01:54:07.264212",
          "2020-09-04T02:54:32.264212",
          "2020-09-04T03:56:01.264212",
          "2020-09-04T04:58:04.264212",
          "2020-09-04T05:58:29.264212",
          "2020-09-04T06:59:40.264212",
          "2020-09-04T08:00:09.264212",
          "2020-09-04T09:00:14.264212",
          "2020-09-04T10:01:24.264212",
          "2020-09-04T11:01:57.264212",
          "2020-09-04T12:02:10.264212",
          "2020-09-04T13:02:23.264212",
          "2020-09-04T14:03:57.264212",
          "2020-09-04T15:04:03.264212",
          "2020-09-04T16:04:11.264212",
          "2020-09-04T17:05:01.264212",
          "2020-09-04T18:06:01.264212",
          "2020-09-04T19:06:38.264212",
          "2020-09-04T20:07:31.264212",
          "2020-09-04T21:08:19.264212",
          "2020-09-04T22:09:41.264212",
          "2020-09-04T23:11:20.264212",
          "2020-09-05T00:12:43.264212",
          "2020-09-05T01:14:15.264212",
          "2020-09-05T02:14:28.264212",
          "2020-09-05T03:14:40.264212",
          "2020-09-05T04:15:50.264212",
          "2020-09-05T05:17:12.264212",
          "2020-09-05T06:17:45.264212",
          "2020-09-05T07:21:44.264212",
          "2020-09-05T08:22:32.264212",
          "2020-09-05T09:22:42.264212",
          "2020-09-05T10:23:42.264212",
          "2020-09-05T11:26:43.264212",
          "2020-09-05T12:27:50.264212",
          "2020-09-05T13:28:07.264212",
          "2020-09-05T14:29:52.264212",
          "2020-09-05T15:30:57.264212",
          "2020-09-05T16:33:19.264212",
          "2020-09-05T17:33:52.264212",
          "2020-09-05T18:34:28.264212",
          "2020-09-05T19:34:56.264212",
          "2020-09-05T20:35:10.264212",
          "2020-09-05T21:37:02.264212",
          "2020-09-05T22:38:30.264212",
          "2020-09-05T23:40:59.264212",
          "2020-09-06T00:43:59.264212",
          "2020-09-06T01:44:08.264212",
          "2020-09-06T02:46:48.264212",
          "2020-09-06T03:47:27.264212",
          "2020-09-06T04:49:06.264212",
          "2020-09-06T05:50:08.264212",
          "2020-09-06T06:50:28.264212",
          "2020-09-06T07:51:53.264212",
          "2020-09-06T08:51:56.264212",
          "2020-09-06T09:54:03.264212",
          "2020-09-06T10:54:09.264212",
          "2020-09-06T11:54:19.264212",
          "2020-09-06T12:54:57.264212",
          "2020-09-06T13:55:01.264212",
          "2020-09-06T14:57:49.264212",
          "2020-09-06T16:00:52.264212",
          "2020-09-06T17:01:28.264212",
          "2020-09-06T18:04:14.264212",
          "2020-09-06T19:04:33.264212",
          "2020-09-06T20:04:40.264212",
          "2020-09-06T21:04:50.264212",
          "2020-09-06T22:05:20.264212",
          "2020-09-06T23:05:31.264212",
          "2020-09-07T00:06:53.264212",
          "2020-09-07T01:08:14.264212",
          "2020-09-07T02:09:37.264212",
          "2020-09-07T03:09:46.264212",
          "2020-09-07T04:09:48.264212",
          "2020-09-07T05:10:15.264212",
          "2020-09-07T06:10:57.264212",
          "2020-09-07T07:11:22.264212",
          "2020-09-07T08:11:32.264212",
          "2020-09-07T09:12:29.264212",
          "2020-09-07T10:12:33.264212",
          "2020-09-07T11:13:44.264212",
          "2020-09-07T12:13:49.264212",
          "2020-09-07T13:13:50.264212",
          "2020-09-07T14:14:08.264212",
          "2020-09-07T15:14:11.264212",
          "2020-09-07T16:14:26.264212",
          "2020-09-07T17:20:05.264212",
          "2020-09-07T18:20:51.264212",
          "2020-09-07T19:21:36.264212",
          "2020-09-07T20:24:25.264212",
          "2020-09-07T21:25:14.264212"
         ],
         "xaxis": "x",
         "y": [
          0,
          0.0050000000000000044,
          -0.0032724848909884436,
          0.00025359623248504367,
          -0.003414053206159181,
          -5.999406132301276e-05,
          -0.0011877527646800244,
          0.0005288291955190057,
          -0.00013073159110585863,
          0.0011176553650575063,
          0.000630485137796011,
          0.0006798294849442472,
          0.00028319968279489526,
          -0.0002912798888328399,
          -0.0007305737254590756,
          -0.0009136617545228499,
          -0.00034451343409034674,
          0.00015039126768585812,
          0.00024819314229964696,
          0.0005841031991728443,
          9.535653621496501e-05,
          0.00044602250347433684,
          -0.0003470697235622918,
          0.00024316097226613926,
          -0.0005106312090027072,
          -4.4920337351693344e-05,
          8.4881644908292e-05,
          0.00045962216765614935,
          0.0003573437249327395,
          5.155669363720818e-05,
          7.940752850885271e-05,
          -0.0004425107022044992,
          -0.00048640678414527475,
          2.519879761122667e-05,
          0.00024720641022108933,
          -4.848975403080077e-05,
          0.0002521372514599356,
          -1.4077749560891147e-05,
          0.00014427527626862128,
          0.0005239470716282381,
          0.0005757633314214792,
          0.0004888704056445572,
          1.23214234259598e-06,
          0.00010564556410728814,
          -6.561640463734062e-05,
          -0.0001343879045669606,
          -0.0003131149646033954,
          -0.0005006138163104129,
          -0.0004582854801912939,
          -0.0004265283605105789,
          -0.0001259326278980125,
          -6.027453632360795e-05,
          0.00023760097208502709,
          0.0004887406816513781,
          0.00044732820196766057,
          0.0005498344638504757,
          -0.00012368557568789222,
          -0.00022593461102640266,
          -0.00024821636596338644,
          -0.00044019808793243725,
          -0.0004677773863073105,
          -0.00021493414461982985,
          -0.00022366050952395215,
          0.0002562170826128331,
          -0.0001818021426877979,
          0.0005671909778023594,
          8.03886685781942e-05,
          0.0004922361231337912,
          0.0001375644627434497,
          -0.000510239437144087,
          -0.00028464028159627534,
          -0.0002928651121960996,
          -7.394678360122636e-05,
          0.000312290277875964,
          0.00021164354376595828,
          0.0005424172811588676,
          0.00039949240364677973,
          0.0005338713714149697,
          0.0003436013018567212,
          2.791392371070408e-05,
          -0.0003320100189897763,
          -0.00025262100356855986,
          -0.0004977340101860546,
          -6.524612597599627e-05,
          -0.0006131120154788284,
          -0.00044441389819423606,
          -0.0006862998551382862,
          6.36890069887617e-05,
          0.0002474361715579293,
          0.00014127672569106905,
          -2.2840485731723064e-06,
          5.28737607450615e-07,
          -0.00035508052641986573,
          -0.00034284323946107424,
          -6.248212392601912e-05,
          3.072276202861193e-05,
          0.0002856860354340706,
          0.0005391664412422339,
          0.0004900911997526834,
          0.00030368663726733467
         ],
         "yaxis": "y"
        }
       ],
       "layout": {
        "autosize": true,
        "legend": {
         "title": {
          "text": "variable"
         },
         "tracegroupgap": 0
        },
        "margin": {
         "t": 60
        },
        "template": {
         "data": {
          "bar": [
           {
            "error_x": {
             "color": "#2a3f5f"
            },
            "error_y": {
             "color": "#2a3f5f"
            },
            "marker": {
             "line": {
              "color": "#E5ECF6",
              "width": 0.5
             }
            },
            "type": "bar"
           }
          ],
          "barpolar": [
           {
            "marker": {
             "line": {
              "color": "#E5ECF6",
              "width": 0.5
             }
            },
            "type": "barpolar"
           }
          ],
          "carpet": [
           {
            "aaxis": {
             "endlinecolor": "#2a3f5f",
             "gridcolor": "white",
             "linecolor": "white",
             "minorgridcolor": "white",
             "startlinecolor": "#2a3f5f"
            },
            "baxis": {
             "endlinecolor": "#2a3f5f",
             "gridcolor": "white",
             "linecolor": "white",
             "minorgridcolor": "white",
             "startlinecolor": "#2a3f5f"
            },
            "type": "carpet"
           }
          ],
          "choropleth": [
           {
            "colorbar": {
             "outlinewidth": 0,
             "ticks": ""
            },
            "type": "choropleth"
           }
          ],
          "contour": [
           {
            "colorbar": {
             "outlinewidth": 0,
             "ticks": ""
            },
            "colorscale": [
             [
              0,
              "#0d0887"
             ],
             [
              0.1111111111111111,
              "#46039f"
             ],
             [
              0.2222222222222222,
              "#7201a8"
             ],
             [
              0.3333333333333333,
              "#9c179e"
             ],
             [
              0.4444444444444444,
              "#bd3786"
             ],
             [
              0.5555555555555556,
              "#d8576b"
             ],
             [
              0.6666666666666666,
              "#ed7953"
             ],
             [
              0.7777777777777778,
              "#fb9f3a"
             ],
             [
              0.8888888888888888,
              "#fdca26"
             ],
             [
              1,
              "#f0f921"
             ]
            ],
            "type": "contour"
           }
          ],
          "contourcarpet": [
           {
            "colorbar": {
             "outlinewidth": 0,
             "ticks": ""
            },
            "type": "contourcarpet"
           }
          ],
          "heatmap": [
           {
            "colorbar": {
             "outlinewidth": 0,
             "ticks": ""
            },
            "colorscale": [
             [
              0,
              "#0d0887"
             ],
             [
              0.1111111111111111,
              "#46039f"
             ],
             [
              0.2222222222222222,
              "#7201a8"
             ],
             [
              0.3333333333333333,
              "#9c179e"
             ],
             [
              0.4444444444444444,
              "#bd3786"
             ],
             [
              0.5555555555555556,
              "#d8576b"
             ],
             [
              0.6666666666666666,
              "#ed7953"
             ],
             [
              0.7777777777777778,
              "#fb9f3a"
             ],
             [
              0.8888888888888888,
              "#fdca26"
             ],
             [
              1,
              "#f0f921"
             ]
            ],
            "type": "heatmap"
           }
          ],
          "heatmapgl": [
           {
            "colorbar": {
             "outlinewidth": 0,
             "ticks": ""
            },
            "colorscale": [
             [
              0,
              "#0d0887"
             ],
             [
              0.1111111111111111,
              "#46039f"
             ],
             [
              0.2222222222222222,
              "#7201a8"
             ],
             [
              0.3333333333333333,
              "#9c179e"
             ],
             [
              0.4444444444444444,
              "#bd3786"
             ],
             [
              0.5555555555555556,
              "#d8576b"
             ],
             [
              0.6666666666666666,
              "#ed7953"
             ],
             [
              0.7777777777777778,
              "#fb9f3a"
             ],
             [
              0.8888888888888888,
              "#fdca26"
             ],
             [
              1,
              "#f0f921"
             ]
            ],
            "type": "heatmapgl"
           }
          ],
          "histogram": [
           {
            "marker": {
             "colorbar": {
              "outlinewidth": 0,
              "ticks": ""
             }
            },
            "type": "histogram"
           }
          ],
          "histogram2d": [
           {
            "colorbar": {
             "outlinewidth": 0,
             "ticks": ""
            },
            "colorscale": [
             [
              0,
              "#0d0887"
             ],
             [
              0.1111111111111111,
              "#46039f"
             ],
             [
              0.2222222222222222,
              "#7201a8"
             ],
             [
              0.3333333333333333,
              "#9c179e"
             ],
             [
              0.4444444444444444,
              "#bd3786"
             ],
             [
              0.5555555555555556,
              "#d8576b"
             ],
             [
              0.6666666666666666,
              "#ed7953"
             ],
             [
              0.7777777777777778,
              "#fb9f3a"
             ],
             [
              0.8888888888888888,
              "#fdca26"
             ],
             [
              1,
              "#f0f921"
             ]
            ],
            "type": "histogram2d"
           }
          ],
          "histogram2dcontour": [
           {
            "colorbar": {
             "outlinewidth": 0,
             "ticks": ""
            },
            "colorscale": [
             [
              0,
              "#0d0887"
             ],
             [
              0.1111111111111111,
              "#46039f"
             ],
             [
              0.2222222222222222,
              "#7201a8"
             ],
             [
              0.3333333333333333,
              "#9c179e"
             ],
             [
              0.4444444444444444,
              "#bd3786"
             ],
             [
              0.5555555555555556,
              "#d8576b"
             ],
             [
              0.6666666666666666,
              "#ed7953"
             ],
             [
              0.7777777777777778,
              "#fb9f3a"
             ],
             [
              0.8888888888888888,
              "#fdca26"
             ],
             [
              1,
              "#f0f921"
             ]
            ],
            "type": "histogram2dcontour"
           }
          ],
          "mesh3d": [
           {
            "colorbar": {
             "outlinewidth": 0,
             "ticks": ""
            },
            "type": "mesh3d"
           }
          ],
          "parcoords": [
           {
            "line": {
             "colorbar": {
              "outlinewidth": 0,
              "ticks": ""
             }
            },
            "type": "parcoords"
           }
          ],
          "pie": [
           {
            "automargin": true,
            "type": "pie"
           }
          ],
          "scatter": [
           {
            "marker": {
             "colorbar": {
              "outlinewidth": 0,
              "ticks": ""
             }
            },
            "type": "scatter"
           }
          ],
          "scatter3d": [
           {
            "line": {
             "colorbar": {
              "outlinewidth": 0,
              "ticks": ""
             }
            },
            "marker": {
             "colorbar": {
              "outlinewidth": 0,
              "ticks": ""
             }
            },
            "type": "scatter3d"
           }
          ],
          "scattercarpet": [
           {
            "marker": {
             "colorbar": {
              "outlinewidth": 0,
              "ticks": ""
             }
            },
            "type": "scattercarpet"
           }
          ],
          "scattergeo": [
           {
            "marker": {
             "colorbar": {
              "outlinewidth": 0,
              "ticks": ""
             }
            },
            "type": "scattergeo"
           }
          ],
          "scattergl": [
           {
            "marker": {
             "colorbar": {
              "outlinewidth": 0,
              "ticks": ""
             }
            },
            "type": "scattergl"
           }
          ],
          "scattermapbox": [
           {
            "marker": {
             "colorbar": {
              "outlinewidth": 0,
              "ticks": ""
             }
            },
            "type": "scattermapbox"
           }
          ],
          "scatterpolar": [
           {
            "marker": {
             "colorbar": {
              "outlinewidth": 0,
              "ticks": ""
             }
            },
            "type": "scatterpolar"
           }
          ],
          "scatterpolargl": [
           {
            "marker": {
             "colorbar": {
              "outlinewidth": 0,
              "ticks": ""
             }
            },
            "type": "scatterpolargl"
           }
          ],
          "scatterternary": [
           {
            "marker": {
             "colorbar": {
              "outlinewidth": 0,
              "ticks": ""
             }
            },
            "type": "scatterternary"
           }
          ],
          "surface": [
           {
            "colorbar": {
             "outlinewidth": 0,
             "ticks": ""
            },
            "colorscale": [
             [
              0,
              "#0d0887"
             ],
             [
              0.1111111111111111,
              "#46039f"
             ],
             [
              0.2222222222222222,
              "#7201a8"
             ],
             [
              0.3333333333333333,
              "#9c179e"
             ],
             [
              0.4444444444444444,
              "#bd3786"
             ],
             [
              0.5555555555555556,
              "#d8576b"
             ],
             [
              0.6666666666666666,
              "#ed7953"
             ],
             [
              0.7777777777777778,
              "#fb9f3a"
             ],
             [
              0.8888888888888888,
              "#fdca26"
             ],
             [
              1,
              "#f0f921"
             ]
            ],
            "type": "surface"
           }
          ],
          "table": [
           {
            "cells": {
             "fill": {
              "color": "#EBF0F8"
             },
             "line": {
              "color": "white"
             }
            },
            "header": {
             "fill": {
              "color": "#C8D4E3"
             },
             "line": {
              "color": "white"
             }
            },
            "type": "table"
           }
          ]
         },
         "layout": {
          "annotationdefaults": {
           "arrowcolor": "#2a3f5f",
           "arrowhead": 0,
           "arrowwidth": 1
          },
          "coloraxis": {
           "colorbar": {
            "outlinewidth": 0,
            "ticks": ""
           }
          },
          "colorscale": {
           "diverging": [
            [
             0,
             "#8e0152"
            ],
            [
             0.1,
             "#c51b7d"
            ],
            [
             0.2,
             "#de77ae"
            ],
            [
             0.3,
             "#f1b6da"
            ],
            [
             0.4,
             "#fde0ef"
            ],
            [
             0.5,
             "#f7f7f7"
            ],
            [
             0.6,
             "#e6f5d0"
            ],
            [
             0.7,
             "#b8e186"
            ],
            [
             0.8,
             "#7fbc41"
            ],
            [
             0.9,
             "#4d9221"
            ],
            [
             1,
             "#276419"
            ]
           ],
           "sequential": [
            [
             0,
             "#0d0887"
            ],
            [
             0.1111111111111111,
             "#46039f"
            ],
            [
             0.2222222222222222,
             "#7201a8"
            ],
            [
             0.3333333333333333,
             "#9c179e"
            ],
            [
             0.4444444444444444,
             "#bd3786"
            ],
            [
             0.5555555555555556,
             "#d8576b"
            ],
            [
             0.6666666666666666,
             "#ed7953"
            ],
            [
             0.7777777777777778,
             "#fb9f3a"
            ],
            [
             0.8888888888888888,
             "#fdca26"
            ],
            [
             1,
             "#f0f921"
            ]
           ],
           "sequentialminus": [
            [
             0,
             "#0d0887"
            ],
            [
             0.1111111111111111,
             "#46039f"
            ],
            [
             0.2222222222222222,
             "#7201a8"
            ],
            [
             0.3333333333333333,
             "#9c179e"
            ],
            [
             0.4444444444444444,
             "#bd3786"
            ],
            [
             0.5555555555555556,
             "#d8576b"
            ],
            [
             0.6666666666666666,
             "#ed7953"
            ],
            [
             0.7777777777777778,
             "#fb9f3a"
            ],
            [
             0.8888888888888888,
             "#fdca26"
            ],
            [
             1,
             "#f0f921"
            ]
           ]
          },
          "colorway": [
           "#636efa",
           "#EF553B",
           "#00cc96",
           "#ab63fa",
           "#FFA15A",
           "#19d3f3",
           "#FF6692",
           "#B6E880",
           "#FF97FF",
           "#FECB52"
          ],
          "font": {
           "color": "#2a3f5f"
          },
          "geo": {
           "bgcolor": "white",
           "lakecolor": "white",
           "landcolor": "#E5ECF6",
           "showlakes": true,
           "showland": true,
           "subunitcolor": "white"
          },
          "hoverlabel": {
           "align": "left"
          },
          "hovermode": "closest",
          "mapbox": {
           "style": "light"
          },
          "paper_bgcolor": "white",
          "plot_bgcolor": "#E5ECF6",
          "polar": {
           "angularaxis": {
            "gridcolor": "white",
            "linecolor": "white",
            "ticks": ""
           },
           "bgcolor": "#E5ECF6",
           "radialaxis": {
            "gridcolor": "white",
            "linecolor": "white",
            "ticks": ""
           }
          },
          "scene": {
           "xaxis": {
            "backgroundcolor": "#E5ECF6",
            "gridcolor": "white",
            "gridwidth": 2,
            "linecolor": "white",
            "showbackground": true,
            "ticks": "",
            "zerolinecolor": "white"
           },
           "yaxis": {
            "backgroundcolor": "#E5ECF6",
            "gridcolor": "white",
            "gridwidth": 2,
            "linecolor": "white",
            "showbackground": true,
            "ticks": "",
            "zerolinecolor": "white"
           },
           "zaxis": {
            "backgroundcolor": "#E5ECF6",
            "gridcolor": "white",
            "gridwidth": 2,
            "linecolor": "white",
            "showbackground": true,
            "ticks": "",
            "zerolinecolor": "white"
           }
          },
          "shapedefaults": {
           "line": {
            "color": "#2a3f5f"
           }
          },
          "ternary": {
           "aaxis": {
            "gridcolor": "white",
            "linecolor": "white",
            "ticks": ""
           },
           "baxis": {
            "gridcolor": "white",
            "linecolor": "white",
            "ticks": ""
           },
           "bgcolor": "#E5ECF6",
           "caxis": {
            "gridcolor": "white",
            "linecolor": "white",
            "ticks": ""
           }
          },
          "title": {
           "x": 0.05
          },
          "xaxis": {
           "automargin": true,
           "gridcolor": "white",
           "linecolor": "white",
           "ticks": "",
           "title": {
            "standoff": 15
           },
           "zerolinecolor": "white",
           "zerolinewidth": 2
          },
          "yaxis": {
           "automargin": true,
           "gridcolor": "white",
           "linecolor": "white",
           "ticks": "",
           "title": {
            "standoff": 15
           },
           "zerolinecolor": "white",
           "zerolinewidth": 2
          }
         }
        },
        "xaxis": {
         "anchor": "y",
         "autorange": true,
         "domain": [
          0,
          1
         ],
         "range": [
          "2020-09-03 16:51:05.2642",
          "2020-09-07 21:25:14.2642"
         ],
         "title": {
          "text": "timestamp"
         },
         "type": "date"
        },
        "yaxis": {
         "anchor": "x",
         "autorange": true,
         "domain": [
          0,
          1
         ],
         "range": [
          -0.004253703703703095,
          0.00548703703703701
         ],
         "title": {
          "text": "value"
         },
         "type": "linear"
        }
       }
      },
      "image/png": "[encoded data removed]",
      "text/html": [
       "<div>\n",
       "        \n",
       "        \n",
       "            <div id=\"a83be6f2-c077-42b0-967f-773f4c2855cc\" class=\"plotly-graph-div\" style=\"height:525px; width:100%;\"></div>\n",
       "            <script type=\"text/javascript\">\n",
       "                require([\"plotly\"], function(Plotly) {\n",
       "                    window.PLOTLYENV=window.PLOTLYENV || {};\n",
       "                    \n",
       "                if (document.getElementById(\"a83be6f2-c077-42b0-967f-773f4c2855cc\")) {\n",
       "                    Plotly.newPlot(\n",
       "                        'a83be6f2-c077-42b0-967f-773f4c2855cc',\n",
       "                        [{\"hovertemplate\": \"variable=target_rate_hourly<br>timestamp=%{x}<br>value=%{y}<extra></extra>\", \"legendgroup\": \"target_rate_hourly\", \"line\": {\"color\": \"#636efa\", \"dash\": \"solid\"}, \"mode\": \"lines\", \"name\": \"target_rate_hourly\", \"orientation\": \"v\", \"showlegend\": true, \"type\": \"scatter\", \"x\": [\"2020-09-03T16:51:05.264212\", \"2020-09-03T17:51:53.264212\", \"2020-09-03T18:51:55.264212\", \"2020-09-03T19:52:26.264212\", \"2020-09-03T20:53:21.264212\", \"2020-09-03T21:53:27.264212\", \"2020-09-03T22:53:51.264212\", \"2020-09-03T23:53:59.264212\", \"2020-09-04T00:54:00.264212\", \"2020-09-04T01:54:07.264212\", \"2020-09-04T02:54:32.264212\", \"2020-09-04T03:56:01.264212\", \"2020-09-04T04:58:04.264212\", \"2020-09-04T05:58:29.264212\", \"2020-09-04T06:59:40.264212\", \"2020-09-04T08:00:09.264212\", \"2020-09-04T09:00:14.264212\", \"2020-09-04T10:01:24.264212\", \"2020-09-04T11:01:57.264212\", \"2020-09-04T12:02:10.264212\", \"2020-09-04T13:02:23.264212\", \"2020-09-04T14:03:57.264212\", \"2020-09-04T15:04:03.264212\", \"2020-09-04T16:04:11.264212\", \"2020-09-04T17:05:01.264212\", \"2020-09-04T18:06:01.264212\", \"2020-09-04T19:06:38.264212\", \"2020-09-04T20:07:31.264212\", \"2020-09-04T21:08:19.264212\", \"2020-09-04T22:09:41.264212\", \"2020-09-04T23:11:20.264212\", \"2020-09-05T00:12:43.264212\", \"2020-09-05T01:14:15.264212\", \"2020-09-05T02:14:28.264212\", \"2020-09-05T03:14:40.264212\", \"2020-09-05T04:15:50.264212\", \"2020-09-05T05:17:12.264212\", \"2020-09-05T06:17:45.264212\", \"2020-09-05T07:21:44.264212\", \"2020-09-05T08:22:32.264212\", \"2020-09-05T09:22:42.264212\", \"2020-09-05T10:23:42.264212\", \"2020-09-05T11:26:43.264212\", \"2020-09-05T12:27:50.264212\", \"2020-09-05T13:28:07.264212\", \"2020-09-05T14:29:52.264212\", \"2020-09-05T15:30:57.264212\", \"2020-09-05T16:33:19.264212\", \"2020-09-05T17:33:52.264212\", \"2020-09-05T18:34:28.264212\", \"2020-09-05T19:34:56.264212\", \"2020-09-05T20:35:10.264212\", \"2020-09-05T21:37:02.264212\", \"2020-09-05T22:38:30.264212\", \"2020-09-05T23:40:59.264212\", \"2020-09-06T00:43:59.264212\", \"2020-09-06T01:44:08.264212\", \"2020-09-06T02:46:48.264212\", \"2020-09-06T03:47:27.264212\", \"2020-09-06T04:49:06.264212\", \"2020-09-06T05:50:08.264212\", \"2020-09-06T06:50:28.264212\", \"2020-09-06T07:51:53.264212\", \"2020-09-06T08:51:56.264212\", \"2020-09-06T09:54:03.264212\", \"2020-09-06T10:54:09.264212\", \"2020-09-06T11:54:19.264212\", \"2020-09-06T12:54:57.264212\", \"2020-09-06T13:55:01.264212\", \"2020-09-06T14:57:49.264212\", \"2020-09-06T16:00:52.264212\", \"2020-09-06T17:01:28.264212\", \"2020-09-06T18:04:14.264212\", \"2020-09-06T19:04:33.264212\", \"2020-09-06T20:04:40.264212\", \"2020-09-06T21:04:50.264212\", \"2020-09-06T22:05:20.264212\", \"2020-09-06T23:05:31.264212\", \"2020-09-07T00:06:53.264212\", \"2020-09-07T01:08:14.264212\", \"2020-09-07T02:09:37.264212\", \"2020-09-07T03:09:46.264212\", \"2020-09-07T04:09:48.264212\", \"2020-09-07T05:10:15.264212\", \"2020-09-07T06:10:57.264212\", \"2020-09-07T07:11:22.264212\", \"2020-09-07T08:11:32.264212\", \"2020-09-07T09:12:29.264212\", \"2020-09-07T10:12:33.264212\", \"2020-09-07T11:13:44.264212\", \"2020-09-07T12:13:49.264212\", \"2020-09-07T13:13:50.264212\", \"2020-09-07T14:14:08.264212\", \"2020-09-07T15:14:11.264212\", \"2020-09-07T16:14:26.264212\", \"2020-09-07T17:20:05.264212\", \"2020-09-07T18:20:51.264212\", \"2020-09-07T19:21:36.264212\", \"2020-09-07T20:24:25.264212\", \"2020-09-07T21:25:14.264212\"], \"xaxis\": \"x\", \"y\": [0.0, -0.0037666666666660896, -6.25429310786331e-05, -0.001064362331772129, 0.0015716478207980196, 0.0007645775849450575, 0.0016424732211673364, 0.000949279202007631, 0.0011795075485496968, 0.00030810337236801457, 0.0001116183941346537, -0.0002487309074453983, -0.0002993991724464448, -1.012530698777346e-05, 0.0004700233209131103, 0.0009759375130042073, 0.0010063440163262435, 0.0008083658564592708, 0.0006589053940497672, 0.00028212490160359465, 0.00035601989808555553, 4.180815246911541e-05, 0.0004135748406843172, 0.00014449440767819958, 0.0005891867735964085, 0.0004975340224693849, 0.00042254002609047776, 9.703973504319487e-05, -5.8785736384205783e-05, -1.0445786095868506e-05, -5.801263809530367e-05, 0.0002958151570334796, 0.0005559273201985807, 0.0004158428942749575, 0.00023651078167219626, 0.00033371371600502027, 0.00013132867954217947, 0.0002043757515526835, 9.048893967746833e-05, -0.00026862995280278225, -0.0005702293712416592, -0.0007973773165240693, -0.0006822441386187443, -0.0007616675543311181, -0.0006860911164727895, -0.0006002459244524314, -0.0003969866989126042, -9.178080790802311e-05, 0.00012897732571237174, 0.00033651426064906006, 0.00032540587114452714, 0.0003393096511558266, 0.00014466108239948993, -0.00016693294036830824, -0.0003899296341850931, -0.0007029379649037227, -0.0004729815102300517, -0.00033056727714126863, -0.00019960449652918922, 7.322282729973258e-05, 0.00031791568389420797, 0.0003631201562419783, 0.0004797209290077851, 0.0002316362070477803, 0.00043138578628843915, -3.961856141669953e-05, 4.1437973512682e-05, -0.00030915304489347647, -0.0002894423057746634, 0.00013197626247047657, 0.00022799821080738986, 0.0003779307380396722, 0.0003644030737124781, 0.00011138418840581955, 3.046940999838852e-05, -0.0003239563182798723, -0.0004899336125685277, -0.0007911770264349034, -0.0009204068793632102, -0.0008575317698258141, -0.0005997929985509598, -0.0004929643562331552, -0.00018271488351165755, -0.000257158203820977, 0.00018834282087330616, 0.00037021122313834337, 0.0007746178578274879, 0.000557740640075256, 0.0003879993394932321, 0.000341984267579476, 0.00037896822408596455, 0.0003780007806336626, 0.0006448865495863607, 0.000813394248361742, 0.000774967245361041, 0.0007370523111695703, 0.0005294577247758362, 0.00019392673871313805, -5.092953282736547e-05, -0.00015887276042392956], \"yaxis\": \"y\"}, {\"hovertemplate\": \"variable=error_star<br>timestamp=%{x}<br>value=%{y}<extra></extra>\", \"legendgroup\": \"error_star\", \"line\": {\"color\": \"#EF553B\", \"dash\": \"solid\"}, \"mode\": \"lines\", \"name\": \"error_star\", \"orientation\": \"v\", \"showlegend\": true, \"type\": \"scatter\", \"x\": [\"2020-09-03T16:51:05.264212\", \"2020-09-03T17:51:53.264212\", \"2020-09-03T18:51:55.264212\", \"2020-09-03T19:52:26.264212\", \"2020-09-03T20:53:21.264212\", \"2020-09-03T21:53:27.264212\", \"2020-09-03T22:53:51.264212\", \"2020-09-03T23:53:59.264212\", \"2020-09-04T00:54:00.264212\", \"2020-09-04T01:54:07.264212\", \"2020-09-04T02:54:32.264212\", \"2020-09-04T03:56:01.264212\", \"2020-09-04T04:58:04.264212\", \"2020-09-04T05:58:29.264212\", \"2020-09-04T06:59:40.264212\", \"2020-09-04T08:00:09.264212\", \"2020-09-04T09:00:14.264212\", \"2020-09-04T10:01:24.264212\", \"2020-09-04T11:01:57.264212\", \"2020-09-04T12:02:10.264212\", \"2020-09-04T13:02:23.264212\", \"2020-09-04T14:03:57.264212\", \"2020-09-04T15:04:03.264212\", \"2020-09-04T16:04:11.264212\", \"2020-09-04T17:05:01.264212\", \"2020-09-04T18:06:01.264212\", \"2020-09-04T19:06:38.264212\", \"2020-09-04T20:07:31.264212\", \"2020-09-04T21:08:19.264212\", \"2020-09-04T22:09:41.264212\", \"2020-09-04T23:11:20.264212\", \"2020-09-05T00:12:43.264212\", \"2020-09-05T01:14:15.264212\", \"2020-09-05T02:14:28.264212\", \"2020-09-05T03:14:40.264212\", \"2020-09-05T04:15:50.264212\", \"2020-09-05T05:17:12.264212\", \"2020-09-05T06:17:45.264212\", \"2020-09-05T07:21:44.264212\", \"2020-09-05T08:22:32.264212\", \"2020-09-05T09:22:42.264212\", \"2020-09-05T10:23:42.264212\", \"2020-09-05T11:26:43.264212\", \"2020-09-05T12:27:50.264212\", \"2020-09-05T13:28:07.264212\", \"2020-09-05T14:29:52.264212\", \"2020-09-05T15:30:57.264212\", \"2020-09-05T16:33:19.264212\", \"2020-09-05T17:33:52.264212\", \"2020-09-05T18:34:28.264212\", \"2020-09-05T19:34:56.264212\", \"2020-09-05T20:35:10.264212\", \"2020-09-05T21:37:02.264212\", \"2020-09-05T22:38:30.264212\", \"2020-09-05T23:40:59.264212\", \"2020-09-06T00:43:59.264212\", \"2020-09-06T01:44:08.264212\", \"2020-09-06T02:46:48.264212\", \"2020-09-06T03:47:27.264212\", \"2020-09-06T04:49:06.264212\", \"2020-09-06T05:50:08.264212\", \"2020-09-06T06:50:28.264212\", \"2020-09-06T07:51:53.264212\", \"2020-09-06T08:51:56.264212\", \"2020-09-06T09:54:03.264212\", \"2020-09-06T10:54:09.264212\", \"2020-09-06T11:54:19.264212\", \"2020-09-06T12:54:57.264212\", \"2020-09-06T13:55:01.264212\", \"2020-09-06T14:57:49.264212\", \"2020-09-06T16:00:52.264212\", \"2020-09-06T17:01:28.264212\", \"2020-09-06T18:04:14.264212\", \"2020-09-06T19:04:33.264212\", \"2020-09-06T20:04:40.264212\", \"2020-09-06T21:04:50.264212\", \"2020-09-06T22:05:20.264212\", \"2020-09-06T23:05:31.264212\", \"2020-09-07T00:06:53.264212\", \"2020-09-07T01:08:14.264212\", \"2020-09-07T02:09:37.264212\", \"2020-09-07T03:09:46.264212\", \"2020-09-07T04:09:48.264212\", \"2020-09-07T05:10:15.264212\", \"2020-09-07T06:10:57.264212\", \"2020-09-07T07:11:22.264212\", \"2020-09-07T08:11:32.264212\", \"2020-09-07T09:12:29.264212\", \"2020-09-07T10:12:33.264212\", \"2020-09-07T11:13:44.264212\", \"2020-09-07T12:13:49.264212\", \"2020-09-07T13:13:50.264212\", \"2020-09-07T14:14:08.264212\", \"2020-09-07T15:14:11.264212\", \"2020-09-07T16:14:26.264212\", \"2020-09-07T17:20:05.264212\", \"2020-09-07T18:20:51.264212\", \"2020-09-07T19:21:36.264212\", \"2020-09-07T20:24:25.264212\", \"2020-09-07T21:25:14.264212\"], \"xaxis\": \"x\", \"y\": [0.0, 0.0050000000000000044, -0.0032724848909884436, 0.00025359623248504367, -0.003414053206159181, -5.999406132301276e-05, -0.0011877527646800244, 0.0005288291955190057, -0.00013073159110585863, 0.0011176553650575063, 0.000630485137796011, 0.0006798294849442472, 0.00028319968279489526, -0.0002912798888328399, -0.0007305737254590756, -0.0009136617545228499, -0.00034451343409034674, 0.00015039126768585812, 0.00024819314229964696, 0.0005841031991728443, 9.535653621496501e-05, 0.00044602250347433684, -0.0003470697235622918, 0.00024316097226613926, -0.0005106312090027072, -4.4920337351693344e-05, 8.4881644908292e-05, 0.00045962216765614935, 0.0003573437249327395, 5.155669363720818e-05, 7.940752850885271e-05, -0.0004425107022044992, -0.00048640678414527475, 2.519879761122667e-05, 0.00024720641022108933, -4.848975403080077e-05, 0.0002521372514599356, -1.4077749560891147e-05, 0.00014427527626862128, 0.0005239470716282381, 0.0005757633314214792, 0.0004888704056445572, 1.23214234259598e-06, 0.00010564556410728814, -6.561640463734062e-05, -0.0001343879045669606, -0.0003131149646033954, -0.0005006138163104129, -0.0004582854801912939, -0.0004265283605105789, -0.0001259326278980125, -6.027453632360795e-05, 0.00023760097208502709, 0.0004887406816513781, 0.00044732820196766057, 0.0005498344638504757, -0.00012368557568789222, -0.00022593461102640266, -0.00024821636596338644, -0.00044019808793243725, -0.0004677773863073105, -0.00021493414461982985, -0.00022366050952395215, 0.0002562170826128331, -0.0001818021426877979, 0.0005671909778023594, 8.03886685781942e-05, 0.0004922361231337912, 0.0001375644627434497, -0.000510239437144087, -0.00028464028159627534, -0.0002928651121960996, -7.394678360122636e-05, 0.000312290277875964, 0.00021164354376595828, 0.0005424172811588676, 0.00039949240364677973, 0.0005338713714149697, 0.0003436013018567212, 2.791392371070408e-05, -0.0003320100189897763, -0.00025262100356855986, -0.0004977340101860546, -6.524612597599627e-05, -0.0006131120154788284, -0.00044441389819423606, -0.0006862998551382862, 6.36890069887617e-05, 0.0002474361715579293, 0.00014127672569106905, -2.2840485731723064e-06, 5.28737607450615e-07, -0.00035508052641986573, -0.00034284323946107424, -6.248212392601912e-05, 3.072276202861193e-05, 0.0002856860354340706, 0.0005391664412422339, 0.0004900911997526834, 0.00030368663726733467], \"yaxis\": \"y\"}],\n",
       "                        {\"legend\": {\"title\": {\"text\": \"variable\"}, \"tracegroupgap\": 0}, \"margin\": {\"t\": 60}, \"template\": {\"data\": {\"bar\": [{\"error_x\": {\"color\": \"#2a3f5f\"}, \"error_y\": {\"color\": \"#2a3f5f\"}, \"marker\": {\"line\": {\"color\": \"#E5ECF6\", \"width\": 0.5}}, \"type\": \"bar\"}], \"barpolar\": [{\"marker\": {\"line\": {\"color\": \"#E5ECF6\", \"width\": 0.5}}, \"type\": \"barpolar\"}], \"carpet\": [{\"aaxis\": {\"endlinecolor\": \"#2a3f5f\", \"gridcolor\": \"white\", \"linecolor\": \"white\", \"minorgridcolor\": \"white\", \"startlinecolor\": \"#2a3f5f\"}, \"baxis\": {\"endlinecolor\": \"#2a3f5f\", \"gridcolor\": \"white\", \"linecolor\": \"white\", \"minorgridcolor\": \"white\", \"startlinecolor\": \"#2a3f5f\"}, \"type\": \"carpet\"}], \"choropleth\": [{\"colorbar\": {\"outlinewidth\": 0, \"ticks\": \"\"}, \"type\": \"choropleth\"}], \"contour\": [{\"colorbar\": {\"outlinewidth\": 0, \"ticks\": \"\"}, \"colorscale\": [[0.0, \"#0d0887\"], [0.1111111111111111, \"#46039f\"], [0.2222222222222222, \"#7201a8\"], [0.3333333333333333, \"#9c179e\"], [0.4444444444444444, \"#bd3786\"], [0.5555555555555556, \"#d8576b\"], [0.6666666666666666, \"#ed7953\"], [0.7777777777777778, \"#fb9f3a\"], [0.8888888888888888, \"#fdca26\"], [1.0, \"#f0f921\"]], \"type\": \"contour\"}], \"contourcarpet\": [{\"colorbar\": {\"outlinewidth\": 0, \"ticks\": \"\"}, \"type\": \"contourcarpet\"}], \"heatmap\": [{\"colorbar\": {\"outlinewidth\": 0, \"ticks\": \"\"}, \"colorscale\": [[0.0, \"#0d0887\"], [0.1111111111111111, \"#46039f\"], [0.2222222222222222, \"#7201a8\"], [0.3333333333333333, \"#9c179e\"], [0.4444444444444444, \"#bd3786\"], [0.5555555555555556, \"#d8576b\"], [0.6666666666666666, \"#ed7953\"], [0.7777777777777778, \"#fb9f3a\"], [0.8888888888888888, \"#fdca26\"], [1.0, \"#f0f921\"]], \"type\": \"heatmap\"}], \"heatmapgl\": [{\"colorbar\": {\"outlinewidth\": 0, \"ticks\": \"\"}, \"colorscale\": [[0.0, \"#0d0887\"], [0.1111111111111111, \"#46039f\"], [0.2222222222222222, \"#7201a8\"], [0.3333333333333333, \"#9c179e\"], [0.4444444444444444, \"#bd3786\"], [0.5555555555555556, \"#d8576b\"], [0.6666666666666666, \"#ed7953\"], [0.7777777777777778, \"#fb9f3a\"], [0.8888888888888888, \"#fdca26\"], [1.0, \"#f0f921\"]], \"type\": \"heatmapgl\"}], \"histogram\": [{\"marker\": {\"colorbar\": {\"outlinewidth\": 0, \"ticks\": \"\"}}, \"type\": \"histogram\"}], \"histogram2d\": [{\"colorbar\": {\"outlinewidth\": 0, \"ticks\": \"\"}, \"colorscale\": [[0.0, \"#0d0887\"], [0.1111111111111111, \"#46039f\"], [0.2222222222222222, \"#7201a8\"], [0.3333333333333333, \"#9c179e\"], [0.4444444444444444, \"#bd3786\"], [0.5555555555555556, \"#d8576b\"], [0.6666666666666666, \"#ed7953\"], [0.7777777777777778, \"#fb9f3a\"], [0.8888888888888888, \"#fdca26\"], [1.0, \"#f0f921\"]], \"type\": \"histogram2d\"}], \"histogram2dcontour\": [{\"colorbar\": {\"outlinewidth\": 0, \"ticks\": \"\"}, \"colorscale\": [[0.0, \"#0d0887\"], [0.1111111111111111, \"#46039f\"], [0.2222222222222222, \"#7201a8\"], [0.3333333333333333, \"#9c179e\"], [0.4444444444444444, \"#bd3786\"], [0.5555555555555556, \"#d8576b\"], [0.6666666666666666, \"#ed7953\"], [0.7777777777777778, \"#fb9f3a\"], [0.8888888888888888, \"#fdca26\"], [1.0, \"#f0f921\"]], \"type\": \"histogram2dcontour\"}], \"mesh3d\": [{\"colorbar\": {\"outlinewidth\": 0, \"ticks\": \"\"}, \"type\": \"mesh3d\"}], \"parcoords\": [{\"line\": {\"colorbar\": {\"outlinewidth\": 0, \"ticks\": \"\"}}, \"type\": \"parcoords\"}], \"pie\": [{\"automargin\": true, \"type\": \"pie\"}], \"scatter\": [{\"marker\": {\"colorbar\": {\"outlinewidth\": 0, \"ticks\": \"\"}}, \"type\": \"scatter\"}], \"scatter3d\": [{\"line\": {\"colorbar\": {\"outlinewidth\": 0, \"ticks\": \"\"}}, \"marker\": {\"colorbar\": {\"outlinewidth\": 0, \"ticks\": \"\"}}, \"type\": \"scatter3d\"}], \"scattercarpet\": [{\"marker\": {\"colorbar\": {\"outlinewidth\": 0, \"ticks\": \"\"}}, \"type\": \"scattercarpet\"}], \"scattergeo\": [{\"marker\": {\"colorbar\": {\"outlinewidth\": 0, \"ticks\": \"\"}}, \"type\": \"scattergeo\"}], \"scattergl\": [{\"marker\": {\"colorbar\": {\"outlinewidth\": 0, \"ticks\": \"\"}}, \"type\": \"scattergl\"}], \"scattermapbox\": [{\"marker\": {\"colorbar\": {\"outlinewidth\": 0, \"ticks\": \"\"}}, \"type\": \"scattermapbox\"}], \"scatterpolar\": [{\"marker\": {\"colorbar\": {\"outlinewidth\": 0, \"ticks\": \"\"}}, \"type\": \"scatterpolar\"}], \"scatterpolargl\": [{\"marker\": {\"colorbar\": {\"outlinewidth\": 0, \"ticks\": \"\"}}, \"type\": \"scatterpolargl\"}], \"scatterternary\": [{\"marker\": {\"colorbar\": {\"outlinewidth\": 0, \"ticks\": \"\"}}, \"type\": \"scatterternary\"}], \"surface\": [{\"colorbar\": {\"outlinewidth\": 0, \"ticks\": \"\"}, \"colorscale\": [[0.0, \"#0d0887\"], [0.1111111111111111, \"#46039f\"], [0.2222222222222222, \"#7201a8\"], [0.3333333333333333, \"#9c179e\"], [0.4444444444444444, \"#bd3786\"], [0.5555555555555556, \"#d8576b\"], [0.6666666666666666, \"#ed7953\"], [0.7777777777777778, \"#fb9f3a\"], [0.8888888888888888, \"#fdca26\"], [1.0, \"#f0f921\"]], \"type\": \"surface\"}], \"table\": [{\"cells\": {\"fill\": {\"color\": \"#EBF0F8\"}, \"line\": {\"color\": \"white\"}}, \"header\": {\"fill\": {\"color\": \"#C8D4E3\"}, \"line\": {\"color\": \"white\"}}, \"type\": \"table\"}]}, \"layout\": {\"annotationdefaults\": {\"arrowcolor\": \"#2a3f5f\", \"arrowhead\": 0, \"arrowwidth\": 1}, \"coloraxis\": {\"colorbar\": {\"outlinewidth\": 0, \"ticks\": \"\"}}, \"colorscale\": {\"diverging\": [[0, \"#8e0152\"], [0.1, \"#c51b7d\"], [0.2, \"#de77ae\"], [0.3, \"#f1b6da\"], [0.4, \"#fde0ef\"], [0.5, \"#f7f7f7\"], [0.6, \"#e6f5d0\"], [0.7, \"#b8e186\"], [0.8, \"#7fbc41\"], [0.9, \"#4d9221\"], [1, \"#276419\"]], \"sequential\": [[0.0, \"#0d0887\"], [0.1111111111111111, \"#46039f\"], [0.2222222222222222, \"#7201a8\"], [0.3333333333333333, \"#9c179e\"], [0.4444444444444444, \"#bd3786\"], [0.5555555555555556, \"#d8576b\"], [0.6666666666666666, \"#ed7953\"], [0.7777777777777778, \"#fb9f3a\"], [0.8888888888888888, \"#fdca26\"], [1.0, \"#f0f921\"]], \"sequentialminus\": [[0.0, \"#0d0887\"], [0.1111111111111111, \"#46039f\"], [0.2222222222222222, \"#7201a8\"], [0.3333333333333333, \"#9c179e\"], [0.4444444444444444, \"#bd3786\"], [0.5555555555555556, \"#d8576b\"], [0.6666666666666666, \"#ed7953\"], [0.7777777777777778, \"#fb9f3a\"], [0.8888888888888888, \"#fdca26\"], [1.0, \"#f0f921\"]]}, \"colorway\": [\"#636efa\", \"#EF553B\", \"#00cc96\", \"#ab63fa\", \"#FFA15A\", \"#19d3f3\", \"#FF6692\", \"#B6E880\", \"#FF97FF\", \"#FECB52\"], \"font\": {\"color\": \"#2a3f5f\"}, \"geo\": {\"bgcolor\": \"white\", \"lakecolor\": \"white\", \"landcolor\": \"#E5ECF6\", \"showlakes\": true, \"showland\": true, \"subunitcolor\": \"white\"}, \"hoverlabel\": {\"align\": \"left\"}, \"hovermode\": \"closest\", \"mapbox\": {\"style\": \"light\"}, \"paper_bgcolor\": \"white\", \"plot_bgcolor\": \"#E5ECF6\", \"polar\": {\"angularaxis\": {\"gridcolor\": \"white\", \"linecolor\": \"white\", \"ticks\": \"\"}, \"bgcolor\": \"#E5ECF6\", \"radialaxis\": {\"gridcolor\": \"white\", \"linecolor\": \"white\", \"ticks\": \"\"}}, \"scene\": {\"xaxis\": {\"backgroundcolor\": \"#E5ECF6\", \"gridcolor\": \"white\", \"gridwidth\": 2, \"linecolor\": \"white\", \"showbackground\": true, \"ticks\": \"\", \"zerolinecolor\": \"white\"}, \"yaxis\": {\"backgroundcolor\": \"#E5ECF6\", \"gridcolor\": \"white\", \"gridwidth\": 2, \"linecolor\": \"white\", \"showbackground\": true, \"ticks\": \"\", \"zerolinecolor\": \"white\"}, \"zaxis\": {\"backgroundcolor\": \"#E5ECF6\", \"gridcolor\": \"white\", \"gridwidth\": 2, \"linecolor\": \"white\", \"showbackground\": true, \"ticks\": \"\", \"zerolinecolor\": \"white\"}}, \"shapedefaults\": {\"line\": {\"color\": \"#2a3f5f\"}}, \"ternary\": {\"aaxis\": {\"gridcolor\": \"white\", \"linecolor\": \"white\", \"ticks\": \"\"}, \"baxis\": {\"gridcolor\": \"white\", \"linecolor\": \"white\", \"ticks\": \"\"}, \"bgcolor\": \"#E5ECF6\", \"caxis\": {\"gridcolor\": \"white\", \"linecolor\": \"white\", \"ticks\": \"\"}}, \"title\": {\"x\": 0.05}, \"xaxis\": {\"automargin\": true, \"gridcolor\": \"white\", \"linecolor\": \"white\", \"ticks\": \"\", \"title\": {\"standoff\": 15}, \"zerolinecolor\": \"white\", \"zerolinewidth\": 2}, \"yaxis\": {\"automargin\": true, \"gridcolor\": \"white\", \"linecolor\": \"white\", \"ticks\": \"\", \"title\": {\"standoff\": 15}, \"zerolinecolor\": \"white\", \"zerolinewidth\": 2}}}, \"xaxis\": {\"anchor\": \"y\", \"domain\": [0.0, 1.0], \"title\": {\"text\": \"timestamp\"}}, \"yaxis\": {\"anchor\": \"x\", \"domain\": [0.0, 1.0], \"title\": {\"text\": \"value\"}}},\n",
       "                        {\"responsive\": true}\n",
       "                    ).then(function(){\n",
       "                            \n",
       "var gd = document.getElementById('a83be6f2-c077-42b0-967f-773f4c2855cc');\n",
       "var x = new MutationObserver(function (mutations, observer) {{\n",
       "        var display = window.getComputedStyle(gd).display;\n",
       "        if (!display || display === 'none') {{\n",
       "            console.log([gd, 'removed!']);\n",
       "            Plotly.purge(gd);\n",
       "            observer.disconnect();\n",
       "        }}\n",
       "}});\n",
       "\n",
       "// Listen for the removal of the full notebook cells\n",
       "var notebookContainer = gd.closest('#notebook-container');\n",
       "if (notebookContainer) {{\n",
       "    x.observe(notebookContainer, {childList: true});\n",
       "}}\n",
       "\n",
       "// Listen for the clearing of the current output cell\n",
       "var outputEl = gd.closest('.output');\n",
       "if (outputEl) {{\n",
       "    x.observe(outputEl, {childList: true});\n",
       "}}\n",
       "\n",
       "                        })\n",
       "                };\n",
       "                });\n",
       "            </script>\n",
       "        </div>"
      ]
     },
     "metadata": {},
     "output_type": "display_data"
    }
   ],
   "source": [
    "df.plot(kind='line', x='timestamp', y=['target_rate_hourly', 'error_star'])"
   ]
  },
  {
   "cell_type": "code",
   "execution_count": 72,
   "metadata": {},
   "outputs": [
    {
     "data": {
      "application/vnd.plotly.v1+json": {
       "config": {
        "plotlyServerURL": "https://plot.ly"
       },
       "data": [
        {
         "hovertemplate": "variable=debt_price<br>timestamp=%{x}<br>value=%{y}<extra></extra>",
         "legendgroup": "debt_price",
         "line": {
          "color": "#636efa",
          "dash": "solid"
         },
         "mode": "lines",
         "name": "debt_price",
         "orientation": "v",
         "showlegend": true,
         "type": "scatter",
         "x": [
          "2020-09-03T16:51:05.264212",
          "2020-09-03T17:51:53.264212",
          "2020-09-03T18:51:55.264212",
          "2020-09-03T19:52:26.264212",
          "2020-09-03T20:53:21.264212",
          "2020-09-03T21:53:27.264212",
          "2020-09-03T22:53:51.264212",
          "2020-09-03T23:53:59.264212",
          "2020-09-04T00:54:00.264212",
          "2020-09-04T01:54:07.264212",
          "2020-09-04T02:54:32.264212",
          "2020-09-04T03:56:01.264212",
          "2020-09-04T04:58:04.264212",
          "2020-09-04T05:58:29.264212",
          "2020-09-04T06:59:40.264212",
          "2020-09-04T08:00:09.264212",
          "2020-09-04T09:00:14.264212",
          "2020-09-04T10:01:24.264212",
          "2020-09-04T11:01:57.264212",
          "2020-09-04T12:02:10.264212",
          "2020-09-04T13:02:23.264212",
          "2020-09-04T14:03:57.264212",
          "2020-09-04T15:04:03.264212",
          "2020-09-04T16:04:11.264212",
          "2020-09-04T17:05:01.264212",
          "2020-09-04T18:06:01.264212",
          "2020-09-04T19:06:38.264212",
          "2020-09-04T20:07:31.264212",
          "2020-09-04T21:08:19.264212",
          "2020-09-04T22:09:41.264212",
          "2020-09-04T23:11:20.264212",
          "2020-09-05T00:12:43.264212",
          "2020-09-05T01:14:15.264212",
          "2020-09-05T02:14:28.264212",
          "2020-09-05T03:14:40.264212",
          "2020-09-05T04:15:50.264212",
          "2020-09-05T05:17:12.264212",
          "2020-09-05T06:17:45.264212",
          "2020-09-05T07:21:44.264212",
          "2020-09-05T08:22:32.264212",
          "2020-09-05T09:22:42.264212",
          "2020-09-05T10:23:42.264212",
          "2020-09-05T11:26:43.264212",
          "2020-09-05T12:27:50.264212",
          "2020-09-05T13:28:07.264212",
          "2020-09-05T14:29:52.264212",
          "2020-09-05T15:30:57.264212",
          "2020-09-05T16:33:19.264212",
          "2020-09-05T17:33:52.264212",
          "2020-09-05T18:34:28.264212",
          "2020-09-05T19:34:56.264212",
          "2020-09-05T20:35:10.264212",
          "2020-09-05T21:37:02.264212",
          "2020-09-05T22:38:30.264212",
          "2020-09-05T23:40:59.264212",
          "2020-09-06T00:43:59.264212",
          "2020-09-06T01:44:08.264212",
          "2020-09-06T02:46:48.264212",
          "2020-09-06T03:47:27.264212",
          "2020-09-06T04:49:06.264212",
          "2020-09-06T05:50:08.264212",
          "2020-09-06T06:50:28.264212",
          "2020-09-06T07:51:53.264212",
          "2020-09-06T08:51:56.264212",
          "2020-09-06T09:54:03.264212",
          "2020-09-06T10:54:09.264212",
          "2020-09-06T11:54:19.264212",
          "2020-09-06T12:54:57.264212",
          "2020-09-06T13:55:01.264212",
          "2020-09-06T14:57:49.264212",
          "2020-09-06T16:00:52.264212",
          "2020-09-06T17:01:28.264212",
          "2020-09-06T18:04:14.264212",
          "2020-09-06T19:04:33.264212",
          "2020-09-06T20:04:40.264212",
          "2020-09-06T21:04:50.264212",
          "2020-09-06T22:05:20.264212",
          "2020-09-06T23:05:31.264212",
          "2020-09-07T00:06:53.264212",
          "2020-09-07T01:08:14.264212",
          "2020-09-07T02:09:37.264212",
          "2020-09-07T03:09:46.264212",
          "2020-09-07T04:09:48.264212",
          "2020-09-07T05:10:15.264212",
          "2020-09-07T06:10:57.264212",
          "2020-09-07T07:11:22.264212",
          "2020-09-07T08:11:32.264212",
          "2020-09-07T09:12:29.264212",
          "2020-09-07T10:12:33.264212",
          "2020-09-07T11:13:44.264212",
          "2020-09-07T12:13:49.264212",
          "2020-09-07T13:13:50.264212",
          "2020-09-07T14:14:08.264212",
          "2020-09-07T15:14:11.264212",
          "2020-09-07T16:14:26.264212",
          "2020-09-07T17:20:05.264212",
          "2020-09-07T18:20:51.264212",
          "2020-09-07T19:21:36.264212",
          "2020-09-07T20:24:25.264212",
          "2020-09-07T21:25:14.264212"
         ],
         "xaxis": "x",
         "y": [
          1,
          1.0009045934447907,
          1.0000710479879014,
          1.0009393162697853,
          0.9999106579102873,
          0.9995990637701809,
          1.0011003529184126,
          1.0020484038359396,
          1.0009242454397647,
          1.000375038663503,
          1.0011643427405583,
          1.000735451698416,
          1.0023820140950894,
          1.004114231906564,
          1.0057321715249727,
          1.0052567501952947,
          1.0044081936690754,
          1.0054086961898565,
          1.005013813972446,
          1.0064390825459026,
          1.0057995152971788,
          1.0076077875209966,
          1.0067830834774147,
          1.008331411345996,
          1.008821965605472,
          1.0077765470055555,
          1.0072009494691871,
          1.007128078914849,
          1.0082599496324423,
          1.0079762669583379,
          1.0094109455488565,
          1.0106913590929418,
          1.0093091784597816,
          1.0086279870325514,
          1.0103177738242841,
          1.009925782135777,
          1.0102799578765147,
          1.0103195982717246,
          1.008334478284981,
          1.0071802531898324,
          1.0066412515700465,
          1.0071128453664286,
          1.0058142335633635,
          1.0049122203671086,
          1.0048561159940224,
          1.0048461717562216,
          1.0056293241240102,
          1.0058947473692228,
          1.0063390572587028,
          1.0061866133506496,
          1.006440863738947,
          1.00608430927787,
          1.0049522758805152,
          1.0045607732617314,
          1.0034318375423712,
          1.0043082203785965,
          1.004827687434529,
          1.0039007932785529,
          1.0047338713987537,
          1.0055891818955807,
          1.0053722848155884,
          1.0059803360347659,
          1.005310568810756,
          1.00670210555584,
          1.0052779381205519,
          1.0055784396620877,
          1.0049896178570747,
          1.0045918167515702,
          1.007254768748834,
          1.0069298750455968,
          1.0067641316517286,
          1.006973157439375,
          1.0059701713486593,
          1.00620282934433,
          1.005148141693296,
          1.00439063293533,
          1.003227654667809,
          1.0022252537665879,
          1.0021720901482183,
          1.0024605357386185,
          1.0016197422814421,
          1.0020132850963357,
          1.0010160359084235,
          1.0026089907994193,
          1.0037497489248717,
          1.0049752733568238,
          1.0040576697717627,
          1.0033872853174108,
          1.0047735194241265,
          1.005803309228964,
          1.006033998259696,
          1.0076171742974236,
          1.0088269295848935,
          1.0085226805722107,
          1.0087804432775598,
          1.0093178397693963,
          1.008320043542851,
          1.00817193674023,
          1.0084700572365708,
          1.0081851234557622
         ],
         "yaxis": "y"
        },
        {
         "hovertemplate": "variable=target_price<br>timestamp=%{x}<br>value=%{y}<extra></extra>",
         "legendgroup": "target_price",
         "line": {
          "color": "#EF553B",
          "dash": "solid"
         },
         "mode": "lines",
         "name": "target_price",
         "orientation": "v",
         "showlegend": true,
         "type": "scatter",
         "x": [
          "2020-09-03T16:51:05.264212",
          "2020-09-03T17:51:53.264212",
          "2020-09-03T18:51:55.264212",
          "2020-09-03T19:52:26.264212",
          "2020-09-03T20:53:21.264212",
          "2020-09-03T21:53:27.264212",
          "2020-09-03T22:53:51.264212",
          "2020-09-03T23:53:59.264212",
          "2020-09-04T00:54:00.264212",
          "2020-09-04T01:54:07.264212",
          "2020-09-04T02:54:32.264212",
          "2020-09-04T03:56:01.264212",
          "2020-09-04T04:58:04.264212",
          "2020-09-04T05:58:29.264212",
          "2020-09-04T06:59:40.264212",
          "2020-09-04T08:00:09.264212",
          "2020-09-04T09:00:14.264212",
          "2020-09-04T10:01:24.264212",
          "2020-09-04T11:01:57.264212",
          "2020-09-04T12:02:10.264212",
          "2020-09-04T13:02:23.264212",
          "2020-09-04T14:03:57.264212",
          "2020-09-04T15:04:03.264212",
          "2020-09-04T16:04:11.264212",
          "2020-09-04T17:05:01.264212",
          "2020-09-04T18:06:01.264212",
          "2020-09-04T19:06:38.264212",
          "2020-09-04T20:07:31.264212",
          "2020-09-04T21:08:19.264212",
          "2020-09-04T22:09:41.264212",
          "2020-09-04T23:11:20.264212",
          "2020-09-05T00:12:43.264212",
          "2020-09-05T01:14:15.264212",
          "2020-09-05T02:14:28.264212",
          "2020-09-05T03:14:40.264212",
          "2020-09-05T04:15:50.264212",
          "2020-09-05T05:17:12.264212",
          "2020-09-05T06:17:45.264212",
          "2020-09-05T07:21:44.264212",
          "2020-09-05T08:22:32.264212",
          "2020-09-05T09:22:42.264212",
          "2020-09-05T10:23:42.264212",
          "2020-09-05T11:26:43.264212",
          "2020-09-05T12:27:50.264212",
          "2020-09-05T13:28:07.264212",
          "2020-09-05T14:29:52.264212",
          "2020-09-05T15:30:57.264212",
          "2020-09-05T16:33:19.264212",
          "2020-09-05T17:33:52.264212",
          "2020-09-05T18:34:28.264212",
          "2020-09-05T19:34:56.264212",
          "2020-09-05T20:35:10.264212",
          "2020-09-05T21:37:02.264212",
          "2020-09-05T22:38:30.264212",
          "2020-09-05T23:40:59.264212",
          "2020-09-06T00:43:59.264212",
          "2020-09-06T01:44:08.264212",
          "2020-09-06T02:46:48.264212",
          "2020-09-06T03:47:27.264212",
          "2020-09-06T04:49:06.264212",
          "2020-09-06T05:50:08.264212",
          "2020-09-06T06:50:28.264212",
          "2020-09-06T07:51:53.264212",
          "2020-09-06T08:51:56.264212",
          "2020-09-06T09:54:03.264212",
          "2020-09-06T10:54:09.264212",
          "2020-09-06T11:54:19.264212",
          "2020-09-06T12:54:57.264212",
          "2020-09-06T13:55:01.264212",
          "2020-09-06T14:57:49.264212",
          "2020-09-06T16:00:52.264212",
          "2020-09-06T17:01:28.264212",
          "2020-09-06T18:04:14.264212",
          "2020-09-06T19:04:33.264212",
          "2020-09-06T20:04:40.264212",
          "2020-09-06T21:04:50.264212",
          "2020-09-06T22:05:20.264212",
          "2020-09-06T23:05:31.264212",
          "2020-09-07T00:06:53.264212",
          "2020-09-07T01:08:14.264212",
          "2020-09-07T02:09:37.264212",
          "2020-09-07T03:09:46.264212",
          "2020-09-07T04:09:48.264212",
          "2020-09-07T05:10:15.264212",
          "2020-09-07T06:10:57.264212",
          "2020-09-07T07:11:22.264212",
          "2020-09-07T08:11:32.264212",
          "2020-09-07T09:12:29.264212",
          "2020-09-07T10:12:33.264212",
          "2020-09-07T11:13:44.264212",
          "2020-09-07T12:13:49.264212",
          "2020-09-07T13:13:50.264212",
          "2020-09-07T14:14:08.264212",
          "2020-09-07T15:14:11.264212",
          "2020-09-07T16:14:26.264212",
          "2020-09-07T17:20:05.264212",
          "2020-09-07T18:20:51.264212",
          "2020-09-07T19:21:36.264212",
          "2020-09-07T20:24:25.264212",
          "2020-09-07T21:25:14.264212"
         ],
         "xaxis": "x",
         "y": [
          1,
          0.9961831111111117,
          0.9961205334339602,
          0.9950470057598867,
          0.9966426648668358,
          0.9974085167477558,
          0.9990619397903976,
          1.000013328501743,
          1.0011931636912785,
          1.001501866153537,
          1.001614259675409,
          1.001359379587196,
          1.0010497509430243,
          1.0010395553214047,
          1.0015188485467026,
          1.0025026477785615,
          1.0035103894949104,
          1.0043344735763564,
          1.0049994189365183,
          1.0052825626224888,
          1.0056398681479841,
          1.0056827679577676,
          1.006097032089853,
          1.006241847596215,
          1.0068392175194447,
          1.007345043775622,
          1.007771926574203,
          1.0078703949497896,
          1.007810825403587,
          1.0078001416856968,
          1.0077405337000538,
          1.0080431690398746,
          1.0086133033915892,
          1.0090306479407603,
          1.0092679470917045,
          1.009608149685521,
          1.0097424697405415,
          1.0099487189364833,
          1.0100452153363229,
          1.009773003650816,
          1.0092011903090987,
          1.0083905233706325,
          1.007673977512822,
          1.0068981344790076,
          1.006208803487818,
          1.0055910503905692,
          1.0051868958762595,
          1.0050914948253729,
          1.0052216544432377,
          1.0055615338464932,
          1.005889470652191,
          1.006230099840879,
          1.0063792614902867,
          1.0062082479669316,
          1.0058021795784426,
          1.0050640947152938,
          1.0045899307512882,
          1.0042446715951627,
          1.004042904716588,
          1.0041181411716384,
          1.0044415320700886,
          1.0048066695605318,
          1.0052977172336968,
          1.005529546470917,
          1.0059761505891107,
          1.0059364659967582,
          1.005978019075753,
          1.005665602748719,
          1.0053758388403824,
          1.0055139739951013,
          1.0057535621149583,
          1.0061352721603782,
          1.006516478264712,
          1.006628450314112,
          1.0066589789701854,
          1.0063341227732436,
          1.0058401063805704,
          1.005046511868777,
          1.0041051401660506,
          1.0032283139314035,
          1.0026146923720527,
          1.002120495604929,
          1.0019376792131487,
          1.001678592322799,
          1.0018691324765825,
          1.0022419146109927,
          1.0030186841850919,
          1.003585255718635,
          1.0039736861685056,
          1.0043224151258068,
          1.0047019096946483,
          1.0050800154754989,
          1.005728126457833,
          1.0065421985347351,
          1.0073203948102851,
          1.0081268528807565,
          1.0086630758986823,
          1.0088594267216293,
          1.0088061063301776,
          1.008645071134959
         ],
         "yaxis": "y"
        },
        {
         "hovertemplate": "variable=market_price<br>timestamp=%{x}<br>value=%{y}<extra></extra>",
         "legendgroup": "market_price",
         "line": {
          "color": "#00cc96",
          "dash": "solid"
         },
         "mode": "lines",
         "name": "market_price",
         "orientation": "v",
         "showlegend": true,
         "type": "scatter",
         "x": [
          "2020-09-03T16:51:05.264212",
          "2020-09-03T17:51:53.264212",
          "2020-09-03T18:51:55.264212",
          "2020-09-03T19:52:26.264212",
          "2020-09-03T20:53:21.264212",
          "2020-09-03T21:53:27.264212",
          "2020-09-03T22:53:51.264212",
          "2020-09-03T23:53:59.264212",
          "2020-09-04T00:54:00.264212",
          "2020-09-04T01:54:07.264212",
          "2020-09-04T02:54:32.264212",
          "2020-09-04T03:56:01.264212",
          "2020-09-04T04:58:04.264212",
          "2020-09-04T05:58:29.264212",
          "2020-09-04T06:59:40.264212",
          "2020-09-04T08:00:09.264212",
          "2020-09-04T09:00:14.264212",
          "2020-09-04T10:01:24.264212",
          "2020-09-04T11:01:57.264212",
          "2020-09-04T12:02:10.264212",
          "2020-09-04T13:02:23.264212",
          "2020-09-04T14:03:57.264212",
          "2020-09-04T15:04:03.264212",
          "2020-09-04T16:04:11.264212",
          "2020-09-04T17:05:01.264212",
          "2020-09-04T18:06:01.264212",
          "2020-09-04T19:06:38.264212",
          "2020-09-04T20:07:31.264212",
          "2020-09-04T21:08:19.264212",
          "2020-09-04T22:09:41.264212",
          "2020-09-04T23:11:20.264212",
          "2020-09-05T00:12:43.264212",
          "2020-09-05T01:14:15.264212",
          "2020-09-05T02:14:28.264212",
          "2020-09-05T03:14:40.264212",
          "2020-09-05T04:15:50.264212",
          "2020-09-05T05:17:12.264212",
          "2020-09-05T06:17:45.264212",
          "2020-09-05T07:21:44.264212",
          "2020-09-05T08:22:32.264212",
          "2020-09-05T09:22:42.264212",
          "2020-09-05T10:23:42.264212",
          "2020-09-05T11:26:43.264212",
          "2020-09-05T12:27:50.264212",
          "2020-09-05T13:28:07.264212",
          "2020-09-05T14:29:52.264212",
          "2020-09-05T15:30:57.264212",
          "2020-09-05T16:33:19.264212",
          "2020-09-05T17:33:52.264212",
          "2020-09-05T18:34:28.264212",
          "2020-09-05T19:34:56.264212",
          "2020-09-05T20:35:10.264212",
          "2020-09-05T21:37:02.264212",
          "2020-09-05T22:38:30.264212",
          "2020-09-05T23:40:59.264212",
          "2020-09-06T00:43:59.264212",
          "2020-09-06T01:44:08.264212",
          "2020-09-06T02:46:48.264212",
          "2020-09-06T03:47:27.264212",
          "2020-09-06T04:49:06.264212",
          "2020-09-06T05:50:08.264212",
          "2020-09-06T06:50:28.264212",
          "2020-09-06T07:51:53.264212",
          "2020-09-06T08:51:56.264212",
          "2020-09-06T09:54:03.264212",
          "2020-09-06T10:54:09.264212",
          "2020-09-06T11:54:19.264212",
          "2020-09-06T12:54:57.264212",
          "2020-09-06T13:55:01.264212",
          "2020-09-06T14:57:49.264212",
          "2020-09-06T16:00:52.264212",
          "2020-09-06T17:01:28.264212",
          "2020-09-06T18:04:14.264212",
          "2020-09-06T19:04:33.264212",
          "2020-09-06T20:04:40.264212",
          "2020-09-06T21:04:50.264212",
          "2020-09-06T22:05:20.264212",
          "2020-09-06T23:05:31.264212",
          "2020-09-07T00:06:53.264212",
          "2020-09-07T01:08:14.264212",
          "2020-09-07T02:09:37.264212",
          "2020-09-07T03:09:46.264212",
          "2020-09-07T04:09:48.264212",
          "2020-09-07T05:10:15.264212",
          "2020-09-07T06:10:57.264212",
          "2020-09-07T07:11:22.264212",
          "2020-09-07T08:11:32.264212",
          "2020-09-07T09:12:29.264212",
          "2020-09-07T10:12:33.264212",
          "2020-09-07T11:13:44.264212",
          "2020-09-07T12:13:49.264212",
          "2020-09-07T13:13:50.264212",
          "2020-09-07T14:14:08.264212",
          "2020-09-07T15:14:11.264212",
          "2020-09-07T16:14:26.264212",
          "2020-09-07T17:20:05.264212",
          "2020-09-07T18:20:51.264212",
          "2020-09-07T19:21:36.264212",
          "2020-09-07T20:24:25.264212",
          "2020-09-07T21:25:14.264212"
         ],
         "xaxis": "x",
         "y": [
          0.995,
          0.995,
          0.9994555960021001,
          0.9958669372014752,
          0.9984610589660459,
          0.9967026589281589,
          0.9985962695124359,
          0.9985331105948786,
          1.0001440600928488,
          1.000075508326221,
          1.0008713810157412,
          1.0009344301904646,
          1.0010761799044012,
          1.001341030831857,
          1.0017701290468637,
          1.0024325103012253,
          1.0028471612126517,
          1.0033599982272245,
          1.0040862804340567,
          1.0044153157373454,
          1.0051872060862739,
          1.0051938456445098,
          1.00602983768133,
          1.005853871117587,
          1.0067524788052178,
          1.0068841378567965,
          1.0072601621307136,
          1.0073123044065466,
          1.007513051224857,
          1.00775926870995,
          1.0077207341571879,
          1.0081830444022584,
          1.0085295758240198,
          1.008588104593978,
          1.008783441530539,
          1.0093164368457355,
          1.0093560124340608,
          1.0097565474901025,
          1.0098044436602147,
          1.0095212682646946,
          1.0091972403193945,
          1.008712319903454,
          1.00838929122829,
          1.0075683319487148,
          1.0069637508836449,
          1.006343191392385,
          1.0059041653551726,
          1.00568750969257,
          1.0055497803055642,
          1.0056481828037482,
          1.0056874664743911,
          1.0059497451885147,
          1.005992498868794,
          1.0058905208086353,
          1.005760919764964,
          1.0052523451145923,
          1.0051877802909817,
          1.0048158653623145,
          1.0044928879611261,
          1.0044831028045202,
          1.0045859185579458,
          1.0046564662147084,
          1.0050303300700558,
          1.005041500151084,
          1.005711348613605,
          1.0054089596113083,
          1.0058560773281802,
          1.0054857829526191,
          1.0055280382859755,
          1.0058860782775265,
          1.0057986142766977,
          1.0060464272271543,
          1.0062092189439795,
          1.006204187986836,
          1.006416806770346,
          1.0061165616890266,
          1.0059346303695968,
          1.0053062350091555,
          1.0047029105669203,
          1.0040772262423399,
          1.0035603239503934,
          1.0028673133756214,
          1.0026182296151152,
          1.0020029253391247,
          1.002291704338278,
          1.0023135463747768,
          1.0029282144661311,
          1.0029549951781032,
          1.0033378195470772,
          1.0038324094428144,
          1.00432469917438,
          1.0047013809570409,
          1.0054350960019187,
          1.0060709696972943,
          1.0066046806586613,
          1.0072896720482567,
          1.0078411668453224,
          1.0081239094574401,
          1.0083693355218768,
          1.0085024196929102
         ],
         "yaxis": "y"
        }
       ],
       "layout": {
        "autosize": true,
        "legend": {
         "title": {
          "text": "variable"
         },
         "tracegroupgap": 0
        },
        "margin": {
         "t": 60
        },
        "template": {
         "data": {
          "bar": [
           {
            "error_x": {
             "color": "#2a3f5f"
            },
            "error_y": {
             "color": "#2a3f5f"
            },
            "marker": {
             "line": {
              "color": "#E5ECF6",
              "width": 0.5
             }
            },
            "type": "bar"
           }
          ],
          "barpolar": [
           {
            "marker": {
             "line": {
              "color": "#E5ECF6",
              "width": 0.5
             }
            },
            "type": "barpolar"
           }
          ],
          "carpet": [
           {
            "aaxis": {
             "endlinecolor": "#2a3f5f",
             "gridcolor": "white",
             "linecolor": "white",
             "minorgridcolor": "white",
             "startlinecolor": "#2a3f5f"
            },
            "baxis": {
             "endlinecolor": "#2a3f5f",
             "gridcolor": "white",
             "linecolor": "white",
             "minorgridcolor": "white",
             "startlinecolor": "#2a3f5f"
            },
            "type": "carpet"
           }
          ],
          "choropleth": [
           {
            "colorbar": {
             "outlinewidth": 0,
             "ticks": ""
            },
            "type": "choropleth"
           }
          ],
          "contour": [
           {
            "colorbar": {
             "outlinewidth": 0,
             "ticks": ""
            },
            "colorscale": [
             [
              0,
              "#0d0887"
             ],
             [
              0.1111111111111111,
              "#46039f"
             ],
             [
              0.2222222222222222,
              "#7201a8"
             ],
             [
              0.3333333333333333,
              "#9c179e"
             ],
             [
              0.4444444444444444,
              "#bd3786"
             ],
             [
              0.5555555555555556,
              "#d8576b"
             ],
             [
              0.6666666666666666,
              "#ed7953"
             ],
             [
              0.7777777777777778,
              "#fb9f3a"
             ],
             [
              0.8888888888888888,
              "#fdca26"
             ],
             [
              1,
              "#f0f921"
             ]
            ],
            "type": "contour"
           }
          ],
          "contourcarpet": [
           {
            "colorbar": {
             "outlinewidth": 0,
             "ticks": ""
            },
            "type": "contourcarpet"
           }
          ],
          "heatmap": [
           {
            "colorbar": {
             "outlinewidth": 0,
             "ticks": ""
            },
            "colorscale": [
             [
              0,
              "#0d0887"
             ],
             [
              0.1111111111111111,
              "#46039f"
             ],
             [
              0.2222222222222222,
              "#7201a8"
             ],
             [
              0.3333333333333333,
              "#9c179e"
             ],
             [
              0.4444444444444444,
              "#bd3786"
             ],
             [
              0.5555555555555556,
              "#d8576b"
             ],
             [
              0.6666666666666666,
              "#ed7953"
             ],
             [
              0.7777777777777778,
              "#fb9f3a"
             ],
             [
              0.8888888888888888,
              "#fdca26"
             ],
             [
              1,
              "#f0f921"
             ]
            ],
            "type": "heatmap"
           }
          ],
          "heatmapgl": [
           {
            "colorbar": {
             "outlinewidth": 0,
             "ticks": ""
            },
            "colorscale": [
             [
              0,
              "#0d0887"
             ],
             [
              0.1111111111111111,
              "#46039f"
             ],
             [
              0.2222222222222222,
              "#7201a8"
             ],
             [
              0.3333333333333333,
              "#9c179e"
             ],
             [
              0.4444444444444444,
              "#bd3786"
             ],
             [
              0.5555555555555556,
              "#d8576b"
             ],
             [
              0.6666666666666666,
              "#ed7953"
             ],
             [
              0.7777777777777778,
              "#fb9f3a"
             ],
             [
              0.8888888888888888,
              "#fdca26"
             ],
             [
              1,
              "#f0f921"
             ]
            ],
            "type": "heatmapgl"
           }
          ],
          "histogram": [
           {
            "marker": {
             "colorbar": {
              "outlinewidth": 0,
              "ticks": ""
             }
            },
            "type": "histogram"
           }
          ],
          "histogram2d": [
           {
            "colorbar": {
             "outlinewidth": 0,
             "ticks": ""
            },
            "colorscale": [
             [
              0,
              "#0d0887"
             ],
             [
              0.1111111111111111,
              "#46039f"
             ],
             [
              0.2222222222222222,
              "#7201a8"
             ],
             [
              0.3333333333333333,
              "#9c179e"
             ],
             [
              0.4444444444444444,
              "#bd3786"
             ],
             [
              0.5555555555555556,
              "#d8576b"
             ],
             [
              0.6666666666666666,
              "#ed7953"
             ],
             [
              0.7777777777777778,
              "#fb9f3a"
             ],
             [
              0.8888888888888888,
              "#fdca26"
             ],
             [
              1,
              "#f0f921"
             ]
            ],
            "type": "histogram2d"
           }
          ],
          "histogram2dcontour": [
           {
            "colorbar": {
             "outlinewidth": 0,
             "ticks": ""
            },
            "colorscale": [
             [
              0,
              "#0d0887"
             ],
             [
              0.1111111111111111,
              "#46039f"
             ],
             [
              0.2222222222222222,
              "#7201a8"
             ],
             [
              0.3333333333333333,
              "#9c179e"
             ],
             [
              0.4444444444444444,
              "#bd3786"
             ],
             [
              0.5555555555555556,
              "#d8576b"
             ],
             [
              0.6666666666666666,
              "#ed7953"
             ],
             [
              0.7777777777777778,
              "#fb9f3a"
             ],
             [
              0.8888888888888888,
              "#fdca26"
             ],
             [
              1,
              "#f0f921"
             ]
            ],
            "type": "histogram2dcontour"
           }
          ],
          "mesh3d": [
           {
            "colorbar": {
             "outlinewidth": 0,
             "ticks": ""
            },
            "type": "mesh3d"
           }
          ],
          "parcoords": [
           {
            "line": {
             "colorbar": {
              "outlinewidth": 0,
              "ticks": ""
             }
            },
            "type": "parcoords"
           }
          ],
          "pie": [
           {
            "automargin": true,
            "type": "pie"
           }
          ],
          "scatter": [
           {
            "marker": {
             "colorbar": {
              "outlinewidth": 0,
              "ticks": ""
             }
            },
            "type": "scatter"
           }
          ],
          "scatter3d": [
           {
            "line": {
             "colorbar": {
              "outlinewidth": 0,
              "ticks": ""
             }
            },
            "marker": {
             "colorbar": {
              "outlinewidth": 0,
              "ticks": ""
             }
            },
            "type": "scatter3d"
           }
          ],
          "scattercarpet": [
           {
            "marker": {
             "colorbar": {
              "outlinewidth": 0,
              "ticks": ""
             }
            },
            "type": "scattercarpet"
           }
          ],
          "scattergeo": [
           {
            "marker": {
             "colorbar": {
              "outlinewidth": 0,
              "ticks": ""
             }
            },
            "type": "scattergeo"
           }
          ],
          "scattergl": [
           {
            "marker": {
             "colorbar": {
              "outlinewidth": 0,
              "ticks": ""
             }
            },
            "type": "scattergl"
           }
          ],
          "scattermapbox": [
           {
            "marker": {
             "colorbar": {
              "outlinewidth": 0,
              "ticks": ""
             }
            },
            "type": "scattermapbox"
           }
          ],
          "scatterpolar": [
           {
            "marker": {
             "colorbar": {
              "outlinewidth": 0,
              "ticks": ""
             }
            },
            "type": "scatterpolar"
           }
          ],
          "scatterpolargl": [
           {
            "marker": {
             "colorbar": {
              "outlinewidth": 0,
              "ticks": ""
             }
            },
            "type": "scatterpolargl"
           }
          ],
          "scatterternary": [
           {
            "marker": {
             "colorbar": {
              "outlinewidth": 0,
              "ticks": ""
             }
            },
            "type": "scatterternary"
           }
          ],
          "surface": [
           {
            "colorbar": {
             "outlinewidth": 0,
             "ticks": ""
            },
            "colorscale": [
             [
              0,
              "#0d0887"
             ],
             [
              0.1111111111111111,
              "#46039f"
             ],
             [
              0.2222222222222222,
              "#7201a8"
             ],
             [
              0.3333333333333333,
              "#9c179e"
             ],
             [
              0.4444444444444444,
              "#bd3786"
             ],
             [
              0.5555555555555556,
              "#d8576b"
             ],
             [
              0.6666666666666666,
              "#ed7953"
             ],
             [
              0.7777777777777778,
              "#fb9f3a"
             ],
             [
              0.8888888888888888,
              "#fdca26"
             ],
             [
              1,
              "#f0f921"
             ]
            ],
            "type": "surface"
           }
          ],
          "table": [
           {
            "cells": {
             "fill": {
              "color": "#EBF0F8"
             },
             "line": {
              "color": "white"
             }
            },
            "header": {
             "fill": {
              "color": "#C8D4E3"
             },
             "line": {
              "color": "white"
             }
            },
            "type": "table"
           }
          ]
         },
         "layout": {
          "annotationdefaults": {
           "arrowcolor": "#2a3f5f",
           "arrowhead": 0,
           "arrowwidth": 1
          },
          "coloraxis": {
           "colorbar": {
            "outlinewidth": 0,
            "ticks": ""
           }
          },
          "colorscale": {
           "diverging": [
            [
             0,
             "#8e0152"
            ],
            [
             0.1,
             "#c51b7d"
            ],
            [
             0.2,
             "#de77ae"
            ],
            [
             0.3,
             "#f1b6da"
            ],
            [
             0.4,
             "#fde0ef"
            ],
            [
             0.5,
             "#f7f7f7"
            ],
            [
             0.6,
             "#e6f5d0"
            ],
            [
             0.7,
             "#b8e186"
            ],
            [
             0.8,
             "#7fbc41"
            ],
            [
             0.9,
             "#4d9221"
            ],
            [
             1,
             "#276419"
            ]
           ],
           "sequential": [
            [
             0,
             "#0d0887"
            ],
            [
             0.1111111111111111,
             "#46039f"
            ],
            [
             0.2222222222222222,
             "#7201a8"
            ],
            [
             0.3333333333333333,
             "#9c179e"
            ],
            [
             0.4444444444444444,
             "#bd3786"
            ],
            [
             0.5555555555555556,
             "#d8576b"
            ],
            [
             0.6666666666666666,
             "#ed7953"
            ],
            [
             0.7777777777777778,
             "#fb9f3a"
            ],
            [
             0.8888888888888888,
             "#fdca26"
            ],
            [
             1,
             "#f0f921"
            ]
           ],
           "sequentialminus": [
            [
             0,
             "#0d0887"
            ],
            [
             0.1111111111111111,
             "#46039f"
            ],
            [
             0.2222222222222222,
             "#7201a8"
            ],
            [
             0.3333333333333333,
             "#9c179e"
            ],
            [
             0.4444444444444444,
             "#bd3786"
            ],
            [
             0.5555555555555556,
             "#d8576b"
            ],
            [
             0.6666666666666666,
             "#ed7953"
            ],
            [
             0.7777777777777778,
             "#fb9f3a"
            ],
            [
             0.8888888888888888,
             "#fdca26"
            ],
            [
             1,
             "#f0f921"
            ]
           ]
          },
          "colorway": [
           "#636efa",
           "#EF553B",
           "#00cc96",
           "#ab63fa",
           "#FFA15A",
           "#19d3f3",
           "#FF6692",
           "#B6E880",
           "#FF97FF",
           "#FECB52"
          ],
          "font": {
           "color": "#2a3f5f"
          },
          "geo": {
           "bgcolor": "white",
           "lakecolor": "white",
           "landcolor": "#E5ECF6",
           "showlakes": true,
           "showland": true,
           "subunitcolor": "white"
          },
          "hoverlabel": {
           "align": "left"
          },
          "hovermode": "closest",
          "mapbox": {
           "style": "light"
          },
          "paper_bgcolor": "white",
          "plot_bgcolor": "#E5ECF6",
          "polar": {
           "angularaxis": {
            "gridcolor": "white",
            "linecolor": "white",
            "ticks": ""
           },
           "bgcolor": "#E5ECF6",
           "radialaxis": {
            "gridcolor": "white",
            "linecolor": "white",
            "ticks": ""
           }
          },
          "scene": {
           "xaxis": {
            "backgroundcolor": "#E5ECF6",
            "gridcolor": "white",
            "gridwidth": 2,
            "linecolor": "white",
            "showbackground": true,
            "ticks": "",
            "zerolinecolor": "white"
           },
           "yaxis": {
            "backgroundcolor": "#E5ECF6",
            "gridcolor": "white",
            "gridwidth": 2,
            "linecolor": "white",
            "showbackground": true,
            "ticks": "",
            "zerolinecolor": "white"
           },
           "zaxis": {
            "backgroundcolor": "#E5ECF6",
            "gridcolor": "white",
            "gridwidth": 2,
            "linecolor": "white",
            "showbackground": true,
            "ticks": "",
            "zerolinecolor": "white"
           }
          },
          "shapedefaults": {
           "line": {
            "color": "#2a3f5f"
           }
          },
          "ternary": {
           "aaxis": {
            "gridcolor": "white",
            "linecolor": "white",
            "ticks": ""
           },
           "baxis": {
            "gridcolor": "white",
            "linecolor": "white",
            "ticks": ""
           },
           "bgcolor": "#E5ECF6",
           "caxis": {
            "gridcolor": "white",
            "linecolor": "white",
            "ticks": ""
           }
          },
          "title": {
           "x": 0.05
          },
          "xaxis": {
           "automargin": true,
           "gridcolor": "white",
           "linecolor": "white",
           "ticks": "",
           "title": {
            "standoff": 15
           },
           "zerolinecolor": "white",
           "zerolinewidth": 2
          },
          "yaxis": {
           "automargin": true,
           "gridcolor": "white",
           "linecolor": "white",
           "ticks": "",
           "title": {
            "standoff": 15
           },
           "zerolinecolor": "white",
           "zerolinewidth": 2
          }
         }
        },
        "xaxis": {
         "anchor": "y",
         "autorange": true,
         "domain": [
          0,
          1
         ],
         "range": [
          "2020-09-03 16:51:05.2642",
          "2020-09-07 21:25:14.2642"
         ],
         "title": {
          "text": "timestamp"
         },
         "type": "date"
        },
        "yaxis": {
         "anchor": "x",
         "autorange": true,
         "domain": [
          0,
          1
         ],
         "range": [
          0.9941282578281699,
          1.011563101264772
         ],
         "title": {
          "text": "value"
         },
         "type": "linear"
        }
       }
      },
      "image/png": "[encoded data removed]",
      "text/html": [
       "<div>\n",
       "        \n",
       "        \n",
       "            <div id=\"0f7f9d58-6c1b-4d7c-92a5-f80d73a2f6b6\" class=\"plotly-graph-div\" style=\"height:525px; width:100%;\"></div>\n",
       "            <script type=\"text/javascript\">\n",
       "                require([\"plotly\"], function(Plotly) {\n",
       "                    window.PLOTLYENV=window.PLOTLYENV || {};\n",
       "                    \n",
       "                if (document.getElementById(\"0f7f9d58-6c1b-4d7c-92a5-f80d73a2f6b6\")) {\n",
       "                    Plotly.newPlot(\n",
       "                        '0f7f9d58-6c1b-4d7c-92a5-f80d73a2f6b6',\n",
       "                        [{\"hovertemplate\": \"variable=debt_price<br>timestamp=%{x}<br>value=%{y}<extra></extra>\", \"legendgroup\": \"debt_price\", \"line\": {\"color\": \"#636efa\", \"dash\": \"solid\"}, \"mode\": \"lines\", \"name\": \"debt_price\", \"orientation\": \"v\", \"showlegend\": true, \"type\": \"scatter\", \"x\": [\"2020-09-03T16:51:05.264212\", \"2020-09-03T17:51:53.264212\", \"2020-09-03T18:51:55.264212\", \"2020-09-03T19:52:26.264212\", \"2020-09-03T20:53:21.264212\", \"2020-09-03T21:53:27.264212\", \"2020-09-03T22:53:51.264212\", \"2020-09-03T23:53:59.264212\", \"2020-09-04T00:54:00.264212\", \"2020-09-04T01:54:07.264212\", \"2020-09-04T02:54:32.264212\", \"2020-09-04T03:56:01.264212\", \"2020-09-04T04:58:04.264212\", \"2020-09-04T05:58:29.264212\", \"2020-09-04T06:59:40.264212\", \"2020-09-04T08:00:09.264212\", \"2020-09-04T09:00:14.264212\", \"2020-09-04T10:01:24.264212\", \"2020-09-04T11:01:57.264212\", \"2020-09-04T12:02:10.264212\", \"2020-09-04T13:02:23.264212\", \"2020-09-04T14:03:57.264212\", \"2020-09-04T15:04:03.264212\", \"2020-09-04T16:04:11.264212\", \"2020-09-04T17:05:01.264212\", \"2020-09-04T18:06:01.264212\", \"2020-09-04T19:06:38.264212\", \"2020-09-04T20:07:31.264212\", \"2020-09-04T21:08:19.264212\", \"2020-09-04T22:09:41.264212\", \"2020-09-04T23:11:20.264212\", \"2020-09-05T00:12:43.264212\", \"2020-09-05T01:14:15.264212\", \"2020-09-05T02:14:28.264212\", \"2020-09-05T03:14:40.264212\", \"2020-09-05T04:15:50.264212\", \"2020-09-05T05:17:12.264212\", \"2020-09-05T06:17:45.264212\", \"2020-09-05T07:21:44.264212\", \"2020-09-05T08:22:32.264212\", \"2020-09-05T09:22:42.264212\", \"2020-09-05T10:23:42.264212\", \"2020-09-05T11:26:43.264212\", \"2020-09-05T12:27:50.264212\", \"2020-09-05T13:28:07.264212\", \"2020-09-05T14:29:52.264212\", \"2020-09-05T15:30:57.264212\", \"2020-09-05T16:33:19.264212\", \"2020-09-05T17:33:52.264212\", \"2020-09-05T18:34:28.264212\", \"2020-09-05T19:34:56.264212\", \"2020-09-05T20:35:10.264212\", \"2020-09-05T21:37:02.264212\", \"2020-09-05T22:38:30.264212\", \"2020-09-05T23:40:59.264212\", \"2020-09-06T00:43:59.264212\", \"2020-09-06T01:44:08.264212\", \"2020-09-06T02:46:48.264212\", \"2020-09-06T03:47:27.264212\", \"2020-09-06T04:49:06.264212\", \"2020-09-06T05:50:08.264212\", \"2020-09-06T06:50:28.264212\", \"2020-09-06T07:51:53.264212\", \"2020-09-06T08:51:56.264212\", \"2020-09-06T09:54:03.264212\", \"2020-09-06T10:54:09.264212\", \"2020-09-06T11:54:19.264212\", \"2020-09-06T12:54:57.264212\", \"2020-09-06T13:55:01.264212\", \"2020-09-06T14:57:49.264212\", \"2020-09-06T16:00:52.264212\", \"2020-09-06T17:01:28.264212\", \"2020-09-06T18:04:14.264212\", \"2020-09-06T19:04:33.264212\", \"2020-09-06T20:04:40.264212\", \"2020-09-06T21:04:50.264212\", \"2020-09-06T22:05:20.264212\", \"2020-09-06T23:05:31.264212\", \"2020-09-07T00:06:53.264212\", \"2020-09-07T01:08:14.264212\", \"2020-09-07T02:09:37.264212\", \"2020-09-07T03:09:46.264212\", \"2020-09-07T04:09:48.264212\", \"2020-09-07T05:10:15.264212\", \"2020-09-07T06:10:57.264212\", \"2020-09-07T07:11:22.264212\", \"2020-09-07T08:11:32.264212\", \"2020-09-07T09:12:29.264212\", \"2020-09-07T10:12:33.264212\", \"2020-09-07T11:13:44.264212\", \"2020-09-07T12:13:49.264212\", \"2020-09-07T13:13:50.264212\", \"2020-09-07T14:14:08.264212\", \"2020-09-07T15:14:11.264212\", \"2020-09-07T16:14:26.264212\", \"2020-09-07T17:20:05.264212\", \"2020-09-07T18:20:51.264212\", \"2020-09-07T19:21:36.264212\", \"2020-09-07T20:24:25.264212\", \"2020-09-07T21:25:14.264212\"], \"xaxis\": \"x\", \"y\": [1.0, 1.0009045934447907, 1.0000710479879014, 1.0009393162697853, 0.9999106579102873, 0.9995990637701809, 1.0011003529184126, 1.0020484038359396, 1.0009242454397647, 1.000375038663503, 1.0011643427405583, 1.000735451698416, 1.0023820140950894, 1.004114231906564, 1.0057321715249727, 1.0052567501952947, 1.0044081936690754, 1.0054086961898565, 1.005013813972446, 1.0064390825459026, 1.0057995152971788, 1.0076077875209966, 1.0067830834774147, 1.008331411345996, 1.008821965605472, 1.0077765470055555, 1.0072009494691871, 1.007128078914849, 1.0082599496324423, 1.0079762669583379, 1.0094109455488565, 1.0106913590929418, 1.0093091784597816, 1.0086279870325514, 1.0103177738242841, 1.009925782135777, 1.0102799578765147, 1.0103195982717246, 1.008334478284981, 1.0071802531898324, 1.0066412515700465, 1.0071128453664286, 1.0058142335633635, 1.0049122203671086, 1.0048561159940224, 1.0048461717562216, 1.0056293241240102, 1.0058947473692228, 1.0063390572587028, 1.0061866133506496, 1.006440863738947, 1.00608430927787, 1.0049522758805152, 1.0045607732617314, 1.0034318375423712, 1.0043082203785965, 1.004827687434529, 1.0039007932785529, 1.0047338713987537, 1.0055891818955807, 1.0053722848155884, 1.0059803360347659, 1.005310568810756, 1.00670210555584, 1.0052779381205519, 1.0055784396620877, 1.0049896178570747, 1.0045918167515702, 1.007254768748834, 1.0069298750455968, 1.0067641316517286, 1.006973157439375, 1.0059701713486593, 1.00620282934433, 1.005148141693296, 1.00439063293533, 1.003227654667809, 1.0022252537665879, 1.0021720901482183, 1.0024605357386185, 1.0016197422814421, 1.0020132850963357, 1.0010160359084235, 1.0026089907994193, 1.0037497489248717, 1.0049752733568238, 1.0040576697717627, 1.0033872853174108, 1.0047735194241265, 1.005803309228964, 1.006033998259696, 1.0076171742974236, 1.0088269295848935, 1.0085226805722107, 1.0087804432775598, 1.0093178397693963, 1.008320043542851, 1.00817193674023, 1.0084700572365708, 1.0081851234557622], \"yaxis\": \"y\"}, {\"hovertemplate\": \"variable=target_price<br>timestamp=%{x}<br>value=%{y}<extra></extra>\", \"legendgroup\": \"target_price\", \"line\": {\"color\": \"#EF553B\", \"dash\": \"solid\"}, \"mode\": \"lines\", \"name\": \"target_price\", \"orientation\": \"v\", \"showlegend\": true, \"type\": \"scatter\", \"x\": [\"2020-09-03T16:51:05.264212\", \"2020-09-03T17:51:53.264212\", \"2020-09-03T18:51:55.264212\", \"2020-09-03T19:52:26.264212\", \"2020-09-03T20:53:21.264212\", \"2020-09-03T21:53:27.264212\", \"2020-09-03T22:53:51.264212\", \"2020-09-03T23:53:59.264212\", \"2020-09-04T00:54:00.264212\", \"2020-09-04T01:54:07.264212\", \"2020-09-04T02:54:32.264212\", \"2020-09-04T03:56:01.264212\", \"2020-09-04T04:58:04.264212\", \"2020-09-04T05:58:29.264212\", \"2020-09-04T06:59:40.264212\", \"2020-09-04T08:00:09.264212\", \"2020-09-04T09:00:14.264212\", \"2020-09-04T10:01:24.264212\", \"2020-09-04T11:01:57.264212\", \"2020-09-04T12:02:10.264212\", \"2020-09-04T13:02:23.264212\", \"2020-09-04T14:03:57.264212\", \"2020-09-04T15:04:03.264212\", \"2020-09-04T16:04:11.264212\", \"2020-09-04T17:05:01.264212\", \"2020-09-04T18:06:01.264212\", \"2020-09-04T19:06:38.264212\", \"2020-09-04T20:07:31.264212\", \"2020-09-04T21:08:19.264212\", \"2020-09-04T22:09:41.264212\", \"2020-09-04T23:11:20.264212\", \"2020-09-05T00:12:43.264212\", \"2020-09-05T01:14:15.264212\", \"2020-09-05T02:14:28.264212\", \"2020-09-05T03:14:40.264212\", \"2020-09-05T04:15:50.264212\", \"2020-09-05T05:17:12.264212\", \"2020-09-05T06:17:45.264212\", \"2020-09-05T07:21:44.264212\", \"2020-09-05T08:22:32.264212\", \"2020-09-05T09:22:42.264212\", \"2020-09-05T10:23:42.264212\", \"2020-09-05T11:26:43.264212\", \"2020-09-05T12:27:50.264212\", \"2020-09-05T13:28:07.264212\", \"2020-09-05T14:29:52.264212\", \"2020-09-05T15:30:57.264212\", \"2020-09-05T16:33:19.264212\", \"2020-09-05T17:33:52.264212\", \"2020-09-05T18:34:28.264212\", \"2020-09-05T19:34:56.264212\", \"2020-09-05T20:35:10.264212\", \"2020-09-05T21:37:02.264212\", \"2020-09-05T22:38:30.264212\", \"2020-09-05T23:40:59.264212\", \"2020-09-06T00:43:59.264212\", \"2020-09-06T01:44:08.264212\", \"2020-09-06T02:46:48.264212\", \"2020-09-06T03:47:27.264212\", \"2020-09-06T04:49:06.264212\", \"2020-09-06T05:50:08.264212\", \"2020-09-06T06:50:28.264212\", \"2020-09-06T07:51:53.264212\", \"2020-09-06T08:51:56.264212\", \"2020-09-06T09:54:03.264212\", \"2020-09-06T10:54:09.264212\", \"2020-09-06T11:54:19.264212\", \"2020-09-06T12:54:57.264212\", \"2020-09-06T13:55:01.264212\", \"2020-09-06T14:57:49.264212\", \"2020-09-06T16:00:52.264212\", \"2020-09-06T17:01:28.264212\", \"2020-09-06T18:04:14.264212\", \"2020-09-06T19:04:33.264212\", \"2020-09-06T20:04:40.264212\", \"2020-09-06T21:04:50.264212\", \"2020-09-06T22:05:20.264212\", \"2020-09-06T23:05:31.264212\", \"2020-09-07T00:06:53.264212\", \"2020-09-07T01:08:14.264212\", \"2020-09-07T02:09:37.264212\", \"2020-09-07T03:09:46.264212\", \"2020-09-07T04:09:48.264212\", \"2020-09-07T05:10:15.264212\", \"2020-09-07T06:10:57.264212\", \"2020-09-07T07:11:22.264212\", \"2020-09-07T08:11:32.264212\", \"2020-09-07T09:12:29.264212\", \"2020-09-07T10:12:33.264212\", \"2020-09-07T11:13:44.264212\", \"2020-09-07T12:13:49.264212\", \"2020-09-07T13:13:50.264212\", \"2020-09-07T14:14:08.264212\", \"2020-09-07T15:14:11.264212\", \"2020-09-07T16:14:26.264212\", \"2020-09-07T17:20:05.264212\", \"2020-09-07T18:20:51.264212\", \"2020-09-07T19:21:36.264212\", \"2020-09-07T20:24:25.264212\", \"2020-09-07T21:25:14.264212\"], \"xaxis\": \"x\", \"y\": [1.0, 0.9961831111111117, 0.9961205334339602, 0.9950470057598867, 0.9966426648668358, 0.9974085167477558, 0.9990619397903976, 1.000013328501743, 1.0011931636912785, 1.001501866153537, 1.001614259675409, 1.001359379587196, 1.0010497509430243, 1.0010395553214047, 1.0015188485467026, 1.0025026477785615, 1.0035103894949104, 1.0043344735763564, 1.0049994189365183, 1.0052825626224888, 1.0056398681479841, 1.0056827679577676, 1.006097032089853, 1.006241847596215, 1.0068392175194447, 1.007345043775622, 1.007771926574203, 1.0078703949497896, 1.007810825403587, 1.0078001416856968, 1.0077405337000538, 1.0080431690398746, 1.0086133033915892, 1.0090306479407603, 1.0092679470917045, 1.009608149685521, 1.0097424697405415, 1.0099487189364833, 1.0100452153363229, 1.009773003650816, 1.0092011903090987, 1.0083905233706325, 1.007673977512822, 1.0068981344790076, 1.006208803487818, 1.0055910503905692, 1.0051868958762595, 1.0050914948253729, 1.0052216544432377, 1.0055615338464932, 1.005889470652191, 1.006230099840879, 1.0063792614902867, 1.0062082479669316, 1.0058021795784426, 1.0050640947152938, 1.0045899307512882, 1.0042446715951627, 1.004042904716588, 1.0041181411716384, 1.0044415320700886, 1.0048066695605318, 1.0052977172336968, 1.005529546470917, 1.0059761505891107, 1.0059364659967582, 1.005978019075753, 1.005665602748719, 1.0053758388403824, 1.0055139739951013, 1.0057535621149583, 1.0061352721603782, 1.006516478264712, 1.006628450314112, 1.0066589789701854, 1.0063341227732436, 1.0058401063805704, 1.005046511868777, 1.0041051401660506, 1.0032283139314035, 1.0026146923720527, 1.002120495604929, 1.0019376792131487, 1.001678592322799, 1.0018691324765825, 1.0022419146109927, 1.0030186841850919, 1.003585255718635, 1.0039736861685056, 1.0043224151258068, 1.0047019096946483, 1.0050800154754989, 1.005728126457833, 1.0065421985347351, 1.0073203948102851, 1.0081268528807565, 1.0086630758986823, 1.0088594267216293, 1.0088061063301776, 1.008645071134959], \"yaxis\": \"y\"}, {\"hovertemplate\": \"variable=market_price<br>timestamp=%{x}<br>value=%{y}<extra></extra>\", \"legendgroup\": \"market_price\", \"line\": {\"color\": \"#00cc96\", \"dash\": \"solid\"}, \"mode\": \"lines\", \"name\": \"market_price\", \"orientation\": \"v\", \"showlegend\": true, \"type\": \"scatter\", \"x\": [\"2020-09-03T16:51:05.264212\", \"2020-09-03T17:51:53.264212\", \"2020-09-03T18:51:55.264212\", \"2020-09-03T19:52:26.264212\", \"2020-09-03T20:53:21.264212\", \"2020-09-03T21:53:27.264212\", \"2020-09-03T22:53:51.264212\", \"2020-09-03T23:53:59.264212\", \"2020-09-04T00:54:00.264212\", \"2020-09-04T01:54:07.264212\", \"2020-09-04T02:54:32.264212\", \"2020-09-04T03:56:01.264212\", \"2020-09-04T04:58:04.264212\", \"2020-09-04T05:58:29.264212\", \"2020-09-04T06:59:40.264212\", \"2020-09-04T08:00:09.264212\", \"2020-09-04T09:00:14.264212\", \"2020-09-04T10:01:24.264212\", \"2020-09-04T11:01:57.264212\", \"2020-09-04T12:02:10.264212\", \"2020-09-04T13:02:23.264212\", \"2020-09-04T14:03:57.264212\", \"2020-09-04T15:04:03.264212\", \"2020-09-04T16:04:11.264212\", \"2020-09-04T17:05:01.264212\", \"2020-09-04T18:06:01.264212\", \"2020-09-04T19:06:38.264212\", \"2020-09-04T20:07:31.264212\", \"2020-09-04T21:08:19.264212\", \"2020-09-04T22:09:41.264212\", \"2020-09-04T23:11:20.264212\", \"2020-09-05T00:12:43.264212\", \"2020-09-05T01:14:15.264212\", \"2020-09-05T02:14:28.264212\", \"2020-09-05T03:14:40.264212\", \"2020-09-05T04:15:50.264212\", \"2020-09-05T05:17:12.264212\", \"2020-09-05T06:17:45.264212\", \"2020-09-05T07:21:44.264212\", \"2020-09-05T08:22:32.264212\", \"2020-09-05T09:22:42.264212\", \"2020-09-05T10:23:42.264212\", \"2020-09-05T11:26:43.264212\", \"2020-09-05T12:27:50.264212\", \"2020-09-05T13:28:07.264212\", \"2020-09-05T14:29:52.264212\", \"2020-09-05T15:30:57.264212\", \"2020-09-05T16:33:19.264212\", \"2020-09-05T17:33:52.264212\", \"2020-09-05T18:34:28.264212\", \"2020-09-05T19:34:56.264212\", \"2020-09-05T20:35:10.264212\", \"2020-09-05T21:37:02.264212\", \"2020-09-05T22:38:30.264212\", \"2020-09-05T23:40:59.264212\", \"2020-09-06T00:43:59.264212\", \"2020-09-06T01:44:08.264212\", \"2020-09-06T02:46:48.264212\", \"2020-09-06T03:47:27.264212\", \"2020-09-06T04:49:06.264212\", \"2020-09-06T05:50:08.264212\", \"2020-09-06T06:50:28.264212\", \"2020-09-06T07:51:53.264212\", \"2020-09-06T08:51:56.264212\", \"2020-09-06T09:54:03.264212\", \"2020-09-06T10:54:09.264212\", \"2020-09-06T11:54:19.264212\", \"2020-09-06T12:54:57.264212\", \"2020-09-06T13:55:01.264212\", \"2020-09-06T14:57:49.264212\", \"2020-09-06T16:00:52.264212\", \"2020-09-06T17:01:28.264212\", \"2020-09-06T18:04:14.264212\", \"2020-09-06T19:04:33.264212\", \"2020-09-06T20:04:40.264212\", \"2020-09-06T21:04:50.264212\", \"2020-09-06T22:05:20.264212\", \"2020-09-06T23:05:31.264212\", \"2020-09-07T00:06:53.264212\", \"2020-09-07T01:08:14.264212\", \"2020-09-07T02:09:37.264212\", \"2020-09-07T03:09:46.264212\", \"2020-09-07T04:09:48.264212\", \"2020-09-07T05:10:15.264212\", \"2020-09-07T06:10:57.264212\", \"2020-09-07T07:11:22.264212\", \"2020-09-07T08:11:32.264212\", \"2020-09-07T09:12:29.264212\", \"2020-09-07T10:12:33.264212\", \"2020-09-07T11:13:44.264212\", \"2020-09-07T12:13:49.264212\", \"2020-09-07T13:13:50.264212\", \"2020-09-07T14:14:08.264212\", \"2020-09-07T15:14:11.264212\", \"2020-09-07T16:14:26.264212\", \"2020-09-07T17:20:05.264212\", \"2020-09-07T18:20:51.264212\", \"2020-09-07T19:21:36.264212\", \"2020-09-07T20:24:25.264212\", \"2020-09-07T21:25:14.264212\"], \"xaxis\": \"x\", \"y\": [0.995, 0.995, 0.9994555960021001, 0.9958669372014752, 0.9984610589660459, 0.9967026589281589, 0.9985962695124359, 0.9985331105948786, 1.0001440600928488, 1.000075508326221, 1.0008713810157412, 1.0009344301904646, 1.0010761799044012, 1.001341030831857, 1.0017701290468637, 1.0024325103012253, 1.0028471612126517, 1.0033599982272245, 1.0040862804340567, 1.0044153157373454, 1.0051872060862739, 1.0051938456445098, 1.00602983768133, 1.005853871117587, 1.0067524788052178, 1.0068841378567965, 1.0072601621307136, 1.0073123044065466, 1.007513051224857, 1.00775926870995, 1.0077207341571879, 1.0081830444022584, 1.0085295758240198, 1.008588104593978, 1.008783441530539, 1.0093164368457355, 1.0093560124340608, 1.0097565474901025, 1.0098044436602147, 1.0095212682646946, 1.0091972403193945, 1.008712319903454, 1.00838929122829, 1.0075683319487148, 1.0069637508836449, 1.006343191392385, 1.0059041653551726, 1.00568750969257, 1.0055497803055642, 1.0056481828037482, 1.0056874664743911, 1.0059497451885147, 1.005992498868794, 1.0058905208086353, 1.005760919764964, 1.0052523451145923, 1.0051877802909817, 1.0048158653623145, 1.0044928879611261, 1.0044831028045202, 1.0045859185579458, 1.0046564662147084, 1.0050303300700558, 1.005041500151084, 1.005711348613605, 1.0054089596113083, 1.0058560773281802, 1.0054857829526191, 1.0055280382859755, 1.0058860782775265, 1.0057986142766977, 1.0060464272271543, 1.0062092189439795, 1.006204187986836, 1.006416806770346, 1.0061165616890266, 1.0059346303695968, 1.0053062350091555, 1.0047029105669203, 1.0040772262423399, 1.0035603239503934, 1.0028673133756214, 1.0026182296151152, 1.0020029253391247, 1.002291704338278, 1.0023135463747768, 1.0029282144661311, 1.0029549951781032, 1.0033378195470772, 1.0038324094428144, 1.00432469917438, 1.0047013809570409, 1.0054350960019187, 1.0060709696972943, 1.0066046806586613, 1.0072896720482567, 1.0078411668453224, 1.0081239094574401, 1.0083693355218768, 1.0085024196929102], \"yaxis\": \"y\"}],\n",
       "                        {\"legend\": {\"title\": {\"text\": \"variable\"}, \"tracegroupgap\": 0}, \"margin\": {\"t\": 60}, \"template\": {\"data\": {\"bar\": [{\"error_x\": {\"color\": \"#2a3f5f\"}, \"error_y\": {\"color\": \"#2a3f5f\"}, \"marker\": {\"line\": {\"color\": \"#E5ECF6\", \"width\": 0.5}}, \"type\": \"bar\"}], \"barpolar\": [{\"marker\": {\"line\": {\"color\": \"#E5ECF6\", \"width\": 0.5}}, \"type\": \"barpolar\"}], \"carpet\": [{\"aaxis\": {\"endlinecolor\": \"#2a3f5f\", \"gridcolor\": \"white\", \"linecolor\": \"white\", \"minorgridcolor\": \"white\", \"startlinecolor\": \"#2a3f5f\"}, \"baxis\": {\"endlinecolor\": \"#2a3f5f\", \"gridcolor\": \"white\", \"linecolor\": \"white\", \"minorgridcolor\": \"white\", \"startlinecolor\": \"#2a3f5f\"}, \"type\": \"carpet\"}], \"choropleth\": [{\"colorbar\": {\"outlinewidth\": 0, \"ticks\": \"\"}, \"type\": \"choropleth\"}], \"contour\": [{\"colorbar\": {\"outlinewidth\": 0, \"ticks\": \"\"}, \"colorscale\": [[0.0, \"#0d0887\"], [0.1111111111111111, \"#46039f\"], [0.2222222222222222, \"#7201a8\"], [0.3333333333333333, \"#9c179e\"], [0.4444444444444444, \"#bd3786\"], [0.5555555555555556, \"#d8576b\"], [0.6666666666666666, \"#ed7953\"], [0.7777777777777778, \"#fb9f3a\"], [0.8888888888888888, \"#fdca26\"], [1.0, \"#f0f921\"]], \"type\": \"contour\"}], \"contourcarpet\": [{\"colorbar\": {\"outlinewidth\": 0, \"ticks\": \"\"}, \"type\": \"contourcarpet\"}], \"heatmap\": [{\"colorbar\": {\"outlinewidth\": 0, \"ticks\": \"\"}, \"colorscale\": [[0.0, \"#0d0887\"], [0.1111111111111111, \"#46039f\"], [0.2222222222222222, \"#7201a8\"], [0.3333333333333333, \"#9c179e\"], [0.4444444444444444, \"#bd3786\"], [0.5555555555555556, \"#d8576b\"], [0.6666666666666666, \"#ed7953\"], [0.7777777777777778, \"#fb9f3a\"], [0.8888888888888888, \"#fdca26\"], [1.0, \"#f0f921\"]], \"type\": \"heatmap\"}], \"heatmapgl\": [{\"colorbar\": {\"outlinewidth\": 0, \"ticks\": \"\"}, \"colorscale\": [[0.0, \"#0d0887\"], [0.1111111111111111, \"#46039f\"], [0.2222222222222222, \"#7201a8\"], [0.3333333333333333, \"#9c179e\"], [0.4444444444444444, \"#bd3786\"], [0.5555555555555556, \"#d8576b\"], [0.6666666666666666, \"#ed7953\"], [0.7777777777777778, \"#fb9f3a\"], [0.8888888888888888, \"#fdca26\"], [1.0, \"#f0f921\"]], \"type\": \"heatmapgl\"}], \"histogram\": [{\"marker\": {\"colorbar\": {\"outlinewidth\": 0, \"ticks\": \"\"}}, \"type\": \"histogram\"}], \"histogram2d\": [{\"colorbar\": {\"outlinewidth\": 0, \"ticks\": \"\"}, \"colorscale\": [[0.0, \"#0d0887\"], [0.1111111111111111, \"#46039f\"], [0.2222222222222222, \"#7201a8\"], [0.3333333333333333, \"#9c179e\"], [0.4444444444444444, \"#bd3786\"], [0.5555555555555556, \"#d8576b\"], [0.6666666666666666, \"#ed7953\"], [0.7777777777777778, \"#fb9f3a\"], [0.8888888888888888, \"#fdca26\"], [1.0, \"#f0f921\"]], \"type\": \"histogram2d\"}], \"histogram2dcontour\": [{\"colorbar\": {\"outlinewidth\": 0, \"ticks\": \"\"}, \"colorscale\": [[0.0, \"#0d0887\"], [0.1111111111111111, \"#46039f\"], [0.2222222222222222, \"#7201a8\"], [0.3333333333333333, \"#9c179e\"], [0.4444444444444444, \"#bd3786\"], [0.5555555555555556, \"#d8576b\"], [0.6666666666666666, \"#ed7953\"], [0.7777777777777778, \"#fb9f3a\"], [0.8888888888888888, \"#fdca26\"], [1.0, \"#f0f921\"]], \"type\": \"histogram2dcontour\"}], \"mesh3d\": [{\"colorbar\": {\"outlinewidth\": 0, \"ticks\": \"\"}, \"type\": \"mesh3d\"}], \"parcoords\": [{\"line\": {\"colorbar\": {\"outlinewidth\": 0, \"ticks\": \"\"}}, \"type\": \"parcoords\"}], \"pie\": [{\"automargin\": true, \"type\": \"pie\"}], \"scatter\": [{\"marker\": {\"colorbar\": {\"outlinewidth\": 0, \"ticks\": \"\"}}, \"type\": \"scatter\"}], \"scatter3d\": [{\"line\": {\"colorbar\": {\"outlinewidth\": 0, \"ticks\": \"\"}}, \"marker\": {\"colorbar\": {\"outlinewidth\": 0, \"ticks\": \"\"}}, \"type\": \"scatter3d\"}], \"scattercarpet\": [{\"marker\": {\"colorbar\": {\"outlinewidth\": 0, \"ticks\": \"\"}}, \"type\": \"scattercarpet\"}], \"scattergeo\": [{\"marker\": {\"colorbar\": {\"outlinewidth\": 0, \"ticks\": \"\"}}, \"type\": \"scattergeo\"}], \"scattergl\": [{\"marker\": {\"colorbar\": {\"outlinewidth\": 0, \"ticks\": \"\"}}, \"type\": \"scattergl\"}], \"scattermapbox\": [{\"marker\": {\"colorbar\": {\"outlinewidth\": 0, \"ticks\": \"\"}}, \"type\": \"scattermapbox\"}], \"scatterpolar\": [{\"marker\": {\"colorbar\": {\"outlinewidth\": 0, \"ticks\": \"\"}}, \"type\": \"scatterpolar\"}], \"scatterpolargl\": [{\"marker\": {\"colorbar\": {\"outlinewidth\": 0, \"ticks\": \"\"}}, \"type\": \"scatterpolargl\"}], \"scatterternary\": [{\"marker\": {\"colorbar\": {\"outlinewidth\": 0, \"ticks\": \"\"}}, \"type\": \"scatterternary\"}], \"surface\": [{\"colorbar\": {\"outlinewidth\": 0, \"ticks\": \"\"}, \"colorscale\": [[0.0, \"#0d0887\"], [0.1111111111111111, \"#46039f\"], [0.2222222222222222, \"#7201a8\"], [0.3333333333333333, \"#9c179e\"], [0.4444444444444444, \"#bd3786\"], [0.5555555555555556, \"#d8576b\"], [0.6666666666666666, \"#ed7953\"], [0.7777777777777778, \"#fb9f3a\"], [0.8888888888888888, \"#fdca26\"], [1.0, \"#f0f921\"]], \"type\": \"surface\"}], \"table\": [{\"cells\": {\"fill\": {\"color\": \"#EBF0F8\"}, \"line\": {\"color\": \"white\"}}, \"header\": {\"fill\": {\"color\": \"#C8D4E3\"}, \"line\": {\"color\": \"white\"}}, \"type\": \"table\"}]}, \"layout\": {\"annotationdefaults\": {\"arrowcolor\": \"#2a3f5f\", \"arrowhead\": 0, \"arrowwidth\": 1}, \"coloraxis\": {\"colorbar\": {\"outlinewidth\": 0, \"ticks\": \"\"}}, \"colorscale\": {\"diverging\": [[0, \"#8e0152\"], [0.1, \"#c51b7d\"], [0.2, \"#de77ae\"], [0.3, \"#f1b6da\"], [0.4, \"#fde0ef\"], [0.5, \"#f7f7f7\"], [0.6, \"#e6f5d0\"], [0.7, \"#b8e186\"], [0.8, \"#7fbc41\"], [0.9, \"#4d9221\"], [1, \"#276419\"]], \"sequential\": [[0.0, \"#0d0887\"], [0.1111111111111111, \"#46039f\"], [0.2222222222222222, \"#7201a8\"], [0.3333333333333333, \"#9c179e\"], [0.4444444444444444, \"#bd3786\"], [0.5555555555555556, \"#d8576b\"], [0.6666666666666666, \"#ed7953\"], [0.7777777777777778, \"#fb9f3a\"], [0.8888888888888888, \"#fdca26\"], [1.0, \"#f0f921\"]], \"sequentialminus\": [[0.0, \"#0d0887\"], [0.1111111111111111, \"#46039f\"], [0.2222222222222222, \"#7201a8\"], [0.3333333333333333, \"#9c179e\"], [0.4444444444444444, \"#bd3786\"], [0.5555555555555556, \"#d8576b\"], [0.6666666666666666, \"#ed7953\"], [0.7777777777777778, \"#fb9f3a\"], [0.8888888888888888, \"#fdca26\"], [1.0, \"#f0f921\"]]}, \"colorway\": [\"#636efa\", \"#EF553B\", \"#00cc96\", \"#ab63fa\", \"#FFA15A\", \"#19d3f3\", \"#FF6692\", \"#B6E880\", \"#FF97FF\", \"#FECB52\"], \"font\": {\"color\": \"#2a3f5f\"}, \"geo\": {\"bgcolor\": \"white\", \"lakecolor\": \"white\", \"landcolor\": \"#E5ECF6\", \"showlakes\": true, \"showland\": true, \"subunitcolor\": \"white\"}, \"hoverlabel\": {\"align\": \"left\"}, \"hovermode\": \"closest\", \"mapbox\": {\"style\": \"light\"}, \"paper_bgcolor\": \"white\", \"plot_bgcolor\": \"#E5ECF6\", \"polar\": {\"angularaxis\": {\"gridcolor\": \"white\", \"linecolor\": \"white\", \"ticks\": \"\"}, \"bgcolor\": \"#E5ECF6\", \"radialaxis\": {\"gridcolor\": \"white\", \"linecolor\": \"white\", \"ticks\": \"\"}}, \"scene\": {\"xaxis\": {\"backgroundcolor\": \"#E5ECF6\", \"gridcolor\": \"white\", \"gridwidth\": 2, \"linecolor\": \"white\", \"showbackground\": true, \"ticks\": \"\", \"zerolinecolor\": \"white\"}, \"yaxis\": {\"backgroundcolor\": \"#E5ECF6\", \"gridcolor\": \"white\", \"gridwidth\": 2, \"linecolor\": \"white\", \"showbackground\": true, \"ticks\": \"\", \"zerolinecolor\": \"white\"}, \"zaxis\": {\"backgroundcolor\": \"#E5ECF6\", \"gridcolor\": \"white\", \"gridwidth\": 2, \"linecolor\": \"white\", \"showbackground\": true, \"ticks\": \"\", \"zerolinecolor\": \"white\"}}, \"shapedefaults\": {\"line\": {\"color\": \"#2a3f5f\"}}, \"ternary\": {\"aaxis\": {\"gridcolor\": \"white\", \"linecolor\": \"white\", \"ticks\": \"\"}, \"baxis\": {\"gridcolor\": \"white\", \"linecolor\": \"white\", \"ticks\": \"\"}, \"bgcolor\": \"#E5ECF6\", \"caxis\": {\"gridcolor\": \"white\", \"linecolor\": \"white\", \"ticks\": \"\"}}, \"title\": {\"x\": 0.05}, \"xaxis\": {\"automargin\": true, \"gridcolor\": \"white\", \"linecolor\": \"white\", \"ticks\": \"\", \"title\": {\"standoff\": 15}, \"zerolinecolor\": \"white\", \"zerolinewidth\": 2}, \"yaxis\": {\"automargin\": true, \"gridcolor\": \"white\", \"linecolor\": \"white\", \"ticks\": \"\", \"title\": {\"standoff\": 15}, \"zerolinecolor\": \"white\", \"zerolinewidth\": 2}}}, \"xaxis\": {\"anchor\": \"y\", \"domain\": [0.0, 1.0], \"title\": {\"text\": \"timestamp\"}}, \"yaxis\": {\"anchor\": \"x\", \"domain\": [0.0, 1.0], \"title\": {\"text\": \"value\"}}},\n",
       "                        {\"responsive\": true}\n",
       "                    ).then(function(){\n",
       "                            \n",
       "var gd = document.getElementById('0f7f9d58-6c1b-4d7c-92a5-f80d73a2f6b6');\n",
       "var x = new MutationObserver(function (mutations, observer) {{\n",
       "        var display = window.getComputedStyle(gd).display;\n",
       "        if (!display || display === 'none') {{\n",
       "            console.log([gd, 'removed!']);\n",
       "            Plotly.purge(gd);\n",
       "            observer.disconnect();\n",
       "        }}\n",
       "}});\n",
       "\n",
       "// Listen for the removal of the full notebook cells\n",
       "var notebookContainer = gd.closest('#notebook-container');\n",
       "if (notebookContainer) {{\n",
       "    x.observe(notebookContainer, {childList: true});\n",
       "}}\n",
       "\n",
       "// Listen for the clearing of the current output cell\n",
       "var outputEl = gd.closest('.output');\n",
       "if (outputEl) {{\n",
       "    x.observe(outputEl, {childList: true});\n",
       "}}\n",
       "\n",
       "                        })\n",
       "                };\n",
       "                });\n",
       "            </script>\n",
       "        </div>"
      ]
     },
     "metadata": {},
     "output_type": "display_data"
    }
   ],
   "source": [
    "df.plot(kind='line', x='timestamp', y=['debt_price', 'target_price', 'market_price'])"
   ]
  },
  {
   "cell_type": "code",
   "execution_count": 73,
   "metadata": {},
   "outputs": [
    {
     "data": {
      "text/plain": [
       "Text(0, 0.5, 'Observed Error')"
      ]
     },
     "execution_count": 73,
     "metadata": {},
     "output_type": "execute_result"
    },
    {
     "data": {
      "image/png": "[encoded data removed]",
      "text/plain": [
       "<Figure size 1296x864 with 1 Axes>"
      ]
     },
     "metadata": {
      "needs_background": "light"
     },
     "output_type": "display_data"
    }
   ],
   "source": [
    "from matplotlib.patches import Rectangle\n",
    "\n",
    "df['seconds'] = df.timedelta.cumsum()\n",
    "\n",
    "\n",
    "x=df.seconds.values\n",
    "y=df.error_star.values\n",
    "h=(df.error_star.shift(periods=-1)+df.error_star)/2\n",
    "w=df.timedelta.values\n",
    "\n",
    "plt.figure(figsize=(18, 12))\n",
    "plt.plot(x,y , marker='.',linestyle='--', color='r')\n",
    "\n",
    "ax = plt.gca()\n",
    "\n",
    "for p in range(len(x)-1):\n",
    "    ax.add_patch(\n",
    "        Rectangle(\n",
    "        (x[p], 0),\n",
    "        w[p+1],\n",
    "        h[p+1],\n",
    "        edgecolor = 'blue',\n",
    "        facecolor = 'cyan',\n",
    "        fill=True\n",
    "     ) )\n",
    "\n",
    "plt.title('Visualizing Numerical Integration')\n",
    "plt.xlabel('Time passed in seconds')\n",
    "plt.ylabel('Observed Error')"
   ]
  },
  {
   "cell_type": "code",
   "execution_count": 74,
   "metadata": {},
   "outputs": [
    {
     "data": {
      "application/vnd.plotly.v1+json": {
       "config": {
        "plotlyServerURL": "https://plot.ly"
       },
       "data": [
        {
         "hovertemplate": "variable=error_star<br>timestamp=%{x}<br>value=%{y}<extra></extra>",
         "legendgroup": "error_star",
         "line": {
          "color": "#636efa",
          "dash": "solid"
         },
         "mode": "lines",
         "name": "error_star",
         "orientation": "v",
         "showlegend": true,
         "type": "scatter",
         "x": [
          "2020-09-03T16:51:05.264212",
          "2020-09-03T17:51:53.264212",
          "2020-09-03T18:51:55.264212",
          "2020-09-03T19:52:26.264212",
          "2020-09-03T20:53:21.264212",
          "2020-09-03T21:53:27.264212",
          "2020-09-03T22:53:51.264212",
          "2020-09-03T23:53:59.264212",
          "2020-09-04T00:54:00.264212",
          "2020-09-04T01:54:07.264212",
          "2020-09-04T02:54:32.264212",
          "2020-09-04T03:56:01.264212",
          "2020-09-04T04:58:04.264212",
          "2020-09-04T05:58:29.264212",
          "2020-09-04T06:59:40.264212",
          "2020-09-04T08:00:09.264212",
          "2020-09-04T09:00:14.264212",
          "2020-09-04T10:01:24.264212",
          "2020-09-04T11:01:57.264212",
          "2020-09-04T12:02:10.264212",
          "2020-09-04T13:02:23.264212",
          "2020-09-04T14:03:57.264212",
          "2020-09-04T15:04:03.264212",
          "2020-09-04T16:04:11.264212",
          "2020-09-04T17:05:01.264212",
          "2020-09-04T18:06:01.264212",
          "2020-09-04T19:06:38.264212",
          "2020-09-04T20:07:31.264212",
          "2020-09-04T21:08:19.264212",
          "2020-09-04T22:09:41.264212",
          "2020-09-04T23:11:20.264212",
          "2020-09-05T00:12:43.264212",
          "2020-09-05T01:14:15.264212",
          "2020-09-05T02:14:28.264212",
          "2020-09-05T03:14:40.264212",
          "2020-09-05T04:15:50.264212",
          "2020-09-05T05:17:12.264212",
          "2020-09-05T06:17:45.264212",
          "2020-09-05T07:21:44.264212",
          "2020-09-05T08:22:32.264212",
          "2020-09-05T09:22:42.264212",
          "2020-09-05T10:23:42.264212",
          "2020-09-05T11:26:43.264212",
          "2020-09-05T12:27:50.264212",
          "2020-09-05T13:28:07.264212",
          "2020-09-05T14:29:52.264212",
          "2020-09-05T15:30:57.264212",
          "2020-09-05T16:33:19.264212",
          "2020-09-05T17:33:52.264212",
          "2020-09-05T18:34:28.264212",
          "2020-09-05T19:34:56.264212",
          "2020-09-05T20:35:10.264212",
          "2020-09-05T21:37:02.264212",
          "2020-09-05T22:38:30.264212",
          "2020-09-05T23:40:59.264212",
          "2020-09-06T00:43:59.264212",
          "2020-09-06T01:44:08.264212",
          "2020-09-06T02:46:48.264212",
          "2020-09-06T03:47:27.264212",
          "2020-09-06T04:49:06.264212",
          "2020-09-06T05:50:08.264212",
          "2020-09-06T06:50:28.264212",
          "2020-09-06T07:51:53.264212",
          "2020-09-06T08:51:56.264212",
          "2020-09-06T09:54:03.264212",
          "2020-09-06T10:54:09.264212",
          "2020-09-06T11:54:19.264212",
          "2020-09-06T12:54:57.264212",
          "2020-09-06T13:55:01.264212",
          "2020-09-06T14:57:49.264212",
          "2020-09-06T16:00:52.264212",
          "2020-09-06T17:01:28.264212",
          "2020-09-06T18:04:14.264212",
          "2020-09-06T19:04:33.264212",
          "2020-09-06T20:04:40.264212",
          "2020-09-06T21:04:50.264212",
          "2020-09-06T22:05:20.264212",
          "2020-09-06T23:05:31.264212",
          "2020-09-07T00:06:53.264212",
          "2020-09-07T01:08:14.264212",
          "2020-09-07T02:09:37.264212",
          "2020-09-07T03:09:46.264212",
          "2020-09-07T04:09:48.264212",
          "2020-09-07T05:10:15.264212",
          "2020-09-07T06:10:57.264212",
          "2020-09-07T07:11:22.264212",
          "2020-09-07T08:11:32.264212",
          "2020-09-07T09:12:29.264212",
          "2020-09-07T10:12:33.264212",
          "2020-09-07T11:13:44.264212",
          "2020-09-07T12:13:49.264212",
          "2020-09-07T13:13:50.264212",
          "2020-09-07T14:14:08.264212",
          "2020-09-07T15:14:11.264212",
          "2020-09-07T16:14:26.264212",
          "2020-09-07T17:20:05.264212",
          "2020-09-07T18:20:51.264212",
          "2020-09-07T19:21:36.264212",
          "2020-09-07T20:24:25.264212",
          "2020-09-07T21:25:14.264212"
         ],
         "xaxis": "x",
         "y": [
          0,
          0.0050000000000000044,
          -0.0032724848909884436,
          0.00025359623248504367,
          -0.003414053206159181,
          -5.999406132301276e-05,
          -0.0011877527646800244,
          0.0005288291955190057,
          -0.00013073159110585863,
          0.0011176553650575063,
          0.000630485137796011,
          0.0006798294849442472,
          0.00028319968279489526,
          -0.0002912798888328399,
          -0.0007305737254590756,
          -0.0009136617545228499,
          -0.00034451343409034674,
          0.00015039126768585812,
          0.00024819314229964696,
          0.0005841031991728443,
          9.535653621496501e-05,
          0.00044602250347433684,
          -0.0003470697235622918,
          0.00024316097226613926,
          -0.0005106312090027072,
          -4.4920337351693344e-05,
          8.4881644908292e-05,
          0.00045962216765614935,
          0.0003573437249327395,
          5.155669363720818e-05,
          7.940752850885271e-05,
          -0.0004425107022044992,
          -0.00048640678414527475,
          2.519879761122667e-05,
          0.00024720641022108933,
          -4.848975403080077e-05,
          0.0002521372514599356,
          -1.4077749560891147e-05,
          0.00014427527626862128,
          0.0005239470716282381,
          0.0005757633314214792,
          0.0004888704056445572,
          1.23214234259598e-06,
          0.00010564556410728814,
          -6.561640463734062e-05,
          -0.0001343879045669606,
          -0.0003131149646033954,
          -0.0005006138163104129,
          -0.0004582854801912939,
          -0.0004265283605105789,
          -0.0001259326278980125,
          -6.027453632360795e-05,
          0.00023760097208502709,
          0.0004887406816513781,
          0.00044732820196766057,
          0.0005498344638504757,
          -0.00012368557568789222,
          -0.00022593461102640266,
          -0.00024821636596338644,
          -0.00044019808793243725,
          -0.0004677773863073105,
          -0.00021493414461982985,
          -0.00022366050952395215,
          0.0002562170826128331,
          -0.0001818021426877979,
          0.0005671909778023594,
          8.03886685781942e-05,
          0.0004922361231337912,
          0.0001375644627434497,
          -0.000510239437144087,
          -0.00028464028159627534,
          -0.0002928651121960996,
          -7.394678360122636e-05,
          0.000312290277875964,
          0.00021164354376595828,
          0.0005424172811588676,
          0.00039949240364677973,
          0.0005338713714149697,
          0.0003436013018567212,
          2.791392371070408e-05,
          -0.0003320100189897763,
          -0.00025262100356855986,
          -0.0004977340101860546,
          -6.524612597599627e-05,
          -0.0006131120154788284,
          -0.00044441389819423606,
          -0.0006862998551382862,
          6.36890069887617e-05,
          0.0002474361715579293,
          0.00014127672569106905,
          -2.2840485731723064e-06,
          5.28737607450615e-07,
          -0.00035508052641986573,
          -0.00034284323946107424,
          -6.248212392601912e-05,
          3.072276202861193e-05,
          0.0002856860354340706,
          0.0005391664412422339,
          0.0004900911997526834,
          0.00030368663726733467
         ],
         "yaxis": "y"
        },
        {
         "hovertemplate": "variable=error_star_derivative_scaled<br>timestamp=%{x}<br>value=%{y}<extra></extra>",
         "legendgroup": "error_star_derivative_scaled",
         "line": {
          "color": "#EF553B",
          "dash": "solid"
         },
         "mode": "lines",
         "name": "error_star_derivative_scaled",
         "orientation": "v",
         "showlegend": true,
         "type": "scatter",
         "x": [
          "2020-09-03T16:51:05.264212",
          "2020-09-03T17:51:53.264212",
          "2020-09-03T18:51:55.264212",
          "2020-09-03T19:52:26.264212",
          "2020-09-03T20:53:21.264212",
          "2020-09-03T21:53:27.264212",
          "2020-09-03T22:53:51.264212",
          "2020-09-03T23:53:59.264212",
          "2020-09-04T00:54:00.264212",
          "2020-09-04T01:54:07.264212",
          "2020-09-04T02:54:32.264212",
          "2020-09-04T03:56:01.264212",
          "2020-09-04T04:58:04.264212",
          "2020-09-04T05:58:29.264212",
          "2020-09-04T06:59:40.264212",
          "2020-09-04T08:00:09.264212",
          "2020-09-04T09:00:14.264212",
          "2020-09-04T10:01:24.264212",
          "2020-09-04T11:01:57.264212",
          "2020-09-04T12:02:10.264212",
          "2020-09-04T13:02:23.264212",
          "2020-09-04T14:03:57.264212",
          "2020-09-04T15:04:03.264212",
          "2020-09-04T16:04:11.264212",
          "2020-09-04T17:05:01.264212",
          "2020-09-04T18:06:01.264212",
          "2020-09-04T19:06:38.264212",
          "2020-09-04T20:07:31.264212",
          "2020-09-04T21:08:19.264212",
          "2020-09-04T22:09:41.264212",
          "2020-09-04T23:11:20.264212",
          "2020-09-05T00:12:43.264212",
          "2020-09-05T01:14:15.264212",
          "2020-09-05T02:14:28.264212",
          "2020-09-05T03:14:40.264212",
          "2020-09-05T04:15:50.264212",
          "2020-09-05T05:17:12.264212",
          "2020-09-05T06:17:45.264212",
          "2020-09-05T07:21:44.264212",
          "2020-09-05T08:22:32.264212",
          "2020-09-05T09:22:42.264212",
          "2020-09-05T10:23:42.264212",
          "2020-09-05T11:26:43.264212",
          "2020-09-05T12:27:50.264212",
          "2020-09-05T13:28:07.264212",
          "2020-09-05T14:29:52.264212",
          "2020-09-05T15:30:57.264212",
          "2020-09-05T16:33:19.264212",
          "2020-09-05T17:33:52.264212",
          "2020-09-05T18:34:28.264212",
          "2020-09-05T19:34:56.264212",
          "2020-09-05T20:35:10.264212",
          "2020-09-05T21:37:02.264212",
          "2020-09-05T22:38:30.264212",
          "2020-09-05T23:40:59.264212",
          "2020-09-06T00:43:59.264212",
          "2020-09-06T01:44:08.264212",
          "2020-09-06T02:46:48.264212",
          "2020-09-06T03:47:27.264212",
          "2020-09-06T04:49:06.264212",
          "2020-09-06T05:50:08.264212",
          "2020-09-06T06:50:28.264212",
          "2020-09-06T07:51:53.264212",
          "2020-09-06T08:51:56.264212",
          "2020-09-06T09:54:03.264212",
          "2020-09-06T10:54:09.264212",
          "2020-09-06T11:54:19.264212",
          "2020-09-06T12:54:57.264212",
          "2020-09-06T13:55:01.264212",
          "2020-09-06T14:57:49.264212",
          "2020-09-06T16:00:52.264212",
          "2020-09-06T17:01:28.264212",
          "2020-09-06T18:04:14.264212",
          "2020-09-06T19:04:33.264212",
          "2020-09-06T20:04:40.264212",
          "2020-09-06T21:04:50.264212",
          "2020-09-06T22:05:20.264212",
          "2020-09-06T23:05:31.264212",
          "2020-09-07T00:06:53.264212",
          "2020-09-07T01:08:14.264212",
          "2020-09-07T02:09:37.264212",
          "2020-09-07T03:09:46.264212",
          "2020-09-07T04:09:48.264212",
          "2020-09-07T05:10:15.264212",
          "2020-09-07T06:10:57.264212",
          "2020-09-07T07:11:22.264212",
          "2020-09-07T08:11:32.264212",
          "2020-09-07T09:12:29.264212",
          "2020-09-07T10:12:33.264212",
          "2020-09-07T11:13:44.264212",
          "2020-09-07T12:13:49.264212",
          "2020-09-07T13:13:50.264212",
          "2020-09-07T14:14:08.264212",
          "2020-09-07T15:14:11.264212",
          "2020-09-07T16:14:26.264212",
          "2020-09-07T17:20:05.264212",
          "2020-09-07T18:20:51.264212",
          "2020-09-07T19:21:36.264212",
          "2020-09-07T20:24:25.264212",
          "2020-09-07T21:25:14.264212"
         ],
         "xaxis": "x",
         "y": [
          0,
          0.004934210526315688,
          -0.008267891617867512,
          0.003495976878133979,
          -0.0036124590914143146,
          0.0033484783475900767,
          -0.0011202901026725323,
          0.0017127757917727955,
          -0.0006593776261732895,
          0.0012459642479034205,
          -0.000483810432590822,
          4.815387631687193e-05,
          -0.00038352599724368,
          -0.0005705176435476852,
          -0.0004307975515812062,
          -0.00018162493927522966,
          0.0005683589330254335,
          0.0004854651025596379,
          9.691350085583392e-05,
          0.0003347014128820408,
          -0.00048698809483763237,
          0.0003417426860133962,
          -0.0007917726060266026,
          0.0005889219803165277,
          -0.0007434662609775598,
          0.00045807626719764766,
          0.00012848147817863618,
          0.0003693035537617696,
          -0.00010093267374037922,
          -0.0002989769996372335,
          2.7105435398142377e-05,
          -0.0005101562939366757,
          -4.2802246746323665e-05,
          0.0005097647645510052,
          0.00022127004579047035,
          -0.00029005618291753216,
          0.00029393189021364487,
          -0.0002637968631090913,
          0.00014849463219213793,
          0.00037467611384159674,
          5.167272444752454e-05,
          -8.546845158404967e-05,
          -0.0004642945643711137,
          0.00010250567721648614,
          -0.00017045703275672328,
          -6.682251005322905e-05,
          -0.0001755572758884577,
          -0.00018038371623349883,
          4.194385081991367e-05,
          3.1442692753169514e-05,
          0.00029827580964854414,
          6.540374368224113e-05,
          0.0002888878853100473,
          0.0002451472219193321,
          -3.976658491913927e-05,
          9.762501131692965e-05,
          -0.0006718404384423908,
          -9.789801255826944e-05,
          -2.20429562444854e-05,
          -0.00018684352503075055,
          -2.711236323047362e-05,
          0.0002514463177002513,
          -8.525078332524173e-06,
          0.000479478027114069,
          -0.00042309342932192115,
          0.0007477468756972782,
          -0.000485453826373208,
          0.00040754558449684116,
          -0.00035427801814800087,
          -0.000618920923459599,
          0.00021468595293985728,
          -8.143396633582267e-06,
          0.00020926871559774976,
          0.00038420929022310417,
          -0.00010045141192033518,
          0.000329857466652172,
          -0.00014174368017734387,
          0.00013396961616313208,
          -0.00018603265899237373,
          -0.00030874071212340023,
          -0.0003518127053277068,
          7.91910378264947e-05,
          -0.0002449769083351979,
          0.0004292683714242915,
          -0.0005415478314691607,
          0.00016753468199280554,
          -0.00024121591274211228,
          0.0007382991259658996,
          0.00018354322764947088,
          -0.00010410623947733951,
          -0.0001433616608465145,
          2.8120050680558242e-06,
          -0.0003538400637088804,
          1.2227097710682498e-05,
          0.00027919779140405786,
          8.518344489373119e-05,
          0.00025174651241347944,
          0.0002503510180820604,
          -4.687473318190378e-05,
          -0.00018390145928952589
         ],
         "yaxis": "y"
        }
       ],
       "layout": {
        "autosize": true,
        "legend": {
         "title": {
          "text": "variable"
         },
         "tracegroupgap": 0
        },
        "margin": {
         "t": 60
        },
        "template": {
         "data": {
          "bar": [
           {
            "error_x": {
             "color": "#2a3f5f"
            },
            "error_y": {
             "color": "#2a3f5f"
            },
            "marker": {
             "line": {
              "color": "#E5ECF6",
              "width": 0.5
             }
            },
            "type": "bar"
           }
          ],
          "barpolar": [
           {
            "marker": {
             "line": {
              "color": "#E5ECF6",
              "width": 0.5
             }
            },
            "type": "barpolar"
           }
          ],
          "carpet": [
           {
            "aaxis": {
             "endlinecolor": "#2a3f5f",
             "gridcolor": "white",
             "linecolor": "white",
             "minorgridcolor": "white",
             "startlinecolor": "#2a3f5f"
            },
            "baxis": {
             "endlinecolor": "#2a3f5f",
             "gridcolor": "white",
             "linecolor": "white",
             "minorgridcolor": "white",
             "startlinecolor": "#2a3f5f"
            },
            "type": "carpet"
           }
          ],
          "choropleth": [
           {
            "colorbar": {
             "outlinewidth": 0,
             "ticks": ""
            },
            "type": "choropleth"
           }
          ],
          "contour": [
           {
            "colorbar": {
             "outlinewidth": 0,
             "ticks": ""
            },
            "colorscale": [
             [
              0,
              "#0d0887"
             ],
             [
              0.1111111111111111,
              "#46039f"
             ],
             [
              0.2222222222222222,
              "#7201a8"
             ],
             [
              0.3333333333333333,
              "#9c179e"
             ],
             [
              0.4444444444444444,
              "#bd3786"
             ],
             [
              0.5555555555555556,
              "#d8576b"
             ],
             [
              0.6666666666666666,
              "#ed7953"
             ],
             [
              0.7777777777777778,
              "#fb9f3a"
             ],
             [
              0.8888888888888888,
              "#fdca26"
             ],
             [
              1,
              "#f0f921"
             ]
            ],
            "type": "contour"
           }
          ],
          "contourcarpet": [
           {
            "colorbar": {
             "outlinewidth": 0,
             "ticks": ""
            },
            "type": "contourcarpet"
           }
          ],
          "heatmap": [
           {
            "colorbar": {
             "outlinewidth": 0,
             "ticks": ""
            },
            "colorscale": [
             [
              0,
              "#0d0887"
             ],
             [
              0.1111111111111111,
              "#46039f"
             ],
             [
              0.2222222222222222,
              "#7201a8"
             ],
             [
              0.3333333333333333,
              "#9c179e"
             ],
             [
              0.4444444444444444,
              "#bd3786"
             ],
             [
              0.5555555555555556,
              "#d8576b"
             ],
             [
              0.6666666666666666,
              "#ed7953"
             ],
             [
              0.7777777777777778,
              "#fb9f3a"
             ],
             [
              0.8888888888888888,
              "#fdca26"
             ],
             [
              1,
              "#f0f921"
             ]
            ],
            "type": "heatmap"
           }
          ],
          "heatmapgl": [
           {
            "colorbar": {
             "outlinewidth": 0,
             "ticks": ""
            },
            "colorscale": [
             [
              0,
              "#0d0887"
             ],
             [
              0.1111111111111111,
              "#46039f"
             ],
             [
              0.2222222222222222,
              "#7201a8"
             ],
             [
              0.3333333333333333,
              "#9c179e"
             ],
             [
              0.4444444444444444,
              "#bd3786"
             ],
             [
              0.5555555555555556,
              "#d8576b"
             ],
             [
              0.6666666666666666,
              "#ed7953"
             ],
             [
              0.7777777777777778,
              "#fb9f3a"
             ],
             [
              0.8888888888888888,
              "#fdca26"
             ],
             [
              1,
              "#f0f921"
             ]
            ],
            "type": "heatmapgl"
           }
          ],
          "histogram": [
           {
            "marker": {
             "colorbar": {
              "outlinewidth": 0,
              "ticks": ""
             }
            },
            "type": "histogram"
           }
          ],
          "histogram2d": [
           {
            "colorbar": {
             "outlinewidth": 0,
             "ticks": ""
            },
            "colorscale": [
             [
              0,
              "#0d0887"
             ],
             [
              0.1111111111111111,
              "#46039f"
             ],
             [
              0.2222222222222222,
              "#7201a8"
             ],
             [
              0.3333333333333333,
              "#9c179e"
             ],
             [
              0.4444444444444444,
              "#bd3786"
             ],
             [
              0.5555555555555556,
              "#d8576b"
             ],
             [
              0.6666666666666666,
              "#ed7953"
             ],
             [
              0.7777777777777778,
              "#fb9f3a"
             ],
             [
              0.8888888888888888,
              "#fdca26"
             ],
             [
              1,
              "#f0f921"
             ]
            ],
            "type": "histogram2d"
           }
          ],
          "histogram2dcontour": [
           {
            "colorbar": {
             "outlinewidth": 0,
             "ticks": ""
            },
            "colorscale": [
             [
              0,
              "#0d0887"
             ],
             [
              0.1111111111111111,
              "#46039f"
             ],
             [
              0.2222222222222222,
              "#7201a8"
             ],
             [
              0.3333333333333333,
              "#9c179e"
             ],
             [
              0.4444444444444444,
              "#bd3786"
             ],
             [
              0.5555555555555556,
              "#d8576b"
             ],
             [
              0.6666666666666666,
              "#ed7953"
             ],
             [
              0.7777777777777778,
              "#fb9f3a"
             ],
             [
              0.8888888888888888,
              "#fdca26"
             ],
             [
              1,
              "#f0f921"
             ]
            ],
            "type": "histogram2dcontour"
           }
          ],
          "mesh3d": [
           {
            "colorbar": {
             "outlinewidth": 0,
             "ticks": ""
            },
            "type": "mesh3d"
           }
          ],
          "parcoords": [
           {
            "line": {
             "colorbar": {
              "outlinewidth": 0,
              "ticks": ""
             }
            },
            "type": "parcoords"
           }
          ],
          "pie": [
           {
            "automargin": true,
            "type": "pie"
           }
          ],
          "scatter": [
           {
            "marker": {
             "colorbar": {
              "outlinewidth": 0,
              "ticks": ""
             }
            },
            "type": "scatter"
           }
          ],
          "scatter3d": [
           {
            "line": {
             "colorbar": {
              "outlinewidth": 0,
              "ticks": ""
             }
            },
            "marker": {
             "colorbar": {
              "outlinewidth": 0,
              "ticks": ""
             }
            },
            "type": "scatter3d"
           }
          ],
          "scattercarpet": [
           {
            "marker": {
             "colorbar": {
              "outlinewidth": 0,
              "ticks": ""
             }
            },
            "type": "scattercarpet"
           }
          ],
          "scattergeo": [
           {
            "marker": {
             "colorbar": {
              "outlinewidth": 0,
              "ticks": ""
             }
            },
            "type": "scattergeo"
           }
          ],
          "scattergl": [
           {
            "marker": {
             "colorbar": {
              "outlinewidth": 0,
              "ticks": ""
             }
            },
            "type": "scattergl"
           }
          ],
          "scattermapbox": [
           {
            "marker": {
             "colorbar": {
              "outlinewidth": 0,
              "ticks": ""
             }
            },
            "type": "scattermapbox"
           }
          ],
          "scatterpolar": [
           {
            "marker": {
             "colorbar": {
              "outlinewidth": 0,
              "ticks": ""
             }
            },
            "type": "scatterpolar"
           }
          ],
          "scatterpolargl": [
           {
            "marker": {
             "colorbar": {
              "outlinewidth": 0,
              "ticks": ""
             }
            },
            "type": "scatterpolargl"
           }
          ],
          "scatterternary": [
           {
            "marker": {
             "colorbar": {
              "outlinewidth": 0,
              "ticks": ""
             }
            },
            "type": "scatterternary"
           }
          ],
          "surface": [
           {
            "colorbar": {
             "outlinewidth": 0,
             "ticks": ""
            },
            "colorscale": [
             [
              0,
              "#0d0887"
             ],
             [
              0.1111111111111111,
              "#46039f"
             ],
             [
              0.2222222222222222,
              "#7201a8"
             ],
             [
              0.3333333333333333,
              "#9c179e"
             ],
             [
              0.4444444444444444,
              "#bd3786"
             ],
             [
              0.5555555555555556,
              "#d8576b"
             ],
             [
              0.6666666666666666,
              "#ed7953"
             ],
             [
              0.7777777777777778,
              "#fb9f3a"
             ],
             [
              0.8888888888888888,
              "#fdca26"
             ],
             [
              1,
              "#f0f921"
             ]
            ],
            "type": "surface"
           }
          ],
          "table": [
           {
            "cells": {
             "fill": {
              "color": "#EBF0F8"
             },
             "line": {
              "color": "white"
             }
            },
            "header": {
             "fill": {
              "color": "#C8D4E3"
             },
             "line": {
              "color": "white"
             }
            },
            "type": "table"
           }
          ]
         },
         "layout": {
          "annotationdefaults": {
           "arrowcolor": "#2a3f5f",
           "arrowhead": 0,
           "arrowwidth": 1
          },
          "coloraxis": {
           "colorbar": {
            "outlinewidth": 0,
            "ticks": ""
           }
          },
          "colorscale": {
           "diverging": [
            [
             0,
             "#8e0152"
            ],
            [
             0.1,
             "#c51b7d"
            ],
            [
             0.2,
             "#de77ae"
            ],
            [
             0.3,
             "#f1b6da"
            ],
            [
             0.4,
             "#fde0ef"
            ],
            [
             0.5,
             "#f7f7f7"
            ],
            [
             0.6,
             "#e6f5d0"
            ],
            [
             0.7,
             "#b8e186"
            ],
            [
             0.8,
             "#7fbc41"
            ],
            [
             0.9,
             "#4d9221"
            ],
            [
             1,
             "#276419"
            ]
           ],
           "sequential": [
            [
             0,
             "#0d0887"
            ],
            [
             0.1111111111111111,
             "#46039f"
            ],
            [
             0.2222222222222222,
             "#7201a8"
            ],
            [
             0.3333333333333333,
             "#9c179e"
            ],
            [
             0.4444444444444444,
             "#bd3786"
            ],
            [
             0.5555555555555556,
             "#d8576b"
            ],
            [
             0.6666666666666666,
             "#ed7953"
            ],
            [
             0.7777777777777778,
             "#fb9f3a"
            ],
            [
             0.8888888888888888,
             "#fdca26"
            ],
            [
             1,
             "#f0f921"
            ]
           ],
           "sequentialminus": [
            [
             0,
             "#0d0887"
            ],
            [
             0.1111111111111111,
             "#46039f"
            ],
            [
             0.2222222222222222,
             "#7201a8"
            ],
            [
             0.3333333333333333,
             "#9c179e"
            ],
            [
             0.4444444444444444,
             "#bd3786"
            ],
            [
             0.5555555555555556,
             "#d8576b"
            ],
            [
             0.6666666666666666,
             "#ed7953"
            ],
            [
             0.7777777777777778,
             "#fb9f3a"
            ],
            [
             0.8888888888888888,
             "#fdca26"
            ],
            [
             1,
             "#f0f921"
            ]
           ]
          },
          "colorway": [
           "#636efa",
           "#EF553B",
           "#00cc96",
           "#ab63fa",
           "#FFA15A",
           "#19d3f3",
           "#FF6692",
           "#B6E880",
           "#FF97FF",
           "#FECB52"
          ],
          "font": {
           "color": "#2a3f5f"
          },
          "geo": {
           "bgcolor": "white",
           "lakecolor": "white",
           "landcolor": "#E5ECF6",
           "showlakes": true,
           "showland": true,
           "subunitcolor": "white"
          },
          "hoverlabel": {
           "align": "left"
          },
          "hovermode": "closest",
          "mapbox": {
           "style": "light"
          },
          "paper_bgcolor": "white",
          "plot_bgcolor": "#E5ECF6",
          "polar": {
           "angularaxis": {
            "gridcolor": "white",
            "linecolor": "white",
            "ticks": ""
           },
           "bgcolor": "#E5ECF6",
           "radialaxis": {
            "gridcolor": "white",
            "linecolor": "white",
            "ticks": ""
           }
          },
          "scene": {
           "xaxis": {
            "backgroundcolor": "#E5ECF6",
            "gridcolor": "white",
            "gridwidth": 2,
            "linecolor": "white",
            "showbackground": true,
            "ticks": "",
            "zerolinecolor": "white"
           },
           "yaxis": {
            "backgroundcolor": "#E5ECF6",
            "gridcolor": "white",
            "gridwidth": 2,
            "linecolor": "white",
            "showbackground": true,
            "ticks": "",
            "zerolinecolor": "white"
           },
           "zaxis": {
            "backgroundcolor": "#E5ECF6",
            "gridcolor": "white",
            "gridwidth": 2,
            "linecolor": "white",
            "showbackground": true,
            "ticks": "",
            "zerolinecolor": "white"
           }
          },
          "shapedefaults": {
           "line": {
            "color": "#2a3f5f"
           }
          },
          "ternary": {
           "aaxis": {
            "gridcolor": "white",
            "linecolor": "white",
            "ticks": ""
           },
           "baxis": {
            "gridcolor": "white",
            "linecolor": "white",
            "ticks": ""
           },
           "bgcolor": "#E5ECF6",
           "caxis": {
            "gridcolor": "white",
            "linecolor": "white",
            "ticks": ""
           }
          },
          "title": {
           "x": 0.05
          },
          "xaxis": {
           "automargin": true,
           "gridcolor": "white",
           "linecolor": "white",
           "ticks": "",
           "title": {
            "standoff": 15
           },
           "zerolinecolor": "white",
           "zerolinewidth": 2
          },
          "yaxis": {
           "automargin": true,
           "gridcolor": "white",
           "linecolor": "white",
           "ticks": "",
           "title": {
            "standoff": 15
           },
           "zerolinecolor": "white",
           "zerolinewidth": 2
          }
         }
        },
        "xaxis": {
         "anchor": "y",
         "autorange": true,
         "domain": [
          0,
          1
         ],
         "range": [
          "2020-09-03 16:51:05.2642",
          "2020-09-07 21:25:14.2642"
         ],
         "title": {
          "text": "timestamp"
         },
         "type": "date"
        },
        "yaxis": {
         "anchor": "x",
         "autorange": true,
         "domain": [
          0,
          1
         ],
         "range": [
          -0.009004996707749041,
          0.005737105089881533
         ],
         "title": {
          "text": "value"
         },
         "type": "linear"
        }
       }
      },
      "image/png": "[encoded data removed]",
      "text/html": [
       "<div>\n",
       "        \n",
       "        \n",
       "            <div id=\"99fcc0f2-00e4-42e8-b23a-70f3eded93e3\" class=\"plotly-graph-div\" style=\"height:525px; width:100%;\"></div>\n",
       "            <script type=\"text/javascript\">\n",
       "                require([\"plotly\"], function(Plotly) {\n",
       "                    window.PLOTLYENV=window.PLOTLYENV || {};\n",
       "                    \n",
       "                if (document.getElementById(\"99fcc0f2-00e4-42e8-b23a-70f3eded93e3\")) {\n",
       "                    Plotly.newPlot(\n",
       "                        '99fcc0f2-00e4-42e8-b23a-70f3eded93e3',\n",
       "                        [{\"hovertemplate\": \"variable=error_star<br>timestamp=%{x}<br>value=%{y}<extra></extra>\", \"legendgroup\": \"error_star\", \"line\": {\"color\": \"#636efa\", \"dash\": \"solid\"}, \"mode\": \"lines\", \"name\": \"error_star\", \"orientation\": \"v\", \"showlegend\": true, \"type\": \"scatter\", \"x\": [\"2020-09-03T16:51:05.264212\", \"2020-09-03T17:51:53.264212\", \"2020-09-03T18:51:55.264212\", \"2020-09-03T19:52:26.264212\", \"2020-09-03T20:53:21.264212\", \"2020-09-03T21:53:27.264212\", \"2020-09-03T22:53:51.264212\", \"2020-09-03T23:53:59.264212\", \"2020-09-04T00:54:00.264212\", \"2020-09-04T01:54:07.264212\", \"2020-09-04T02:54:32.264212\", \"2020-09-04T03:56:01.264212\", \"2020-09-04T04:58:04.264212\", \"2020-09-04T05:58:29.264212\", \"2020-09-04T06:59:40.264212\", \"2020-09-04T08:00:09.264212\", \"2020-09-04T09:00:14.264212\", \"2020-09-04T10:01:24.264212\", \"2020-09-04T11:01:57.264212\", \"2020-09-04T12:02:10.264212\", \"2020-09-04T13:02:23.264212\", \"2020-09-04T14:03:57.264212\", \"2020-09-04T15:04:03.264212\", \"2020-09-04T16:04:11.264212\", \"2020-09-04T17:05:01.264212\", \"2020-09-04T18:06:01.264212\", \"2020-09-04T19:06:38.264212\", \"2020-09-04T20:07:31.264212\", \"2020-09-04T21:08:19.264212\", \"2020-09-04T22:09:41.264212\", \"2020-09-04T23:11:20.264212\", \"2020-09-05T00:12:43.264212\", \"2020-09-05T01:14:15.264212\", \"2020-09-05T02:14:28.264212\", \"2020-09-05T03:14:40.264212\", \"2020-09-05T04:15:50.264212\", \"2020-09-05T05:17:12.264212\", \"2020-09-05T06:17:45.264212\", \"2020-09-05T07:21:44.264212\", \"2020-09-05T08:22:32.264212\", \"2020-09-05T09:22:42.264212\", \"2020-09-05T10:23:42.264212\", \"2020-09-05T11:26:43.264212\", \"2020-09-05T12:27:50.264212\", \"2020-09-05T13:28:07.264212\", \"2020-09-05T14:29:52.264212\", \"2020-09-05T15:30:57.264212\", \"2020-09-05T16:33:19.264212\", \"2020-09-05T17:33:52.264212\", \"2020-09-05T18:34:28.264212\", \"2020-09-05T19:34:56.264212\", \"2020-09-05T20:35:10.264212\", \"2020-09-05T21:37:02.264212\", \"2020-09-05T22:38:30.264212\", \"2020-09-05T23:40:59.264212\", \"2020-09-06T00:43:59.264212\", \"2020-09-06T01:44:08.264212\", \"2020-09-06T02:46:48.264212\", \"2020-09-06T03:47:27.264212\", \"2020-09-06T04:49:06.264212\", \"2020-09-06T05:50:08.264212\", \"2020-09-06T06:50:28.264212\", \"2020-09-06T07:51:53.264212\", \"2020-09-06T08:51:56.264212\", \"2020-09-06T09:54:03.264212\", \"2020-09-06T10:54:09.264212\", \"2020-09-06T11:54:19.264212\", \"2020-09-06T12:54:57.264212\", \"2020-09-06T13:55:01.264212\", \"2020-09-06T14:57:49.264212\", \"2020-09-06T16:00:52.264212\", \"2020-09-06T17:01:28.264212\", \"2020-09-06T18:04:14.264212\", \"2020-09-06T19:04:33.264212\", \"2020-09-06T20:04:40.264212\", \"2020-09-06T21:04:50.264212\", \"2020-09-06T22:05:20.264212\", \"2020-09-06T23:05:31.264212\", \"2020-09-07T00:06:53.264212\", \"2020-09-07T01:08:14.264212\", \"2020-09-07T02:09:37.264212\", \"2020-09-07T03:09:46.264212\", \"2020-09-07T04:09:48.264212\", \"2020-09-07T05:10:15.264212\", \"2020-09-07T06:10:57.264212\", \"2020-09-07T07:11:22.264212\", \"2020-09-07T08:11:32.264212\", \"2020-09-07T09:12:29.264212\", \"2020-09-07T10:12:33.264212\", \"2020-09-07T11:13:44.264212\", \"2020-09-07T12:13:49.264212\", \"2020-09-07T13:13:50.264212\", \"2020-09-07T14:14:08.264212\", \"2020-09-07T15:14:11.264212\", \"2020-09-07T16:14:26.264212\", \"2020-09-07T17:20:05.264212\", \"2020-09-07T18:20:51.264212\", \"2020-09-07T19:21:36.264212\", \"2020-09-07T20:24:25.264212\", \"2020-09-07T21:25:14.264212\"], \"xaxis\": \"x\", \"y\": [0.0, 0.0050000000000000044, -0.0032724848909884436, 0.00025359623248504367, -0.003414053206159181, -5.999406132301276e-05, -0.0011877527646800244, 0.0005288291955190057, -0.00013073159110585863, 0.0011176553650575063, 0.000630485137796011, 0.0006798294849442472, 0.00028319968279489526, -0.0002912798888328399, -0.0007305737254590756, -0.0009136617545228499, -0.00034451343409034674, 0.00015039126768585812, 0.00024819314229964696, 0.0005841031991728443, 9.535653621496501e-05, 0.00044602250347433684, -0.0003470697235622918, 0.00024316097226613926, -0.0005106312090027072, -4.4920337351693344e-05, 8.4881644908292e-05, 0.00045962216765614935, 0.0003573437249327395, 5.155669363720818e-05, 7.940752850885271e-05, -0.0004425107022044992, -0.00048640678414527475, 2.519879761122667e-05, 0.00024720641022108933, -4.848975403080077e-05, 0.0002521372514599356, -1.4077749560891147e-05, 0.00014427527626862128, 0.0005239470716282381, 0.0005757633314214792, 0.0004888704056445572, 1.23214234259598e-06, 0.00010564556410728814, -6.561640463734062e-05, -0.0001343879045669606, -0.0003131149646033954, -0.0005006138163104129, -0.0004582854801912939, -0.0004265283605105789, -0.0001259326278980125, -6.027453632360795e-05, 0.00023760097208502709, 0.0004887406816513781, 0.00044732820196766057, 0.0005498344638504757, -0.00012368557568789222, -0.00022593461102640266, -0.00024821636596338644, -0.00044019808793243725, -0.0004677773863073105, -0.00021493414461982985, -0.00022366050952395215, 0.0002562170826128331, -0.0001818021426877979, 0.0005671909778023594, 8.03886685781942e-05, 0.0004922361231337912, 0.0001375644627434497, -0.000510239437144087, -0.00028464028159627534, -0.0002928651121960996, -7.394678360122636e-05, 0.000312290277875964, 0.00021164354376595828, 0.0005424172811588676, 0.00039949240364677973, 0.0005338713714149697, 0.0003436013018567212, 2.791392371070408e-05, -0.0003320100189897763, -0.00025262100356855986, -0.0004977340101860546, -6.524612597599627e-05, -0.0006131120154788284, -0.00044441389819423606, -0.0006862998551382862, 6.36890069887617e-05, 0.0002474361715579293, 0.00014127672569106905, -2.2840485731723064e-06, 5.28737607450615e-07, -0.00035508052641986573, -0.00034284323946107424, -6.248212392601912e-05, 3.072276202861193e-05, 0.0002856860354340706, 0.0005391664412422339, 0.0004900911997526834, 0.00030368663726733467], \"yaxis\": \"y\"}, {\"hovertemplate\": \"variable=error_star_derivative_scaled<br>timestamp=%{x}<br>value=%{y}<extra></extra>\", \"legendgroup\": \"error_star_derivative_scaled\", \"line\": {\"color\": \"#EF553B\", \"dash\": \"solid\"}, \"mode\": \"lines\", \"name\": \"error_star_derivative_scaled\", \"orientation\": \"v\", \"showlegend\": true, \"type\": \"scatter\", \"x\": [\"2020-09-03T16:51:05.264212\", \"2020-09-03T17:51:53.264212\", \"2020-09-03T18:51:55.264212\", \"2020-09-03T19:52:26.264212\", \"2020-09-03T20:53:21.264212\", \"2020-09-03T21:53:27.264212\", \"2020-09-03T22:53:51.264212\", \"2020-09-03T23:53:59.264212\", \"2020-09-04T00:54:00.264212\", \"2020-09-04T01:54:07.264212\", \"2020-09-04T02:54:32.264212\", \"2020-09-04T03:56:01.264212\", \"2020-09-04T04:58:04.264212\", \"2020-09-04T05:58:29.264212\", \"2020-09-04T06:59:40.264212\", \"2020-09-04T08:00:09.264212\", \"2020-09-04T09:00:14.264212\", \"2020-09-04T10:01:24.264212\", \"2020-09-04T11:01:57.264212\", \"2020-09-04T12:02:10.264212\", \"2020-09-04T13:02:23.264212\", \"2020-09-04T14:03:57.264212\", \"2020-09-04T15:04:03.264212\", \"2020-09-04T16:04:11.264212\", \"2020-09-04T17:05:01.264212\", \"2020-09-04T18:06:01.264212\", \"2020-09-04T19:06:38.264212\", \"2020-09-04T20:07:31.264212\", \"2020-09-04T21:08:19.264212\", \"2020-09-04T22:09:41.264212\", \"2020-09-04T23:11:20.264212\", \"2020-09-05T00:12:43.264212\", \"2020-09-05T01:14:15.264212\", \"2020-09-05T02:14:28.264212\", \"2020-09-05T03:14:40.264212\", \"2020-09-05T04:15:50.264212\", \"2020-09-05T05:17:12.264212\", \"2020-09-05T06:17:45.264212\", \"2020-09-05T07:21:44.264212\", \"2020-09-05T08:22:32.264212\", \"2020-09-05T09:22:42.264212\", \"2020-09-05T10:23:42.264212\", \"2020-09-05T11:26:43.264212\", \"2020-09-05T12:27:50.264212\", \"2020-09-05T13:28:07.264212\", \"2020-09-05T14:29:52.264212\", \"2020-09-05T15:30:57.264212\", \"2020-09-05T16:33:19.264212\", \"2020-09-05T17:33:52.264212\", \"2020-09-05T18:34:28.264212\", \"2020-09-05T19:34:56.264212\", \"2020-09-05T20:35:10.264212\", \"2020-09-05T21:37:02.264212\", \"2020-09-05T22:38:30.264212\", \"2020-09-05T23:40:59.264212\", \"2020-09-06T00:43:59.264212\", \"2020-09-06T01:44:08.264212\", \"2020-09-06T02:46:48.264212\", \"2020-09-06T03:47:27.264212\", \"2020-09-06T04:49:06.264212\", \"2020-09-06T05:50:08.264212\", \"2020-09-06T06:50:28.264212\", \"2020-09-06T07:51:53.264212\", \"2020-09-06T08:51:56.264212\", \"2020-09-06T09:54:03.264212\", \"2020-09-06T10:54:09.264212\", \"2020-09-06T11:54:19.264212\", \"2020-09-06T12:54:57.264212\", \"2020-09-06T13:55:01.264212\", \"2020-09-06T14:57:49.264212\", \"2020-09-06T16:00:52.264212\", \"2020-09-06T17:01:28.264212\", \"2020-09-06T18:04:14.264212\", \"2020-09-06T19:04:33.264212\", \"2020-09-06T20:04:40.264212\", \"2020-09-06T21:04:50.264212\", \"2020-09-06T22:05:20.264212\", \"2020-09-06T23:05:31.264212\", \"2020-09-07T00:06:53.264212\", \"2020-09-07T01:08:14.264212\", \"2020-09-07T02:09:37.264212\", \"2020-09-07T03:09:46.264212\", \"2020-09-07T04:09:48.264212\", \"2020-09-07T05:10:15.264212\", \"2020-09-07T06:10:57.264212\", \"2020-09-07T07:11:22.264212\", \"2020-09-07T08:11:32.264212\", \"2020-09-07T09:12:29.264212\", \"2020-09-07T10:12:33.264212\", \"2020-09-07T11:13:44.264212\", \"2020-09-07T12:13:49.264212\", \"2020-09-07T13:13:50.264212\", \"2020-09-07T14:14:08.264212\", \"2020-09-07T15:14:11.264212\", \"2020-09-07T16:14:26.264212\", \"2020-09-07T17:20:05.264212\", \"2020-09-07T18:20:51.264212\", \"2020-09-07T19:21:36.264212\", \"2020-09-07T20:24:25.264212\", \"2020-09-07T21:25:14.264212\"], \"xaxis\": \"x\", \"y\": [0.0, 0.004934210526315688, -0.008267891617867512, 0.003495976878133979, -0.0036124590914143146, 0.0033484783475900767, -0.0011202901026725323, 0.0017127757917727955, -0.0006593776261732895, 0.0012459642479034205, -0.000483810432590822, 4.815387631687193e-05, -0.00038352599724368, -0.0005705176435476852, -0.0004307975515812062, -0.00018162493927522966, 0.0005683589330254335, 0.0004854651025596379, 9.691350085583392e-05, 0.0003347014128820408, -0.00048698809483763237, 0.0003417426860133962, -0.0007917726060266026, 0.0005889219803165277, -0.0007434662609775598, 0.00045807626719764766, 0.00012848147817863618, 0.0003693035537617696, -0.00010093267374037922, -0.0002989769996372335, 2.7105435398142377e-05, -0.0005101562939366757, -4.2802246746323665e-05, 0.0005097647645510052, 0.00022127004579047035, -0.00029005618291753216, 0.00029393189021364487, -0.0002637968631090913, 0.00014849463219213793, 0.00037467611384159674, 5.167272444752454e-05, -8.546845158404967e-05, -0.0004642945643711137, 0.00010250567721648614, -0.00017045703275672328, -6.682251005322905e-05, -0.0001755572758884577, -0.00018038371623349883, 4.194385081991367e-05, 3.1442692753169514e-05, 0.00029827580964854414, 6.540374368224113e-05, 0.0002888878853100473, 0.0002451472219193321, -3.976658491913927e-05, 9.762501131692965e-05, -0.0006718404384423908, -9.789801255826944e-05, -2.20429562444854e-05, -0.00018684352503075055, -2.711236323047362e-05, 0.0002514463177002513, -8.525078332524173e-06, 0.000479478027114069, -0.00042309342932192115, 0.0007477468756972782, -0.000485453826373208, 0.00040754558449684116, -0.00035427801814800087, -0.000618920923459599, 0.00021468595293985728, -8.143396633582267e-06, 0.00020926871559774976, 0.00038420929022310417, -0.00010045141192033518, 0.000329857466652172, -0.00014174368017734387, 0.00013396961616313208, -0.00018603265899237373, -0.00030874071212340023, -0.0003518127053277068, 7.91910378264947e-05, -0.0002449769083351979, 0.0004292683714242915, -0.0005415478314691607, 0.00016753468199280554, -0.00024121591274211228, 0.0007382991259658996, 0.00018354322764947088, -0.00010410623947733951, -0.0001433616608465145, 2.8120050680558242e-06, -0.0003538400637088804, 1.2227097710682498e-05, 0.00027919779140405786, 8.518344489373119e-05, 0.00025174651241347944, 0.0002503510180820604, -4.687473318190378e-05, -0.00018390145928952589], \"yaxis\": \"y\"}],\n",
       "                        {\"legend\": {\"title\": {\"text\": \"variable\"}, \"tracegroupgap\": 0}, \"margin\": {\"t\": 60}, \"template\": {\"data\": {\"bar\": [{\"error_x\": {\"color\": \"#2a3f5f\"}, \"error_y\": {\"color\": \"#2a3f5f\"}, \"marker\": {\"line\": {\"color\": \"#E5ECF6\", \"width\": 0.5}}, \"type\": \"bar\"}], \"barpolar\": [{\"marker\": {\"line\": {\"color\": \"#E5ECF6\", \"width\": 0.5}}, \"type\": \"barpolar\"}], \"carpet\": [{\"aaxis\": {\"endlinecolor\": \"#2a3f5f\", \"gridcolor\": \"white\", \"linecolor\": \"white\", \"minorgridcolor\": \"white\", \"startlinecolor\": \"#2a3f5f\"}, \"baxis\": {\"endlinecolor\": \"#2a3f5f\", \"gridcolor\": \"white\", \"linecolor\": \"white\", \"minorgridcolor\": \"white\", \"startlinecolor\": \"#2a3f5f\"}, \"type\": \"carpet\"}], \"choropleth\": [{\"colorbar\": {\"outlinewidth\": 0, \"ticks\": \"\"}, \"type\": \"choropleth\"}], \"contour\": [{\"colorbar\": {\"outlinewidth\": 0, \"ticks\": \"\"}, \"colorscale\": [[0.0, \"#0d0887\"], [0.1111111111111111, \"#46039f\"], [0.2222222222222222, \"#7201a8\"], [0.3333333333333333, \"#9c179e\"], [0.4444444444444444, \"#bd3786\"], [0.5555555555555556, \"#d8576b\"], [0.6666666666666666, \"#ed7953\"], [0.7777777777777778, \"#fb9f3a\"], [0.8888888888888888, \"#fdca26\"], [1.0, \"#f0f921\"]], \"type\": \"contour\"}], \"contourcarpet\": [{\"colorbar\": {\"outlinewidth\": 0, \"ticks\": \"\"}, \"type\": \"contourcarpet\"}], \"heatmap\": [{\"colorbar\": {\"outlinewidth\": 0, \"ticks\": \"\"}, \"colorscale\": [[0.0, \"#0d0887\"], [0.1111111111111111, \"#46039f\"], [0.2222222222222222, \"#7201a8\"], [0.3333333333333333, \"#9c179e\"], [0.4444444444444444, \"#bd3786\"], [0.5555555555555556, \"#d8576b\"], [0.6666666666666666, \"#ed7953\"], [0.7777777777777778, \"#fb9f3a\"], [0.8888888888888888, \"#fdca26\"], [1.0, \"#f0f921\"]], \"type\": \"heatmap\"}], \"heatmapgl\": [{\"colorbar\": {\"outlinewidth\": 0, \"ticks\": \"\"}, \"colorscale\": [[0.0, \"#0d0887\"], [0.1111111111111111, \"#46039f\"], [0.2222222222222222, \"#7201a8\"], [0.3333333333333333, \"#9c179e\"], [0.4444444444444444, \"#bd3786\"], [0.5555555555555556, \"#d8576b\"], [0.6666666666666666, \"#ed7953\"], [0.7777777777777778, \"#fb9f3a\"], [0.8888888888888888, \"#fdca26\"], [1.0, \"#f0f921\"]], \"type\": \"heatmapgl\"}], \"histogram\": [{\"marker\": {\"colorbar\": {\"outlinewidth\": 0, \"ticks\": \"\"}}, \"type\": \"histogram\"}], \"histogram2d\": [{\"colorbar\": {\"outlinewidth\": 0, \"ticks\": \"\"}, \"colorscale\": [[0.0, \"#0d0887\"], [0.1111111111111111, \"#46039f\"], [0.2222222222222222, \"#7201a8\"], [0.3333333333333333, \"#9c179e\"], [0.4444444444444444, \"#bd3786\"], [0.5555555555555556, \"#d8576b\"], [0.6666666666666666, \"#ed7953\"], [0.7777777777777778, \"#fb9f3a\"], [0.8888888888888888, \"#fdca26\"], [1.0, \"#f0f921\"]], \"type\": \"histogram2d\"}], \"histogram2dcontour\": [{\"colorbar\": {\"outlinewidth\": 0, \"ticks\": \"\"}, \"colorscale\": [[0.0, \"#0d0887\"], [0.1111111111111111, \"#46039f\"], [0.2222222222222222, \"#7201a8\"], [0.3333333333333333, \"#9c179e\"], [0.4444444444444444, \"#bd3786\"], [0.5555555555555556, \"#d8576b\"], [0.6666666666666666, \"#ed7953\"], [0.7777777777777778, \"#fb9f3a\"], [0.8888888888888888, \"#fdca26\"], [1.0, \"#f0f921\"]], \"type\": \"histogram2dcontour\"}], \"mesh3d\": [{\"colorbar\": {\"outlinewidth\": 0, \"ticks\": \"\"}, \"type\": \"mesh3d\"}], \"parcoords\": [{\"line\": {\"colorbar\": {\"outlinewidth\": 0, \"ticks\": \"\"}}, \"type\": \"parcoords\"}], \"pie\": [{\"automargin\": true, \"type\": \"pie\"}], \"scatter\": [{\"marker\": {\"colorbar\": {\"outlinewidth\": 0, \"ticks\": \"\"}}, \"type\": \"scatter\"}], \"scatter3d\": [{\"line\": {\"colorbar\": {\"outlinewidth\": 0, \"ticks\": \"\"}}, \"marker\": {\"colorbar\": {\"outlinewidth\": 0, \"ticks\": \"\"}}, \"type\": \"scatter3d\"}], \"scattercarpet\": [{\"marker\": {\"colorbar\": {\"outlinewidth\": 0, \"ticks\": \"\"}}, \"type\": \"scattercarpet\"}], \"scattergeo\": [{\"marker\": {\"colorbar\": {\"outlinewidth\": 0, \"ticks\": \"\"}}, \"type\": \"scattergeo\"}], \"scattergl\": [{\"marker\": {\"colorbar\": {\"outlinewidth\": 0, \"ticks\": \"\"}}, \"type\": \"scattergl\"}], \"scattermapbox\": [{\"marker\": {\"colorbar\": {\"outlinewidth\": 0, \"ticks\": \"\"}}, \"type\": \"scattermapbox\"}], \"scatterpolar\": [{\"marker\": {\"colorbar\": {\"outlinewidth\": 0, \"ticks\": \"\"}}, \"type\": \"scatterpolar\"}], \"scatterpolargl\": [{\"marker\": {\"colorbar\": {\"outlinewidth\": 0, \"ticks\": \"\"}}, \"type\": \"scatterpolargl\"}], \"scatterternary\": [{\"marker\": {\"colorbar\": {\"outlinewidth\": 0, \"ticks\": \"\"}}, \"type\": \"scatterternary\"}], \"surface\": [{\"colorbar\": {\"outlinewidth\": 0, \"ticks\": \"\"}, \"colorscale\": [[0.0, \"#0d0887\"], [0.1111111111111111, \"#46039f\"], [0.2222222222222222, \"#7201a8\"], [0.3333333333333333, \"#9c179e\"], [0.4444444444444444, \"#bd3786\"], [0.5555555555555556, \"#d8576b\"], [0.6666666666666666, \"#ed7953\"], [0.7777777777777778, \"#fb9f3a\"], [0.8888888888888888, \"#fdca26\"], [1.0, \"#f0f921\"]], \"type\": \"surface\"}], \"table\": [{\"cells\": {\"fill\": {\"color\": \"#EBF0F8\"}, \"line\": {\"color\": \"white\"}}, \"header\": {\"fill\": {\"color\": \"#C8D4E3\"}, \"line\": {\"color\": \"white\"}}, \"type\": \"table\"}]}, \"layout\": {\"annotationdefaults\": {\"arrowcolor\": \"#2a3f5f\", \"arrowhead\": 0, \"arrowwidth\": 1}, \"coloraxis\": {\"colorbar\": {\"outlinewidth\": 0, \"ticks\": \"\"}}, \"colorscale\": {\"diverging\": [[0, \"#8e0152\"], [0.1, \"#c51b7d\"], [0.2, \"#de77ae\"], [0.3, \"#f1b6da\"], [0.4, \"#fde0ef\"], [0.5, \"#f7f7f7\"], [0.6, \"#e6f5d0\"], [0.7, \"#b8e186\"], [0.8, \"#7fbc41\"], [0.9, \"#4d9221\"], [1, \"#276419\"]], \"sequential\": [[0.0, \"#0d0887\"], [0.1111111111111111, \"#46039f\"], [0.2222222222222222, \"#7201a8\"], [0.3333333333333333, \"#9c179e\"], [0.4444444444444444, \"#bd3786\"], [0.5555555555555556, \"#d8576b\"], [0.6666666666666666, \"#ed7953\"], [0.7777777777777778, \"#fb9f3a\"], [0.8888888888888888, \"#fdca26\"], [1.0, \"#f0f921\"]], \"sequentialminus\": [[0.0, \"#0d0887\"], [0.1111111111111111, \"#46039f\"], [0.2222222222222222, \"#7201a8\"], [0.3333333333333333, \"#9c179e\"], [0.4444444444444444, \"#bd3786\"], [0.5555555555555556, \"#d8576b\"], [0.6666666666666666, \"#ed7953\"], [0.7777777777777778, \"#fb9f3a\"], [0.8888888888888888, \"#fdca26\"], [1.0, \"#f0f921\"]]}, \"colorway\": [\"#636efa\", \"#EF553B\", \"#00cc96\", \"#ab63fa\", \"#FFA15A\", \"#19d3f3\", \"#FF6692\", \"#B6E880\", \"#FF97FF\", \"#FECB52\"], \"font\": {\"color\": \"#2a3f5f\"}, \"geo\": {\"bgcolor\": \"white\", \"lakecolor\": \"white\", \"landcolor\": \"#E5ECF6\", \"showlakes\": true, \"showland\": true, \"subunitcolor\": \"white\"}, \"hoverlabel\": {\"align\": \"left\"}, \"hovermode\": \"closest\", \"mapbox\": {\"style\": \"light\"}, \"paper_bgcolor\": \"white\", \"plot_bgcolor\": \"#E5ECF6\", \"polar\": {\"angularaxis\": {\"gridcolor\": \"white\", \"linecolor\": \"white\", \"ticks\": \"\"}, \"bgcolor\": \"#E5ECF6\", \"radialaxis\": {\"gridcolor\": \"white\", \"linecolor\": \"white\", \"ticks\": \"\"}}, \"scene\": {\"xaxis\": {\"backgroundcolor\": \"#E5ECF6\", \"gridcolor\": \"white\", \"gridwidth\": 2, \"linecolor\": \"white\", \"showbackground\": true, \"ticks\": \"\", \"zerolinecolor\": \"white\"}, \"yaxis\": {\"backgroundcolor\": \"#E5ECF6\", \"gridcolor\": \"white\", \"gridwidth\": 2, \"linecolor\": \"white\", \"showbackground\": true, \"ticks\": \"\", \"zerolinecolor\": \"white\"}, \"zaxis\": {\"backgroundcolor\": \"#E5ECF6\", \"gridcolor\": \"white\", \"gridwidth\": 2, \"linecolor\": \"white\", \"showbackground\": true, \"ticks\": \"\", \"zerolinecolor\": \"white\"}}, \"shapedefaults\": {\"line\": {\"color\": \"#2a3f5f\"}}, \"ternary\": {\"aaxis\": {\"gridcolor\": \"white\", \"linecolor\": \"white\", \"ticks\": \"\"}, \"baxis\": {\"gridcolor\": \"white\", \"linecolor\": \"white\", \"ticks\": \"\"}, \"bgcolor\": \"#E5ECF6\", \"caxis\": {\"gridcolor\": \"white\", \"linecolor\": \"white\", \"ticks\": \"\"}}, \"title\": {\"x\": 0.05}, \"xaxis\": {\"automargin\": true, \"gridcolor\": \"white\", \"linecolor\": \"white\", \"ticks\": \"\", \"title\": {\"standoff\": 15}, \"zerolinecolor\": \"white\", \"zerolinewidth\": 2}, \"yaxis\": {\"automargin\": true, \"gridcolor\": \"white\", \"linecolor\": \"white\", \"ticks\": \"\", \"title\": {\"standoff\": 15}, \"zerolinecolor\": \"white\", \"zerolinewidth\": 2}}}, \"xaxis\": {\"anchor\": \"y\", \"domain\": [0.0, 1.0], \"title\": {\"text\": \"timestamp\"}}, \"yaxis\": {\"anchor\": \"x\", \"domain\": [0.0, 1.0], \"title\": {\"text\": \"value\"}}},\n",
       "                        {\"responsive\": true}\n",
       "                    ).then(function(){\n",
       "                            \n",
       "var gd = document.getElementById('99fcc0f2-00e4-42e8-b23a-70f3eded93e3');\n",
       "var x = new MutationObserver(function (mutations, observer) {{\n",
       "        var display = window.getComputedStyle(gd).display;\n",
       "        if (!display || display === 'none') {{\n",
       "            console.log([gd, 'removed!']);\n",
       "            Plotly.purge(gd);\n",
       "            observer.disconnect();\n",
       "        }}\n",
       "}});\n",
       "\n",
       "// Listen for the removal of the full notebook cells\n",
       "var notebookContainer = gd.closest('#notebook-container');\n",
       "if (notebookContainer) {{\n",
       "    x.observe(notebookContainer, {childList: true});\n",
       "}}\n",
       "\n",
       "// Listen for the clearing of the current output cell\n",
       "var outputEl = gd.closest('.output');\n",
       "if (outputEl) {{\n",
       "    x.observe(outputEl, {childList: true});\n",
       "}}\n",
       "\n",
       "                        })\n",
       "                };\n",
       "                });\n",
       "            </script>\n",
       "        </div>"
      ]
     },
     "metadata": {},
     "output_type": "display_data"
    }
   ],
   "source": [
    "df.plot(kind='line', x='timestamp', y=['error_star','error_star_derivative_scaled'])"
   ]
  },
  {
   "cell_type": "code",
   "execution_count": null,
   "metadata": {},
   "outputs": [],
   "source": []
  }
 ],
 "metadata": {
  "kernelspec": {
   "display_name": "Python (Reflexer)",
   "language": "python",
   "name": "python-reflexer"
  },
  "language_info": {
   "codemirror_mode": {
    "name": "ipython",
    "version": 3
   },
   "file_extension": ".py",
   "mimetype": "text/x-python",
   "name": "python",
   "nbconvert_exporter": "python",
   "pygments_lexer": "ipython3",
   "version": "3.8.5"
  }
 },
 "nbformat": 4,
 "nbformat_minor": 4
}
