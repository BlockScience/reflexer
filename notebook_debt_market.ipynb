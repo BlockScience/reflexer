{
 "cells": [
  {
   "cell_type": "markdown",
   "metadata": {},
   "source": [
    "# Debt Market Model"
   ]
  },
  {
   "cell_type": "markdown",
   "metadata": {},
   "source": [
    "$$\n",
    "\\Delta{t} = t_{k+1} - t_{k}\\\\\n",
    "{Q}_{k+1} = {Q}_k + v_1 - v_2 - v_3\\\\\n",
    "{D_1}_{k+1} = {D_1}_k + u_1 - u_2 - u_3\\\\\n",
    "w_3 = u_3 \\cdot \\frac{w_2}{u_2}\\\\\n",
    "w_1 = [(1+\\beta_k)^{\\Delta{t}}-1]({D_1}_k+{D_2}_k)\\\\\n",
    "{D_2}_{k+1} = {D_2}_k + w_1 - w_2 - w_3\\\\\n",
    "{R}_{k+1} = {R}_k + w_2\\\\\n",
    "$$"
   ]
  },
  {
   "cell_type": "markdown",
   "metadata": {},
   "source": [
    "## First phase\n",
    "* Debt market state -> ETH price changes (exogenous) -> exogenous u,v -> endogenous w -> mutates system state\n",
    "\n",
    "## Second phase\n",
    "* APT model, arbitragers act -> u,v activity (to remove diversifiable risk) -> results in change to both debt market and secondary market -> stability controller updates redemption rate and price"
   ]
  },
  {
   "cell_type": "code",
   "execution_count": null,
   "metadata": {},
   "outputs": [],
   "source": [
    "from shared import *"
   ]
  },
  {
   "cell_type": "code",
   "execution_count": null,
   "metadata": {},
   "outputs": [],
   "source": [
    "# cadCAD configuration modules\n",
    "from cadCAD.configuration.utils import config_sim\n",
    "from cadCAD.configuration import Experiment\n",
    "\n",
    "# cadCAD simulation engine modules\n",
    "from cadCAD.engine import ExecutionMode, ExecutionContext\n",
    "from cadCAD.engine import Executor"
   ]
  },
  {
   "cell_type": "code",
   "execution_count": null,
   "metadata": {},
   "outputs": [],
   "source": [
    "import radCAD as rc\n",
    "from radCAD import Model, Simulation"
   ]
  },
  {
   "cell_type": "code",
   "execution_count": null,
   "metadata": {},
   "outputs": [],
   "source": [
    "import scipy.stats as sts\n",
    "import numpy as np\n",
    "import datetime as dt"
   ]
  },
  {
   "cell_type": "code",
   "execution_count": null,
   "metadata": {},
   "outputs": [],
   "source": [
    "def resolve_time_passed(params, substep, state_history, state):\n",
    "    seconds = 3600\n",
    "    \n",
    "    return {'seconds_passed': seconds}\n",
    "\n",
    "def store_timedelta(params, substep, state_history, state, policy_input):\n",
    "\n",
    "    value = policy_input['seconds_passed']\n",
    "    key = 'timedelta'\n",
    "\n",
    "    return key,value\n",
    "\n",
    "def update_timestamp(params, substep, state_history, state, policy_input):\n",
    "\n",
    "    seconds = policy_input['seconds_passed']\n",
    "    value = state['timestamp'] + dt.timedelta(seconds = int(seconds))\n",
    "    key = 'timestamp'\n",
    "\n",
    "    return key,value\n",
    "\n",
    "def update_cumulative_time(params, substep, state_history, state, policy_input):\n",
    "    seconds = policy_input['seconds_passed']\n",
    "    \n",
    "    return 'cumulative_time', state['cumulative_time'] + seconds"
   ]
  },
  {
   "cell_type": "code",
   "execution_count": null,
   "metadata": {},
   "outputs": [],
   "source": [
    "def process_raw_results(raw_results):\n",
    "    df = pd.DataFrame(raw_results)\n",
    "    max_substep = max(df.substep)\n",
    "    is_droppable = (df.substep != max_substep)\n",
    "    is_droppable &= (df.substep != 0)\n",
    "    df = df.loc[~is_droppable]\n",
    "    return df"
   ]
  },
  {
   "cell_type": "code",
   "execution_count": null,
   "metadata": {},
   "outputs": [],
   "source": [
    "def p_resolve_eth_price(params, substep, state_history, state):\n",
    "    base_var = params['eth_market_std']\n",
    "    variance = float(base_var * state['timedelta'] / 3600.0)\n",
    "    delta_eth_price = sts.norm.rvs(loc=0, scale=variance)\n",
    "    \n",
    "    return {'delta_eth_price': delta_eth_price}\n",
    "\n",
    "def s_update_eth_price(params, substep, state_history, state, policy_input):\n",
    "    eth_price = state['eth_price']\n",
    "    delta_eth_price = policy_input['delta_eth_price']\n",
    "    \n",
    "    return 'eth_price', eth_price + delta_eth_price\n",
    "\n",
    "def s_update_redemption_price(params, substep, state_history, state, policy_input):\n",
    "    eth_collateral = state['eth_collateral']\n",
    "    eth_price = state['eth_price']\n",
    "    collateral_value = eth_collateral * eth_price\n",
    "    \n",
    "    principal_debt = state['principal_debt']\n",
    "    redemption_price = collateral_value / principal_debt\n",
    "    \n",
    "    return 'redemption_price', redemption_price"
   ]
  },
  {
   "cell_type": "code",
   "execution_count": null,
   "metadata": {},
   "outputs": [],
   "source": [
    "def p_open_cdps(params, substep, state_history, state):\n",
    "    base_var = 2.0\n",
    "    variance = float(base_var * state['timedelta'] / 3600.0)\n",
    "    random_state = params['random_state']\n",
    "    rvs = sts.norm.rvs(loc=0, scale=variance, random_state=random_state)\n",
    "    v1 = max(rvs, 0) # total Eth value of new CDP\n",
    "    \n",
    "    # cdps = state['cdps']\n",
    "\n",
    "    collateralization_ratio = params['collateralization_ratio']\n",
    "    collateral_value = v1 * state['eth_price']\n",
    "    redemption_price = state['redemption_price']\n",
    "    u1 = (collateral_value / redemption_price) / collateralization_ratio\n",
    "    \n",
    "    cumulative_time = state['cumulative_time']\n",
    "    # Hourly activity\n",
    "    if cumulative_time % 3600 == 0:\n",
    "        return {'delta_v1': v1, 'delta_u1': u1}\n",
    "    else:\n",
    "        return {'delta_v1': 0, 'delta_u1': 0}\n",
    "\n",
    "def s_update_eth_collateral(params, substep, state_history, state, policy_input):\n",
    "    eth_locked = state['eth_locked']\n",
    "    eth_freed = state['eth_freed']\n",
    "    eth_bitten = state['eth_bitten']\n",
    "    \n",
    "    return 'eth_collateral', eth_locked - eth_freed - eth_bitten\n",
    "\n",
    "def s_update_principal_debt(params, substep, state_history, state, policy_input):\n",
    "    rai_drawn = state['rai_drawn']\n",
    "    rai_wiped = state['rai_wiped']\n",
    "    rai_bitten = state['rai_bitten']\n",
    "    \n",
    "    return 'principal_debt', rai_drawn - rai_wiped - rai_bitten\n",
    "\n",
    "def s_update_eth_locked(params, substep, state_history, state, policy_input):\n",
    "    eth_locked = state['eth_locked']\n",
    "    delta_v1 = policy_input['delta_v1']\n",
    "    \n",
    "    return 'eth_locked', eth_locked + delta_v1\n",
    "\n",
    "def s_update_rai_drawn(params, substep, state_history, state, policy_input):\n",
    "    rai_drawn = state['rai_drawn']\n",
    "    delta_u1 = policy_input['delta_u1']\n",
    "    \n",
    "    return 'rai_drawn', rai_drawn + delta_u1\n",
    "    \n",
    "def s_update_accrued_interest(params, substep, state_history, state, policy_input):\n",
    "    previous_accrued_interest = state['accrued_interest']\n",
    "    principal_debt = state['principal_debt']\n",
    "    \n",
    "    stability_fee = state['stability_fee']\n",
    "    timedelta = state['timedelta']\n",
    "    \n",
    "    accrued_interest = ((1 + stability_fee)**timedelta - 1) * (principal_debt + previous_accrued_interest)\n",
    "    return 'accrued_interest', previous_accrued_interest + accrued_interest"
   ]
  },
  {
   "cell_type": "code",
   "execution_count": null,
   "metadata": {},
   "outputs": [],
   "source": [
    "eth_collateral = 100.0\n",
    "eth_price = 386.71\n",
    "\n",
    "collateralization_ratio = 1.5 # 150%\n",
    "collateral_value = eth_collateral * eth_price\n",
    "redemption_price = 2.0\n",
    "principal_debt = (collateral_value / redemption_price) / collateralization_ratio\n",
    "\n",
    "print(f'''\n",
    "{principal_debt}\n",
    "{eth_collateral}\n",
    "''')"
   ]
  },
  {
   "cell_type": "code",
   "execution_count": null,
   "metadata": {},
   "outputs": [],
   "source": [
    "SIMULATION_TIMESTEPS = 365 * 24\n",
    "MONTE_CARLO_RUNS = 1"
   ]
  },
  {
   "cell_type": "code",
   "execution_count": null,
   "metadata": {},
   "outputs": [],
   "source": [
    "initial_state = {\n",
    "    'timedelta': 0, # seconds\n",
    "    'cumulative_time': 0, # seconds\n",
    "    'timestamp': dt.datetime.strptime('12/18/18', '%m/%d/%y'), #datetime\n",
    "    #'cdps': cdps,\n",
    "    'eth_price': eth_price, # dollars\n",
    "    # v\n",
    "    'eth_collateral': eth_collateral, # Q\n",
    "    'eth_locked': eth_collateral, # v1\n",
    "    'eth_freed': 0, # v2\n",
    "    'eth_bitten': 0, # v3 \"liquidated\"\n",
    "    # u\n",
    "    'principal_debt': principal_debt, # D1\n",
    "    'rai_drawn': principal_debt, # u1 \"minted\"\n",
    "    'rai_wiped': 0, # u2 \"burned\" in repayment\n",
    "    'rai_bitten': 0, # \"burned\" in liquidation\n",
    "    # w\n",
    "    'accrued_interest': 0, # D2\n",
    "    'system_revenue': 0, # R\n",
    "    # Average CDP duration == 3 months: https://www.placeholder.vc/blog/2019/3/1/maker-network-report\n",
    "    'average_debt_age': 3 * (30 * 24 * 3600), # delta t (seconds)\n",
    "    'stability_fee': 0.15 / (30 * 24 * 3600), # per second interest rate (15% per month)\n",
    "    'interest_wiped': 0, # w2, interest repaid - in practice acrues to MKR holders, because interest is actually acrued by burning MKR\n",
    "    'interest_bitten': 0, # w3\n",
    "    'redemption_price': redemption_price, # dollars\n",
    "}\n",
    "\n",
    "parameters = {\n",
    "    'eth_market_std': [1],\n",
    "    'collateralization_ratio': [collateralization_ratio], # %\n",
    "    'random_state': [np.random.RandomState(seed=i) for i in range(MONTE_CARLO_RUNS)]\n",
    "}\n",
    "\n",
    "partial_state_update_blocks = [\n",
    "    {\n",
    "        'details': '''\n",
    "            This block observes (or samples from data) the amount of time passed between events\n",
    "        ''',\n",
    "        'policies': {\n",
    "            'time_process': resolve_time_passed\n",
    "        },\n",
    "        'variables': {\n",
    "            'timedelta': store_timedelta,\n",
    "            'timestamp': update_timestamp,\n",
    "            'cumulative_time': update_cumulative_time\n",
    "        }\n",
    "    },\n",
    "    {\n",
    "        'details': '''\n",
    "            Update debt market state\n",
    "        ''',\n",
    "        'policies': {},\n",
    "        'variables': {\n",
    "            'eth_collateral': s_update_eth_collateral,\n",
    "            'principal_debt': s_update_principal_debt,\n",
    "            'accrued_interest': s_update_accrued_interest\n",
    "        }\n",
    "    },\n",
    "    {\n",
    "        'policies': {},\n",
    "        'variables': {\n",
    "            'redemption_price': s_update_redemption_price\n",
    "        }\n",
    "    },\n",
    "    {\n",
    "        'details': '''\n",
    "            Exogenous ETH price process\n",
    "        ''',\n",
    "        'policies': {\n",
    "            'exogenous_eth_process': p_resolve_eth_price,\n",
    "        },\n",
    "        'variables': {\n",
    "            'eth_price': s_update_eth_price\n",
    "        }\n",
    "    },\n",
    "    {\n",
    "        'details': '''\n",
    "            Exogenous u,v activity\n",
    "        ''',\n",
    "        'policies': {\n",
    "            'open_cdps': p_open_cdps\n",
    "        },\n",
    "        'variables': {\n",
    "            'eth_locked': s_update_eth_locked,\n",
    "            'rai_drawn': s_update_rai_drawn\n",
    "        }\n",
    "    },\n",
    "    {\n",
    "        'details': '''\n",
    "            Endogenous w activity\n",
    "        ''',\n",
    "        'policies': {},\n",
    "        'variables': {\n",
    "        }\n",
    "    }\n",
    "]"
   ]
  },
  {
   "cell_type": "code",
   "execution_count": null,
   "metadata": {},
   "outputs": [],
   "source": [
    "# model = Model(initial_state=initial_state, psubs=partial_state_update_blocks, params=parameters)\n",
    "# simulation = Simulation(model=model, timesteps=SIMULATION_TIMESTEPS, runs=MONTE_CARLO_RUNS)\n",
    "\n",
    "# import time\n",
    "# start = time.time()\n",
    "# raw_result = rc.run([simulation])\n",
    "# end = time.time()\n",
    "# print(end - start)\n",
    "\n",
    "# data = process_raw_results(raw_result)"
   ]
  },
  {
   "cell_type": "code",
   "execution_count": null,
   "metadata": {},
   "outputs": [],
   "source": [
    "from cadCAD import configs\n",
    "del configs[:]\n",
    "\n",
    "experiment = Experiment()\n",
    "\n",
    "sim_config = config_sim({\n",
    "    'N': MONTE_CARLO_RUNS,\n",
    "    'T': range(SIMULATION_TIMESTEPS),\n",
    "    'M': parameters\n",
    "})\n",
    "\n",
    "experiment.append_configs(\n",
    "    initial_state = initial_state,\n",
    "    partial_state_update_blocks = partial_state_update_blocks,\n",
    "    sim_configs = sim_config\n",
    ")\n",
    "\n",
    "exec_context = ExecutionContext()\n",
    "\n",
    "simulation = Executor(exec_context=exec_context, configs=configs)\n",
    "raw_result, tensor_field, sessions = simulation.execute()"
   ]
  },
  {
   "cell_type": "code",
   "execution_count": null,
   "metadata": {},
   "outputs": [],
   "source": [
    "simulation_result = pd.DataFrame(raw_result)"
   ]
  },
  {
   "cell_type": "code",
   "execution_count": null,
   "metadata": {},
   "outputs": [],
   "source": [
    "simulation_result.plot(x='timestamp', y=['eth_price'])"
   ]
  },
  {
   "cell_type": "code",
   "execution_count": null,
   "metadata": {},
   "outputs": [],
   "source": [
    "simulation_result.plot(x='timestamp', y=['redemption_price'])"
   ]
  },
  {
   "cell_type": "code",
   "execution_count": null,
   "metadata": {},
   "outputs": [],
   "source": [
    "simulation_result.plot(x='timestamp', y=['eth_collateral'])"
   ]
  },
  {
   "cell_type": "code",
   "execution_count": null,
   "metadata": {},
   "outputs": [],
   "source": [
    "simulation_result.plot(x='timestamp', y=['eth_locked', 'eth_freed', 'eth_bitten'])"
   ]
  },
  {
   "cell_type": "code",
   "execution_count": null,
   "metadata": {},
   "outputs": [],
   "source": [
    "simulation_result.plot(x='timestamp', y=['principal_debt'])"
   ]
  },
  {
   "cell_type": "code",
   "execution_count": null,
   "metadata": {},
   "outputs": [],
   "source": [
    "simulation_result.plot(x='timestamp', y=['rai_drawn', 'rai_wiped', 'rai_bitten'])"
   ]
  },
  {
   "cell_type": "code",
   "execution_count": null,
   "metadata": {},
   "outputs": [],
   "source": [
    "simulation_result.plot(x='timestamp', y=['accrued_interest'])"
   ]
  },
  {
   "cell_type": "code",
   "execution_count": null,
   "metadata": {},
   "outputs": [],
   "source": [
    "simulation_result['collateralization_ratio'] = (simulation_result.eth_collateral * simulation_result.eth_price) / (simulation_result.principal_debt * simulation_result.redemption_price)\n",
    "simulation_result.plot(x='timestamp', y=['collateralization_ratio'])"
   ]
  },
  {
   "cell_type": "markdown",
   "metadata": {},
   "source": [
    "<center><img src=\"diagrams/debt_dynamics.png\" alt=\"Debt dynamics\" width=\"60%\"/>"
   ]
  },
  {
   "cell_type": "code",
   "execution_count": null,
   "metadata": {},
   "outputs": [],
   "source": [
    "import xarray as xr\n",
    "\n",
    "xcdp = xr.Dataset(\n",
    "        data_vars={'locked': (['id', 'timestep'], [(0.0, 0.0, 0.0, 0), (0.0, 0.0, 0.0, 0)]),\n",
    "#                    'drawn': (['id'], [0, 1]),\n",
    "#                    'wiped': (['id'], [0, 1])\n",
    "                  },\n",
    "        coords={'id': [10, 20],\n",
    "                'timestep': [0, 1]\n",
    "               })\n",
    "\n",
    "# da = xr.DataArray([[0.0, 0.0, 0.0, 0]], dims=('id', 'timestep', 'locked', 'drawn', 'wiped', 'age'))\n",
    "\n",
    "# da\n",
    "\n",
    "xcdp['locked']"
   ]
  },
  {
   "cell_type": "code",
   "execution_count": null,
   "metadata": {},
   "outputs": [],
   "source": [
    "import numpy as np\n",
    "\n",
    "# CDP: (locked, drawn, wiped, age)\n",
    "\n",
    "total_cdps = 10_000\n",
    "cdps = np.empty(total_cdps, dtype=object)\n",
    "cdps[:] = [(0.0, 0.0, 0.0, 0) for i in range(total_cdps)]\n",
    "\n",
    "print(cdps.shape)\n",
    "\n",
    "cdps[0] = (eth_collateral, principal_debt, 0.0, 0)\n",
    "cdps"
   ]
  },
  {
   "cell_type": "code",
   "execution_count": null,
   "metadata": {},
   "outputs": [],
   "source": [
    "x = np.array(None); x[()] = (0.0, 0.0, 0.0, 0)\n",
    "\n",
    "cdps[np.where(cdps == x)[0]] = (1, 2, 3, 4)\n",
    "cdps"
   ]
  }
 ],
 "metadata": {
  "kernelspec": {
   "display_name": "Python (Reflexer)",
   "language": "python",
   "name": "python-reflexer"
  },
  "language_info": {
   "codemirror_mode": {
    "name": "ipython",
    "version": 3
   },
   "file_extension": ".py",
   "mimetype": "text/x-python",
   "name": "python",
   "nbconvert_exporter": "python",
   "pygments_lexer": "ipython3",
   "version": "3.8.6"
  }
 },
 "nbformat": 4,
 "nbformat_minor": 4
}
