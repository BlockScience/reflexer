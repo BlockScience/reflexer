{
 "cells": [
  {
   "cell_type": "markdown",
   "metadata": {},
   "source": [
    "# Debt Market Model"
   ]
  },
  {
   "cell_type": "markdown",
   "metadata": {},
   "source": [
    "$$\n",
    "\\Delta{t} = t_{k+1} - t_{k}\\\\\n",
    "{Q}_{k+1} = {Q}_k + v_1 - v_2 - v_3\\\\\n",
    "{D_1}_{k+1} = {D_1}_k + u_1 - u_2 - u_3\\\\\n",
    "w_3 = u_3 \\cdot \\frac{w_2}{u_2}\\\\\n",
    "w_1 = [(1+\\beta_k)^{\\Delta{t}}-1]({D_1}_k+{D_2}_k)\\\\\n",
    "{D_2}_{k+1} = {D_2}_k + w_1 - w_2 - w_3\\\\\n",
    "{R}_{k+1} = {R}_k + w_2\\\\\n",
    "$$"
   ]
  },
  {
   "cell_type": "markdown",
   "metadata": {},
   "source": [
    "<center>\n",
    "<img src=\"./diagrams/debt_dynamics.png\"\n",
    "     alt=\"Debt dynamics\"\n",
    "     style=\"width: 60%\" />\n",
    "</center>\n",
    "\n",
    "<center>\n",
    "<img src=\"./diagrams/apt_model.png\"\n",
    "     alt=\"APT model\"\n",
    "     style=\"width: 60%\" />\n",
    "</center>"
   ]
  },
  {
   "cell_type": "markdown",
   "metadata": {},
   "source": [
    "## First phase\n",
    "* Debt market state -> ETH price changes (exogenous) -> exogenous u,v -> endogenous w -> mutates system state\n",
    "\n",
    "## Second phase\n",
    "* APT model, arbitragers act -> u,v activity (to remove diversifiable risk) -> results in change to both debt market and secondary market -> stability controller updates redemption rate and price"
   ]
  },
  {
   "cell_type": "markdown",
   "metadata": {},
   "source": [
    "## Current Model\n",
    "\n",
    "1. Historically driven ETH price, locks, and draws (eventually to be driven by APT model)\n",
    "2. Endogenous liquidation and closing of CDPs\n",
    "3. Debt market state"
   ]
  },
  {
   "cell_type": "markdown",
   "metadata": {},
   "source": [
    "# Notes"
   ]
  },
  {
   "cell_type": "markdown",
   "metadata": {},
   "source": [
    "## Resources\n",
    "* https://github.com/BlockScience/reflexer/blob/next-steps/next_steps.MD\n",
    "* https://community-development.makerdao.com/en/learn/vaults/liquidation/"
   ]
  },
  {
   "cell_type": "markdown",
   "metadata": {},
   "source": [
    "* Close CDPs along debt age distribution around 3 months\n",
    "* How many CDPs are opened daily?\n",
    "* How are CDPs closed?\n",
    "* Assumption: opened vs. topped up CDP e.g. ETH price drops, v1 + u1 increase\n",
    "  * Rate of change of ETH price, make better assumption about new CDP vs top up\n",
    "  * Break down daily v1/u1 data into multiple CDPs/top ups based on assumption\n",
    "  * Extreme events -> indicates top up of existing CDP (one that's fallen below certain liquidation ratio)\n",
    "  \n",
    "* Large to small CDP liquidation: 50/50 - 2000/1000 at start of 2019\n",
    "* 1000 to 2000 active CDPs\n",
    "* 300% average collat ratio\n",
    "\n",
    "See [Maker network report](https://www.placeholder.vc/blog/2019/3/1/maker-network-report)\n",
    "\n",
    "> Towards the end of 2018,collateralization   spiked   to   nearly   400%, perhaps  due  to  heightened  risk-aversion  on the  part  of  CDP  holders,but  has  recently declined  back  to  ~270%,  slightly  under  the system’s average of ~300%.\n",
    "\n",
    "> As  shown  in  Figure  2A, the average non-empty  CDP  declined  from  above $60Kdaiin  debtat  the  start  of  2018  to  just  over $30Kat  the  start  of  2019.Meanwhile,  the medianCDPby debtgrew from under $500in  debtat  the  start  of  the  year,  reaching around $4Kin   August,before   declining sharply to around$500by early February.\n",
    "\n",
    "> The  significant delta between  mean and  mediandebts highlights thepower  law distribution acrossCDPs. While small CDPs dominate  by number—with  over  80%  of CDPsdrawingless  than $10K  of  dai—they representjust  over 3%  oftotal debt  in  the system.  On  the  other  end  of  the  spectrum, about 90CDPs (less  than  4%by  number) individually have  more  than $100Kin  dai outstanding,  representing nearly  84%  of  all debt  in  the  system.\n",
    "\n",
    "> Such concentrationin     debtcan     be problematicfor dai supply.For example, four of the six periodsof dai contractiondiscussed in the previous section were associated with CDPs that  had  over$500K  in  debtbeing liquidated. For  example,  CDP  614 hadover 4.3  million in  debt at  liquidation  on  March 18th, accountingfor much of the contraction in outstanding     dai at     the     time. More dramatically,  the  liquidation  of CDPs  3228 and   3164,on   November   20thand   25threspectively,amounted  to  a  contraction  of over $10.7M in dai, making these two CDPs the primary culprits of thelargest contraction in   daisupplyof2018(i.e.   mid-to-late November as showninFigure 1B)."
   ]
  },
  {
   "cell_type": "markdown",
   "metadata": {},
   "source": [
    "# Imports"
   ]
  },
  {
   "cell_type": "code",
   "execution_count": null,
   "metadata": {},
   "outputs": [],
   "source": [
    "#%pip install git+https://github.com/danlessa/cadCAD@no_deepcopy"
   ]
  },
  {
   "cell_type": "code",
   "execution_count": null,
   "metadata": {},
   "outputs": [],
   "source": [
    "#%pip show cadCAD"
   ]
  },
  {
   "cell_type": "code",
   "execution_count": null,
   "metadata": {},
   "outputs": [],
   "source": [
    "from shared import *"
   ]
  },
  {
   "cell_type": "code",
   "execution_count": null,
   "metadata": {},
   "outputs": [],
   "source": [
    "import numpy as np\n",
    "import datetime as dt\n",
    "import pandas as pd"
   ]
  },
  {
   "cell_type": "markdown",
   "metadata": {},
   "source": [
    "# Historic MakerDAO Dai debt market activity"
   ]
  },
  {
   "cell_type": "code",
   "execution_count": null,
   "metadata": {},
   "outputs": [],
   "source": [
    "debt_market_df = pd.read_csv('market_model/data/debt_market_df.csv', index_col='date', parse_dates=True)\n",
    "debt_market_df"
   ]
  },
  {
   "cell_type": "code",
   "execution_count": null,
   "metadata": {},
   "outputs": [],
   "source": [
    "debt_market_df.insert(0, 'seconds_passed', 24 * 3600)\n",
    "debt_market_df['cumulative_v_1'] = debt_market_df['v_1'].cumsum()"
   ]
  },
  {
   "cell_type": "code",
   "execution_count": null,
   "metadata": {},
   "outputs": [],
   "source": [
    "debt_market_df.plot()"
   ]
  },
  {
   "cell_type": "markdown",
   "metadata": {},
   "source": [
    "# APT Model Setup"
   ]
  },
  {
   "cell_type": "code",
   "execution_count": null,
   "metadata": {},
   "outputs": [],
   "source": [
    "features = ['beta', 'Q', 'v_1', 'v_2 + v_3', \n",
    "                    'D_1', 'u_1', 'u_2', 'u_3', 'u_2 + u_3', \n",
    "                    'D_2', 'w_1', 'w_2', 'w_3', 'w_2 + w_3',\n",
    "                    'D']\n",
    "\n",
    "features_ml = ['beta', 'Q', 'v_1', 'v_2 + v_3', 'u_1', 'u_2', 'u_3', 'w_1', 'w_2', 'w_3', 'D']\n",
    "\n",
    "optvars = ['u_1', 'u_2', 'v_1', 'v_2 + v_3']\n",
    "\n",
    "historical_initial_state = {k: debt_market_df.iloc[0][k] for k in features}\n",
    "historical_initial_state"
   ]
  },
  {
   "cell_type": "code",
   "execution_count": null,
   "metadata": {},
   "outputs": [],
   "source": [
    "# APT model initial feature vector\n",
    "\n",
    "# [[1.00000000e+00 5.00000000e-03 2.42566200e+03 2.52666200e+03\n",
    "#   1.01000000e+02 5.95296083e+05 5.95342027e+05 1.00000000e+01\n",
    "#   3.59438400e+01 4.59438400e+01 0.00000000e+00 0.00000000e+00\n",
    "#   6.27647566e-06 2.25600637e-05 2.88365393e-05 5.95296083e+05]]\n",
    "\n",
    "# 1 1.01760484160946 1 3.86810578185312e-06 365.8127290676168 736.004090277778 0.6756295152422528 1.0004125645956772 0 1.0043275924442232\n",
    "\n",
    "# {'u_2': 5748489.160776663, 'v_1': 23430.26903522912}"
   ]
  },
  {
   "cell_type": "markdown",
   "metadata": {},
   "source": [
    "## Root function"
   ]
  },
  {
   "cell_type": "code",
   "execution_count": null,
   "metadata": {},
   "outputs": [],
   "source": [
    "import pickle\n",
    "\n",
    "model = pickle.load(open('models/pickles/apt_debt_model_2020-11-28.pickle', 'rb'))\n",
    "\n",
    "# ML debt model root function\n",
    "def G(x, to_opt, data, constant):\n",
    "    for i,y in enumerate(x):\n",
    "        data[:,to_opt[i]] = y\n",
    "    err = model.predict(data)[0] - constant\n",
    "    return err\n",
    "\n",
    "dpres = pickle.load(open('models/pickles/debt_market_OLS_model.pickle', 'rb'))\n",
    "\n",
    "def G_OLS(x, to_opt, data, constant):\n",
    "    for i,y in enumerate(x):\n",
    "        data[:,to_opt[i]] = y\n",
    "    err = dpres.predict(data)[0] - constant\n",
    "    #print(f'G_OLS err: {err}')\n",
    "    return err\n",
    "\n",
    "ml_data_list = []\n",
    "\n",
    "# Global minimizer function\n",
    "def glf(x, to_opt, data, constant, timestep):\n",
    "    for i,y in enumerate(x):\n",
    "        #print(x)\n",
    "        data[:,to_opt[i]] = y\n",
    "    err = model.predict(data)[0] - constant\n",
    "\n",
    "    df: pd.DataFrame = pd.read_pickle('exports/ml_data.pickle')\n",
    "    ml_data = pd.DataFrame([{'x': x, 'to_opt': to_opt, 'data': data, 'constant': constant, 'err': err}])\n",
    "    ml_data['timestep'] = timestep\n",
    "    try:\n",
    "        ml_data['iteration'] = df.iloc[-1]['iteration'] + 1\n",
    "    except IndexError:\n",
    "        ml_data['iteration'] = 0\n",
    "    df.append(ml_data, ignore_index=True).to_pickle('exports/ml_data.pickle')\n",
    "\n",
    "    #print(err)\n",
    "    return abs(err)"
   ]
  },
  {
   "cell_type": "markdown",
   "metadata": {},
   "source": [
    "# Model Configuration"
   ]
  },
  {
   "cell_type": "code",
   "execution_count": null,
   "metadata": {},
   "outputs": [],
   "source": [
    "eth_price = pd.DataFrame(debt_market_df['rho_star'])\n",
    "eth_p_mean = np.mean(eth_price.to_numpy().flatten())\n",
    "\n",
    "mar_price = pd.DataFrame(debt_market_df['p'])\n",
    "mar_p_mean = np.mean(mar_price.to_numpy().flatten())\n",
    "\n",
    "eth_returns = ((eth_price - eth_price.shift(1))/eth_price.shift(1)).to_numpy().flatten()\n",
    "eth_gross_returns = (eth_price / eth_price.shift(1)).to_numpy().flatten()\n",
    "\n",
    "eth_returns_mean = np.mean(eth_returns[1:])\n",
    "\n",
    "eth_p_mean, eth_returns_mean, mar_p_mean"
   ]
  },
  {
   "cell_type": "code",
   "execution_count": null,
   "metadata": {},
   "outputs": [],
   "source": [
    "#eth_collateral = 2500.0\n",
    "eth_price = eth_price.iloc[0] #386.71\n",
    "\n",
    "liquidation_ratio = 1.5 # 150%\n",
    "liquidation_buffer = 2\n",
    "#collateral_value = eth_collateral * eth_price\n",
    "target_price = 1.0\n",
    "#principal_debt = collateral_value / (target_price * liquidation_ratio * liquidation_buffer)\n",
    "\n",
    "# print(f'''\n",
    "# {principal_debt * target_price}\n",
    "# {collateral_value}\n",
    "# ''')"
   ]
  },
  {
   "cell_type": "code",
   "execution_count": null,
   "metadata": {},
   "outputs": [],
   "source": [
    "stability_fee = (historical_initial_state['beta'] * 30 / 365) / (30 * 24 * 3600)"
   ]
  },
  {
   "cell_type": "code",
   "execution_count": null,
   "metadata": {},
   "outputs": [],
   "source": [
    "# Create a \"genesis\" CDP\n",
    "\n",
    "genesis_cdp_count = 1\n",
    "\n",
    "cdp_list = []\n",
    "for i in range(genesis_cdp_count):\n",
    "    cdp_list.append({\n",
    "        'open': 1, # True/False == 1/0 for integer/float series\n",
    "        'time': 0,\n",
    "        'locked': historical_initial_state['v_1'],\n",
    "        'drawn': historical_initial_state['u_1'],\n",
    "        'wiped': historical_initial_state['u_2'],\n",
    "        'freed': 0.0,\n",
    "        'w_wiped': historical_initial_state['w_2'],\n",
    "        'v_bitten': historical_initial_state['v_2 + v_3'],\n",
    "        'u_bitten': historical_initial_state['u_3'],\n",
    "        'w_bitten': historical_initial_state['w_3'],\n",
    "        'dripped': 0.0\n",
    "    })\n",
    "\n",
    "cdps = pd.DataFrame(cdp_list)\n",
    "cdps"
   ]
  },
  {
   "cell_type": "code",
   "execution_count": null,
   "metadata": {},
   "outputs": [],
   "source": [
    "partial_results = pd.DataFrame()\n",
    "partial_results_file = 'exports/partial_results.pickle'\n",
    "partial_results.to_pickle(partial_results_file)\n",
    "\n",
    "ml_data = pd.DataFrame()\n",
    "ml_data_file = 'exports/ml_data.pickle'\n",
    "ml_data.to_pickle(ml_data_file)"
   ]
  },
  {
   "cell_type": "code",
   "execution_count": null,
   "metadata": {},
   "outputs": [],
   "source": [
    "initial_state = {\n",
    "    'events': [],\n",
    "    'cdps': cdps,\n",
    "    # Loaded from exogenous parameter\n",
    "    'eth_price': eth_price.iloc[0], # dollars\n",
    "    # v\n",
    "    'eth_collateral': historical_initial_state['Q'] * genesis_cdp_count, # Q\n",
    "    'eth_locked': historical_initial_state['v_1'] * genesis_cdp_count, # v1\n",
    "    'eth_freed': 0.0 * genesis_cdp_count, # v2\n",
    "    'eth_bitten': historical_initial_state['v_2 + v_3'] * genesis_cdp_count, # v3\n",
    "    'v_1': historical_initial_state['v_1'],\n",
    "    'v_2': 0.0,\n",
    "    'v_3': historical_initial_state['v_2 + v_3'],\n",
    "    # u\n",
    "    'principal_debt': historical_initial_state['D_1'] * genesis_cdp_count, # D1\n",
    "    'rai_drawn': historical_initial_state['u_1'] * genesis_cdp_count, # u1 \"minted\"\n",
    "    'rai_wiped': historical_initial_state['u_2'] * genesis_cdp_count, # u2\n",
    "    'rai_bitten': historical_initial_state['u_3'] * genesis_cdp_count, # u3\n",
    "    'u_1': historical_initial_state['u_1'],\n",
    "    'u_2': historical_initial_state['u_2'],\n",
    "    'u_3': historical_initial_state['u_3'],\n",
    "    # w\n",
    "    'w_1': historical_initial_state['w_1'],\n",
    "    'w_2': historical_initial_state['w_2'],\n",
    "    'w_3': historical_initial_state['w_3'],\n",
    "    'accrued_interest': historical_initial_state['D_2'] * genesis_cdp_count,\n",
    "    'stability_fee': stability_fee,\n",
    "    'market_price': debt_market_df.iloc[0]['p'],\n",
    "    'target_price': target_price, # dollars == redemption price\n",
    "    'target_rate': 0 / (30 * 24 * 3600), # per second interest rate (X% per month)\n",
    "    'p_expected': target_price,\n",
    "    'p_debt_expected': target_price,\n",
    "}\n",
    "\n",
    "initial_state.update(historical_initial_state)\n",
    "\n",
    "parameters = {\n",
    "    'debug': [True], # Print debug messages (see APT model)\n",
    "    'raise_on_assert': [False], # See assert_log() in utils.py\n",
    "    'test': [\n",
    "        {\n",
    "            'enable': False,\n",
    "            'params': {\n",
    "                'optimal_values': {\n",
    "                    'v_1': lambda timestep=0: historical_initial_state['v_1'],\n",
    "                    'v_2 + v_3': lambda timestep=0: historical_initial_state['v_2 + v_3'],\n",
    "                    'u_1': lambda timestep=0: historical_initial_state['u_1'],\n",
    "                    'u_2': lambda timestep=0: historical_initial_state['u_2']\n",
    "                }\n",
    "            }\n",
    "        },\n",
    "        # {\n",
    "        #     'enable': True,\n",
    "        #     'params': {\n",
    "        #         'optimal_values': {\n",
    "        #             'v_1': lambda timestep=0: 1000,\n",
    "        #             'v_2 + v_3': lambda timestep=0: 500,\n",
    "        #             'u_1': lambda timestep=0: 100,\n",
    "        #             'u_2': lambda timestep=0: 50\n",
    "        #         }\n",
    "        #     }\n",
    "        # },\n",
    "        # {\n",
    "        #     'enable': True,\n",
    "        #     'params': {\n",
    "        #         'optimal_values': {\n",
    "        #             'v_1': lambda timestep=0: 500,\n",
    "        #             'v_2 + v_3': lambda timestep=0: 1000,\n",
    "        #             'u_1': lambda timestep=0: 50,\n",
    "        #             'u_2': lambda timestep=0: 100\n",
    "        #         }\n",
    "        #     }\n",
    "        # }\n",
    "    ],\n",
    "    'free_memory_states': [['cdps', 'events']], #'cdps',\n",
    "    #'eth_market_std': [1],\n",
    "    #'random_state': [np.random.RandomState(seed=0)],\n",
    "    'liquidation_ratio': [liquidation_ratio], # %\n",
    "    'liquidation_buffer': [liquidation_buffer], # multiplier applied to CDP collateral by users\n",
    "    'stability_fee': [lambda timestep, df=debt_market_df: stability_fee], # df.iloc[timestep].beta / (365 * 24 * 3600), # per second interest rate (1.5% per month)\n",
    "    'liquidation_penalty': [0], # 0.13 == 13%\n",
    "    'cdp_top_up_buffer': [2],\n",
    "    # Average CDP duration == 3 months: https://www.placeholder.vc/blog/2019/3/1/maker-network-report\n",
    "    # The tuning of this parameter is probably off the average, because we don't have the CDP size distribution matched yet,\n",
    "    # so although the individual CDPs could have an average debt age of 3 months, the larger CDPs likely had a longer debt age.\n",
    "    'average_debt_age': [3 * (30 * 24 * 3600)], # delta t (seconds)\n",
    "    'eth_price': [lambda timestep, df=debt_market_df: df.iloc[timestep].rho_star],\n",
    "    #'v_1': [lambda state, _state_history, df=debt_market_df: df.iloc[state['timestep']].v_1], # Driven by historical data\n",
    "    #'u_1': [lambda timestep, df=debt_market_df: df.iloc[timestep].u_1], # Driven by historical data\n",
    "    'seconds_passed': [lambda timestep, df=debt_market_df: df.iloc[timestep].seconds_passed],\n",
    "    # 'market_price': [lambda timestep, df=debt_market_df: target_price],\n",
    "    # APT model\n",
    "    # **{\n",
    "    #     'use_APT_ML_model': [False],\n",
    "    #     'root_function': [G_OLS], # glf, G, G_OLS\n",
    "    #     'features': [features], # features_ml, features\n",
    "    # },\n",
    "    **{\n",
    "        'use_APT_ML_model': [True],\n",
    "        'root_function': [glf], # glf, G, G_OLS\n",
    "        'model': [model],\n",
    "        'features': [features_ml], # features_ml, features\n",
    "    },\n",
    "    'freeze_feature_vector': [False], # Use the same initial state as the feature vector for each timestep\n",
    "    'optvars': [optvars],\n",
    "    'bounds': [[(xmin,debt_market_df[optvars].max()[i]) \n",
    "        for i,xmin in enumerate(debt_market_df[optvars].min())\n",
    "        ]],\n",
    "    'interest_rate': [1.0],\n",
    "    'eth_p_mean': [eth_p_mean],\n",
    "    'eth_returns_mean': [eth_returns_mean],\n",
    "    'mar_p_mean': [mar_p_mean],\n",
    "    # APT OLS model\n",
    "    'alpha_0': [0],\n",
    "    'alpha_1': [1],\n",
    "    'beta_0': [1.0003953223600617],\n",
    "    'beta_1': [0.6756295152422528],\n",
    "    'beta_2': [3.86810578185312e-06],    \n",
    "    # Controller\n",
    "    'controller_enabled': [False],\n",
    "    'kp': [-1.5e-6], #5e-7 #proportional term for the stability controller: units 1/USD\n",
    "    'ki': [lambda control_period=3600: 0 / control_period], #-1e-7 #integral term for the stability controller: units 1/(USD*seconds)\n",
    "    'partial_results': [partial_results_file],\n",
    "}\n",
    "\n",
    "# parameters = parameters.update({\n",
    "#     'delta_v1': [lambda state, state_history: delta_v1(state, state_history)],\n",
    "#     'market_price': [lambda timestep, df=debt_market_df: df.iloc[timestep].p]\n",
    "# })"
   ]
  },
  {
   "cell_type": "markdown",
   "metadata": {},
   "source": [
    "# Simulation Execution"
   ]
  },
  {
   "cell_type": "code",
   "execution_count": null,
   "metadata": {},
   "outputs": [],
   "source": [
    "SIMULATION_TIMESTEPS = len(debt_market_df) - 1 # approx. 600\n",
    "MONTE_CARLO_RUNS = 1"
   ]
  },
  {
   "cell_type": "code",
   "execution_count": null,
   "metadata": {},
   "outputs": [],
   "source": [
    "from models.config_wrapper import ConfigWrapper\n",
    "import models.system_model_v2 as system_model_v2\n",
    "\n",
    "system_simulation = ConfigWrapper(system_model_v2, T=range(100), M=parameters, initial_state=initial_state)"
   ]
  },
  {
   "cell_type": "code",
   "execution_count": null,
   "metadata": {
    "tags": []
   },
   "outputs": [],
   "source": [
    "from cadCAD import configs\n",
    "del configs[:]\n",
    "\n",
    "system_simulation.append()\n",
    "\n",
    "(simulation_result, tensor_field, sessions) = run(drop_midsteps=True)"
   ]
  },
  {
   "cell_type": "code",
   "execution_count": null,
   "metadata": {},
   "outputs": [],
   "source": [
    "partial_results: pd.DataFrame = pd.read_pickle(partial_results_file)\n",
    "partial_results"
   ]
  },
  {
   "cell_type": "code",
   "execution_count": null,
   "metadata": {},
   "outputs": [],
   "source": [
    "partial_results.plot(x='timestamp', y=['eth_collateral', 'principal_debt'])"
   ]
  },
  {
   "cell_type": "code",
   "execution_count": null,
   "metadata": {},
   "outputs": [],
   "source": [
    "# ml_data: pd.DataFrame = pd.read_pickle(ml_data_file)\n",
    "# ml_data"
   ]
  },
  {
   "cell_type": "code",
   "execution_count": null,
   "metadata": {},
   "outputs": [],
   "source": [
    "\n",
    "# # ml_data.query('timestep == 1').plot(x='iteration', y='err_abs')\n",
    "\n",
    "# import plotly.express as px\n",
    "# ml_data: pd.DataFrame = pd.read_pickle(ml_data_file)\n",
    "# ml_data['err_abs'] = ml_data.err.abs()\n",
    "# ml_data = ml_data.query('timestep == 1')\n",
    "# fig = px.line(ml_data, x=\"iteration\", y=\"err_abs\", facet_col=\"timestep\", facet_col_wrap=2, log_y=True)\n",
    "# fig.update_yaxes(matches=None)\n",
    "# fig.update_xaxes(matches=None)\n",
    "# fig.show()"
   ]
  },
  {
   "cell_type": "code",
   "execution_count": null,
   "metadata": {},
   "outputs": [],
   "source": [
    "# Print system events e.g. liquidation assertion errors\n",
    "simulation_result[simulation_result.events.astype(bool)].events.apply(lambda x: x[0])"
   ]
  },
  {
   "cell_type": "markdown",
   "metadata": {},
   "source": [
    "# Simulation Analysis"
   ]
  },
  {
   "cell_type": "code",
   "execution_count": null,
   "metadata": {},
   "outputs": [],
   "source": [
    "#simulation_result = pd.concat([simulation_result, debt_market_df.reset_index()], axis=1)\n",
    "\n",
    "simulation_result = simulation_result.assign(eth_collateral_value = simulation_result.eth_collateral * simulation_result.eth_price)\n",
    "\n",
    "simulation_result['collateralization_ratio'] = (simulation_result.eth_collateral * simulation_result.eth_price) / (simulation_result.principal_debt * simulation_result.target_price)\n",
    "#simulation_result['historical_collateralization_ratio'] = (simulation_result.Q * simulation_result.rho_star) / (simulation_result.D_1 * simulation_result.p)\n",
    "\n",
    "pd.set_option('display.max_columns', 100)\n",
    "pd.set_option('display.max_rows', 50)\n",
    "\n",
    "simulation_result"
   ]
  },
  {
   "cell_type": "code",
   "execution_count": null,
   "metadata": {},
   "outputs": [],
   "source": [
    "from datetime import datetime\n",
    "simulation_result.to_csv(f'exports/simulation_results/simulation_result-{datetime.now()}.csv')"
   ]
  },
  {
   "cell_type": "code",
   "execution_count": null,
   "metadata": {},
   "outputs": [],
   "source": [
    "#simulation_result = pd.read_csv('simulation_result-2020-12-01 20_29_53.992604.csv')"
   ]
  },
  {
   "source": [
    "## Select simulation"
   ],
   "cell_type": "markdown",
   "metadata": {}
  },
  {
   "cell_type": "code",
   "execution_count": null,
   "metadata": {},
   "outputs": [],
   "source": [
    "df = simulation_result.query('simulation == 0 and subset == 0')"
   ]
  },
  {
   "cell_type": "markdown",
   "metadata": {},
   "source": [
    "## Historical ETH price: December 2017 to September 2019"
   ]
  },
  {
   "cell_type": "code",
   "execution_count": null,
   "metadata": {},
   "outputs": [],
   "source": [
    "df.plot(x='timestamp', y=['eth_price'])"
   ]
  },
  {
   "cell_type": "code",
   "execution_count": null,
   "metadata": {},
   "outputs": [],
   "source": [
    "df.plot(x='timestamp', y=['eth_return'])"
   ]
  },
  {
   "cell_type": "markdown",
   "metadata": {},
   "source": [
    "## Target price / redemption price set to 1 \"dollar\" for historical comparison"
   ]
  },
  {
   "cell_type": "code",
   "execution_count": null,
   "metadata": {},
   "outputs": [],
   "source": [
    "df.plot(x='timestamp', y=['target_price', 'market_price'])"
   ]
  },
  {
   "cell_type": "code",
   "execution_count": null,
   "metadata": {},
   "outputs": [],
   "source": [
    "df.plot(x='timestamp', y=['p_expected', 'p_debt_expected'])"
   ]
  },
  {
   "cell_type": "code",
   "execution_count": null,
   "metadata": {},
   "outputs": [],
   "source": [
    "df.plot(x='timestamp', y=['target_rate'])"
   ]
  },
  {
   "cell_type": "markdown",
   "metadata": {},
   "source": [
    "## Historical system ETH collateral vs. model"
   ]
  },
  {
   "cell_type": "code",
   "execution_count": null,
   "metadata": {},
   "outputs": [],
   "source": [
    "df['locked - freed - bitten'] = df['eth_locked'] - df['eth_freed'] - df['eth_bitten']\n",
    "df.plot(y=['eth_collateral', 'locked - freed - bitten']) #'Q'"
   ]
  },
  {
   "cell_type": "markdown",
   "metadata": {},
   "source": [
    "## Historical system ETH collateral value vs. model"
   ]
  },
  {
   "cell_type": "code",
   "execution_count": null,
   "metadata": {},
   "outputs": [],
   "source": [
    "df.plot(x='timestamp', y=['eth_collateral_value']) #'C_star'"
   ]
  },
  {
   "cell_type": "markdown",
   "metadata": {},
   "source": [
    "## Debt market ETH activity"
   ]
  },
  {
   "cell_type": "code",
   "execution_count": null,
   "metadata": {},
   "outputs": [],
   "source": [
    "df.plot(x='timestamp', y=['eth_locked', 'eth_freed', 'eth_bitten'])"
   ]
  },
  {
   "cell_type": "code",
   "execution_count": null,
   "metadata": {},
   "outputs": [],
   "source": [
    "df.plot(x='timestamp', y=['v_1', 'v_2', 'v_3'])"
   ]
  },
  {
   "cell_type": "markdown",
   "metadata": {},
   "source": [
    "## Debt market principal debt \"Rai\" activity"
   ]
  },
  {
   "cell_type": "code",
   "execution_count": null,
   "metadata": {},
   "outputs": [],
   "source": [
    "df['drawn - wiped - bitten'] = df['rai_drawn'] - df['rai_wiped'] - df['rai_bitten']\n",
    "df.plot(x='timestamp', y=['principal_debt', 'drawn - wiped - bitten']) #, 'D_1'"
   ]
  },
  {
   "cell_type": "code",
   "execution_count": null,
   "metadata": {},
   "outputs": [],
   "source": [
    "df.plot(x='timestamp', y=['rai_drawn', 'rai_wiped', 'rai_bitten'])"
   ]
  },
  {
   "cell_type": "code",
   "execution_count": null,
   "metadata": {},
   "outputs": [],
   "source": [
    "df.plot(x='timestamp', y=['u_1', 'u_2', 'u_3'])"
   ]
  },
  {
   "cell_type": "markdown",
   "metadata": {},
   "source": [
    "## Accrued interest and system revenue (MKR)"
   ]
  },
  {
   "cell_type": "code",
   "execution_count": null,
   "metadata": {},
   "outputs": [],
   "source": [
    "df.plot(x='timestamp', y=['w_1', 'w_2', 'w_3'])"
   ]
  },
  {
   "cell_type": "code",
   "execution_count": null,
   "metadata": {},
   "outputs": [],
   "source": [
    "df.plot(x='timestamp', y=['accrued_interest']) #, 'D_2'"
   ]
  },
  {
   "cell_type": "code",
   "execution_count": null,
   "metadata": {},
   "outputs": [],
   "source": [
    "df.plot(x='timestamp', y=['system_revenue'])"
   ]
  },
  {
   "cell_type": "markdown",
   "metadata": {},
   "source": [
    "## Historical collateralization ratio vs. model"
   ]
  },
  {
   "cell_type": "code",
   "execution_count": null,
   "metadata": {},
   "outputs": [],
   "source": [
    "df.plot(x='timestamp', y=['collateralization_ratio']) #, 'historical_collateralization_ratio'"
   ]
  },
  {
   "cell_type": "code",
   "execution_count": null,
   "metadata": {},
   "outputs": [],
   "source": []
  }
 ],
 "metadata": {
  "kernelspec": {
   "display_name": "Python (Reflexer)",
   "language": "python",
   "name": "python-reflexer"
  },
  "language_info": {
   "codemirror_mode": {
    "name": "ipython",
    "version": 3
   },
   "file_extension": ".py",
   "mimetype": "text/x-python",
   "name": "python",
   "nbconvert_exporter": "python",
   "pygments_lexer": "ipython3",
   "version": "3.8.6-final"
  }
 },
 "nbformat": 4,
 "nbformat_minor": 4
}