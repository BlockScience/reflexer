{
 "cells": [
  {
   "cell_type": "code",
   "execution_count": 1,
   "metadata": {},
   "outputs": [],
   "source": [
    "import pandas as pd\n",
    "import numpy as np\n",
    "%matplotlib inline\n",
    "import pandas as pd\n",
    "from FixedPoint import FXnum\n",
    "import datetime as dt\n",
    "from enum import Enum"
   ]
  },
  {
   "cell_type": "code",
   "execution_count": 2,
   "metadata": {},
   "outputs": [],
   "source": [
    "#python stores a file containing Kp, Ki and a time series of market prices \n",
    "#(an array of tuples, or two arrays, containing a timestamp and the price, \n",
    "#or the time elapsed and the price change - we can go with whatever is easier to implement on the JS side)\n",
    "\n",
    "#instead of file name being hardcoded, we could have it stored in an environment \n",
    "#variable that both python and JS read from\n",
    "Kp = .25/3600\n",
    "Ki = .25/3600**2\n",
    "t = 15\n",
    "delta_t = [3600] * t\n",
    "price = [1] + [1.01]*(t-1)\n",
    "\n",
    "config_file = {}\n",
    "config_file['timedelta'] = delta_t\n",
    "config_file['market_price'] = price\n",
    "config_file['kp'] = Kp\n",
    "config_file['ki'] = Ki\n",
    "\n",
    "import json\n",
    "with open('test/config_file.json', 'w') as fp:\n",
    "    json.dump(config_file, fp)"
   ]
  },
  {
   "cell_type": "code",
   "execution_count": 3,
   "metadata": {},
   "outputs": [],
   "source": [
    "#python script triggers execution of a solidity test script"
   ]
  },
  {
   "cell_type": "code",
   "execution_count": 4,
   "metadata": {},
   "outputs": [],
   "source": [
    "#solidity test script simulates contract execution according to the configuration and time series set in file (1)"
   ]
  },
  {
   "cell_type": "code",
   "execution_count": 5,
   "metadata": {},
   "outputs": [],
   "source": [
    "#solidity test script stores result of the simulation in a predetermined location"
   ]
  },
  {
   "cell_type": "code",
   "execution_count": 6,
   "metadata": {},
   "outputs": [],
   "source": [
    "from models.market_model.model.state_variables import state_variables\n",
    "\n",
    "def pre_process_initial_conditions(genesis_dict):\n",
    "    base_genesis_states = genesis_dict.copy()\n",
    "    for k in base_genesis_states.keys():\n",
    "        if k in config_file:\n",
    "            try:\n",
    "                base_genesis_states[k] = FXnum(config_file[k][0])\n",
    "            except:\n",
    "                base_genesis_states[k] = FXnum(config_file[k])\n",
    "    return base_genesis_states\n",
    "\n",
    "test_specific_initial_conditions = pre_process_initial_conditions(state_variables)"
   ]
  },
  {
   "cell_type": "code",
   "execution_count": 7,
   "metadata": {},
   "outputs": [],
   "source": [
    "from models.market_model.model.parts.sys_params import params\n",
    "\n",
    "def pre_process_params_dict(params_dict):\n",
    "    base_params_dict = params_dict.copy()\n",
    "    for k in config_file.keys():\n",
    "        if type(config_file[k]) == list:\n",
    "            base_params_dict[k] = [config_file[k]]\n",
    "        else:\n",
    "            base_params_dict[k] = [FXnum(config_file[k])]\n",
    "    return base_params_dict\n",
    "\n",
    "\n",
    "test_specific_params = pre_process_params_dict(params)"
   ]
  },
  {
   "cell_type": "code",
   "execution_count": 8,
   "metadata": {},
   "outputs": [],
   "source": [
    "T = 0\n",
    "for k in config_file.keys():\n",
    "    if type(config_file[k]) == list:\n",
    "        T = len(config_file[k])-1\n",
    "        break"
   ]
  },
  {
   "cell_type": "code",
   "execution_count": 9,
   "metadata": {},
   "outputs": [],
   "source": [
    "def test_specific_resolve_time_passed(params, substep, state_history, state):\n",
    "    index = state['timestep']+1\n",
    "    value = params['timedelta'][index]\n",
    "    return {'seconds_passed': value}\n",
    "\n",
    "def test_specific_update_market_price(params, substep, state_history, state, policy_input):\n",
    "    key = 'market_price'  \n",
    "    index = state['timestep']\n",
    "    value = params['market_price'][index]\n",
    "    return key, value\n",
    "\n",
    "\n",
    "from models.market_model.model.parts.controllers import *\n",
    "from models.market_model.model.parts.markets import *\n",
    "from models.market_model.model.partial_state_update_blocks import partial_state_update_blocks\n",
    "\n",
    "for psub in partial_state_update_blocks:\n",
    "    for psub_part in psub.values():\n",
    "        if type(psub_part)==dict:\n",
    "            for k,v in psub_part.items():\n",
    "                if v == resolve_time_passed:\n",
    "                    psub_part[k] = test_specific_resolve_time_passed\n",
    "                if v == update_market_price:\n",
    "                    psub_part[k] = test_specific_update_market_price"
   ]
  },
  {
   "cell_type": "code",
   "execution_count": 10,
   "metadata": {},
   "outputs": [
    {
     "name": "stdout",
     "output_type": "stream",
     "text": [
      "\n",
      "                  ___________    ____\n",
      "  ________ __ ___/ / ____/   |  / __ \\\n",
      " / ___/ __` / __  / /   / /| | / / / /\n",
      "/ /__/ /_/ / /_/ / /___/ ___ |/ /_/ /\n",
      "\\___/\\__,_/\\__,_/\\____/_/  |_/_____/\n",
      "by cadCAD\n",
      "\n",
      "Execution Mode: local_proc\n",
      "Configuration Count: 1\n",
      "Dimensions of the first simulation: (Timesteps, Params, Runs, Vars) = (14, 19, 1, 15)\n",
      "Execution Method: local_simulations\n",
      "SimIDs   : [0]\n",
      "SubsetIDs: [0]\n",
      "Ns       : [0]\n",
      "ExpIDs   : [0]\n",
      "Execution Mode: single_threaded\n",
      "Total execution time: 0.06s\n"
     ]
    }
   ],
   "source": [
    "from cadCAD.configuration.utils import config_sim\n",
    "from cadCAD.configuration import Experiment\n",
    "from cadCAD import configs\n",
    "\n",
    "del configs[:]\n",
    "\n",
    "exp = Experiment()\n",
    "\n",
    "sim_config_dict = {\n",
    "    'T': range(T),\n",
    "    'N': 1,\n",
    "    'M': test_specific_params\n",
    "}\n",
    "c = config_sim(sim_config_dict)\n",
    "\n",
    "\n",
    "exp.append_configs(initial_state=test_specific_initial_conditions, #dict containing variable names and initial values\n",
    "                       partial_state_update_blocks=partial_state_update_blocks, #dict containing state update functions\n",
    "                       sim_configs=c #preprocessed dictionaries containing simulation parameters\n",
    "                      )\n",
    "\n",
    "from cadCAD.engine import ExecutionMode, ExecutionContext, Executor\n",
    "exec_mode = ExecutionMode()\n",
    "local_mode_ctx = ExecutionContext(exec_mode.local_mode)\n",
    "executor = Executor(local_mode_ctx, configs) # Pass the configuration object inside an array\n",
    "raw_result, tensor, sessions = executor.execute() # The `execute()` method returns a tuple; its first elements contains the raw results"
   ]
  },
  {
   "cell_type": "code",
   "execution_count": 11,
   "metadata": {},
   "outputs": [],
   "source": [
    "full = pd.DataFrame(raw_result)"
   ]
  },
  {
   "cell_type": "code",
   "execution_count": 12,
   "metadata": {
    "scrolled": false
   },
   "outputs": [],
   "source": [
    "max_substep = max(full.substep)\n",
    "df = full.copy()\n",
    "df = df[(df.substep==max_substep) | (df.substep==0)]\n",
    "\n",
    "fx_cols = ['error_star', 'error_hat', 'old_error_star', 'old_error_hat',\n",
    "       'error_star_integral', 'error_hat_integral', 'error_star_derivative',\n",
    "       'error_hat_derivative', 'target_rate', 'target_price', 'market_price',\n",
    "       'debt_price', 'timedelta']\n",
    "for c in fx_cols:\n",
    "    df[c] = df[c].apply(float)"
   ]
  },
  {
   "cell_type": "code",
   "execution_count": 13,
   "metadata": {},
   "outputs": [
    {
     "data": {
      "text/plain": [
       "<matplotlib.axes._subplots.AxesSubplot at 0x118f777d0>"
      ]
     },
     "execution_count": 13,
     "metadata": {},
     "output_type": "execute_result"
    },
    {
     "data": {
      "image/png": "[encoded data removed]",
      "text/plain": [
       "<Figure size 432x288 with 1 Axes>"
      ]
     },
     "metadata": {
      "needs_background": "light"
     },
     "output_type": "display_data"
    }
   ],
   "source": [
    "df.plot(x='timestamp', y=['market_price','target_price'])"
   ]
  },
  {
   "cell_type": "code",
   "execution_count": 14,
   "metadata": {},
   "outputs": [
    {
     "data": {
      "text/plain": [
       "<matplotlib.axes._subplots.AxesSubplot at 0x11907cf50>"
      ]
     },
     "execution_count": 14,
     "metadata": {},
     "output_type": "execute_result"
    },
    {
     "data": {
      "image/png": "[encoded data removed]",
      "text/plain": [
       "<Figure size 432x288 with 1 Axes>"
      ]
     },
     "metadata": {
      "needs_background": "light"
     },
     "output_type": "display_data"
    }
   ],
   "source": [
    "df.plot(x='timestamp', y=['target_rate'])"
   ]
  },
  {
   "cell_type": "code",
   "execution_count": 15,
   "metadata": {},
   "outputs": [],
   "source": [
    "#python script stores result of the simulation in a predetermined location"
   ]
  },
  {
   "cell_type": "code",
   "execution_count": 16,
   "metadata": {},
   "outputs": [],
   "source": [
    "#jupyter notebook shows visualizations of the results from solidity \n",
    "#implementation and cadCAD model and error metrics"
   ]
  }
 ],
 "metadata": {
  "kernelspec": {
   "display_name": "Python 3.7.5 64-bit",
   "language": "python",
   "name": "python37564bita22b8e415f9a46fe91525bbc776092f3"
  },
  "language_info": {
   "codemirror_mode": {
    "name": "ipython",
    "version": 3
   },
   "file_extension": ".py",
   "mimetype": "text/x-python",
   "name": "python",
   "nbconvert_exporter": "python",
   "pygments_lexer": "ipython3",
   "version": "3.7.5"
  }
 },
 "nbformat": 4,
 "nbformat_minor": 2
}
