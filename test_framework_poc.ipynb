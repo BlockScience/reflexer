{
 "cells": [
  {
   "cell_type": "code",
   "execution_count": 1,
   "metadata": {},
   "outputs": [],
   "source": [
    "import pandas as pd\n",
    "import numpy as np\n",
    "%matplotlib inline\n",
    "import pandas as pd\n",
    "from FixedPoint import FXnum\n",
    "import datetime as dt\n",
    "from enum import Enum"
   ]
  },
  {
   "cell_type": "code",
   "execution_count": 2,
   "metadata": {},
   "outputs": [],
   "source": [
    "#python stores a file containing Kp, Ki and a time series of market prices \n",
    "#(an array of tuples, or two arrays, containing a timestamp and the price, \n",
    "#or the time elapsed and the price change - we can go with whatever is easier to implement on the JS side)\n",
    "\n",
    "#instead of file name being hardcoded, we could have it stored in an environment \n",
    "#variable that both python and JS read from\n",
    "Kp = .25/3600\n",
    "Ki = .25/3600**2\n",
    "t = 15\n",
    "delta_t = [3600] * t\n",
    "market_prices = [1] + [1.01]*(t-1)\n",
    "save_dir = \"test/saved_sims/pi_validator/raw/custom-config-sim.txt\"\n",
    "\n",
    "config_file = {\n",
    "  \"Kp\": str(int(Kp*1e18)),\n",
    "  \"Ki\": str(int(Ki*1e18)),\n",
    "  \"lower_precomputed_rate_allowed_deviation\": \"985000000000000000\",\n",
    "  \"upper_precomputed_rate_allowed_deviation\": \"980000000000000000\",\n",
    "  \"allowed_deviation_increase\": \"999970733618363951224236355\",\n",
    "  \"noise_barrier\": \"998000000000000000\",\n",
    "  \"per_second_leak\": \"999887377145733145451555483\",\n",
    "  \"min_rate_timeline\": \"2592000\",\n",
    "  \"oracle_initial_price\": \"4200000000000000000\",\n",
    "  \"initial_redemption_price\": \"4200000000000000000000000000\",\n",
    "  \"delta_t\": [str(i) for i in delta_t],\n",
    "  \"market_prices\": [str(int(i*1e18)) for i in market_prices],\n",
    "  \"save_dir\": save_dir\n",
    "}\n",
    "\n",
    "import json\n",
    "with open('../geb-rrfm-truffle-sims/test/config/pi_raw.json', 'w') as fp:\n",
    "    json.dump(config_file, fp)\n",
    "    \n",
    "config_file = {\n",
    "  \"kp\": Kp,\n",
    "  \"ki\": Ki,\n",
    "  \"lower_precomputed_rate_allowed_deviation\": 985000000000000000,\n",
    "  \"upper_precomputed_rate_allowed_deviation\": 980000000000000000,\n",
    "  \"allowed_deviation_increase\": 999970733618363951224236355,\n",
    "  \"noise_barrier\": 998000000000000000,\n",
    "  \"per_second_leak\": 999887377145733145451555483,\n",
    "  \"min_rate_timeline\": 2592000,\n",
    "  \"oracle_initial_price\": 4200000000000000000,\n",
    "  \"initial_redemption_price\": 4200000000000000000000000000,\n",
    "  \"delta_t\": delta_t,\n",
    "  \"market_prices\": market_prices,\n",
    "}\n",
    "\n"
   ]
  },
  {
   "cell_type": "code",
   "execution_count": 3,
   "metadata": {
    "scrolled": false
   },
   "outputs": [
    {
     "name": "stdout",
     "output_type": "stream",
     "text": [
      "\n",
      "> geb-rrfm-truffle-sims@1.0.0 pi-raw-imported-config /Users/markusbkoch/Documents/GitHub/geb-rrfm-truffle-sims\n",
      "> truffle test test/pi_raw_validator_imported_config.js\n",
      "\n",
      "\n",
      "Compiling your contracts...\n",
      "===========================\n",
      "> Compiling ./contracts/Migrations.sol\n",
      "> Compiling ./contracts/mock/AGUpdater.sol\n",
      "> Compiling ./contracts/mock/MockOracleRelayer.sol\n",
      "> Compiling ./contracts/mock/MockRateSetter.sol\n",
      "> Compiling ./contracts/mock/MockTreasury.sol\n",
      "> Compiling ./contracts/oracle/MockFeed.sol\n",
      "> Compiling ./contracts/setter/RateSetter.sol\n",
      "> Compiling ./contracts/setter/RateSetterMath.sol\n",
      "> Compiling ./contracts/token/Address.sol\n",
      "> Compiling ./contracts/token/Context.sol\n",
      "> Compiling ./contracts/token/ERC20.sol\n",
      "> Compiling ./contracts/token/IERC20.sol\n",
      "> Compiling ./contracts/token/OriginalSafeMath.sol\n",
      "> Compiling ./contracts/validator/math/SafeMath.sol\n",
      "> Compiling ./contracts/validator/math/SignedSafeMath.sol\n",
      "> Compiling ./contracts/validator/raw/PIRawValidator.sol\n",
      "> Compiling ./contracts/validator/raw/PRawValidator.sol\n",
      "> Compiling ./contracts/validator/scaled/PIScaledValidator.sol\n",
      "> Compiling ./contracts/validator/scaled/PScaledValidator.sol\n",
      "> Compilation warnings encountered:\n",
      "\n",
      "    /Users/markusbkoch/Documents/GitHub/geb-rrfm-truffle-sims/contracts/mock/MockRateSetter.sol:46:36: Warning: Unused function parameter. Remove or comment out the variable name to silence this warning.\n",
      "    function updateRate(uint seed, address feeReceiver) public {\n",
      "                                   ^-----------------^\n",
      ",/Users/markusbkoch/Documents/GitHub/geb-rrfm-truffle-sims/contracts/mock/MockRateSetter.sol:67:15: Warning: Unused try/catch parameter. Remove or comment out the variable name to silence this warning.\n",
      "        catch(bytes memory revertReason) {}\n",
      "              ^-----------------------^\n",
      ",/Users/markusbkoch/Documents/GitHub/geb-rrfm-truffle-sims/contracts/mock/MockTreasury.sol:107:24: Warning: Unused function parameter. Remove or comment out the variable name to silence this warning.\n",
      "    function pullFunds(address dstAccount, address token, uint wad) external {\n",
      "                       ^----------------^\n",
      ",/Users/markusbkoch/Documents/GitHub/geb-rrfm-truffle-sims/contracts/mock/MockTreasury.sol:107:44: Warning: Unused function parameter. Remove or comment out the variable name to silence this warning.\n",
      "    function pullFunds(address dstAccount, address token, uint wad) external {\n",
      "                                           ^-----------^\n",
      ",/Users/markusbkoch/Documents/GitHub/geb-rrfm-truffle-sims/contracts/mock/MockTreasury.sol:107:59: Warning: Unused function parameter. Remove or comment out the variable name to silence this warning.\n",
      "    function pullFunds(address dstAccount, address token, uint wad) external {\n",
      "                                                          ^------^\n",
      ",/Users/markusbkoch/Documents/GitHub/geb-rrfm-truffle-sims/contracts/validator/raw/PIRawValidator.sol:349:45: Warning: Unused local variable.\n",
      "        (int256 virtualDeviationCumulative, int256 nextTimeAdjustedDeviation) =\n",
      "                                            ^------------------------------^\n",
      ",/Users/markusbkoch/Documents/GitHub/geb-rrfm-truffle-sims/contracts/validator/raw/PRawValidator.sol:336:57: Warning: Unused function parameter. Remove or comment out the variable name to silence this warning.\n",
      "    function rt(uint marketPrice, uint redemptionPrice, uint IGNORED) external isReader view returns (uint256) {\n",
      "                                                        ^----------^\n",
      ",/Users/markusbkoch/Documents/GitHub/geb-rrfm-truffle-sims/contracts/validator/scaled/PIScaledValidator.sol:349:45: Warning: Unused local variable.\n",
      "        (int256 virtualDeviationCumulative, int256 nextTimeAdjustedDeviation) =\n",
      "                                            ^------------------------------^\n",
      ",/Users/markusbkoch/Documents/GitHub/geb-rrfm-truffle-sims/contracts/validator/scaled/PScaledValidator.sol:340:57: Warning: Unused function parameter. Remove or comment out the variable name to silence this warning.\n",
      "    function rt(uint marketPrice, uint redemptionPrice, uint IGNORED) external isReader view returns (uint256) {\n",
      "                                                        ^----------^\n",
      ",/Users/markusbkoch/Documents/GitHub/geb-rrfm-truffle-sims/contracts/mock/MockRateSetter.sol:73:5: Warning: Function state mutability can be restricted to view\n",
      "    function getRTAdjustedSeed(uint seed, uint marketPrice, uint redemptionPrice) public returns (uint256) {\n",
      "    ^ (Relevant source part starts here and spans across multiple lines).\n",
      ",/Users/markusbkoch/Documents/GitHub/geb-rrfm-truffle-sims/contracts/mock/MockTreasury.sol:107:5: Warning: Function state mutability can be restricted to pure\n",
      "    function pullFunds(address dstAccount, address token, uint wad) external {\n",
      "    ^ (Relevant source part starts here and spans across multiple lines).\n",
      "\n",
      "> Artifacts written to /var/folders/l2/bv68jbkj25q0r2xv_4605vph0000gn/T/test--28737-eFpWjZRRkMvX\n",
      "> Compiled successfully using:\n",
      "   - solc: 0.6.7+commit.b8d736ae.Emscripten.clang\n",
      "\n",
      "\n",
      "> Duplicate contract names found for OracleLike.\n",
      "> This can cause errors and unknown behavior. Please rename one of your contracts.\n",
      "\n",
      "> Duplicate contract names found for OracleRelayerLike.\n",
      "> This can cause errors and unknown behavior. Please rename one of your contracts.\n",
      "\n",
      "> Duplicate contract names found for PIDValidator.\n",
      "> This can cause errors and unknown behavior. Please rename one of your contracts.\n",
      "\n",
      "> Duplicate contract names found for OracleLike.\n",
      "> This can cause errors and unknown behavior. Please rename one of your contracts.\n",
      "\n",
      "> Duplicate contract names found for OracleRelayerLike.\n",
      "> This can cause errors and unknown behavior. Please rename one of your contracts.\n",
      "\n",
      "> Duplicate contract names found for StabilityFeeTreasuryLike.\n",
      "> This can cause errors and unknown behavior. Please rename one of your contracts.\n",
      "\n",
      "> Duplicate contract names found for OracleLike.\n",
      "> This can cause errors and unknown behavior. Please rename one of your contracts.\n",
      "\n",
      "> Duplicate contract names found for OracleRelayerLike.\n",
      "> This can cause errors and unknown behavior. Please rename one of your contracts.\n",
      "\n",
      "> Duplicate contract names found for StabilityFeeTreasuryLike.\n",
      "> This can cause errors and unknown behavior. Please rename one of your contracts.\n",
      "\n",
      "\u001b[0m\u001b[0m\n",
      "\u001b[0m  Contract: PIRawValidator Imported Config\u001b[0m\n",
      "  \u001b[32m  ✓\u001b[0m\u001b[90m should check that the deployment was successful\u001b[0m\u001b[31m (93ms)\u001b[0m\n",
      "  \u001b[32m  ✓\u001b[0m\u001b[90m simulate the raw PI controller using the custom JSON config\u001b[0m\u001b[31m (7349ms)\u001b[0m\n",
      "\n",
      "\n",
      "\u001b[92m \u001b[0m\u001b[32m 2 passing\u001b[0m\u001b[90m (10s)\u001b[0m\n",
      "\n"
     ]
    }
   ],
   "source": [
    "import os\n",
    "os.chdir('/Users/markusbkoch/Documents/GitHub/geb-rrfm-truffle-sims')\n",
    "!npm run pi-raw-imported-config"
   ]
  },
  {
   "cell_type": "markdown",
   "metadata": {},
   "source": [
    "[redemptionRate](https://github.com/reflexer-labs/geb-rrfm-truffle-sims/blob/master/contracts/mock/MockOracleRelayer.sol#L14) = $1+d_t$ (units: per second)  \n",
    "$p_{t+\\Delta{t}} = p_{t} (1+d_t)^{\\Delta{t}}$ where $\\Delta{t}$ is measured in seconds  \n",
    "Meaning:\n",
    "* $d_t > 0$ implies $redemptionRate > 1$  \n",
    "* $d_t < 0$ implies $redemptionRate < 1$  \n",
    "\n",
    "\n",
    "In the results dataset this is the PerSecondRedemptionRate column"
   ]
  },
  {
   "cell_type": "code",
   "execution_count": 4,
   "metadata": {},
   "outputs": [],
   "source": [
    "from models.market_model.model.state_variables import state_variables\n",
    "\n",
    "def pre_process_initial_conditions(genesis_dict):\n",
    "    base_genesis_states = genesis_dict.copy()\n",
    "    for k in base_genesis_states.keys():\n",
    "        if k in config_file:\n",
    "            try:\n",
    "                base_genesis_states[k] = FXnum(int(config_file[k][0]))\n",
    "            except:\n",
    "                base_genesis_states[k] = FXnum(int(config_file[k]))\n",
    "    return base_genesis_states\n",
    "\n",
    "test_specific_initial_conditions = pre_process_initial_conditions(state_variables)"
   ]
  },
  {
   "cell_type": "code",
   "execution_count": 5,
   "metadata": {},
   "outputs": [],
   "source": [
    "from models.market_model.model.parts.sys_params import params\n",
    "\n",
    "def pre_process_params_dict(params_dict):\n",
    "    base_params_dict = params_dict.copy()\n",
    "    for k in config_file.keys():\n",
    "        if type(config_file[k]) == list:\n",
    "            base_params_dict[k] = [config_file[k]]\n",
    "        else:\n",
    "            try:\n",
    "                base_params_dict[k] = [FXnum(config_file[k])]\n",
    "            except OverflowError:\n",
    "                print(config_file[k])\n",
    "                raise\n",
    "    return base_params_dict\n",
    "\n",
    "\n",
    "test_specific_params = pre_process_params_dict(params)"
   ]
  },
  {
   "cell_type": "code",
   "execution_count": 6,
   "metadata": {},
   "outputs": [],
   "source": [
    "T = 0\n",
    "for k in config_file.keys():\n",
    "    if type(config_file[k]) == list:\n",
    "        T = len(config_file[k])-1\n",
    "        break"
   ]
  },
  {
   "cell_type": "code",
   "execution_count": 7,
   "metadata": {},
   "outputs": [],
   "source": [
    "def test_specific_resolve_time_passed(params, substep, state_history, state):\n",
    "    index = state['timestep']+1\n",
    "    value = params['delta_t'][index]\n",
    "    return {'seconds_passed': value}\n",
    "\n",
    "def test_specific_update_market_price(params, substep, state_history, state, policy_input):\n",
    "    key = 'market_price'  \n",
    "    index = state['timestep']\n",
    "    value = params['market_prices'][index]\n",
    "    return key, value\n",
    "\n",
    "\n",
    "from models.market_model.model.parts.controllers import *\n",
    "from models.market_model.model.parts.markets import *\n",
    "from models.market_model.model.partial_state_update_blocks import partial_state_update_blocks\n",
    "\n",
    "for psub in partial_state_update_blocks:\n",
    "    for psub_part in psub.values():\n",
    "        if type(psub_part)==dict:\n",
    "            for k,v in psub_part.items():\n",
    "                if v == resolve_time_passed:\n",
    "                    psub_part[k] = test_specific_resolve_time_passed\n",
    "                if v == update_market_price:\n",
    "                    psub_part[k] = test_specific_update_market_price"
   ]
  },
  {
   "cell_type": "code",
   "execution_count": 8,
   "metadata": {
    "scrolled": false
   },
   "outputs": [
    {
     "name": "stdout",
     "output_type": "stream",
     "text": [
      "\n",
      "                  ___________    ____\n",
      "  ________ __ ___/ / ____/   |  / __ \\\n",
      " / ___/ __` / __  / /   / /| | / / / /\n",
      "/ /__/ /_/ / /_/ / /___/ ___ |/ /_/ /\n",
      "\\___/\\__,_/\\__,_/\\____/_/  |_/_____/\n",
      "by cadCAD\n",
      "\n",
      "Execution Mode: local_proc\n",
      "Configuration Count: 1\n",
      "Dimensions of the first simulation: (Timesteps, Params, Runs, Vars) = (14, 27, 1, 15)\n",
      "Execution Method: local_simulations\n",
      "SimIDs   : [0]\n",
      "SubsetIDs: [0]\n",
      "Ns       : [0]\n",
      "ExpIDs   : [0]\n",
      "Execution Mode: single_threaded\n",
      "Total execution time: 0.06s\n"
     ]
    }
   ],
   "source": [
    "from cadCAD.configuration.utils import config_sim\n",
    "from cadCAD.configuration import Experiment\n",
    "from cadCAD import configs\n",
    "\n",
    "del configs[:]\n",
    "\n",
    "exp = Experiment()\n",
    "\n",
    "sim_config_dict = {\n",
    "    'T': range(T),\n",
    "    'N': 1,\n",
    "    'M': test_specific_params\n",
    "}\n",
    "c = config_sim(sim_config_dict)\n",
    "\n",
    "\n",
    "exp.append_configs(initial_state=test_specific_initial_conditions, #dict containing variable names and initial values\n",
    "                       partial_state_update_blocks=partial_state_update_blocks, #dict containing state update functions\n",
    "                       sim_configs=c #preprocessed dictionaries containing simulation parameters\n",
    "                      )\n",
    "\n",
    "from cadCAD.engine import ExecutionMode, ExecutionContext, Executor\n",
    "exec_mode = ExecutionMode()\n",
    "local_mode_ctx = ExecutionContext(exec_mode.local_mode)\n",
    "executor = Executor(local_mode_ctx, configs) # Pass the configuration object inside an array\n",
    "raw_result, tensor, sessions = executor.execute() # The `execute()` method returns a tuple; its first elements contains the raw results"
   ]
  },
  {
   "cell_type": "code",
   "execution_count": 9,
   "metadata": {},
   "outputs": [],
   "source": [
    "full = pd.DataFrame(raw_result)"
   ]
  },
  {
   "cell_type": "code",
   "execution_count": 10,
   "metadata": {
    "scrolled": false
   },
   "outputs": [],
   "source": [
    "max_substep = max(full.substep)\n",
    "df = full.copy()\n",
    "df = df[(df.substep==max_substep) | (df.substep==0)]\n",
    "\n",
    "fx_cols = ['error_star', 'error_hat', 'old_error_star', 'old_error_hat',\n",
    "       'error_star_integral', 'error_hat_integral', 'error_star_derivative',\n",
    "       'error_hat_derivative', 'target_rate', 'target_price', 'market_price',\n",
    "       'debt_price', 'timedelta']\n",
    "for c in fx_cols:\n",
    "    df[c] = df[c].apply(float)"
   ]
  },
  {
   "cell_type": "code",
   "execution_count": 11,
   "metadata": {},
   "outputs": [],
   "source": [
    "data = pd.read_csv(save_dir, sep=\" \", header=None, skiprows=1)\n",
    "data.columns = [x.replace(' ','') for x in pd.read_csv(save_dir, sep=\"|\", nrows=1).columns]\n",
    "\n",
    "for c in data.columns:\n",
    "    data[c]=data[c].apply(float)\n",
    "#define normalizing constants\n",
    "WAD = 10**18\n",
    "RAY = 10**27\n",
    "RAD = 10**45\n",
    "#normalize data to \"USD\" dimension\n",
    "data['MarketPrice(USD)'] = data['MarketPrice(WAD)']/WAD\n",
    "data['RedemptionPrice(USD)'] = data['RedemptionPrice(RAY)']/RAY\n",
    "data['PerSecondRedemptionRate(float)'] = data['PerSecondRedemptionRate(RAY)']/RAY - 1\n",
    "data['time'] = data['DelaySinceLastUpdate'].cumsum()\n",
    "data['timestamp'] = state_variables['timestamp'] + data['time'].apply(lambda x: dt.timedelta(seconds=x))"
   ]
  },
  {
   "cell_type": "code",
   "execution_count": 12,
   "metadata": {},
   "outputs": [
    {
     "name": "stderr",
     "output_type": "stream",
     "text": [
      "/Library/Frameworks/Python.framework/Versions/3.7/lib/python3.7/site-packages/pandas/plotting/_matplotlib/converter.py:103: FutureWarning: Using an implicitly registered datetime converter for a matplotlib plotting method. The converter was registered by pandas on import. Future versions of pandas will require you to explicitly register matplotlib converters.\n",
      "\n",
      "To register the converters:\n",
      "\t>>> from pandas.plotting import register_matplotlib_converters\n",
      "\t>>> register_matplotlib_converters()\n",
      "  warnings.warn(msg, FutureWarning)\n"
     ]
    },
    {
     "data": {
      "image/png": "[encoded data removed]",
      "text/plain": [
       "<Figure size 1080x720 with 4 Axes>"
      ]
     },
     "metadata": {
      "needs_background": "light"
     },
     "output_type": "display_data"
    }
   ],
   "source": [
    "import matplotlib.pyplot as plt\n",
    "fig, axs = plt.subplots(2, 2, figsize=(15,10))\n",
    "i = 0\n",
    "axs.flat[i].plot(df['timestamp'], df['market_price'], label='Market')\n",
    "axs.flat[i].plot(df['timestamp'], df['target_price'], label='Target')\n",
    "axs.flat[i].set_ylabel('Python')\n",
    "axs.flat[i].set_title('Market and Target Price')\n",
    "axs.flat[i].legend()\n",
    "\n",
    "i += 1 \n",
    "axs.flat[i].plot(df['timestamp'], df['target_rate'])\n",
    "axs.flat[i].set_title('Per Second Redemption Rate')\n",
    "\n",
    "i += 1 \n",
    "axs.flat[i].plot(data['timestamp'], data['MarketPrice(USD)'], label='Market')\n",
    "axs.flat[i].plot(data['timestamp'], data['RedemptionPrice(USD)'], label='Target')\n",
    "axs.flat[i].legend()\n",
    "axs.flat[i].set_ylabel('Solidity')\n",
    "\n",
    "i += 1 \n",
    "axs.flat[i].plot(data['timestamp'], data['PerSecondRedemptionRate(float)'])\n",
    "\n",
    "\n",
    "fig.tight_layout()\n",
    "plt.show()"
   ]
  },
  {
   "cell_type": "code",
   "execution_count": 13,
   "metadata": {},
   "outputs": [],
   "source": [
    "#python script stores result of the simulation in a predetermined location"
   ]
  },
  {
   "cell_type": "code",
   "execution_count": 14,
   "metadata": {},
   "outputs": [],
   "source": [
    "#jupyter notebook shows visualizations of the results from solidity \n",
    "#implementation and cadCAD model and error metrics"
   ]
  }
 ],
 "metadata": {
  "kernelspec": {
   "display_name": "Python 3.7.5 64-bit",
   "language": "python",
   "name": "python37564bita22b8e415f9a46fe91525bbc776092f3"
  },
  "language_info": {
   "codemirror_mode": {
    "name": "ipython",
    "version": 3
   },
   "file_extension": ".py",
   "mimetype": "text/x-python",
   "name": "python",
   "nbconvert_exporter": "python",
   "pygments_lexer": "ipython3",
   "version": "3.7.5"
  }
 },
 "nbformat": 4,
 "nbformat_minor": 2
}
