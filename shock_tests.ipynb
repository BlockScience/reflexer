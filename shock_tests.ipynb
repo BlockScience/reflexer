{
 "cells": [
  {
   "cell_type": "markdown",
   "metadata": {
    "tags": [
     "papermill-error-cell-tag"
    ]
   },
   "source": [
    "<span style=\"color:red; font-family:Helvetica Neue, Helvetica, Arial, sans-serif; font-size:2em;\">An Exception was encountered at '<a href=\"#papermill-error-cell\">In [9]</a>'.</span>"
   ]
  },
  {
   "cell_type": "markdown",
   "metadata": {
    "papermill": {
     "duration": 0.012512,
     "end_time": "2020-10-23T12:08:10.018669",
     "exception": false,
     "start_time": "2020-10-23T12:08:10.006157",
     "status": "completed"
    },
    "tags": []
   },
   "source": [
    "# Imports"
   ]
  },
  {
   "cell_type": "code",
   "execution_count": 1,
   "metadata": {
    "execution": {
     "iopub.execute_input": "2020-10-23T12:08:10.043144Z",
     "iopub.status.busy": "2020-10-23T12:08:10.042458Z",
     "iopub.status.idle": "2020-10-23T12:08:11.049683Z",
     "shell.execute_reply": "2020-10-23T12:08:11.050058Z"
    },
    "papermill": {
     "duration": 1.021121,
     "end_time": "2020-10-23T12:08:11.050301",
     "exception": false,
     "start_time": "2020-10-23T12:08:10.029180",
     "status": "completed"
    },
    "tags": []
   },
   "outputs": [],
   "source": [
    "from shared import *\n",
    "from itertools import chain"
   ]
  },
  {
   "cell_type": "markdown",
   "metadata": {
    "papermill": {
     "duration": 0.008354,
     "end_time": "2020-10-23T12:08:11.066397",
     "exception": false,
     "start_time": "2020-10-23T12:08:11.058043",
     "status": "completed"
    },
    "tags": []
   },
   "source": [
    "# Parameters"
   ]
  },
  {
   "cell_type": "code",
   "execution_count": null,
   "metadata": {
    "papermill": {
     "duration": 0.007106,
     "end_time": "2020-10-23T12:08:11.082133",
     "exception": false,
     "start_time": "2020-10-23T12:08:11.075027",
     "status": "completed"
    },
    "tags": [
     "parameters"
    ]
   },
   "outputs": [],
   "source": []
  },
  {
   "cell_type": "code",
   "execution_count": 2,
   "metadata": {
    "execution": {
     "iopub.execute_input": "2020-10-23T12:08:11.100183Z",
     "iopub.status.busy": "2020-10-23T12:08:11.099359Z",
     "iopub.status.idle": "2020-10-23T12:08:11.101417Z",
     "shell.execute_reply": "2020-10-23T12:08:11.101776Z"
    },
    "papermill": {
     "duration": 0.012689,
     "end_time": "2020-10-23T12:08:11.101928",
     "exception": false,
     "start_time": "2020-10-23T12:08:11.089239",
     "status": "completed"
    },
    "tags": [
     "injected-parameters"
    ]
   },
   "outputs": [],
   "source": [
    "# Parameters\n",
    "kp_param = -0.0009000000000000001\n",
    "ki_param = 0\n"
   ]
  },
  {
   "cell_type": "code",
   "execution_count": 3,
   "metadata": {
    "execution": {
     "iopub.execute_input": "2020-10-23T12:08:11.120885Z",
     "iopub.status.busy": "2020-10-23T12:08:11.120204Z",
     "iopub.status.idle": "2020-10-23T12:08:11.122007Z",
     "shell.execute_reply": "2020-10-23T12:08:11.122332Z"
    },
    "papermill": {
     "duration": 0.012754,
     "end_time": "2020-10-23T12:08:11.122483",
     "exception": false,
     "start_time": "2020-10-23T12:08:11.109729",
     "status": "completed"
    },
    "tags": []
   },
   "outputs": [],
   "source": [
    "error_term = [\n",
    "    lambda target, measured: target - measured,\n",
    "    # lambda target, measured: (target - measured) / measured,\n",
    "    # lambda target, measured: (target - measured) / target\n",
    "]"
   ]
  },
  {
   "cell_type": "code",
   "execution_count": 4,
   "metadata": {
    "execution": {
     "iopub.execute_input": "2020-10-23T12:08:11.141767Z",
     "iopub.status.busy": "2020-10-23T12:08:11.141032Z",
     "iopub.status.idle": "2020-10-23T12:08:11.143466Z",
     "shell.execute_reply": "2020-10-23T12:08:11.143885Z"
    },
    "papermill": {
     "duration": 0.013504,
     "end_time": "2020-10-23T12:08:11.144062",
     "exception": false,
     "start_time": "2020-10-23T12:08:11.130558",
     "status": "completed"
    },
    "tags": []
   },
   "outputs": [],
   "source": [
    "integral_type = [options.IntegralType.LEAKY.value]"
   ]
  },
  {
   "cell_type": "markdown",
   "metadata": {
    "papermill": {
     "duration": 0.007419,
     "end_time": "2020-10-23T12:08:11.159195",
     "exception": false,
     "start_time": "2020-10-23T12:08:11.151776",
     "status": "completed"
    },
    "tags": []
   },
   "source": [
    "# Simulation Configuration"
   ]
  },
  {
   "cell_type": "code",
   "execution_count": 5,
   "metadata": {
    "execution": {
     "iopub.execute_input": "2020-10-23T12:08:11.177648Z",
     "iopub.status.busy": "2020-10-23T12:08:11.177116Z",
     "iopub.status.idle": "2020-10-23T12:08:11.179109Z",
     "shell.execute_reply": "2020-10-23T12:08:11.178657Z"
    },
    "papermill": {
     "duration": 0.01257,
     "end_time": "2020-10-23T12:08:11.179250",
     "exception": false,
     "start_time": "2020-10-23T12:08:11.166680",
     "status": "completed"
    },
    "tags": []
   },
   "outputs": [],
   "source": [
    "SIMULATION_TIMESTEPS = 24 * 30\n",
    "MONTE_CARLO_RUNS = 4"
   ]
  },
  {
   "cell_type": "code",
   "execution_count": 6,
   "metadata": {
    "execution": {
     "iopub.execute_input": "2020-10-23T12:08:11.201582Z",
     "iopub.status.busy": "2020-10-23T12:08:11.201046Z",
     "iopub.status.idle": "2020-10-23T12:08:11.202752Z",
     "shell.execute_reply": "2020-10-23T12:08:11.203087Z"
    },
    "papermill": {
     "duration": 0.016181,
     "end_time": "2020-10-23T12:08:11.203299",
     "exception": false,
     "start_time": "2020-10-23T12:08:11.187118",
     "status": "completed"
    },
    "tags": []
   },
   "outputs": [],
   "source": [
    "shock_amplitudes = [0.1, 0.5, 1.0]\n",
    "sinusoid_amplitude = 0.5\n",
    "sinusoid_frequency = 0.05\n",
    "\n",
    "shocks = list(\n",
    "    chain(\n",
    "        *[\n",
    "            [\n",
    "                lambda timestep, shock_amplitude=shock_amplitude: shock_amplitude\n",
    "                if timestep in [50, 100, 150, 200, 251, 301, 351, 401]\n",
    "                else (\n",
    "                    -shock_amplitude\n",
    "                    if timestep in [51, 101, 151, 201, 250, 300, 350, 400]\n",
    "                    else 0\n",
    "                ),\n",
    "                lambda timestep, shock_amplitude=shock_amplitude: shock_amplitude\n",
    "                if timestep == 50\n",
    "                else (-shock_amplitude if timestep == SIMULATION_TIMESTEPS / 2 else 0),\n",
    "                lambda timestep, shock_amplitude=shock_amplitude: shock_amplitude\n",
    "                / 50\n",
    "                * np.sin(timestep * sinusoid_frequency)\n",
    "                if timestep <= SIMULATION_TIMESTEPS / 2\n",
    "                else 0,\n",
    "            ]\n",
    "            for shock_amplitude in shock_amplitudes\n",
    "        ]\n",
    "    )\n",
    ") + [\n",
    "    lambda timestep: sinusoid_amplitude / 50 * np.sin(timestep * sinusoid_frequency),\n",
    "    lambda timestep: sinusoid_amplitude / 50 * np.sin(timestep * sinusoid_frequency),\n",
    "    lambda timestep: sinusoid_amplitude / 50 * np.sin(timestep * sinusoid_frequency),\n",
    "]\n",
    "\n",
    "control_delays = [(lambda _timestep: 1200) for _ in range(len(shocks) - 3)] + [\n",
    "    lambda timestep: 3600\n",
    "    if timestep in chain(range(50, 100), range(300, 350))\n",
    "    else 1200,\n",
    "    lambda timestep: 3600 * 2\n",
    "    if timestep in chain(range(50, 100), range(300, 350))\n",
    "    else 1200,\n",
    "    lambda timestep: 3600 * 3\n",
    "    if timestep in chain(range(50, 100), range(300, 350))\n",
    "    else 1200,\n",
    "]"
   ]
  },
  {
   "cell_type": "code",
   "execution_count": 7,
   "metadata": {
    "execution": {
     "iopub.execute_input": "2020-10-23T12:08:11.223139Z",
     "iopub.status.busy": "2020-10-23T12:08:11.222542Z",
     "iopub.status.idle": "2020-10-23T12:08:11.224755Z",
     "shell.execute_reply": "2020-10-23T12:08:11.225137Z"
    },
    "papermill": {
     "duration": 0.014256,
     "end_time": "2020-10-23T12:08:11.225301",
     "exception": false,
     "start_time": "2020-10-23T12:08:11.211045",
     "status": "completed"
    },
    "tags": []
   },
   "outputs": [],
   "source": [
    "\n",
    "import numpy as np\n",
    "from models.constants import SPY, RAY\n",
    "\n",
    "halflife = SPY / 52 #weeklong halflife\n",
    "# alpha = int(np.power(.5, float(1 / halflife)) * RAY)\n",
    "alpha = 1000000000000000000000000000"
   ]
  },
  {
   "cell_type": "code",
   "execution_count": 8,
   "metadata": {
    "execution": {
     "iopub.execute_input": "2020-10-23T12:08:11.246550Z",
     "iopub.status.busy": "2020-10-23T12:08:11.245951Z",
     "iopub.status.idle": "2020-10-23T12:08:11.490042Z",
     "shell.execute_reply": "2020-10-23T12:08:11.490592Z"
    },
    "papermill": {
     "duration": 0.257519,
     "end_time": "2020-10-23T12:08:11.490819",
     "exception": false,
     "start_time": "2020-10-23T12:08:11.233300",
     "status": "completed"
    },
    "tags": []
   },
   "outputs": [],
   "source": [
    "\n",
    "# Update parameter options\n",
    "update_params = {\n",
    "    # By using an Enum, we can self-document all possible options\n",
    "    options.DebtPriceSource.__name__: [options.DebtPriceSource.EXTERNAL.value],\n",
    "    options.MarketPriceSource.__name__: [options.MarketPriceSource.DEFAULT.value],\n",
    "    options.IntegralType.__name__: integral_type,\n",
    "    \"controller_enabled\": [True],\n",
    "    # A lambda that takes the timestep and returns the corresponding value\n",
    "    \"expected_control_delay\": control_delays,\n",
    "    \"price_move\": shocks,\n",
    "    \"kp\": [kp_param],\n",
    "    \"ki\": [lambda control_period=3600: ki_param / control_period],\n",
    "    # Select or sweep the error term calculation, as a lambda\n",
    "    # e.g. p*-p vs (p*-p)/p vs (p*-p)/p*\n",
    "    \"error_term\": error_term,\n",
    "    \"alpha\": [alpha]\n",
    "}\n",
    "\n",
    "update_initial_state = {\n",
    "    'target_price': 1.0,\n",
    "    'market_price': 1.0,\n",
    "    'debt_price': 1.0,\n",
    "}\n",
    "\n",
    "\"\"\"\n",
    "The ConfigWrapper allows you to pass a model as an argument, and update the simulation configuration.\n",
    "Maps (params, states) would be merge updated, and all other options are overrides.\n",
    "\"\"\"\n",
    "system_simulation = ConfigWrapper(\n",
    "    system_model, M=update_params, initial_state=update_initial_state, N=MONTE_CARLO_RUNS, T=range(SIMULATION_TIMESTEPS)\n",
    ")"
   ]
  },
  {
   "cell_type": "markdown",
   "metadata": {
    "papermill": {
     "duration": 0.011355,
     "end_time": "2020-10-23T12:08:11.513924",
     "exception": false,
     "start_time": "2020-10-23T12:08:11.502569",
     "status": "completed"
    },
    "tags": []
   },
   "source": [
    "# Simulation Execution"
   ]
  },
  {
   "cell_type": "markdown",
   "metadata": {
    "tags": [
     "papermill-error-cell-tag"
    ]
   },
   "source": [
    "<span id=\"papermill-error-cell\" style=\"color:red; font-family:Helvetica Neue, Helvetica, Arial, sans-serif; font-size:2em;\">Execution using papermill encountered an exception here and stopped:</span>"
   ]
  },
  {
   "cell_type": "code",
   "execution_count": 9,
   "metadata": {
    "execution": {
     "iopub.execute_input": "2020-10-23T12:08:11.550018Z",
     "iopub.status.busy": "2020-10-23T12:08:11.549268Z",
     "iopub.status.idle": "2020-10-23T12:08:16.054256Z",
     "shell.execute_reply": "2020-10-23T12:08:16.053724Z"
    },
    "papermill": {
     "duration": 4.524288,
     "end_time": "2020-10-23T12:08:16.054519",
     "exception": true,
     "start_time": "2020-10-23T12:08:11.530231",
     "status": "failed"
    },
    "tags": []
   },
   "outputs": [
    {
     "name": "stdout",
     "output_type": "stream",
     "text": [
      "\n",
      "                  ___________    ____\n",
      "  ________ __ ___/ / ____/   |  / __ \\\n",
      " / ___/ __` / __  / /   / /| | / / / /\n",
      "/ /__/ /_/ / /_/ / /___/ ___ |/ /_/ /\n",
      "\\___/\\__,_/\\__,_/\\____/_/  |_/_____/\n",
      "by cadCAD\n",
      "\n",
      "Execution Mode: local_proc\n",
      "Configuration Count: 12\n",
      "Dimensions of the first simulation: (Timesteps, Params, Runs, Vars) = (720, 23, 4, 15)\n",
      "Execution Method: local_simulations"
     ]
    },
    {
     "name": "stdout",
     "output_type": "stream",
     "text": [
      "\n",
      "SimIDs   : [0, 0, 0, 0, 1, 1, 1, 1, 2, 2, 2, 2, 3, 3, 3, 3, 4, 4, 4, 4, 5, 5, 5, 5, 6, 6, 6, 6, 7, 7, 7, 7, 8, 8, 8, 8, 9, 9, 9, 9, 10, 10, 10, 10, 11, 11, 11, 11]\n",
      "SubsetIDs: [0, 0, 0, 0, 1, 1, 1, 1, 2, 2, 2, 2, 3, 3, 3, 3, 4, 4, 4, 4, 5, 5, 5, 5, 6, 6, 6, 6, 7, 7, 7, 7, 8, 8, 8, 8, 9, 9, 9, 9, 10, 10, 10, 10, 11, 11, 11, 11]\n",
      "Ns       : [0, 1, 2, 3, 0, 1, 2, 3, 0, 1, 2, 3, 0, 1, 2, 3, 0, 1, 2, 3, 0, 1, 2, 3, 0, 1, 2, 3, 0, 1, 2, 3, 0, 1, 2, 3, 0, 1, 2, 3, 0, 1, 2, 3, 0, 1, 2, 3]\n",
      "ExpIDs   : [0, 0, 0, 0, 0, 0, 0, 0, 0, 0, 0, 0, 0, 0, 0, 0, 0, 0, 0, 0, 0, 0, 0, 0, 0, 0, 0, 0, 0, 0, 0, 0, 0, 0, 0, 0, 0, 0, 0, 0, 0, 0, 0, 0, 0, 0, 0, 0]\n",
      "Execution Mode: parallelized\n"
     ]
    },
    {
     "name": "stderr",
     "output_type": "stream",
     "text": [
      "/Users/bscholtz/workspace/reflexer/models/system_model/model/parts/controllers.py:26: RuntimeWarning: overflow encountered in double_scalars\n",
      "  target_price = state['target_price'] * (1 + state['target_rate'])**state['timedelta']\n",
      "/Users/bscholtz/workspace/reflexer/models/system_model/model/parts/controllers.py:11: RuntimeWarning: invalid value encountered in double_scalars\n",
      "  target_rate = params['kp'] * error + params['ki'](state['timedelta']) * error_integral\n",
      "/Users/bscholtz/workspace/reflexer/models/system_model/model/parts/markets.py:86: RuntimeWarning: invalid value encountered in double_scalars\n",
      "  star_dp = params['kp-star'] * star_error + params['ki-star'](state['timedelta']) * star_integral + params['kd-star'](state['timedelta']) * star_derivative\n"
     ]
    },
    {
     "ename": "OverflowError",
     "evalue": "(34, 'Result too large')",
     "output_type": "error",
     "traceback": [
      "\u001b[0;31m---------------------------------------------------------------------------\u001b[0m",
      "\u001b[0;31mOverflowError\u001b[0m                             Traceback (most recent call last)",
      "\u001b[0;32m<ipython-input-9-24107114d92b>\u001b[0m in \u001b[0;36m<module>\u001b[0;34m\u001b[0m\n\u001b[1;32m      3\u001b[0m \u001b[0msystem_simulation\u001b[0m\u001b[0;34m.\u001b[0m\u001b[0mappend\u001b[0m\u001b[0;34m(\u001b[0m\u001b[0;34m)\u001b[0m\u001b[0;34m\u001b[0m\u001b[0;34m\u001b[0m\u001b[0m\n\u001b[1;32m      4\u001b[0m \u001b[0;34m\u001b[0m\u001b[0m\n\u001b[0;32m----> 5\u001b[0;31m \u001b[0;34m(\u001b[0m\u001b[0mdata\u001b[0m\u001b[0;34m,\u001b[0m \u001b[0mtensor_field\u001b[0m\u001b[0;34m,\u001b[0m \u001b[0msessions\u001b[0m\u001b[0;34m)\u001b[0m \u001b[0;34m=\u001b[0m \u001b[0mrun\u001b[0m\u001b[0;34m(\u001b[0m\u001b[0mdrop_midsteps\u001b[0m\u001b[0;34m=\u001b[0m\u001b[0;32mTrue\u001b[0m\u001b[0;34m)\u001b[0m\u001b[0;34m\u001b[0m\u001b[0;34m\u001b[0m\u001b[0m\n\u001b[0m",
      "\u001b[0;32m~/workspace/reflexer/models/run.py\u001b[0m in \u001b[0;36mrun\u001b[0;34m(drop_midsteps)\u001b[0m\n\u001b[1;32m     12\u001b[0m     \u001b[0mresults\u001b[0m \u001b[0;34m=\u001b[0m \u001b[0mpd\u001b[0m\u001b[0;34m.\u001b[0m\u001b[0mDataFrame\u001b[0m\u001b[0;34m(\u001b[0m\u001b[0;34m)\u001b[0m\u001b[0;34m\u001b[0m\u001b[0;34m\u001b[0m\u001b[0m\n\u001b[1;32m     13\u001b[0m \u001b[0;34m\u001b[0m\u001b[0m\n\u001b[0;32m---> 14\u001b[0;31m     \u001b[0;34m(\u001b[0m\u001b[0msystem_events\u001b[0m\u001b[0;34m,\u001b[0m \u001b[0mtensor_field\u001b[0m\u001b[0;34m,\u001b[0m \u001b[0msessions\u001b[0m\u001b[0;34m)\u001b[0m \u001b[0;34m=\u001b[0m \u001b[0mrun\u001b[0m\u001b[0;34m.\u001b[0m\u001b[0mexecute\u001b[0m\u001b[0;34m(\u001b[0m\u001b[0;34m)\u001b[0m\u001b[0;34m\u001b[0m\u001b[0;34m\u001b[0m\u001b[0m\n\u001b[0m\u001b[1;32m     15\u001b[0m \u001b[0;34m\u001b[0m\u001b[0m\n\u001b[1;32m     16\u001b[0m     \u001b[0mdf\u001b[0m \u001b[0;34m=\u001b[0m \u001b[0mpd\u001b[0m\u001b[0;34m.\u001b[0m\u001b[0mDataFrame\u001b[0m\u001b[0;34m(\u001b[0m\u001b[0msystem_events\u001b[0m\u001b[0;34m)\u001b[0m\u001b[0;34m\u001b[0m\u001b[0;34m\u001b[0m\u001b[0m\n",
      "\u001b[0;32m~/workspace/reflexer/venv/lib/python3.8/site-packages/cadCAD/engine/__init__.py\u001b[0m in \u001b[0;36mexecute\u001b[0;34m(self)\u001b[0m\n\u001b[1;32m    149\u001b[0m \u001b[0;34m\u001b[0m\u001b[0m\n\u001b[1;32m    150\u001b[0m             \u001b[0mprint\u001b[0m\u001b[0;34m(\u001b[0m\u001b[0;34m\"Execution Method: \"\u001b[0m \u001b[0;34m+\u001b[0m \u001b[0mself\u001b[0m\u001b[0;34m.\u001b[0m\u001b[0mexec_method\u001b[0m\u001b[0;34m.\u001b[0m\u001b[0m__name__\u001b[0m\u001b[0;34m)\u001b[0m\u001b[0;34m\u001b[0m\u001b[0;34m\u001b[0m\u001b[0m\n\u001b[0;32m--> 151\u001b[0;31m             simulations_results = self.exec_method(\n\u001b[0m\u001b[1;32m    152\u001b[0m                 \u001b[0msim_executors\u001b[0m\u001b[0;34m,\u001b[0m \u001b[0mvar_dict_list\u001b[0m\u001b[0;34m,\u001b[0m \u001b[0mstates_lists\u001b[0m\u001b[0;34m,\u001b[0m \u001b[0mconfigs_structs\u001b[0m\u001b[0;34m,\u001b[0m \u001b[0menv_processes_list\u001b[0m\u001b[0;34m,\u001b[0m \u001b[0mTs\u001b[0m\u001b[0;34m,\u001b[0m \u001b[0mSimIDs\u001b[0m\u001b[0;34m,\u001b[0m \u001b[0mRunIDs\u001b[0m\u001b[0;34m,\u001b[0m\u001b[0;34m\u001b[0m\u001b[0;34m\u001b[0m\u001b[0m\n\u001b[1;32m    153\u001b[0m                 \u001b[0mExpIDs\u001b[0m\u001b[0;34m,\u001b[0m \u001b[0mSubsetIDs\u001b[0m\u001b[0;34m,\u001b[0m \u001b[0mSubsetWindows\u001b[0m\u001b[0;34m,\u001b[0m \u001b[0moriginal_N\u001b[0m\u001b[0;34m\u001b[0m\u001b[0;34m\u001b[0m\u001b[0m\n",
      "\u001b[0;32m~/workspace/reflexer/venv/lib/python3.8/site-packages/cadCAD/engine/execution.py\u001b[0m in \u001b[0;36mlocal_simulations\u001b[0;34m(simulation_execs, var_dict_list, states_lists, configs_structs, env_processes_list, Ts, SimIDs, Ns, ExpIDs, SubsetIDs, SubsetWindows, configured_n)\u001b[0m\n\u001b[1;32m    139\u001b[0m         \u001b[0;32melif\u001b[0m \u001b[0mconfig_amt\u001b[0m \u001b[0;34m>\u001b[0m \u001b[0;36m1\u001b[0m\u001b[0;34m:\u001b[0m \u001b[0;31m# and configured_n != 1 # and config_amt < remote_threshold\u001b[0m\u001b[0;34m\u001b[0m\u001b[0;34m\u001b[0m\u001b[0m\n\u001b[1;32m    140\u001b[0m             \u001b[0m_params\u001b[0m \u001b[0;34m=\u001b[0m \u001b[0mvar_dict_list\u001b[0m\u001b[0;34m\u001b[0m\u001b[0;34m\u001b[0m\u001b[0m\n\u001b[0;32m--> 141\u001b[0;31m             return parallelize_simulations(\n\u001b[0m\u001b[1;32m    142\u001b[0m                 \u001b[0msimulation_execs\u001b[0m\u001b[0;34m,\u001b[0m \u001b[0m_params\u001b[0m\u001b[0;34m,\u001b[0m \u001b[0mstates_lists\u001b[0m\u001b[0;34m,\u001b[0m \u001b[0mconfigs_structs\u001b[0m\u001b[0;34m,\u001b[0m \u001b[0menv_processes_list\u001b[0m\u001b[0;34m,\u001b[0m\u001b[0;34m\u001b[0m\u001b[0;34m\u001b[0m\u001b[0m\n\u001b[1;32m    143\u001b[0m                 \u001b[0mTs\u001b[0m\u001b[0;34m,\u001b[0m \u001b[0mSimIDs\u001b[0m\u001b[0;34m,\u001b[0m \u001b[0mNs\u001b[0m\u001b[0;34m,\u001b[0m \u001b[0mExpIDs\u001b[0m\u001b[0;34m,\u001b[0m \u001b[0mSubsetIDs\u001b[0m\u001b[0;34m,\u001b[0m \u001b[0mSubsetWindows\u001b[0m\u001b[0;34m,\u001b[0m \u001b[0mconfigured_n\u001b[0m\u001b[0;34m\u001b[0m\u001b[0;34m\u001b[0m\u001b[0m\n",
      "\u001b[0;32m~/workspace/reflexer/venv/lib/python3.8/site-packages/cadCAD/engine/execution.py\u001b[0m in \u001b[0;36mparallelize_simulations\u001b[0;34m(simulation_execs, var_dict_list, states_lists, configs_structs, env_processes_list, Ts, SimIDs, Ns, ExpIDs, SubsetIDs, SubsetWindows, configured_n)\u001b[0m\n\u001b[1;32m    101\u001b[0m     \u001b[0;31m# pp = PPool()\u001b[0m\u001b[0;34m\u001b[0m\u001b[0;34m\u001b[0m\u001b[0;34m\u001b[0m\u001b[0m\n\u001b[1;32m    102\u001b[0m     \u001b[0;31m# results = flatten(list(pp.map(lambda params: threaded_executor(params), new_params)))\u001b[0m\u001b[0;34m\u001b[0m\u001b[0;34m\u001b[0m\u001b[0;34m\u001b[0m\u001b[0m\n\u001b[0;32m--> 103\u001b[0;31m     \u001b[0mresults\u001b[0m \u001b[0;34m=\u001b[0m \u001b[0mflatten\u001b[0m\u001b[0;34m(\u001b[0m\u001b[0mlist\u001b[0m\u001b[0;34m(\u001b[0m\u001b[0mmap\u001b[0m\u001b[0;34m(\u001b[0m\u001b[0;32mlambda\u001b[0m \u001b[0mparams\u001b[0m\u001b[0;34m:\u001b[0m \u001b[0mthreaded_executor\u001b[0m\u001b[0;34m(\u001b[0m\u001b[0mparams\u001b[0m\u001b[0;34m)\u001b[0m\u001b[0;34m,\u001b[0m \u001b[0mnew_params\u001b[0m\u001b[0;34m)\u001b[0m\u001b[0;34m)\u001b[0m\u001b[0;34m)\u001b[0m\u001b[0;34m\u001b[0m\u001b[0;34m\u001b[0m\u001b[0m\n\u001b[0m\u001b[1;32m    104\u001b[0m     \u001b[0;31m# pp.close()\u001b[0m\u001b[0;34m\u001b[0m\u001b[0;34m\u001b[0m\u001b[0;34m\u001b[0m\u001b[0m\n\u001b[1;32m    105\u001b[0m     \u001b[0;31m# pp.join()\u001b[0m\u001b[0;34m\u001b[0m\u001b[0;34m\u001b[0m\u001b[0;34m\u001b[0m\u001b[0m\n",
      "\u001b[0;32m~/workspace/reflexer/venv/lib/python3.8/site-packages/cadCAD/engine/execution.py\u001b[0m in \u001b[0;36m<lambda>\u001b[0;34m(params)\u001b[0m\n\u001b[1;32m    101\u001b[0m     \u001b[0;31m# pp = PPool()\u001b[0m\u001b[0;34m\u001b[0m\u001b[0;34m\u001b[0m\u001b[0;34m\u001b[0m\u001b[0m\n\u001b[1;32m    102\u001b[0m     \u001b[0;31m# results = flatten(list(pp.map(lambda params: threaded_executor(params), new_params)))\u001b[0m\u001b[0;34m\u001b[0m\u001b[0;34m\u001b[0m\u001b[0;34m\u001b[0m\u001b[0m\n\u001b[0;32m--> 103\u001b[0;31m     \u001b[0mresults\u001b[0m \u001b[0;34m=\u001b[0m \u001b[0mflatten\u001b[0m\u001b[0;34m(\u001b[0m\u001b[0mlist\u001b[0m\u001b[0;34m(\u001b[0m\u001b[0mmap\u001b[0m\u001b[0;34m(\u001b[0m\u001b[0;32mlambda\u001b[0m \u001b[0mparams\u001b[0m\u001b[0;34m:\u001b[0m \u001b[0mthreaded_executor\u001b[0m\u001b[0;34m(\u001b[0m\u001b[0mparams\u001b[0m\u001b[0;34m)\u001b[0m\u001b[0;34m,\u001b[0m \u001b[0mnew_params\u001b[0m\u001b[0;34m)\u001b[0m\u001b[0;34m)\u001b[0m\u001b[0;34m)\u001b[0m\u001b[0;34m\u001b[0m\u001b[0;34m\u001b[0m\u001b[0m\n\u001b[0m\u001b[1;32m    104\u001b[0m     \u001b[0;31m# pp.close()\u001b[0m\u001b[0;34m\u001b[0m\u001b[0;34m\u001b[0m\u001b[0;34m\u001b[0m\u001b[0m\n\u001b[1;32m    105\u001b[0m     \u001b[0;31m# pp.join()\u001b[0m\u001b[0;34m\u001b[0m\u001b[0;34m\u001b[0m\u001b[0;34m\u001b[0m\u001b[0m\n",
      "\u001b[0;32m~/workspace/reflexer/venv/lib/python3.8/site-packages/cadCAD/engine/execution.py\u001b[0m in \u001b[0;36mthreaded_executor\u001b[0;34m(params)\u001b[0m\n\u001b[1;32m     90\u001b[0m         \u001b[0;32mif\u001b[0m \u001b[0mlen_configs_structs\u001b[0m \u001b[0;34m>\u001b[0m \u001b[0;36m1\u001b[0m\u001b[0;34m:\u001b[0m\u001b[0;34m\u001b[0m\u001b[0;34m\u001b[0m\u001b[0m\n\u001b[1;32m     91\u001b[0m             \u001b[0mtp\u001b[0m \u001b[0;34m=\u001b[0m \u001b[0mTPool\u001b[0m\u001b[0;34m(\u001b[0m\u001b[0;34m)\u001b[0m\u001b[0;34m\u001b[0m\u001b[0;34m\u001b[0m\u001b[0m\n\u001b[0;32m---> 92\u001b[0;31m             results = tp.map(\n\u001b[0m\u001b[1;32m     93\u001b[0m                 \u001b[0;32mlambda\u001b[0m \u001b[0mt\u001b[0m\u001b[0;34m:\u001b[0m \u001b[0mt\u001b[0m\u001b[0;34m[\u001b[0m\u001b[0;36m0\u001b[0m\u001b[0;34m]\u001b[0m\u001b[0;34m(\u001b[0m\u001b[0mt\u001b[0m\u001b[0;34m[\u001b[0m\u001b[0;36m1\u001b[0m\u001b[0;34m]\u001b[0m\u001b[0;34m,\u001b[0m \u001b[0mt\u001b[0m\u001b[0;34m[\u001b[0m\u001b[0;36m2\u001b[0m\u001b[0;34m]\u001b[0m\u001b[0;34m,\u001b[0m \u001b[0mt\u001b[0m\u001b[0;34m[\u001b[0m\u001b[0;36m3\u001b[0m\u001b[0;34m]\u001b[0m\u001b[0;34m,\u001b[0m \u001b[0mt\u001b[0m\u001b[0;34m[\u001b[0m\u001b[0;36m4\u001b[0m\u001b[0;34m]\u001b[0m\u001b[0;34m,\u001b[0m \u001b[0mt\u001b[0m\u001b[0;34m[\u001b[0m\u001b[0;36m5\u001b[0m\u001b[0;34m]\u001b[0m\u001b[0;34m,\u001b[0m \u001b[0mt\u001b[0m\u001b[0;34m[\u001b[0m\u001b[0;36m6\u001b[0m\u001b[0;34m]\u001b[0m\u001b[0;34m,\u001b[0m \u001b[0mt\u001b[0m\u001b[0;34m[\u001b[0m\u001b[0;36m7\u001b[0m\u001b[0;34m]\u001b[0m\u001b[0;34m,\u001b[0m \u001b[0mt\u001b[0m\u001b[0;34m[\u001b[0m\u001b[0;36m8\u001b[0m\u001b[0;34m]\u001b[0m\u001b[0;34m,\u001b[0m \u001b[0mt\u001b[0m\u001b[0;34m[\u001b[0m\u001b[0;36m9\u001b[0m\u001b[0;34m]\u001b[0m\u001b[0;34m,\u001b[0m \u001b[0mconfigured_n\u001b[0m\u001b[0;34m)\u001b[0m\u001b[0;34m,\u001b[0m \u001b[0mparams\u001b[0m\u001b[0;34m\u001b[0m\u001b[0;34m\u001b[0m\u001b[0m\n\u001b[1;32m     94\u001b[0m             )\n",
      "\u001b[0;32m~/workspace/reflexer/venv/lib/python3.8/site-packages/multiprocess/pool.py\u001b[0m in \u001b[0;36mmap\u001b[0;34m(self, func, iterable, chunksize)\u001b[0m\n\u001b[1;32m    362\u001b[0m         \u001b[0;32min\u001b[0m \u001b[0ma\u001b[0m \u001b[0mlist\u001b[0m \u001b[0mthat\u001b[0m \u001b[0;32mis\u001b[0m \u001b[0mreturned\u001b[0m\u001b[0;34m.\u001b[0m\u001b[0;34m\u001b[0m\u001b[0;34m\u001b[0m\u001b[0m\n\u001b[1;32m    363\u001b[0m         '''\n\u001b[0;32m--> 364\u001b[0;31m         \u001b[0;32mreturn\u001b[0m \u001b[0mself\u001b[0m\u001b[0;34m.\u001b[0m\u001b[0m_map_async\u001b[0m\u001b[0;34m(\u001b[0m\u001b[0mfunc\u001b[0m\u001b[0;34m,\u001b[0m \u001b[0miterable\u001b[0m\u001b[0;34m,\u001b[0m \u001b[0mmapstar\u001b[0m\u001b[0;34m,\u001b[0m \u001b[0mchunksize\u001b[0m\u001b[0;34m)\u001b[0m\u001b[0;34m.\u001b[0m\u001b[0mget\u001b[0m\u001b[0;34m(\u001b[0m\u001b[0;34m)\u001b[0m\u001b[0;34m\u001b[0m\u001b[0;34m\u001b[0m\u001b[0m\n\u001b[0m\u001b[1;32m    365\u001b[0m \u001b[0;34m\u001b[0m\u001b[0m\n\u001b[1;32m    366\u001b[0m     \u001b[0;32mdef\u001b[0m \u001b[0mstarmap\u001b[0m\u001b[0;34m(\u001b[0m\u001b[0mself\u001b[0m\u001b[0;34m,\u001b[0m \u001b[0mfunc\u001b[0m\u001b[0;34m,\u001b[0m \u001b[0miterable\u001b[0m\u001b[0;34m,\u001b[0m \u001b[0mchunksize\u001b[0m\u001b[0;34m=\u001b[0m\u001b[0;32mNone\u001b[0m\u001b[0;34m)\u001b[0m\u001b[0;34m:\u001b[0m\u001b[0;34m\u001b[0m\u001b[0;34m\u001b[0m\u001b[0m\n",
      "\u001b[0;32m~/workspace/reflexer/venv/lib/python3.8/site-packages/multiprocess/pool.py\u001b[0m in \u001b[0;36mget\u001b[0;34m(self, timeout)\u001b[0m\n\u001b[1;32m    769\u001b[0m             \u001b[0;32mreturn\u001b[0m \u001b[0mself\u001b[0m\u001b[0;34m.\u001b[0m\u001b[0m_value\u001b[0m\u001b[0;34m\u001b[0m\u001b[0;34m\u001b[0m\u001b[0m\n\u001b[1;32m    770\u001b[0m         \u001b[0;32melse\u001b[0m\u001b[0;34m:\u001b[0m\u001b[0;34m\u001b[0m\u001b[0;34m\u001b[0m\u001b[0m\n\u001b[0;32m--> 771\u001b[0;31m             \u001b[0;32mraise\u001b[0m \u001b[0mself\u001b[0m\u001b[0;34m.\u001b[0m\u001b[0m_value\u001b[0m\u001b[0;34m\u001b[0m\u001b[0;34m\u001b[0m\u001b[0m\n\u001b[0m\u001b[1;32m    772\u001b[0m \u001b[0;34m\u001b[0m\u001b[0m\n\u001b[1;32m    773\u001b[0m     \u001b[0;32mdef\u001b[0m \u001b[0m_set\u001b[0m\u001b[0;34m(\u001b[0m\u001b[0mself\u001b[0m\u001b[0;34m,\u001b[0m \u001b[0mi\u001b[0m\u001b[0;34m,\u001b[0m \u001b[0mobj\u001b[0m\u001b[0;34m)\u001b[0m\u001b[0;34m:\u001b[0m\u001b[0;34m\u001b[0m\u001b[0;34m\u001b[0m\u001b[0m\n",
      "\u001b[0;32m~/workspace/reflexer/venv/lib/python3.8/site-packages/multiprocess/pool.py\u001b[0m in \u001b[0;36mworker\u001b[0;34m(inqueue, outqueue, initializer, initargs, maxtasks, wrap_exception)\u001b[0m\n\u001b[1;32m    123\u001b[0m         \u001b[0mjob\u001b[0m\u001b[0;34m,\u001b[0m \u001b[0mi\u001b[0m\u001b[0;34m,\u001b[0m \u001b[0mfunc\u001b[0m\u001b[0;34m,\u001b[0m \u001b[0margs\u001b[0m\u001b[0;34m,\u001b[0m \u001b[0mkwds\u001b[0m \u001b[0;34m=\u001b[0m \u001b[0mtask\u001b[0m\u001b[0;34m\u001b[0m\u001b[0;34m\u001b[0m\u001b[0m\n\u001b[1;32m    124\u001b[0m         \u001b[0;32mtry\u001b[0m\u001b[0;34m:\u001b[0m\u001b[0;34m\u001b[0m\u001b[0;34m\u001b[0m\u001b[0m\n\u001b[0;32m--> 125\u001b[0;31m             \u001b[0mresult\u001b[0m \u001b[0;34m=\u001b[0m \u001b[0;34m(\u001b[0m\u001b[0;32mTrue\u001b[0m\u001b[0;34m,\u001b[0m \u001b[0mfunc\u001b[0m\u001b[0;34m(\u001b[0m\u001b[0;34m*\u001b[0m\u001b[0margs\u001b[0m\u001b[0;34m,\u001b[0m \u001b[0;34m**\u001b[0m\u001b[0mkwds\u001b[0m\u001b[0;34m)\u001b[0m\u001b[0;34m)\u001b[0m\u001b[0;34m\u001b[0m\u001b[0;34m\u001b[0m\u001b[0m\n\u001b[0m\u001b[1;32m    126\u001b[0m         \u001b[0;32mexcept\u001b[0m \u001b[0mException\u001b[0m \u001b[0;32mas\u001b[0m \u001b[0me\u001b[0m\u001b[0;34m:\u001b[0m\u001b[0;34m\u001b[0m\u001b[0;34m\u001b[0m\u001b[0m\n\u001b[1;32m    127\u001b[0m             \u001b[0;32mif\u001b[0m \u001b[0mwrap_exception\u001b[0m \u001b[0;32mand\u001b[0m \u001b[0mfunc\u001b[0m \u001b[0;32mis\u001b[0m \u001b[0;32mnot\u001b[0m \u001b[0m_helper_reraises_exception\u001b[0m\u001b[0;34m:\u001b[0m\u001b[0;34m\u001b[0m\u001b[0;34m\u001b[0m\u001b[0m\n",
      "\u001b[0;32m~/workspace/reflexer/venv/lib/python3.8/site-packages/multiprocess/pool.py\u001b[0m in \u001b[0;36mmapstar\u001b[0;34m(args)\u001b[0m\n\u001b[1;32m     46\u001b[0m \u001b[0;34m\u001b[0m\u001b[0m\n\u001b[1;32m     47\u001b[0m \u001b[0;32mdef\u001b[0m \u001b[0mmapstar\u001b[0m\u001b[0;34m(\u001b[0m\u001b[0margs\u001b[0m\u001b[0;34m)\u001b[0m\u001b[0;34m:\u001b[0m\u001b[0;34m\u001b[0m\u001b[0;34m\u001b[0m\u001b[0m\n\u001b[0;32m---> 48\u001b[0;31m     \u001b[0;32mreturn\u001b[0m \u001b[0mlist\u001b[0m\u001b[0;34m(\u001b[0m\u001b[0mmap\u001b[0m\u001b[0;34m(\u001b[0m\u001b[0;34m*\u001b[0m\u001b[0margs\u001b[0m\u001b[0;34m)\u001b[0m\u001b[0;34m)\u001b[0m\u001b[0;34m\u001b[0m\u001b[0;34m\u001b[0m\u001b[0m\n\u001b[0m\u001b[1;32m     49\u001b[0m \u001b[0;34m\u001b[0m\u001b[0m\n\u001b[1;32m     50\u001b[0m \u001b[0;32mdef\u001b[0m \u001b[0mstarmapstar\u001b[0m\u001b[0;34m(\u001b[0m\u001b[0margs\u001b[0m\u001b[0;34m)\u001b[0m\u001b[0;34m:\u001b[0m\u001b[0;34m\u001b[0m\u001b[0;34m\u001b[0m\u001b[0m\n",
      "\u001b[0;32m~/workspace/reflexer/venv/lib/python3.8/site-packages/cadCAD/engine/execution.py\u001b[0m in \u001b[0;36m<lambda>\u001b[0;34m(t)\u001b[0m\n\u001b[1;32m     91\u001b[0m             \u001b[0mtp\u001b[0m \u001b[0;34m=\u001b[0m \u001b[0mTPool\u001b[0m\u001b[0;34m(\u001b[0m\u001b[0;34m)\u001b[0m\u001b[0;34m\u001b[0m\u001b[0;34m\u001b[0m\u001b[0m\n\u001b[1;32m     92\u001b[0m             results = tp.map(\n\u001b[0;32m---> 93\u001b[0;31m                 \u001b[0;32mlambda\u001b[0m \u001b[0mt\u001b[0m\u001b[0;34m:\u001b[0m \u001b[0mt\u001b[0m\u001b[0;34m[\u001b[0m\u001b[0;36m0\u001b[0m\u001b[0;34m]\u001b[0m\u001b[0;34m(\u001b[0m\u001b[0mt\u001b[0m\u001b[0;34m[\u001b[0m\u001b[0;36m1\u001b[0m\u001b[0;34m]\u001b[0m\u001b[0;34m,\u001b[0m \u001b[0mt\u001b[0m\u001b[0;34m[\u001b[0m\u001b[0;36m2\u001b[0m\u001b[0;34m]\u001b[0m\u001b[0;34m,\u001b[0m \u001b[0mt\u001b[0m\u001b[0;34m[\u001b[0m\u001b[0;36m3\u001b[0m\u001b[0;34m]\u001b[0m\u001b[0;34m,\u001b[0m \u001b[0mt\u001b[0m\u001b[0;34m[\u001b[0m\u001b[0;36m4\u001b[0m\u001b[0;34m]\u001b[0m\u001b[0;34m,\u001b[0m \u001b[0mt\u001b[0m\u001b[0;34m[\u001b[0m\u001b[0;36m5\u001b[0m\u001b[0;34m]\u001b[0m\u001b[0;34m,\u001b[0m \u001b[0mt\u001b[0m\u001b[0;34m[\u001b[0m\u001b[0;36m6\u001b[0m\u001b[0;34m]\u001b[0m\u001b[0;34m,\u001b[0m \u001b[0mt\u001b[0m\u001b[0;34m[\u001b[0m\u001b[0;36m7\u001b[0m\u001b[0;34m]\u001b[0m\u001b[0;34m,\u001b[0m \u001b[0mt\u001b[0m\u001b[0;34m[\u001b[0m\u001b[0;36m8\u001b[0m\u001b[0;34m]\u001b[0m\u001b[0;34m,\u001b[0m \u001b[0mt\u001b[0m\u001b[0;34m[\u001b[0m\u001b[0;36m9\u001b[0m\u001b[0;34m]\u001b[0m\u001b[0;34m,\u001b[0m \u001b[0mconfigured_n\u001b[0m\u001b[0;34m)\u001b[0m\u001b[0;34m,\u001b[0m \u001b[0mparams\u001b[0m\u001b[0;34m\u001b[0m\u001b[0;34m\u001b[0m\u001b[0m\n\u001b[0m\u001b[1;32m     94\u001b[0m             )\n\u001b[1;32m     95\u001b[0m             \u001b[0mtp\u001b[0m\u001b[0;34m.\u001b[0m\u001b[0mclose\u001b[0m\u001b[0;34m(\u001b[0m\u001b[0;34m)\u001b[0m\u001b[0;34m\u001b[0m\u001b[0;34m\u001b[0m\u001b[0m\n",
      "\u001b[0;32m~/workspace/reflexer/venv/lib/python3.8/site-packages/cadCAD/engine/simulation.py\u001b[0m in \u001b[0;36msimulation\u001b[0;34m(self, sweep_dict, states_list, configs, env_processes, time_seq, simulation_id, run, subset_id, subset_window, configured_N, additional_objs)\u001b[0m\n\u001b[1;32m    248\u001b[0m \u001b[0;34m\u001b[0m\u001b[0m\n\u001b[1;32m    249\u001b[0m         pipe_run = flatten(\n\u001b[0;32m--> 250\u001b[0;31m             \u001b[0;34m[\u001b[0m\u001b[0mexecute_run\u001b[0m\u001b[0;34m(\u001b[0m\u001b[0msweep_dict\u001b[0m\u001b[0;34m,\u001b[0m \u001b[0mstates_list\u001b[0m\u001b[0;34m,\u001b[0m \u001b[0mconfigs\u001b[0m\u001b[0;34m,\u001b[0m \u001b[0menv_processes\u001b[0m\u001b[0;34m,\u001b[0m \u001b[0mtime_seq\u001b[0m\u001b[0;34m,\u001b[0m \u001b[0mrun\u001b[0m\u001b[0;34m)\u001b[0m\u001b[0;34m]\u001b[0m\u001b[0;34m\u001b[0m\u001b[0;34m\u001b[0m\u001b[0m\n\u001b[0m\u001b[1;32m    251\u001b[0m         )\n\u001b[1;32m    252\u001b[0m \u001b[0;34m\u001b[0m\u001b[0m\n",
      "\u001b[0;32m~/workspace/reflexer/venv/lib/python3.8/site-packages/cadCAD/engine/simulation.py\u001b[0m in \u001b[0;36mexecute_run\u001b[0;34m(sweep_dict, states_list, configs, env_processes, time_seq, _run)\u001b[0m\n\u001b[1;32m    240\u001b[0m             )\n\u001b[1;32m    241\u001b[0m \u001b[0;34m\u001b[0m\u001b[0m\n\u001b[0;32m--> 242\u001b[0;31m             first_timestep_per_run: List[Dict[str, Any]] = self.run_pipeline(\n\u001b[0m\u001b[1;32m    243\u001b[0m                 \u001b[0msweep_dict\u001b[0m\u001b[0;34m,\u001b[0m \u001b[0mstates_list_copy\u001b[0m\u001b[0;34m,\u001b[0m \u001b[0mconfigs\u001b[0m\u001b[0;34m,\u001b[0m \u001b[0menv_processes\u001b[0m\u001b[0;34m,\u001b[0m \u001b[0mtime_seq\u001b[0m\u001b[0;34m,\u001b[0m \u001b[0mrun\u001b[0m\u001b[0;34m,\u001b[0m \u001b[0madditional_objs\u001b[0m\u001b[0;34m\u001b[0m\u001b[0;34m\u001b[0m\u001b[0m\n\u001b[1;32m    244\u001b[0m             )\n",
      "\u001b[0;32m~/workspace/reflexer/venv/lib/python3.8/site-packages/cadCAD/engine/simulation.py\u001b[0m in \u001b[0;36mrun_pipeline\u001b[0;34m(self, sweep_dict, states_list, configs, env_processes, time_seq, run, additional_objs)\u001b[0m\n\u001b[1;32m    197\u001b[0m \u001b[0;34m\u001b[0m\u001b[0m\n\u001b[1;32m    198\u001b[0m         \u001b[0;32mfor\u001b[0m \u001b[0mtime_step\u001b[0m \u001b[0;32min\u001b[0m \u001b[0mtime_seq\u001b[0m\u001b[0;34m:\u001b[0m\u001b[0;34m\u001b[0m\u001b[0;34m\u001b[0m\u001b[0m\n\u001b[0;32m--> 199\u001b[0;31m             pipe_run: List[Dict[str, Any]] = self.state_update_pipeline(\n\u001b[0m\u001b[1;32m    200\u001b[0m                 \u001b[0msweep_dict\u001b[0m\u001b[0;34m,\u001b[0m \u001b[0msimulation_list\u001b[0m\u001b[0;34m,\u001b[0m \u001b[0mconfigs\u001b[0m\u001b[0;34m,\u001b[0m \u001b[0menv_processes\u001b[0m\u001b[0;34m,\u001b[0m \u001b[0mtime_step\u001b[0m\u001b[0;34m,\u001b[0m \u001b[0mrun\u001b[0m\u001b[0;34m,\u001b[0m \u001b[0madditional_objs\u001b[0m\u001b[0;34m\u001b[0m\u001b[0;34m\u001b[0m\u001b[0m\n\u001b[1;32m    201\u001b[0m             )\n",
      "\u001b[0;32m~/workspace/reflexer/venv/lib/python3.8/site-packages/cadCAD/engine/simulation.py\u001b[0m in \u001b[0;36mstate_update_pipeline\u001b[0;34m(self, sweep_dict, simulation_list, configs, env_processes, time_step, run, additional_objs)\u001b[0m\n\u001b[1;32m    172\u001b[0m         \u001b[0msub_step\u001b[0m \u001b[0;34m+=\u001b[0m \u001b[0;36m1\u001b[0m\u001b[0;34m\u001b[0m\u001b[0;34m\u001b[0m\u001b[0m\n\u001b[1;32m    173\u001b[0m         \u001b[0;32mfor\u001b[0m \u001b[0;34m[\u001b[0m\u001b[0ms_conf\u001b[0m\u001b[0;34m,\u001b[0m \u001b[0mp_conf\u001b[0m\u001b[0;34m]\u001b[0m \u001b[0;32min\u001b[0m \u001b[0mconfigs\u001b[0m\u001b[0;34m:\u001b[0m\u001b[0;34m\u001b[0m\u001b[0;34m\u001b[0m\u001b[0m\n\u001b[0;32m--> 174\u001b[0;31m             states_list: List[Dict[str, Any]] = self.partial_state_update(\n\u001b[0m\u001b[1;32m    175\u001b[0m                 \u001b[0msweep_dict\u001b[0m\u001b[0;34m,\u001b[0m \u001b[0msub_step\u001b[0m\u001b[0;34m,\u001b[0m \u001b[0mstates_list\u001b[0m\u001b[0;34m,\u001b[0m \u001b[0msimulation_list\u001b[0m\u001b[0;34m,\u001b[0m \u001b[0ms_conf\u001b[0m\u001b[0;34m,\u001b[0m \u001b[0mp_conf\u001b[0m\u001b[0;34m,\u001b[0m \u001b[0menv_processes\u001b[0m\u001b[0;34m,\u001b[0m \u001b[0mtime_step\u001b[0m\u001b[0;34m,\u001b[0m \u001b[0mrun\u001b[0m\u001b[0;34m,\u001b[0m\u001b[0;34m\u001b[0m\u001b[0;34m\u001b[0m\u001b[0m\n\u001b[1;32m    176\u001b[0m                 \u001b[0madditional_objs\u001b[0m\u001b[0;34m\u001b[0m\u001b[0;34m\u001b[0m\u001b[0m\n",
      "\u001b[0;32m~/workspace/reflexer/venv/lib/python3.8/site-packages/cadCAD/engine/simulation.py\u001b[0m in \u001b[0;36mpartial_state_update\u001b[0;34m(self, sweep_dict, sub_step, sL, sH, state_funcs, policy_funcs, env_processes, time_step, run, additional_objs)\u001b[0m\n\u001b[1;32m    138\u001b[0m             \u001b[0;32mreturn\u001b[0m \u001b[0mdestination\u001b[0m\u001b[0;34m\u001b[0m\u001b[0;34m\u001b[0m\u001b[0m\n\u001b[1;32m    139\u001b[0m \u001b[0;34m\u001b[0m\u001b[0m\n\u001b[0;32m--> 140\u001b[0;31m         \u001b[0mlast_in_copy\u001b[0m\u001b[0;34m:\u001b[0m \u001b[0mDict\u001b[0m\u001b[0;34m[\u001b[0m\u001b[0mstr\u001b[0m\u001b[0;34m,\u001b[0m \u001b[0mAny\u001b[0m\u001b[0;34m]\u001b[0m \u001b[0;34m=\u001b[0m \u001b[0mtransfer_missing_fields\u001b[0m\u001b[0;34m(\u001b[0m\u001b[0mlast_in_obj\u001b[0m\u001b[0;34m,\u001b[0m \u001b[0mdict\u001b[0m\u001b[0;34m(\u001b[0m\u001b[0mgenerate_record\u001b[0m\u001b[0;34m(\u001b[0m\u001b[0mstate_funcs\u001b[0m\u001b[0;34m)\u001b[0m\u001b[0;34m)\u001b[0m\u001b[0;34m)\u001b[0m\u001b[0;34m\u001b[0m\u001b[0;34m\u001b[0m\u001b[0m\n\u001b[0m\u001b[1;32m    141\u001b[0m         \u001b[0mlast_in_copy\u001b[0m\u001b[0;34m:\u001b[0m \u001b[0mDict\u001b[0m\u001b[0;34m[\u001b[0m\u001b[0mstr\u001b[0m\u001b[0;34m,\u001b[0m \u001b[0mAny\u001b[0m\u001b[0;34m]\u001b[0m \u001b[0;34m=\u001b[0m \u001b[0mself\u001b[0m\u001b[0;34m.\u001b[0m\u001b[0mapply_env_proc\u001b[0m\u001b[0;34m(\u001b[0m\u001b[0msweep_dict\u001b[0m\u001b[0;34m,\u001b[0m \u001b[0menv_processes\u001b[0m\u001b[0;34m,\u001b[0m \u001b[0mlast_in_copy\u001b[0m\u001b[0;34m)\u001b[0m\u001b[0;34m\u001b[0m\u001b[0;34m\u001b[0m\u001b[0m\n\u001b[1;32m    142\u001b[0m         \u001b[0mlast_in_copy\u001b[0m\u001b[0;34m[\u001b[0m\u001b[0;34m'substep'\u001b[0m\u001b[0;34m]\u001b[0m\u001b[0;34m,\u001b[0m \u001b[0mlast_in_copy\u001b[0m\u001b[0;34m[\u001b[0m\u001b[0;34m'timestep'\u001b[0m\u001b[0;34m]\u001b[0m\u001b[0;34m,\u001b[0m \u001b[0mlast_in_copy\u001b[0m\u001b[0;34m[\u001b[0m\u001b[0;34m'run'\u001b[0m\u001b[0;34m]\u001b[0m \u001b[0;34m=\u001b[0m \u001b[0msub_step\u001b[0m\u001b[0;34m,\u001b[0m \u001b[0mtime_step\u001b[0m\u001b[0;34m,\u001b[0m \u001b[0mrun\u001b[0m\u001b[0;34m\u001b[0m\u001b[0;34m\u001b[0m\u001b[0m\n",
      "\u001b[0;32m~/workspace/reflexer/venv/lib/python3.8/site-packages/cadCAD/engine/simulation.py\u001b[0m in \u001b[0;36mgenerate_record\u001b[0;34m(state_funcs)\u001b[0m\n\u001b[1;32m    129\u001b[0m                     \u001b[0;32mreturn\u001b[0m \u001b[0mself\u001b[0m\u001b[0;34m.\u001b[0m\u001b[0mstate_update_exception\u001b[0m\u001b[0;34m(\u001b[0m\u001b[0mf\u001b[0m\u001b[0;34m(\u001b[0m\u001b[0msweep_dict\u001b[0m\u001b[0;34m,\u001b[0m \u001b[0msub_step\u001b[0m\u001b[0;34m,\u001b[0m \u001b[0msH\u001b[0m\u001b[0;34m,\u001b[0m \u001b[0mlast_in_obj\u001b[0m\u001b[0;34m,\u001b[0m \u001b[0m_input\u001b[0m\u001b[0;34m,\u001b[0m \u001b[0madditional_objs\u001b[0m\u001b[0;34m)\u001b[0m\u001b[0;34m)\u001b[0m\u001b[0;34m\u001b[0m\u001b[0;34m\u001b[0m\u001b[0m\n\u001b[1;32m    130\u001b[0m             \u001b[0;32mfor\u001b[0m \u001b[0mf\u001b[0m \u001b[0;32min\u001b[0m \u001b[0mstate_funcs\u001b[0m\u001b[0;34m:\u001b[0m\u001b[0;34m\u001b[0m\u001b[0;34m\u001b[0m\u001b[0m\n\u001b[0;32m--> 131\u001b[0;31m                 \u001b[0;32myield\u001b[0m \u001b[0mstate_scope_tuner\u001b[0m\u001b[0;34m(\u001b[0m\u001b[0mf\u001b[0m\u001b[0;34m)\u001b[0m\u001b[0;34m\u001b[0m\u001b[0;34m\u001b[0m\u001b[0m\n\u001b[0m\u001b[1;32m    132\u001b[0m \u001b[0;34m\u001b[0m\u001b[0m\n\u001b[1;32m    133\u001b[0m         \u001b[0;32mdef\u001b[0m \u001b[0mtransfer_missing_fields\u001b[0m\u001b[0;34m(\u001b[0m\u001b[0msource\u001b[0m\u001b[0;34m,\u001b[0m \u001b[0mdestination\u001b[0m\u001b[0;34m)\u001b[0m\u001b[0;34m:\u001b[0m\u001b[0;34m\u001b[0m\u001b[0;34m\u001b[0m\u001b[0m\n",
      "\u001b[0;32m~/workspace/reflexer/venv/lib/python3.8/site-packages/cadCAD/engine/simulation.py\u001b[0m in \u001b[0;36mstate_scope_tuner\u001b[0;34m(f)\u001b[0m\n\u001b[1;32m    125\u001b[0m                 \u001b[0mlenf\u001b[0m \u001b[0;34m=\u001b[0m \u001b[0mf\u001b[0m\u001b[0;34m.\u001b[0m\u001b[0m__code__\u001b[0m\u001b[0;34m.\u001b[0m\u001b[0mco_argcount\u001b[0m\u001b[0;34m\u001b[0m\u001b[0;34m\u001b[0m\u001b[0m\n\u001b[1;32m    126\u001b[0m                 \u001b[0;32mif\u001b[0m \u001b[0mlenf\u001b[0m \u001b[0;34m==\u001b[0m \u001b[0;36m5\u001b[0m\u001b[0;34m:\u001b[0m\u001b[0;34m\u001b[0m\u001b[0;34m\u001b[0m\u001b[0m\n\u001b[0;32m--> 127\u001b[0;31m                     \u001b[0;32mreturn\u001b[0m \u001b[0mself\u001b[0m\u001b[0;34m.\u001b[0m\u001b[0mstate_update_exception\u001b[0m\u001b[0;34m(\u001b[0m\u001b[0mf\u001b[0m\u001b[0;34m(\u001b[0m\u001b[0msweep_dict\u001b[0m\u001b[0;34m,\u001b[0m \u001b[0msub_step\u001b[0m\u001b[0;34m,\u001b[0m \u001b[0msH\u001b[0m\u001b[0;34m,\u001b[0m \u001b[0mlast_in_obj\u001b[0m\u001b[0;34m,\u001b[0m \u001b[0m_input\u001b[0m\u001b[0;34m)\u001b[0m\u001b[0;34m)\u001b[0m\u001b[0;34m\u001b[0m\u001b[0;34m\u001b[0m\u001b[0m\n\u001b[0m\u001b[1;32m    128\u001b[0m                 \u001b[0;32melif\u001b[0m \u001b[0mlenf\u001b[0m \u001b[0;34m==\u001b[0m \u001b[0;36m6\u001b[0m\u001b[0;34m:\u001b[0m\u001b[0;34m\u001b[0m\u001b[0;34m\u001b[0m\u001b[0m\n\u001b[1;32m    129\u001b[0m                     \u001b[0;32mreturn\u001b[0m \u001b[0mself\u001b[0m\u001b[0;34m.\u001b[0m\u001b[0mstate_update_exception\u001b[0m\u001b[0;34m(\u001b[0m\u001b[0mf\u001b[0m\u001b[0;34m(\u001b[0m\u001b[0msweep_dict\u001b[0m\u001b[0;34m,\u001b[0m \u001b[0msub_step\u001b[0m\u001b[0;34m,\u001b[0m \u001b[0msH\u001b[0m\u001b[0;34m,\u001b[0m \u001b[0mlast_in_obj\u001b[0m\u001b[0;34m,\u001b[0m \u001b[0m_input\u001b[0m\u001b[0;34m,\u001b[0m \u001b[0madditional_objs\u001b[0m\u001b[0;34m)\u001b[0m\u001b[0;34m)\u001b[0m\u001b[0;34m\u001b[0m\u001b[0;34m\u001b[0m\u001b[0m\n",
      "\u001b[0;32m~/workspace/reflexer/models/system_model/model/parts/controllers.py\u001b[0m in \u001b[0;36mupdate_target_price\u001b[0;34m(params, substep, state_history, state, policy_input)\u001b[0m\n\u001b[1;32m     24\u001b[0m     \u001b[0mtarget_price\u001b[0m \u001b[0;34m=\u001b[0m \u001b[0mstate\u001b[0m\u001b[0;34m[\u001b[0m\u001b[0;34m'target_price'\u001b[0m\u001b[0;34m]\u001b[0m\u001b[0;34m\u001b[0m\u001b[0;34m\u001b[0m\u001b[0m\n\u001b[1;32m     25\u001b[0m     \u001b[0;32mtry\u001b[0m\u001b[0;34m:\u001b[0m\u001b[0;34m\u001b[0m\u001b[0;34m\u001b[0m\u001b[0m\n\u001b[0;32m---> 26\u001b[0;31m         \u001b[0mtarget_price\u001b[0m \u001b[0;34m=\u001b[0m \u001b[0mstate\u001b[0m\u001b[0;34m[\u001b[0m\u001b[0;34m'target_price'\u001b[0m\u001b[0;34m]\u001b[0m \u001b[0;34m*\u001b[0m \u001b[0;34m(\u001b[0m\u001b[0;36m1\u001b[0m \u001b[0;34m+\u001b[0m \u001b[0mstate\u001b[0m\u001b[0;34m[\u001b[0m\u001b[0;34m'target_rate'\u001b[0m\u001b[0;34m]\u001b[0m\u001b[0;34m)\u001b[0m\u001b[0;34m**\u001b[0m\u001b[0mstate\u001b[0m\u001b[0;34m[\u001b[0m\u001b[0;34m'timedelta'\u001b[0m\u001b[0;34m]\u001b[0m\u001b[0;34m\u001b[0m\u001b[0;34m\u001b[0m\u001b[0m\n\u001b[0m\u001b[1;32m     27\u001b[0m     \u001b[0;32mexcept\u001b[0m \u001b[0mOverflowError\u001b[0m\u001b[0;34m:\u001b[0m\u001b[0;34m\u001b[0m\u001b[0;34m\u001b[0m\u001b[0m\n\u001b[1;32m     28\u001b[0m         \u001b[0;31m# print(f'Controller target price OverflowError: target price {target_price}; target rate {state[\"target_rate\"]}')\u001b[0m\u001b[0;34m\u001b[0m\u001b[0;34m\u001b[0m\u001b[0;34m\u001b[0m\u001b[0m\n",
      "\u001b[0;31mOverflowError\u001b[0m: (34, 'Result too large')"
     ]
    }
   ],
   "source": [
    "del configs[:]\n",
    "\n",
    "system_simulation.append()\n",
    "\n",
    "(data, tensor_field, sessions) = run(drop_midsteps=True)"
   ]
  },
  {
   "cell_type": "markdown",
   "metadata": {
    "papermill": {
     "duration": null,
     "end_time": null,
     "exception": null,
     "start_time": null,
     "status": "pending"
    },
    "tags": []
   },
   "source": [
    "# Data Analysis"
   ]
  },
  {
   "cell_type": "code",
   "execution_count": null,
   "metadata": {
    "papermill": {
     "duration": null,
     "end_time": null,
     "exception": null,
     "start_time": null,
     "status": "pending"
    },
    "tags": []
   },
   "outputs": [],
   "source": [
    "df = data.copy()\n",
    "df"
   ]
  },
  {
   "cell_type": "code",
   "execution_count": null,
   "metadata": {
    "papermill": {
     "duration": null,
     "end_time": null,
     "exception": null,
     "start_time": null,
     "status": "pending"
    },
    "tags": []
   },
   "outputs": [],
   "source": [
    "kp = update_params[\"kp\"][0]\n",
    "ki = update_params[\"ki\"][0](3600)\n",
    "\n",
    "df = df.assign(**{'kp': kp, 'ki': ki})\n",
    "df.to_parquet(f'exports/shock_datasets/kp_{kp}_ki_{ki}.parquet.gzip', compression='gzip')"
   ]
  },
  {
   "cell_type": "code",
   "execution_count": null,
   "metadata": {
    "papermill": {
     "duration": null,
     "end_time": null,
     "exception": null,
     "start_time": null,
     "status": "pending"
    },
    "tags": []
   },
   "outputs": [],
   "source": [
    "df[\"target_rate_hourly\"] = df.target_rate  # * 3600\n",
    "df[\"error_star_derivative_scaled\"] = df.error_star_derivative * 3600\n",
    "df[\"error_hat_derivative_scaled\"] = df.error_star_derivative * 3600"
   ]
  },
  {
   "cell_type": "code",
   "execution_count": null,
   "metadata": {
    "papermill": {
     "duration": null,
     "end_time": null,
     "exception": null,
     "start_time": null,
     "status": "pending"
    },
    "tags": []
   },
   "outputs": [],
   "source": [
    "import plotly.graph_objects as go\n",
    "from plotly.subplots import make_subplots\n",
    "\n",
    "rows = len(shocks)\n",
    "\n",
    "fig = make_subplots(\n",
    "    rows=rows,\n",
    "    cols=5,\n",
    "    shared_xaxes=True,\n",
    "    shared_yaxes=\"rows\",\n",
    "    horizontal_spacing=0.01,\n",
    "    vertical_spacing=0.01,\n",
    "    column_titles=[\n",
    "        \"Shock\",\n",
    "        \"Response\",\n",
    "        \"Over/undershoot\",\n",
    "        \"Recovery metric\",\n",
    "        \"Response time\"\n",
    "    ],\n",
    "    row_titles=[\n",
    "        \"Impulse 0.01\",\n",
    "        \"Step 0.01\",\n",
    "        \"Sinusoid 0.01\",\n",
    "        \"Impulse 0.5\",\n",
    "        \"Step 0.5\",\n",
    "        \"Sinusoid 0.5\",\n",
    "        \"Impulse 1.0\",\n",
    "        \"Step 1.0\",\n",
    "        \"Sinusoid 1.0\",\n",
    "        \"3600s control delay\",\n",
    "        \"7200s control delay\",\n",
    "        \"10800s control delay\",\n",
    "    ],\n",
    "    specs=[\n",
    "        [\n",
    "            {\"type\": \"xy\"},\n",
    "            {\"type\": \"xy\"},\n",
    "            {\"type\": \"indicator\"},\n",
    "            {\"type\": \"indicator\"},\n",
    "            {\"type\": \"indicator\"},\n",
    "        ]\n",
    "        for _ in range(rows)\n",
    "    ],\n",
    ")\n",
    "\n",
    "for subset in range(df.subset.max() + 1):\n",
    "    dataset = df[df.subset == subset]\n",
    "\n",
    "    dataset[\"relative_diff\"] = df.market_price / df.debt_price\n",
    "    \n",
    "    overshoot_pct = (dataset.market_price.max() - dataset.debt_price.max()) / dataset.debt_price.max() * 100\n",
    "\n",
    "    reasonable_steady_state_error = 0.01\n",
    "    dataset[\"pct_error\"] = dataset[\"error_hat\"] / dataset[\"debt_price\"]\n",
    "    dataset[\"pct_error\"] = dataset[\"pct_error\"].abs()\n",
    "    recovery_metric = (\n",
    "        dataset[dataset.pct_error > reasonable_steady_state_error]\n",
    "        .groupby([\"run\"])[\"timedelta\"]\n",
    "        .sum()\n",
    "        .mean()\n",
    "        / 3600\n",
    "    )\n",
    "    \n",
    "    try:\n",
    "        pv_initial = dataset['debt_price'].iloc[0]\n",
    "        pv_max = dataset['debt_price'].max()\n",
    "\n",
    "        target_initial = dataset[dataset.target_price > pv_initial].iloc[0]\n",
    "        time_constant = dataset[dataset.target_price - pv_initial >= 0.63 * (pv_max - pv_initial)].iloc[0].timestamp - target_initial.timestamp\n",
    "        time_constant = time_constant / pd.Timedelta(hours=1)\n",
    "    except IndexError:\n",
    "        time_constant = -1\n",
    "\n",
    "    timesteps = dataset.timestep\n",
    "    grouped = dataset.groupby(\"timestep\", as_index=False)\n",
    "    mean = grouped.mean()\n",
    "    std = grouped.std()\n",
    "\n",
    "    row = subset + 1\n",
    "    show_legend = subset == 0\n",
    "\n",
    "    col = 1\n",
    "    fig.add_trace(\n",
    "        go.Scatter(\n",
    "            name=\"debt_price\",\n",
    "            x=dataset[dataset.run == 1].timestep,\n",
    "            y=dataset[dataset.run == 1][\"debt_price\"],\n",
    "            line_color=\"black\",\n",
    "            showlegend=False,\n",
    "        ),\n",
    "        row=row,\n",
    "        col=col,\n",
    "    )\n",
    "\n",
    "    col = 2\n",
    "    fig.add_trace(\n",
    "        go.Scatter(\n",
    "            name=\"debt_price\",\n",
    "            x=dataset[\"timestep\"],\n",
    "            y=mean[\"debt_price\"],\n",
    "            line_color=\"black\",\n",
    "            showlegend=show_legend,\n",
    "        ),\n",
    "        row=row,\n",
    "        col=col,\n",
    "    )\n",
    "    fig.add_trace(\n",
    "        go.Scatter(\n",
    "            name=\"target_price\",\n",
    "            x=dataset[\"timestep\"],\n",
    "            y=mean[\"target_price\"],\n",
    "            line_color=\"red\",\n",
    "            showlegend=show_legend,\n",
    "        ),\n",
    "        row=row,\n",
    "        col=col,\n",
    "    )\n",
    "    fig.add_trace(\n",
    "        go.Scatter(\n",
    "            name=\"market_price\",\n",
    "            x=dataset[\"timestep\"],\n",
    "            y=mean[\"market_price\"],\n",
    "            line_color=\"green\",\n",
    "            showlegend=show_legend,\n",
    "        ),\n",
    "        row=row,\n",
    "        col=col,\n",
    "    )\n",
    "\n",
    "    col = 3\n",
    "    fig.add_trace(\n",
    "        go.Indicator(\n",
    "            name=\"Over/undershoot\",\n",
    "            mode=\"number\",\n",
    "            value=overshoot_pct,\n",
    "            number={\"font\": {\"size\": 20}, \"suffix\": \"%\"},\n",
    "        ),\n",
    "        row=row,\n",
    "        col=col,\n",
    "    )\n",
    "\n",
    "    col = 4\n",
    "    fig.add_trace(\n",
    "        go.Indicator(\n",
    "            name=\"Recovery metric\",\n",
    "            mode=\"number\",\n",
    "            value=recovery_metric,\n",
    "            number={\"font\": {\"size\": 20}, \"suffix\": \" hours\"},\n",
    "        ),\n",
    "        row=row,\n",
    "        col=col,\n",
    "    )\n",
    "    \n",
    "    col = 5\n",
    "    fig.add_trace(\n",
    "        go.Indicator(\n",
    "            name=\"Time constant\",\n",
    "            mode=\"number\",\n",
    "            value=time_constant,\n",
    "            number={\"font\": {\"size\": 20}, \"suffix\": \" hours\"},\n",
    "        ),\n",
    "        row=row,\n",
    "        col=col,\n",
    "    )\n",
    "\n",
    "fig.update_layout(\n",
    "    title=f'Kp = {\"{:.4E}\".format(kp)}; Ki = {\"{:.4E}\".format(ki)}',\n",
    "    height=3000,\n",
    "    template=\"plotly_white\",\n",
    ")\n",
    "fig.show()\n",
    "fig.write_image(\n",
    "    f'exports/shock_metrics/kp_{\"{:.4E}\".format(kp)}-ki_{\"{:.4E}\".format(ki)}.png',\n",
    "    width=\"1800\",\n",
    ")\n",
    "fig.write_html(\n",
    "    f'exports/shock_metrics/kp_{\"{:.4E}\".format(kp)}-ki_{\"{:.4E}\".format(ki)}.html'\n",
    ")"
   ]
  },
  {
   "cell_type": "code",
   "execution_count": null,
   "metadata": {
    "papermill": {
     "duration": null,
     "end_time": null,
     "exception": null,
     "start_time": null,
     "status": "pending"
    },
    "tags": []
   },
   "outputs": [],
   "source": [
    "import plotly.graph_objects as go\n",
    "from plotly.subplots import make_subplots\n",
    "\n",
    "rows = len(shocks)\n",
    "\n",
    "fig = make_subplots(\n",
    "    rows=rows,\n",
    "    cols=1,\n",
    "    shared_xaxes=True,\n",
    "    shared_yaxes=\"rows\",\n",
    "    horizontal_spacing=0.01,\n",
    "    vertical_spacing=0.01,\n",
    "    column_titles=[\n",
    "        \"Market price / Debt price\"\n",
    "    ],\n",
    "    row_titles=[\n",
    "        \"Impulse 0.01\",\n",
    "        \"Step 0.01\",\n",
    "        \"Sinusoid 0.01\",\n",
    "        \"Impulse 0.5\",\n",
    "        \"Step 0.5\",\n",
    "        \"Sinusoid 0.5\",\n",
    "        \"Impulse 1.0\",\n",
    "        \"Step 1.0\",\n",
    "        \"Sinusoid 1.0\",\n",
    "        \"3600s control delay\",\n",
    "        \"7200s control delay\",\n",
    "        \"10800s control delay\",\n",
    "    ],\n",
    "    specs=[\n",
    "        [\n",
    "            {\"type\": \"xy\"},\n",
    "        ]\n",
    "        for _ in range(rows)\n",
    "    ],\n",
    ")\n",
    "\n",
    "for subset in range(df.subset.max() + 1):\n",
    "    dataset = df[df.subset == subset]\n",
    "\n",
    "    dataset[\"relative_diff\"] = df.market_price / df.debt_price\n",
    "    \n",
    "    overshoot_pct = (dataset.market_price.max() - dataset.debt_price.max()) / dataset.debt_price.max() * 100\n",
    "\n",
    "    reasonable_steady_state_error = 0.01\n",
    "    dataset[\"pct_error\"] = dataset[\"error_hat\"] / dataset[\"debt_price\"]\n",
    "    dataset[\"pct_error\"] = dataset[\"pct_error\"].abs()\n",
    "    recovery_metric = (\n",
    "        dataset[dataset.pct_error > reasonable_steady_state_error]\n",
    "        .groupby([\"run\"])[\"timedelta\"]\n",
    "        .sum()\n",
    "        .mean()\n",
    "        / 3600\n",
    "    )\n",
    "\n",
    "    timesteps = dataset.timestep\n",
    "    grouped = dataset.groupby(\"timestep\", as_index=False)\n",
    "    mean = grouped.mean()\n",
    "    std = grouped.std()\n",
    "\n",
    "    row = subset + 1\n",
    "    show_legend = subset == 0\n",
    "\n",
    "    col = 1\n",
    "    fig.add_trace(\n",
    "        go.Scatter(\n",
    "            x=timesteps,\n",
    "            y=mean[\"relative_diff\"] + std[\"relative_diff\"],\n",
    "            name=\"mean + std\",\n",
    "            mode=\"lines\",\n",
    "            line_color=\"blue\",\n",
    "            showlegend=show_legend,\n",
    "        ),\n",
    "        row=row,\n",
    "        col=col,\n",
    "    )\n",
    "    fig.add_trace(\n",
    "        go.Scatter(\n",
    "            x=timesteps,\n",
    "            y=mean[\"relative_diff\"],\n",
    "            name=\"mean\",\n",
    "            fill=\"tonexty\",\n",
    "            mode=\"lines\",\n",
    "            line_color=\"blue\",\n",
    "            showlegend=show_legend,\n",
    "        ),\n",
    "        row=row,\n",
    "        col=col,\n",
    "    )\n",
    "    fig.add_trace(\n",
    "        go.Scatter(\n",
    "            x=timesteps,\n",
    "            y=mean[\"relative_diff\"] - std[\"relative_diff\"],\n",
    "            name=\"mean - std\",\n",
    "            fill=\"tonexty\",\n",
    "            mode=\"lines\",\n",
    "            line_color=\"blue\",\n",
    "            showlegend=show_legend,\n",
    "        ),\n",
    "        row=row,\n",
    "        col=col,\n",
    "    )\n",
    "\n",
    "fig.update_layout(\n",
    "    title=f'Kp = {\"{:.4E}\".format(kp)}; Ki = {\"{:.4E}\".format(ki)}',\n",
    "    height=3000,\n",
    "    template=\"plotly_white\",\n",
    ")\n",
    "fig.show()\n",
    "fig.write_image(\n",
    "    f'exports/shock_std/kp_{\"{:.4E}\".format(kp)}-ki_{\"{:.4E}\".format(ki)}.png',\n",
    "    width=\"1800\",\n",
    ")\n",
    "fig.write_html(\n",
    "    f'exports/shock_std/kp_{\"{:.4E}\".format(kp)}-ki_{\"{:.4E}\".format(ki)}.html'\n",
    ")"
   ]
  }
 ],
 "metadata": {
  "jupytext": {
   "cell_metadata_filter": "tags,-all"
  },
  "kernelspec": {
   "display_name": "Python (Reflexer)",
   "language": "python",
   "name": "python-reflexer"
  },
  "language_info": {
   "codemirror_mode": {
    "name": "ipython",
    "version": 3
   },
   "file_extension": ".py",
   "mimetype": "text/x-python",
   "name": "python",
   "nbconvert_exporter": "python",
   "pygments_lexer": "ipython3",
   "version": "3.8.6"
  },
  "papermill": {
   "default_parameters": {},
   "duration": 8.253446,
   "end_time": "2020-10-23T12:08:17.322799",
   "environment_variables": {},
   "exception": true,
   "input_path": "-",
   "output_path": "./shock_tests.ipynb",
   "parameters": {
    "ki_param": 0,
    "kp_param": -0.0009000000000000001
   },
   "start_time": "2020-10-23T12:08:09.069353",
   "version": "2.2.0"
  }
 },
 "nbformat": 4,
 "nbformat_minor": 4
}